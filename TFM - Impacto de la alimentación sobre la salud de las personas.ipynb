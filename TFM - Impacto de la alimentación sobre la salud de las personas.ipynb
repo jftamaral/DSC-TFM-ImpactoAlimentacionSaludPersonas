{
 "cells": [
  {
   "cell_type": "markdown",
   "metadata": {},
   "source": [
    "![Nuclio logo](https://nuclio.school/wp-content/uploads/2018/12/nucleoDS-newBlack.png)"
   ]
  },
  {
   "cell_type": "markdown",
   "metadata": {},
   "source": [
    "# TFM - Impacto de la alimentación sobre la salud de las personas\n",
    "\n",
    "## Tabla de Contenidos\n",
    "* [1. Introducción](#introduccion)\n",
    "    * [1.1. Importar Librerias](#librerias)\n",
    "    * [1.2. Importar datos](#data)\n",
    "        * [1.2.1. Consumo de alimentos por CC.AA.](#consumos)\n",
    "        * [1.2.2. Población por CC.AA.](#poblacion)\n",
    "        * [1.2.3. Muertes por diabetes mellitus por CC.AA](#diabetes)\n",
    "\n",
    "\n",
    "       \n",
    "* [2. Extracción y limpieza de los datos](#etl)\n",
    "    * [2.1. Selección de las familias de alimentos relacionadas con la diabetes](#familias_diabetes)\n",
    "    * [2.2. Normalización de consumos de alimentos con la poblacion de las CC.AA.](#normalizacion_consumos)\n",
    "    * [2.3. Transformación dataset de muertes por diabetes mellitus por CC.AA.](#etl_diabetes)\n",
    "\n",
    "\n",
    "       \n",
    "* [3. Análisis de los datos](#analisis)\n",
    "    * [3.1. Clustering de CC.AA.](#clustering)"
   ]
  },
  {
   "cell_type": "markdown",
   "metadata": {},
   "source": [
    "# 1. Introducción <a class=\"anchor\" id=\"introduccion\"></a>"
   ]
  },
  {
   "cell_type": "markdown",
   "metadata": {},
   "source": [
    "## 1.1. Importar Librerías<a class=\"anchor\" id=\"librerias\"></a>"
   ]
  },
  {
   "cell_type": "code",
   "execution_count": 1133,
   "metadata": {},
   "outputs": [],
   "source": [
    "import os\n",
    "import numpy as np\n",
    "import pandas as pd\n",
    "from datetime import datetime\n",
    "\n",
    "from matplotlib import pyplot as plt\n",
    "import plotly.express as px"
   ]
  },
  {
   "cell_type": "markdown",
   "metadata": {},
   "source": [
    "## 1.2. Importar datos <a class=\"anchor\" id=\"data\"></a>"
   ]
  },
  {
   "cell_type": "markdown",
   "metadata": {},
   "source": [
    "### 1.2.1. Consumos por CC.AA. <a class=\"anchor\" id=\"consumos\"></a>"
   ]
  },
  {
   "cell_type": "code",
   "execution_count": 1134,
   "metadata": {},
   "outputs": [],
   "source": [
    "PATH_COMUNIDADES = 'data/comunidades/'"
   ]
  },
  {
   "cell_type": "code",
   "execution_count": 1135,
   "metadata": {},
   "outputs": [],
   "source": [
    "# Leemos los nombres de los ficheros\n",
    "paths_comunidades = [path for path in os.listdir(PATH_COMUNIDADES) if path.endswith('.xlsx')]\n",
    "\n",
    "# Creamos una lista para ir añadiendo los dataframes leidos\n",
    "dfs = list()\n",
    "\n",
    "for path_comunidad in paths_comunidades:\n",
    "    # Extraemos el nombre de la comunidad\n",
    "    nombre_comunidad = os.path.splitext(path_comunidad)[0]\n",
    "\n",
    "    # Leemos el fichero, reseteamos el index y le cambiamos el nombre de la columna a ID\n",
    "    fichero = pd.read_excel('./data/comunidades/'+path_comunidad).reset_index(drop=True).rename(columns={'Unnamed: 0': 'ID'})\n",
    "\n",
    "    # Descartamos las filas donde el la columna BIO no es nula y asignamos el nombre de la comunidad a una nueva columna.\n",
    "    fichero_sin_bio = fichero[fichero['SEGMENTO BIO'].isna()].reset_index(drop=True).assign(COMUNIDAD=nombre_comunidad)\n",
    "\n",
    "    # Añadimos el fichero leido a nuestra lista de dataframes\n",
    "    dfs.append(fichero_sin_bio)\n",
    "\n",
    "# Montamos el dataframe final\n",
    "df_comunidades = pd.concat(dfs, ignore_index=True)\n",
    "\n",
    "# Eliminamos la columna SEGMENTO BIO\n",
    "df_comunidades.drop('SEGMENTO BIO', axis=1, inplace=True)\n",
    "\n",
    "# Cambiamos el orden de la columna COMUNIDAD\n",
    "cols = df_comunidades.columns.tolist()\n",
    "cols = cols[:5] + cols[-1:] + cols[5:-1]\n",
    "df_comunidades = df_comunidades[cols]"
   ]
  },
  {
   "cell_type": "code",
   "execution_count": 1136,
   "metadata": {},
   "outputs": [
    {
     "data": {
      "text/html": [
       "<div>\n",
       "<style scoped>\n",
       "    .dataframe tbody tr th:only-of-type {\n",
       "        vertical-align: middle;\n",
       "    }\n",
       "\n",
       "    .dataframe tbody tr th {\n",
       "        vertical-align: top;\n",
       "    }\n",
       "\n",
       "    .dataframe thead th {\n",
       "        text-align: right;\n",
       "    }\n",
       "</style>\n",
       "<table border=\"1\" class=\"dataframe\">\n",
       "  <thead>\n",
       "    <tr style=\"text-align: right;\">\n",
       "      <th></th>\n",
       "      <th>ID</th>\n",
       "      <th>SECTOR</th>\n",
       "      <th>SECCION</th>\n",
       "      <th>CATEGORIA</th>\n",
       "      <th>FAMILIA</th>\n",
       "      <th>COMUNIDAD</th>\n",
       "      <th>SEMANA 40-16</th>\n",
       "      <th>SEMANA 41-16</th>\n",
       "      <th>SEMANA 42-16</th>\n",
       "      <th>SEMANA 43-16</th>\n",
       "      <th>...</th>\n",
       "      <th>SEMANA 34-19</th>\n",
       "      <th>SEMANA 35-19</th>\n",
       "      <th>SEMANA 36-19</th>\n",
       "      <th>SEMANA 37-19</th>\n",
       "      <th>SEMANA 38-19</th>\n",
       "      <th>SEMANA 39-19</th>\n",
       "      <th>SEMANA 40-19</th>\n",
       "      <th>SEMANA 41-19</th>\n",
       "      <th>SEMANA 42-19</th>\n",
       "      <th>SEMANA 43-19</th>\n",
       "    </tr>\n",
       "  </thead>\n",
       "  <tbody>\n",
       "    <tr>\n",
       "      <th>0</th>\n",
       "      <td>TOTAL PGC</td>\n",
       "      <td>NaN</td>\n",
       "      <td>NaN</td>\n",
       "      <td>NaN</td>\n",
       "      <td>NaN</td>\n",
       "      <td>Ceuta_y_Melilla</td>\n",
       "      <td>0.0</td>\n",
       "      <td>0.0</td>\n",
       "      <td>0.0</td>\n",
       "      <td>0.0</td>\n",
       "      <td>...</td>\n",
       "      <td>2652.71</td>\n",
       "      <td>2853.52</td>\n",
       "      <td>2699.68</td>\n",
       "      <td>2703.08</td>\n",
       "      <td>2484.19</td>\n",
       "      <td>2853.67</td>\n",
       "      <td>2844.06</td>\n",
       "      <td>2412.15</td>\n",
       "      <td>2559.18</td>\n",
       "      <td>2647.53</td>\n",
       "    </tr>\n",
       "    <tr>\n",
       "      <th>1</th>\n",
       "      <td>ALIM. Y BEBIDAS</td>\n",
       "      <td>ALIM. Y BEBIDAS</td>\n",
       "      <td>NaN</td>\n",
       "      <td>NaN</td>\n",
       "      <td>NaN</td>\n",
       "      <td>Ceuta_y_Melilla</td>\n",
       "      <td>0.0</td>\n",
       "      <td>0.0</td>\n",
       "      <td>0.0</td>\n",
       "      <td>0.0</td>\n",
       "      <td>...</td>\n",
       "      <td>1328.36</td>\n",
       "      <td>1421.87</td>\n",
       "      <td>1364.16</td>\n",
       "      <td>1405.32</td>\n",
       "      <td>1269.16</td>\n",
       "      <td>1457.10</td>\n",
       "      <td>1477.37</td>\n",
       "      <td>1288.87</td>\n",
       "      <td>1375.99</td>\n",
       "      <td>1442.49</td>\n",
       "    </tr>\n",
       "    <tr>\n",
       "      <th>2</th>\n",
       "      <td>ALIM.SECA</td>\n",
       "      <td>ALIM. Y BEBIDAS</td>\n",
       "      <td>ALIM.SECA</td>\n",
       "      <td>NaN</td>\n",
       "      <td>NaN</td>\n",
       "      <td>Ceuta_y_Melilla</td>\n",
       "      <td>0.0</td>\n",
       "      <td>0.0</td>\n",
       "      <td>0.0</td>\n",
       "      <td>0.0</td>\n",
       "      <td>...</td>\n",
       "      <td>704.00</td>\n",
       "      <td>782.74</td>\n",
       "      <td>760.74</td>\n",
       "      <td>791.09</td>\n",
       "      <td>717.49</td>\n",
       "      <td>829.03</td>\n",
       "      <td>829.07</td>\n",
       "      <td>739.01</td>\n",
       "      <td>813.17</td>\n",
       "      <td>891.25</td>\n",
       "    </tr>\n",
       "    <tr>\n",
       "      <th>3</th>\n",
       "      <td>ACEITE</td>\n",
       "      <td>ALIM. Y BEBIDAS</td>\n",
       "      <td>ALIM.SECA</td>\n",
       "      <td>ACEITE</td>\n",
       "      <td>NaN</td>\n",
       "      <td>Ceuta_y_Melilla</td>\n",
       "      <td>0.0</td>\n",
       "      <td>0.0</td>\n",
       "      <td>0.0</td>\n",
       "      <td>0.0</td>\n",
       "      <td>...</td>\n",
       "      <td>60.80</td>\n",
       "      <td>72.97</td>\n",
       "      <td>67.83</td>\n",
       "      <td>71.55</td>\n",
       "      <td>62.32</td>\n",
       "      <td>73.07</td>\n",
       "      <td>76.68</td>\n",
       "      <td>61.45</td>\n",
       "      <td>60.28</td>\n",
       "      <td>63.69</td>\n",
       "    </tr>\n",
       "    <tr>\n",
       "      <th>4</th>\n",
       "      <td>GIRASOL..</td>\n",
       "      <td>ALIM. Y BEBIDAS</td>\n",
       "      <td>ALIM.SECA</td>\n",
       "      <td>ACEITE</td>\n",
       "      <td>GIRASOL..</td>\n",
       "      <td>Ceuta_y_Melilla</td>\n",
       "      <td>0.0</td>\n",
       "      <td>0.0</td>\n",
       "      <td>0.0</td>\n",
       "      <td>0.0</td>\n",
       "      <td>...</td>\n",
       "      <td>18.18</td>\n",
       "      <td>20.78</td>\n",
       "      <td>20.41</td>\n",
       "      <td>20.16</td>\n",
       "      <td>18.68</td>\n",
       "      <td>21.06</td>\n",
       "      <td>22.47</td>\n",
       "      <td>16.94</td>\n",
       "      <td>17.49</td>\n",
       "      <td>19.44</td>\n",
       "    </tr>\n",
       "  </tbody>\n",
       "</table>\n",
       "<p>5 rows × 166 columns</p>\n",
       "</div>"
      ],
      "text/plain": [
       "                ID           SECTOR    SECCION CATEGORIA    FAMILIA  \\\n",
       "0        TOTAL PGC              NaN        NaN       NaN        NaN   \n",
       "1  ALIM. Y BEBIDAS  ALIM. Y BEBIDAS        NaN       NaN        NaN   \n",
       "2        ALIM.SECA  ALIM. Y BEBIDAS  ALIM.SECA       NaN        NaN   \n",
       "3           ACEITE  ALIM. Y BEBIDAS  ALIM.SECA    ACEITE        NaN   \n",
       "4        GIRASOL..  ALIM. Y BEBIDAS  ALIM.SECA    ACEITE  GIRASOL..   \n",
       "\n",
       "         COMUNIDAD  SEMANA 40-16  SEMANA 41-16  SEMANA 42-16  SEMANA 43-16  \\\n",
       "0  Ceuta_y_Melilla           0.0           0.0           0.0           0.0   \n",
       "1  Ceuta_y_Melilla           0.0           0.0           0.0           0.0   \n",
       "2  Ceuta_y_Melilla           0.0           0.0           0.0           0.0   \n",
       "3  Ceuta_y_Melilla           0.0           0.0           0.0           0.0   \n",
       "4  Ceuta_y_Melilla           0.0           0.0           0.0           0.0   \n",
       "\n",
       "   ...  SEMANA 34-19  SEMANA 35-19  SEMANA 36-19  SEMANA 37-19  SEMANA 38-19  \\\n",
       "0  ...       2652.71       2853.52       2699.68       2703.08       2484.19   \n",
       "1  ...       1328.36       1421.87       1364.16       1405.32       1269.16   \n",
       "2  ...        704.00        782.74        760.74        791.09        717.49   \n",
       "3  ...         60.80         72.97         67.83         71.55         62.32   \n",
       "4  ...         18.18         20.78         20.41         20.16         18.68   \n",
       "\n",
       "   SEMANA 39-19  SEMANA 40-19  SEMANA 41-19  SEMANA 42-19  SEMANA 43-19  \n",
       "0       2853.67       2844.06       2412.15       2559.18       2647.53  \n",
       "1       1457.10       1477.37       1288.87       1375.99       1442.49  \n",
       "2        829.03        829.07        739.01        813.17        891.25  \n",
       "3         73.07         76.68         61.45         60.28         63.69  \n",
       "4         21.06         22.47         16.94         17.49         19.44  \n",
       "\n",
       "[5 rows x 166 columns]"
      ]
     },
     "execution_count": 1136,
     "metadata": {},
     "output_type": "execute_result"
    }
   ],
   "source": [
    "df_comunidades.head()"
   ]
  },
  {
   "cell_type": "markdown",
   "metadata": {},
   "source": [
    "### 1.2.2. Población por CC.AA. <a class=\"anchor\" id=\"poblacion\"></a>"
   ]
  },
  {
   "cell_type": "code",
   "execution_count": 1137,
   "metadata": {},
   "outputs": [],
   "source": [
    "PATH_POBLACION = './data/poblacion/'"
   ]
  },
  {
   "cell_type": "code",
   "execution_count": 1138,
   "metadata": {},
   "outputs": [],
   "source": [
    "df_poblacion = pd.read_excel(PATH_POBLACION+'poblacion_comunidades.xlsx', skiprows=1).set_index('CC.AA.')"
   ]
  },
  {
   "cell_type": "code",
   "execution_count": 1139,
   "metadata": {},
   "outputs": [
    {
     "data": {
      "text/html": [
       "<div>\n",
       "<style scoped>\n",
       "    .dataframe tbody tr th:only-of-type {\n",
       "        vertical-align: middle;\n",
       "    }\n",
       "\n",
       "    .dataframe tbody tr th {\n",
       "        vertical-align: top;\n",
       "    }\n",
       "\n",
       "    .dataframe thead th {\n",
       "        text-align: right;\n",
       "    }\n",
       "</style>\n",
       "<table border=\"1\" class=\"dataframe\">\n",
       "  <thead>\n",
       "    <tr style=\"text-align: right;\">\n",
       "      <th></th>\n",
       "      <th>2016</th>\n",
       "      <th>2017</th>\n",
       "      <th>2018</th>\n",
       "      <th>2019</th>\n",
       "      <th>2020</th>\n",
       "    </tr>\n",
       "    <tr>\n",
       "      <th>CC.AA.</th>\n",
       "      <th></th>\n",
       "      <th></th>\n",
       "      <th></th>\n",
       "      <th></th>\n",
       "      <th></th>\n",
       "    </tr>\n",
       "  </thead>\n",
       "  <tbody>\n",
       "    <tr>\n",
       "      <th>Ceuta_y_Melilla</th>\n",
       "      <td>170545</td>\n",
       "      <td>171079</td>\n",
       "      <td>171528</td>\n",
       "      <td>171264</td>\n",
       "      <td>171278</td>\n",
       "    </tr>\n",
       "    <tr>\n",
       "      <th>La_Rioja</th>\n",
       "      <td>315794</td>\n",
       "      <td>315381</td>\n",
       "      <td>315675</td>\n",
       "      <td>316798</td>\n",
       "      <td>313914</td>\n",
       "    </tr>\n",
       "    <tr>\n",
       "      <th>Pais_Vasco</th>\n",
       "      <td>2189534</td>\n",
       "      <td>2194158</td>\n",
       "      <td>2199088</td>\n",
       "      <td>2207776</td>\n",
       "      <td>2220504</td>\n",
       "    </tr>\n",
       "    <tr>\n",
       "      <th>Navarra</th>\n",
       "      <td>640647</td>\n",
       "      <td>643234</td>\n",
       "      <td>647554</td>\n",
       "      <td>654214</td>\n",
       "      <td>661197</td>\n",
       "    </tr>\n",
       "    <tr>\n",
       "      <th>Murcia</th>\n",
       "      <td>1464847</td>\n",
       "      <td>1470273</td>\n",
       "      <td>1478509</td>\n",
       "      <td>1493898</td>\n",
       "      <td>1511251</td>\n",
       "    </tr>\n",
       "    <tr>\n",
       "      <th>Madrid</th>\n",
       "      <td>6466996</td>\n",
       "      <td>6507184</td>\n",
       "      <td>6578079</td>\n",
       "      <td>6663394</td>\n",
       "      <td>6779888</td>\n",
       "    </tr>\n",
       "    <tr>\n",
       "      <th>Galicia</th>\n",
       "      <td>2718525</td>\n",
       "      <td>2708339</td>\n",
       "      <td>2701743</td>\n",
       "      <td>2699499</td>\n",
       "      <td>2701819</td>\n",
       "    </tr>\n",
       "    <tr>\n",
       "      <th>Extremadura</th>\n",
       "      <td>1087778</td>\n",
       "      <td>1079920</td>\n",
       "      <td>1072863</td>\n",
       "      <td>1067710</td>\n",
       "      <td>1063987</td>\n",
       "    </tr>\n",
       "    <tr>\n",
       "      <th>C_Valenciana</th>\n",
       "      <td>4959968</td>\n",
       "      <td>4941509</td>\n",
       "      <td>4963703</td>\n",
       "      <td>5003769</td>\n",
       "      <td>5057353</td>\n",
       "    </tr>\n",
       "    <tr>\n",
       "      <th>Catalunya</th>\n",
       "      <td>7522596</td>\n",
       "      <td>7555830</td>\n",
       "      <td>7600065</td>\n",
       "      <td>7675217</td>\n",
       "      <td>7780479</td>\n",
       "    </tr>\n",
       "    <tr>\n",
       "      <th>Castilla_La_Mancha</th>\n",
       "      <td>2041631</td>\n",
       "      <td>2031479</td>\n",
       "      <td>2026807</td>\n",
       "      <td>2032863</td>\n",
       "      <td>2045221</td>\n",
       "    </tr>\n",
       "    <tr>\n",
       "      <th>Castilla_y_Leon</th>\n",
       "      <td>2447519</td>\n",
       "      <td>2425801</td>\n",
       "      <td>2409164</td>\n",
       "      <td>2399548</td>\n",
       "      <td>2394918</td>\n",
       "    </tr>\n",
       "    <tr>\n",
       "      <th>Cantabria</th>\n",
       "      <td>282988</td>\n",
       "      <td>580295</td>\n",
       "      <td>580229</td>\n",
       "      <td>581078</td>\n",
       "      <td>582905</td>\n",
       "    </tr>\n",
       "    <tr>\n",
       "      <th>Canarias</th>\n",
       "      <td>2101924</td>\n",
       "      <td>2108121</td>\n",
       "      <td>2127685</td>\n",
       "      <td>2153389</td>\n",
       "      <td>2175952</td>\n",
       "    </tr>\n",
       "    <tr>\n",
       "      <th>Baleares</th>\n",
       "      <td>1107220</td>\n",
       "      <td>1115999</td>\n",
       "      <td>1128908</td>\n",
       "      <td>1149460</td>\n",
       "      <td>1171543</td>\n",
       "    </tr>\n",
       "    <tr>\n",
       "      <th>Asturias</th>\n",
       "      <td>1042608</td>\n",
       "      <td>1034960</td>\n",
       "      <td>1028244</td>\n",
       "      <td>1022800</td>\n",
       "      <td>1018784</td>\n",
       "    </tr>\n",
       "    <tr>\n",
       "      <th>Aragon</th>\n",
       "      <td>1308563</td>\n",
       "      <td>1308750</td>\n",
       "      <td>1308728</td>\n",
       "      <td>1319291</td>\n",
       "      <td>1329391</td>\n",
       "    </tr>\n",
       "    <tr>\n",
       "      <th>Andalucia</th>\n",
       "      <td>8388107</td>\n",
       "      <td>8379820</td>\n",
       "      <td>8384408</td>\n",
       "      <td>8414240</td>\n",
       "      <td>8464411</td>\n",
       "    </tr>\n",
       "  </tbody>\n",
       "</table>\n",
       "</div>"
      ],
      "text/plain": [
       "                       2016     2017     2018     2019     2020\n",
       "CC.AA.                                                         \n",
       "Ceuta_y_Melilla      170545   171079   171528   171264   171278\n",
       "La_Rioja             315794   315381   315675   316798   313914\n",
       "Pais_Vasco          2189534  2194158  2199088  2207776  2220504\n",
       "Navarra              640647   643234   647554   654214   661197\n",
       "Murcia              1464847  1470273  1478509  1493898  1511251\n",
       "Madrid              6466996  6507184  6578079  6663394  6779888\n",
       "Galicia             2718525  2708339  2701743  2699499  2701819\n",
       "Extremadura         1087778  1079920  1072863  1067710  1063987\n",
       "C_Valenciana        4959968  4941509  4963703  5003769  5057353\n",
       "Catalunya           7522596  7555830  7600065  7675217  7780479\n",
       "Castilla_La_Mancha  2041631  2031479  2026807  2032863  2045221\n",
       "Castilla_y_Leon     2447519  2425801  2409164  2399548  2394918\n",
       "Cantabria            282988   580295   580229   581078   582905\n",
       "Canarias            2101924  2108121  2127685  2153389  2175952\n",
       "Baleares            1107220  1115999  1128908  1149460  1171543\n",
       "Asturias            1042608  1034960  1028244  1022800  1018784\n",
       "Aragon              1308563  1308750  1308728  1319291  1329391\n",
       "Andalucia           8388107  8379820  8384408  8414240  8464411"
      ]
     },
     "execution_count": 1139,
     "metadata": {},
     "output_type": "execute_result"
    }
   ],
   "source": [
    "df_poblacion"
   ]
  },
  {
   "cell_type": "markdown",
   "metadata": {},
   "source": [
    "###  1.2.3. Muertes por diabetes mellitus por CC.AA <a class=\"anchor\" id=\"diabetes\"></a>"
   ]
  },
  {
   "cell_type": "code",
   "execution_count": 1140,
   "metadata": {},
   "outputs": [],
   "source": [
    "# Guardamos el path donde tenemos los datos de las enfermedades\n",
    "PATH_ENFERMEDADES = './data/enfermedades/'"
   ]
  },
  {
   "cell_type": "code",
   "execution_count": 1141,
   "metadata": {},
   "outputs": [],
   "source": [
    "# Creamos el DataFrame con los datos de la tasa de muertes por comunidades\n",
    "df_muertos_diabetes = pd.read_excel(PATH_ENFERMEDADES + 'diabetes.xlsx', skiprows=1).set_index('CC.AA.')"
   ]
  },
  {
   "cell_type": "code",
   "execution_count": 1142,
   "metadata": {},
   "outputs": [
    {
     "data": {
      "text/html": [
       "<div>\n",
       "<style scoped>\n",
       "    .dataframe tbody tr th:only-of-type {\n",
       "        vertical-align: middle;\n",
       "    }\n",
       "\n",
       "    .dataframe tbody tr th {\n",
       "        vertical-align: top;\n",
       "    }\n",
       "\n",
       "    .dataframe thead th {\n",
       "        text-align: right;\n",
       "    }\n",
       "</style>\n",
       "<table border=\"1\" class=\"dataframe\">\n",
       "  <thead>\n",
       "    <tr style=\"text-align: right;\">\n",
       "      <th></th>\n",
       "      <th>2016</th>\n",
       "      <th>2017</th>\n",
       "      <th>2018</th>\n",
       "      <th>2019</th>\n",
       "      <th>2020</th>\n",
       "    </tr>\n",
       "    <tr>\n",
       "      <th>CC.AA.</th>\n",
       "      <th></th>\n",
       "      <th></th>\n",
       "      <th></th>\n",
       "      <th></th>\n",
       "      <th></th>\n",
       "    </tr>\n",
       "  </thead>\n",
       "  <tbody>\n",
       "    <tr>\n",
       "      <th>Ceuta_y_Melilla</th>\n",
       "      <td>50.36</td>\n",
       "      <td>35.33</td>\n",
       "      <td>27.14</td>\n",
       "      <td>20.33</td>\n",
       "      <td>47.11</td>\n",
       "    </tr>\n",
       "    <tr>\n",
       "      <th>La_Rioja</th>\n",
       "      <td>15.88</td>\n",
       "      <td>15.51</td>\n",
       "      <td>19.18</td>\n",
       "      <td>15.20</td>\n",
       "      <td>15.82</td>\n",
       "    </tr>\n",
       "    <tr>\n",
       "      <th>Pais_Vasco</th>\n",
       "      <td>15.19</td>\n",
       "      <td>13.03</td>\n",
       "      <td>15.14</td>\n",
       "      <td>15.07</td>\n",
       "      <td>16.65</td>\n",
       "    </tr>\n",
       "    <tr>\n",
       "      <th>Navarra</th>\n",
       "      <td>20.41</td>\n",
       "      <td>20.21</td>\n",
       "      <td>16.13</td>\n",
       "      <td>15.77</td>\n",
       "      <td>16.34</td>\n",
       "    </tr>\n",
       "    <tr>\n",
       "      <th>Murcia</th>\n",
       "      <td>20.92</td>\n",
       "      <td>25.17</td>\n",
       "      <td>21.24</td>\n",
       "      <td>22.40</td>\n",
       "      <td>30.91</td>\n",
       "    </tr>\n",
       "    <tr>\n",
       "      <th>Madrid</th>\n",
       "      <td>10.90</td>\n",
       "      <td>10.49</td>\n",
       "      <td>10.23</td>\n",
       "      <td>8.28</td>\n",
       "      <td>10.03</td>\n",
       "    </tr>\n",
       "    <tr>\n",
       "      <th>Galicia</th>\n",
       "      <td>16.32</td>\n",
       "      <td>14.40</td>\n",
       "      <td>12.66</td>\n",
       "      <td>11.08</td>\n",
       "      <td>12.88</td>\n",
       "    </tr>\n",
       "    <tr>\n",
       "      <th>Extremadura</th>\n",
       "      <td>19.58</td>\n",
       "      <td>17.68</td>\n",
       "      <td>17.88</td>\n",
       "      <td>16.88</td>\n",
       "      <td>22.17</td>\n",
       "    </tr>\n",
       "    <tr>\n",
       "      <th>C_Valenciana</th>\n",
       "      <td>19.39</td>\n",
       "      <td>20.06</td>\n",
       "      <td>25.27</td>\n",
       "      <td>25.50</td>\n",
       "      <td>28.49</td>\n",
       "    </tr>\n",
       "    <tr>\n",
       "      <th>Catalunya</th>\n",
       "      <td>19.32</td>\n",
       "      <td>20.81</td>\n",
       "      <td>19.91</td>\n",
       "      <td>18.47</td>\n",
       "      <td>21.28</td>\n",
       "    </tr>\n",
       "    <tr>\n",
       "      <th>Castilla_La_Mancha</th>\n",
       "      <td>22.59</td>\n",
       "      <td>23.78</td>\n",
       "      <td>18.72</td>\n",
       "      <td>17.36</td>\n",
       "      <td>21.38</td>\n",
       "    </tr>\n",
       "    <tr>\n",
       "      <th>Castilla_y_Leon</th>\n",
       "      <td>20.69</td>\n",
       "      <td>18.90</td>\n",
       "      <td>19.46</td>\n",
       "      <td>19.52</td>\n",
       "      <td>25.20</td>\n",
       "    </tr>\n",
       "    <tr>\n",
       "      <th>Cantabria</th>\n",
       "      <td>5.65</td>\n",
       "      <td>9.64</td>\n",
       "      <td>13.06</td>\n",
       "      <td>14.83</td>\n",
       "      <td>18.95</td>\n",
       "    </tr>\n",
       "    <tr>\n",
       "      <th>Canarias</th>\n",
       "      <td>28.82</td>\n",
       "      <td>24.13</td>\n",
       "      <td>23.11</td>\n",
       "      <td>19.31</td>\n",
       "      <td>20.00</td>\n",
       "    </tr>\n",
       "    <tr>\n",
       "      <th>Baleares</th>\n",
       "      <td>25.55</td>\n",
       "      <td>28.97</td>\n",
       "      <td>24.07</td>\n",
       "      <td>24.66</td>\n",
       "      <td>22.35</td>\n",
       "    </tr>\n",
       "    <tr>\n",
       "      <th>Asturias</th>\n",
       "      <td>18.63</td>\n",
       "      <td>16.32</td>\n",
       "      <td>19.93</td>\n",
       "      <td>18.04</td>\n",
       "      <td>21.08</td>\n",
       "    </tr>\n",
       "    <tr>\n",
       "      <th>Aragon</th>\n",
       "      <td>14.16</td>\n",
       "      <td>23.98</td>\n",
       "      <td>20.84</td>\n",
       "      <td>21.21</td>\n",
       "      <td>20.91</td>\n",
       "    </tr>\n",
       "    <tr>\n",
       "      <th>Andalucia</th>\n",
       "      <td>19.88</td>\n",
       "      <td>21.62</td>\n",
       "      <td>20.95</td>\n",
       "      <td>20.82</td>\n",
       "      <td>23.66</td>\n",
       "    </tr>\n",
       "  </tbody>\n",
       "</table>\n",
       "</div>"
      ],
      "text/plain": [
       "                     2016   2017   2018   2019   2020\n",
       "CC.AA.                                               \n",
       "Ceuta_y_Melilla     50.36  35.33  27.14  20.33  47.11\n",
       "La_Rioja            15.88  15.51  19.18  15.20  15.82\n",
       "Pais_Vasco          15.19  13.03  15.14  15.07  16.65\n",
       "Navarra             20.41  20.21  16.13  15.77  16.34\n",
       "Murcia              20.92  25.17  21.24  22.40  30.91\n",
       "Madrid              10.90  10.49  10.23   8.28  10.03\n",
       "Galicia             16.32  14.40  12.66  11.08  12.88\n",
       "Extremadura         19.58  17.68  17.88  16.88  22.17\n",
       "C_Valenciana        19.39  20.06  25.27  25.50  28.49\n",
       "Catalunya           19.32  20.81  19.91  18.47  21.28\n",
       "Castilla_La_Mancha  22.59  23.78  18.72  17.36  21.38\n",
       "Castilla_y_Leon     20.69  18.90  19.46  19.52  25.20\n",
       "Cantabria            5.65   9.64  13.06  14.83  18.95\n",
       "Canarias            28.82  24.13  23.11  19.31  20.00\n",
       "Baleares            25.55  28.97  24.07  24.66  22.35\n",
       "Asturias            18.63  16.32  19.93  18.04  21.08\n",
       "Aragon              14.16  23.98  20.84  21.21  20.91\n",
       "Andalucia           19.88  21.62  20.95  20.82  23.66"
      ]
     },
     "execution_count": 1142,
     "metadata": {},
     "output_type": "execute_result"
    }
   ],
   "source": [
    "# Comprobamos que se ha cargado correctamente el DataFrame\n",
    "df_muertos_diabetes"
   ]
  },
  {
   "cell_type": "markdown",
   "metadata": {},
   "source": [
    "# 2. Extracción y limpieza de datos <a class=\"anchor\" id=\"etl\"></a>"
   ]
  },
  {
   "cell_type": "markdown",
   "metadata": {},
   "source": [
    "## 2.1. Selección de las familias de alimentos relacionadas con la diabetes <a class=\"anchor\" id=\"familias_diabetes\"></a>\n",
    "\n",
    "Nuestros datos están clasificados de la siguiente forma:\n",
    "\n",
    "SECTOR > SECCION > CATEGORIA > FAMILIA\n",
    "\n",
    "El objetivo es ir recorriendo cada agrupación para descartar familias de alimentos que no estén relacionadas con la diabetes."
   ]
  },
  {
   "cell_type": "code",
   "execution_count": 1143,
   "metadata": {},
   "outputs": [],
   "source": [
    "# Sacamos la lista de todos los valores de cada sector, sección, categoría y familia de alimentos\n",
    "lista_sectores = list(df_comunidades[~df_comunidades['SECTOR'].isna()]['SECTOR'].unique())\n",
    "lista_secciones = list(df_comunidades[~df_comunidades['SECCION'].isna()]['SECCION'].unique())\n",
    "lista_categorias = list(df_comunidades[~df_comunidades['CATEGORIA'].isna()]['CATEGORIA'].unique())\n",
    "lista_familias = list(df_comunidades[~df_comunidades['FAMILIA'].isna()]['FAMILIA'].unique())"
   ]
  },
  {
   "cell_type": "markdown",
   "metadata": {},
   "source": [
    "### Sectores"
   ]
  },
  {
   "cell_type": "code",
   "execution_count": 1144,
   "metadata": {},
   "outputs": [
    {
     "data": {
      "text/plain": [
       "['ALIM. Y BEBIDAS', 'PROD.FRESCOS']"
      ]
     },
     "execution_count": 1144,
     "metadata": {},
     "output_type": "execute_result"
    }
   ],
   "source": [
    "# Copiamos la primera lista para modificarla\n",
    "lista_sectores_diabetes = lista_sectores.copy()\n",
    "\n",
    "# Eliminamos los sectores que no están relacionados con la diabetes\n",
    "lista_sectores_diabetes.remove('DROGUERIA Y PERFUMERIA')\n",
    "\n",
    "# Mostramos los sectores seleccionados\n",
    "lista_sectores_diabetes"
   ]
  },
  {
   "cell_type": "markdown",
   "metadata": {},
   "source": [
    "### Secciones"
   ]
  },
  {
   "cell_type": "code",
   "execution_count": 1145,
   "metadata": {},
   "outputs": [
    {
     "data": {
      "text/plain": [
       "['ALIM.SECA', 'BEBIDAS', 'LECHE Y BATIDOS', 'CONGELADOS', 'DERV.LACTEOS']"
      ]
     },
     "execution_count": 1145,
     "metadata": {},
     "output_type": "execute_result"
    }
   ],
   "source": [
    "# Seleccionamos las secciones que hay dentro de de los sectores seleccionados en lista_sectores_diabetes\n",
    "lista_secciones_sectores_diabetes = list(df_comunidades.loc[df_comunidades['SECTOR'].isin(lista_sectores_diabetes), 'SECCION'].unique())[1:]\n",
    "\n",
    "# Copiamos la lista de los secciones de los sectores relacionados con la diabetes\n",
    "lista_secciones_diabetes = lista_secciones_sectores_diabetes.copy()\n",
    "\n",
    "# Creamos una lista de las secciones a eliminar\n",
    "secciones_sin_diabetes = ['CONSERVAS', 'CHARCUTERIA', 'PL. COCINADOS Y PRECOCINADOS', 'QUESOS']\n",
    "\n",
    "# Eliminamos las secciones que no están relacionadas con la diabetes\n",
    "for i in range(len(secciones_sin_diabetes)):\n",
    "    lista_secciones_diabetes.remove(secciones_sin_diabetes[i])\n",
    "\n",
    "# Mostramos las secciones seleccionadas\n",
    "lista_secciones_diabetes"
   ]
  },
  {
   "cell_type": "markdown",
   "metadata": {},
   "source": [
    "### Categorías"
   ]
  },
  {
   "cell_type": "code",
   "execution_count": 1146,
   "metadata": {},
   "outputs": [
    {
     "data": {
      "text/plain": [
       "['AZUCAR Y EDULCORANTES',\n",
       " 'BOLLERIA INDUSTRIAL',\n",
       " 'CACAO',\n",
       " 'CEREALES DESAYUNO',\n",
       " 'CHOCOLATES',\n",
       " 'DULCES NAVIDENOS',\n",
       " 'GALLETAS',\n",
       " 'GOLOSINAS',\n",
       " 'REPOSTERIA',\n",
       " 'SALSAS',\n",
       " 'BEBIDAS ALCOHOLICAS',\n",
       " 'BEBIDAS REFRESCANTES',\n",
       " 'ZUMOS',\n",
       " 'BATIDOS',\n",
       " 'HORCHATA.',\n",
       " 'LECHE NO LIQUIDA',\n",
       " 'HELADOS',\n",
       " 'OTROS CONGELADOS',\n",
       " 'NATA',\n",
       " 'POSTRES PREPARADOS',\n",
       " 'YOGURES']"
      ]
     },
     "execution_count": 1146,
     "metadata": {},
     "output_type": "execute_result"
    }
   ],
   "source": [
    "# Seleccionamos las categorias que hay dentro de de los secciones seleccionados en lista_secciones_diabetes\n",
    "lista_categorias_secciones_diabetes = list(df_comunidades.loc[df_comunidades['SECCION'].isin(lista_secciones_diabetes), 'CATEGORIA'].unique())[1:]\n",
    "\n",
    "# Copiamos la lista de los categorias de las secciones relacionados con la diabetes\n",
    "lista_categorias_diabetes = lista_categorias_secciones_diabetes.copy()\n",
    "\n",
    "# Creamos una lista de las categorias a eliminar\n",
    "categorias_sin_diabetes = [\n",
    "    'ACEITE', 'ADITIVOS COCINA', 'ALIMENTOS INFANTILES', 'ALIMENTOS MASCOTAS', 'APERITIVOS', 'ARROZ', 'CAFES', 'DIETETICOS', 'FRUTOS SECOS',\n",
    "    'INFUSIONES', 'LEGUMBRES SECAS', 'PANADERIA INDUSTRIAL', 'PASTAS', 'SOPAS Y DESHIDRATADOS', 'AGUAS', 'CERVEZA', 'ESPUMOSOS', 'VINOS',\n",
    "    'LECHE LIQUIDA Y BEBIDAS VEGETALES', 'PESCADO CONGELADO', 'PESCADO PREPARADO CONGELADO', 'PLATOS PREPARADOS CONGELADOS', 'VERDURAS CONGELADAS',\n",
    "    'MANTEQUILLA', 'MARGARINA', 'QUESO TIPO PETIT'\n",
    "]\n",
    "\n",
    "# Eliminamos las categorias que no están relacionadas con la diabetes\n",
    "for i in range(len(categorias_sin_diabetes)):\n",
    "    lista_categorias_diabetes.remove(categorias_sin_diabetes[i])\n",
    "\n",
    "# Mostramos las categorías seleccionadas\n",
    "lista_categorias_diabetes"
   ]
  },
  {
   "cell_type": "code",
   "execution_count": 1147,
   "metadata": {},
   "outputs": [
    {
     "data": {
      "text/plain": [
       "120"
      ]
     },
     "execution_count": 1147,
     "metadata": {},
     "output_type": "execute_result"
    }
   ],
   "source": [
    "# Seleccionamos las familias de alimentos que hay dentro de de las categorias seleccionados en lista_categorias_diabetes\n",
    "lista_familias_categorias_diabetes = list(df_comunidades.loc[df_comunidades['CATEGORIA'].isin(lista_categorias_diabetes), 'FAMILIA'].unique())[1:]\n",
    "\n",
    "# Copiamos la lista de las familias de alimentos de las categorias relacionados con la diabetes\n",
    "lista_familias_diabetes = lista_familias_categorias_diabetes.copy()\n",
    "\n",
    "# Creamos una lista de las categorias a eliminar\n",
    "famlias_sin_diabetes = [\n",
    "    'EDULCORANTE', 'LEVADURA', 'L.EVAPORADA', 'L.POLVO', 'BASES PIZZA', 'CHURROS', 'FRUTAS', 'HIELO', 'HOJALDRES MASAS RELLENAS', 'HOJALDRES SIN RELLENAR',\n",
    "    'NATA', 'YOGUR NATURAL'\n",
    "]\n",
    "\n",
    "# Eliminamos las familias que no están relacionadas con la diabetes\n",
    "for i in range(len(famlias_sin_diabetes)):\n",
    "    lista_familias_diabetes.remove(famlias_sin_diabetes[i])\n",
    "\n",
    "# Lista de las categorias relacionadas con la diabetes. Mostramos la cantidad de familias de alimentos que hemos seleccionado\n",
    "len(lista_familias_diabetes)"
   ]
  },
  {
   "cell_type": "markdown",
   "metadata": {},
   "source": [
    "## 2.2. Normalización de consumos de alimentos con la poblacion de las CC.AA. <a class=\"anchor\" id=\"normalizacion_consumos\"></a>"
   ]
  },
  {
   "cell_type": "code",
   "execution_count": 1148,
   "metadata": {},
   "outputs": [],
   "source": [
    "# Creamos un dataset de las familias de alimentos que tienen relación con la diabetes\n",
    "df_diabetes = df_comunidades[df_comunidades['FAMILIA'].isin(lista_familias_diabetes)].groupby('COMUNIDAD').sum().T\n",
    "\n",
    "# Editamos el índice para que tenga un formato adecuado para ser formateado a fecha (quitamos 'SEMANA', 1 para que la semana empiece en lunes, la semana y el año)\n",
    "df_diabetes.index = '1 ' + df_diabetes.index.str[-5:-3] + ' ' + df_diabetes.index.str[-2:]\n",
    "df_diabetes.index = pd.to_datetime(df_diabetes.index, format=\"%w %W %y\")\n",
    "\n",
    "# Cambiamos la granularidad a mensual\n",
    "df_diabetes = df_diabetes.groupby(pd.Grouper(freq='M')).sum()"
   ]
  },
  {
   "cell_type": "code",
   "execution_count": 1149,
   "metadata": {},
   "outputs": [],
   "source": [
    "# Dividimos el DF para cada año\n",
    "df_diabetes_2017 = df_diabetes['2017':'2017']\n",
    "df_diabetes_2018 = df_diabetes['2018':'2018']\n",
    "df_diabetes_2019 = df_diabetes['2019':'2019']"
   ]
  },
  {
   "cell_type": "code",
   "execution_count": 1150,
   "metadata": {},
   "outputs": [],
   "source": [
    "# Usamos la función apply para dividir los datos por la población de cada comunidad por cada 100000 habitantes\n",
    "df_diabetes_2017_normalizado = df_diabetes_2017.apply(lambda x: x / df_poblacion['2017'][x.name] * 100000)\n",
    "df_diabetes_2018_normalizado = df_diabetes_2018.apply(lambda x: x / df_poblacion['2018'][x.name] * 100000)\n",
    "df_diabetes_2019_normalizado = df_diabetes_2019.apply(lambda x: x / df_poblacion['2019'][x.name] * 100000)"
   ]
  },
  {
   "cell_type": "code",
   "execution_count": 1151,
   "metadata": {},
   "outputs": [],
   "source": [
    "# Unimos el DF con los valores ya normalizados\n",
    "df_diabetes_normalizado = pd.concat([df_diabetes_2017_normalizado, df_diabetes_2018_normalizado, df_diabetes_2019_normalizado])"
   ]
  },
  {
   "cell_type": "code",
   "execution_count": 1152,
   "metadata": {},
   "outputs": [
    {
     "data": {
      "text/html": [
       "<div>\n",
       "<style scoped>\n",
       "    .dataframe tbody tr th:only-of-type {\n",
       "        vertical-align: middle;\n",
       "    }\n",
       "\n",
       "    .dataframe tbody tr th {\n",
       "        vertical-align: top;\n",
       "    }\n",
       "\n",
       "    .dataframe thead th {\n",
       "        text-align: right;\n",
       "    }\n",
       "</style>\n",
       "<table border=\"1\" class=\"dataframe\">\n",
       "  <thead>\n",
       "    <tr style=\"text-align: right;\">\n",
       "      <th>COMUNIDAD</th>\n",
       "      <th>Andalucia</th>\n",
       "      <th>Aragon</th>\n",
       "      <th>Asturias</th>\n",
       "      <th>Baleares</th>\n",
       "      <th>C_Valenciana</th>\n",
       "      <th>Canarias</th>\n",
       "      <th>Cantabria</th>\n",
       "      <th>Castilla_La_Mancha</th>\n",
       "      <th>Castilla_y_Leon</th>\n",
       "      <th>Catalunya</th>\n",
       "      <th>Ceuta_y_Melilla</th>\n",
       "      <th>Extremadura</th>\n",
       "      <th>Galicia</th>\n",
       "      <th>La_Rioja</th>\n",
       "      <th>Madrid</th>\n",
       "      <th>Murcia</th>\n",
       "      <th>Navarra</th>\n",
       "      <th>Pais_Vasco</th>\n",
       "    </tr>\n",
       "  </thead>\n",
       "  <tbody>\n",
       "    <tr>\n",
       "      <th>2017-01-31</th>\n",
       "      <td>2073.399309</td>\n",
       "      <td>2048.255205</td>\n",
       "      <td>2190.789016</td>\n",
       "      <td>2460.045215</td>\n",
       "      <td>2239.999158</td>\n",
       "      <td>3072.400493</td>\n",
       "      <td>2542.363798</td>\n",
       "      <td>1918.052316</td>\n",
       "      <td>2008.149473</td>\n",
       "      <td>2138.308035</td>\n",
       "      <td>416.357355</td>\n",
       "      <td>1859.558115</td>\n",
       "      <td>2078.109867</td>\n",
       "      <td>2106.769273</td>\n",
       "      <td>2368.821905</td>\n",
       "      <td>1817.154365</td>\n",
       "      <td>2053.187487</td>\n",
       "      <td>2339.987366</td>\n",
       "    </tr>\n",
       "    <tr>\n",
       "      <th>2017-02-28</th>\n",
       "      <td>1721.499388</td>\n",
       "      <td>1727.677555</td>\n",
       "      <td>1798.726521</td>\n",
       "      <td>2083.448103</td>\n",
       "      <td>1854.717253</td>\n",
       "      <td>2570.428832</td>\n",
       "      <td>2106.256301</td>\n",
       "      <td>1574.079771</td>\n",
       "      <td>1651.574882</td>\n",
       "      <td>1791.590335</td>\n",
       "      <td>315.485828</td>\n",
       "      <td>1576.475109</td>\n",
       "      <td>1703.776004</td>\n",
       "      <td>1690.945238</td>\n",
       "      <td>1926.031137</td>\n",
       "      <td>1495.416157</td>\n",
       "      <td>1672.801811</td>\n",
       "      <td>1883.287348</td>\n",
       "    </tr>\n",
       "    <tr>\n",
       "      <th>2017-03-31</th>\n",
       "      <td>1739.886537</td>\n",
       "      <td>1731.700478</td>\n",
       "      <td>1818.183311</td>\n",
       "      <td>2196.094262</td>\n",
       "      <td>1911.025154</td>\n",
       "      <td>2494.888102</td>\n",
       "      <td>2127.407612</td>\n",
       "      <td>1582.799035</td>\n",
       "      <td>1679.744958</td>\n",
       "      <td>1814.469489</td>\n",
       "      <td>388.966501</td>\n",
       "      <td>1580.281873</td>\n",
       "      <td>1726.973248</td>\n",
       "      <td>1740.954591</td>\n",
       "      <td>1897.038412</td>\n",
       "      <td>1514.821397</td>\n",
       "      <td>1688.130603</td>\n",
       "      <td>1881.800217</td>\n",
       "    </tr>\n",
       "    <tr>\n",
       "      <th>2017-04-30</th>\n",
       "      <td>1833.163362</td>\n",
       "      <td>1808.957402</td>\n",
       "      <td>1874.562302</td>\n",
       "      <td>2429.778163</td>\n",
       "      <td>2074.894126</td>\n",
       "      <td>2591.175744</td>\n",
       "      <td>2353.759726</td>\n",
       "      <td>1658.656083</td>\n",
       "      <td>1800.838568</td>\n",
       "      <td>1910.353065</td>\n",
       "      <td>638.699081</td>\n",
       "      <td>1877.492777</td>\n",
       "      <td>1841.022117</td>\n",
       "      <td>1904.087437</td>\n",
       "      <td>1849.476978</td>\n",
       "      <td>1657.236445</td>\n",
       "      <td>1728.613537</td>\n",
       "      <td>1790.515542</td>\n",
       "    </tr>\n",
       "    <tr>\n",
       "      <th>2017-05-31</th>\n",
       "      <td>2273.424131</td>\n",
       "      <td>2255.265712</td>\n",
       "      <td>2228.732511</td>\n",
       "      <td>3178.234927</td>\n",
       "      <td>2449.898806</td>\n",
       "      <td>3045.375479</td>\n",
       "      <td>2694.174515</td>\n",
       "      <td>2027.196934</td>\n",
       "      <td>2135.179267</td>\n",
       "      <td>2332.146568</td>\n",
       "      <td>875.782533</td>\n",
       "      <td>2153.145603</td>\n",
       "      <td>2198.197124</td>\n",
       "      <td>2282.036648</td>\n",
       "      <td>2398.445472</td>\n",
       "      <td>1972.722753</td>\n",
       "      <td>2182.407957</td>\n",
       "      <td>2348.168637</td>\n",
       "    </tr>\n",
       "    <tr>\n",
       "      <th>2017-06-30</th>\n",
       "      <td>2028.745725</td>\n",
       "      <td>1909.110220</td>\n",
       "      <td>1869.822022</td>\n",
       "      <td>2959.906774</td>\n",
       "      <td>2305.712688</td>\n",
       "      <td>2585.348279</td>\n",
       "      <td>2358.093728</td>\n",
       "      <td>1791.439144</td>\n",
       "      <td>1892.185303</td>\n",
       "      <td>2097.956148</td>\n",
       "      <td>755.721041</td>\n",
       "      <td>1790.315949</td>\n",
       "      <td>1910.456926</td>\n",
       "      <td>1935.563652</td>\n",
       "      <td>2015.677596</td>\n",
       "      <td>1817.837912</td>\n",
       "      <td>1827.058271</td>\n",
       "      <td>1904.958531</td>\n",
       "    </tr>\n",
       "    <tr>\n",
       "      <th>2017-07-31</th>\n",
       "      <td>2742.904979</td>\n",
       "      <td>2413.135435</td>\n",
       "      <td>2467.001623</td>\n",
       "      <td>4326.095274</td>\n",
       "      <td>3391.402302</td>\n",
       "      <td>3467.607410</td>\n",
       "      <td>3621.940565</td>\n",
       "      <td>2341.258758</td>\n",
       "      <td>2565.376550</td>\n",
       "      <td>2847.195874</td>\n",
       "      <td>846.217245</td>\n",
       "      <td>2354.403104</td>\n",
       "      <td>2543.767601</td>\n",
       "      <td>2602.702763</td>\n",
       "      <td>2215.021582</td>\n",
       "      <td>2693.470532</td>\n",
       "      <td>2282.506833</td>\n",
       "      <td>2251.243529</td>\n",
       "    </tr>\n",
       "    <tr>\n",
       "      <th>2017-08-31</th>\n",
       "      <td>2167.980696</td>\n",
       "      <td>1896.421777</td>\n",
       "      <td>1946.624990</td>\n",
       "      <td>3321.090790</td>\n",
       "      <td>2588.819731</td>\n",
       "      <td>2794.178323</td>\n",
       "      <td>2972.484685</td>\n",
       "      <td>1878.889223</td>\n",
       "      <td>2137.643607</td>\n",
       "      <td>2171.479639</td>\n",
       "      <td>675.413113</td>\n",
       "      <td>2030.461516</td>\n",
       "      <td>2034.472051</td>\n",
       "      <td>2075.695746</td>\n",
       "      <td>1624.020928</td>\n",
       "      <td>2067.776529</td>\n",
       "      <td>1792.482984</td>\n",
       "      <td>1731.577671</td>\n",
       "    </tr>\n",
       "    <tr>\n",
       "      <th>2017-09-30</th>\n",
       "      <td>1900.162295</td>\n",
       "      <td>1765.351671</td>\n",
       "      <td>1779.851395</td>\n",
       "      <td>2735.345641</td>\n",
       "      <td>2112.590709</td>\n",
       "      <td>2638.397891</td>\n",
       "      <td>2225.742079</td>\n",
       "      <td>1700.887383</td>\n",
       "      <td>1754.983199</td>\n",
       "      <td>1895.149838</td>\n",
       "      <td>638.915355</td>\n",
       "      <td>1762.719461</td>\n",
       "      <td>1793.725601</td>\n",
       "      <td>1844.391387</td>\n",
       "      <td>1925.662007</td>\n",
       "      <td>1684.534777</td>\n",
       "      <td>1726.415270</td>\n",
       "      <td>1848.559675</td>\n",
       "    </tr>\n",
       "    <tr>\n",
       "      <th>2017-10-31</th>\n",
       "      <td>2352.409240</td>\n",
       "      <td>2340.783190</td>\n",
       "      <td>2289.268184</td>\n",
       "      <td>3187.208949</td>\n",
       "      <td>2561.253860</td>\n",
       "      <td>3458.246941</td>\n",
       "      <td>2793.374060</td>\n",
       "      <td>2095.389123</td>\n",
       "      <td>2228.159276</td>\n",
       "      <td>2434.846602</td>\n",
       "      <td>871.644094</td>\n",
       "      <td>2123.487851</td>\n",
       "      <td>2279.680276</td>\n",
       "      <td>2326.325936</td>\n",
       "      <td>2538.427836</td>\n",
       "      <td>2038.723421</td>\n",
       "      <td>2216.171720</td>\n",
       "      <td>2425.418315</td>\n",
       "    </tr>\n",
       "    <tr>\n",
       "      <th>2017-11-30</th>\n",
       "      <td>1903.026199</td>\n",
       "      <td>1909.740592</td>\n",
       "      <td>1962.585994</td>\n",
       "      <td>2372.998542</td>\n",
       "      <td>2050.142376</td>\n",
       "      <td>2823.143453</td>\n",
       "      <td>2336.582256</td>\n",
       "      <td>1722.115759</td>\n",
       "      <td>1893.808684</td>\n",
       "      <td>2010.700744</td>\n",
       "      <td>790.693189</td>\n",
       "      <td>1698.634158</td>\n",
       "      <td>1943.343134</td>\n",
       "      <td>1969.110378</td>\n",
       "      <td>2129.245001</td>\n",
       "      <td>1646.108580</td>\n",
       "      <td>1862.463738</td>\n",
       "      <td>2123.155215</td>\n",
       "    </tr>\n",
       "    <tr>\n",
       "      <th>2017-12-31</th>\n",
       "      <td>2414.197799</td>\n",
       "      <td>2446.012607</td>\n",
       "      <td>2433.435109</td>\n",
       "      <td>2764.915560</td>\n",
       "      <td>2469.703081</td>\n",
       "      <td>3279.423714</td>\n",
       "      <td>2889.013347</td>\n",
       "      <td>2156.286134</td>\n",
       "      <td>2413.441581</td>\n",
       "      <td>2469.443595</td>\n",
       "      <td>1069.681258</td>\n",
       "      <td>2301.383436</td>\n",
       "      <td>2481.321208</td>\n",
       "      <td>2493.986638</td>\n",
       "      <td>2569.664236</td>\n",
       "      <td>2018.665921</td>\n",
       "      <td>2280.163984</td>\n",
       "      <td>2601.739255</td>\n",
       "    </tr>\n",
       "    <tr>\n",
       "      <th>2018-01-31</th>\n",
       "      <td>2049.751396</td>\n",
       "      <td>2032.452121</td>\n",
       "      <td>2157.492774</td>\n",
       "      <td>2490.993952</td>\n",
       "      <td>2240.642117</td>\n",
       "      <td>3078.396473</td>\n",
       "      <td>2513.393850</td>\n",
       "      <td>1891.697631</td>\n",
       "      <td>1997.973986</td>\n",
       "      <td>2141.892997</td>\n",
       "      <td>1255.859102</td>\n",
       "      <td>1838.395955</td>\n",
       "      <td>2030.805299</td>\n",
       "      <td>2105.339352</td>\n",
       "      <td>2305.006674</td>\n",
       "      <td>1811.572334</td>\n",
       "      <td>2011.347316</td>\n",
       "      <td>2325.259835</td>\n",
       "    </tr>\n",
       "    <tr>\n",
       "      <th>2018-02-28</th>\n",
       "      <td>1740.952850</td>\n",
       "      <td>1756.653789</td>\n",
       "      <td>1798.998098</td>\n",
       "      <td>2176.897497</td>\n",
       "      <td>1909.018126</td>\n",
       "      <td>2663.186515</td>\n",
       "      <td>2097.897554</td>\n",
       "      <td>1597.177235</td>\n",
       "      <td>1687.821170</td>\n",
       "      <td>1852.531788</td>\n",
       "      <td>1145.550581</td>\n",
       "      <td>1572.596874</td>\n",
       "      <td>1729.443178</td>\n",
       "      <td>1728.049418</td>\n",
       "      <td>1933.591555</td>\n",
       "      <td>1537.978463</td>\n",
       "      <td>1688.455326</td>\n",
       "      <td>1920.763517</td>\n",
       "    </tr>\n",
       "    <tr>\n",
       "      <th>2018-03-31</th>\n",
       "      <td>1741.383053</td>\n",
       "      <td>1763.558967</td>\n",
       "      <td>1847.211362</td>\n",
       "      <td>2328.914314</td>\n",
       "      <td>2090.773965</td>\n",
       "      <td>2620.437236</td>\n",
       "      <td>2238.835012</td>\n",
       "      <td>1600.394117</td>\n",
       "      <td>1746.474711</td>\n",
       "      <td>1946.611904</td>\n",
       "      <td>952.252693</td>\n",
       "      <td>1632.638091</td>\n",
       "      <td>1799.851799</td>\n",
       "      <td>1806.500356</td>\n",
       "      <td>1838.101063</td>\n",
       "      <td>1587.311271</td>\n",
       "      <td>1691.996343</td>\n",
       "      <td>1865.628388</td>\n",
       "    </tr>\n",
       "    <tr>\n",
       "      <th>2018-04-30</th>\n",
       "      <td>2262.942357</td>\n",
       "      <td>2241.531472</td>\n",
       "      <td>2284.524879</td>\n",
       "      <td>3024.364253</td>\n",
       "      <td>2480.833765</td>\n",
       "      <td>3217.267594</td>\n",
       "      <td>2804.756398</td>\n",
       "      <td>2073.419423</td>\n",
       "      <td>2178.193763</td>\n",
       "      <td>2350.793184</td>\n",
       "      <td>1340.440045</td>\n",
       "      <td>2048.293212</td>\n",
       "      <td>2237.463741</td>\n",
       "      <td>2288.115942</td>\n",
       "      <td>2448.460865</td>\n",
       "      <td>2029.883484</td>\n",
       "      <td>2151.635230</td>\n",
       "      <td>2375.770319</td>\n",
       "    </tr>\n",
       "    <tr>\n",
       "      <th>2018-05-31</th>\n",
       "      <td>1838.740791</td>\n",
       "      <td>1807.835547</td>\n",
       "      <td>1836.176044</td>\n",
       "      <td>2618.953892</td>\n",
       "      <td>2048.189225</td>\n",
       "      <td>2462.523353</td>\n",
       "      <td>2205.296529</td>\n",
       "      <td>1638.232451</td>\n",
       "      <td>1760.912499</td>\n",
       "      <td>1910.996024</td>\n",
       "      <td>1167.663588</td>\n",
       "      <td>1669.939219</td>\n",
       "      <td>1808.608369</td>\n",
       "      <td>1826.954938</td>\n",
       "      <td>1981.680518</td>\n",
       "      <td>1636.505425</td>\n",
       "      <td>1759.127424</td>\n",
       "      <td>1941.220179</td>\n",
       "    </tr>\n",
       "    <tr>\n",
       "      <th>2018-06-30</th>\n",
       "      <td>1987.565014</td>\n",
       "      <td>1876.237843</td>\n",
       "      <td>1892.809489</td>\n",
       "      <td>2963.882796</td>\n",
       "      <td>2327.623147</td>\n",
       "      <td>2589.830262</td>\n",
       "      <td>2400.410872</td>\n",
       "      <td>1792.743463</td>\n",
       "      <td>1869.761461</td>\n",
       "      <td>2123.151184</td>\n",
       "      <td>1125.454736</td>\n",
       "      <td>1714.838707</td>\n",
       "      <td>1927.680760</td>\n",
       "      <td>1925.885800</td>\n",
       "      <td>2028.580684</td>\n",
       "      <td>1812.379228</td>\n",
       "      <td>1803.707490</td>\n",
       "      <td>1937.773295</td>\n",
       "    </tr>\n",
       "    <tr>\n",
       "      <th>2018-07-31</th>\n",
       "      <td>2746.111592</td>\n",
       "      <td>2435.229475</td>\n",
       "      <td>2492.393829</td>\n",
       "      <td>4324.384272</td>\n",
       "      <td>3446.284357</td>\n",
       "      <td>3476.109950</td>\n",
       "      <td>3689.040017</td>\n",
       "      <td>2393.522422</td>\n",
       "      <td>2627.013769</td>\n",
       "      <td>2903.030566</td>\n",
       "      <td>1372.586400</td>\n",
       "      <td>2308.410300</td>\n",
       "      <td>2597.311809</td>\n",
       "      <td>2655.335392</td>\n",
       "      <td>2308.084017</td>\n",
       "      <td>2656.567529</td>\n",
       "      <td>2291.685327</td>\n",
       "      <td>2351.061440</td>\n",
       "    </tr>\n",
       "    <tr>\n",
       "      <th>2018-08-31</th>\n",
       "      <td>2196.507613</td>\n",
       "      <td>1913.865983</td>\n",
       "      <td>2045.668149</td>\n",
       "      <td>3319.864861</td>\n",
       "      <td>2659.032178</td>\n",
       "      <td>2751.451460</td>\n",
       "      <td>3072.037075</td>\n",
       "      <td>1913.058816</td>\n",
       "      <td>2249.797440</td>\n",
       "      <td>2223.207565</td>\n",
       "      <td>1095.564573</td>\n",
       "      <td>1975.135688</td>\n",
       "      <td>2099.288496</td>\n",
       "      <td>2139.342678</td>\n",
       "      <td>1683.185927</td>\n",
       "      <td>2073.313047</td>\n",
       "      <td>1819.000423</td>\n",
       "      <td>1790.373100</td>\n",
       "    </tr>\n",
       "    <tr>\n",
       "      <th>2018-09-30</th>\n",
       "      <td>1903.605836</td>\n",
       "      <td>1844.562812</td>\n",
       "      <td>1875.555802</td>\n",
       "      <td>2815.693573</td>\n",
       "      <td>2174.557986</td>\n",
       "      <td>2654.053584</td>\n",
       "      <td>2363.721910</td>\n",
       "      <td>1725.859443</td>\n",
       "      <td>1829.974630</td>\n",
       "      <td>1979.490833</td>\n",
       "      <td>1245.936523</td>\n",
       "      <td>1695.156791</td>\n",
       "      <td>1877.341035</td>\n",
       "      <td>1905.196801</td>\n",
       "      <td>1993.767025</td>\n",
       "      <td>1701.533099</td>\n",
       "      <td>1783.423467</td>\n",
       "      <td>1942.091904</td>\n",
       "    </tr>\n",
       "    <tr>\n",
       "      <th>2018-10-31</th>\n",
       "      <td>2342.210684</td>\n",
       "      <td>2341.093795</td>\n",
       "      <td>2358.483006</td>\n",
       "      <td>3184.108005</td>\n",
       "      <td>2586.654963</td>\n",
       "      <td>3384.605804</td>\n",
       "      <td>2855.489815</td>\n",
       "      <td>2078.422859</td>\n",
       "      <td>2252.437775</td>\n",
       "      <td>2474.317259</td>\n",
       "      <td>1763.449699</td>\n",
       "      <td>2127.726466</td>\n",
       "      <td>2300.595208</td>\n",
       "      <td>2364.555318</td>\n",
       "      <td>2534.031744</td>\n",
       "      <td>2044.673384</td>\n",
       "      <td>2243.584319</td>\n",
       "      <td>2448.083478</td>\n",
       "    </tr>\n",
       "    <tr>\n",
       "      <th>2018-11-30</th>\n",
       "      <td>1907.595384</td>\n",
       "      <td>1910.957816</td>\n",
       "      <td>2013.862468</td>\n",
       "      <td>2321.405287</td>\n",
       "      <td>2041.338896</td>\n",
       "      <td>2751.031755</td>\n",
       "      <td>2340.565535</td>\n",
       "      <td>1692.250915</td>\n",
       "      <td>1903.455722</td>\n",
       "      <td>2014.187773</td>\n",
       "      <td>1525.581829</td>\n",
       "      <td>1724.509094</td>\n",
       "      <td>1951.972486</td>\n",
       "      <td>1951.988596</td>\n",
       "      <td>2121.885128</td>\n",
       "      <td>1631.058046</td>\n",
       "      <td>1871.513418</td>\n",
       "      <td>2106.852022</td>\n",
       "    </tr>\n",
       "    <tr>\n",
       "      <th>2018-12-31</th>\n",
       "      <td>2418.677860</td>\n",
       "      <td>2423.940651</td>\n",
       "      <td>2488.856731</td>\n",
       "      <td>2697.373922</td>\n",
       "      <td>2438.979931</td>\n",
       "      <td>3186.165245</td>\n",
       "      <td>2821.318824</td>\n",
       "      <td>2125.114034</td>\n",
       "      <td>2411.767318</td>\n",
       "      <td>2496.806540</td>\n",
       "      <td>1751.818945</td>\n",
       "      <td>2263.303889</td>\n",
       "      <td>2457.603110</td>\n",
       "      <td>2522.350519</td>\n",
       "      <td>2568.349362</td>\n",
       "      <td>2006.554576</td>\n",
       "      <td>2266.163131</td>\n",
       "      <td>2554.774525</td>\n",
       "    </tr>\n",
       "    <tr>\n",
       "      <th>2019-01-31</th>\n",
       "      <td>1730.474172</td>\n",
       "      <td>1712.350043</td>\n",
       "      <td>1857.769847</td>\n",
       "      <td>2074.064343</td>\n",
       "      <td>1919.165333</td>\n",
       "      <td>2494.067259</td>\n",
       "      <td>2169.474666</td>\n",
       "      <td>1580.185679</td>\n",
       "      <td>1705.518289</td>\n",
       "      <td>1828.440030</td>\n",
       "      <td>1465.964826</td>\n",
       "      <td>1538.245404</td>\n",
       "      <td>1753.480183</td>\n",
       "      <td>1786.709512</td>\n",
       "      <td>1923.910548</td>\n",
       "      <td>1525.405349</td>\n",
       "      <td>1687.689349</td>\n",
       "      <td>1959.403490</td>\n",
       "    </tr>\n",
       "    <tr>\n",
       "      <th>2019-02-28</th>\n",
       "      <td>1742.669094</td>\n",
       "      <td>1753.694977</td>\n",
       "      <td>1840.101682</td>\n",
       "      <td>2114.814783</td>\n",
       "      <td>1900.287363</td>\n",
       "      <td>2537.804828</td>\n",
       "      <td>2098.707919</td>\n",
       "      <td>1572.124634</td>\n",
       "      <td>1692.767138</td>\n",
       "      <td>1845.442025</td>\n",
       "      <td>1653.826840</td>\n",
       "      <td>1543.838683</td>\n",
       "      <td>1749.229024</td>\n",
       "      <td>1756.876622</td>\n",
       "      <td>1928.196802</td>\n",
       "      <td>1504.703802</td>\n",
       "      <td>1670.685739</td>\n",
       "      <td>1900.318692</td>\n",
       "    </tr>\n",
       "    <tr>\n",
       "      <th>2019-03-31</th>\n",
       "      <td>1783.896585</td>\n",
       "      <td>1814.198687</td>\n",
       "      <td>1888.473797</td>\n",
       "      <td>2204.851843</td>\n",
       "      <td>2002.109810</td>\n",
       "      <td>2669.494457</td>\n",
       "      <td>2217.377013</td>\n",
       "      <td>1626.555257</td>\n",
       "      <td>1764.671513</td>\n",
       "      <td>1914.041518</td>\n",
       "      <td>1540.633175</td>\n",
       "      <td>1608.984649</td>\n",
       "      <td>1779.863967</td>\n",
       "      <td>1825.816451</td>\n",
       "      <td>1963.408887</td>\n",
       "      <td>1549.406318</td>\n",
       "      <td>1713.955984</td>\n",
       "      <td>1931.086306</td>\n",
       "    </tr>\n",
       "    <tr>\n",
       "      <th>2019-04-30</th>\n",
       "      <td>2279.384472</td>\n",
       "      <td>2300.867663</td>\n",
       "      <td>2374.760461</td>\n",
       "      <td>2981.861918</td>\n",
       "      <td>2619.321356</td>\n",
       "      <td>3181.298874</td>\n",
       "      <td>2879.868107</td>\n",
       "      <td>2050.412153</td>\n",
       "      <td>2252.055387</td>\n",
       "      <td>2454.689555</td>\n",
       "      <td>1837.928578</td>\n",
       "      <td>2119.487501</td>\n",
       "      <td>2329.281841</td>\n",
       "      <td>2343.051408</td>\n",
       "      <td>2377.872298</td>\n",
       "      <td>2005.236636</td>\n",
       "      <td>2151.913594</td>\n",
       "      <td>2351.828265</td>\n",
       "    </tr>\n",
       "    <tr>\n",
       "      <th>2019-05-31</th>\n",
       "      <td>1848.061619</td>\n",
       "      <td>1835.694324</td>\n",
       "      <td>1891.903598</td>\n",
       "      <td>2468.872340</td>\n",
       "      <td>2029.272934</td>\n",
       "      <td>2437.426308</td>\n",
       "      <td>2248.570760</td>\n",
       "      <td>1674.854134</td>\n",
       "      <td>1806.712347</td>\n",
       "      <td>1906.120048</td>\n",
       "      <td>1608.072917</td>\n",
       "      <td>1675.236722</td>\n",
       "      <td>1828.476321</td>\n",
       "      <td>1874.790876</td>\n",
       "      <td>1943.530879</td>\n",
       "      <td>1613.348435</td>\n",
       "      <td>1751.908397</td>\n",
       "      <td>1949.487629</td>\n",
       "    </tr>\n",
       "    <tr>\n",
       "      <th>2019-06-30</th>\n",
       "      <td>1954.057289</td>\n",
       "      <td>1905.901731</td>\n",
       "      <td>1912.953657</td>\n",
       "      <td>2784.322203</td>\n",
       "      <td>2248.262859</td>\n",
       "      <td>2543.747089</td>\n",
       "      <td>2331.334175</td>\n",
       "      <td>1733.551646</td>\n",
       "      <td>1889.810914</td>\n",
       "      <td>2107.489860</td>\n",
       "      <td>1569.565116</td>\n",
       "      <td>1718.405747</td>\n",
       "      <td>1926.563410</td>\n",
       "      <td>1953.462459</td>\n",
       "      <td>2046.800174</td>\n",
       "      <td>1732.187204</td>\n",
       "      <td>1760.984938</td>\n",
       "      <td>1971.553274</td>\n",
       "    </tr>\n",
       "    <tr>\n",
       "      <th>2019-07-31</th>\n",
       "      <td>2702.735125</td>\n",
       "      <td>2506.599378</td>\n",
       "      <td>2486.161517</td>\n",
       "      <td>4086.854697</td>\n",
       "      <td>3309.538070</td>\n",
       "      <td>3366.760488</td>\n",
       "      <td>3532.678917</td>\n",
       "      <td>2391.613699</td>\n",
       "      <td>2621.633741</td>\n",
       "      <td>2819.112736</td>\n",
       "      <td>2143.766349</td>\n",
       "      <td>2261.172978</td>\n",
       "      <td>2543.109666</td>\n",
       "      <td>2774.525092</td>\n",
       "      <td>2426.669052</td>\n",
       "      <td>2614.683867</td>\n",
       "      <td>2286.831220</td>\n",
       "      <td>2420.457057</td>\n",
       "    </tr>\n",
       "    <tr>\n",
       "      <th>2019-08-31</th>\n",
       "      <td>2287.794976</td>\n",
       "      <td>2015.154352</td>\n",
       "      <td>2136.431365</td>\n",
       "      <td>3363.260140</td>\n",
       "      <td>2797.819204</td>\n",
       "      <td>2771.855898</td>\n",
       "      <td>3239.224338</td>\n",
       "      <td>1944.482240</td>\n",
       "      <td>2343.312157</td>\n",
       "      <td>2287.544053</td>\n",
       "      <td>1752.265508</td>\n",
       "      <td>2010.419496</td>\n",
       "      <td>2174.135645</td>\n",
       "      <td>2244.430205</td>\n",
       "      <td>1636.971339</td>\n",
       "      <td>2233.129036</td>\n",
       "      <td>1790.599101</td>\n",
       "      <td>1760.067597</td>\n",
       "    </tr>\n",
       "    <tr>\n",
       "      <th>2019-09-30</th>\n",
       "      <td>2465.383089</td>\n",
       "      <td>2366.347531</td>\n",
       "      <td>2389.932538</td>\n",
       "      <td>3531.265986</td>\n",
       "      <td>2816.202946</td>\n",
       "      <td>3295.019618</td>\n",
       "      <td>3099.102014</td>\n",
       "      <td>2174.494789</td>\n",
       "      <td>2364.908308</td>\n",
       "      <td>2536.454148</td>\n",
       "      <td>2033.013359</td>\n",
       "      <td>2204.472188</td>\n",
       "      <td>2411.788261</td>\n",
       "      <td>2478.901382</td>\n",
       "      <td>2399.556442</td>\n",
       "      <td>2218.956047</td>\n",
       "      <td>2228.406913</td>\n",
       "      <td>2394.270524</td>\n",
       "    </tr>\n",
       "    <tr>\n",
       "      <th>2019-10-31</th>\n",
       "      <td>1891.551584</td>\n",
       "      <td>1859.525306</td>\n",
       "      <td>1905.840829</td>\n",
       "      <td>2586.762480</td>\n",
       "      <td>2102.953394</td>\n",
       "      <td>2652.178961</td>\n",
       "      <td>2245.722605</td>\n",
       "      <td>1660.917140</td>\n",
       "      <td>1794.512133</td>\n",
       "      <td>1966.635862</td>\n",
       "      <td>1568.788537</td>\n",
       "      <td>1691.009731</td>\n",
       "      <td>1847.010871</td>\n",
       "      <td>1925.716071</td>\n",
       "      <td>2003.901465</td>\n",
       "      <td>1685.520698</td>\n",
       "      <td>1752.866799</td>\n",
       "      <td>1921.574471</td>\n",
       "    </tr>\n",
       "  </tbody>\n",
       "</table>\n",
       "</div>"
      ],
      "text/plain": [
       "COMUNIDAD     Andalucia       Aragon     Asturias     Baleares  C_Valenciana  \\\n",
       "2017-01-31  2073.399309  2048.255205  2190.789016  2460.045215   2239.999158   \n",
       "2017-02-28  1721.499388  1727.677555  1798.726521  2083.448103   1854.717253   \n",
       "2017-03-31  1739.886537  1731.700478  1818.183311  2196.094262   1911.025154   \n",
       "2017-04-30  1833.163362  1808.957402  1874.562302  2429.778163   2074.894126   \n",
       "2017-05-31  2273.424131  2255.265712  2228.732511  3178.234927   2449.898806   \n",
       "2017-06-30  2028.745725  1909.110220  1869.822022  2959.906774   2305.712688   \n",
       "2017-07-31  2742.904979  2413.135435  2467.001623  4326.095274   3391.402302   \n",
       "2017-08-31  2167.980696  1896.421777  1946.624990  3321.090790   2588.819731   \n",
       "2017-09-30  1900.162295  1765.351671  1779.851395  2735.345641   2112.590709   \n",
       "2017-10-31  2352.409240  2340.783190  2289.268184  3187.208949   2561.253860   \n",
       "2017-11-30  1903.026199  1909.740592  1962.585994  2372.998542   2050.142376   \n",
       "2017-12-31  2414.197799  2446.012607  2433.435109  2764.915560   2469.703081   \n",
       "2018-01-31  2049.751396  2032.452121  2157.492774  2490.993952   2240.642117   \n",
       "2018-02-28  1740.952850  1756.653789  1798.998098  2176.897497   1909.018126   \n",
       "2018-03-31  1741.383053  1763.558967  1847.211362  2328.914314   2090.773965   \n",
       "2018-04-30  2262.942357  2241.531472  2284.524879  3024.364253   2480.833765   \n",
       "2018-05-31  1838.740791  1807.835547  1836.176044  2618.953892   2048.189225   \n",
       "2018-06-30  1987.565014  1876.237843  1892.809489  2963.882796   2327.623147   \n",
       "2018-07-31  2746.111592  2435.229475  2492.393829  4324.384272   3446.284357   \n",
       "2018-08-31  2196.507613  1913.865983  2045.668149  3319.864861   2659.032178   \n",
       "2018-09-30  1903.605836  1844.562812  1875.555802  2815.693573   2174.557986   \n",
       "2018-10-31  2342.210684  2341.093795  2358.483006  3184.108005   2586.654963   \n",
       "2018-11-30  1907.595384  1910.957816  2013.862468  2321.405287   2041.338896   \n",
       "2018-12-31  2418.677860  2423.940651  2488.856731  2697.373922   2438.979931   \n",
       "2019-01-31  1730.474172  1712.350043  1857.769847  2074.064343   1919.165333   \n",
       "2019-02-28  1742.669094  1753.694977  1840.101682  2114.814783   1900.287363   \n",
       "2019-03-31  1783.896585  1814.198687  1888.473797  2204.851843   2002.109810   \n",
       "2019-04-30  2279.384472  2300.867663  2374.760461  2981.861918   2619.321356   \n",
       "2019-05-31  1848.061619  1835.694324  1891.903598  2468.872340   2029.272934   \n",
       "2019-06-30  1954.057289  1905.901731  1912.953657  2784.322203   2248.262859   \n",
       "2019-07-31  2702.735125  2506.599378  2486.161517  4086.854697   3309.538070   \n",
       "2019-08-31  2287.794976  2015.154352  2136.431365  3363.260140   2797.819204   \n",
       "2019-09-30  2465.383089  2366.347531  2389.932538  3531.265986   2816.202946   \n",
       "2019-10-31  1891.551584  1859.525306  1905.840829  2586.762480   2102.953394   \n",
       "\n",
       "COMUNIDAD      Canarias    Cantabria  Castilla_La_Mancha  Castilla_y_Leon  \\\n",
       "2017-01-31  3072.400493  2542.363798         1918.052316      2008.149473   \n",
       "2017-02-28  2570.428832  2106.256301         1574.079771      1651.574882   \n",
       "2017-03-31  2494.888102  2127.407612         1582.799035      1679.744958   \n",
       "2017-04-30  2591.175744  2353.759726         1658.656083      1800.838568   \n",
       "2017-05-31  3045.375479  2694.174515         2027.196934      2135.179267   \n",
       "2017-06-30  2585.348279  2358.093728         1791.439144      1892.185303   \n",
       "2017-07-31  3467.607410  3621.940565         2341.258758      2565.376550   \n",
       "2017-08-31  2794.178323  2972.484685         1878.889223      2137.643607   \n",
       "2017-09-30  2638.397891  2225.742079         1700.887383      1754.983199   \n",
       "2017-10-31  3458.246941  2793.374060         2095.389123      2228.159276   \n",
       "2017-11-30  2823.143453  2336.582256         1722.115759      1893.808684   \n",
       "2017-12-31  3279.423714  2889.013347         2156.286134      2413.441581   \n",
       "2018-01-31  3078.396473  2513.393850         1891.697631      1997.973986   \n",
       "2018-02-28  2663.186515  2097.897554         1597.177235      1687.821170   \n",
       "2018-03-31  2620.437236  2238.835012         1600.394117      1746.474711   \n",
       "2018-04-30  3217.267594  2804.756398         2073.419423      2178.193763   \n",
       "2018-05-31  2462.523353  2205.296529         1638.232451      1760.912499   \n",
       "2018-06-30  2589.830262  2400.410872         1792.743463      1869.761461   \n",
       "2018-07-31  3476.109950  3689.040017         2393.522422      2627.013769   \n",
       "2018-08-31  2751.451460  3072.037075         1913.058816      2249.797440   \n",
       "2018-09-30  2654.053584  2363.721910         1725.859443      1829.974630   \n",
       "2018-10-31  3384.605804  2855.489815         2078.422859      2252.437775   \n",
       "2018-11-30  2751.031755  2340.565535         1692.250915      1903.455722   \n",
       "2018-12-31  3186.165245  2821.318824         2125.114034      2411.767318   \n",
       "2019-01-31  2494.067259  2169.474666         1580.185679      1705.518289   \n",
       "2019-02-28  2537.804828  2098.707919         1572.124634      1692.767138   \n",
       "2019-03-31  2669.494457  2217.377013         1626.555257      1764.671513   \n",
       "2019-04-30  3181.298874  2879.868107         2050.412153      2252.055387   \n",
       "2019-05-31  2437.426308  2248.570760         1674.854134      1806.712347   \n",
       "2019-06-30  2543.747089  2331.334175         1733.551646      1889.810914   \n",
       "2019-07-31  3366.760488  3532.678917         2391.613699      2621.633741   \n",
       "2019-08-31  2771.855898  3239.224338         1944.482240      2343.312157   \n",
       "2019-09-30  3295.019618  3099.102014         2174.494789      2364.908308   \n",
       "2019-10-31  2652.178961  2245.722605         1660.917140      1794.512133   \n",
       "\n",
       "COMUNIDAD     Catalunya  Ceuta_y_Melilla  Extremadura      Galicia  \\\n",
       "2017-01-31  2138.308035       416.357355  1859.558115  2078.109867   \n",
       "2017-02-28  1791.590335       315.485828  1576.475109  1703.776004   \n",
       "2017-03-31  1814.469489       388.966501  1580.281873  1726.973248   \n",
       "2017-04-30  1910.353065       638.699081  1877.492777  1841.022117   \n",
       "2017-05-31  2332.146568       875.782533  2153.145603  2198.197124   \n",
       "2017-06-30  2097.956148       755.721041  1790.315949  1910.456926   \n",
       "2017-07-31  2847.195874       846.217245  2354.403104  2543.767601   \n",
       "2017-08-31  2171.479639       675.413113  2030.461516  2034.472051   \n",
       "2017-09-30  1895.149838       638.915355  1762.719461  1793.725601   \n",
       "2017-10-31  2434.846602       871.644094  2123.487851  2279.680276   \n",
       "2017-11-30  2010.700744       790.693189  1698.634158  1943.343134   \n",
       "2017-12-31  2469.443595      1069.681258  2301.383436  2481.321208   \n",
       "2018-01-31  2141.892997      1255.859102  1838.395955  2030.805299   \n",
       "2018-02-28  1852.531788      1145.550581  1572.596874  1729.443178   \n",
       "2018-03-31  1946.611904       952.252693  1632.638091  1799.851799   \n",
       "2018-04-30  2350.793184      1340.440045  2048.293212  2237.463741   \n",
       "2018-05-31  1910.996024      1167.663588  1669.939219  1808.608369   \n",
       "2018-06-30  2123.151184      1125.454736  1714.838707  1927.680760   \n",
       "2018-07-31  2903.030566      1372.586400  2308.410300  2597.311809   \n",
       "2018-08-31  2223.207565      1095.564573  1975.135688  2099.288496   \n",
       "2018-09-30  1979.490833      1245.936523  1695.156791  1877.341035   \n",
       "2018-10-31  2474.317259      1763.449699  2127.726466  2300.595208   \n",
       "2018-11-30  2014.187773      1525.581829  1724.509094  1951.972486   \n",
       "2018-12-31  2496.806540      1751.818945  2263.303889  2457.603110   \n",
       "2019-01-31  1828.440030      1465.964826  1538.245404  1753.480183   \n",
       "2019-02-28  1845.442025      1653.826840  1543.838683  1749.229024   \n",
       "2019-03-31  1914.041518      1540.633175  1608.984649  1779.863967   \n",
       "2019-04-30  2454.689555      1837.928578  2119.487501  2329.281841   \n",
       "2019-05-31  1906.120048      1608.072917  1675.236722  1828.476321   \n",
       "2019-06-30  2107.489860      1569.565116  1718.405747  1926.563410   \n",
       "2019-07-31  2819.112736      2143.766349  2261.172978  2543.109666   \n",
       "2019-08-31  2287.544053      1752.265508  2010.419496  2174.135645   \n",
       "2019-09-30  2536.454148      2033.013359  2204.472188  2411.788261   \n",
       "2019-10-31  1966.635862      1568.788537  1691.009731  1847.010871   \n",
       "\n",
       "COMUNIDAD      La_Rioja       Madrid       Murcia      Navarra   Pais_Vasco  \n",
       "2017-01-31  2106.769273  2368.821905  1817.154365  2053.187487  2339.987366  \n",
       "2017-02-28  1690.945238  1926.031137  1495.416157  1672.801811  1883.287348  \n",
       "2017-03-31  1740.954591  1897.038412  1514.821397  1688.130603  1881.800217  \n",
       "2017-04-30  1904.087437  1849.476978  1657.236445  1728.613537  1790.515542  \n",
       "2017-05-31  2282.036648  2398.445472  1972.722753  2182.407957  2348.168637  \n",
       "2017-06-30  1935.563652  2015.677596  1817.837912  1827.058271  1904.958531  \n",
       "2017-07-31  2602.702763  2215.021582  2693.470532  2282.506833  2251.243529  \n",
       "2017-08-31  2075.695746  1624.020928  2067.776529  1792.482984  1731.577671  \n",
       "2017-09-30  1844.391387  1925.662007  1684.534777  1726.415270  1848.559675  \n",
       "2017-10-31  2326.325936  2538.427836  2038.723421  2216.171720  2425.418315  \n",
       "2017-11-30  1969.110378  2129.245001  1646.108580  1862.463738  2123.155215  \n",
       "2017-12-31  2493.986638  2569.664236  2018.665921  2280.163984  2601.739255  \n",
       "2018-01-31  2105.339352  2305.006674  1811.572334  2011.347316  2325.259835  \n",
       "2018-02-28  1728.049418  1933.591555  1537.978463  1688.455326  1920.763517  \n",
       "2018-03-31  1806.500356  1838.101063  1587.311271  1691.996343  1865.628388  \n",
       "2018-04-30  2288.115942  2448.460865  2029.883484  2151.635230  2375.770319  \n",
       "2018-05-31  1826.954938  1981.680518  1636.505425  1759.127424  1941.220179  \n",
       "2018-06-30  1925.885800  2028.580684  1812.379228  1803.707490  1937.773295  \n",
       "2018-07-31  2655.335392  2308.084017  2656.567529  2291.685327  2351.061440  \n",
       "2018-08-31  2139.342678  1683.185927  2073.313047  1819.000423  1790.373100  \n",
       "2018-09-30  1905.196801  1993.767025  1701.533099  1783.423467  1942.091904  \n",
       "2018-10-31  2364.555318  2534.031744  2044.673384  2243.584319  2448.083478  \n",
       "2018-11-30  1951.988596  2121.885128  1631.058046  1871.513418  2106.852022  \n",
       "2018-12-31  2522.350519  2568.349362  2006.554576  2266.163131  2554.774525  \n",
       "2019-01-31  1786.709512  1923.910548  1525.405349  1687.689349  1959.403490  \n",
       "2019-02-28  1756.876622  1928.196802  1504.703802  1670.685739  1900.318692  \n",
       "2019-03-31  1825.816451  1963.408887  1549.406318  1713.955984  1931.086306  \n",
       "2019-04-30  2343.051408  2377.872298  2005.236636  2151.913594  2351.828265  \n",
       "2019-05-31  1874.790876  1943.530879  1613.348435  1751.908397  1949.487629  \n",
       "2019-06-30  1953.462459  2046.800174  1732.187204  1760.984938  1971.553274  \n",
       "2019-07-31  2774.525092  2426.669052  2614.683867  2286.831220  2420.457057  \n",
       "2019-08-31  2244.430205  1636.971339  2233.129036  1790.599101  1760.067597  \n",
       "2019-09-30  2478.901382  2399.556442  2218.956047  2228.406913  2394.270524  \n",
       "2019-10-31  1925.716071  2003.901465  1685.520698  1752.866799  1921.574471  "
      ]
     },
     "execution_count": 1152,
     "metadata": {},
     "output_type": "execute_result"
    }
   ],
   "source": [
    "df_diabetes_normalizado"
   ]
  },
  {
   "cell_type": "code",
   "execution_count": 1153,
   "metadata": {},
   "outputs": [
    {
     "data": {
      "application/vnd.plotly.v1+json": {
       "config": {
        "plotlyServerURL": "https://plot.ly"
       },
       "data": [
        {
         "hovertemplate": "COMUNIDAD=Andalucia<br>Tiempo=%{x}<br>Consumo / Población * 100=%{y}<extra></extra>",
         "legendgroup": "Andalucia",
         "line": {
          "color": "#636efa",
          "dash": "solid"
         },
         "marker": {
          "symbol": "circle"
         },
         "mode": "lines",
         "name": "Andalucia",
         "orientation": "v",
         "showlegend": true,
         "type": "scatter",
         "x": [
          "2017-01-31T00:00:00",
          "2017-02-28T00:00:00",
          "2017-03-31T00:00:00",
          "2017-04-30T00:00:00",
          "2017-05-31T00:00:00",
          "2017-06-30T00:00:00",
          "2017-07-31T00:00:00",
          "2017-08-31T00:00:00",
          "2017-09-30T00:00:00",
          "2017-10-31T00:00:00",
          "2017-11-30T00:00:00",
          "2017-12-31T00:00:00",
          "2018-01-31T00:00:00",
          "2018-02-28T00:00:00",
          "2018-03-31T00:00:00",
          "2018-04-30T00:00:00",
          "2018-05-31T00:00:00",
          "2018-06-30T00:00:00",
          "2018-07-31T00:00:00",
          "2018-08-31T00:00:00",
          "2018-09-30T00:00:00",
          "2018-10-31T00:00:00",
          "2018-11-30T00:00:00",
          "2018-12-31T00:00:00",
          "2019-01-31T00:00:00",
          "2019-02-28T00:00:00",
          "2019-03-31T00:00:00",
          "2019-04-30T00:00:00",
          "2019-05-31T00:00:00",
          "2019-06-30T00:00:00",
          "2019-07-31T00:00:00",
          "2019-08-31T00:00:00",
          "2019-09-30T00:00:00",
          "2019-10-31T00:00:00"
         ],
         "xaxis": "x",
         "y": [
          2073.39930929304,
          1721.4993878150126,
          1739.8865369423206,
          1833.163361504185,
          2273.424130828586,
          2028.745724848505,
          2742.9049788658945,
          2167.9806964827408,
          1900.1622946554937,
          2352.409240293944,
          1903.026198653432,
          2414.197798998069,
          2049.751395685897,
          1740.952849622776,
          1741.3830529239513,
          2262.9423568127886,
          1838.7407912401209,
          1987.5650135346468,
          2746.1115918977225,
          2196.5076127020534,
          1903.6058359755393,
          2342.210684403717,
          1907.5953841940898,
          2418.677860142302,
          1730.4741723554355,
          1742.6690942972864,
          1783.8965848371333,
          2279.384472037879,
          1848.0616193500541,
          1954.0572885964746,
          2702.7351252163,
          2287.7949761356936,
          2465.383088668733,
          1891.551583981441
         ],
         "yaxis": "y"
        },
        {
         "hovertemplate": "COMUNIDAD=Aragon<br>Tiempo=%{x}<br>Consumo / Población * 100=%{y}<extra></extra>",
         "legendgroup": "Aragon",
         "line": {
          "color": "#EF553B",
          "dash": "solid"
         },
         "marker": {
          "symbol": "circle"
         },
         "mode": "lines",
         "name": "Aragon",
         "orientation": "v",
         "showlegend": true,
         "type": "scatter",
         "x": [
          "2017-01-31T00:00:00",
          "2017-02-28T00:00:00",
          "2017-03-31T00:00:00",
          "2017-04-30T00:00:00",
          "2017-05-31T00:00:00",
          "2017-06-30T00:00:00",
          "2017-07-31T00:00:00",
          "2017-08-31T00:00:00",
          "2017-09-30T00:00:00",
          "2017-10-31T00:00:00",
          "2017-11-30T00:00:00",
          "2017-12-31T00:00:00",
          "2018-01-31T00:00:00",
          "2018-02-28T00:00:00",
          "2018-03-31T00:00:00",
          "2018-04-30T00:00:00",
          "2018-05-31T00:00:00",
          "2018-06-30T00:00:00",
          "2018-07-31T00:00:00",
          "2018-08-31T00:00:00",
          "2018-09-30T00:00:00",
          "2018-10-31T00:00:00",
          "2018-11-30T00:00:00",
          "2018-12-31T00:00:00",
          "2019-01-31T00:00:00",
          "2019-02-28T00:00:00",
          "2019-03-31T00:00:00",
          "2019-04-30T00:00:00",
          "2019-05-31T00:00:00",
          "2019-06-30T00:00:00",
          "2019-07-31T00:00:00",
          "2019-08-31T00:00:00",
          "2019-09-30T00:00:00",
          "2019-10-31T00:00:00"
         ],
         "xaxis": "x",
         "y": [
          2048.255205348615,
          1727.6775549188158,
          1731.7004775549187,
          1808.9574021012415,
          2255.265711556829,
          1909.1102196752627,
          2413.135434574976,
          1896.4217765042981,
          1765.3516714422158,
          2340.783190066858,
          1909.7405921680993,
          2446.012607449857,
          2032.4521214492238,
          1756.6537890226234,
          1763.5589671803464,
          2241.531471780232,
          1807.8355471878037,
          1876.237843157631,
          2435.2294747266046,
          1913.865982847467,
          1844.5628121351417,
          2341.093794890917,
          1910.957815527749,
          2423.9406507692966,
          1712.350042560739,
          1753.6949770748076,
          1814.1986870220446,
          2300.8676630099044,
          1835.6943236935597,
          1905.9017305507277,
          2506.599377999243,
          2015.154351845044,
          2366.3475306054543,
          1859.5253056376494
         ],
         "yaxis": "y"
        },
        {
         "hovertemplate": "COMUNIDAD=Asturias<br>Tiempo=%{x}<br>Consumo / Población * 100=%{y}<extra></extra>",
         "legendgroup": "Asturias",
         "line": {
          "color": "#00cc96",
          "dash": "solid"
         },
         "marker": {
          "symbol": "circle"
         },
         "mode": "lines",
         "name": "Asturias",
         "orientation": "v",
         "showlegend": true,
         "type": "scatter",
         "x": [
          "2017-01-31T00:00:00",
          "2017-02-28T00:00:00",
          "2017-03-31T00:00:00",
          "2017-04-30T00:00:00",
          "2017-05-31T00:00:00",
          "2017-06-30T00:00:00",
          "2017-07-31T00:00:00",
          "2017-08-31T00:00:00",
          "2017-09-30T00:00:00",
          "2017-10-31T00:00:00",
          "2017-11-30T00:00:00",
          "2017-12-31T00:00:00",
          "2018-01-31T00:00:00",
          "2018-02-28T00:00:00",
          "2018-03-31T00:00:00",
          "2018-04-30T00:00:00",
          "2018-05-31T00:00:00",
          "2018-06-30T00:00:00",
          "2018-07-31T00:00:00",
          "2018-08-31T00:00:00",
          "2018-09-30T00:00:00",
          "2018-10-31T00:00:00",
          "2018-11-30T00:00:00",
          "2018-12-31T00:00:00",
          "2019-01-31T00:00:00",
          "2019-02-28T00:00:00",
          "2019-03-31T00:00:00",
          "2019-04-30T00:00:00",
          "2019-05-31T00:00:00",
          "2019-06-30T00:00:00",
          "2019-07-31T00:00:00",
          "2019-08-31T00:00:00",
          "2019-09-30T00:00:00",
          "2019-10-31T00:00:00"
         ],
         "xaxis": "x",
         "y": [
          2190.7890160006186,
          1798.7265208317226,
          1818.183311432326,
          1874.562301924712,
          2228.732511401407,
          1869.8220221071347,
          2467.0016232511402,
          1946.624990337791,
          1779.8513952230037,
          2289.2681842776533,
          1962.585993661591,
          2433.4351086032316,
          2157.4927740886405,
          1798.998097727777,
          1847.2113622836603,
          2284.5248793088026,
          1836.176043818393,
          1892.8094887983787,
          2492.393828702137,
          2045.6681488051472,
          1875.5558019302812,
          2358.4830059791257,
          2013.8624684413426,
          2488.856730503655,
          1857.769847477513,
          1840.101681658193,
          1888.47379741885,
          2374.7604614782954,
          1891.9035979663668,
          1912.9536566288618,
          2486.1615174032067,
          2136.4313648807197,
          2389.9325381306217,
          1905.8408290965979
         ],
         "yaxis": "y"
        },
        {
         "hovertemplate": "COMUNIDAD=Baleares<br>Tiempo=%{x}<br>Consumo / Población * 100=%{y}<extra></extra>",
         "legendgroup": "Baleares",
         "line": {
          "color": "#ab63fa",
          "dash": "solid"
         },
         "marker": {
          "symbol": "circle"
         },
         "mode": "lines",
         "name": "Baleares",
         "orientation": "v",
         "showlegend": true,
         "type": "scatter",
         "x": [
          "2017-01-31T00:00:00",
          "2017-02-28T00:00:00",
          "2017-03-31T00:00:00",
          "2017-04-30T00:00:00",
          "2017-05-31T00:00:00",
          "2017-06-30T00:00:00",
          "2017-07-31T00:00:00",
          "2017-08-31T00:00:00",
          "2017-09-30T00:00:00",
          "2017-10-31T00:00:00",
          "2017-11-30T00:00:00",
          "2017-12-31T00:00:00",
          "2018-01-31T00:00:00",
          "2018-02-28T00:00:00",
          "2018-03-31T00:00:00",
          "2018-04-30T00:00:00",
          "2018-05-31T00:00:00",
          "2018-06-30T00:00:00",
          "2018-07-31T00:00:00",
          "2018-08-31T00:00:00",
          "2018-09-30T00:00:00",
          "2018-10-31T00:00:00",
          "2018-11-30T00:00:00",
          "2018-12-31T00:00:00",
          "2019-01-31T00:00:00",
          "2019-02-28T00:00:00",
          "2019-03-31T00:00:00",
          "2019-04-30T00:00:00",
          "2019-05-31T00:00:00",
          "2019-06-30T00:00:00",
          "2019-07-31T00:00:00",
          "2019-08-31T00:00:00",
          "2019-09-30T00:00:00",
          "2019-10-31T00:00:00"
         ],
         "xaxis": "x",
         "y": [
          2460.045215094279,
          2083.4481034481214,
          2196.0942617332094,
          2429.7781628836583,
          3178.2349267338054,
          2959.9067741100125,
          4326.0952742789195,
          3321.090789507876,
          2735.345640990718,
          3187.208949111962,
          2372.9985421133892,
          2764.9155599601795,
          2490.9939516771956,
          2176.8974974045714,
          2328.9143136553203,
          3024.364252888632,
          2618.9538917254554,
          2963.8827964723428,
          4324.384272234762,
          3319.8648605555104,
          2815.6935729040806,
          3184.1080052581788,
          2321.4052872333264,
          2697.373922409975,
          2074.064343256834,
          2114.8147825935657,
          2204.851843474327,
          2981.861917770083,
          2468.8723400553304,
          2784.3222034694554,
          4086.854696988151,
          3363.260139543786,
          3531.2659857672297,
          2586.762479773111
         ],
         "yaxis": "y"
        },
        {
         "hovertemplate": "COMUNIDAD=C_Valenciana<br>Tiempo=%{x}<br>Consumo / Población * 100=%{y}<extra></extra>",
         "legendgroup": "C_Valenciana",
         "line": {
          "color": "#FFA15A",
          "dash": "solid"
         },
         "marker": {
          "symbol": "circle"
         },
         "mode": "lines",
         "name": "C_Valenciana",
         "orientation": "v",
         "showlegend": true,
         "type": "scatter",
         "x": [
          "2017-01-31T00:00:00",
          "2017-02-28T00:00:00",
          "2017-03-31T00:00:00",
          "2017-04-30T00:00:00",
          "2017-05-31T00:00:00",
          "2017-06-30T00:00:00",
          "2017-07-31T00:00:00",
          "2017-08-31T00:00:00",
          "2017-09-30T00:00:00",
          "2017-10-31T00:00:00",
          "2017-11-30T00:00:00",
          "2017-12-31T00:00:00",
          "2018-01-31T00:00:00",
          "2018-02-28T00:00:00",
          "2018-03-31T00:00:00",
          "2018-04-30T00:00:00",
          "2018-05-31T00:00:00",
          "2018-06-30T00:00:00",
          "2018-07-31T00:00:00",
          "2018-08-31T00:00:00",
          "2018-09-30T00:00:00",
          "2018-10-31T00:00:00",
          "2018-11-30T00:00:00",
          "2018-12-31T00:00:00",
          "2019-01-31T00:00:00",
          "2019-02-28T00:00:00",
          "2019-03-31T00:00:00",
          "2019-04-30T00:00:00",
          "2019-05-31T00:00:00",
          "2019-06-30T00:00:00",
          "2019-07-31T00:00:00",
          "2019-08-31T00:00:00",
          "2019-09-30T00:00:00",
          "2019-10-31T00:00:00"
         ],
         "xaxis": "x",
         "y": [
          2239.9991581518925,
          1854.717253373413,
          1911.0251544619264,
          2074.8941264702744,
          2449.8988062148624,
          2305.7126881687354,
          3391.402302414101,
          2588.819730976914,
          2112.5907086276684,
          2561.253859903928,
          2050.1423755375126,
          2469.7030805772083,
          2240.642117386959,
          1909.018126185229,
          2090.773964518022,
          2480.833764630962,
          2048.189224858941,
          2327.623147476793,
          3446.2843566587285,
          2659.0321781943844,
          2174.5579862453496,
          2586.654963038683,
          2041.3388955785629,
          2438.9799309104515,
          1919.165333171855,
          1900.28736338548,
          2002.1098096255043,
          2619.3213555621774,
          2029.2729340623039,
          2248.2628594565417,
          3309.5380702026814,
          2797.8192038841125,
          2816.2029462191404,
          2102.953393731805
         ],
         "yaxis": "y"
        },
        {
         "hovertemplate": "COMUNIDAD=Canarias<br>Tiempo=%{x}<br>Consumo / Población * 100=%{y}<extra></extra>",
         "legendgroup": "Canarias",
         "line": {
          "color": "#19d3f3",
          "dash": "solid"
         },
         "marker": {
          "symbol": "circle"
         },
         "mode": "lines",
         "name": "Canarias",
         "orientation": "v",
         "showlegend": true,
         "type": "scatter",
         "x": [
          "2017-01-31T00:00:00",
          "2017-02-28T00:00:00",
          "2017-03-31T00:00:00",
          "2017-04-30T00:00:00",
          "2017-05-31T00:00:00",
          "2017-06-30T00:00:00",
          "2017-07-31T00:00:00",
          "2017-08-31T00:00:00",
          "2017-09-30T00:00:00",
          "2017-10-31T00:00:00",
          "2017-11-30T00:00:00",
          "2017-12-31T00:00:00",
          "2018-01-31T00:00:00",
          "2018-02-28T00:00:00",
          "2018-03-31T00:00:00",
          "2018-04-30T00:00:00",
          "2018-05-31T00:00:00",
          "2018-06-30T00:00:00",
          "2018-07-31T00:00:00",
          "2018-08-31T00:00:00",
          "2018-09-30T00:00:00",
          "2018-10-31T00:00:00",
          "2018-11-30T00:00:00",
          "2018-12-31T00:00:00",
          "2019-01-31T00:00:00",
          "2019-02-28T00:00:00",
          "2019-03-31T00:00:00",
          "2019-04-30T00:00:00",
          "2019-05-31T00:00:00",
          "2019-06-30T00:00:00",
          "2019-07-31T00:00:00",
          "2019-08-31T00:00:00",
          "2019-09-30T00:00:00",
          "2019-10-31T00:00:00"
         ],
         "xaxis": "x",
         "y": [
          3072.400493140574,
          2570.4288321211166,
          2494.888101774044,
          2591.1757437073106,
          3045.3754789217505,
          2585.348279344497,
          3467.60740963161,
          2794.1783227812825,
          2638.3978908231547,
          3458.246941233449,
          2823.1434533406764,
          3279.42371429344,
          3078.396473162146,
          2663.1865149211467,
          2620.4372357750326,
          3217.267593652256,
          2462.5233528459335,
          2589.830261528375,
          3476.1099504860913,
          2751.4514601550513,
          2654.0535840596704,
          3384.605803960643,
          2751.0317551705257,
          3186.165245325318,
          2494.0672586327873,
          2537.8048276460963,
          2669.4944573414277,
          3181.298873543053,
          2437.4263080195915,
          2543.747088891046,
          3366.760487770672,
          2771.855897842888,
          3295.0196179139025,
          2652.178960698694
         ],
         "yaxis": "y"
        },
        {
         "hovertemplate": "COMUNIDAD=Cantabria<br>Tiempo=%{x}<br>Consumo / Población * 100=%{y}<extra></extra>",
         "legendgroup": "Cantabria",
         "line": {
          "color": "#FF6692",
          "dash": "solid"
         },
         "marker": {
          "symbol": "circle"
         },
         "mode": "lines",
         "name": "Cantabria",
         "orientation": "v",
         "showlegend": true,
         "type": "scatter",
         "x": [
          "2017-01-31T00:00:00",
          "2017-02-28T00:00:00",
          "2017-03-31T00:00:00",
          "2017-04-30T00:00:00",
          "2017-05-31T00:00:00",
          "2017-06-30T00:00:00",
          "2017-07-31T00:00:00",
          "2017-08-31T00:00:00",
          "2017-09-30T00:00:00",
          "2017-10-31T00:00:00",
          "2017-11-30T00:00:00",
          "2017-12-31T00:00:00",
          "2018-01-31T00:00:00",
          "2018-02-28T00:00:00",
          "2018-03-31T00:00:00",
          "2018-04-30T00:00:00",
          "2018-05-31T00:00:00",
          "2018-06-30T00:00:00",
          "2018-07-31T00:00:00",
          "2018-08-31T00:00:00",
          "2018-09-30T00:00:00",
          "2018-10-31T00:00:00",
          "2018-11-30T00:00:00",
          "2018-12-31T00:00:00",
          "2019-01-31T00:00:00",
          "2019-02-28T00:00:00",
          "2019-03-31T00:00:00",
          "2019-04-30T00:00:00",
          "2019-05-31T00:00:00",
          "2019-06-30T00:00:00",
          "2019-07-31T00:00:00",
          "2019-08-31T00:00:00",
          "2019-09-30T00:00:00",
          "2019-10-31T00:00:00"
         ],
         "xaxis": "x",
         "y": [
          2542.3637977235717,
          2106.256300674657,
          2127.407611645801,
          2353.7597256567783,
          2694.1745146864955,
          2358.0937281899724,
          3621.9405647127755,
          2972.484684513911,
          2225.742079459585,
          2793.374059745474,
          2336.5822555769046,
          2889.013346659888,
          2513.393849669699,
          2097.897554241515,
          2238.8350116936585,
          2804.756397904965,
          2205.296529473708,
          2400.4108722590563,
          3689.0400169588206,
          3072.0370750169327,
          2363.721909797683,
          2855.4898152281257,
          2340.5655353317397,
          2821.3188241194425,
          2169.4746660517176,
          2098.70791873036,
          2217.3770130688135,
          2879.868107207638,
          2248.570759863564,
          2331.334175446326,
          3532.6789174603073,
          3239.22433821277,
          3099.1020138432364,
          2245.722605226837
         ],
         "yaxis": "y"
        },
        {
         "hovertemplate": "COMUNIDAD=Castilla_La_Mancha<br>Tiempo=%{x}<br>Consumo / Población * 100=%{y}<extra></extra>",
         "legendgroup": "Castilla_La_Mancha",
         "line": {
          "color": "#B6E880",
          "dash": "solid"
         },
         "marker": {
          "symbol": "circle"
         },
         "mode": "lines",
         "name": "Castilla_La_Mancha",
         "orientation": "v",
         "showlegend": true,
         "type": "scatter",
         "x": [
          "2017-01-31T00:00:00",
          "2017-02-28T00:00:00",
          "2017-03-31T00:00:00",
          "2017-04-30T00:00:00",
          "2017-05-31T00:00:00",
          "2017-06-30T00:00:00",
          "2017-07-31T00:00:00",
          "2017-08-31T00:00:00",
          "2017-09-30T00:00:00",
          "2017-10-31T00:00:00",
          "2017-11-30T00:00:00",
          "2017-12-31T00:00:00",
          "2018-01-31T00:00:00",
          "2018-02-28T00:00:00",
          "2018-03-31T00:00:00",
          "2018-04-30T00:00:00",
          "2018-05-31T00:00:00",
          "2018-06-30T00:00:00",
          "2018-07-31T00:00:00",
          "2018-08-31T00:00:00",
          "2018-09-30T00:00:00",
          "2018-10-31T00:00:00",
          "2018-11-30T00:00:00",
          "2018-12-31T00:00:00",
          "2019-01-31T00:00:00",
          "2019-02-28T00:00:00",
          "2019-03-31T00:00:00",
          "2019-04-30T00:00:00",
          "2019-05-31T00:00:00",
          "2019-06-30T00:00:00",
          "2019-07-31T00:00:00",
          "2019-08-31T00:00:00",
          "2019-09-30T00:00:00",
          "2019-10-31T00:00:00"
         ],
         "xaxis": "x",
         "y": [
          1918.0523155789451,
          1574.0797714374603,
          1582.7990345949922,
          1658.6560825881045,
          2027.1969338595181,
          1791.4391435993184,
          2341.258757781892,
          1878.8892230734357,
          1700.887383034725,
          2095.3891229001138,
          1722.1157590110454,
          2156.2861343878035,
          1891.6976308054982,
          1597.1772349315943,
          1600.3941174468016,
          2073.419422766943,
          1638.2324513384845,
          1792.743462993763,
          2393.5224222138568,
          1913.0588161576309,
          1725.8594429563345,
          2078.4228592066243,
          1692.2509148626389,
          2125.1140340446823,
          1580.1856790152606,
          1572.1246340751934,
          1626.5552572898418,
          2050.4121527127013,
          1674.854134292375,
          1733.5516461266698,
          2391.613699496719,
          1944.4822400722526,
          2174.4947888765746,
          1660.9171400138623
         ],
         "yaxis": "y"
        },
        {
         "hovertemplate": "COMUNIDAD=Castilla_y_Leon<br>Tiempo=%{x}<br>Consumo / Población * 100=%{y}<extra></extra>",
         "legendgroup": "Castilla_y_Leon",
         "line": {
          "color": "#FF97FF",
          "dash": "solid"
         },
         "marker": {
          "symbol": "circle"
         },
         "mode": "lines",
         "name": "Castilla_y_Leon",
         "orientation": "v",
         "showlegend": true,
         "type": "scatter",
         "x": [
          "2017-01-31T00:00:00",
          "2017-02-28T00:00:00",
          "2017-03-31T00:00:00",
          "2017-04-30T00:00:00",
          "2017-05-31T00:00:00",
          "2017-06-30T00:00:00",
          "2017-07-31T00:00:00",
          "2017-08-31T00:00:00",
          "2017-09-30T00:00:00",
          "2017-10-31T00:00:00",
          "2017-11-30T00:00:00",
          "2017-12-31T00:00:00",
          "2018-01-31T00:00:00",
          "2018-02-28T00:00:00",
          "2018-03-31T00:00:00",
          "2018-04-30T00:00:00",
          "2018-05-31T00:00:00",
          "2018-06-30T00:00:00",
          "2018-07-31T00:00:00",
          "2018-08-31T00:00:00",
          "2018-09-30T00:00:00",
          "2018-10-31T00:00:00",
          "2018-11-30T00:00:00",
          "2018-12-31T00:00:00",
          "2019-01-31T00:00:00",
          "2019-02-28T00:00:00",
          "2019-03-31T00:00:00",
          "2019-04-30T00:00:00",
          "2019-05-31T00:00:00",
          "2019-06-30T00:00:00",
          "2019-07-31T00:00:00",
          "2019-08-31T00:00:00",
          "2019-09-30T00:00:00",
          "2019-10-31T00:00:00"
         ],
         "xaxis": "x",
         "y": [
          2008.1494731018745,
          1651.5748818637637,
          1679.744958469388,
          1800.8385683739104,
          2135.1792665597877,
          1892.1853029164388,
          2565.376549848895,
          2137.6436072043834,
          1754.9831993638393,
          2228.159276049437,
          1893.8086842243035,
          2413.441580739723,
          1997.9739859968024,
          1687.8211695011216,
          1746.4747107295311,
          2178.1937634797796,
          1760.9124991075741,
          1869.7614608220945,
          2627.013769091685,
          2249.7974401078545,
          1829.9746302036722,
          2252.4377750954272,
          1903.4557215698057,
          2411.7673184556966,
          1705.5182892778141,
          1692.7671378109546,
          1764.6715131349738,
          2252.0553870979033,
          1806.7123474921111,
          1889.8109143888764,
          2621.6337410212254,
          2343.312157122925,
          2364.9083077312894,
          1794.5121331184039
         ],
         "yaxis": "y"
        },
        {
         "hovertemplate": "COMUNIDAD=Catalunya<br>Tiempo=%{x}<br>Consumo / Población * 100=%{y}<extra></extra>",
         "legendgroup": "Catalunya",
         "line": {
          "color": "#FECB52",
          "dash": "solid"
         },
         "marker": {
          "symbol": "circle"
         },
         "mode": "lines",
         "name": "Catalunya",
         "orientation": "v",
         "showlegend": true,
         "type": "scatter",
         "x": [
          "2017-01-31T00:00:00",
          "2017-02-28T00:00:00",
          "2017-03-31T00:00:00",
          "2017-04-30T00:00:00",
          "2017-05-31T00:00:00",
          "2017-06-30T00:00:00",
          "2017-07-31T00:00:00",
          "2017-08-31T00:00:00",
          "2017-09-30T00:00:00",
          "2017-10-31T00:00:00",
          "2017-11-30T00:00:00",
          "2017-12-31T00:00:00",
          "2018-01-31T00:00:00",
          "2018-02-28T00:00:00",
          "2018-03-31T00:00:00",
          "2018-04-30T00:00:00",
          "2018-05-31T00:00:00",
          "2018-06-30T00:00:00",
          "2018-07-31T00:00:00",
          "2018-08-31T00:00:00",
          "2018-09-30T00:00:00",
          "2018-10-31T00:00:00",
          "2018-11-30T00:00:00",
          "2018-12-31T00:00:00",
          "2019-01-31T00:00:00",
          "2019-02-28T00:00:00",
          "2019-03-31T00:00:00",
          "2019-04-30T00:00:00",
          "2019-05-31T00:00:00",
          "2019-06-30T00:00:00",
          "2019-07-31T00:00:00",
          "2019-08-31T00:00:00",
          "2019-09-30T00:00:00",
          "2019-10-31T00:00:00"
         ],
         "xaxis": "x",
         "y": [
          2138.308034987552,
          1791.590334880483,
          1814.4694891229683,
          1910.3530651166052,
          2332.146567617323,
          2097.9561477693383,
          2847.19587391458,
          2171.479638901352,
          1895.14983793971,
          2434.84660189549,
          2010.7007436641638,
          2469.4435952105855,
          2141.8929969677893,
          1852.53178755708,
          1946.611903977137,
          2350.793184005663,
          1910.9960243761072,
          2123.1511835754036,
          2903.0305661859475,
          2223.2075646721446,
          1979.4908333020837,
          2474.317259128705,
          2014.1877733940435,
          2496.806540470378,
          1828.4400297737507,
          1845.4420246359157,
          1914.041518304955,
          2454.6895547057497,
          1906.1200484624737,
          2107.4898598958175,
          2819.1127364867993,
          2287.5440525004046,
          2536.4541484625124,
          1966.6358618915924
         ],
         "yaxis": "y"
        },
        {
         "hovertemplate": "COMUNIDAD=Ceuta_y_Melilla<br>Tiempo=%{x}<br>Consumo / Población * 100=%{y}<extra></extra>",
         "legendgroup": "Ceuta_y_Melilla",
         "line": {
          "color": "#636efa",
          "dash": "solid"
         },
         "marker": {
          "symbol": "circle"
         },
         "mode": "lines",
         "name": "Ceuta_y_Melilla",
         "orientation": "v",
         "showlegend": true,
         "type": "scatter",
         "x": [
          "2017-01-31T00:00:00",
          "2017-02-28T00:00:00",
          "2017-03-31T00:00:00",
          "2017-04-30T00:00:00",
          "2017-05-31T00:00:00",
          "2017-06-30T00:00:00",
          "2017-07-31T00:00:00",
          "2017-08-31T00:00:00",
          "2017-09-30T00:00:00",
          "2017-10-31T00:00:00",
          "2017-11-30T00:00:00",
          "2017-12-31T00:00:00",
          "2018-01-31T00:00:00",
          "2018-02-28T00:00:00",
          "2018-03-31T00:00:00",
          "2018-04-30T00:00:00",
          "2018-05-31T00:00:00",
          "2018-06-30T00:00:00",
          "2018-07-31T00:00:00",
          "2018-08-31T00:00:00",
          "2018-09-30T00:00:00",
          "2018-10-31T00:00:00",
          "2018-11-30T00:00:00",
          "2018-12-31T00:00:00",
          "2019-01-31T00:00:00",
          "2019-02-28T00:00:00",
          "2019-03-31T00:00:00",
          "2019-04-30T00:00:00",
          "2019-05-31T00:00:00",
          "2019-06-30T00:00:00",
          "2019-07-31T00:00:00",
          "2019-08-31T00:00:00",
          "2019-09-30T00:00:00",
          "2019-10-31T00:00:00"
         ],
         "xaxis": "x",
         "y": [
          416.3573553738332,
          315.48582818463984,
          388.96650085632956,
          638.6990805417381,
          875.7825332156489,
          755.7210411564249,
          846.2172446647455,
          675.413113240082,
          638.9153548945225,
          871.6440942488558,
          790.6931885269379,
          1069.681258366018,
          1255.859101721002,
          1145.5505806632152,
          952.2526934378061,
          1340.440044774031,
          1167.663588452031,
          1125.4547362529731,
          1372.5863998880648,
          1095.5645725479221,
          1245.9365234830466,
          1763.4496991744786,
          1525.5818292057274,
          1751.8189450118928,
          1465.9648262331839,
          1653.8268404334829,
          1540.6331745142004,
          1837.928578101644,
          1608.0729166666667,
          1569.565115844544,
          2143.766349028401,
          1752.2655082212257,
          2033.0133594917786,
          1568.7885369955156
         ],
         "yaxis": "y"
        },
        {
         "hovertemplate": "COMUNIDAD=Extremadura<br>Tiempo=%{x}<br>Consumo / Población * 100=%{y}<extra></extra>",
         "legendgroup": "Extremadura",
         "line": {
          "color": "#EF553B",
          "dash": "solid"
         },
         "marker": {
          "symbol": "circle"
         },
         "mode": "lines",
         "name": "Extremadura",
         "orientation": "v",
         "showlegend": true,
         "type": "scatter",
         "x": [
          "2017-01-31T00:00:00",
          "2017-02-28T00:00:00",
          "2017-03-31T00:00:00",
          "2017-04-30T00:00:00",
          "2017-05-31T00:00:00",
          "2017-06-30T00:00:00",
          "2017-07-31T00:00:00",
          "2017-08-31T00:00:00",
          "2017-09-30T00:00:00",
          "2017-10-31T00:00:00",
          "2017-11-30T00:00:00",
          "2017-12-31T00:00:00",
          "2018-01-31T00:00:00",
          "2018-02-28T00:00:00",
          "2018-03-31T00:00:00",
          "2018-04-30T00:00:00",
          "2018-05-31T00:00:00",
          "2018-06-30T00:00:00",
          "2018-07-31T00:00:00",
          "2018-08-31T00:00:00",
          "2018-09-30T00:00:00",
          "2018-10-31T00:00:00",
          "2018-11-30T00:00:00",
          "2018-12-31T00:00:00",
          "2019-01-31T00:00:00",
          "2019-02-28T00:00:00",
          "2019-03-31T00:00:00",
          "2019-04-30T00:00:00",
          "2019-05-31T00:00:00",
          "2019-06-30T00:00:00",
          "2019-07-31T00:00:00",
          "2019-08-31T00:00:00",
          "2019-09-30T00:00:00",
          "2019-10-31T00:00:00"
         ],
         "xaxis": "x",
         "y": [
          1859.5581154159568,
          1576.475109267353,
          1580.2818727313133,
          1877.4927772427588,
          2153.145603378028,
          1790.3159493295798,
          2354.4031039336246,
          2030.4615156678274,
          1762.7194607007925,
          2123.4878509519226,
          1698.634158085784,
          2301.38343581006,
          1838.3959554947835,
          1572.596873971793,
          1632.638090790716,
          2048.2932117148225,
          1669.939218707328,
          1714.838707272038,
          2308.410300289972,
          1975.1356883404496,
          1695.1567907552035,
          2127.726466473352,
          1724.5090938917642,
          2263.303888753737,
          1538.2454037144917,
          1543.8386827883976,
          1608.9846493898156,
          2119.487501287803,
          1675.2367215817028,
          1718.405746878834,
          2261.172977681206,
          2010.419495930543,
          2204.4721881409746,
          1691.0097311067616
         ],
         "yaxis": "y"
        },
        {
         "hovertemplate": "COMUNIDAD=Galicia<br>Tiempo=%{x}<br>Consumo / Población * 100=%{y}<extra></extra>",
         "legendgroup": "Galicia",
         "line": {
          "color": "#00cc96",
          "dash": "solid"
         },
         "marker": {
          "symbol": "circle"
         },
         "mode": "lines",
         "name": "Galicia",
         "orientation": "v",
         "showlegend": true,
         "type": "scatter",
         "x": [
          "2017-01-31T00:00:00",
          "2017-02-28T00:00:00",
          "2017-03-31T00:00:00",
          "2017-04-30T00:00:00",
          "2017-05-31T00:00:00",
          "2017-06-30T00:00:00",
          "2017-07-31T00:00:00",
          "2017-08-31T00:00:00",
          "2017-09-30T00:00:00",
          "2017-10-31T00:00:00",
          "2017-11-30T00:00:00",
          "2017-12-31T00:00:00",
          "2018-01-31T00:00:00",
          "2018-02-28T00:00:00",
          "2018-03-31T00:00:00",
          "2018-04-30T00:00:00",
          "2018-05-31T00:00:00",
          "2018-06-30T00:00:00",
          "2018-07-31T00:00:00",
          "2018-08-31T00:00:00",
          "2018-09-30T00:00:00",
          "2018-10-31T00:00:00",
          "2018-11-30T00:00:00",
          "2018-12-31T00:00:00",
          "2019-01-31T00:00:00",
          "2019-02-28T00:00:00",
          "2019-03-31T00:00:00",
          "2019-04-30T00:00:00",
          "2019-05-31T00:00:00",
          "2019-06-30T00:00:00",
          "2019-07-31T00:00:00",
          "2019-08-31T00:00:00",
          "2019-09-30T00:00:00",
          "2019-10-31T00:00:00"
         ],
         "xaxis": "x",
         "y": [
          2078.109867339355,
          1703.776004407129,
          1726.97324817905,
          1841.0221172460317,
          2198.197123772172,
          1910.4569258132015,
          2543.767600732405,
          2034.4720509507856,
          1793.7256008202812,
          2279.6802763612677,
          1943.3431339282122,
          2481.3212083125486,
          2030.805298653499,
          1729.4431779780684,
          1799.8517993754401,
          2237.4637409997913,
          1808.6083687456578,
          1927.6807601611258,
          2597.311809450418,
          2099.28849635217,
          1877.341035028128,
          2300.595208352534,
          1951.9724859100218,
          2457.603110288432,
          1753.4801828042907,
          1749.2290236077138,
          1779.863967350979,
          2329.2818408156477,
          1828.476320976596,
          1926.5634104698688,
          2543.1096659046734,
          2174.1356451697147,
          2411.7882614514765,
          1847.010871276485
         ],
         "yaxis": "y"
        },
        {
         "hovertemplate": "COMUNIDAD=La_Rioja<br>Tiempo=%{x}<br>Consumo / Población * 100=%{y}<extra></extra>",
         "legendgroup": "La_Rioja",
         "line": {
          "color": "#ab63fa",
          "dash": "solid"
         },
         "marker": {
          "symbol": "circle"
         },
         "mode": "lines",
         "name": "La_Rioja",
         "orientation": "v",
         "showlegend": true,
         "type": "scatter",
         "x": [
          "2017-01-31T00:00:00",
          "2017-02-28T00:00:00",
          "2017-03-31T00:00:00",
          "2017-04-30T00:00:00",
          "2017-05-31T00:00:00",
          "2017-06-30T00:00:00",
          "2017-07-31T00:00:00",
          "2017-08-31T00:00:00",
          "2017-09-30T00:00:00",
          "2017-10-31T00:00:00",
          "2017-11-30T00:00:00",
          "2017-12-31T00:00:00",
          "2018-01-31T00:00:00",
          "2018-02-28T00:00:00",
          "2018-03-31T00:00:00",
          "2018-04-30T00:00:00",
          "2018-05-31T00:00:00",
          "2018-06-30T00:00:00",
          "2018-07-31T00:00:00",
          "2018-08-31T00:00:00",
          "2018-09-30T00:00:00",
          "2018-10-31T00:00:00",
          "2018-11-30T00:00:00",
          "2018-12-31T00:00:00",
          "2019-01-31T00:00:00",
          "2019-02-28T00:00:00",
          "2019-03-31T00:00:00",
          "2019-04-30T00:00:00",
          "2019-05-31T00:00:00",
          "2019-06-30T00:00:00",
          "2019-07-31T00:00:00",
          "2019-08-31T00:00:00",
          "2019-09-30T00:00:00",
          "2019-10-31T00:00:00"
         ],
         "xaxis": "x",
         "y": [
          2106.7692727209314,
          1690.9452376649197,
          1740.954591430682,
          1904.0874370998888,
          2282.0366477371813,
          1935.563651583323,
          2602.702762690207,
          2075.6957457805006,
          1844.3913869256548,
          2326.3259359314607,
          1969.1103776067678,
          2493.9866383834155,
          2105.3393521818325,
          1728.049417913994,
          1806.5003563791875,
          2288.1159420289855,
          1826.9549378316306,
          1925.885800269264,
          2655.335392413083,
          2139.342678387582,
          1905.1968005068504,
          2364.5553179694302,
          1951.9885958660016,
          2522.3505187297064,
          1786.7095120550005,
          1756.876621695844,
          1825.816450861432,
          2343.051408152829,
          1874.7908762050267,
          1953.4624587276433,
          2774.525091698811,
          2244.430204736141,
          2478.9013819531688,
          1925.7160714398449
         ],
         "yaxis": "y"
        },
        {
         "hovertemplate": "COMUNIDAD=Madrid<br>Tiempo=%{x}<br>Consumo / Población * 100=%{y}<extra></extra>",
         "legendgroup": "Madrid",
         "line": {
          "color": "#FFA15A",
          "dash": "solid"
         },
         "marker": {
          "symbol": "circle"
         },
         "mode": "lines",
         "name": "Madrid",
         "orientation": "v",
         "showlegend": true,
         "type": "scatter",
         "x": [
          "2017-01-31T00:00:00",
          "2017-02-28T00:00:00",
          "2017-03-31T00:00:00",
          "2017-04-30T00:00:00",
          "2017-05-31T00:00:00",
          "2017-06-30T00:00:00",
          "2017-07-31T00:00:00",
          "2017-08-31T00:00:00",
          "2017-09-30T00:00:00",
          "2017-10-31T00:00:00",
          "2017-11-30T00:00:00",
          "2017-12-31T00:00:00",
          "2018-01-31T00:00:00",
          "2018-02-28T00:00:00",
          "2018-03-31T00:00:00",
          "2018-04-30T00:00:00",
          "2018-05-31T00:00:00",
          "2018-06-30T00:00:00",
          "2018-07-31T00:00:00",
          "2018-08-31T00:00:00",
          "2018-09-30T00:00:00",
          "2018-10-31T00:00:00",
          "2018-11-30T00:00:00",
          "2018-12-31T00:00:00",
          "2019-01-31T00:00:00",
          "2019-02-28T00:00:00",
          "2019-03-31T00:00:00",
          "2019-04-30T00:00:00",
          "2019-05-31T00:00:00",
          "2019-06-30T00:00:00",
          "2019-07-31T00:00:00",
          "2019-08-31T00:00:00",
          "2019-09-30T00:00:00",
          "2019-10-31T00:00:00"
         ],
         "xaxis": "x",
         "y": [
          2368.821905143607,
          1926.0311372784295,
          1897.0384117000533,
          1849.4769780599408,
          2398.4454719583773,
          2015.6775957157504,
          2215.0215823004237,
          1624.020928254065,
          1925.6620067912631,
          2538.4278360654935,
          2129.2450006024114,
          2569.6642357124065,
          2305.006674440973,
          1933.5915546164767,
          1838.1010626354594,
          2448.460865246526,
          1981.6805179749288,
          2028.5806844216984,
          2308.0840166255225,
          1683.1859270768866,
          1993.767025297203,
          2534.0317439179435,
          2121.8851278617967,
          2568.349361568932,
          1923.9105476878601,
          1928.1968018100088,
          1963.4088874228357,
          2377.872297510848,
          1943.5308793086526,
          2046.8001742055174,
          2426.6690518375467,
          1636.9713392304284,
          2399.556442257504,
          2003.901465229281
         ],
         "yaxis": "y"
        },
        {
         "hovertemplate": "COMUNIDAD=Murcia<br>Tiempo=%{x}<br>Consumo / Población * 100=%{y}<extra></extra>",
         "legendgroup": "Murcia",
         "line": {
          "color": "#19d3f3",
          "dash": "solid"
         },
         "marker": {
          "symbol": "circle"
         },
         "mode": "lines",
         "name": "Murcia",
         "orientation": "v",
         "showlegend": true,
         "type": "scatter",
         "x": [
          "2017-01-31T00:00:00",
          "2017-02-28T00:00:00",
          "2017-03-31T00:00:00",
          "2017-04-30T00:00:00",
          "2017-05-31T00:00:00",
          "2017-06-30T00:00:00",
          "2017-07-31T00:00:00",
          "2017-08-31T00:00:00",
          "2017-09-30T00:00:00",
          "2017-10-31T00:00:00",
          "2017-11-30T00:00:00",
          "2017-12-31T00:00:00",
          "2018-01-31T00:00:00",
          "2018-02-28T00:00:00",
          "2018-03-31T00:00:00",
          "2018-04-30T00:00:00",
          "2018-05-31T00:00:00",
          "2018-06-30T00:00:00",
          "2018-07-31T00:00:00",
          "2018-08-31T00:00:00",
          "2018-09-30T00:00:00",
          "2018-10-31T00:00:00",
          "2018-11-30T00:00:00",
          "2018-12-31T00:00:00",
          "2019-01-31T00:00:00",
          "2019-02-28T00:00:00",
          "2019-03-31T00:00:00",
          "2019-04-30T00:00:00",
          "2019-05-31T00:00:00",
          "2019-06-30T00:00:00",
          "2019-07-31T00:00:00",
          "2019-08-31T00:00:00",
          "2019-09-30T00:00:00",
          "2019-10-31T00:00:00"
         ],
         "xaxis": "x",
         "y": [
          1817.1543652097264,
          1495.416157407502,
          1514.8213971146854,
          1657.236445204394,
          1972.7227528493006,
          1817.8379117347595,
          2693.4705323433136,
          2067.776528576666,
          1684.534776874771,
          2038.7234207524723,
          1646.1085798351735,
          2018.6659212268744,
          1811.5723340202867,
          1537.9784634385046,
          1587.31127101695,
          2029.8834839693234,
          1636.5054253981546,
          1812.3792279925249,
          2656.567528503377,
          2073.313047130589,
          1701.5330985472526,
          2044.6733837940792,
          1631.0580456392217,
          2006.5545762656839,
          1525.4053489595674,
          1504.7038017321129,
          1549.406318235917,
          2005.2366359684531,
          1613.3484347659612,
          1732.1872042134069,
          2614.683867305532,
          2233.12903558342,
          2218.95604653062,
          1685.5206982002785
         ],
         "yaxis": "y"
        },
        {
         "hovertemplate": "COMUNIDAD=Navarra<br>Tiempo=%{x}<br>Consumo / Población * 100=%{y}<extra></extra>",
         "legendgroup": "Navarra",
         "line": {
          "color": "#FF6692",
          "dash": "solid"
         },
         "marker": {
          "symbol": "circle"
         },
         "mode": "lines",
         "name": "Navarra",
         "orientation": "v",
         "showlegend": true,
         "type": "scatter",
         "x": [
          "2017-01-31T00:00:00",
          "2017-02-28T00:00:00",
          "2017-03-31T00:00:00",
          "2017-04-30T00:00:00",
          "2017-05-31T00:00:00",
          "2017-06-30T00:00:00",
          "2017-07-31T00:00:00",
          "2017-08-31T00:00:00",
          "2017-09-30T00:00:00",
          "2017-10-31T00:00:00",
          "2017-11-30T00:00:00",
          "2017-12-31T00:00:00",
          "2018-01-31T00:00:00",
          "2018-02-28T00:00:00",
          "2018-03-31T00:00:00",
          "2018-04-30T00:00:00",
          "2018-05-31T00:00:00",
          "2018-06-30T00:00:00",
          "2018-07-31T00:00:00",
          "2018-08-31T00:00:00",
          "2018-09-30T00:00:00",
          "2018-10-31T00:00:00",
          "2018-11-30T00:00:00",
          "2018-12-31T00:00:00",
          "2019-01-31T00:00:00",
          "2019-02-28T00:00:00",
          "2019-03-31T00:00:00",
          "2019-04-30T00:00:00",
          "2019-05-31T00:00:00",
          "2019-06-30T00:00:00",
          "2019-07-31T00:00:00",
          "2019-08-31T00:00:00",
          "2019-09-30T00:00:00",
          "2019-10-31T00:00:00"
         ],
         "xaxis": "x",
         "y": [
          2053.187486979855,
          1672.8018108495507,
          1688.1306025489948,
          1728.6135372197368,
          2182.407957290815,
          1827.0582711734764,
          2282.506832661209,
          1792.4829844193562,
          1726.415270337078,
          2216.171719778494,
          1862.463737924301,
          2280.163983869012,
          2011.347316208378,
          1688.4553257334521,
          1691.9963431621147,
          2151.635230420938,
          1759.1274241221581,
          1803.7074900317193,
          2291.6853266291305,
          1819.000423130735,
          1783.4234673865037,
          2243.5843188367303,
          1871.5134181859737,
          2266.1631307968137,
          1687.6893493566326,
          1670.6857389172353,
          1713.9559838218076,
          2151.913594022751,
          1751.9083969465648,
          1760.9849376503714,
          2286.8312203652017,
          1790.5991006001095,
          2228.406912722748,
          1752.8667989373507
         ],
         "yaxis": "y"
        },
        {
         "hovertemplate": "COMUNIDAD=Pais_Vasco<br>Tiempo=%{x}<br>Consumo / Población * 100=%{y}<extra></extra>",
         "legendgroup": "Pais_Vasco",
         "line": {
          "color": "#B6E880",
          "dash": "solid"
         },
         "marker": {
          "symbol": "circle"
         },
         "mode": "lines",
         "name": "Pais_Vasco",
         "orientation": "v",
         "showlegend": true,
         "type": "scatter",
         "x": [
          "2017-01-31T00:00:00",
          "2017-02-28T00:00:00",
          "2017-03-31T00:00:00",
          "2017-04-30T00:00:00",
          "2017-05-31T00:00:00",
          "2017-06-30T00:00:00",
          "2017-07-31T00:00:00",
          "2017-08-31T00:00:00",
          "2017-09-30T00:00:00",
          "2017-10-31T00:00:00",
          "2017-11-30T00:00:00",
          "2017-12-31T00:00:00",
          "2018-01-31T00:00:00",
          "2018-02-28T00:00:00",
          "2018-03-31T00:00:00",
          "2018-04-30T00:00:00",
          "2018-05-31T00:00:00",
          "2018-06-30T00:00:00",
          "2018-07-31T00:00:00",
          "2018-08-31T00:00:00",
          "2018-09-30T00:00:00",
          "2018-10-31T00:00:00",
          "2018-11-30T00:00:00",
          "2018-12-31T00:00:00",
          "2019-01-31T00:00:00",
          "2019-02-28T00:00:00",
          "2019-03-31T00:00:00",
          "2019-04-30T00:00:00",
          "2019-05-31T00:00:00",
          "2019-06-30T00:00:00",
          "2019-07-31T00:00:00",
          "2019-08-31T00:00:00",
          "2019-09-30T00:00:00",
          "2019-10-31T00:00:00"
         ],
         "xaxis": "x",
         "y": [
          2339.9873664521883,
          1883.2873475839024,
          1881.8002167574077,
          1790.5155417248898,
          2348.168636898528,
          1904.9585307894874,
          2251.2435294085476,
          1731.5776712524805,
          1848.5596752831839,
          2425.4183153628865,
          2123.155214893367,
          2601.7392548759026,
          2325.25983498614,
          1920.7635165122995,
          1865.6283877680203,
          2375.7703193323778,
          1941.2201785467432,
          1937.7732951114278,
          2351.061440015134,
          1790.373100121505,
          1942.0919035527454,
          2448.083478241889,
          2106.852022292878,
          2554.7745247120624,
          1959.4034902091519,
          1900.318691751337,
          1931.086305857116,
          2351.8282651863233,
          1949.4876291797718,
          1971.5532735205022,
          2420.4570572376906,
          1760.0675974374212,
          2394.2705238212575,
          1921.5744713231775
         ],
         "yaxis": "y"
        }
       ],
       "layout": {
        "legend": {
         "title": {
          "text": "COMUNIDAD"
         },
         "tracegroupgap": 0
        },
        "template": {
         "data": {
          "bar": [
           {
            "error_x": {
             "color": "#2a3f5f"
            },
            "error_y": {
             "color": "#2a3f5f"
            },
            "marker": {
             "line": {
              "color": "#E5ECF6",
              "width": 0.5
             },
             "pattern": {
              "fillmode": "overlay",
              "size": 10,
              "solidity": 0.2
             }
            },
            "type": "bar"
           }
          ],
          "barpolar": [
           {
            "marker": {
             "line": {
              "color": "#E5ECF6",
              "width": 0.5
             },
             "pattern": {
              "fillmode": "overlay",
              "size": 10,
              "solidity": 0.2
             }
            },
            "type": "barpolar"
           }
          ],
          "carpet": [
           {
            "aaxis": {
             "endlinecolor": "#2a3f5f",
             "gridcolor": "white",
             "linecolor": "white",
             "minorgridcolor": "white",
             "startlinecolor": "#2a3f5f"
            },
            "baxis": {
             "endlinecolor": "#2a3f5f",
             "gridcolor": "white",
             "linecolor": "white",
             "minorgridcolor": "white",
             "startlinecolor": "#2a3f5f"
            },
            "type": "carpet"
           }
          ],
          "choropleth": [
           {
            "colorbar": {
             "outlinewidth": 0,
             "ticks": ""
            },
            "type": "choropleth"
           }
          ],
          "contour": [
           {
            "colorbar": {
             "outlinewidth": 0,
             "ticks": ""
            },
            "colorscale": [
             [
              0,
              "#0d0887"
             ],
             [
              0.1111111111111111,
              "#46039f"
             ],
             [
              0.2222222222222222,
              "#7201a8"
             ],
             [
              0.3333333333333333,
              "#9c179e"
             ],
             [
              0.4444444444444444,
              "#bd3786"
             ],
             [
              0.5555555555555556,
              "#d8576b"
             ],
             [
              0.6666666666666666,
              "#ed7953"
             ],
             [
              0.7777777777777778,
              "#fb9f3a"
             ],
             [
              0.8888888888888888,
              "#fdca26"
             ],
             [
              1,
              "#f0f921"
             ]
            ],
            "type": "contour"
           }
          ],
          "contourcarpet": [
           {
            "colorbar": {
             "outlinewidth": 0,
             "ticks": ""
            },
            "type": "contourcarpet"
           }
          ],
          "heatmap": [
           {
            "colorbar": {
             "outlinewidth": 0,
             "ticks": ""
            },
            "colorscale": [
             [
              0,
              "#0d0887"
             ],
             [
              0.1111111111111111,
              "#46039f"
             ],
             [
              0.2222222222222222,
              "#7201a8"
             ],
             [
              0.3333333333333333,
              "#9c179e"
             ],
             [
              0.4444444444444444,
              "#bd3786"
             ],
             [
              0.5555555555555556,
              "#d8576b"
             ],
             [
              0.6666666666666666,
              "#ed7953"
             ],
             [
              0.7777777777777778,
              "#fb9f3a"
             ],
             [
              0.8888888888888888,
              "#fdca26"
             ],
             [
              1,
              "#f0f921"
             ]
            ],
            "type": "heatmap"
           }
          ],
          "heatmapgl": [
           {
            "colorbar": {
             "outlinewidth": 0,
             "ticks": ""
            },
            "colorscale": [
             [
              0,
              "#0d0887"
             ],
             [
              0.1111111111111111,
              "#46039f"
             ],
             [
              0.2222222222222222,
              "#7201a8"
             ],
             [
              0.3333333333333333,
              "#9c179e"
             ],
             [
              0.4444444444444444,
              "#bd3786"
             ],
             [
              0.5555555555555556,
              "#d8576b"
             ],
             [
              0.6666666666666666,
              "#ed7953"
             ],
             [
              0.7777777777777778,
              "#fb9f3a"
             ],
             [
              0.8888888888888888,
              "#fdca26"
             ],
             [
              1,
              "#f0f921"
             ]
            ],
            "type": "heatmapgl"
           }
          ],
          "histogram": [
           {
            "marker": {
             "pattern": {
              "fillmode": "overlay",
              "size": 10,
              "solidity": 0.2
             }
            },
            "type": "histogram"
           }
          ],
          "histogram2d": [
           {
            "colorbar": {
             "outlinewidth": 0,
             "ticks": ""
            },
            "colorscale": [
             [
              0,
              "#0d0887"
             ],
             [
              0.1111111111111111,
              "#46039f"
             ],
             [
              0.2222222222222222,
              "#7201a8"
             ],
             [
              0.3333333333333333,
              "#9c179e"
             ],
             [
              0.4444444444444444,
              "#bd3786"
             ],
             [
              0.5555555555555556,
              "#d8576b"
             ],
             [
              0.6666666666666666,
              "#ed7953"
             ],
             [
              0.7777777777777778,
              "#fb9f3a"
             ],
             [
              0.8888888888888888,
              "#fdca26"
             ],
             [
              1,
              "#f0f921"
             ]
            ],
            "type": "histogram2d"
           }
          ],
          "histogram2dcontour": [
           {
            "colorbar": {
             "outlinewidth": 0,
             "ticks": ""
            },
            "colorscale": [
             [
              0,
              "#0d0887"
             ],
             [
              0.1111111111111111,
              "#46039f"
             ],
             [
              0.2222222222222222,
              "#7201a8"
             ],
             [
              0.3333333333333333,
              "#9c179e"
             ],
             [
              0.4444444444444444,
              "#bd3786"
             ],
             [
              0.5555555555555556,
              "#d8576b"
             ],
             [
              0.6666666666666666,
              "#ed7953"
             ],
             [
              0.7777777777777778,
              "#fb9f3a"
             ],
             [
              0.8888888888888888,
              "#fdca26"
             ],
             [
              1,
              "#f0f921"
             ]
            ],
            "type": "histogram2dcontour"
           }
          ],
          "mesh3d": [
           {
            "colorbar": {
             "outlinewidth": 0,
             "ticks": ""
            },
            "type": "mesh3d"
           }
          ],
          "parcoords": [
           {
            "line": {
             "colorbar": {
              "outlinewidth": 0,
              "ticks": ""
             }
            },
            "type": "parcoords"
           }
          ],
          "pie": [
           {
            "automargin": true,
            "type": "pie"
           }
          ],
          "scatter": [
           {
            "fillpattern": {
             "fillmode": "overlay",
             "size": 10,
             "solidity": 0.2
            },
            "type": "scatter"
           }
          ],
          "scatter3d": [
           {
            "line": {
             "colorbar": {
              "outlinewidth": 0,
              "ticks": ""
             }
            },
            "marker": {
             "colorbar": {
              "outlinewidth": 0,
              "ticks": ""
             }
            },
            "type": "scatter3d"
           }
          ],
          "scattercarpet": [
           {
            "marker": {
             "colorbar": {
              "outlinewidth": 0,
              "ticks": ""
             }
            },
            "type": "scattercarpet"
           }
          ],
          "scattergeo": [
           {
            "marker": {
             "colorbar": {
              "outlinewidth": 0,
              "ticks": ""
             }
            },
            "type": "scattergeo"
           }
          ],
          "scattergl": [
           {
            "marker": {
             "colorbar": {
              "outlinewidth": 0,
              "ticks": ""
             }
            },
            "type": "scattergl"
           }
          ],
          "scattermapbox": [
           {
            "marker": {
             "colorbar": {
              "outlinewidth": 0,
              "ticks": ""
             }
            },
            "type": "scattermapbox"
           }
          ],
          "scatterpolar": [
           {
            "marker": {
             "colorbar": {
              "outlinewidth": 0,
              "ticks": ""
             }
            },
            "type": "scatterpolar"
           }
          ],
          "scatterpolargl": [
           {
            "marker": {
             "colorbar": {
              "outlinewidth": 0,
              "ticks": ""
             }
            },
            "type": "scatterpolargl"
           }
          ],
          "scatterternary": [
           {
            "marker": {
             "colorbar": {
              "outlinewidth": 0,
              "ticks": ""
             }
            },
            "type": "scatterternary"
           }
          ],
          "surface": [
           {
            "colorbar": {
             "outlinewidth": 0,
             "ticks": ""
            },
            "colorscale": [
             [
              0,
              "#0d0887"
             ],
             [
              0.1111111111111111,
              "#46039f"
             ],
             [
              0.2222222222222222,
              "#7201a8"
             ],
             [
              0.3333333333333333,
              "#9c179e"
             ],
             [
              0.4444444444444444,
              "#bd3786"
             ],
             [
              0.5555555555555556,
              "#d8576b"
             ],
             [
              0.6666666666666666,
              "#ed7953"
             ],
             [
              0.7777777777777778,
              "#fb9f3a"
             ],
             [
              0.8888888888888888,
              "#fdca26"
             ],
             [
              1,
              "#f0f921"
             ]
            ],
            "type": "surface"
           }
          ],
          "table": [
           {
            "cells": {
             "fill": {
              "color": "#EBF0F8"
             },
             "line": {
              "color": "white"
             }
            },
            "header": {
             "fill": {
              "color": "#C8D4E3"
             },
             "line": {
              "color": "white"
             }
            },
            "type": "table"
           }
          ]
         },
         "layout": {
          "annotationdefaults": {
           "arrowcolor": "#2a3f5f",
           "arrowhead": 0,
           "arrowwidth": 1
          },
          "autotypenumbers": "strict",
          "coloraxis": {
           "colorbar": {
            "outlinewidth": 0,
            "ticks": ""
           }
          },
          "colorscale": {
           "diverging": [
            [
             0,
             "#8e0152"
            ],
            [
             0.1,
             "#c51b7d"
            ],
            [
             0.2,
             "#de77ae"
            ],
            [
             0.3,
             "#f1b6da"
            ],
            [
             0.4,
             "#fde0ef"
            ],
            [
             0.5,
             "#f7f7f7"
            ],
            [
             0.6,
             "#e6f5d0"
            ],
            [
             0.7,
             "#b8e186"
            ],
            [
             0.8,
             "#7fbc41"
            ],
            [
             0.9,
             "#4d9221"
            ],
            [
             1,
             "#276419"
            ]
           ],
           "sequential": [
            [
             0,
             "#0d0887"
            ],
            [
             0.1111111111111111,
             "#46039f"
            ],
            [
             0.2222222222222222,
             "#7201a8"
            ],
            [
             0.3333333333333333,
             "#9c179e"
            ],
            [
             0.4444444444444444,
             "#bd3786"
            ],
            [
             0.5555555555555556,
             "#d8576b"
            ],
            [
             0.6666666666666666,
             "#ed7953"
            ],
            [
             0.7777777777777778,
             "#fb9f3a"
            ],
            [
             0.8888888888888888,
             "#fdca26"
            ],
            [
             1,
             "#f0f921"
            ]
           ],
           "sequentialminus": [
            [
             0,
             "#0d0887"
            ],
            [
             0.1111111111111111,
             "#46039f"
            ],
            [
             0.2222222222222222,
             "#7201a8"
            ],
            [
             0.3333333333333333,
             "#9c179e"
            ],
            [
             0.4444444444444444,
             "#bd3786"
            ],
            [
             0.5555555555555556,
             "#d8576b"
            ],
            [
             0.6666666666666666,
             "#ed7953"
            ],
            [
             0.7777777777777778,
             "#fb9f3a"
            ],
            [
             0.8888888888888888,
             "#fdca26"
            ],
            [
             1,
             "#f0f921"
            ]
           ]
          },
          "colorway": [
           "#636efa",
           "#EF553B",
           "#00cc96",
           "#ab63fa",
           "#FFA15A",
           "#19d3f3",
           "#FF6692",
           "#B6E880",
           "#FF97FF",
           "#FECB52"
          ],
          "font": {
           "color": "#2a3f5f"
          },
          "geo": {
           "bgcolor": "white",
           "lakecolor": "white",
           "landcolor": "#E5ECF6",
           "showlakes": true,
           "showland": true,
           "subunitcolor": "white"
          },
          "hoverlabel": {
           "align": "left"
          },
          "hovermode": "closest",
          "mapbox": {
           "style": "light"
          },
          "paper_bgcolor": "white",
          "plot_bgcolor": "#E5ECF6",
          "polar": {
           "angularaxis": {
            "gridcolor": "white",
            "linecolor": "white",
            "ticks": ""
           },
           "bgcolor": "#E5ECF6",
           "radialaxis": {
            "gridcolor": "white",
            "linecolor": "white",
            "ticks": ""
           }
          },
          "scene": {
           "xaxis": {
            "backgroundcolor": "#E5ECF6",
            "gridcolor": "white",
            "gridwidth": 2,
            "linecolor": "white",
            "showbackground": true,
            "ticks": "",
            "zerolinecolor": "white"
           },
           "yaxis": {
            "backgroundcolor": "#E5ECF6",
            "gridcolor": "white",
            "gridwidth": 2,
            "linecolor": "white",
            "showbackground": true,
            "ticks": "",
            "zerolinecolor": "white"
           },
           "zaxis": {
            "backgroundcolor": "#E5ECF6",
            "gridcolor": "white",
            "gridwidth": 2,
            "linecolor": "white",
            "showbackground": true,
            "ticks": "",
            "zerolinecolor": "white"
           }
          },
          "shapedefaults": {
           "line": {
            "color": "#2a3f5f"
           }
          },
          "ternary": {
           "aaxis": {
            "gridcolor": "white",
            "linecolor": "white",
            "ticks": ""
           },
           "baxis": {
            "gridcolor": "white",
            "linecolor": "white",
            "ticks": ""
           },
           "bgcolor": "#E5ECF6",
           "caxis": {
            "gridcolor": "white",
            "linecolor": "white",
            "ticks": ""
           }
          },
          "title": {
           "x": 0.05
          },
          "xaxis": {
           "automargin": true,
           "gridcolor": "white",
           "linecolor": "white",
           "ticks": "",
           "title": {
            "standoff": 15
           },
           "zerolinecolor": "white",
           "zerolinewidth": 2
          },
          "yaxis": {
           "automargin": true,
           "gridcolor": "white",
           "linecolor": "white",
           "ticks": "",
           "title": {
            "standoff": 15
           },
           "zerolinecolor": "white",
           "zerolinewidth": 2
          }
         }
        },
        "title": {
         "text": "Consumo normalizado de alimentos relacionados con la diabetes por CCAA"
        },
        "xaxis": {
         "anchor": "y",
         "domain": [
          0,
          1
         ],
         "title": {
          "text": "Tiempo"
         }
        },
        "yaxis": {
         "anchor": "x",
         "domain": [
          0,
          1
         ],
         "title": {
          "text": "Consumo / Población * 100"
         }
        }
       }
      }
     },
     "metadata": {},
     "output_type": "display_data"
    }
   ],
   "source": [
    "fig = px.line(\n",
    "    df_diabetes_normalizado,\n",
    "    title='Consumo normalizado de alimentos relacionados con la diabetes por CCAA',\n",
    "    labels = {\n",
    "        'index' : 'Tiempo',\n",
    "        'value' : 'Consumo / Población * 100'\n",
    "    }\n",
    ")\n",
    "fig.show()"
   ]
  },
  {
   "cell_type": "markdown",
   "metadata": {},
   "source": [
    "## 2.3. Transformación dataset de muertes por diabetes mellitus por CC.AA. <a class=\"anchor\" id=\"etl_diabetes\"></a>\n",
    "\n",
    "Los datos de diabetes mellitus que tenemos se refieren a la *** Tasa de mortalidad ajustada por diabetes mellitus, por 100 000 hab. ***\n",
    "\n",
    "Por lo tanto para obtener los datos aproximados de muertes tenemos que dividir la población de cada CC.AA entre 100.000 y multiplicar por la tasa.\n",
    "\n",
    "El objetivo de este punto es transformar el dataset para que tenga una granularidad similar a la de los datos de consumos."
   ]
  },
  {
   "cell_type": "code",
   "execution_count": 1154,
   "metadata": {},
   "outputs": [
    {
     "data": {
      "application/vnd.plotly.v1+json": {
       "config": {
        "plotlyServerURL": "https://plot.ly"
       },
       "data": [
        {
         "hovertemplate": "CC.AA.=Ceuta_y_Melilla<br>Tiempo=%{x}<br>Tasa de muertes (*Poblacion / 100.000)=%{y}<extra></extra>",
         "legendgroup": "Ceuta_y_Melilla",
         "line": {
          "color": "#636efa",
          "dash": "solid"
         },
         "marker": {
          "symbol": "circle"
         },
         "mode": "lines",
         "name": "Ceuta_y_Melilla",
         "orientation": "v",
         "showlegend": true,
         "type": "scatter",
         "x": [
          "2016",
          "2017",
          "2018",
          "2019",
          "2020"
         ],
         "xaxis": "x",
         "y": [
          50.36,
          35.33,
          27.14,
          20.33,
          47.11
         ],
         "yaxis": "y"
        },
        {
         "hovertemplate": "CC.AA.=La_Rioja<br>Tiempo=%{x}<br>Tasa de muertes (*Poblacion / 100.000)=%{y}<extra></extra>",
         "legendgroup": "La_Rioja",
         "line": {
          "color": "#EF553B",
          "dash": "solid"
         },
         "marker": {
          "symbol": "circle"
         },
         "mode": "lines",
         "name": "La_Rioja",
         "orientation": "v",
         "showlegend": true,
         "type": "scatter",
         "x": [
          "2016",
          "2017",
          "2018",
          "2019",
          "2020"
         ],
         "xaxis": "x",
         "y": [
          15.88,
          15.51,
          19.18,
          15.2,
          15.82
         ],
         "yaxis": "y"
        },
        {
         "hovertemplate": "CC.AA.=Pais_Vasco<br>Tiempo=%{x}<br>Tasa de muertes (*Poblacion / 100.000)=%{y}<extra></extra>",
         "legendgroup": "Pais_Vasco",
         "line": {
          "color": "#00cc96",
          "dash": "solid"
         },
         "marker": {
          "symbol": "circle"
         },
         "mode": "lines",
         "name": "Pais_Vasco",
         "orientation": "v",
         "showlegend": true,
         "type": "scatter",
         "x": [
          "2016",
          "2017",
          "2018",
          "2019",
          "2020"
         ],
         "xaxis": "x",
         "y": [
          15.19,
          13.03,
          15.14,
          15.07,
          16.65
         ],
         "yaxis": "y"
        },
        {
         "hovertemplate": "CC.AA.=Navarra<br>Tiempo=%{x}<br>Tasa de muertes (*Poblacion / 100.000)=%{y}<extra></extra>",
         "legendgroup": "Navarra",
         "line": {
          "color": "#ab63fa",
          "dash": "solid"
         },
         "marker": {
          "symbol": "circle"
         },
         "mode": "lines",
         "name": "Navarra",
         "orientation": "v",
         "showlegend": true,
         "type": "scatter",
         "x": [
          "2016",
          "2017",
          "2018",
          "2019",
          "2020"
         ],
         "xaxis": "x",
         "y": [
          20.41,
          20.21,
          16.13,
          15.77,
          16.34
         ],
         "yaxis": "y"
        },
        {
         "hovertemplate": "CC.AA.=Murcia<br>Tiempo=%{x}<br>Tasa de muertes (*Poblacion / 100.000)=%{y}<extra></extra>",
         "legendgroup": "Murcia",
         "line": {
          "color": "#FFA15A",
          "dash": "solid"
         },
         "marker": {
          "symbol": "circle"
         },
         "mode": "lines",
         "name": "Murcia",
         "orientation": "v",
         "showlegend": true,
         "type": "scatter",
         "x": [
          "2016",
          "2017",
          "2018",
          "2019",
          "2020"
         ],
         "xaxis": "x",
         "y": [
          20.92,
          25.17,
          21.24,
          22.4,
          30.91
         ],
         "yaxis": "y"
        },
        {
         "hovertemplate": "CC.AA.=Madrid<br>Tiempo=%{x}<br>Tasa de muertes (*Poblacion / 100.000)=%{y}<extra></extra>",
         "legendgroup": "Madrid",
         "line": {
          "color": "#19d3f3",
          "dash": "solid"
         },
         "marker": {
          "symbol": "circle"
         },
         "mode": "lines",
         "name": "Madrid",
         "orientation": "v",
         "showlegend": true,
         "type": "scatter",
         "x": [
          "2016",
          "2017",
          "2018",
          "2019",
          "2020"
         ],
         "xaxis": "x",
         "y": [
          10.9,
          10.49,
          10.23,
          8.28,
          10.03
         ],
         "yaxis": "y"
        },
        {
         "hovertemplate": "CC.AA.=Galicia<br>Tiempo=%{x}<br>Tasa de muertes (*Poblacion / 100.000)=%{y}<extra></extra>",
         "legendgroup": "Galicia",
         "line": {
          "color": "#FF6692",
          "dash": "solid"
         },
         "marker": {
          "symbol": "circle"
         },
         "mode": "lines",
         "name": "Galicia",
         "orientation": "v",
         "showlegend": true,
         "type": "scatter",
         "x": [
          "2016",
          "2017",
          "2018",
          "2019",
          "2020"
         ],
         "xaxis": "x",
         "y": [
          16.32,
          14.4,
          12.66,
          11.08,
          12.88
         ],
         "yaxis": "y"
        },
        {
         "hovertemplate": "CC.AA.=Extremadura<br>Tiempo=%{x}<br>Tasa de muertes (*Poblacion / 100.000)=%{y}<extra></extra>",
         "legendgroup": "Extremadura",
         "line": {
          "color": "#B6E880",
          "dash": "solid"
         },
         "marker": {
          "symbol": "circle"
         },
         "mode": "lines",
         "name": "Extremadura",
         "orientation": "v",
         "showlegend": true,
         "type": "scatter",
         "x": [
          "2016",
          "2017",
          "2018",
          "2019",
          "2020"
         ],
         "xaxis": "x",
         "y": [
          19.58,
          17.68,
          17.88,
          16.88,
          22.17
         ],
         "yaxis": "y"
        },
        {
         "hovertemplate": "CC.AA.=C_Valenciana<br>Tiempo=%{x}<br>Tasa de muertes (*Poblacion / 100.000)=%{y}<extra></extra>",
         "legendgroup": "C_Valenciana",
         "line": {
          "color": "#FF97FF",
          "dash": "solid"
         },
         "marker": {
          "symbol": "circle"
         },
         "mode": "lines",
         "name": "C_Valenciana",
         "orientation": "v",
         "showlegend": true,
         "type": "scatter",
         "x": [
          "2016",
          "2017",
          "2018",
          "2019",
          "2020"
         ],
         "xaxis": "x",
         "y": [
          19.39,
          20.06,
          25.27,
          25.5,
          28.49
         ],
         "yaxis": "y"
        },
        {
         "hovertemplate": "CC.AA.=Catalunya<br>Tiempo=%{x}<br>Tasa de muertes (*Poblacion / 100.000)=%{y}<extra></extra>",
         "legendgroup": "Catalunya",
         "line": {
          "color": "#FECB52",
          "dash": "solid"
         },
         "marker": {
          "symbol": "circle"
         },
         "mode": "lines",
         "name": "Catalunya",
         "orientation": "v",
         "showlegend": true,
         "type": "scatter",
         "x": [
          "2016",
          "2017",
          "2018",
          "2019",
          "2020"
         ],
         "xaxis": "x",
         "y": [
          19.32,
          20.81,
          19.91,
          18.47,
          21.28
         ],
         "yaxis": "y"
        },
        {
         "hovertemplate": "CC.AA.=Castilla_La_Mancha<br>Tiempo=%{x}<br>Tasa de muertes (*Poblacion / 100.000)=%{y}<extra></extra>",
         "legendgroup": "Castilla_La_Mancha",
         "line": {
          "color": "#636efa",
          "dash": "solid"
         },
         "marker": {
          "symbol": "circle"
         },
         "mode": "lines",
         "name": "Castilla_La_Mancha",
         "orientation": "v",
         "showlegend": true,
         "type": "scatter",
         "x": [
          "2016",
          "2017",
          "2018",
          "2019",
          "2020"
         ],
         "xaxis": "x",
         "y": [
          22.59,
          23.78,
          18.72,
          17.36,
          21.38
         ],
         "yaxis": "y"
        },
        {
         "hovertemplate": "CC.AA.=Castilla_y_Leon<br>Tiempo=%{x}<br>Tasa de muertes (*Poblacion / 100.000)=%{y}<extra></extra>",
         "legendgroup": "Castilla_y_Leon",
         "line": {
          "color": "#EF553B",
          "dash": "solid"
         },
         "marker": {
          "symbol": "circle"
         },
         "mode": "lines",
         "name": "Castilla_y_Leon",
         "orientation": "v",
         "showlegend": true,
         "type": "scatter",
         "x": [
          "2016",
          "2017",
          "2018",
          "2019",
          "2020"
         ],
         "xaxis": "x",
         "y": [
          20.69,
          18.9,
          19.46,
          19.52,
          25.2
         ],
         "yaxis": "y"
        },
        {
         "hovertemplate": "CC.AA.=Cantabria<br>Tiempo=%{x}<br>Tasa de muertes (*Poblacion / 100.000)=%{y}<extra></extra>",
         "legendgroup": "Cantabria",
         "line": {
          "color": "#00cc96",
          "dash": "solid"
         },
         "marker": {
          "symbol": "circle"
         },
         "mode": "lines",
         "name": "Cantabria",
         "orientation": "v",
         "showlegend": true,
         "type": "scatter",
         "x": [
          "2016",
          "2017",
          "2018",
          "2019",
          "2020"
         ],
         "xaxis": "x",
         "y": [
          5.65,
          9.64,
          13.06,
          14.83,
          18.95
         ],
         "yaxis": "y"
        },
        {
         "hovertemplate": "CC.AA.=Canarias<br>Tiempo=%{x}<br>Tasa de muertes (*Poblacion / 100.000)=%{y}<extra></extra>",
         "legendgroup": "Canarias",
         "line": {
          "color": "#ab63fa",
          "dash": "solid"
         },
         "marker": {
          "symbol": "circle"
         },
         "mode": "lines",
         "name": "Canarias",
         "orientation": "v",
         "showlegend": true,
         "type": "scatter",
         "x": [
          "2016",
          "2017",
          "2018",
          "2019",
          "2020"
         ],
         "xaxis": "x",
         "y": [
          28.82,
          24.13,
          23.11,
          19.31,
          20
         ],
         "yaxis": "y"
        },
        {
         "hovertemplate": "CC.AA.=Baleares<br>Tiempo=%{x}<br>Tasa de muertes (*Poblacion / 100.000)=%{y}<extra></extra>",
         "legendgroup": "Baleares",
         "line": {
          "color": "#FFA15A",
          "dash": "solid"
         },
         "marker": {
          "symbol": "circle"
         },
         "mode": "lines",
         "name": "Baleares",
         "orientation": "v",
         "showlegend": true,
         "type": "scatter",
         "x": [
          "2016",
          "2017",
          "2018",
          "2019",
          "2020"
         ],
         "xaxis": "x",
         "y": [
          25.55,
          28.97,
          24.07,
          24.66,
          22.35
         ],
         "yaxis": "y"
        },
        {
         "hovertemplate": "CC.AA.=Asturias<br>Tiempo=%{x}<br>Tasa de muertes (*Poblacion / 100.000)=%{y}<extra></extra>",
         "legendgroup": "Asturias",
         "line": {
          "color": "#19d3f3",
          "dash": "solid"
         },
         "marker": {
          "symbol": "circle"
         },
         "mode": "lines",
         "name": "Asturias",
         "orientation": "v",
         "showlegend": true,
         "type": "scatter",
         "x": [
          "2016",
          "2017",
          "2018",
          "2019",
          "2020"
         ],
         "xaxis": "x",
         "y": [
          18.63,
          16.32,
          19.93,
          18.04,
          21.08
         ],
         "yaxis": "y"
        },
        {
         "hovertemplate": "CC.AA.=Aragon<br>Tiempo=%{x}<br>Tasa de muertes (*Poblacion / 100.000)=%{y}<extra></extra>",
         "legendgroup": "Aragon",
         "line": {
          "color": "#FF6692",
          "dash": "solid"
         },
         "marker": {
          "symbol": "circle"
         },
         "mode": "lines",
         "name": "Aragon",
         "orientation": "v",
         "showlegend": true,
         "type": "scatter",
         "x": [
          "2016",
          "2017",
          "2018",
          "2019",
          "2020"
         ],
         "xaxis": "x",
         "y": [
          14.16,
          23.98,
          20.84,
          21.21,
          20.91
         ],
         "yaxis": "y"
        },
        {
         "hovertemplate": "CC.AA.=Andalucia<br>Tiempo=%{x}<br>Tasa de muertes (*Poblacion / 100.000)=%{y}<extra></extra>",
         "legendgroup": "Andalucia",
         "line": {
          "color": "#B6E880",
          "dash": "solid"
         },
         "marker": {
          "symbol": "circle"
         },
         "mode": "lines",
         "name": "Andalucia",
         "orientation": "v",
         "showlegend": true,
         "type": "scatter",
         "x": [
          "2016",
          "2017",
          "2018",
          "2019",
          "2020"
         ],
         "xaxis": "x",
         "y": [
          19.88,
          21.62,
          20.95,
          20.82,
          23.66
         ],
         "yaxis": "y"
        }
       ],
       "layout": {
        "legend": {
         "title": {
          "text": "CC.AA."
         },
         "tracegroupgap": 0
        },
        "template": {
         "data": {
          "bar": [
           {
            "error_x": {
             "color": "#2a3f5f"
            },
            "error_y": {
             "color": "#2a3f5f"
            },
            "marker": {
             "line": {
              "color": "#E5ECF6",
              "width": 0.5
             },
             "pattern": {
              "fillmode": "overlay",
              "size": 10,
              "solidity": 0.2
             }
            },
            "type": "bar"
           }
          ],
          "barpolar": [
           {
            "marker": {
             "line": {
              "color": "#E5ECF6",
              "width": 0.5
             },
             "pattern": {
              "fillmode": "overlay",
              "size": 10,
              "solidity": 0.2
             }
            },
            "type": "barpolar"
           }
          ],
          "carpet": [
           {
            "aaxis": {
             "endlinecolor": "#2a3f5f",
             "gridcolor": "white",
             "linecolor": "white",
             "minorgridcolor": "white",
             "startlinecolor": "#2a3f5f"
            },
            "baxis": {
             "endlinecolor": "#2a3f5f",
             "gridcolor": "white",
             "linecolor": "white",
             "minorgridcolor": "white",
             "startlinecolor": "#2a3f5f"
            },
            "type": "carpet"
           }
          ],
          "choropleth": [
           {
            "colorbar": {
             "outlinewidth": 0,
             "ticks": ""
            },
            "type": "choropleth"
           }
          ],
          "contour": [
           {
            "colorbar": {
             "outlinewidth": 0,
             "ticks": ""
            },
            "colorscale": [
             [
              0,
              "#0d0887"
             ],
             [
              0.1111111111111111,
              "#46039f"
             ],
             [
              0.2222222222222222,
              "#7201a8"
             ],
             [
              0.3333333333333333,
              "#9c179e"
             ],
             [
              0.4444444444444444,
              "#bd3786"
             ],
             [
              0.5555555555555556,
              "#d8576b"
             ],
             [
              0.6666666666666666,
              "#ed7953"
             ],
             [
              0.7777777777777778,
              "#fb9f3a"
             ],
             [
              0.8888888888888888,
              "#fdca26"
             ],
             [
              1,
              "#f0f921"
             ]
            ],
            "type": "contour"
           }
          ],
          "contourcarpet": [
           {
            "colorbar": {
             "outlinewidth": 0,
             "ticks": ""
            },
            "type": "contourcarpet"
           }
          ],
          "heatmap": [
           {
            "colorbar": {
             "outlinewidth": 0,
             "ticks": ""
            },
            "colorscale": [
             [
              0,
              "#0d0887"
             ],
             [
              0.1111111111111111,
              "#46039f"
             ],
             [
              0.2222222222222222,
              "#7201a8"
             ],
             [
              0.3333333333333333,
              "#9c179e"
             ],
             [
              0.4444444444444444,
              "#bd3786"
             ],
             [
              0.5555555555555556,
              "#d8576b"
             ],
             [
              0.6666666666666666,
              "#ed7953"
             ],
             [
              0.7777777777777778,
              "#fb9f3a"
             ],
             [
              0.8888888888888888,
              "#fdca26"
             ],
             [
              1,
              "#f0f921"
             ]
            ],
            "type": "heatmap"
           }
          ],
          "heatmapgl": [
           {
            "colorbar": {
             "outlinewidth": 0,
             "ticks": ""
            },
            "colorscale": [
             [
              0,
              "#0d0887"
             ],
             [
              0.1111111111111111,
              "#46039f"
             ],
             [
              0.2222222222222222,
              "#7201a8"
             ],
             [
              0.3333333333333333,
              "#9c179e"
             ],
             [
              0.4444444444444444,
              "#bd3786"
             ],
             [
              0.5555555555555556,
              "#d8576b"
             ],
             [
              0.6666666666666666,
              "#ed7953"
             ],
             [
              0.7777777777777778,
              "#fb9f3a"
             ],
             [
              0.8888888888888888,
              "#fdca26"
             ],
             [
              1,
              "#f0f921"
             ]
            ],
            "type": "heatmapgl"
           }
          ],
          "histogram": [
           {
            "marker": {
             "pattern": {
              "fillmode": "overlay",
              "size": 10,
              "solidity": 0.2
             }
            },
            "type": "histogram"
           }
          ],
          "histogram2d": [
           {
            "colorbar": {
             "outlinewidth": 0,
             "ticks": ""
            },
            "colorscale": [
             [
              0,
              "#0d0887"
             ],
             [
              0.1111111111111111,
              "#46039f"
             ],
             [
              0.2222222222222222,
              "#7201a8"
             ],
             [
              0.3333333333333333,
              "#9c179e"
             ],
             [
              0.4444444444444444,
              "#bd3786"
             ],
             [
              0.5555555555555556,
              "#d8576b"
             ],
             [
              0.6666666666666666,
              "#ed7953"
             ],
             [
              0.7777777777777778,
              "#fb9f3a"
             ],
             [
              0.8888888888888888,
              "#fdca26"
             ],
             [
              1,
              "#f0f921"
             ]
            ],
            "type": "histogram2d"
           }
          ],
          "histogram2dcontour": [
           {
            "colorbar": {
             "outlinewidth": 0,
             "ticks": ""
            },
            "colorscale": [
             [
              0,
              "#0d0887"
             ],
             [
              0.1111111111111111,
              "#46039f"
             ],
             [
              0.2222222222222222,
              "#7201a8"
             ],
             [
              0.3333333333333333,
              "#9c179e"
             ],
             [
              0.4444444444444444,
              "#bd3786"
             ],
             [
              0.5555555555555556,
              "#d8576b"
             ],
             [
              0.6666666666666666,
              "#ed7953"
             ],
             [
              0.7777777777777778,
              "#fb9f3a"
             ],
             [
              0.8888888888888888,
              "#fdca26"
             ],
             [
              1,
              "#f0f921"
             ]
            ],
            "type": "histogram2dcontour"
           }
          ],
          "mesh3d": [
           {
            "colorbar": {
             "outlinewidth": 0,
             "ticks": ""
            },
            "type": "mesh3d"
           }
          ],
          "parcoords": [
           {
            "line": {
             "colorbar": {
              "outlinewidth": 0,
              "ticks": ""
             }
            },
            "type": "parcoords"
           }
          ],
          "pie": [
           {
            "automargin": true,
            "type": "pie"
           }
          ],
          "scatter": [
           {
            "fillpattern": {
             "fillmode": "overlay",
             "size": 10,
             "solidity": 0.2
            },
            "type": "scatter"
           }
          ],
          "scatter3d": [
           {
            "line": {
             "colorbar": {
              "outlinewidth": 0,
              "ticks": ""
             }
            },
            "marker": {
             "colorbar": {
              "outlinewidth": 0,
              "ticks": ""
             }
            },
            "type": "scatter3d"
           }
          ],
          "scattercarpet": [
           {
            "marker": {
             "colorbar": {
              "outlinewidth": 0,
              "ticks": ""
             }
            },
            "type": "scattercarpet"
           }
          ],
          "scattergeo": [
           {
            "marker": {
             "colorbar": {
              "outlinewidth": 0,
              "ticks": ""
             }
            },
            "type": "scattergeo"
           }
          ],
          "scattergl": [
           {
            "marker": {
             "colorbar": {
              "outlinewidth": 0,
              "ticks": ""
             }
            },
            "type": "scattergl"
           }
          ],
          "scattermapbox": [
           {
            "marker": {
             "colorbar": {
              "outlinewidth": 0,
              "ticks": ""
             }
            },
            "type": "scattermapbox"
           }
          ],
          "scatterpolar": [
           {
            "marker": {
             "colorbar": {
              "outlinewidth": 0,
              "ticks": ""
             }
            },
            "type": "scatterpolar"
           }
          ],
          "scatterpolargl": [
           {
            "marker": {
             "colorbar": {
              "outlinewidth": 0,
              "ticks": ""
             }
            },
            "type": "scatterpolargl"
           }
          ],
          "scatterternary": [
           {
            "marker": {
             "colorbar": {
              "outlinewidth": 0,
              "ticks": ""
             }
            },
            "type": "scatterternary"
           }
          ],
          "surface": [
           {
            "colorbar": {
             "outlinewidth": 0,
             "ticks": ""
            },
            "colorscale": [
             [
              0,
              "#0d0887"
             ],
             [
              0.1111111111111111,
              "#46039f"
             ],
             [
              0.2222222222222222,
              "#7201a8"
             ],
             [
              0.3333333333333333,
              "#9c179e"
             ],
             [
              0.4444444444444444,
              "#bd3786"
             ],
             [
              0.5555555555555556,
              "#d8576b"
             ],
             [
              0.6666666666666666,
              "#ed7953"
             ],
             [
              0.7777777777777778,
              "#fb9f3a"
             ],
             [
              0.8888888888888888,
              "#fdca26"
             ],
             [
              1,
              "#f0f921"
             ]
            ],
            "type": "surface"
           }
          ],
          "table": [
           {
            "cells": {
             "fill": {
              "color": "#EBF0F8"
             },
             "line": {
              "color": "white"
             }
            },
            "header": {
             "fill": {
              "color": "#C8D4E3"
             },
             "line": {
              "color": "white"
             }
            },
            "type": "table"
           }
          ]
         },
         "layout": {
          "annotationdefaults": {
           "arrowcolor": "#2a3f5f",
           "arrowhead": 0,
           "arrowwidth": 1
          },
          "autotypenumbers": "strict",
          "coloraxis": {
           "colorbar": {
            "outlinewidth": 0,
            "ticks": ""
           }
          },
          "colorscale": {
           "diverging": [
            [
             0,
             "#8e0152"
            ],
            [
             0.1,
             "#c51b7d"
            ],
            [
             0.2,
             "#de77ae"
            ],
            [
             0.3,
             "#f1b6da"
            ],
            [
             0.4,
             "#fde0ef"
            ],
            [
             0.5,
             "#f7f7f7"
            ],
            [
             0.6,
             "#e6f5d0"
            ],
            [
             0.7,
             "#b8e186"
            ],
            [
             0.8,
             "#7fbc41"
            ],
            [
             0.9,
             "#4d9221"
            ],
            [
             1,
             "#276419"
            ]
           ],
           "sequential": [
            [
             0,
             "#0d0887"
            ],
            [
             0.1111111111111111,
             "#46039f"
            ],
            [
             0.2222222222222222,
             "#7201a8"
            ],
            [
             0.3333333333333333,
             "#9c179e"
            ],
            [
             0.4444444444444444,
             "#bd3786"
            ],
            [
             0.5555555555555556,
             "#d8576b"
            ],
            [
             0.6666666666666666,
             "#ed7953"
            ],
            [
             0.7777777777777778,
             "#fb9f3a"
            ],
            [
             0.8888888888888888,
             "#fdca26"
            ],
            [
             1,
             "#f0f921"
            ]
           ],
           "sequentialminus": [
            [
             0,
             "#0d0887"
            ],
            [
             0.1111111111111111,
             "#46039f"
            ],
            [
             0.2222222222222222,
             "#7201a8"
            ],
            [
             0.3333333333333333,
             "#9c179e"
            ],
            [
             0.4444444444444444,
             "#bd3786"
            ],
            [
             0.5555555555555556,
             "#d8576b"
            ],
            [
             0.6666666666666666,
             "#ed7953"
            ],
            [
             0.7777777777777778,
             "#fb9f3a"
            ],
            [
             0.8888888888888888,
             "#fdca26"
            ],
            [
             1,
             "#f0f921"
            ]
           ]
          },
          "colorway": [
           "#636efa",
           "#EF553B",
           "#00cc96",
           "#ab63fa",
           "#FFA15A",
           "#19d3f3",
           "#FF6692",
           "#B6E880",
           "#FF97FF",
           "#FECB52"
          ],
          "font": {
           "color": "#2a3f5f"
          },
          "geo": {
           "bgcolor": "white",
           "lakecolor": "white",
           "landcolor": "#E5ECF6",
           "showlakes": true,
           "showland": true,
           "subunitcolor": "white"
          },
          "hoverlabel": {
           "align": "left"
          },
          "hovermode": "closest",
          "mapbox": {
           "style": "light"
          },
          "paper_bgcolor": "white",
          "plot_bgcolor": "#E5ECF6",
          "polar": {
           "angularaxis": {
            "gridcolor": "white",
            "linecolor": "white",
            "ticks": ""
           },
           "bgcolor": "#E5ECF6",
           "radialaxis": {
            "gridcolor": "white",
            "linecolor": "white",
            "ticks": ""
           }
          },
          "scene": {
           "xaxis": {
            "backgroundcolor": "#E5ECF6",
            "gridcolor": "white",
            "gridwidth": 2,
            "linecolor": "white",
            "showbackground": true,
            "ticks": "",
            "zerolinecolor": "white"
           },
           "yaxis": {
            "backgroundcolor": "#E5ECF6",
            "gridcolor": "white",
            "gridwidth": 2,
            "linecolor": "white",
            "showbackground": true,
            "ticks": "",
            "zerolinecolor": "white"
           },
           "zaxis": {
            "backgroundcolor": "#E5ECF6",
            "gridcolor": "white",
            "gridwidth": 2,
            "linecolor": "white",
            "showbackground": true,
            "ticks": "",
            "zerolinecolor": "white"
           }
          },
          "shapedefaults": {
           "line": {
            "color": "#2a3f5f"
           }
          },
          "ternary": {
           "aaxis": {
            "gridcolor": "white",
            "linecolor": "white",
            "ticks": ""
           },
           "baxis": {
            "gridcolor": "white",
            "linecolor": "white",
            "ticks": ""
           },
           "bgcolor": "#E5ECF6",
           "caxis": {
            "gridcolor": "white",
            "linecolor": "white",
            "ticks": ""
           }
          },
          "title": {
           "x": 0.05
          },
          "xaxis": {
           "automargin": true,
           "gridcolor": "white",
           "linecolor": "white",
           "ticks": "",
           "title": {
            "standoff": 15
           },
           "zerolinecolor": "white",
           "zerolinewidth": 2
          },
          "yaxis": {
           "automargin": true,
           "gridcolor": "white",
           "linecolor": "white",
           "ticks": "",
           "title": {
            "standoff": 15
           },
           "zerolinecolor": "white",
           "zerolinewidth": 2
          }
         }
        },
        "title": {
         "text": "Tasa ajustada de muertes por diabetes mellitus por CC.AA."
        },
        "xaxis": {
         "anchor": "y",
         "domain": [
          0,
          1
         ],
         "title": {
          "text": "Tiempo"
         }
        },
        "yaxis": {
         "anchor": "x",
         "domain": [
          0,
          1
         ],
         "title": {
          "text": "Tasa de muertes (*Poblacion / 100.000)"
         }
        }
       }
      }
     },
     "metadata": {},
     "output_type": "display_data"
    }
   ],
   "source": [
    "#df_aux = df_muertos_diabetes.set_index('CC.AA.').T\n",
    "fig = px.line(\n",
    "    df_muertos_diabetes.T,\n",
    "    title='Tasa ajustada de muertes por diabetes mellitus por CC.AA.',\n",
    "    labels = {\n",
    "        'index' : 'Tiempo',\n",
    "        'value' : 'Tasa de muertes (*Poblacion / 100.000)'\n",
    "    }\n",
    ")\n",
    "fig.show()"
   ]
  },
  {
   "cell_type": "code",
   "execution_count": 1160,
   "metadata": {},
   "outputs": [
    {
     "data": {
      "text/html": [
       "<div>\n",
       "<style scoped>\n",
       "    .dataframe tbody tr th:only-of-type {\n",
       "        vertical-align: middle;\n",
       "    }\n",
       "\n",
       "    .dataframe tbody tr th {\n",
       "        vertical-align: top;\n",
       "    }\n",
       "\n",
       "    .dataframe thead th {\n",
       "        text-align: right;\n",
       "    }\n",
       "</style>\n",
       "<table border=\"1\" class=\"dataframe\">\n",
       "  <thead>\n",
       "    <tr style=\"text-align: right;\">\n",
       "      <th>CC.AA.</th>\n",
       "      <th>Ceuta_y_Melilla</th>\n",
       "      <th>La_Rioja</th>\n",
       "      <th>Pais_Vasco</th>\n",
       "      <th>Navarra</th>\n",
       "      <th>Murcia</th>\n",
       "      <th>Madrid</th>\n",
       "      <th>Galicia</th>\n",
       "      <th>Extremadura</th>\n",
       "      <th>C_Valenciana</th>\n",
       "      <th>Catalunya</th>\n",
       "      <th>Castilla_La_Mancha</th>\n",
       "      <th>Castilla_y_Leon</th>\n",
       "      <th>Cantabria</th>\n",
       "      <th>Canarias</th>\n",
       "      <th>Baleares</th>\n",
       "      <th>Asturias</th>\n",
       "      <th>Aragon</th>\n",
       "      <th>Andalucia</th>\n",
       "    </tr>\n",
       "  </thead>\n",
       "  <tbody>\n",
       "    <tr>\n",
       "      <th>2017-01-01</th>\n",
       "      <td>35.33</td>\n",
       "      <td>15.51</td>\n",
       "      <td>13.03</td>\n",
       "      <td>20.21</td>\n",
       "      <td>25.17</td>\n",
       "      <td>10.49</td>\n",
       "      <td>14.40</td>\n",
       "      <td>17.68</td>\n",
       "      <td>20.06</td>\n",
       "      <td>20.81</td>\n",
       "      <td>23.78</td>\n",
       "      <td>18.90</td>\n",
       "      <td>9.64</td>\n",
       "      <td>24.13</td>\n",
       "      <td>28.97</td>\n",
       "      <td>16.32</td>\n",
       "      <td>23.98</td>\n",
       "      <td>21.62</td>\n",
       "    </tr>\n",
       "    <tr>\n",
       "      <th>2018-01-01</th>\n",
       "      <td>27.14</td>\n",
       "      <td>19.18</td>\n",
       "      <td>15.14</td>\n",
       "      <td>16.13</td>\n",
       "      <td>21.24</td>\n",
       "      <td>10.23</td>\n",
       "      <td>12.66</td>\n",
       "      <td>17.88</td>\n",
       "      <td>25.27</td>\n",
       "      <td>19.91</td>\n",
       "      <td>18.72</td>\n",
       "      <td>19.46</td>\n",
       "      <td>13.06</td>\n",
       "      <td>23.11</td>\n",
       "      <td>24.07</td>\n",
       "      <td>19.93</td>\n",
       "      <td>20.84</td>\n",
       "      <td>20.95</td>\n",
       "    </tr>\n",
       "    <tr>\n",
       "      <th>2019-01-01</th>\n",
       "      <td>20.33</td>\n",
       "      <td>15.20</td>\n",
       "      <td>15.07</td>\n",
       "      <td>15.77</td>\n",
       "      <td>22.40</td>\n",
       "      <td>8.28</td>\n",
       "      <td>11.08</td>\n",
       "      <td>16.88</td>\n",
       "      <td>25.50</td>\n",
       "      <td>18.47</td>\n",
       "      <td>17.36</td>\n",
       "      <td>19.52</td>\n",
       "      <td>14.83</td>\n",
       "      <td>19.31</td>\n",
       "      <td>24.66</td>\n",
       "      <td>18.04</td>\n",
       "      <td>21.21</td>\n",
       "      <td>20.82</td>\n",
       "    </tr>\n",
       "    <tr>\n",
       "      <th>2020-01-01</th>\n",
       "      <td>47.11</td>\n",
       "      <td>15.82</td>\n",
       "      <td>16.65</td>\n",
       "      <td>16.34</td>\n",
       "      <td>30.91</td>\n",
       "      <td>10.03</td>\n",
       "      <td>12.88</td>\n",
       "      <td>22.17</td>\n",
       "      <td>28.49</td>\n",
       "      <td>21.28</td>\n",
       "      <td>21.38</td>\n",
       "      <td>25.20</td>\n",
       "      <td>18.95</td>\n",
       "      <td>20.00</td>\n",
       "      <td>22.35</td>\n",
       "      <td>21.08</td>\n",
       "      <td>20.91</td>\n",
       "      <td>23.66</td>\n",
       "    </tr>\n",
       "  </tbody>\n",
       "</table>\n",
       "</div>"
      ],
      "text/plain": [
       "CC.AA.      Ceuta_y_Melilla  La_Rioja  Pais_Vasco  Navarra  Murcia  Madrid  \\\n",
       "2017-01-01            35.33     15.51       13.03    20.21   25.17   10.49   \n",
       "2018-01-01            27.14     19.18       15.14    16.13   21.24   10.23   \n",
       "2019-01-01            20.33     15.20       15.07    15.77   22.40    8.28   \n",
       "2020-01-01            47.11     15.82       16.65    16.34   30.91   10.03   \n",
       "\n",
       "CC.AA.      Galicia  Extremadura  C_Valenciana  Catalunya  Castilla_La_Mancha  \\\n",
       "2017-01-01    14.40        17.68         20.06      20.81               23.78   \n",
       "2018-01-01    12.66        17.88         25.27      19.91               18.72   \n",
       "2019-01-01    11.08        16.88         25.50      18.47               17.36   \n",
       "2020-01-01    12.88        22.17         28.49      21.28               21.38   \n",
       "\n",
       "CC.AA.      Castilla_y_Leon  Cantabria  Canarias  Baleares  Asturias  Aragon  \\\n",
       "2017-01-01            18.90       9.64     24.13     28.97     16.32   23.98   \n",
       "2018-01-01            19.46      13.06     23.11     24.07     19.93   20.84   \n",
       "2019-01-01            19.52      14.83     19.31     24.66     18.04   21.21   \n",
       "2020-01-01            25.20      18.95     20.00     22.35     21.08   20.91   \n",
       "\n",
       "CC.AA.      Andalucia  \n",
       "2017-01-01      21.62  \n",
       "2018-01-01      20.95  \n",
       "2019-01-01      20.82  \n",
       "2020-01-01      23.66  "
      ]
     },
     "execution_count": 1160,
     "metadata": {},
     "output_type": "execute_result"
    }
   ],
   "source": [
    "df_muertos_diabetes"
   ]
  },
  {
   "cell_type": "code",
   "execution_count": 1159,
   "metadata": {},
   "outputs": [],
   "source": [
    "# Eliminamos el año 2016\n",
    "df_muertos_diabetes.drop(['2016'], axis=1, inplace=True)\n",
    "\n",
    "# Transponemos la tabla\n",
    "df_muertos_diabetes = df_muertos_diabetes.T\n",
    "\n",
    "# Cambiamos el index a Datetime\n",
    "df_muertos_diabetes.index = pd.to_datetime(df_muertos_diabetes.index, format=\"%Y\")\n",
    "\n",
    "# Cambiamos la granularida a mensual con un backfill\n",
    "df_muertos_diabetes = df_muertos_diabetes.resample('M').bfill()\n",
    "\n",
    "# Eliminamos las 3 ultimas filas para que el último dato sea de Octubre de 2019, igual que los datos de consumos\n",
    "df_muertos_diabetes.drop(df_muertos_diabetes.tail(3).index , axis=0, inplace=True)\n",
    "\n",
    "# Mostramos el resultado de nuestro dataset\n",
    "df_muertos_diabetes.head()"
   ]
  },
  {
   "cell_type": "markdown",
   "metadata": {},
   "source": [
    "# 3. Análisis de los datos <a class=\"anchor\" id=\"analisis\"></a>"
   ]
  },
  {
   "cell_type": "code",
   "execution_count": null,
   "metadata": {},
   "outputs": [
    {
     "data": {
      "text/plain": [
       "((34, 18), (34, 18))"
      ]
     },
     "execution_count": 1096,
     "metadata": {},
     "output_type": "execute_result"
    }
   ],
   "source": [
    "df_diabetes_normalizado.shape, df_muertos_diabetes.shape"
   ]
  },
  {
   "cell_type": "code",
   "execution_count": null,
   "metadata": {},
   "outputs": [],
   "source": [
    "df_aux= df_diabetes_normalizado / df_muertos_diabetes"
   ]
  },
  {
   "cell_type": "code",
   "execution_count": null,
   "metadata": {},
   "outputs": [
    {
     "data": {
      "application/vnd.plotly.v1+json": {
       "config": {
        "plotlyServerURL": "https://plot.ly"
       },
       "data": [
        {
         "hovertemplate": "variable=Andalucia<br>index=%{x}<br>value=%{y}<extra></extra>",
         "legendgroup": "Andalucia",
         "line": {
          "color": "#636efa",
          "dash": "solid"
         },
         "marker": {
          "symbol": "circle"
         },
         "mode": "lines",
         "name": "Andalucia",
         "orientation": "v",
         "showlegend": true,
         "type": "scatter",
         "x": [
          "2017-01-31T00:00:00",
          "2017-02-28T00:00:00",
          "2017-03-31T00:00:00",
          "2017-04-30T00:00:00",
          "2017-05-31T00:00:00",
          "2017-06-30T00:00:00",
          "2017-07-31T00:00:00",
          "2017-08-31T00:00:00",
          "2017-09-30T00:00:00",
          "2017-10-31T00:00:00",
          "2017-11-30T00:00:00",
          "2017-12-31T00:00:00",
          "2018-01-31T00:00:00",
          "2018-02-28T00:00:00",
          "2018-03-31T00:00:00",
          "2018-04-30T00:00:00",
          "2018-05-31T00:00:00",
          "2018-06-30T00:00:00",
          "2018-07-31T00:00:00",
          "2018-08-31T00:00:00",
          "2018-09-30T00:00:00",
          "2018-10-31T00:00:00",
          "2018-11-30T00:00:00",
          "2018-12-31T00:00:00",
          "2019-01-31T00:00:00",
          "2019-02-28T00:00:00",
          "2019-03-31T00:00:00",
          "2019-04-30T00:00:00",
          "2019-05-31T00:00:00",
          "2019-06-30T00:00:00",
          "2019-07-31T00:00:00",
          "2019-08-31T00:00:00",
          "2019-09-30T00:00:00",
          "2019-10-31T00:00:00"
         ],
         "xaxis": "x",
         "y": [
          98.96894077771074,
          82.1718084875901,
          83.04947670369073,
          87.5018310980518,
          108.51666495601843,
          96.83750476603844,
          130.9262519745057,
          103.48356546456996,
          90.69987086661068,
          112.28683724553433,
          90.83657272808745,
          115.23617178988397,
          98.45107568135913,
          83.61925310387973,
          83.63991608664512,
          108.69079523596487,
          88.31608027089918,
          95.46421774902242,
          131.89777098452078,
          105.4998853363138,
          91.43159634848892,
          112.49811164282983,
          91.62321730038856,
          116.17088665428925,
          73.13922960082145,
          73.65465318247195,
          75.3971506693632,
          96.33915773617409,
          78.1091132438738,
          82.58906545209106,
          114.23225381303043,
          96.69463128215104,
          104.20046866731754,
          79.94723516405075
         ],
         "yaxis": "y"
        },
        {
         "hovertemplate": "variable=Aragon<br>index=%{x}<br>value=%{y}<extra></extra>",
         "legendgroup": "Aragon",
         "line": {
          "color": "#EF553B",
          "dash": "solid"
         },
         "marker": {
          "symbol": "circle"
         },
         "mode": "lines",
         "name": "Aragon",
         "orientation": "v",
         "showlegend": true,
         "type": "scatter",
         "x": [
          "2017-01-31T00:00:00",
          "2017-02-28T00:00:00",
          "2017-03-31T00:00:00",
          "2017-04-30T00:00:00",
          "2017-05-31T00:00:00",
          "2017-06-30T00:00:00",
          "2017-07-31T00:00:00",
          "2017-08-31T00:00:00",
          "2017-09-30T00:00:00",
          "2017-10-31T00:00:00",
          "2017-11-30T00:00:00",
          "2017-12-31T00:00:00",
          "2018-01-31T00:00:00",
          "2018-02-28T00:00:00",
          "2018-03-31T00:00:00",
          "2018-04-30T00:00:00",
          "2018-05-31T00:00:00",
          "2018-06-30T00:00:00",
          "2018-07-31T00:00:00",
          "2018-08-31T00:00:00",
          "2018-09-30T00:00:00",
          "2018-10-31T00:00:00",
          "2018-11-30T00:00:00",
          "2018-12-31T00:00:00",
          "2019-01-31T00:00:00",
          "2019-02-28T00:00:00",
          "2019-03-31T00:00:00",
          "2019-04-30T00:00:00",
          "2019-05-31T00:00:00",
          "2019-06-30T00:00:00",
          "2019-07-31T00:00:00",
          "2019-08-31T00:00:00",
          "2019-09-30T00:00:00",
          "2019-10-31T00:00:00"
         ],
         "xaxis": "x",
         "y": [
          98.28479872114276,
          82.90199399802378,
          83.09503251223218,
          86.80217860370641,
          108.21812435493422,
          91.60797599209513,
          115.79344695657275,
          90.99912555202967,
          84.70977310183378,
          112.32165019514673,
          91.63822419232721,
          117.37104642273786,
          95.82518252943063,
          82.82196082143439,
          83.14752320510827,
          105.682766231977,
          85.23505644449806,
          88.46005861186379,
          114.81515675278663,
          90.23413403335535,
          86.96665780929474,
          110.37688801937372,
          90.09702100555158,
          114.28291611359248,
          81.89144153805543,
          83.86872200262113,
          86.76225189010256,
          110.0367127216597,
          87.7902593827623,
          91.14785894551544,
          119.87562783353626,
          96.37275714227853,
          113.16822241059083,
          88.92995244560733
         ],
         "yaxis": "y"
        },
        {
         "hovertemplate": "variable=Asturias<br>index=%{x}<br>value=%{y}<extra></extra>",
         "legendgroup": "Asturias",
         "line": {
          "color": "#00cc96",
          "dash": "solid"
         },
         "marker": {
          "symbol": "circle"
         },
         "mode": "lines",
         "name": "Asturias",
         "orientation": "v",
         "showlegend": true,
         "type": "scatter",
         "x": [
          "2017-01-31T00:00:00",
          "2017-02-28T00:00:00",
          "2017-03-31T00:00:00",
          "2017-04-30T00:00:00",
          "2017-05-31T00:00:00",
          "2017-06-30T00:00:00",
          "2017-07-31T00:00:00",
          "2017-08-31T00:00:00",
          "2017-09-30T00:00:00",
          "2017-10-31T00:00:00",
          "2017-11-30T00:00:00",
          "2017-12-31T00:00:00",
          "2018-01-31T00:00:00",
          "2018-02-28T00:00:00",
          "2018-03-31T00:00:00",
          "2018-04-30T00:00:00",
          "2018-05-31T00:00:00",
          "2018-06-30T00:00:00",
          "2018-07-31T00:00:00",
          "2018-08-31T00:00:00",
          "2018-09-30T00:00:00",
          "2018-10-31T00:00:00",
          "2018-11-30T00:00:00",
          "2018-12-31T00:00:00",
          "2019-01-31T00:00:00",
          "2019-02-28T00:00:00",
          "2019-03-31T00:00:00",
          "2019-04-30T00:00:00",
          "2019-05-31T00:00:00",
          "2019-06-30T00:00:00",
          "2019-07-31T00:00:00",
          "2019-08-31T00:00:00",
          "2019-09-30T00:00:00",
          "2019-10-31T00:00:00"
         ],
         "xaxis": "x",
         "y": [
          109.9241854491028,
          90.25220877228914,
          91.22846519981566,
          94.05731570118976,
          111.82802365285535,
          93.81946924772377,
          123.78332279233017,
          97.67310538573963,
          89.30513774325156,
          114.8654382477498,
          98.47395853796242,
          122.09910228817017,
          119.59494313129937,
          99.7227326900098,
          102.39530833057984,
          126.63663410802675,
          101.78359444669584,
          104.9229206650986,
          138.159303143134,
          113.39623884729198,
          103.96650786753221,
          130.73630853542826,
          111.63317452557332,
          137.96323339820705,
          88.12949940595414,
          87.29135112230517,
          89.58604352081832,
          112.65467084811648,
          89.74874753161133,
          90.74732716455702,
          117.93935092045574,
          101.34873647441745,
          113.3744088297259,
          90.40990650363368
         ],
         "yaxis": "y"
        },
        {
         "hovertemplate": "variable=Baleares<br>index=%{x}<br>value=%{y}<extra></extra>",
         "legendgroup": "Baleares",
         "line": {
          "color": "#ab63fa",
          "dash": "solid"
         },
         "marker": {
          "symbol": "circle"
         },
         "mode": "lines",
         "name": "Baleares",
         "orientation": "v",
         "showlegend": true,
         "type": "scatter",
         "x": [
          "2017-01-31T00:00:00",
          "2017-02-28T00:00:00",
          "2017-03-31T00:00:00",
          "2017-04-30T00:00:00",
          "2017-05-31T00:00:00",
          "2017-06-30T00:00:00",
          "2017-07-31T00:00:00",
          "2017-08-31T00:00:00",
          "2017-09-30T00:00:00",
          "2017-10-31T00:00:00",
          "2017-11-30T00:00:00",
          "2017-12-31T00:00:00",
          "2018-01-31T00:00:00",
          "2018-02-28T00:00:00",
          "2018-03-31T00:00:00",
          "2018-04-30T00:00:00",
          "2018-05-31T00:00:00",
          "2018-06-30T00:00:00",
          "2018-07-31T00:00:00",
          "2018-08-31T00:00:00",
          "2018-09-30T00:00:00",
          "2018-10-31T00:00:00",
          "2018-11-30T00:00:00",
          "2018-12-31T00:00:00",
          "2019-01-31T00:00:00",
          "2019-02-28T00:00:00",
          "2019-03-31T00:00:00",
          "2019-04-30T00:00:00",
          "2019-05-31T00:00:00",
          "2019-06-30T00:00:00",
          "2019-07-31T00:00:00",
          "2019-08-31T00:00:00",
          "2019-09-30T00:00:00",
          "2019-10-31T00:00:00"
         ],
         "xaxis": "x",
         "y": [
          102.20378957599829,
          86.55787716859665,
          91.23781727184085,
          100.94632999101198,
          132.0413347209724,
          122.97078413419246,
          179.72975796754963,
          137.97635186987435,
          113.64128130414284,
          132.4141648987105,
          98.58739269270416,
          114.86977814541667,
          101.01354224157322,
          88.27645974876607,
          94.44096973460341,
          122.64250822743844,
          106.2025098023299,
          120.18989442304715,
          175.36027056913065,
          134.62550123907178,
          114.18059906342582,
          129.1203570664306,
          94.13646744660691,
          109.3825597084337,
          92.7992994745787,
          94.62258535094253,
          98.65108919348218,
          133.4166406161111,
          110.46408680337048,
          124.57817465187719,
          182.85703342228862,
          150.48143801090765,
          157.99847811039058,
          115.73881341266716
         ],
         "yaxis": "y"
        },
        {
         "hovertemplate": "variable=C_Valenciana<br>index=%{x}<br>value=%{y}<extra></extra>",
         "legendgroup": "C_Valenciana",
         "line": {
          "color": "#FFA15A",
          "dash": "solid"
         },
         "marker": {
          "symbol": "circle"
         },
         "mode": "lines",
         "name": "C_Valenciana",
         "orientation": "v",
         "showlegend": true,
         "type": "scatter",
         "x": [
          "2017-01-31T00:00:00",
          "2017-02-28T00:00:00",
          "2017-03-31T00:00:00",
          "2017-04-30T00:00:00",
          "2017-05-31T00:00:00",
          "2017-06-30T00:00:00",
          "2017-07-31T00:00:00",
          "2017-08-31T00:00:00",
          "2017-09-30T00:00:00",
          "2017-10-31T00:00:00",
          "2017-11-30T00:00:00",
          "2017-12-31T00:00:00",
          "2018-01-31T00:00:00",
          "2018-02-28T00:00:00",
          "2018-03-31T00:00:00",
          "2018-04-30T00:00:00",
          "2018-05-31T00:00:00",
          "2018-06-30T00:00:00",
          "2018-07-31T00:00:00",
          "2018-08-31T00:00:00",
          "2018-09-30T00:00:00",
          "2018-10-31T00:00:00",
          "2018-11-30T00:00:00",
          "2018-12-31T00:00:00",
          "2019-01-31T00:00:00",
          "2019-02-28T00:00:00",
          "2019-03-31T00:00:00",
          "2019-04-30T00:00:00",
          "2019-05-31T00:00:00",
          "2019-06-30T00:00:00",
          "2019-07-31T00:00:00",
          "2019-08-31T00:00:00",
          "2019-09-30T00:00:00",
          "2019-10-31T00:00:00"
         ],
         "xaxis": "x",
         "y": [
          88.64262596564672,
          73.39601319245799,
          75.62426412591715,
          82.1089879885348,
          96.9489040844821,
          91.24308223857284,
          134.20666016676302,
          102.44636845971168,
          83.60074034933393,
          101.35551483592909,
          81.12949645973536,
          97.73261102402883,
          87.86831832890034,
          74.86345592883251,
          81.99113586345183,
          97.2875986129789,
          80.32114607289965,
          91.27933911673698,
          135.14840614347955,
          104.27577169389743,
          85.27678377432744,
          101.43744953092875,
          80.05250570896325,
          95.64627180040986,
          67.36277055710268,
          66.70015315498351,
          70.2741245919798,
          91.93827151850395,
          71.22755121313809,
          78.9141052810299,
          116.16490242901655,
          98.20355225988462,
          98.8488222611141,
          73.8137379337243
         ],
         "yaxis": "y"
        },
        {
         "hovertemplate": "variable=Canarias<br>index=%{x}<br>value=%{y}<extra></extra>",
         "legendgroup": "Canarias",
         "line": {
          "color": "#19d3f3",
          "dash": "solid"
         },
         "marker": {
          "symbol": "circle"
         },
         "mode": "lines",
         "name": "Canarias",
         "orientation": "v",
         "showlegend": true,
         "type": "scatter",
         "x": [
          "2017-01-31T00:00:00",
          "2017-02-28T00:00:00",
          "2017-03-31T00:00:00",
          "2017-04-30T00:00:00",
          "2017-05-31T00:00:00",
          "2017-06-30T00:00:00",
          "2017-07-31T00:00:00",
          "2017-08-31T00:00:00",
          "2017-09-30T00:00:00",
          "2017-10-31T00:00:00",
          "2017-11-30T00:00:00",
          "2017-12-31T00:00:00",
          "2018-01-31T00:00:00",
          "2018-02-28T00:00:00",
          "2018-03-31T00:00:00",
          "2018-04-30T00:00:00",
          "2018-05-31T00:00:00",
          "2018-06-30T00:00:00",
          "2018-07-31T00:00:00",
          "2018-08-31T00:00:00",
          "2018-09-30T00:00:00",
          "2018-10-31T00:00:00",
          "2018-11-30T00:00:00",
          "2018-12-31T00:00:00",
          "2019-01-31T00:00:00",
          "2019-02-28T00:00:00",
          "2019-03-31T00:00:00",
          "2019-04-30T00:00:00",
          "2019-05-31T00:00:00",
          "2019-06-30T00:00:00",
          "2019-07-31T00:00:00",
          "2019-08-31T00:00:00",
          "2019-09-30T00:00:00",
          "2019-10-31T00:00:00"
         ],
         "xaxis": "x",
         "y": [
          132.9467976261607,
          111.22582570839968,
          107.95707926326457,
          112.1235717744401,
          131.77738982785593,
          111.87140975095184,
          150.0479190667075,
          120.90775953185991,
          114.16693599407853,
          149.64287932641494,
          122.16111870794792,
          141.90496383788144,
          159.41980699959328,
          137.91747876339446,
          135.70363727472983,
          166.61147559048453,
          127.52580801895047,
          134.1186049470935,
          180.0160512939457,
          142.488423622737,
          137.4445149694288,
          175.27735908651698,
          142.4666885121971,
          165.00078950415943,
          124.70336293163936,
          126.89024138230482,
          133.4747228670714,
          159.06494367715266,
          121.87131540097957,
          127.18735444455231,
          168.3380243885336,
          138.5927948921444,
          164.75098089569514,
          132.6089480349347
         ],
         "yaxis": "y"
        },
        {
         "hovertemplate": "variable=Cantabria<br>index=%{x}<br>value=%{y}<extra></extra>",
         "legendgroup": "Cantabria",
         "line": {
          "color": "#FF6692",
          "dash": "solid"
         },
         "marker": {
          "symbol": "circle"
         },
         "mode": "lines",
         "name": "Cantabria",
         "orientation": "v",
         "showlegend": true,
         "type": "scatter",
         "x": [
          "2017-01-31T00:00:00",
          "2017-02-28T00:00:00",
          "2017-03-31T00:00:00",
          "2017-04-30T00:00:00",
          "2017-05-31T00:00:00",
          "2017-06-30T00:00:00",
          "2017-07-31T00:00:00",
          "2017-08-31T00:00:00",
          "2017-09-30T00:00:00",
          "2017-10-31T00:00:00",
          "2017-11-30T00:00:00",
          "2017-12-31T00:00:00",
          "2018-01-31T00:00:00",
          "2018-02-28T00:00:00",
          "2018-03-31T00:00:00",
          "2018-04-30T00:00:00",
          "2018-05-31T00:00:00",
          "2018-06-30T00:00:00",
          "2018-07-31T00:00:00",
          "2018-08-31T00:00:00",
          "2018-09-30T00:00:00",
          "2018-10-31T00:00:00",
          "2018-11-30T00:00:00",
          "2018-12-31T00:00:00",
          "2019-01-31T00:00:00",
          "2019-02-28T00:00:00",
          "2019-03-31T00:00:00",
          "2019-04-30T00:00:00",
          "2019-05-31T00:00:00",
          "2019-06-30T00:00:00",
          "2019-07-31T00:00:00",
          "2019-08-31T00:00:00",
          "2019-09-30T00:00:00",
          "2019-10-31T00:00:00"
         ],
         "xaxis": "x",
         "y": [
          194.66797838618464,
          161.2753675861146,
          162.89491666506896,
          180.2266252417135,
          206.29207616282508,
          180.5584784218968,
          277.33082425059536,
          227.6021963640054,
          170.4243552419284,
          213.88775342614653,
          178.91135188184566,
          221.2108228682916,
          169.48036747604175,
          141.4630852489221,
          150.96662250125817,
          189.12720147707114,
          148.70509301913066,
          161.86182550634229,
          248.75522703700744,
          207.1501736356664,
          159.38785635857607,
          192.54820062226068,
          157.8264015732798,
          190.24402050704265,
          114.4841512428347,
          110.74975824434617,
          117.01197958146774,
          151.97193177876719,
          118.6580875917448,
          123.02555015547894,
          186.4210510533144,
          170.93532127771874,
          163.54100336903622,
          118.50778919402835
         ],
         "yaxis": "y"
        },
        {
         "hovertemplate": "variable=Castilla_La_Mancha<br>index=%{x}<br>value=%{y}<extra></extra>",
         "legendgroup": "Castilla_La_Mancha",
         "line": {
          "color": "#B6E880",
          "dash": "solid"
         },
         "marker": {
          "symbol": "circle"
         },
         "mode": "lines",
         "name": "Castilla_La_Mancha",
         "orientation": "v",
         "showlegend": true,
         "type": "scatter",
         "x": [
          "2017-01-31T00:00:00",
          "2017-02-28T00:00:00",
          "2017-03-31T00:00:00",
          "2017-04-30T00:00:00",
          "2017-05-31T00:00:00",
          "2017-06-30T00:00:00",
          "2017-07-31T00:00:00",
          "2017-08-31T00:00:00",
          "2017-09-30T00:00:00",
          "2017-10-31T00:00:00",
          "2017-11-30T00:00:00",
          "2017-12-31T00:00:00",
          "2018-01-31T00:00:00",
          "2018-02-28T00:00:00",
          "2018-03-31T00:00:00",
          "2018-04-30T00:00:00",
          "2018-05-31T00:00:00",
          "2018-06-30T00:00:00",
          "2018-07-31T00:00:00",
          "2018-08-31T00:00:00",
          "2018-09-30T00:00:00",
          "2018-10-31T00:00:00",
          "2018-11-30T00:00:00",
          "2018-12-31T00:00:00",
          "2019-01-31T00:00:00",
          "2019-02-28T00:00:00",
          "2019-03-31T00:00:00",
          "2019-04-30T00:00:00",
          "2019-05-31T00:00:00",
          "2019-06-30T00:00:00",
          "2019-07-31T00:00:00",
          "2019-08-31T00:00:00",
          "2019-09-30T00:00:00",
          "2019-10-31T00:00:00"
         ],
         "xaxis": "x",
         "y": [
          102.46005959289238,
          84.08545787593272,
          84.55123048050173,
          88.60342321517653,
          108.29043450104264,
          95.69653544868154,
          125.0672413345028,
          100.36801405306815,
          90.85936875185497,
          111.9331796421001,
          91.99336319503448,
          115.18622512755361,
          108.96875753487893,
          92.00329694306419,
          92.18860123541484,
          119.43660269394834,
          94.36822876373759,
          103.26863266093105,
          137.87571556531432,
          110.19924056207552,
          99.41586652974277,
          119.7248190787226,
          97.47989140913819,
          122.4144028827582,
          73.9095266143714,
          73.5324899006171,
          76.07835628109645,
          95.90328123071569,
          78.33742442901661,
          81.08286464577502,
          111.86219361537508,
          90.94865482096598,
          101.70695925521865,
          77.68555378923584
         ],
         "yaxis": "y"
        },
        {
         "hovertemplate": "variable=Castilla_y_Leon<br>index=%{x}<br>value=%{y}<extra></extra>",
         "legendgroup": "Castilla_y_Leon",
         "line": {
          "color": "#FF97FF",
          "dash": "solid"
         },
         "marker": {
          "symbol": "circle"
         },
         "mode": "lines",
         "name": "Castilla_y_Leon",
         "orientation": "v",
         "showlegend": true,
         "type": "scatter",
         "x": [
          "2017-01-31T00:00:00",
          "2017-02-28T00:00:00",
          "2017-03-31T00:00:00",
          "2017-04-30T00:00:00",
          "2017-05-31T00:00:00",
          "2017-06-30T00:00:00",
          "2017-07-31T00:00:00",
          "2017-08-31T00:00:00",
          "2017-09-30T00:00:00",
          "2017-10-31T00:00:00",
          "2017-11-30T00:00:00",
          "2017-12-31T00:00:00",
          "2018-01-31T00:00:00",
          "2018-02-28T00:00:00",
          "2018-03-31T00:00:00",
          "2018-04-30T00:00:00",
          "2018-05-31T00:00:00",
          "2018-06-30T00:00:00",
          "2018-07-31T00:00:00",
          "2018-08-31T00:00:00",
          "2018-09-30T00:00:00",
          "2018-10-31T00:00:00",
          "2018-11-30T00:00:00",
          "2018-12-31T00:00:00",
          "2019-01-31T00:00:00",
          "2019-02-28T00:00:00",
          "2019-03-31T00:00:00",
          "2019-04-30T00:00:00",
          "2019-05-31T00:00:00",
          "2019-06-30T00:00:00",
          "2019-07-31T00:00:00",
          "2019-08-31T00:00:00",
          "2019-09-30T00:00:00",
          "2019-10-31T00:00:00"
         ],
         "xaxis": "x",
         "y": [
          103.19370365374483,
          84.87024058909371,
          86.31782931497368,
          92.54052252692243,
          109.72144226925938,
          97.234599327669,
          131.82818858421865,
          109.84807847915638,
          90.18413151921065,
          114.49944892340373,
          97.31802077206082,
          124.02063621478536,
          102.35522469245915,
          86.46624843755747,
          89.471040508685,
          111.58779526023461,
          90.21068130674048,
          95.7869600830991,
          134.58062341658223,
          115.25601639896796,
          93.74870031781107,
          115.3912794618559,
          97.51310049025645,
          123.55365360941069,
          67.67929719356405,
          67.17329911948232,
          70.02664734662595,
          89.36727726578982,
          71.69493442429012,
          74.9924966027332,
          104.03308496115974,
          92.98857766360813,
          93.84556776711466,
          71.21079893327
         ],
         "yaxis": "y"
        },
        {
         "hovertemplate": "variable=Catalunya<br>index=%{x}<br>value=%{y}<extra></extra>",
         "legendgroup": "Catalunya",
         "line": {
          "color": "#FECB52",
          "dash": "solid"
         },
         "marker": {
          "symbol": "circle"
         },
         "mode": "lines",
         "name": "Catalunya",
         "orientation": "v",
         "showlegend": true,
         "type": "scatter",
         "x": [
          "2017-01-31T00:00:00",
          "2017-02-28T00:00:00",
          "2017-03-31T00:00:00",
          "2017-04-30T00:00:00",
          "2017-05-31T00:00:00",
          "2017-06-30T00:00:00",
          "2017-07-31T00:00:00",
          "2017-08-31T00:00:00",
          "2017-09-30T00:00:00",
          "2017-10-31T00:00:00",
          "2017-11-30T00:00:00",
          "2017-12-31T00:00:00",
          "2018-01-31T00:00:00",
          "2018-02-28T00:00:00",
          "2018-03-31T00:00:00",
          "2018-04-30T00:00:00",
          "2018-05-31T00:00:00",
          "2018-06-30T00:00:00",
          "2018-07-31T00:00:00",
          "2018-08-31T00:00:00",
          "2018-09-30T00:00:00",
          "2018-10-31T00:00:00",
          "2018-11-30T00:00:00",
          "2018-12-31T00:00:00",
          "2019-01-31T00:00:00",
          "2019-02-28T00:00:00",
          "2019-03-31T00:00:00",
          "2019-04-30T00:00:00",
          "2019-05-31T00:00:00",
          "2019-06-30T00:00:00",
          "2019-07-31T00:00:00",
          "2019-08-31T00:00:00",
          "2019-09-30T00:00:00",
          "2019-10-31T00:00:00"
         ],
         "xaxis": "x",
         "y": [
          107.3986958808414,
          89.98444675441903,
          91.13357554610589,
          95.94942567135134,
          117.13443333085499,
          105.37198130433643,
          143.0033085843586,
          109.06477342548226,
          95.18582812354144,
          122.29264700630286,
          100.98948988770286,
          124.03031618335437,
          115.96605289484512,
          100.29950122128209,
          105.39317292783633,
          127.27629583138405,
          103.46486325804588,
          114.95133641447774,
          157.1754502537059,
          120.36857415658608,
          107.17329904180205,
          133.96411798206307,
          109.05185562501589,
          135.18172931620887,
          85.92293372996949,
          86.7218996539434,
          89.94556007072156,
          115.35195275872883,
          89.57331054804857,
          99.03617762668316,
          132.477102278515,
          107.4973708881769,
          119.19427389391505,
          92.41709877310115
         ],
         "yaxis": "y"
        },
        {
         "hovertemplate": "variable=Ceuta_y_Melilla<br>index=%{x}<br>value=%{y}<extra></extra>",
         "legendgroup": "Ceuta_y_Melilla",
         "line": {
          "color": "#636efa",
          "dash": "solid"
         },
         "marker": {
          "symbol": "circle"
         },
         "mode": "lines",
         "name": "Ceuta_y_Melilla",
         "orientation": "v",
         "showlegend": true,
         "type": "scatter",
         "x": [
          "2017-01-31T00:00:00",
          "2017-02-28T00:00:00",
          "2017-03-31T00:00:00",
          "2017-04-30T00:00:00",
          "2017-05-31T00:00:00",
          "2017-06-30T00:00:00",
          "2017-07-31T00:00:00",
          "2017-08-31T00:00:00",
          "2017-09-30T00:00:00",
          "2017-10-31T00:00:00",
          "2017-11-30T00:00:00",
          "2017-12-31T00:00:00",
          "2018-01-31T00:00:00",
          "2018-02-28T00:00:00",
          "2018-03-31T00:00:00",
          "2018-04-30T00:00:00",
          "2018-05-31T00:00:00",
          "2018-06-30T00:00:00",
          "2018-07-31T00:00:00",
          "2018-08-31T00:00:00",
          "2018-09-30T00:00:00",
          "2018-10-31T00:00:00",
          "2018-11-30T00:00:00",
          "2018-12-31T00:00:00",
          "2019-01-31T00:00:00",
          "2019-02-28T00:00:00",
          "2019-03-31T00:00:00",
          "2019-04-30T00:00:00",
          "2019-05-31T00:00:00",
          "2019-06-30T00:00:00",
          "2019-07-31T00:00:00",
          "2019-08-31T00:00:00",
          "2019-09-30T00:00:00",
          "2019-10-31T00:00:00"
         ],
         "xaxis": "x",
         "y": [
          15.341096366021855,
          11.624385710561526,
          14.33185338453683,
          23.533495966902656,
          32.26906902047343,
          27.84528523052413,
          31.179706877846186,
          24.886260620489388,
          23.54146480819906,
          32.11658416539631,
          29.133868405561454,
          39.41345830383265,
          61.773689214018795,
          56.34779049007454,
          46.83977832945431,
          65.93408975769952,
          57.435493775308956,
          55.35930822690473,
          67.51531725961952,
          53.889059151398044,
          61.285613550567966,
          86.7412542633782,
          75.0409163406654,
          86.16915617372813,
          31.117911828341835,
          35.10564297247894,
          32.70289056493739,
          39.01355504355008,
          34.13442828840303,
          33.31702644543714,
          45.50554763380176,
          37.19519227809862,
          43.15460325815705,
          33.30054207165178
         ],
         "yaxis": "y"
        },
        {
         "hovertemplate": "variable=Extremadura<br>index=%{x}<br>value=%{y}<extra></extra>",
         "legendgroup": "Extremadura",
         "line": {
          "color": "#EF553B",
          "dash": "solid"
         },
         "marker": {
          "symbol": "circle"
         },
         "mode": "lines",
         "name": "Extremadura",
         "orientation": "v",
         "showlegend": true,
         "type": "scatter",
         "x": [
          "2017-01-31T00:00:00",
          "2017-02-28T00:00:00",
          "2017-03-31T00:00:00",
          "2017-04-30T00:00:00",
          "2017-05-31T00:00:00",
          "2017-06-30T00:00:00",
          "2017-07-31T00:00:00",
          "2017-08-31T00:00:00",
          "2017-09-30T00:00:00",
          "2017-10-31T00:00:00",
          "2017-11-30T00:00:00",
          "2017-12-31T00:00:00",
          "2018-01-31T00:00:00",
          "2018-02-28T00:00:00",
          "2018-03-31T00:00:00",
          "2018-04-30T00:00:00",
          "2018-05-31T00:00:00",
          "2018-06-30T00:00:00",
          "2018-07-31T00:00:00",
          "2018-08-31T00:00:00",
          "2018-09-30T00:00:00",
          "2018-10-31T00:00:00",
          "2018-11-30T00:00:00",
          "2018-12-31T00:00:00",
          "2019-01-31T00:00:00",
          "2019-02-28T00:00:00",
          "2019-03-31T00:00:00",
          "2019-04-30T00:00:00",
          "2019-05-31T00:00:00",
          "2019-06-30T00:00:00",
          "2019-07-31T00:00:00",
          "2019-08-31T00:00:00",
          "2019-09-30T00:00:00",
          "2019-10-31T00:00:00"
         ],
         "xaxis": "x",
         "y": [
          104.0021317346732,
          88.169748840456,
          88.38265507445824,
          105.00518888382321,
          120.42201361174655,
          100.12952736742616,
          131.67802594707072,
          113.56048745345791,
          98.58609959176692,
          118.76330262594647,
          95.00191040748234,
          128.71272012360515,
          108.90971300324547,
          93.16332191776026,
          96.72026604210403,
          121.344384580262,
          98.93004850161897,
          101.58997080995486,
          136.75416470912157,
          117.01040807704086,
          100.42398049497652,
          126.05014611808959,
          102.16286101254528,
          134.0819839309086,
          69.38409579226393,
          69.63638623312573,
          72.57486014387982,
          95.6016013210556,
          75.56322605239976,
          77.51040806850851,
          101.99246629143913,
          90.68197996980346,
          99.43492052958838,
          76.27468340580792
         ],
         "yaxis": "y"
        },
        {
         "hovertemplate": "variable=Galicia<br>index=%{x}<br>value=%{y}<extra></extra>",
         "legendgroup": "Galicia",
         "line": {
          "color": "#00cc96",
          "dash": "solid"
         },
         "marker": {
          "symbol": "circle"
         },
         "mode": "lines",
         "name": "Galicia",
         "orientation": "v",
         "showlegend": true,
         "type": "scatter",
         "x": [
          "2017-01-31T00:00:00",
          "2017-02-28T00:00:00",
          "2017-03-31T00:00:00",
          "2017-04-30T00:00:00",
          "2017-05-31T00:00:00",
          "2017-06-30T00:00:00",
          "2017-07-31T00:00:00",
          "2017-08-31T00:00:00",
          "2017-09-30T00:00:00",
          "2017-10-31T00:00:00",
          "2017-11-30T00:00:00",
          "2017-12-31T00:00:00",
          "2018-01-31T00:00:00",
          "2018-02-28T00:00:00",
          "2018-03-31T00:00:00",
          "2018-04-30T00:00:00",
          "2018-05-31T00:00:00",
          "2018-06-30T00:00:00",
          "2018-07-31T00:00:00",
          "2018-08-31T00:00:00",
          "2018-09-30T00:00:00",
          "2018-10-31T00:00:00",
          "2018-11-30T00:00:00",
          "2018-12-31T00:00:00",
          "2019-01-31T00:00:00",
          "2019-02-28T00:00:00",
          "2019-03-31T00:00:00",
          "2019-04-30T00:00:00",
          "2019-05-31T00:00:00",
          "2019-06-30T00:00:00",
          "2019-07-31T00:00:00",
          "2019-08-31T00:00:00",
          "2019-09-30T00:00:00",
          "2019-10-31T00:00:00"
         ],
         "xaxis": "x",
         "y": [
          164.14769884197116,
          134.57946322331193,
          136.41178895569115,
          145.42038840805938,
          173.63326412102464,
          150.90497044338085,
          200.9295103264143,
          160.7007939139641,
          141.68448663667309,
          180.0695320980464,
          153.50261721391882,
          195.99693588566734,
          183.2856767737815,
          156.0869294204033,
          162.44149813857763,
          201.93716074005337,
          163.23180223336263,
          173.9784079567803,
          234.4144232355973,
          189.46647078990705,
          169.43511146463248,
          207.63494660221426,
          176.1708019774388,
          221.80533486357692,
          136.13976574567474,
          135.80970680184112,
          138.1881962229021,
          180.84486341736394,
          141.96244728079162,
          149.5779045395861,
          197.4464026323504,
          168.79935133305239,
          187.2506414170401,
          143.40146516121777
         ],
         "yaxis": "y"
        },
        {
         "hovertemplate": "variable=La_Rioja<br>index=%{x}<br>value=%{y}<extra></extra>",
         "legendgroup": "La_Rioja",
         "line": {
          "color": "#ab63fa",
          "dash": "solid"
         },
         "marker": {
          "symbol": "circle"
         },
         "mode": "lines",
         "name": "La_Rioja",
         "orientation": "v",
         "showlegend": true,
         "type": "scatter",
         "x": [
          "2017-01-31T00:00:00",
          "2017-02-28T00:00:00",
          "2017-03-31T00:00:00",
          "2017-04-30T00:00:00",
          "2017-05-31T00:00:00",
          "2017-06-30T00:00:00",
          "2017-07-31T00:00:00",
          "2017-08-31T00:00:00",
          "2017-09-30T00:00:00",
          "2017-10-31T00:00:00",
          "2017-11-30T00:00:00",
          "2017-12-31T00:00:00",
          "2018-01-31T00:00:00",
          "2018-02-28T00:00:00",
          "2018-03-31T00:00:00",
          "2018-04-30T00:00:00",
          "2018-05-31T00:00:00",
          "2018-06-30T00:00:00",
          "2018-07-31T00:00:00",
          "2018-08-31T00:00:00",
          "2018-09-30T00:00:00",
          "2018-10-31T00:00:00",
          "2018-11-30T00:00:00",
          "2018-12-31T00:00:00",
          "2019-01-31T00:00:00",
          "2019-02-28T00:00:00",
          "2019-03-31T00:00:00",
          "2019-04-30T00:00:00",
          "2019-05-31T00:00:00",
          "2019-06-30T00:00:00",
          "2019-07-31T00:00:00",
          "2019-08-31T00:00:00",
          "2019-09-30T00:00:00",
          "2019-10-31T00:00:00"
         ],
         "xaxis": "x",
         "y": [
          109.84198502194637,
          88.16189977397913,
          90.76926962620865,
          99.27463175703278,
          118.98001291643281,
          100.91572740267586,
          135.69878846142893,
          108.22188455581338,
          96.16222038194238,
          121.28915202979461,
          102.66477464060311,
          130.03058594282666,
          138.5091679066995,
          113.68746170486803,
          118.84870765652549,
          150.53394355453852,
          120.19440380471254,
          126.70301317560948,
          174.69311792191337,
          140.74622884128829,
          125.34189477018754,
          155.5628498664099,
          128.42030235960536,
          165.9441130743228,
          112.93991858754744,
          111.05414802122908,
          115.41191219098812,
          148.10691581244177,
          118.50764072092457,
          123.4805599701418,
          175.38085282546214,
          141.8729585800342,
          156.69414550904986,
          121.72667961060966
         ],
         "yaxis": "y"
        },
        {
         "hovertemplate": "variable=Madrid<br>index=%{x}<br>value=%{y}<extra></extra>",
         "legendgroup": "Madrid",
         "line": {
          "color": "#FFA15A",
          "dash": "solid"
         },
         "marker": {
          "symbol": "circle"
         },
         "mode": "lines",
         "name": "Madrid",
         "orientation": "v",
         "showlegend": true,
         "type": "scatter",
         "x": [
          "2017-01-31T00:00:00",
          "2017-02-28T00:00:00",
          "2017-03-31T00:00:00",
          "2017-04-30T00:00:00",
          "2017-05-31T00:00:00",
          "2017-06-30T00:00:00",
          "2017-07-31T00:00:00",
          "2017-08-31T00:00:00",
          "2017-09-30T00:00:00",
          "2017-10-31T00:00:00",
          "2017-11-30T00:00:00",
          "2017-12-31T00:00:00",
          "2018-01-31T00:00:00",
          "2018-02-28T00:00:00",
          "2018-03-31T00:00:00",
          "2018-04-30T00:00:00",
          "2018-05-31T00:00:00",
          "2018-06-30T00:00:00",
          "2018-07-31T00:00:00",
          "2018-08-31T00:00:00",
          "2018-09-30T00:00:00",
          "2018-10-31T00:00:00",
          "2018-11-30T00:00:00",
          "2018-12-31T00:00:00",
          "2019-01-31T00:00:00",
          "2019-02-28T00:00:00",
          "2019-03-31T00:00:00",
          "2019-04-30T00:00:00",
          "2019-05-31T00:00:00",
          "2019-06-30T00:00:00",
          "2019-07-31T00:00:00",
          "2019-08-31T00:00:00",
          "2019-09-30T00:00:00",
          "2019-10-31T00:00:00"
         ],
         "xaxis": "x",
         "y": [
          231.55639346467322,
          188.27283844363924,
          185.43874992180383,
          180.7895384222816,
          234.4521477965178,
          197.03593311004403,
          216.52214880747053,
          158.75082387625267,
          188.23675530706385,
          248.1356633495106,
          208.13734121235692,
          251.1890748496976,
          278.38244860398225,
          233.52555007445372,
          221.99288196080428,
          295.70783396697175,
          239.3333958906919,
          244.99766720068823,
          278.7541082881066,
          203.28332452619406,
          240.79311899724675,
          306.0424811495101,
          256.2663197900721,
          310.18712096243144,
          191.81560794495118,
          192.24295132701982,
          195.75362785870746,
          237.0760017458473,
          193.7717726130262,
          204.0678139786159,
          241.94108193794085,
          163.2075113888762,
          239.23793043444707,
          199.79077420032712
         ],
         "yaxis": "y"
        },
        {
         "hovertemplate": "variable=Murcia<br>index=%{x}<br>value=%{y}<extra></extra>",
         "legendgroup": "Murcia",
         "line": {
          "color": "#19d3f3",
          "dash": "solid"
         },
         "marker": {
          "symbol": "circle"
         },
         "mode": "lines",
         "name": "Murcia",
         "orientation": "v",
         "showlegend": true,
         "type": "scatter",
         "x": [
          "2017-01-31T00:00:00",
          "2017-02-28T00:00:00",
          "2017-03-31T00:00:00",
          "2017-04-30T00:00:00",
          "2017-05-31T00:00:00",
          "2017-06-30T00:00:00",
          "2017-07-31T00:00:00",
          "2017-08-31T00:00:00",
          "2017-09-30T00:00:00",
          "2017-10-31T00:00:00",
          "2017-11-30T00:00:00",
          "2017-12-31T00:00:00",
          "2018-01-31T00:00:00",
          "2018-02-28T00:00:00",
          "2018-03-31T00:00:00",
          "2018-04-30T00:00:00",
          "2018-05-31T00:00:00",
          "2018-06-30T00:00:00",
          "2018-07-31T00:00:00",
          "2018-08-31T00:00:00",
          "2018-09-30T00:00:00",
          "2018-10-31T00:00:00",
          "2018-11-30T00:00:00",
          "2018-12-31T00:00:00",
          "2019-01-31T00:00:00",
          "2019-02-28T00:00:00",
          "2019-03-31T00:00:00",
          "2019-04-30T00:00:00",
          "2019-05-31T00:00:00",
          "2019-06-30T00:00:00",
          "2019-07-31T00:00:00",
          "2019-08-31T00:00:00",
          "2019-09-30T00:00:00",
          "2019-10-31T00:00:00"
         ],
         "xaxis": "x",
         "y": [
          85.55340702494004,
          70.40565712841347,
          71.3192748170756,
          78.02431474596959,
          92.87771906070154,
          85.58558906472503,
          126.81123033631421,
          97.3529439066227,
          79.30954693384045,
          95.9850951390053,
          77.50040394704207,
          95.04076841934437,
          80.87376491161994,
          68.65975283207611,
          70.86211031325671,
          90.61979839148766,
          73.05827791956048,
          80.90978696395202,
          118.59676466532935,
          92.55861817547273,
          75.96129904228806,
          91.28006177652139,
          72.81509132317954,
          89.57832929757518,
          49.349898057572545,
          48.680161815985535,
          50.12637716712769,
          64.87339488736504,
          52.19503185913818,
          56.03970249800734,
          84.59022540619645,
          72.24616744042122,
          71.78764304531283,
          54.529948178591994
         ],
         "yaxis": "y"
        },
        {
         "hovertemplate": "variable=Navarra<br>index=%{x}<br>value=%{y}<extra></extra>",
         "legendgroup": "Navarra",
         "line": {
          "color": "#FF6692",
          "dash": "solid"
         },
         "marker": {
          "symbol": "circle"
         },
         "mode": "lines",
         "name": "Navarra",
         "orientation": "v",
         "showlegend": true,
         "type": "scatter",
         "x": [
          "2017-01-31T00:00:00",
          "2017-02-28T00:00:00",
          "2017-03-31T00:00:00",
          "2017-04-30T00:00:00",
          "2017-05-31T00:00:00",
          "2017-06-30T00:00:00",
          "2017-07-31T00:00:00",
          "2017-08-31T00:00:00",
          "2017-09-30T00:00:00",
          "2017-10-31T00:00:00",
          "2017-11-30T00:00:00",
          "2017-12-31T00:00:00",
          "2018-01-31T00:00:00",
          "2018-02-28T00:00:00",
          "2018-03-31T00:00:00",
          "2018-04-30T00:00:00",
          "2018-05-31T00:00:00",
          "2018-06-30T00:00:00",
          "2018-07-31T00:00:00",
          "2018-08-31T00:00:00",
          "2018-09-30T00:00:00",
          "2018-10-31T00:00:00",
          "2018-11-30T00:00:00",
          "2018-12-31T00:00:00",
          "2019-01-31T00:00:00",
          "2019-02-28T00:00:00",
          "2019-03-31T00:00:00",
          "2019-04-30T00:00:00",
          "2019-05-31T00:00:00",
          "2019-06-30T00:00:00",
          "2019-07-31T00:00:00",
          "2019-08-31T00:00:00",
          "2019-09-30T00:00:00",
          "2019-10-31T00:00:00"
         ],
         "xaxis": "x",
         "y": [
          127.28998679354339,
          103.70748982328276,
          104.65781788896435,
          107.16760925106863,
          135.30117528151365,
          113.27081656376173,
          141.50693320900243,
          111.12727739735625,
          107.03132488140596,
          137.39440296208892,
          115.46582380187856,
          141.36168529876085,
          127.5426326067456,
          107.0675539463191,
          107.29209531782593,
          136.4385054166733,
          111.54898060381473,
          114.37587127658334,
          145.3192978204902,
          115.34561972927933,
          113.08963014499072,
          142.26913879750984,
          118.6755496630294,
          143.7008960556001,
          103.28576189453076,
          102.24514926054071,
          104.89326706375812,
          131.69605838572528,
          107.21593616564044,
          107.77141601287462,
          139.95295106274185,
          109.58378828642041,
          136.37741203933587,
          107.27458989824667
         ],
         "yaxis": "y"
        },
        {
         "hovertemplate": "variable=Pais_Vasco<br>index=%{x}<br>value=%{y}<extra></extra>",
         "legendgroup": "Pais_Vasco",
         "line": {
          "color": "#B6E880",
          "dash": "solid"
         },
         "marker": {
          "symbol": "circle"
         },
         "mode": "lines",
         "name": "Pais_Vasco",
         "orientation": "v",
         "showlegend": true,
         "type": "scatter",
         "x": [
          "2017-01-31T00:00:00",
          "2017-02-28T00:00:00",
          "2017-03-31T00:00:00",
          "2017-04-30T00:00:00",
          "2017-05-31T00:00:00",
          "2017-06-30T00:00:00",
          "2017-07-31T00:00:00",
          "2017-08-31T00:00:00",
          "2017-09-30T00:00:00",
          "2017-10-31T00:00:00",
          "2017-11-30T00:00:00",
          "2017-12-31T00:00:00",
          "2018-01-31T00:00:00",
          "2018-02-28T00:00:00",
          "2018-03-31T00:00:00",
          "2018-04-30T00:00:00",
          "2018-05-31T00:00:00",
          "2018-06-30T00:00:00",
          "2018-07-31T00:00:00",
          "2018-08-31T00:00:00",
          "2018-09-30T00:00:00",
          "2018-10-31T00:00:00",
          "2018-11-30T00:00:00",
          "2018-12-31T00:00:00",
          "2019-01-31T00:00:00",
          "2019-02-28T00:00:00",
          "2019-03-31T00:00:00",
          "2019-04-30T00:00:00",
          "2019-05-31T00:00:00",
          "2019-06-30T00:00:00",
          "2019-07-31T00:00:00",
          "2019-08-31T00:00:00",
          "2019-09-30T00:00:00",
          "2019-10-31T00:00:00"
         ],
         "xaxis": "x",
         "y": [
          154.55662922405472,
          124.3915024824242,
          124.29327719665837,
          118.26390632264793,
          155.09700375815905,
          125.82288842731093,
          148.69508120267818,
          114.37104829937122,
          122.09773284565283,
          160.19936032779964,
          140.23482264817483,
          171.8453933207333,
          154.29726841314798,
          127.45610593976771,
          123.79750416509756,
          157.6489926564285,
          128.81354867596173,
          128.58482382955725,
          156.0093855351781,
          118.8037889928006,
          128.87139373276347,
          162.44747699017182,
          139.8043810413323,
          169.52717483159006,
          117.68189130385298,
          114.13325475984007,
          115.98115951093791,
          141.25094685803745,
          117.0863440948812,
          118.41160801924939,
          145.37279623049193,
          105.70976561185714,
          143.8000314607362,
          115.4098781575482
         ],
         "yaxis": "y"
        }
       ],
       "layout": {
        "legend": {
         "title": {
          "text": "variable"
         },
         "tracegroupgap": 0
        },
        "margin": {
         "t": 60
        },
        "template": {
         "data": {
          "bar": [
           {
            "error_x": {
             "color": "#2a3f5f"
            },
            "error_y": {
             "color": "#2a3f5f"
            },
            "marker": {
             "line": {
              "color": "#E5ECF6",
              "width": 0.5
             },
             "pattern": {
              "fillmode": "overlay",
              "size": 10,
              "solidity": 0.2
             }
            },
            "type": "bar"
           }
          ],
          "barpolar": [
           {
            "marker": {
             "line": {
              "color": "#E5ECF6",
              "width": 0.5
             },
             "pattern": {
              "fillmode": "overlay",
              "size": 10,
              "solidity": 0.2
             }
            },
            "type": "barpolar"
           }
          ],
          "carpet": [
           {
            "aaxis": {
             "endlinecolor": "#2a3f5f",
             "gridcolor": "white",
             "linecolor": "white",
             "minorgridcolor": "white",
             "startlinecolor": "#2a3f5f"
            },
            "baxis": {
             "endlinecolor": "#2a3f5f",
             "gridcolor": "white",
             "linecolor": "white",
             "minorgridcolor": "white",
             "startlinecolor": "#2a3f5f"
            },
            "type": "carpet"
           }
          ],
          "choropleth": [
           {
            "colorbar": {
             "outlinewidth": 0,
             "ticks": ""
            },
            "type": "choropleth"
           }
          ],
          "contour": [
           {
            "colorbar": {
             "outlinewidth": 0,
             "ticks": ""
            },
            "colorscale": [
             [
              0,
              "#0d0887"
             ],
             [
              0.1111111111111111,
              "#46039f"
             ],
             [
              0.2222222222222222,
              "#7201a8"
             ],
             [
              0.3333333333333333,
              "#9c179e"
             ],
             [
              0.4444444444444444,
              "#bd3786"
             ],
             [
              0.5555555555555556,
              "#d8576b"
             ],
             [
              0.6666666666666666,
              "#ed7953"
             ],
             [
              0.7777777777777778,
              "#fb9f3a"
             ],
             [
              0.8888888888888888,
              "#fdca26"
             ],
             [
              1,
              "#f0f921"
             ]
            ],
            "type": "contour"
           }
          ],
          "contourcarpet": [
           {
            "colorbar": {
             "outlinewidth": 0,
             "ticks": ""
            },
            "type": "contourcarpet"
           }
          ],
          "heatmap": [
           {
            "colorbar": {
             "outlinewidth": 0,
             "ticks": ""
            },
            "colorscale": [
             [
              0,
              "#0d0887"
             ],
             [
              0.1111111111111111,
              "#46039f"
             ],
             [
              0.2222222222222222,
              "#7201a8"
             ],
             [
              0.3333333333333333,
              "#9c179e"
             ],
             [
              0.4444444444444444,
              "#bd3786"
             ],
             [
              0.5555555555555556,
              "#d8576b"
             ],
             [
              0.6666666666666666,
              "#ed7953"
             ],
             [
              0.7777777777777778,
              "#fb9f3a"
             ],
             [
              0.8888888888888888,
              "#fdca26"
             ],
             [
              1,
              "#f0f921"
             ]
            ],
            "type": "heatmap"
           }
          ],
          "heatmapgl": [
           {
            "colorbar": {
             "outlinewidth": 0,
             "ticks": ""
            },
            "colorscale": [
             [
              0,
              "#0d0887"
             ],
             [
              0.1111111111111111,
              "#46039f"
             ],
             [
              0.2222222222222222,
              "#7201a8"
             ],
             [
              0.3333333333333333,
              "#9c179e"
             ],
             [
              0.4444444444444444,
              "#bd3786"
             ],
             [
              0.5555555555555556,
              "#d8576b"
             ],
             [
              0.6666666666666666,
              "#ed7953"
             ],
             [
              0.7777777777777778,
              "#fb9f3a"
             ],
             [
              0.8888888888888888,
              "#fdca26"
             ],
             [
              1,
              "#f0f921"
             ]
            ],
            "type": "heatmapgl"
           }
          ],
          "histogram": [
           {
            "marker": {
             "pattern": {
              "fillmode": "overlay",
              "size": 10,
              "solidity": 0.2
             }
            },
            "type": "histogram"
           }
          ],
          "histogram2d": [
           {
            "colorbar": {
             "outlinewidth": 0,
             "ticks": ""
            },
            "colorscale": [
             [
              0,
              "#0d0887"
             ],
             [
              0.1111111111111111,
              "#46039f"
             ],
             [
              0.2222222222222222,
              "#7201a8"
             ],
             [
              0.3333333333333333,
              "#9c179e"
             ],
             [
              0.4444444444444444,
              "#bd3786"
             ],
             [
              0.5555555555555556,
              "#d8576b"
             ],
             [
              0.6666666666666666,
              "#ed7953"
             ],
             [
              0.7777777777777778,
              "#fb9f3a"
             ],
             [
              0.8888888888888888,
              "#fdca26"
             ],
             [
              1,
              "#f0f921"
             ]
            ],
            "type": "histogram2d"
           }
          ],
          "histogram2dcontour": [
           {
            "colorbar": {
             "outlinewidth": 0,
             "ticks": ""
            },
            "colorscale": [
             [
              0,
              "#0d0887"
             ],
             [
              0.1111111111111111,
              "#46039f"
             ],
             [
              0.2222222222222222,
              "#7201a8"
             ],
             [
              0.3333333333333333,
              "#9c179e"
             ],
             [
              0.4444444444444444,
              "#bd3786"
             ],
             [
              0.5555555555555556,
              "#d8576b"
             ],
             [
              0.6666666666666666,
              "#ed7953"
             ],
             [
              0.7777777777777778,
              "#fb9f3a"
             ],
             [
              0.8888888888888888,
              "#fdca26"
             ],
             [
              1,
              "#f0f921"
             ]
            ],
            "type": "histogram2dcontour"
           }
          ],
          "mesh3d": [
           {
            "colorbar": {
             "outlinewidth": 0,
             "ticks": ""
            },
            "type": "mesh3d"
           }
          ],
          "parcoords": [
           {
            "line": {
             "colorbar": {
              "outlinewidth": 0,
              "ticks": ""
             }
            },
            "type": "parcoords"
           }
          ],
          "pie": [
           {
            "automargin": true,
            "type": "pie"
           }
          ],
          "scatter": [
           {
            "fillpattern": {
             "fillmode": "overlay",
             "size": 10,
             "solidity": 0.2
            },
            "type": "scatter"
           }
          ],
          "scatter3d": [
           {
            "line": {
             "colorbar": {
              "outlinewidth": 0,
              "ticks": ""
             }
            },
            "marker": {
             "colorbar": {
              "outlinewidth": 0,
              "ticks": ""
             }
            },
            "type": "scatter3d"
           }
          ],
          "scattercarpet": [
           {
            "marker": {
             "colorbar": {
              "outlinewidth": 0,
              "ticks": ""
             }
            },
            "type": "scattercarpet"
           }
          ],
          "scattergeo": [
           {
            "marker": {
             "colorbar": {
              "outlinewidth": 0,
              "ticks": ""
             }
            },
            "type": "scattergeo"
           }
          ],
          "scattergl": [
           {
            "marker": {
             "colorbar": {
              "outlinewidth": 0,
              "ticks": ""
             }
            },
            "type": "scattergl"
           }
          ],
          "scattermapbox": [
           {
            "marker": {
             "colorbar": {
              "outlinewidth": 0,
              "ticks": ""
             }
            },
            "type": "scattermapbox"
           }
          ],
          "scatterpolar": [
           {
            "marker": {
             "colorbar": {
              "outlinewidth": 0,
              "ticks": ""
             }
            },
            "type": "scatterpolar"
           }
          ],
          "scatterpolargl": [
           {
            "marker": {
             "colorbar": {
              "outlinewidth": 0,
              "ticks": ""
             }
            },
            "type": "scatterpolargl"
           }
          ],
          "scatterternary": [
           {
            "marker": {
             "colorbar": {
              "outlinewidth": 0,
              "ticks": ""
             }
            },
            "type": "scatterternary"
           }
          ],
          "surface": [
           {
            "colorbar": {
             "outlinewidth": 0,
             "ticks": ""
            },
            "colorscale": [
             [
              0,
              "#0d0887"
             ],
             [
              0.1111111111111111,
              "#46039f"
             ],
             [
              0.2222222222222222,
              "#7201a8"
             ],
             [
              0.3333333333333333,
              "#9c179e"
             ],
             [
              0.4444444444444444,
              "#bd3786"
             ],
             [
              0.5555555555555556,
              "#d8576b"
             ],
             [
              0.6666666666666666,
              "#ed7953"
             ],
             [
              0.7777777777777778,
              "#fb9f3a"
             ],
             [
              0.8888888888888888,
              "#fdca26"
             ],
             [
              1,
              "#f0f921"
             ]
            ],
            "type": "surface"
           }
          ],
          "table": [
           {
            "cells": {
             "fill": {
              "color": "#EBF0F8"
             },
             "line": {
              "color": "white"
             }
            },
            "header": {
             "fill": {
              "color": "#C8D4E3"
             },
             "line": {
              "color": "white"
             }
            },
            "type": "table"
           }
          ]
         },
         "layout": {
          "annotationdefaults": {
           "arrowcolor": "#2a3f5f",
           "arrowhead": 0,
           "arrowwidth": 1
          },
          "autotypenumbers": "strict",
          "coloraxis": {
           "colorbar": {
            "outlinewidth": 0,
            "ticks": ""
           }
          },
          "colorscale": {
           "diverging": [
            [
             0,
             "#8e0152"
            ],
            [
             0.1,
             "#c51b7d"
            ],
            [
             0.2,
             "#de77ae"
            ],
            [
             0.3,
             "#f1b6da"
            ],
            [
             0.4,
             "#fde0ef"
            ],
            [
             0.5,
             "#f7f7f7"
            ],
            [
             0.6,
             "#e6f5d0"
            ],
            [
             0.7,
             "#b8e186"
            ],
            [
             0.8,
             "#7fbc41"
            ],
            [
             0.9,
             "#4d9221"
            ],
            [
             1,
             "#276419"
            ]
           ],
           "sequential": [
            [
             0,
             "#0d0887"
            ],
            [
             0.1111111111111111,
             "#46039f"
            ],
            [
             0.2222222222222222,
             "#7201a8"
            ],
            [
             0.3333333333333333,
             "#9c179e"
            ],
            [
             0.4444444444444444,
             "#bd3786"
            ],
            [
             0.5555555555555556,
             "#d8576b"
            ],
            [
             0.6666666666666666,
             "#ed7953"
            ],
            [
             0.7777777777777778,
             "#fb9f3a"
            ],
            [
             0.8888888888888888,
             "#fdca26"
            ],
            [
             1,
             "#f0f921"
            ]
           ],
           "sequentialminus": [
            [
             0,
             "#0d0887"
            ],
            [
             0.1111111111111111,
             "#46039f"
            ],
            [
             0.2222222222222222,
             "#7201a8"
            ],
            [
             0.3333333333333333,
             "#9c179e"
            ],
            [
             0.4444444444444444,
             "#bd3786"
            ],
            [
             0.5555555555555556,
             "#d8576b"
            ],
            [
             0.6666666666666666,
             "#ed7953"
            ],
            [
             0.7777777777777778,
             "#fb9f3a"
            ],
            [
             0.8888888888888888,
             "#fdca26"
            ],
            [
             1,
             "#f0f921"
            ]
           ]
          },
          "colorway": [
           "#636efa",
           "#EF553B",
           "#00cc96",
           "#ab63fa",
           "#FFA15A",
           "#19d3f3",
           "#FF6692",
           "#B6E880",
           "#FF97FF",
           "#FECB52"
          ],
          "font": {
           "color": "#2a3f5f"
          },
          "geo": {
           "bgcolor": "white",
           "lakecolor": "white",
           "landcolor": "#E5ECF6",
           "showlakes": true,
           "showland": true,
           "subunitcolor": "white"
          },
          "hoverlabel": {
           "align": "left"
          },
          "hovermode": "closest",
          "mapbox": {
           "style": "light"
          },
          "paper_bgcolor": "white",
          "plot_bgcolor": "#E5ECF6",
          "polar": {
           "angularaxis": {
            "gridcolor": "white",
            "linecolor": "white",
            "ticks": ""
           },
           "bgcolor": "#E5ECF6",
           "radialaxis": {
            "gridcolor": "white",
            "linecolor": "white",
            "ticks": ""
           }
          },
          "scene": {
           "xaxis": {
            "backgroundcolor": "#E5ECF6",
            "gridcolor": "white",
            "gridwidth": 2,
            "linecolor": "white",
            "showbackground": true,
            "ticks": "",
            "zerolinecolor": "white"
           },
           "yaxis": {
            "backgroundcolor": "#E5ECF6",
            "gridcolor": "white",
            "gridwidth": 2,
            "linecolor": "white",
            "showbackground": true,
            "ticks": "",
            "zerolinecolor": "white"
           },
           "zaxis": {
            "backgroundcolor": "#E5ECF6",
            "gridcolor": "white",
            "gridwidth": 2,
            "linecolor": "white",
            "showbackground": true,
            "ticks": "",
            "zerolinecolor": "white"
           }
          },
          "shapedefaults": {
           "line": {
            "color": "#2a3f5f"
           }
          },
          "ternary": {
           "aaxis": {
            "gridcolor": "white",
            "linecolor": "white",
            "ticks": ""
           },
           "baxis": {
            "gridcolor": "white",
            "linecolor": "white",
            "ticks": ""
           },
           "bgcolor": "#E5ECF6",
           "caxis": {
            "gridcolor": "white",
            "linecolor": "white",
            "ticks": ""
           }
          },
          "title": {
           "x": 0.05
          },
          "xaxis": {
           "automargin": true,
           "gridcolor": "white",
           "linecolor": "white",
           "ticks": "",
           "title": {
            "standoff": 15
           },
           "zerolinecolor": "white",
           "zerolinewidth": 2
          },
          "yaxis": {
           "automargin": true,
           "gridcolor": "white",
           "linecolor": "white",
           "ticks": "",
           "title": {
            "standoff": 15
           },
           "zerolinecolor": "white",
           "zerolinewidth": 2
          }
         }
        },
        "xaxis": {
         "anchor": "y",
         "domain": [
          0,
          1
         ],
         "title": {
          "text": "index"
         }
        },
        "yaxis": {
         "anchor": "x",
         "domain": [
          0,
          1
         ],
         "title": {
          "text": "value"
         }
        }
       }
      }
     },
     "metadata": {},
     "output_type": "display_data"
    }
   ],
   "source": [
    "fig = px.line(\n",
    "    df_aux\n",
    ")\n",
    "fig.show()"
   ]
  },
  {
   "cell_type": "code",
   "execution_count": null,
   "metadata": {},
   "outputs": [
    {
     "data": {
      "text/html": [
       "<div>\n",
       "<style scoped>\n",
       "    .dataframe tbody tr th:only-of-type {\n",
       "        vertical-align: middle;\n",
       "    }\n",
       "\n",
       "    .dataframe tbody tr th {\n",
       "        vertical-align: top;\n",
       "    }\n",
       "\n",
       "    .dataframe thead th {\n",
       "        text-align: right;\n",
       "    }\n",
       "</style>\n",
       "<table border=\"1\" class=\"dataframe\">\n",
       "  <thead>\n",
       "    <tr style=\"text-align: right;\">\n",
       "      <th></th>\n",
       "      <th>Andalucia</th>\n",
       "      <th>Aragon</th>\n",
       "      <th>Asturias</th>\n",
       "      <th>Baleares</th>\n",
       "      <th>C_Valenciana</th>\n",
       "      <th>Canarias</th>\n",
       "      <th>Cantabria</th>\n",
       "      <th>Castilla_La_Mancha</th>\n",
       "      <th>Castilla_y_Leon</th>\n",
       "      <th>Catalunya</th>\n",
       "      <th>Ceuta_y_Melilla</th>\n",
       "      <th>Extremadura</th>\n",
       "      <th>Galicia</th>\n",
       "      <th>La_Rioja</th>\n",
       "      <th>Madrid</th>\n",
       "      <th>Murcia</th>\n",
       "      <th>Navarra</th>\n",
       "      <th>Pais_Vasco</th>\n",
       "    </tr>\n",
       "  </thead>\n",
       "  <tbody>\n",
       "    <tr>\n",
       "      <th>2017-01-31</th>\n",
       "      <td>98.968941</td>\n",
       "      <td>98.284799</td>\n",
       "      <td>109.924185</td>\n",
       "      <td>102.203790</td>\n",
       "      <td>88.642626</td>\n",
       "      <td>132.946798</td>\n",
       "      <td>194.667978</td>\n",
       "      <td>102.460060</td>\n",
       "      <td>103.193704</td>\n",
       "      <td>107.398696</td>\n",
       "      <td>15.341096</td>\n",
       "      <td>104.002132</td>\n",
       "      <td>164.147699</td>\n",
       "      <td>109.841985</td>\n",
       "      <td>231.556393</td>\n",
       "      <td>85.553407</td>\n",
       "      <td>127.289987</td>\n",
       "      <td>154.556629</td>\n",
       "    </tr>\n",
       "    <tr>\n",
       "      <th>2017-02-28</th>\n",
       "      <td>82.171808</td>\n",
       "      <td>82.901994</td>\n",
       "      <td>90.252209</td>\n",
       "      <td>86.557877</td>\n",
       "      <td>73.396013</td>\n",
       "      <td>111.225826</td>\n",
       "      <td>161.275368</td>\n",
       "      <td>84.085458</td>\n",
       "      <td>84.870241</td>\n",
       "      <td>89.984447</td>\n",
       "      <td>11.624386</td>\n",
       "      <td>88.169749</td>\n",
       "      <td>134.579463</td>\n",
       "      <td>88.161900</td>\n",
       "      <td>188.272838</td>\n",
       "      <td>70.405657</td>\n",
       "      <td>103.707490</td>\n",
       "      <td>124.391502</td>\n",
       "    </tr>\n",
       "    <tr>\n",
       "      <th>2017-03-31</th>\n",
       "      <td>83.049477</td>\n",
       "      <td>83.095033</td>\n",
       "      <td>91.228465</td>\n",
       "      <td>91.237817</td>\n",
       "      <td>75.624264</td>\n",
       "      <td>107.957079</td>\n",
       "      <td>162.894917</td>\n",
       "      <td>84.551230</td>\n",
       "      <td>86.317829</td>\n",
       "      <td>91.133576</td>\n",
       "      <td>14.331853</td>\n",
       "      <td>88.382655</td>\n",
       "      <td>136.411789</td>\n",
       "      <td>90.769270</td>\n",
       "      <td>185.438750</td>\n",
       "      <td>71.319275</td>\n",
       "      <td>104.657818</td>\n",
       "      <td>124.293277</td>\n",
       "    </tr>\n",
       "    <tr>\n",
       "      <th>2017-04-30</th>\n",
       "      <td>87.501831</td>\n",
       "      <td>86.802179</td>\n",
       "      <td>94.057316</td>\n",
       "      <td>100.946330</td>\n",
       "      <td>82.108988</td>\n",
       "      <td>112.123572</td>\n",
       "      <td>180.226625</td>\n",
       "      <td>88.603423</td>\n",
       "      <td>92.540523</td>\n",
       "      <td>95.949426</td>\n",
       "      <td>23.533496</td>\n",
       "      <td>105.005189</td>\n",
       "      <td>145.420388</td>\n",
       "      <td>99.274632</td>\n",
       "      <td>180.789538</td>\n",
       "      <td>78.024315</td>\n",
       "      <td>107.167609</td>\n",
       "      <td>118.263906</td>\n",
       "    </tr>\n",
       "    <tr>\n",
       "      <th>2017-05-31</th>\n",
       "      <td>108.516665</td>\n",
       "      <td>108.218124</td>\n",
       "      <td>111.828024</td>\n",
       "      <td>132.041335</td>\n",
       "      <td>96.948904</td>\n",
       "      <td>131.777390</td>\n",
       "      <td>206.292076</td>\n",
       "      <td>108.290435</td>\n",
       "      <td>109.721442</td>\n",
       "      <td>117.134433</td>\n",
       "      <td>32.269069</td>\n",
       "      <td>120.422014</td>\n",
       "      <td>173.633264</td>\n",
       "      <td>118.980013</td>\n",
       "      <td>234.452148</td>\n",
       "      <td>92.877719</td>\n",
       "      <td>135.301175</td>\n",
       "      <td>155.097004</td>\n",
       "    </tr>\n",
       "    <tr>\n",
       "      <th>2017-06-30</th>\n",
       "      <td>96.837505</td>\n",
       "      <td>91.607976</td>\n",
       "      <td>93.819469</td>\n",
       "      <td>122.970784</td>\n",
       "      <td>91.243082</td>\n",
       "      <td>111.871410</td>\n",
       "      <td>180.558478</td>\n",
       "      <td>95.696535</td>\n",
       "      <td>97.234599</td>\n",
       "      <td>105.371981</td>\n",
       "      <td>27.845285</td>\n",
       "      <td>100.129527</td>\n",
       "      <td>150.904970</td>\n",
       "      <td>100.915727</td>\n",
       "      <td>197.035933</td>\n",
       "      <td>85.585589</td>\n",
       "      <td>113.270817</td>\n",
       "      <td>125.822888</td>\n",
       "    </tr>\n",
       "    <tr>\n",
       "      <th>2017-07-31</th>\n",
       "      <td>130.926252</td>\n",
       "      <td>115.793447</td>\n",
       "      <td>123.783323</td>\n",
       "      <td>179.729758</td>\n",
       "      <td>134.206660</td>\n",
       "      <td>150.047919</td>\n",
       "      <td>277.330824</td>\n",
       "      <td>125.067241</td>\n",
       "      <td>131.828189</td>\n",
       "      <td>143.003309</td>\n",
       "      <td>31.179707</td>\n",
       "      <td>131.678026</td>\n",
       "      <td>200.929510</td>\n",
       "      <td>135.698788</td>\n",
       "      <td>216.522149</td>\n",
       "      <td>126.811230</td>\n",
       "      <td>141.506933</td>\n",
       "      <td>148.695081</td>\n",
       "    </tr>\n",
       "    <tr>\n",
       "      <th>2017-08-31</th>\n",
       "      <td>103.483565</td>\n",
       "      <td>90.999126</td>\n",
       "      <td>97.673105</td>\n",
       "      <td>137.976352</td>\n",
       "      <td>102.446368</td>\n",
       "      <td>120.907760</td>\n",
       "      <td>227.602196</td>\n",
       "      <td>100.368014</td>\n",
       "      <td>109.848078</td>\n",
       "      <td>109.064773</td>\n",
       "      <td>24.886261</td>\n",
       "      <td>113.560487</td>\n",
       "      <td>160.700794</td>\n",
       "      <td>108.221885</td>\n",
       "      <td>158.750824</td>\n",
       "      <td>97.352944</td>\n",
       "      <td>111.127277</td>\n",
       "      <td>114.371048</td>\n",
       "    </tr>\n",
       "    <tr>\n",
       "      <th>2017-09-30</th>\n",
       "      <td>90.699871</td>\n",
       "      <td>84.709773</td>\n",
       "      <td>89.305138</td>\n",
       "      <td>113.641281</td>\n",
       "      <td>83.600740</td>\n",
       "      <td>114.166936</td>\n",
       "      <td>170.424355</td>\n",
       "      <td>90.859369</td>\n",
       "      <td>90.184132</td>\n",
       "      <td>95.185828</td>\n",
       "      <td>23.541465</td>\n",
       "      <td>98.586100</td>\n",
       "      <td>141.684487</td>\n",
       "      <td>96.162220</td>\n",
       "      <td>188.236755</td>\n",
       "      <td>79.309547</td>\n",
       "      <td>107.031325</td>\n",
       "      <td>122.097733</td>\n",
       "    </tr>\n",
       "    <tr>\n",
       "      <th>2017-10-31</th>\n",
       "      <td>112.286837</td>\n",
       "      <td>112.321650</td>\n",
       "      <td>114.865438</td>\n",
       "      <td>132.414165</td>\n",
       "      <td>101.355515</td>\n",
       "      <td>149.642879</td>\n",
       "      <td>213.887753</td>\n",
       "      <td>111.933180</td>\n",
       "      <td>114.499449</td>\n",
       "      <td>122.292647</td>\n",
       "      <td>32.116584</td>\n",
       "      <td>118.763303</td>\n",
       "      <td>180.069532</td>\n",
       "      <td>121.289152</td>\n",
       "      <td>248.135663</td>\n",
       "      <td>95.985095</td>\n",
       "      <td>137.394403</td>\n",
       "      <td>160.199360</td>\n",
       "    </tr>\n",
       "    <tr>\n",
       "      <th>2017-11-30</th>\n",
       "      <td>90.836573</td>\n",
       "      <td>91.638224</td>\n",
       "      <td>98.473959</td>\n",
       "      <td>98.587393</td>\n",
       "      <td>81.129496</td>\n",
       "      <td>122.161119</td>\n",
       "      <td>178.911352</td>\n",
       "      <td>91.993363</td>\n",
       "      <td>97.318021</td>\n",
       "      <td>100.989490</td>\n",
       "      <td>29.133868</td>\n",
       "      <td>95.001910</td>\n",
       "      <td>153.502617</td>\n",
       "      <td>102.664775</td>\n",
       "      <td>208.137341</td>\n",
       "      <td>77.500404</td>\n",
       "      <td>115.465824</td>\n",
       "      <td>140.234823</td>\n",
       "    </tr>\n",
       "    <tr>\n",
       "      <th>2017-12-31</th>\n",
       "      <td>115.236172</td>\n",
       "      <td>117.371046</td>\n",
       "      <td>122.099102</td>\n",
       "      <td>114.869778</td>\n",
       "      <td>97.732611</td>\n",
       "      <td>141.904964</td>\n",
       "      <td>221.210823</td>\n",
       "      <td>115.186225</td>\n",
       "      <td>124.020636</td>\n",
       "      <td>124.030316</td>\n",
       "      <td>39.413458</td>\n",
       "      <td>128.712720</td>\n",
       "      <td>195.996936</td>\n",
       "      <td>130.030586</td>\n",
       "      <td>251.189075</td>\n",
       "      <td>95.040768</td>\n",
       "      <td>141.361685</td>\n",
       "      <td>171.845393</td>\n",
       "    </tr>\n",
       "    <tr>\n",
       "      <th>2018-01-31</th>\n",
       "      <td>98.451076</td>\n",
       "      <td>95.825183</td>\n",
       "      <td>119.594943</td>\n",
       "      <td>101.013542</td>\n",
       "      <td>87.868318</td>\n",
       "      <td>159.419807</td>\n",
       "      <td>169.480367</td>\n",
       "      <td>108.968758</td>\n",
       "      <td>102.355225</td>\n",
       "      <td>115.966053</td>\n",
       "      <td>61.773689</td>\n",
       "      <td>108.909713</td>\n",
       "      <td>183.285677</td>\n",
       "      <td>138.509168</td>\n",
       "      <td>278.382449</td>\n",
       "      <td>80.873765</td>\n",
       "      <td>127.542633</td>\n",
       "      <td>154.297268</td>\n",
       "    </tr>\n",
       "    <tr>\n",
       "      <th>2018-02-28</th>\n",
       "      <td>83.619253</td>\n",
       "      <td>82.821961</td>\n",
       "      <td>99.722733</td>\n",
       "      <td>88.276460</td>\n",
       "      <td>74.863456</td>\n",
       "      <td>137.917479</td>\n",
       "      <td>141.463085</td>\n",
       "      <td>92.003297</td>\n",
       "      <td>86.466248</td>\n",
       "      <td>100.299501</td>\n",
       "      <td>56.347790</td>\n",
       "      <td>93.163322</td>\n",
       "      <td>156.086929</td>\n",
       "      <td>113.687462</td>\n",
       "      <td>233.525550</td>\n",
       "      <td>68.659753</td>\n",
       "      <td>107.067554</td>\n",
       "      <td>127.456106</td>\n",
       "    </tr>\n",
       "    <tr>\n",
       "      <th>2018-03-31</th>\n",
       "      <td>83.639916</td>\n",
       "      <td>83.147523</td>\n",
       "      <td>102.395308</td>\n",
       "      <td>94.440970</td>\n",
       "      <td>81.991136</td>\n",
       "      <td>135.703637</td>\n",
       "      <td>150.966623</td>\n",
       "      <td>92.188601</td>\n",
       "      <td>89.471041</td>\n",
       "      <td>105.393173</td>\n",
       "      <td>46.839778</td>\n",
       "      <td>96.720266</td>\n",
       "      <td>162.441498</td>\n",
       "      <td>118.848708</td>\n",
       "      <td>221.992882</td>\n",
       "      <td>70.862110</td>\n",
       "      <td>107.292095</td>\n",
       "      <td>123.797504</td>\n",
       "    </tr>\n",
       "    <tr>\n",
       "      <th>2018-04-30</th>\n",
       "      <td>108.690795</td>\n",
       "      <td>105.682766</td>\n",
       "      <td>126.636634</td>\n",
       "      <td>122.642508</td>\n",
       "      <td>97.287599</td>\n",
       "      <td>166.611476</td>\n",
       "      <td>189.127201</td>\n",
       "      <td>119.436603</td>\n",
       "      <td>111.587795</td>\n",
       "      <td>127.276296</td>\n",
       "      <td>65.934090</td>\n",
       "      <td>121.344385</td>\n",
       "      <td>201.937161</td>\n",
       "      <td>150.533944</td>\n",
       "      <td>295.707834</td>\n",
       "      <td>90.619798</td>\n",
       "      <td>136.438505</td>\n",
       "      <td>157.648993</td>\n",
       "    </tr>\n",
       "    <tr>\n",
       "      <th>2018-05-31</th>\n",
       "      <td>88.316080</td>\n",
       "      <td>85.235056</td>\n",
       "      <td>101.783594</td>\n",
       "      <td>106.202510</td>\n",
       "      <td>80.321146</td>\n",
       "      <td>127.525808</td>\n",
       "      <td>148.705093</td>\n",
       "      <td>94.368229</td>\n",
       "      <td>90.210681</td>\n",
       "      <td>103.464863</td>\n",
       "      <td>57.435494</td>\n",
       "      <td>98.930049</td>\n",
       "      <td>163.231802</td>\n",
       "      <td>120.194404</td>\n",
       "      <td>239.333396</td>\n",
       "      <td>73.058278</td>\n",
       "      <td>111.548981</td>\n",
       "      <td>128.813549</td>\n",
       "    </tr>\n",
       "    <tr>\n",
       "      <th>2018-06-30</th>\n",
       "      <td>95.464218</td>\n",
       "      <td>88.460059</td>\n",
       "      <td>104.922921</td>\n",
       "      <td>120.189894</td>\n",
       "      <td>91.279339</td>\n",
       "      <td>134.118605</td>\n",
       "      <td>161.861826</td>\n",
       "      <td>103.268633</td>\n",
       "      <td>95.786960</td>\n",
       "      <td>114.951336</td>\n",
       "      <td>55.359308</td>\n",
       "      <td>101.589971</td>\n",
       "      <td>173.978408</td>\n",
       "      <td>126.703013</td>\n",
       "      <td>244.997667</td>\n",
       "      <td>80.909787</td>\n",
       "      <td>114.375871</td>\n",
       "      <td>128.584824</td>\n",
       "    </tr>\n",
       "    <tr>\n",
       "      <th>2018-07-31</th>\n",
       "      <td>131.897771</td>\n",
       "      <td>114.815157</td>\n",
       "      <td>138.159303</td>\n",
       "      <td>175.360271</td>\n",
       "      <td>135.148406</td>\n",
       "      <td>180.016051</td>\n",
       "      <td>248.755227</td>\n",
       "      <td>137.875716</td>\n",
       "      <td>134.580623</td>\n",
       "      <td>157.175450</td>\n",
       "      <td>67.515317</td>\n",
       "      <td>136.754165</td>\n",
       "      <td>234.414423</td>\n",
       "      <td>174.693118</td>\n",
       "      <td>278.754108</td>\n",
       "      <td>118.596765</td>\n",
       "      <td>145.319298</td>\n",
       "      <td>156.009386</td>\n",
       "    </tr>\n",
       "    <tr>\n",
       "      <th>2018-08-31</th>\n",
       "      <td>105.499885</td>\n",
       "      <td>90.234134</td>\n",
       "      <td>113.396239</td>\n",
       "      <td>134.625501</td>\n",
       "      <td>104.275772</td>\n",
       "      <td>142.488424</td>\n",
       "      <td>207.150174</td>\n",
       "      <td>110.199241</td>\n",
       "      <td>115.256016</td>\n",
       "      <td>120.368574</td>\n",
       "      <td>53.889059</td>\n",
       "      <td>117.010408</td>\n",
       "      <td>189.466471</td>\n",
       "      <td>140.746229</td>\n",
       "      <td>203.283325</td>\n",
       "      <td>92.558618</td>\n",
       "      <td>115.345620</td>\n",
       "      <td>118.803789</td>\n",
       "    </tr>\n",
       "    <tr>\n",
       "      <th>2018-09-30</th>\n",
       "      <td>91.431596</td>\n",
       "      <td>86.966658</td>\n",
       "      <td>103.966508</td>\n",
       "      <td>114.180599</td>\n",
       "      <td>85.276784</td>\n",
       "      <td>137.444515</td>\n",
       "      <td>159.387856</td>\n",
       "      <td>99.415867</td>\n",
       "      <td>93.748700</td>\n",
       "      <td>107.173299</td>\n",
       "      <td>61.285614</td>\n",
       "      <td>100.423980</td>\n",
       "      <td>169.435111</td>\n",
       "      <td>125.341895</td>\n",
       "      <td>240.793119</td>\n",
       "      <td>75.961299</td>\n",
       "      <td>113.089630</td>\n",
       "      <td>128.871394</td>\n",
       "    </tr>\n",
       "    <tr>\n",
       "      <th>2018-10-31</th>\n",
       "      <td>112.498112</td>\n",
       "      <td>110.376888</td>\n",
       "      <td>130.736309</td>\n",
       "      <td>129.120357</td>\n",
       "      <td>101.437450</td>\n",
       "      <td>175.277359</td>\n",
       "      <td>192.548201</td>\n",
       "      <td>119.724819</td>\n",
       "      <td>115.391279</td>\n",
       "      <td>133.964118</td>\n",
       "      <td>86.741254</td>\n",
       "      <td>126.050146</td>\n",
       "      <td>207.634947</td>\n",
       "      <td>155.562850</td>\n",
       "      <td>306.042481</td>\n",
       "      <td>91.280062</td>\n",
       "      <td>142.269139</td>\n",
       "      <td>162.447477</td>\n",
       "    </tr>\n",
       "    <tr>\n",
       "      <th>2018-11-30</th>\n",
       "      <td>91.623217</td>\n",
       "      <td>90.097021</td>\n",
       "      <td>111.633175</td>\n",
       "      <td>94.136467</td>\n",
       "      <td>80.052506</td>\n",
       "      <td>142.466689</td>\n",
       "      <td>157.826402</td>\n",
       "      <td>97.479891</td>\n",
       "      <td>97.513100</td>\n",
       "      <td>109.051856</td>\n",
       "      <td>75.040916</td>\n",
       "      <td>102.162861</td>\n",
       "      <td>176.170802</td>\n",
       "      <td>128.420302</td>\n",
       "      <td>256.266320</td>\n",
       "      <td>72.815091</td>\n",
       "      <td>118.675550</td>\n",
       "      <td>139.804381</td>\n",
       "    </tr>\n",
       "    <tr>\n",
       "      <th>2018-12-31</th>\n",
       "      <td>116.170887</td>\n",
       "      <td>114.282916</td>\n",
       "      <td>137.963233</td>\n",
       "      <td>109.382560</td>\n",
       "      <td>95.646272</td>\n",
       "      <td>165.000790</td>\n",
       "      <td>190.244021</td>\n",
       "      <td>122.414403</td>\n",
       "      <td>123.553654</td>\n",
       "      <td>135.181729</td>\n",
       "      <td>86.169156</td>\n",
       "      <td>134.081984</td>\n",
       "      <td>221.805335</td>\n",
       "      <td>165.944113</td>\n",
       "      <td>310.187121</td>\n",
       "      <td>89.578329</td>\n",
       "      <td>143.700896</td>\n",
       "      <td>169.527175</td>\n",
       "    </tr>\n",
       "    <tr>\n",
       "      <th>2019-01-31</th>\n",
       "      <td>73.139230</td>\n",
       "      <td>81.891442</td>\n",
       "      <td>88.129499</td>\n",
       "      <td>92.799299</td>\n",
       "      <td>67.362771</td>\n",
       "      <td>124.703363</td>\n",
       "      <td>114.484151</td>\n",
       "      <td>73.909527</td>\n",
       "      <td>67.679297</td>\n",
       "      <td>85.922934</td>\n",
       "      <td>31.117912</td>\n",
       "      <td>69.384096</td>\n",
       "      <td>136.139766</td>\n",
       "      <td>112.939919</td>\n",
       "      <td>191.815608</td>\n",
       "      <td>49.349898</td>\n",
       "      <td>103.285762</td>\n",
       "      <td>117.681891</td>\n",
       "    </tr>\n",
       "    <tr>\n",
       "      <th>2019-02-28</th>\n",
       "      <td>73.654653</td>\n",
       "      <td>83.868722</td>\n",
       "      <td>87.291351</td>\n",
       "      <td>94.622585</td>\n",
       "      <td>66.700153</td>\n",
       "      <td>126.890241</td>\n",
       "      <td>110.749758</td>\n",
       "      <td>73.532490</td>\n",
       "      <td>67.173299</td>\n",
       "      <td>86.721900</td>\n",
       "      <td>35.105643</td>\n",
       "      <td>69.636386</td>\n",
       "      <td>135.809707</td>\n",
       "      <td>111.054148</td>\n",
       "      <td>192.242951</td>\n",
       "      <td>48.680162</td>\n",
       "      <td>102.245149</td>\n",
       "      <td>114.133255</td>\n",
       "    </tr>\n",
       "    <tr>\n",
       "      <th>2019-03-31</th>\n",
       "      <td>75.397151</td>\n",
       "      <td>86.762252</td>\n",
       "      <td>89.586044</td>\n",
       "      <td>98.651089</td>\n",
       "      <td>70.274125</td>\n",
       "      <td>133.474723</td>\n",
       "      <td>117.011980</td>\n",
       "      <td>76.078356</td>\n",
       "      <td>70.026647</td>\n",
       "      <td>89.945560</td>\n",
       "      <td>32.702891</td>\n",
       "      <td>72.574860</td>\n",
       "      <td>138.188196</td>\n",
       "      <td>115.411912</td>\n",
       "      <td>195.753628</td>\n",
       "      <td>50.126377</td>\n",
       "      <td>104.893267</td>\n",
       "      <td>115.981160</td>\n",
       "    </tr>\n",
       "    <tr>\n",
       "      <th>2019-04-30</th>\n",
       "      <td>96.339158</td>\n",
       "      <td>110.036713</td>\n",
       "      <td>112.654671</td>\n",
       "      <td>133.416641</td>\n",
       "      <td>91.938272</td>\n",
       "      <td>159.064944</td>\n",
       "      <td>151.971932</td>\n",
       "      <td>95.903281</td>\n",
       "      <td>89.367277</td>\n",
       "      <td>115.351953</td>\n",
       "      <td>39.013555</td>\n",
       "      <td>95.601601</td>\n",
       "      <td>180.844863</td>\n",
       "      <td>148.106916</td>\n",
       "      <td>237.076002</td>\n",
       "      <td>64.873395</td>\n",
       "      <td>131.696058</td>\n",
       "      <td>141.250947</td>\n",
       "    </tr>\n",
       "    <tr>\n",
       "      <th>2019-05-31</th>\n",
       "      <td>78.109113</td>\n",
       "      <td>87.790259</td>\n",
       "      <td>89.748748</td>\n",
       "      <td>110.464087</td>\n",
       "      <td>71.227551</td>\n",
       "      <td>121.871315</td>\n",
       "      <td>118.658088</td>\n",
       "      <td>78.337424</td>\n",
       "      <td>71.694934</td>\n",
       "      <td>89.573311</td>\n",
       "      <td>34.134428</td>\n",
       "      <td>75.563226</td>\n",
       "      <td>141.962447</td>\n",
       "      <td>118.507641</td>\n",
       "      <td>193.771773</td>\n",
       "      <td>52.195032</td>\n",
       "      <td>107.215936</td>\n",
       "      <td>117.086344</td>\n",
       "    </tr>\n",
       "    <tr>\n",
       "      <th>2019-06-30</th>\n",
       "      <td>82.589065</td>\n",
       "      <td>91.147859</td>\n",
       "      <td>90.747327</td>\n",
       "      <td>124.578175</td>\n",
       "      <td>78.914105</td>\n",
       "      <td>127.187354</td>\n",
       "      <td>123.025550</td>\n",
       "      <td>81.082865</td>\n",
       "      <td>74.992497</td>\n",
       "      <td>99.036178</td>\n",
       "      <td>33.317026</td>\n",
       "      <td>77.510408</td>\n",
       "      <td>149.577905</td>\n",
       "      <td>123.480560</td>\n",
       "      <td>204.067814</td>\n",
       "      <td>56.039702</td>\n",
       "      <td>107.771416</td>\n",
       "      <td>118.411608</td>\n",
       "    </tr>\n",
       "    <tr>\n",
       "      <th>2019-07-31</th>\n",
       "      <td>114.232254</td>\n",
       "      <td>119.875628</td>\n",
       "      <td>117.939351</td>\n",
       "      <td>182.857033</td>\n",
       "      <td>116.164902</td>\n",
       "      <td>168.338024</td>\n",
       "      <td>186.421051</td>\n",
       "      <td>111.862194</td>\n",
       "      <td>104.033085</td>\n",
       "      <td>132.477102</td>\n",
       "      <td>45.505548</td>\n",
       "      <td>101.992466</td>\n",
       "      <td>197.446403</td>\n",
       "      <td>175.380853</td>\n",
       "      <td>241.941082</td>\n",
       "      <td>84.590225</td>\n",
       "      <td>139.952951</td>\n",
       "      <td>145.372796</td>\n",
       "    </tr>\n",
       "    <tr>\n",
       "      <th>2019-08-31</th>\n",
       "      <td>96.694631</td>\n",
       "      <td>96.372757</td>\n",
       "      <td>101.348736</td>\n",
       "      <td>150.481438</td>\n",
       "      <td>98.203552</td>\n",
       "      <td>138.592795</td>\n",
       "      <td>170.935321</td>\n",
       "      <td>90.948655</td>\n",
       "      <td>92.988578</td>\n",
       "      <td>107.497371</td>\n",
       "      <td>37.195192</td>\n",
       "      <td>90.681980</td>\n",
       "      <td>168.799351</td>\n",
       "      <td>141.872959</td>\n",
       "      <td>163.207511</td>\n",
       "      <td>72.246167</td>\n",
       "      <td>109.583788</td>\n",
       "      <td>105.709766</td>\n",
       "    </tr>\n",
       "    <tr>\n",
       "      <th>2019-09-30</th>\n",
       "      <td>104.200469</td>\n",
       "      <td>113.168222</td>\n",
       "      <td>113.374409</td>\n",
       "      <td>157.998478</td>\n",
       "      <td>98.848822</td>\n",
       "      <td>164.750981</td>\n",
       "      <td>163.541003</td>\n",
       "      <td>101.706959</td>\n",
       "      <td>93.845568</td>\n",
       "      <td>119.194274</td>\n",
       "      <td>43.154603</td>\n",
       "      <td>99.434921</td>\n",
       "      <td>187.250641</td>\n",
       "      <td>156.694146</td>\n",
       "      <td>239.237930</td>\n",
       "      <td>71.787643</td>\n",
       "      <td>136.377412</td>\n",
       "      <td>143.800031</td>\n",
       "    </tr>\n",
       "    <tr>\n",
       "      <th>2019-10-31</th>\n",
       "      <td>79.947235</td>\n",
       "      <td>88.929952</td>\n",
       "      <td>90.409907</td>\n",
       "      <td>115.738813</td>\n",
       "      <td>73.813738</td>\n",
       "      <td>132.608948</td>\n",
       "      <td>118.507789</td>\n",
       "      <td>77.685554</td>\n",
       "      <td>71.210799</td>\n",
       "      <td>92.417099</td>\n",
       "      <td>33.300542</td>\n",
       "      <td>76.274683</td>\n",
       "      <td>143.401465</td>\n",
       "      <td>121.726680</td>\n",
       "      <td>199.790774</td>\n",
       "      <td>54.529948</td>\n",
       "      <td>107.274590</td>\n",
       "      <td>115.409878</td>\n",
       "    </tr>\n",
       "  </tbody>\n",
       "</table>\n",
       "</div>"
      ],
      "text/plain": [
       "             Andalucia      Aragon    Asturias    Baleares  C_Valenciana  \\\n",
       "2017-01-31   98.968941   98.284799  109.924185  102.203790     88.642626   \n",
       "2017-02-28   82.171808   82.901994   90.252209   86.557877     73.396013   \n",
       "2017-03-31   83.049477   83.095033   91.228465   91.237817     75.624264   \n",
       "2017-04-30   87.501831   86.802179   94.057316  100.946330     82.108988   \n",
       "2017-05-31  108.516665  108.218124  111.828024  132.041335     96.948904   \n",
       "2017-06-30   96.837505   91.607976   93.819469  122.970784     91.243082   \n",
       "2017-07-31  130.926252  115.793447  123.783323  179.729758    134.206660   \n",
       "2017-08-31  103.483565   90.999126   97.673105  137.976352    102.446368   \n",
       "2017-09-30   90.699871   84.709773   89.305138  113.641281     83.600740   \n",
       "2017-10-31  112.286837  112.321650  114.865438  132.414165    101.355515   \n",
       "2017-11-30   90.836573   91.638224   98.473959   98.587393     81.129496   \n",
       "2017-12-31  115.236172  117.371046  122.099102  114.869778     97.732611   \n",
       "2018-01-31   98.451076   95.825183  119.594943  101.013542     87.868318   \n",
       "2018-02-28   83.619253   82.821961   99.722733   88.276460     74.863456   \n",
       "2018-03-31   83.639916   83.147523  102.395308   94.440970     81.991136   \n",
       "2018-04-30  108.690795  105.682766  126.636634  122.642508     97.287599   \n",
       "2018-05-31   88.316080   85.235056  101.783594  106.202510     80.321146   \n",
       "2018-06-30   95.464218   88.460059  104.922921  120.189894     91.279339   \n",
       "2018-07-31  131.897771  114.815157  138.159303  175.360271    135.148406   \n",
       "2018-08-31  105.499885   90.234134  113.396239  134.625501    104.275772   \n",
       "2018-09-30   91.431596   86.966658  103.966508  114.180599     85.276784   \n",
       "2018-10-31  112.498112  110.376888  130.736309  129.120357    101.437450   \n",
       "2018-11-30   91.623217   90.097021  111.633175   94.136467     80.052506   \n",
       "2018-12-31  116.170887  114.282916  137.963233  109.382560     95.646272   \n",
       "2019-01-31   73.139230   81.891442   88.129499   92.799299     67.362771   \n",
       "2019-02-28   73.654653   83.868722   87.291351   94.622585     66.700153   \n",
       "2019-03-31   75.397151   86.762252   89.586044   98.651089     70.274125   \n",
       "2019-04-30   96.339158  110.036713  112.654671  133.416641     91.938272   \n",
       "2019-05-31   78.109113   87.790259   89.748748  110.464087     71.227551   \n",
       "2019-06-30   82.589065   91.147859   90.747327  124.578175     78.914105   \n",
       "2019-07-31  114.232254  119.875628  117.939351  182.857033    116.164902   \n",
       "2019-08-31   96.694631   96.372757  101.348736  150.481438     98.203552   \n",
       "2019-09-30  104.200469  113.168222  113.374409  157.998478     98.848822   \n",
       "2019-10-31   79.947235   88.929952   90.409907  115.738813     73.813738   \n",
       "\n",
       "              Canarias   Cantabria  Castilla_La_Mancha  Castilla_y_Leon  \\\n",
       "2017-01-31  132.946798  194.667978          102.460060       103.193704   \n",
       "2017-02-28  111.225826  161.275368           84.085458        84.870241   \n",
       "2017-03-31  107.957079  162.894917           84.551230        86.317829   \n",
       "2017-04-30  112.123572  180.226625           88.603423        92.540523   \n",
       "2017-05-31  131.777390  206.292076          108.290435       109.721442   \n",
       "2017-06-30  111.871410  180.558478           95.696535        97.234599   \n",
       "2017-07-31  150.047919  277.330824          125.067241       131.828189   \n",
       "2017-08-31  120.907760  227.602196          100.368014       109.848078   \n",
       "2017-09-30  114.166936  170.424355           90.859369        90.184132   \n",
       "2017-10-31  149.642879  213.887753          111.933180       114.499449   \n",
       "2017-11-30  122.161119  178.911352           91.993363        97.318021   \n",
       "2017-12-31  141.904964  221.210823          115.186225       124.020636   \n",
       "2018-01-31  159.419807  169.480367          108.968758       102.355225   \n",
       "2018-02-28  137.917479  141.463085           92.003297        86.466248   \n",
       "2018-03-31  135.703637  150.966623           92.188601        89.471041   \n",
       "2018-04-30  166.611476  189.127201          119.436603       111.587795   \n",
       "2018-05-31  127.525808  148.705093           94.368229        90.210681   \n",
       "2018-06-30  134.118605  161.861826          103.268633        95.786960   \n",
       "2018-07-31  180.016051  248.755227          137.875716       134.580623   \n",
       "2018-08-31  142.488424  207.150174          110.199241       115.256016   \n",
       "2018-09-30  137.444515  159.387856           99.415867        93.748700   \n",
       "2018-10-31  175.277359  192.548201          119.724819       115.391279   \n",
       "2018-11-30  142.466689  157.826402           97.479891        97.513100   \n",
       "2018-12-31  165.000790  190.244021          122.414403       123.553654   \n",
       "2019-01-31  124.703363  114.484151           73.909527        67.679297   \n",
       "2019-02-28  126.890241  110.749758           73.532490        67.173299   \n",
       "2019-03-31  133.474723  117.011980           76.078356        70.026647   \n",
       "2019-04-30  159.064944  151.971932           95.903281        89.367277   \n",
       "2019-05-31  121.871315  118.658088           78.337424        71.694934   \n",
       "2019-06-30  127.187354  123.025550           81.082865        74.992497   \n",
       "2019-07-31  168.338024  186.421051          111.862194       104.033085   \n",
       "2019-08-31  138.592795  170.935321           90.948655        92.988578   \n",
       "2019-09-30  164.750981  163.541003          101.706959        93.845568   \n",
       "2019-10-31  132.608948  118.507789           77.685554        71.210799   \n",
       "\n",
       "             Catalunya  Ceuta_y_Melilla  Extremadura     Galicia    La_Rioja  \\\n",
       "2017-01-31  107.398696        15.341096   104.002132  164.147699  109.841985   \n",
       "2017-02-28   89.984447        11.624386    88.169749  134.579463   88.161900   \n",
       "2017-03-31   91.133576        14.331853    88.382655  136.411789   90.769270   \n",
       "2017-04-30   95.949426        23.533496   105.005189  145.420388   99.274632   \n",
       "2017-05-31  117.134433        32.269069   120.422014  173.633264  118.980013   \n",
       "2017-06-30  105.371981        27.845285   100.129527  150.904970  100.915727   \n",
       "2017-07-31  143.003309        31.179707   131.678026  200.929510  135.698788   \n",
       "2017-08-31  109.064773        24.886261   113.560487  160.700794  108.221885   \n",
       "2017-09-30   95.185828        23.541465    98.586100  141.684487   96.162220   \n",
       "2017-10-31  122.292647        32.116584   118.763303  180.069532  121.289152   \n",
       "2017-11-30  100.989490        29.133868    95.001910  153.502617  102.664775   \n",
       "2017-12-31  124.030316        39.413458   128.712720  195.996936  130.030586   \n",
       "2018-01-31  115.966053        61.773689   108.909713  183.285677  138.509168   \n",
       "2018-02-28  100.299501        56.347790    93.163322  156.086929  113.687462   \n",
       "2018-03-31  105.393173        46.839778    96.720266  162.441498  118.848708   \n",
       "2018-04-30  127.276296        65.934090   121.344385  201.937161  150.533944   \n",
       "2018-05-31  103.464863        57.435494    98.930049  163.231802  120.194404   \n",
       "2018-06-30  114.951336        55.359308   101.589971  173.978408  126.703013   \n",
       "2018-07-31  157.175450        67.515317   136.754165  234.414423  174.693118   \n",
       "2018-08-31  120.368574        53.889059   117.010408  189.466471  140.746229   \n",
       "2018-09-30  107.173299        61.285614   100.423980  169.435111  125.341895   \n",
       "2018-10-31  133.964118        86.741254   126.050146  207.634947  155.562850   \n",
       "2018-11-30  109.051856        75.040916   102.162861  176.170802  128.420302   \n",
       "2018-12-31  135.181729        86.169156   134.081984  221.805335  165.944113   \n",
       "2019-01-31   85.922934        31.117912    69.384096  136.139766  112.939919   \n",
       "2019-02-28   86.721900        35.105643    69.636386  135.809707  111.054148   \n",
       "2019-03-31   89.945560        32.702891    72.574860  138.188196  115.411912   \n",
       "2019-04-30  115.351953        39.013555    95.601601  180.844863  148.106916   \n",
       "2019-05-31   89.573311        34.134428    75.563226  141.962447  118.507641   \n",
       "2019-06-30   99.036178        33.317026    77.510408  149.577905  123.480560   \n",
       "2019-07-31  132.477102        45.505548   101.992466  197.446403  175.380853   \n",
       "2019-08-31  107.497371        37.195192    90.681980  168.799351  141.872959   \n",
       "2019-09-30  119.194274        43.154603    99.434921  187.250641  156.694146   \n",
       "2019-10-31   92.417099        33.300542    76.274683  143.401465  121.726680   \n",
       "\n",
       "                Madrid      Murcia     Navarra  Pais_Vasco  \n",
       "2017-01-31  231.556393   85.553407  127.289987  154.556629  \n",
       "2017-02-28  188.272838   70.405657  103.707490  124.391502  \n",
       "2017-03-31  185.438750   71.319275  104.657818  124.293277  \n",
       "2017-04-30  180.789538   78.024315  107.167609  118.263906  \n",
       "2017-05-31  234.452148   92.877719  135.301175  155.097004  \n",
       "2017-06-30  197.035933   85.585589  113.270817  125.822888  \n",
       "2017-07-31  216.522149  126.811230  141.506933  148.695081  \n",
       "2017-08-31  158.750824   97.352944  111.127277  114.371048  \n",
       "2017-09-30  188.236755   79.309547  107.031325  122.097733  \n",
       "2017-10-31  248.135663   95.985095  137.394403  160.199360  \n",
       "2017-11-30  208.137341   77.500404  115.465824  140.234823  \n",
       "2017-12-31  251.189075   95.040768  141.361685  171.845393  \n",
       "2018-01-31  278.382449   80.873765  127.542633  154.297268  \n",
       "2018-02-28  233.525550   68.659753  107.067554  127.456106  \n",
       "2018-03-31  221.992882   70.862110  107.292095  123.797504  \n",
       "2018-04-30  295.707834   90.619798  136.438505  157.648993  \n",
       "2018-05-31  239.333396   73.058278  111.548981  128.813549  \n",
       "2018-06-30  244.997667   80.909787  114.375871  128.584824  \n",
       "2018-07-31  278.754108  118.596765  145.319298  156.009386  \n",
       "2018-08-31  203.283325   92.558618  115.345620  118.803789  \n",
       "2018-09-30  240.793119   75.961299  113.089630  128.871394  \n",
       "2018-10-31  306.042481   91.280062  142.269139  162.447477  \n",
       "2018-11-30  256.266320   72.815091  118.675550  139.804381  \n",
       "2018-12-31  310.187121   89.578329  143.700896  169.527175  \n",
       "2019-01-31  191.815608   49.349898  103.285762  117.681891  \n",
       "2019-02-28  192.242951   48.680162  102.245149  114.133255  \n",
       "2019-03-31  195.753628   50.126377  104.893267  115.981160  \n",
       "2019-04-30  237.076002   64.873395  131.696058  141.250947  \n",
       "2019-05-31  193.771773   52.195032  107.215936  117.086344  \n",
       "2019-06-30  204.067814   56.039702  107.771416  118.411608  \n",
       "2019-07-31  241.941082   84.590225  139.952951  145.372796  \n",
       "2019-08-31  163.207511   72.246167  109.583788  105.709766  \n",
       "2019-09-30  239.237930   71.787643  136.377412  143.800031  \n",
       "2019-10-31  199.790774   54.529948  107.274590  115.409878  "
      ]
     },
     "execution_count": 1099,
     "metadata": {},
     "output_type": "execute_result"
    }
   ],
   "source": [
    "df_aux"
   ]
  },
  {
   "cell_type": "code",
   "execution_count": null,
   "metadata": {},
   "outputs": [],
   "source": []
  }
 ],
 "metadata": {
  "interpreter": {
   "hash": "40d3a090f54c6569ab1632332b64b2c03c39dcf918b08424e98f38b5ae0af88f"
  },
  "kernelspec": {
   "display_name": "Python 3.9.7 ('base')",
   "language": "python",
   "name": "python3"
  },
  "language_info": {
   "codemirror_mode": {
    "name": "ipython",
    "version": 3
   },
   "file_extension": ".py",
   "mimetype": "text/x-python",
   "name": "python",
   "nbconvert_exporter": "python",
   "pygments_lexer": "ipython3",
   "version": "3.9.7"
  },
  "orig_nbformat": 4
 },
 "nbformat": 4,
 "nbformat_minor": 2
}
