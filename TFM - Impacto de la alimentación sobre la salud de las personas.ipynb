{
 "cells": [
  {
   "cell_type": "markdown",
   "metadata": {},
   "source": [
    "![Nuclio logo](https://nuclio.school/wp-content/uploads/2018/12/nucleoDS-newBlack.png)"
   ]
  },
  {
   "cell_type": "markdown",
   "metadata": {},
   "source": [
    "# TFM - Impacto de la alimentación sobre la salud de las personas\n",
    "\n",
    "## Tabla de Contenidos\n",
    "\n",
    "* [A. Introduccion](#introduction)\n",
    "* [B. Importar Librerias](#libraries)\n",
    "* [C. Importar datos](#data)"
   ]
  },
  {
   "cell_type": "markdown",
   "metadata": {},
   "source": [
    "## A. Introducción <a class=\"anchor\" id=\"introduction\"></a>"
   ]
  },
  {
   "cell_type": "markdown",
   "metadata": {},
   "source": [
    "## B. Importar Librerías<a class=\"anchor\" id=\"libraries\"></a>"
   ]
  },
  {
   "cell_type": "code",
   "execution_count": 345,
   "metadata": {},
   "outputs": [],
   "source": [
    "import os\n",
    "import sys\n",
    "import numpy as np\n",
    "import pandas as pd\n",
    "from datetime import datetime\n",
    "\n",
    "from matplotlib import pyplot as plt\n",
    "import plotly.express as px\n",
    "\n",
    "\n",
    "import seaborn as sns\n",
    "from sklearn import preprocessing\n",
    "\n",
    "import pickle\n"
   ]
  },
  {
   "cell_type": "markdown",
   "metadata": {},
   "source": [
    "## C. Importar datos<a class=\"anchor\" id=\"data\"></a>"
   ]
  },
  {
   "cell_type": "markdown",
   "metadata": {},
   "source": [
    "### Datos consumos por CCAA"
   ]
  },
  {
   "cell_type": "code",
   "execution_count": 317,
   "metadata": {},
   "outputs": [],
   "source": [
    "PATH_COMUNIDADES = 'data/comunidades/'"
   ]
  },
  {
   "cell_type": "code",
   "execution_count": 318,
   "metadata": {},
   "outputs": [],
   "source": [
    "# Leemos los nombres de los ficheros\n",
    "paths_comunidades = [path for path in os.listdir(PATH_COMUNIDADES) if path.endswith('.xlsx')]\n",
    "\n",
    "# Creamos una lista para ir añadiendo los dataframes leidos\n",
    "dfs = list()\n",
    "\n",
    "for path_comunidad in paths_comunidades:\n",
    "    # Extraemos el nombre de la comunidad\n",
    "    nombre_comunidad = os.path.splitext(path_comunidad)[0]\n",
    "\n",
    "    # Leemos el fichero, reseteamos el index y le cambiamos el nombre de la columna a ID\n",
    "    fichero = pd.read_excel('./data/comunidades/'+path_comunidad).reset_index(drop=True).rename(columns={'Unnamed: 0': 'ID'})\n",
    "\n",
    "    # Descartamos las filas donde el la columna BIO no es nula y asignamos el nombre de la comunidad a una nueva columna.\n",
    "    fichero_sin_bio = fichero[fichero['SEGMENTO BIO'].isna()].reset_index(drop=True).assign(COMUNIDAD=nombre_comunidad)\n",
    "\n",
    "    # Añadimos el fichero leido a nuestra lista de dataframes\n",
    "    dfs.append(fichero_sin_bio)\n",
    "\n",
    "# Montamos el dataframe final\n",
    "df_comunidades = pd.concat(dfs, ignore_index=True)\n",
    "\n",
    "# Eliminamos la columna SEGMENTO BIO\n",
    "df_comunidades.drop('SEGMENTO BIO', axis=1, inplace=True)\n",
    "\n",
    "# Cambiamos el orden de la columna COMUNIDAD\n",
    "cols = df_comunidades.columns.tolist()\n",
    "cols = cols[:5] + cols[-1:] + cols[5:-1]\n",
    "df_comunidades = df_comunidades[cols]"
   ]
  },
  {
   "cell_type": "code",
   "execution_count": 319,
   "metadata": {},
   "outputs": [
    {
     "data": {
      "text/html": [
       "<div>\n",
       "<style scoped>\n",
       "    .dataframe tbody tr th:only-of-type {\n",
       "        vertical-align: middle;\n",
       "    }\n",
       "\n",
       "    .dataframe tbody tr th {\n",
       "        vertical-align: top;\n",
       "    }\n",
       "\n",
       "    .dataframe thead th {\n",
       "        text-align: right;\n",
       "    }\n",
       "</style>\n",
       "<table border=\"1\" class=\"dataframe\">\n",
       "  <thead>\n",
       "    <tr style=\"text-align: right;\">\n",
       "      <th></th>\n",
       "      <th>ID</th>\n",
       "      <th>SECTOR</th>\n",
       "      <th>SECCION</th>\n",
       "      <th>CATEGORIA</th>\n",
       "      <th>FAMILIA</th>\n",
       "      <th>COMUNIDAD</th>\n",
       "      <th>SEMANA 40-16</th>\n",
       "      <th>SEMANA 41-16</th>\n",
       "      <th>SEMANA 42-16</th>\n",
       "      <th>SEMANA 43-16</th>\n",
       "      <th>...</th>\n",
       "      <th>SEMANA 34-19</th>\n",
       "      <th>SEMANA 35-19</th>\n",
       "      <th>SEMANA 36-19</th>\n",
       "      <th>SEMANA 37-19</th>\n",
       "      <th>SEMANA 38-19</th>\n",
       "      <th>SEMANA 39-19</th>\n",
       "      <th>SEMANA 40-19</th>\n",
       "      <th>SEMANA 41-19</th>\n",
       "      <th>SEMANA 42-19</th>\n",
       "      <th>SEMANA 43-19</th>\n",
       "    </tr>\n",
       "  </thead>\n",
       "  <tbody>\n",
       "    <tr>\n",
       "      <th>0</th>\n",
       "      <td>TOTAL PGC</td>\n",
       "      <td>NaN</td>\n",
       "      <td>NaN</td>\n",
       "      <td>NaN</td>\n",
       "      <td>NaN</td>\n",
       "      <td>Ceuta_y_Melilla</td>\n",
       "      <td>0.0</td>\n",
       "      <td>0.0</td>\n",
       "      <td>0.0</td>\n",
       "      <td>0.0</td>\n",
       "      <td>...</td>\n",
       "      <td>2652.71</td>\n",
       "      <td>2853.52</td>\n",
       "      <td>2699.68</td>\n",
       "      <td>2703.08</td>\n",
       "      <td>2484.19</td>\n",
       "      <td>2853.67</td>\n",
       "      <td>2844.06</td>\n",
       "      <td>2412.15</td>\n",
       "      <td>2559.18</td>\n",
       "      <td>2647.53</td>\n",
       "    </tr>\n",
       "    <tr>\n",
       "      <th>1</th>\n",
       "      <td>ALIM. Y BEBIDAS</td>\n",
       "      <td>ALIM. Y BEBIDAS</td>\n",
       "      <td>NaN</td>\n",
       "      <td>NaN</td>\n",
       "      <td>NaN</td>\n",
       "      <td>Ceuta_y_Melilla</td>\n",
       "      <td>0.0</td>\n",
       "      <td>0.0</td>\n",
       "      <td>0.0</td>\n",
       "      <td>0.0</td>\n",
       "      <td>...</td>\n",
       "      <td>1328.36</td>\n",
       "      <td>1421.87</td>\n",
       "      <td>1364.16</td>\n",
       "      <td>1405.32</td>\n",
       "      <td>1269.16</td>\n",
       "      <td>1457.10</td>\n",
       "      <td>1477.37</td>\n",
       "      <td>1288.87</td>\n",
       "      <td>1375.99</td>\n",
       "      <td>1442.49</td>\n",
       "    </tr>\n",
       "    <tr>\n",
       "      <th>2</th>\n",
       "      <td>ALIM.SECA</td>\n",
       "      <td>ALIM. Y BEBIDAS</td>\n",
       "      <td>ALIM.SECA</td>\n",
       "      <td>NaN</td>\n",
       "      <td>NaN</td>\n",
       "      <td>Ceuta_y_Melilla</td>\n",
       "      <td>0.0</td>\n",
       "      <td>0.0</td>\n",
       "      <td>0.0</td>\n",
       "      <td>0.0</td>\n",
       "      <td>...</td>\n",
       "      <td>704.00</td>\n",
       "      <td>782.74</td>\n",
       "      <td>760.74</td>\n",
       "      <td>791.09</td>\n",
       "      <td>717.49</td>\n",
       "      <td>829.03</td>\n",
       "      <td>829.07</td>\n",
       "      <td>739.01</td>\n",
       "      <td>813.17</td>\n",
       "      <td>891.25</td>\n",
       "    </tr>\n",
       "    <tr>\n",
       "      <th>3</th>\n",
       "      <td>ACEITE</td>\n",
       "      <td>ALIM. Y BEBIDAS</td>\n",
       "      <td>ALIM.SECA</td>\n",
       "      <td>ACEITE</td>\n",
       "      <td>NaN</td>\n",
       "      <td>Ceuta_y_Melilla</td>\n",
       "      <td>0.0</td>\n",
       "      <td>0.0</td>\n",
       "      <td>0.0</td>\n",
       "      <td>0.0</td>\n",
       "      <td>...</td>\n",
       "      <td>60.80</td>\n",
       "      <td>72.97</td>\n",
       "      <td>67.83</td>\n",
       "      <td>71.55</td>\n",
       "      <td>62.32</td>\n",
       "      <td>73.07</td>\n",
       "      <td>76.68</td>\n",
       "      <td>61.45</td>\n",
       "      <td>60.28</td>\n",
       "      <td>63.69</td>\n",
       "    </tr>\n",
       "    <tr>\n",
       "      <th>4</th>\n",
       "      <td>GIRASOL..</td>\n",
       "      <td>ALIM. Y BEBIDAS</td>\n",
       "      <td>ALIM.SECA</td>\n",
       "      <td>ACEITE</td>\n",
       "      <td>GIRASOL..</td>\n",
       "      <td>Ceuta_y_Melilla</td>\n",
       "      <td>0.0</td>\n",
       "      <td>0.0</td>\n",
       "      <td>0.0</td>\n",
       "      <td>0.0</td>\n",
       "      <td>...</td>\n",
       "      <td>18.18</td>\n",
       "      <td>20.78</td>\n",
       "      <td>20.41</td>\n",
       "      <td>20.16</td>\n",
       "      <td>18.68</td>\n",
       "      <td>21.06</td>\n",
       "      <td>22.47</td>\n",
       "      <td>16.94</td>\n",
       "      <td>17.49</td>\n",
       "      <td>19.44</td>\n",
       "    </tr>\n",
       "    <tr>\n",
       "      <th>5</th>\n",
       "      <td>OLIVA</td>\n",
       "      <td>ALIM. Y BEBIDAS</td>\n",
       "      <td>ALIM.SECA</td>\n",
       "      <td>ACEITE</td>\n",
       "      <td>OLIVA</td>\n",
       "      <td>Ceuta_y_Melilla</td>\n",
       "      <td>0.0</td>\n",
       "      <td>0.0</td>\n",
       "      <td>0.0</td>\n",
       "      <td>0.0</td>\n",
       "      <td>...</td>\n",
       "      <td>39.07</td>\n",
       "      <td>48.58</td>\n",
       "      <td>44.35</td>\n",
       "      <td>47.56</td>\n",
       "      <td>40.15</td>\n",
       "      <td>47.73</td>\n",
       "      <td>50.83</td>\n",
       "      <td>41.63</td>\n",
       "      <td>39.63</td>\n",
       "      <td>41.40</td>\n",
       "    </tr>\n",
       "    <tr>\n",
       "      <th>6</th>\n",
       "      <td>RESTO ACEITES</td>\n",
       "      <td>ALIM. Y BEBIDAS</td>\n",
       "      <td>ALIM.SECA</td>\n",
       "      <td>ACEITE</td>\n",
       "      <td>RESTO ACEITES</td>\n",
       "      <td>Ceuta_y_Melilla</td>\n",
       "      <td>0.0</td>\n",
       "      <td>0.0</td>\n",
       "      <td>0.0</td>\n",
       "      <td>0.0</td>\n",
       "      <td>...</td>\n",
       "      <td>3.54</td>\n",
       "      <td>3.61</td>\n",
       "      <td>3.06</td>\n",
       "      <td>3.84</td>\n",
       "      <td>3.49</td>\n",
       "      <td>4.29</td>\n",
       "      <td>3.39</td>\n",
       "      <td>2.88</td>\n",
       "      <td>3.17</td>\n",
       "      <td>2.85</td>\n",
       "    </tr>\n",
       "    <tr>\n",
       "      <th>7</th>\n",
       "      <td>ADITIVOS COCINA</td>\n",
       "      <td>ALIM. Y BEBIDAS</td>\n",
       "      <td>ALIM.SECA</td>\n",
       "      <td>ADITIVOS COCINA</td>\n",
       "      <td>NaN</td>\n",
       "      <td>Ceuta_y_Melilla</td>\n",
       "      <td>0.0</td>\n",
       "      <td>0.0</td>\n",
       "      <td>0.0</td>\n",
       "      <td>0.0</td>\n",
       "      <td>...</td>\n",
       "      <td>13.87</td>\n",
       "      <td>15.52</td>\n",
       "      <td>14.98</td>\n",
       "      <td>16.48</td>\n",
       "      <td>15.77</td>\n",
       "      <td>16.12</td>\n",
       "      <td>16.09</td>\n",
       "      <td>14.38</td>\n",
       "      <td>14.43</td>\n",
       "      <td>17.00</td>\n",
       "    </tr>\n",
       "    <tr>\n",
       "      <th>8</th>\n",
       "      <td>ADEREZOS</td>\n",
       "      <td>ALIM. Y BEBIDAS</td>\n",
       "      <td>ALIM.SECA</td>\n",
       "      <td>ADITIVOS COCINA</td>\n",
       "      <td>ADEREZOS</td>\n",
       "      <td>Ceuta_y_Melilla</td>\n",
       "      <td>0.0</td>\n",
       "      <td>0.0</td>\n",
       "      <td>0.0</td>\n",
       "      <td>0.0</td>\n",
       "      <td>...</td>\n",
       "      <td>0.28</td>\n",
       "      <td>0.25</td>\n",
       "      <td>0.25</td>\n",
       "      <td>0.27</td>\n",
       "      <td>0.22</td>\n",
       "      <td>0.31</td>\n",
       "      <td>0.24</td>\n",
       "      <td>0.19</td>\n",
       "      <td>0.18</td>\n",
       "      <td>0.21</td>\n",
       "    </tr>\n",
       "    <tr>\n",
       "      <th>9</th>\n",
       "      <td>ESPECIAS</td>\n",
       "      <td>ALIM. Y BEBIDAS</td>\n",
       "      <td>ALIM.SECA</td>\n",
       "      <td>ADITIVOS COCINA</td>\n",
       "      <td>ESPECIAS</td>\n",
       "      <td>Ceuta_y_Melilla</td>\n",
       "      <td>0.0</td>\n",
       "      <td>0.0</td>\n",
       "      <td>0.0</td>\n",
       "      <td>0.0</td>\n",
       "      <td>...</td>\n",
       "      <td>5.53</td>\n",
       "      <td>6.47</td>\n",
       "      <td>6.14</td>\n",
       "      <td>6.45</td>\n",
       "      <td>6.15</td>\n",
       "      <td>6.57</td>\n",
       "      <td>6.62</td>\n",
       "      <td>6.22</td>\n",
       "      <td>6.01</td>\n",
       "      <td>8.11</td>\n",
       "    </tr>\n",
       "    <tr>\n",
       "      <th>10</th>\n",
       "      <td>HARINAS/SEMOLAS Y TAPIOCAS</td>\n",
       "      <td>ALIM. Y BEBIDAS</td>\n",
       "      <td>ALIM.SECA</td>\n",
       "      <td>ADITIVOS COCINA</td>\n",
       "      <td>HARINAS/SEMOLAS Y TAPIOCAS</td>\n",
       "      <td>Ceuta_y_Melilla</td>\n",
       "      <td>0.0</td>\n",
       "      <td>0.0</td>\n",
       "      <td>0.0</td>\n",
       "      <td>0.0</td>\n",
       "      <td>...</td>\n",
       "      <td>4.05</td>\n",
       "      <td>4.82</td>\n",
       "      <td>4.65</td>\n",
       "      <td>5.93</td>\n",
       "      <td>5.72</td>\n",
       "      <td>5.04</td>\n",
       "      <td>5.13</td>\n",
       "      <td>4.42</td>\n",
       "      <td>4.78</td>\n",
       "      <td>5.28</td>\n",
       "    </tr>\n",
       "    <tr>\n",
       "      <th>11</th>\n",
       "      <td>POTENCIADORES DE SABOR</td>\n",
       "      <td>ALIM. Y BEBIDAS</td>\n",
       "      <td>ALIM.SECA</td>\n",
       "      <td>ADITIVOS COCINA</td>\n",
       "      <td>POTENCIADORES DE SABOR</td>\n",
       "      <td>Ceuta_y_Melilla</td>\n",
       "      <td>0.0</td>\n",
       "      <td>0.0</td>\n",
       "      <td>0.0</td>\n",
       "      <td>0.0</td>\n",
       "      <td>...</td>\n",
       "      <td>0.12</td>\n",
       "      <td>0.16</td>\n",
       "      <td>0.18</td>\n",
       "      <td>0.13</td>\n",
       "      <td>0.15</td>\n",
       "      <td>0.16</td>\n",
       "      <td>0.21</td>\n",
       "      <td>0.14</td>\n",
       "      <td>0.13</td>\n",
       "      <td>0.14</td>\n",
       "    </tr>\n",
       "    <tr>\n",
       "      <th>12</th>\n",
       "      <td>SAL</td>\n",
       "      <td>ALIM. Y BEBIDAS</td>\n",
       "      <td>ALIM.SECA</td>\n",
       "      <td>ADITIVOS COCINA</td>\n",
       "      <td>SAL</td>\n",
       "      <td>Ceuta_y_Melilla</td>\n",
       "      <td>0.0</td>\n",
       "      <td>0.0</td>\n",
       "      <td>0.0</td>\n",
       "      <td>0.0</td>\n",
       "      <td>...</td>\n",
       "      <td>1.77</td>\n",
       "      <td>1.76</td>\n",
       "      <td>1.76</td>\n",
       "      <td>1.59</td>\n",
       "      <td>1.63</td>\n",
       "      <td>1.97</td>\n",
       "      <td>1.91</td>\n",
       "      <td>1.54</td>\n",
       "      <td>1.64</td>\n",
       "      <td>1.64</td>\n",
       "    </tr>\n",
       "    <tr>\n",
       "      <th>13</th>\n",
       "      <td>VINAGRE</td>\n",
       "      <td>ALIM. Y BEBIDAS</td>\n",
       "      <td>ALIM.SECA</td>\n",
       "      <td>ADITIVOS COCINA</td>\n",
       "      <td>VINAGRE</td>\n",
       "      <td>Ceuta_y_Melilla</td>\n",
       "      <td>0.0</td>\n",
       "      <td>0.0</td>\n",
       "      <td>0.0</td>\n",
       "      <td>0.0</td>\n",
       "      <td>...</td>\n",
       "      <td>2.13</td>\n",
       "      <td>2.06</td>\n",
       "      <td>1.99</td>\n",
       "      <td>2.10</td>\n",
       "      <td>1.91</td>\n",
       "      <td>2.07</td>\n",
       "      <td>1.97</td>\n",
       "      <td>1.87</td>\n",
       "      <td>1.69</td>\n",
       "      <td>1.62</td>\n",
       "    </tr>\n",
       "    <tr>\n",
       "      <th>14</th>\n",
       "      <td>ALIMENTOS INFANTILES</td>\n",
       "      <td>ALIM. Y BEBIDAS</td>\n",
       "      <td>ALIM.SECA</td>\n",
       "      <td>ALIMENTOS INFANTILES</td>\n",
       "      <td>NaN</td>\n",
       "      <td>Ceuta_y_Melilla</td>\n",
       "      <td>0.0</td>\n",
       "      <td>0.0</td>\n",
       "      <td>0.0</td>\n",
       "      <td>0.0</td>\n",
       "      <td>...</td>\n",
       "      <td>24.46</td>\n",
       "      <td>23.95</td>\n",
       "      <td>24.94</td>\n",
       "      <td>23.72</td>\n",
       "      <td>21.15</td>\n",
       "      <td>22.69</td>\n",
       "      <td>22.92</td>\n",
       "      <td>19.89</td>\n",
       "      <td>20.91</td>\n",
       "      <td>19.51</td>\n",
       "    </tr>\n",
       "    <tr>\n",
       "      <th>15</th>\n",
       "      <td>LECHE INFANTIL</td>\n",
       "      <td>ALIM. Y BEBIDAS</td>\n",
       "      <td>ALIM.SECA</td>\n",
       "      <td>ALIMENTOS INFANTILES</td>\n",
       "      <td>LECHE INFANTIL</td>\n",
       "      <td>Ceuta_y_Melilla</td>\n",
       "      <td>0.0</td>\n",
       "      <td>0.0</td>\n",
       "      <td>0.0</td>\n",
       "      <td>0.0</td>\n",
       "      <td>...</td>\n",
       "      <td>10.73</td>\n",
       "      <td>9.71</td>\n",
       "      <td>10.65</td>\n",
       "      <td>10.65</td>\n",
       "      <td>9.62</td>\n",
       "      <td>9.48</td>\n",
       "      <td>9.75</td>\n",
       "      <td>8.46</td>\n",
       "      <td>9.58</td>\n",
       "      <td>8.76</td>\n",
       "    </tr>\n",
       "    <tr>\n",
       "      <th>16</th>\n",
       "      <td>PAPILLAS</td>\n",
       "      <td>ALIM. Y BEBIDAS</td>\n",
       "      <td>ALIM.SECA</td>\n",
       "      <td>ALIMENTOS INFANTILES</td>\n",
       "      <td>PAPILLAS</td>\n",
       "      <td>Ceuta_y_Melilla</td>\n",
       "      <td>0.0</td>\n",
       "      <td>0.0</td>\n",
       "      <td>0.0</td>\n",
       "      <td>0.0</td>\n",
       "      <td>...</td>\n",
       "      <td>3.35</td>\n",
       "      <td>3.74</td>\n",
       "      <td>4.18</td>\n",
       "      <td>3.67</td>\n",
       "      <td>3.28</td>\n",
       "      <td>3.50</td>\n",
       "      <td>3.29</td>\n",
       "      <td>3.12</td>\n",
       "      <td>2.98</td>\n",
       "      <td>2.64</td>\n",
       "    </tr>\n",
       "    <tr>\n",
       "      <th>17</th>\n",
       "      <td>PLATOS INFANTILES</td>\n",
       "      <td>ALIM. Y BEBIDAS</td>\n",
       "      <td>ALIM.SECA</td>\n",
       "      <td>ALIMENTOS INFANTILES</td>\n",
       "      <td>PLATOS INFANTILES</td>\n",
       "      <td>Ceuta_y_Melilla</td>\n",
       "      <td>0.0</td>\n",
       "      <td>0.0</td>\n",
       "      <td>0.0</td>\n",
       "      <td>0.0</td>\n",
       "      <td>...</td>\n",
       "      <td>10.39</td>\n",
       "      <td>10.50</td>\n",
       "      <td>10.11</td>\n",
       "      <td>9.40</td>\n",
       "      <td>8.26</td>\n",
       "      <td>9.71</td>\n",
       "      <td>9.89</td>\n",
       "      <td>8.31</td>\n",
       "      <td>8.34</td>\n",
       "      <td>8.11</td>\n",
       "    </tr>\n",
       "    <tr>\n",
       "      <th>18</th>\n",
       "      <td>ALIMENTOS MASCOTAS</td>\n",
       "      <td>ALIM. Y BEBIDAS</td>\n",
       "      <td>ALIM.SECA</td>\n",
       "      <td>ALIMENTOS MASCOTAS</td>\n",
       "      <td>NaN</td>\n",
       "      <td>Ceuta_y_Melilla</td>\n",
       "      <td>0.0</td>\n",
       "      <td>0.0</td>\n",
       "      <td>0.0</td>\n",
       "      <td>0.0</td>\n",
       "      <td>...</td>\n",
       "      <td>29.62</td>\n",
       "      <td>35.18</td>\n",
       "      <td>34.13</td>\n",
       "      <td>41.25</td>\n",
       "      <td>31.88</td>\n",
       "      <td>35.50</td>\n",
       "      <td>34.67</td>\n",
       "      <td>33.26</td>\n",
       "      <td>31.25</td>\n",
       "      <td>33.77</td>\n",
       "    </tr>\n",
       "    <tr>\n",
       "      <th>19</th>\n",
       "      <td>CUIDADO ANIMALES</td>\n",
       "      <td>ALIM. Y BEBIDAS</td>\n",
       "      <td>ALIM.SECA</td>\n",
       "      <td>ALIMENTOS MASCOTAS</td>\n",
       "      <td>CUIDADO ANIMALES</td>\n",
       "      <td>Ceuta_y_Melilla</td>\n",
       "      <td>0.0</td>\n",
       "      <td>0.0</td>\n",
       "      <td>0.0</td>\n",
       "      <td>0.0</td>\n",
       "      <td>...</td>\n",
       "      <td>2.71</td>\n",
       "      <td>3.16</td>\n",
       "      <td>3.02</td>\n",
       "      <td>3.03</td>\n",
       "      <td>2.95</td>\n",
       "      <td>3.20</td>\n",
       "      <td>3.20</td>\n",
       "      <td>2.67</td>\n",
       "      <td>2.82</td>\n",
       "      <td>2.79</td>\n",
       "    </tr>\n",
       "  </tbody>\n",
       "</table>\n",
       "<p>20 rows × 166 columns</p>\n",
       "</div>"
      ],
      "text/plain": [
       "                            ID           SECTOR    SECCION  \\\n",
       "0                    TOTAL PGC              NaN        NaN   \n",
       "1              ALIM. Y BEBIDAS  ALIM. Y BEBIDAS        NaN   \n",
       "2                    ALIM.SECA  ALIM. Y BEBIDAS  ALIM.SECA   \n",
       "3                       ACEITE  ALIM. Y BEBIDAS  ALIM.SECA   \n",
       "4                    GIRASOL..  ALIM. Y BEBIDAS  ALIM.SECA   \n",
       "5                        OLIVA  ALIM. Y BEBIDAS  ALIM.SECA   \n",
       "6                RESTO ACEITES  ALIM. Y BEBIDAS  ALIM.SECA   \n",
       "7              ADITIVOS COCINA  ALIM. Y BEBIDAS  ALIM.SECA   \n",
       "8                     ADEREZOS  ALIM. Y BEBIDAS  ALIM.SECA   \n",
       "9                     ESPECIAS  ALIM. Y BEBIDAS  ALIM.SECA   \n",
       "10  HARINAS/SEMOLAS Y TAPIOCAS  ALIM. Y BEBIDAS  ALIM.SECA   \n",
       "11      POTENCIADORES DE SABOR  ALIM. Y BEBIDAS  ALIM.SECA   \n",
       "12                         SAL  ALIM. Y BEBIDAS  ALIM.SECA   \n",
       "13                     VINAGRE  ALIM. Y BEBIDAS  ALIM.SECA   \n",
       "14        ALIMENTOS INFANTILES  ALIM. Y BEBIDAS  ALIM.SECA   \n",
       "15              LECHE INFANTIL  ALIM. Y BEBIDAS  ALIM.SECA   \n",
       "16                    PAPILLAS  ALIM. Y BEBIDAS  ALIM.SECA   \n",
       "17           PLATOS INFANTILES  ALIM. Y BEBIDAS  ALIM.SECA   \n",
       "18          ALIMENTOS MASCOTAS  ALIM. Y BEBIDAS  ALIM.SECA   \n",
       "19            CUIDADO ANIMALES  ALIM. Y BEBIDAS  ALIM.SECA   \n",
       "\n",
       "               CATEGORIA                     FAMILIA        COMUNIDAD  \\\n",
       "0                    NaN                         NaN  Ceuta_y_Melilla   \n",
       "1                    NaN                         NaN  Ceuta_y_Melilla   \n",
       "2                    NaN                         NaN  Ceuta_y_Melilla   \n",
       "3                 ACEITE                         NaN  Ceuta_y_Melilla   \n",
       "4                 ACEITE                   GIRASOL..  Ceuta_y_Melilla   \n",
       "5                 ACEITE                       OLIVA  Ceuta_y_Melilla   \n",
       "6                 ACEITE               RESTO ACEITES  Ceuta_y_Melilla   \n",
       "7        ADITIVOS COCINA                         NaN  Ceuta_y_Melilla   \n",
       "8        ADITIVOS COCINA                    ADEREZOS  Ceuta_y_Melilla   \n",
       "9        ADITIVOS COCINA                    ESPECIAS  Ceuta_y_Melilla   \n",
       "10       ADITIVOS COCINA  HARINAS/SEMOLAS Y TAPIOCAS  Ceuta_y_Melilla   \n",
       "11       ADITIVOS COCINA      POTENCIADORES DE SABOR  Ceuta_y_Melilla   \n",
       "12       ADITIVOS COCINA                         SAL  Ceuta_y_Melilla   \n",
       "13       ADITIVOS COCINA                     VINAGRE  Ceuta_y_Melilla   \n",
       "14  ALIMENTOS INFANTILES                         NaN  Ceuta_y_Melilla   \n",
       "15  ALIMENTOS INFANTILES              LECHE INFANTIL  Ceuta_y_Melilla   \n",
       "16  ALIMENTOS INFANTILES                    PAPILLAS  Ceuta_y_Melilla   \n",
       "17  ALIMENTOS INFANTILES           PLATOS INFANTILES  Ceuta_y_Melilla   \n",
       "18    ALIMENTOS MASCOTAS                         NaN  Ceuta_y_Melilla   \n",
       "19    ALIMENTOS MASCOTAS            CUIDADO ANIMALES  Ceuta_y_Melilla   \n",
       "\n",
       "    SEMANA 40-16  SEMANA 41-16  SEMANA 42-16  SEMANA 43-16  ...  SEMANA 34-19  \\\n",
       "0            0.0           0.0           0.0           0.0  ...       2652.71   \n",
       "1            0.0           0.0           0.0           0.0  ...       1328.36   \n",
       "2            0.0           0.0           0.0           0.0  ...        704.00   \n",
       "3            0.0           0.0           0.0           0.0  ...         60.80   \n",
       "4            0.0           0.0           0.0           0.0  ...         18.18   \n",
       "5            0.0           0.0           0.0           0.0  ...         39.07   \n",
       "6            0.0           0.0           0.0           0.0  ...          3.54   \n",
       "7            0.0           0.0           0.0           0.0  ...         13.87   \n",
       "8            0.0           0.0           0.0           0.0  ...          0.28   \n",
       "9            0.0           0.0           0.0           0.0  ...          5.53   \n",
       "10           0.0           0.0           0.0           0.0  ...          4.05   \n",
       "11           0.0           0.0           0.0           0.0  ...          0.12   \n",
       "12           0.0           0.0           0.0           0.0  ...          1.77   \n",
       "13           0.0           0.0           0.0           0.0  ...          2.13   \n",
       "14           0.0           0.0           0.0           0.0  ...         24.46   \n",
       "15           0.0           0.0           0.0           0.0  ...         10.73   \n",
       "16           0.0           0.0           0.0           0.0  ...          3.35   \n",
       "17           0.0           0.0           0.0           0.0  ...         10.39   \n",
       "18           0.0           0.0           0.0           0.0  ...         29.62   \n",
       "19           0.0           0.0           0.0           0.0  ...          2.71   \n",
       "\n",
       "    SEMANA 35-19  SEMANA 36-19  SEMANA 37-19  SEMANA 38-19  SEMANA 39-19  \\\n",
       "0        2853.52       2699.68       2703.08       2484.19       2853.67   \n",
       "1        1421.87       1364.16       1405.32       1269.16       1457.10   \n",
       "2         782.74        760.74        791.09        717.49        829.03   \n",
       "3          72.97         67.83         71.55         62.32         73.07   \n",
       "4          20.78         20.41         20.16         18.68         21.06   \n",
       "5          48.58         44.35         47.56         40.15         47.73   \n",
       "6           3.61          3.06          3.84          3.49          4.29   \n",
       "7          15.52         14.98         16.48         15.77         16.12   \n",
       "8           0.25          0.25          0.27          0.22          0.31   \n",
       "9           6.47          6.14          6.45          6.15          6.57   \n",
       "10          4.82          4.65          5.93          5.72          5.04   \n",
       "11          0.16          0.18          0.13          0.15          0.16   \n",
       "12          1.76          1.76          1.59          1.63          1.97   \n",
       "13          2.06          1.99          2.10          1.91          2.07   \n",
       "14         23.95         24.94         23.72         21.15         22.69   \n",
       "15          9.71         10.65         10.65          9.62          9.48   \n",
       "16          3.74          4.18          3.67          3.28          3.50   \n",
       "17         10.50         10.11          9.40          8.26          9.71   \n",
       "18         35.18         34.13         41.25         31.88         35.50   \n",
       "19          3.16          3.02          3.03          2.95          3.20   \n",
       "\n",
       "    SEMANA 40-19  SEMANA 41-19  SEMANA 42-19  SEMANA 43-19  \n",
       "0        2844.06       2412.15       2559.18       2647.53  \n",
       "1        1477.37       1288.87       1375.99       1442.49  \n",
       "2         829.07        739.01        813.17        891.25  \n",
       "3          76.68         61.45         60.28         63.69  \n",
       "4          22.47         16.94         17.49         19.44  \n",
       "5          50.83         41.63         39.63         41.40  \n",
       "6           3.39          2.88          3.17          2.85  \n",
       "7          16.09         14.38         14.43         17.00  \n",
       "8           0.24          0.19          0.18          0.21  \n",
       "9           6.62          6.22          6.01          8.11  \n",
       "10          5.13          4.42          4.78          5.28  \n",
       "11          0.21          0.14          0.13          0.14  \n",
       "12          1.91          1.54          1.64          1.64  \n",
       "13          1.97          1.87          1.69          1.62  \n",
       "14         22.92         19.89         20.91         19.51  \n",
       "15          9.75          8.46          9.58          8.76  \n",
       "16          3.29          3.12          2.98          2.64  \n",
       "17          9.89          8.31          8.34          8.11  \n",
       "18         34.67         33.26         31.25         33.77  \n",
       "19          3.20          2.67          2.82          2.79  \n",
       "\n",
       "[20 rows x 166 columns]"
      ]
     },
     "execution_count": 319,
     "metadata": {},
     "output_type": "execute_result"
    }
   ],
   "source": [
    "df_comunidades.head(20)"
   ]
  },
  {
   "cell_type": "markdown",
   "metadata": {},
   "source": [
    "### Datos población por CCAA"
   ]
  },
  {
   "cell_type": "code",
   "execution_count": 329,
   "metadata": {},
   "outputs": [],
   "source": [
    "PATH_POBLACION = './data/poblacion/'"
   ]
  },
  {
   "cell_type": "code",
   "execution_count": 454,
   "metadata": {},
   "outputs": [],
   "source": [
    "df_poblacion = pd.read_excel(PATH_POBLACION+'poblacion_comunidades.xlsx', skiprows=1).set_index('CC.AA.')"
   ]
  },
  {
   "cell_type": "code",
   "execution_count": 455,
   "metadata": {},
   "outputs": [
    {
     "data": {
      "text/html": [
       "<div>\n",
       "<style scoped>\n",
       "    .dataframe tbody tr th:only-of-type {\n",
       "        vertical-align: middle;\n",
       "    }\n",
       "\n",
       "    .dataframe tbody tr th {\n",
       "        vertical-align: top;\n",
       "    }\n",
       "\n",
       "    .dataframe thead th {\n",
       "        text-align: right;\n",
       "    }\n",
       "</style>\n",
       "<table border=\"1\" class=\"dataframe\">\n",
       "  <thead>\n",
       "    <tr style=\"text-align: right;\">\n",
       "      <th></th>\n",
       "      <th>2016</th>\n",
       "      <th>2017</th>\n",
       "      <th>2018</th>\n",
       "      <th>2019</th>\n",
       "      <th>2020</th>\n",
       "    </tr>\n",
       "    <tr>\n",
       "      <th>CC.AA.</th>\n",
       "      <th></th>\n",
       "      <th></th>\n",
       "      <th></th>\n",
       "      <th></th>\n",
       "      <th></th>\n",
       "    </tr>\n",
       "  </thead>\n",
       "  <tbody>\n",
       "    <tr>\n",
       "      <th>Ceuta_y_Melilla</th>\n",
       "      <td>170545</td>\n",
       "      <td>171079</td>\n",
       "      <td>171528</td>\n",
       "      <td>171264</td>\n",
       "      <td>171278</td>\n",
       "    </tr>\n",
       "    <tr>\n",
       "      <th>La_Rioja</th>\n",
       "      <td>315794</td>\n",
       "      <td>315381</td>\n",
       "      <td>315675</td>\n",
       "      <td>316798</td>\n",
       "      <td>313914</td>\n",
       "    </tr>\n",
       "    <tr>\n",
       "      <th>Pais_Vasco</th>\n",
       "      <td>2189534</td>\n",
       "      <td>2194158</td>\n",
       "      <td>2199088</td>\n",
       "      <td>2207776</td>\n",
       "      <td>2220504</td>\n",
       "    </tr>\n",
       "    <tr>\n",
       "      <th>Navarra</th>\n",
       "      <td>640647</td>\n",
       "      <td>643234</td>\n",
       "      <td>647554</td>\n",
       "      <td>654214</td>\n",
       "      <td>661197</td>\n",
       "    </tr>\n",
       "    <tr>\n",
       "      <th>Murcia</th>\n",
       "      <td>1464847</td>\n",
       "      <td>1470273</td>\n",
       "      <td>1478509</td>\n",
       "      <td>1493898</td>\n",
       "      <td>1511251</td>\n",
       "    </tr>\n",
       "    <tr>\n",
       "      <th>Madrid</th>\n",
       "      <td>6466996</td>\n",
       "      <td>6507184</td>\n",
       "      <td>6578079</td>\n",
       "      <td>6663394</td>\n",
       "      <td>6779888</td>\n",
       "    </tr>\n",
       "    <tr>\n",
       "      <th>Galicia</th>\n",
       "      <td>2718525</td>\n",
       "      <td>2708339</td>\n",
       "      <td>2701743</td>\n",
       "      <td>2699499</td>\n",
       "      <td>2701819</td>\n",
       "    </tr>\n",
       "    <tr>\n",
       "      <th>Extremadura</th>\n",
       "      <td>1087778</td>\n",
       "      <td>1079920</td>\n",
       "      <td>1072863</td>\n",
       "      <td>1067710</td>\n",
       "      <td>1063987</td>\n",
       "    </tr>\n",
       "    <tr>\n",
       "      <th>C_Valenciana</th>\n",
       "      <td>4959968</td>\n",
       "      <td>4941509</td>\n",
       "      <td>4963703</td>\n",
       "      <td>5003769</td>\n",
       "      <td>5057353</td>\n",
       "    </tr>\n",
       "    <tr>\n",
       "      <th>Catalunya</th>\n",
       "      <td>7522596</td>\n",
       "      <td>7555830</td>\n",
       "      <td>7600065</td>\n",
       "      <td>7675217</td>\n",
       "      <td>7780479</td>\n",
       "    </tr>\n",
       "    <tr>\n",
       "      <th>Castilla_La_Mancha</th>\n",
       "      <td>2041631</td>\n",
       "      <td>2031479</td>\n",
       "      <td>2026807</td>\n",
       "      <td>2032863</td>\n",
       "      <td>2045221</td>\n",
       "    </tr>\n",
       "    <tr>\n",
       "      <th>Castilla_y_Leon</th>\n",
       "      <td>2447519</td>\n",
       "      <td>2425801</td>\n",
       "      <td>2409164</td>\n",
       "      <td>2399548</td>\n",
       "      <td>2394918</td>\n",
       "    </tr>\n",
       "    <tr>\n",
       "      <th>Cantabria</th>\n",
       "      <td>282988</td>\n",
       "      <td>580295</td>\n",
       "      <td>580229</td>\n",
       "      <td>581078</td>\n",
       "      <td>582905</td>\n",
       "    </tr>\n",
       "    <tr>\n",
       "      <th>Canarias</th>\n",
       "      <td>2101924</td>\n",
       "      <td>2108121</td>\n",
       "      <td>2127685</td>\n",
       "      <td>2153389</td>\n",
       "      <td>2175952</td>\n",
       "    </tr>\n",
       "    <tr>\n",
       "      <th>Baleares</th>\n",
       "      <td>1107220</td>\n",
       "      <td>1115999</td>\n",
       "      <td>1128908</td>\n",
       "      <td>1149460</td>\n",
       "      <td>1171543</td>\n",
       "    </tr>\n",
       "    <tr>\n",
       "      <th>Asturias</th>\n",
       "      <td>1042608</td>\n",
       "      <td>1034960</td>\n",
       "      <td>1028244</td>\n",
       "      <td>1022800</td>\n",
       "      <td>1018784</td>\n",
       "    </tr>\n",
       "    <tr>\n",
       "      <th>Aragon</th>\n",
       "      <td>1308563</td>\n",
       "      <td>1308750</td>\n",
       "      <td>1308728</td>\n",
       "      <td>1319291</td>\n",
       "      <td>1329391</td>\n",
       "    </tr>\n",
       "    <tr>\n",
       "      <th>Andalucia</th>\n",
       "      <td>8388107</td>\n",
       "      <td>8379820</td>\n",
       "      <td>8384408</td>\n",
       "      <td>8414240</td>\n",
       "      <td>8464411</td>\n",
       "    </tr>\n",
       "  </tbody>\n",
       "</table>\n",
       "</div>"
      ],
      "text/plain": [
       "                       2016     2017     2018     2019     2020\n",
       "CC.AA.                                                         \n",
       "Ceuta_y_Melilla      170545   171079   171528   171264   171278\n",
       "La_Rioja             315794   315381   315675   316798   313914\n",
       "Pais_Vasco          2189534  2194158  2199088  2207776  2220504\n",
       "Navarra              640647   643234   647554   654214   661197\n",
       "Murcia              1464847  1470273  1478509  1493898  1511251\n",
       "Madrid              6466996  6507184  6578079  6663394  6779888\n",
       "Galicia             2718525  2708339  2701743  2699499  2701819\n",
       "Extremadura         1087778  1079920  1072863  1067710  1063987\n",
       "C_Valenciana        4959968  4941509  4963703  5003769  5057353\n",
       "Catalunya           7522596  7555830  7600065  7675217  7780479\n",
       "Castilla_La_Mancha  2041631  2031479  2026807  2032863  2045221\n",
       "Castilla_y_Leon     2447519  2425801  2409164  2399548  2394918\n",
       "Cantabria            282988   580295   580229   581078   582905\n",
       "Canarias            2101924  2108121  2127685  2153389  2175952\n",
       "Baleares            1107220  1115999  1128908  1149460  1171543\n",
       "Asturias            1042608  1034960  1028244  1022800  1018784\n",
       "Aragon              1308563  1308750  1308728  1319291  1329391\n",
       "Andalucia           8388107  8379820  8384408  8414240  8464411"
      ]
     },
     "execution_count": 455,
     "metadata": {},
     "output_type": "execute_result"
    }
   ],
   "source": [
    "df_poblacion"
   ]
  },
  {
   "cell_type": "markdown",
   "metadata": {},
   "source": [
    "### Datos diabetes por CCAA"
   ]
  },
  {
   "cell_type": "code",
   "execution_count": 326,
   "metadata": {},
   "outputs": [],
   "source": [
    "PATH_ENFERMEDADES = './data/enfermedades/'"
   ]
  },
  {
   "cell_type": "code",
   "execution_count": 327,
   "metadata": {},
   "outputs": [],
   "source": [
    "df_diabetes = pd.read_excel(PATH_ENFERMEDADES + 'diabetes.xlsx', skiprows=1)"
   ]
  },
  {
   "cell_type": "code",
   "execution_count": 328,
   "metadata": {},
   "outputs": [
    {
     "data": {
      "text/html": [
       "<div>\n",
       "<style scoped>\n",
       "    .dataframe tbody tr th:only-of-type {\n",
       "        vertical-align: middle;\n",
       "    }\n",
       "\n",
       "    .dataframe tbody tr th {\n",
       "        vertical-align: top;\n",
       "    }\n",
       "\n",
       "    .dataframe thead th {\n",
       "        text-align: right;\n",
       "    }\n",
       "</style>\n",
       "<table border=\"1\" class=\"dataframe\">\n",
       "  <thead>\n",
       "    <tr style=\"text-align: right;\">\n",
       "      <th></th>\n",
       "      <th>CC.AA.</th>\n",
       "      <th>2016</th>\n",
       "      <th>2017</th>\n",
       "      <th>2018</th>\n",
       "      <th>2019</th>\n",
       "      <th>2020</th>\n",
       "    </tr>\n",
       "  </thead>\n",
       "  <tbody>\n",
       "    <tr>\n",
       "      <th>0</th>\n",
       "      <td>Ceuta_y_Melilla</td>\n",
       "      <td>50.36</td>\n",
       "      <td>35.33</td>\n",
       "      <td>27.14</td>\n",
       "      <td>20.33</td>\n",
       "      <td>47.11</td>\n",
       "    </tr>\n",
       "    <tr>\n",
       "      <th>1</th>\n",
       "      <td>La_Rioja</td>\n",
       "      <td>15.88</td>\n",
       "      <td>15.51</td>\n",
       "      <td>19.18</td>\n",
       "      <td>15.20</td>\n",
       "      <td>15.82</td>\n",
       "    </tr>\n",
       "    <tr>\n",
       "      <th>2</th>\n",
       "      <td>Pais_Vasco</td>\n",
       "      <td>15.19</td>\n",
       "      <td>13.03</td>\n",
       "      <td>15.14</td>\n",
       "      <td>15.07</td>\n",
       "      <td>16.65</td>\n",
       "    </tr>\n",
       "    <tr>\n",
       "      <th>3</th>\n",
       "      <td>Navarra</td>\n",
       "      <td>20.41</td>\n",
       "      <td>20.21</td>\n",
       "      <td>16.13</td>\n",
       "      <td>15.77</td>\n",
       "      <td>16.34</td>\n",
       "    </tr>\n",
       "    <tr>\n",
       "      <th>4</th>\n",
       "      <td>Murcia</td>\n",
       "      <td>20.92</td>\n",
       "      <td>25.17</td>\n",
       "      <td>21.24</td>\n",
       "      <td>22.40</td>\n",
       "      <td>30.91</td>\n",
       "    </tr>\n",
       "    <tr>\n",
       "      <th>5</th>\n",
       "      <td>Madrid</td>\n",
       "      <td>10.90</td>\n",
       "      <td>10.49</td>\n",
       "      <td>10.23</td>\n",
       "      <td>8.28</td>\n",
       "      <td>10.03</td>\n",
       "    </tr>\n",
       "    <tr>\n",
       "      <th>6</th>\n",
       "      <td>Galicia</td>\n",
       "      <td>16.32</td>\n",
       "      <td>14.40</td>\n",
       "      <td>12.66</td>\n",
       "      <td>11.08</td>\n",
       "      <td>12.88</td>\n",
       "    </tr>\n",
       "    <tr>\n",
       "      <th>7</th>\n",
       "      <td>Extremadura</td>\n",
       "      <td>19.58</td>\n",
       "      <td>17.68</td>\n",
       "      <td>17.88</td>\n",
       "      <td>16.88</td>\n",
       "      <td>22.17</td>\n",
       "    </tr>\n",
       "    <tr>\n",
       "      <th>8</th>\n",
       "      <td>C_Valenciana</td>\n",
       "      <td>19.39</td>\n",
       "      <td>20.06</td>\n",
       "      <td>25.27</td>\n",
       "      <td>25.50</td>\n",
       "      <td>28.49</td>\n",
       "    </tr>\n",
       "    <tr>\n",
       "      <th>9</th>\n",
       "      <td>Catalunya</td>\n",
       "      <td>19.32</td>\n",
       "      <td>20.81</td>\n",
       "      <td>19.91</td>\n",
       "      <td>18.47</td>\n",
       "      <td>21.28</td>\n",
       "    </tr>\n",
       "    <tr>\n",
       "      <th>10</th>\n",
       "      <td>Castilla_La_Mancha</td>\n",
       "      <td>22.59</td>\n",
       "      <td>23.78</td>\n",
       "      <td>18.72</td>\n",
       "      <td>17.36</td>\n",
       "      <td>21.38</td>\n",
       "    </tr>\n",
       "    <tr>\n",
       "      <th>11</th>\n",
       "      <td>Castilla_y_Leon</td>\n",
       "      <td>20.69</td>\n",
       "      <td>18.90</td>\n",
       "      <td>19.46</td>\n",
       "      <td>19.52</td>\n",
       "      <td>25.20</td>\n",
       "    </tr>\n",
       "    <tr>\n",
       "      <th>12</th>\n",
       "      <td>Cantabria</td>\n",
       "      <td>5.65</td>\n",
       "      <td>9.64</td>\n",
       "      <td>13.06</td>\n",
       "      <td>14.83</td>\n",
       "      <td>18.95</td>\n",
       "    </tr>\n",
       "    <tr>\n",
       "      <th>13</th>\n",
       "      <td>Canarias</td>\n",
       "      <td>28.82</td>\n",
       "      <td>24.13</td>\n",
       "      <td>23.11</td>\n",
       "      <td>19.31</td>\n",
       "      <td>20.00</td>\n",
       "    </tr>\n",
       "    <tr>\n",
       "      <th>14</th>\n",
       "      <td>Baleares</td>\n",
       "      <td>25.55</td>\n",
       "      <td>28.97</td>\n",
       "      <td>24.07</td>\n",
       "      <td>24.66</td>\n",
       "      <td>22.35</td>\n",
       "    </tr>\n",
       "    <tr>\n",
       "      <th>15</th>\n",
       "      <td>Asturias</td>\n",
       "      <td>18.63</td>\n",
       "      <td>16.32</td>\n",
       "      <td>19.93</td>\n",
       "      <td>18.04</td>\n",
       "      <td>21.08</td>\n",
       "    </tr>\n",
       "    <tr>\n",
       "      <th>16</th>\n",
       "      <td>Aragon</td>\n",
       "      <td>14.16</td>\n",
       "      <td>23.98</td>\n",
       "      <td>20.84</td>\n",
       "      <td>21.21</td>\n",
       "      <td>20.91</td>\n",
       "    </tr>\n",
       "    <tr>\n",
       "      <th>17</th>\n",
       "      <td>Andalucia</td>\n",
       "      <td>19.88</td>\n",
       "      <td>21.62</td>\n",
       "      <td>20.95</td>\n",
       "      <td>20.82</td>\n",
       "      <td>23.66</td>\n",
       "    </tr>\n",
       "  </tbody>\n",
       "</table>\n",
       "</div>"
      ],
      "text/plain": [
       "                CC.AA.   2016   2017   2018   2019   2020\n",
       "0      Ceuta_y_Melilla  50.36  35.33  27.14  20.33  47.11\n",
       "1             La_Rioja  15.88  15.51  19.18  15.20  15.82\n",
       "2           Pais_Vasco  15.19  13.03  15.14  15.07  16.65\n",
       "3              Navarra  20.41  20.21  16.13  15.77  16.34\n",
       "4               Murcia  20.92  25.17  21.24  22.40  30.91\n",
       "5               Madrid  10.90  10.49  10.23   8.28  10.03\n",
       "6              Galicia  16.32  14.40  12.66  11.08  12.88\n",
       "7          Extremadura  19.58  17.68  17.88  16.88  22.17\n",
       "8         C_Valenciana  19.39  20.06  25.27  25.50  28.49\n",
       "9            Catalunya  19.32  20.81  19.91  18.47  21.28\n",
       "10  Castilla_La_Mancha  22.59  23.78  18.72  17.36  21.38\n",
       "11     Castilla_y_Leon  20.69  18.90  19.46  19.52  25.20\n",
       "12           Cantabria   5.65   9.64  13.06  14.83  18.95\n",
       "13            Canarias  28.82  24.13  23.11  19.31  20.00\n",
       "14            Baleares  25.55  28.97  24.07  24.66  22.35\n",
       "15            Asturias  18.63  16.32  19.93  18.04  21.08\n",
       "16              Aragon  14.16  23.98  20.84  21.21  20.91\n",
       "17           Andalucia  19.88  21.62  20.95  20.82  23.66"
      ]
     },
     "execution_count": 328,
     "metadata": {},
     "output_type": "execute_result"
    }
   ],
   "source": [
    "df_diabetes"
   ]
  },
  {
   "cell_type": "markdown",
   "metadata": {},
   "source": [
    "# 1. Análisis exploratorio"
   ]
  },
  {
   "cell_type": "markdown",
   "metadata": {},
   "source": [
    "## 1.1. Análisis datos consumo"
   ]
  },
  {
   "cell_type": "code",
   "execution_count": 234,
   "metadata": {},
   "outputs": [],
   "source": [
    "# Sacamos la lista de todos los valores de cada sector, sección, categoría y familia de alimentos\n",
    "lista_sectores = list(df_comunidades[~df_comunidades['SECTOR'].isna()]['SECTOR'].unique())\n",
    "lista_secciones = list(df_comunidades[~df_comunidades['SECCION'].isna()]['SECCION'].unique())\n",
    "lista_categorias = list(df_comunidades[~df_comunidades['CATEGORIA'].isna()]['CATEGORIA'].unique())\n",
    "lista_familias = list(df_comunidades[~df_comunidades['FAMILIA'].isna()]['FAMILIA'].unique())"
   ]
  },
  {
   "cell_type": "code",
   "execution_count": 229,
   "metadata": {},
   "outputs": [
    {
     "data": {
      "text/plain": [
       "(3, 11, 95, 414)"
      ]
     },
     "execution_count": 229,
     "metadata": {},
     "output_type": "execute_result"
    }
   ],
   "source": [
    "len(lista_sectores), len(lista_secciones), len(lista_categorias), len(lista_familias)"
   ]
  },
  {
   "cell_type": "code",
   "execution_count": 241,
   "metadata": {},
   "outputs": [
    {
     "data": {
      "text/plain": [
       "['ALIM. Y BEBIDAS', 'PROD.FRESCOS']"
      ]
     },
     "execution_count": 241,
     "metadata": {},
     "output_type": "execute_result"
    }
   ],
   "source": [
    "# Copiamos esta lista para modificarla\n",
    "lista_sectores_diabetes = lista_sectores.copy()\n",
    "\n",
    "# Eliminamos los sectores que no están relacionados con la diabetes\n",
    "lista_sectores_diabetes.remove('DROGUERIA Y PERFUMERIA')\n",
    "lista_sectores_diabetes"
   ]
  },
  {
   "cell_type": "code",
   "execution_count": 254,
   "metadata": {},
   "outputs": [
    {
     "data": {
      "text/plain": [
       "['ALIM.SECA', 'BEBIDAS', 'LECHE Y BATIDOS', 'CONGELADOS', 'DERV.LACTEOS']"
      ]
     },
     "execution_count": 254,
     "metadata": {},
     "output_type": "execute_result"
    }
   ],
   "source": [
    "# Secciones dentro de lista_sectores_diabetes\n",
    "lista_secciones_sectores_diabetes = list(df_comunidades.loc[df_comunidades['SECTOR'].isin(lista_sectores_diabetes), 'SECCION'].unique())[1:]\n",
    "\n",
    "# Copiamos la lista de los secciones de los sectores relacionados con la diabetes\n",
    "lista_secciones_diabetes = lista_secciones_sectores_diabetes.copy()\n",
    "\n",
    "# Creamos una lista de las secciones a eliminar\n",
    "secciones_sin_diabetes = ['CONSERVAS', 'CHARCUTERIA', 'PL. COCINADOS Y PRECOCINADOS', 'QUESOS']\n",
    "\n",
    "for i in range(len(secciones_sin_diabetes)):\n",
    "    lista_secciones_diabetes.remove(secciones_sin_diabetes[i])\n",
    "\n",
    "# Lista de las secciones relacionadas con la diabetes\n",
    "lista_secciones_diabetes"
   ]
  },
  {
   "cell_type": "code",
   "execution_count": 307,
   "metadata": {},
   "outputs": [
    {
     "data": {
      "text/plain": [
       "['AZUCAR Y EDULCORANTES',\n",
       " 'BOLLERIA INDUSTRIAL',\n",
       " 'CACAO',\n",
       " 'CEREALES DESAYUNO',\n",
       " 'CHOCOLATES',\n",
       " 'DULCES NAVIDENOS',\n",
       " 'GALLETAS',\n",
       " 'GOLOSINAS',\n",
       " 'REPOSTERIA',\n",
       " 'SALSAS',\n",
       " 'BEBIDAS ALCOHOLICAS',\n",
       " 'BEBIDAS REFRESCANTES',\n",
       " 'ZUMOS',\n",
       " 'BATIDOS',\n",
       " 'HORCHATA.',\n",
       " 'LECHE NO LIQUIDA',\n",
       " 'HELADOS',\n",
       " 'OTROS CONGELADOS',\n",
       " 'NATA',\n",
       " 'POSTRES PREPARADOS',\n",
       " 'YOGURES']"
      ]
     },
     "execution_count": 307,
     "metadata": {},
     "output_type": "execute_result"
    }
   ],
   "source": [
    "# Categorias de las secciones en lista_secciones_diabetes\n",
    "lista_categorias_secciones_diabetes = list(df_comunidades.loc[df_comunidades['SECCION'].isin(lista_secciones_diabetes), 'CATEGORIA'].unique())[1:]\n",
    "\n",
    "# Copiamos la lista de los categorias de las secciones relacionados con la diabetes\n",
    "lista_categorias_diabetes = lista_categorias_secciones_diabetes.copy()\n",
    "\n",
    "# Creamos una lista de las categorias a eliminar\n",
    "categorias_sin_diabetes = [\n",
    "    'ACEITE', 'ADITIVOS COCINA', 'ALIMENTOS INFANTILES', 'ALIMENTOS MASCOTAS', 'APERITIVOS', 'ARROZ', 'CAFES', 'DIETETICOS', 'FRUTOS SECOS',\n",
    "    'INFUSIONES', 'LEGUMBRES SECAS', 'PANADERIA INDUSTRIAL', 'PASTAS', 'SOPAS Y DESHIDRATADOS', 'AGUAS', 'CERVEZA', 'ESPUMOSOS', 'VINOS',\n",
    "    'LECHE LIQUIDA Y BEBIDAS VEGETALES', 'PESCADO CONGELADO', 'PESCADO PREPARADO CONGELADO', 'PLATOS PREPARADOS CONGELADOS', 'VERDURAS CONGELADAS',\n",
    "    'MANTEQUILLA', 'MARGARINA', 'QUESO TIPO PETIT'\n",
    "]\n",
    "\n",
    "for i in range(len(categorias_sin_diabetes)):\n",
    "    lista_categorias_diabetes.remove(categorias_sin_diabetes[i])\n",
    "\n",
    "# Lista de las categorias relacionadas con la diabetes\n",
    "lista_categorias_diabetes"
   ]
  },
  {
   "cell_type": "code",
   "execution_count": 316,
   "metadata": {},
   "outputs": [
    {
     "data": {
      "text/plain": [
       "120"
      ]
     },
     "execution_count": 316,
     "metadata": {},
     "output_type": "execute_result"
    }
   ],
   "source": [
    "# Familias de alimentos de las categorias en lista_categorias_diabetes\n",
    "lista_familias_categorias_diabetes = list(df_comunidades.loc[df_comunidades['CATEGORIA'].isin(lista_categorias_diabetes), 'FAMILIA'].unique())[1:]\n",
    "\n",
    "# Copiamos la lista de las familias de alimentos de las categorias relacionados con la diabetes\n",
    "lista_familias_diabetes = lista_familias_categorias_diabetes.copy()\n",
    "\n",
    "# Creamos una lista de las categorias a eliminar\n",
    "famlias_sin_diabetes = [\n",
    "    'EDULCORANTE', 'LEVADURA', 'L.EVAPORADA', 'L.POLVO', 'BASES PIZZA', 'CHURROS', 'FRUTAS', 'HIELO', 'HOJALDRES MASAS RELLENAS', 'HOJALDRES SIN RELLENAR',\n",
    "    'NATA', 'YOGUR NATURAL'\n",
    "]\n",
    "\n",
    "for i in range(len(famlias_sin_diabetes)):\n",
    "    lista_familias_diabetes.remove(famlias_sin_diabetes[i])\n",
    "\n",
    "# Lista de las categorias relacionadas con la diabetes\n",
    "len(lista_familias_diabetes)"
   ]
  },
  {
   "cell_type": "markdown",
   "metadata": {},
   "source": [
    "## 1.2. Dataset familias de alimentos relacionados con la diabetes"
   ]
  },
  {
   "cell_type": "code",
   "execution_count": 396,
   "metadata": {},
   "outputs": [],
   "source": [
    "# Creamos un dataset de las familias de alimentos que tienen relación con la diabetes\n",
    "df_diabetes = df_comunidades[df_comunidades['FAMILIA'].isin(lista_familias_diabetes)].groupby('COMUNIDAD').sum().T\n",
    "\n",
    "# Editamos el índice para que tenga un formato adecuado para ser formateado a fecha (quitamos 'SEMANA', 1 para que la semana empiece en lunes, la semana y el año)\n",
    "df_diabetes.index = '1 ' + df_diabetes.index.str[-5:-3] + ' ' + df_diabetes.index.str[-2:]\n",
    "df_diabetes.index = pd.to_datetime(df_diabetes.index, format=\"%w %W %y\")\n",
    "\n",
    "# Cambiamos la granularidad a mensual\n",
    "df_diabetes = df_diabetes.groupby(pd.Grouper(freq='M')).sum()"
   ]
  },
  {
   "cell_type": "code",
   "execution_count": 406,
   "metadata": {},
   "outputs": [
    {
     "data": {
      "application/vnd.plotly.v1+json": {
       "config": {
        "plotlyServerURL": "https://plot.ly"
       },
       "data": [
        {
         "hovertemplate": "COMUNIDAD=Andalucia<br>index=%{x}<br>value=%{y}<extra></extra>",
         "legendgroup": "Andalucia",
         "line": {
          "color": "#636efa",
          "dash": "solid"
         },
         "marker": {
          "symbol": "circle"
         },
         "mode": "lines",
         "name": "Andalucia",
         "orientation": "v",
         "showlegend": true,
         "type": "scatter",
         "x": [
          "2016-10-31T00:00:00",
          "2016-11-30T00:00:00",
          "2016-12-31T00:00:00",
          "2017-01-31T00:00:00",
          "2017-02-28T00:00:00",
          "2017-03-31T00:00:00",
          "2017-04-30T00:00:00",
          "2017-05-31T00:00:00",
          "2017-06-30T00:00:00",
          "2017-07-31T00:00:00",
          "2017-08-31T00:00:00",
          "2017-09-30T00:00:00",
          "2017-10-31T00:00:00",
          "2017-11-30T00:00:00",
          "2017-12-31T00:00:00",
          "2018-01-31T00:00:00",
          "2018-02-28T00:00:00",
          "2018-03-31T00:00:00",
          "2018-04-30T00:00:00",
          "2018-05-31T00:00:00",
          "2018-06-30T00:00:00",
          "2018-07-31T00:00:00",
          "2018-08-31T00:00:00",
          "2018-09-30T00:00:00",
          "2018-10-31T00:00:00",
          "2018-11-30T00:00:00",
          "2018-12-31T00:00:00",
          "2019-01-31T00:00:00",
          "2019-02-28T00:00:00",
          "2019-03-31T00:00:00",
          "2019-04-30T00:00:00",
          "2019-05-31T00:00:00",
          "2019-06-30T00:00:00",
          "2019-07-31T00:00:00",
          "2019-08-31T00:00:00",
          "2019-09-30T00:00:00",
          "2019-10-31T00:00:00"
         ],
         "xaxis": "x",
         "y": [
          76836.45999999999,
          60014.92,
          65265.200000000004,
          173747.13,
          144258.55,
          145799.36,
          153615.79,
          190508.85,
          170005.24,
          229850.5,
          181672.88,
          159230.18,
          197127.66,
          159470.17,
          202305.43,
          171859.52,
          145968.59,
          146004.66,
          189734.32,
          154167.53,
          166645.56,
          230245.2,
          184164.15999999997,
          159606.08,
          196380.5,
          159940.58000000002,
          202791.82,
          145606.25,
          146632.36,
          150101.34,
          191792.88,
          155500.34,
          164419.07,
          227414.62,
          192500.56,
          207443.25,
          159159.69
         ],
         "yaxis": "y"
        },
        {
         "hovertemplate": "COMUNIDAD=Aragon<br>index=%{x}<br>value=%{y}<extra></extra>",
         "legendgroup": "Aragon",
         "line": {
          "color": "#EF553B",
          "dash": "solid"
         },
         "marker": {
          "symbol": "circle"
         },
         "mode": "lines",
         "name": "Aragon",
         "orientation": "v",
         "showlegend": true,
         "type": "scatter",
         "x": [
          "2016-10-31T00:00:00",
          "2016-11-30T00:00:00",
          "2016-12-31T00:00:00",
          "2017-01-31T00:00:00",
          "2017-02-28T00:00:00",
          "2017-03-31T00:00:00",
          "2017-04-30T00:00:00",
          "2017-05-31T00:00:00",
          "2017-06-30T00:00:00",
          "2017-07-31T00:00:00",
          "2017-08-31T00:00:00",
          "2017-09-30T00:00:00",
          "2017-10-31T00:00:00",
          "2017-11-30T00:00:00",
          "2017-12-31T00:00:00",
          "2018-01-31T00:00:00",
          "2018-02-28T00:00:00",
          "2018-03-31T00:00:00",
          "2018-04-30T00:00:00",
          "2018-05-31T00:00:00",
          "2018-06-30T00:00:00",
          "2018-07-31T00:00:00",
          "2018-08-31T00:00:00",
          "2018-09-30T00:00:00",
          "2018-10-31T00:00:00",
          "2018-11-30T00:00:00",
          "2018-12-31T00:00:00",
          "2019-01-31T00:00:00",
          "2019-02-28T00:00:00",
          "2019-03-31T00:00:00",
          "2019-04-30T00:00:00",
          "2019-05-31T00:00:00",
          "2019-06-30T00:00:00",
          "2019-07-31T00:00:00",
          "2019-08-31T00:00:00",
          "2019-09-30T00:00:00",
          "2019-10-31T00:00:00"
         ],
         "xaxis": "x",
         "y": [
          13366.2,
          10948.01,
          12792.69,
          26806.54,
          22610.98,
          22663.63,
          23674.73,
          29515.79,
          24985.48,
          31581.91,
          24819.420000000002,
          23104.04,
          30635,
          24993.73,
          32012.190000000002,
          26599.269999999997,
          22989.82,
          23080.190000000002,
          29335.55,
          23659.65,
          24554.85,
          31870.53,
          25047.3,
          24140.309999999998,
          30638.55,
          25009.239999999998,
          31722.79,
          22590.879999999997,
          23136.34,
          23934.56,
          30355.14,
          24218.15,
          25144.39,
          33069.34,
          26585.75,
          31219.010000000002,
          24532.55
         ],
         "yaxis": "y"
        },
        {
         "hovertemplate": "COMUNIDAD=Asturias<br>index=%{x}<br>value=%{y}<extra></extra>",
         "legendgroup": "Asturias",
         "line": {
          "color": "#00cc96",
          "dash": "solid"
         },
         "marker": {
          "symbol": "circle"
         },
         "mode": "lines",
         "name": "Asturias",
         "orientation": "v",
         "showlegend": true,
         "type": "scatter",
         "x": [
          "2016-10-31T00:00:00",
          "2016-11-30T00:00:00",
          "2016-12-31T00:00:00",
          "2017-01-31T00:00:00",
          "2017-02-28T00:00:00",
          "2017-03-31T00:00:00",
          "2017-04-30T00:00:00",
          "2017-05-31T00:00:00",
          "2017-06-30T00:00:00",
          "2017-07-31T00:00:00",
          "2017-08-31T00:00:00",
          "2017-09-30T00:00:00",
          "2017-10-31T00:00:00",
          "2017-11-30T00:00:00",
          "2017-12-31T00:00:00",
          "2018-01-31T00:00:00",
          "2018-02-28T00:00:00",
          "2018-03-31T00:00:00",
          "2018-04-30T00:00:00",
          "2018-05-31T00:00:00",
          "2018-06-30T00:00:00",
          "2018-07-31T00:00:00",
          "2018-08-31T00:00:00",
          "2018-09-30T00:00:00",
          "2018-10-31T00:00:00",
          "2018-11-30T00:00:00",
          "2018-12-31T00:00:00",
          "2019-01-31T00:00:00",
          "2019-02-28T00:00:00",
          "2019-03-31T00:00:00",
          "2019-04-30T00:00:00",
          "2019-05-31T00:00:00",
          "2019-06-30T00:00:00",
          "2019-07-31T00:00:00",
          "2019-08-31T00:00:00",
          "2019-09-30T00:00:00",
          "2019-10-31T00:00:00"
         ],
         "xaxis": "x",
         "y": [
          0,
          0,
          0,
          22673.79,
          18616.1,
          18817.47,
          19400.97,
          23066.49,
          19351.91,
          25532.48,
          20146.79,
          18420.75,
          23693.010000000002,
          20311.98,
          25185.08,
          22184.29,
          18498.09,
          18993.84,
          23490.49,
          18880.37,
          19462.7,
          25627.89,
          21034.46,
          19285.29,
          24250.96,
          20707.42,
          25591.52,
          19001.27,
          18820.559999999998,
          19315.309999999998,
          24289.050000000003,
          19350.39,
          19565.69,
          25428.46,
          21851.42,
          24444.23,
          19492.940000000002
         ],
         "yaxis": "y"
        },
        {
         "hovertemplate": "COMUNIDAD=Baleares<br>index=%{x}<br>value=%{y}<extra></extra>",
         "legendgroup": "Baleares",
         "line": {
          "color": "#ab63fa",
          "dash": "solid"
         },
         "marker": {
          "symbol": "circle"
         },
         "mode": "lines",
         "name": "Baleares",
         "orientation": "v",
         "showlegend": true,
         "type": "scatter",
         "x": [
          "2016-10-31T00:00:00",
          "2016-11-30T00:00:00",
          "2016-12-31T00:00:00",
          "2017-01-31T00:00:00",
          "2017-02-28T00:00:00",
          "2017-03-31T00:00:00",
          "2017-04-30T00:00:00",
          "2017-05-31T00:00:00",
          "2017-06-30T00:00:00",
          "2017-07-31T00:00:00",
          "2017-08-31T00:00:00",
          "2017-09-30T00:00:00",
          "2017-10-31T00:00:00",
          "2017-11-30T00:00:00",
          "2017-12-31T00:00:00",
          "2018-01-31T00:00:00",
          "2018-02-28T00:00:00",
          "2018-03-31T00:00:00",
          "2018-04-30T00:00:00",
          "2018-05-31T00:00:00",
          "2018-06-30T00:00:00",
          "2018-07-31T00:00:00",
          "2018-08-31T00:00:00",
          "2018-09-30T00:00:00",
          "2018-10-31T00:00:00",
          "2018-11-30T00:00:00",
          "2018-12-31T00:00:00",
          "2019-01-31T00:00:00",
          "2019-02-28T00:00:00",
          "2019-03-31T00:00:00",
          "2019-04-30T00:00:00",
          "2019-05-31T00:00:00",
          "2019-06-30T00:00:00",
          "2019-07-31T00:00:00",
          "2019-08-31T00:00:00",
          "2019-09-30T00:00:00",
          "2019-10-31T00:00:00"
         ],
         "xaxis": "x",
         "y": [
          17689.44,
          12434.720000000001,
          13413.42,
          27454.08,
          23251.260000000002,
          24508.39,
          27116.3,
          35469.07,
          33032.53,
          48279.18,
          37063.34,
          30526.43,
          35569.22,
          26482.64,
          30856.43,
          28121.03,
          24575.17,
          26291.3,
          34142.29,
          29565.58,
          33459.509999999995,
          48818.32,
          37478.22,
          31786.59,
          35945.65,
          26206.53,
          30450.87,
          23840.54,
          24308.949999999997,
          25343.89,
          34275.31,
          28378.7,
          32004.670000000002,
          46976.759999999995,
          38659.33,
          40590.49,
          29733.8
         ],
         "yaxis": "y"
        },
        {
         "hovertemplate": "COMUNIDAD=C_Valenciana<br>index=%{x}<br>value=%{y}<extra></extra>",
         "legendgroup": "C_Valenciana",
         "line": {
          "color": "#FFA15A",
          "dash": "solid"
         },
         "marker": {
          "symbol": "circle"
         },
         "mode": "lines",
         "name": "C_Valenciana",
         "orientation": "v",
         "showlegend": true,
         "type": "scatter",
         "x": [
          "2016-10-31T00:00:00",
          "2016-11-30T00:00:00",
          "2016-12-31T00:00:00",
          "2017-01-31T00:00:00",
          "2017-02-28T00:00:00",
          "2017-03-31T00:00:00",
          "2017-04-30T00:00:00",
          "2017-05-31T00:00:00",
          "2017-06-30T00:00:00",
          "2017-07-31T00:00:00",
          "2017-08-31T00:00:00",
          "2017-09-30T00:00:00",
          "2017-10-31T00:00:00",
          "2017-11-30T00:00:00",
          "2017-12-31T00:00:00",
          "2018-01-31T00:00:00",
          "2018-02-28T00:00:00",
          "2018-03-31T00:00:00",
          "2018-04-30T00:00:00",
          "2018-05-31T00:00:00",
          "2018-06-30T00:00:00",
          "2018-07-31T00:00:00",
          "2018-08-31T00:00:00",
          "2018-09-30T00:00:00",
          "2018-10-31T00:00:00",
          "2018-11-30T00:00:00",
          "2018-12-31T00:00:00",
          "2019-01-31T00:00:00",
          "2019-02-28T00:00:00",
          "2019-03-31T00:00:00",
          "2019-04-30T00:00:00",
          "2019-05-31T00:00:00",
          "2019-06-30T00:00:00",
          "2019-07-31T00:00:00",
          "2019-08-31T00:00:00",
          "2019-09-30T00:00:00",
          "2019-10-31T00:00:00"
         ],
         "xaxis": "x",
         "y": [
          58027.42,
          45493.25,
          49557.06,
          110689.76,
          91651.02,
          94433.48,
          102531.08,
          121061.97,
          113937,
          167586.45,
          127926.76,
          104393.86,
          126564.59,
          101307.97,
          122040.6,
          111218.82,
          94757.99,
          103779.81,
          123141.22,
          101666.03,
          115536.29999999999,
          171063.32,
          131986.46,
          107938.6,
          128393.87,
          101326,
          121063.72,
          96030.6,
          95085.98999999999,
          100180.95,
          131064.79000000001,
          101540.13,
          112497.88,
          165601.64,
          139996.41,
          140916.29,
          105226.93
         ],
         "yaxis": "y"
        },
        {
         "hovertemplate": "COMUNIDAD=Canarias<br>index=%{x}<br>value=%{y}<extra></extra>",
         "legendgroup": "Canarias",
         "line": {
          "color": "#19d3f3",
          "dash": "solid"
         },
         "marker": {
          "symbol": "circle"
         },
         "mode": "lines",
         "name": "Canarias",
         "orientation": "v",
         "showlegend": true,
         "type": "scatter",
         "x": [
          "2016-10-31T00:00:00",
          "2016-11-30T00:00:00",
          "2016-12-31T00:00:00",
          "2017-01-31T00:00:00",
          "2017-02-28T00:00:00",
          "2017-03-31T00:00:00",
          "2017-04-30T00:00:00",
          "2017-05-31T00:00:00",
          "2017-06-30T00:00:00",
          "2017-07-31T00:00:00",
          "2017-08-31T00:00:00",
          "2017-09-30T00:00:00",
          "2017-10-31T00:00:00",
          "2017-11-30T00:00:00",
          "2017-12-31T00:00:00",
          "2018-01-31T00:00:00",
          "2018-02-28T00:00:00",
          "2018-03-31T00:00:00",
          "2018-04-30T00:00:00",
          "2018-05-31T00:00:00",
          "2018-06-30T00:00:00",
          "2018-07-31T00:00:00",
          "2018-08-31T00:00:00",
          "2018-09-30T00:00:00",
          "2018-10-31T00:00:00",
          "2018-11-30T00:00:00",
          "2018-12-31T00:00:00",
          "2019-01-31T00:00:00",
          "2019-02-28T00:00:00",
          "2019-03-31T00:00:00",
          "2019-04-30T00:00:00",
          "2019-05-31T00:00:00",
          "2019-06-30T00:00:00",
          "2019-07-31T00:00:00",
          "2019-08-31T00:00:00",
          "2019-09-30T00:00:00",
          "2019-10-31T00:00:00"
         ],
         "xaxis": "x",
         "y": [
          15075.3,
          11876.98,
          12581.04,
          64769.92,
          54187.75,
          52595.259999999995,
          54625.119999999995,
          64200.2,
          54502.270000000004,
          73101.36,
          58904.66,
          55620.62,
          72904.03,
          59515.28,
          69134.22,
          65498.58,
          56664.22,
          55754.65,
          68453.32,
          52394.74,
          55103.43,
          73960.67,
          58542.22,
          56469.9,
          72013.75,
          58533.29,
          67791.56,
          53706.97,
          54648.81,
          57484.6,
          68505.74,
          52487.270000000004,
          54776.770000000004,
          72499.45,
          59688.84,
          70954.59,
          57111.73
         ],
         "yaxis": "y"
        },
        {
         "hovertemplate": "COMUNIDAD=Cantabria<br>index=%{x}<br>value=%{y}<extra></extra>",
         "legendgroup": "Cantabria",
         "line": {
          "color": "#FF6692",
          "dash": "solid"
         },
         "marker": {
          "symbol": "circle"
         },
         "mode": "lines",
         "name": "Cantabria",
         "orientation": "v",
         "showlegend": true,
         "type": "scatter",
         "x": [
          "2016-10-31T00:00:00",
          "2016-11-30T00:00:00",
          "2016-12-31T00:00:00",
          "2017-01-31T00:00:00",
          "2017-02-28T00:00:00",
          "2017-03-31T00:00:00",
          "2017-04-30T00:00:00",
          "2017-05-31T00:00:00",
          "2017-06-30T00:00:00",
          "2017-07-31T00:00:00",
          "2017-08-31T00:00:00",
          "2017-09-30T00:00:00",
          "2017-10-31T00:00:00",
          "2017-11-30T00:00:00",
          "2017-12-31T00:00:00",
          "2018-01-31T00:00:00",
          "2018-02-28T00:00:00",
          "2018-03-31T00:00:00",
          "2018-04-30T00:00:00",
          "2018-05-31T00:00:00",
          "2018-06-30T00:00:00",
          "2018-07-31T00:00:00",
          "2018-08-31T00:00:00",
          "2018-09-30T00:00:00",
          "2018-10-31T00:00:00",
          "2018-11-30T00:00:00",
          "2018-12-31T00:00:00",
          "2019-01-31T00:00:00",
          "2019-02-28T00:00:00",
          "2019-03-31T00:00:00",
          "2019-04-30T00:00:00",
          "2019-05-31T00:00:00",
          "2019-06-30T00:00:00",
          "2019-07-31T00:00:00",
          "2019-08-31T00:00:00",
          "2019-09-30T00:00:00",
          "2019-10-31T00:00:00"
         ],
         "xaxis": "x",
         "y": [
          10532.44,
          8407.78,
          9780.869999999999,
          14753.21,
          12222.5,
          12345.24,
          13658.75,
          15634.16,
          13683.9,
          21017.940000000002,
          17249.18,
          12915.869999999999,
          16209.81,
          13559.07,
          16764.8,
          14583.44,
          12172.61,
          12990.369999999999,
          16274.01,
          12795.77,
          13927.880000000001,
          21404.879999999997,
          17824.85,
          13715,
          16568.38,
          13580.64,
          16370.11,
          12606.34,
          12195.130000000001,
          12884.69,
          16734.28,
          13065.95,
          13546.87,
          20527.620000000003,
          18822.42,
          18008.2,
          13049.4
         ],
         "yaxis": "y"
        },
        {
         "hovertemplate": "COMUNIDAD=Castilla_La_Mancha<br>index=%{x}<br>value=%{y}<extra></extra>",
         "legendgroup": "Castilla_La_Mancha",
         "line": {
          "color": "#B6E880",
          "dash": "solid"
         },
         "marker": {
          "symbol": "circle"
         },
         "mode": "lines",
         "name": "Castilla_La_Mancha",
         "orientation": "v",
         "showlegend": true,
         "type": "scatter",
         "x": [
          "2016-10-31T00:00:00",
          "2016-11-30T00:00:00",
          "2016-12-31T00:00:00",
          "2017-01-31T00:00:00",
          "2017-02-28T00:00:00",
          "2017-03-31T00:00:00",
          "2017-04-30T00:00:00",
          "2017-05-31T00:00:00",
          "2017-06-30T00:00:00",
          "2017-07-31T00:00:00",
          "2017-08-31T00:00:00",
          "2017-09-30T00:00:00",
          "2017-10-31T00:00:00",
          "2017-11-30T00:00:00",
          "2017-12-31T00:00:00",
          "2018-01-31T00:00:00",
          "2018-02-28T00:00:00",
          "2018-03-31T00:00:00",
          "2018-04-30T00:00:00",
          "2018-05-31T00:00:00",
          "2018-06-30T00:00:00",
          "2018-07-31T00:00:00",
          "2018-08-31T00:00:00",
          "2018-09-30T00:00:00",
          "2018-10-31T00:00:00",
          "2018-11-30T00:00:00",
          "2018-12-31T00:00:00",
          "2019-01-31T00:00:00",
          "2019-02-28T00:00:00",
          "2019-03-31T00:00:00",
          "2019-04-30T00:00:00",
          "2019-05-31T00:00:00",
          "2019-06-30T00:00:00",
          "2019-07-31T00:00:00",
          "2019-08-31T00:00:00",
          "2019-09-30T00:00:00",
          "2019-10-31T00:00:00"
         ],
         "xaxis": "x",
         "y": [
          17280.98,
          13955.74,
          16325.84,
          38964.83,
          31977.1,
          32154.23,
          33695.25,
          41182.08,
          36392.71,
          47562.18,
          38169.24,
          34553.17,
          42567.39,
          34984.42,
          43804.5,
          38341.06,
          32371.7,
          32436.9,
          42024.21,
          33203.81,
          36335.45,
          48512.08,
          38774.009999999995,
          34979.84,
          42125.62,
          34298.66,
          43071.96,
          32123.01,
          31959.14,
          33065.64,
          41682.07,
          34047.490000000005,
          35240.73,
          48618.229999999996,
          39528.659999999996,
          44204.5,
          33764.17
         ],
         "yaxis": "y"
        },
        {
         "hovertemplate": "COMUNIDAD=Castilla_y_Leon<br>index=%{x}<br>value=%{y}<extra></extra>",
         "legendgroup": "Castilla_y_Leon",
         "line": {
          "color": "#FF97FF",
          "dash": "solid"
         },
         "marker": {
          "symbol": "circle"
         },
         "mode": "lines",
         "name": "Castilla_y_Leon",
         "orientation": "v",
         "showlegend": true,
         "type": "scatter",
         "x": [
          "2016-10-31T00:00:00",
          "2016-11-30T00:00:00",
          "2016-12-31T00:00:00",
          "2017-01-31T00:00:00",
          "2017-02-28T00:00:00",
          "2017-03-31T00:00:00",
          "2017-04-30T00:00:00",
          "2017-05-31T00:00:00",
          "2017-06-30T00:00:00",
          "2017-07-31T00:00:00",
          "2017-08-31T00:00:00",
          "2017-09-30T00:00:00",
          "2017-10-31T00:00:00",
          "2017-11-30T00:00:00",
          "2017-12-31T00:00:00",
          "2018-01-31T00:00:00",
          "2018-02-28T00:00:00",
          "2018-03-31T00:00:00",
          "2018-04-30T00:00:00",
          "2018-05-31T00:00:00",
          "2018-06-30T00:00:00",
          "2018-07-31T00:00:00",
          "2018-08-31T00:00:00",
          "2018-09-30T00:00:00",
          "2018-10-31T00:00:00",
          "2018-11-30T00:00:00",
          "2018-12-31T00:00:00",
          "2019-01-31T00:00:00",
          "2019-02-28T00:00:00",
          "2019-03-31T00:00:00",
          "2019-04-30T00:00:00",
          "2019-05-31T00:00:00",
          "2019-06-30T00:00:00",
          "2019-07-31T00:00:00",
          "2019-08-31T00:00:00",
          "2019-09-30T00:00:00",
          "2019-10-31T00:00:00"
         ],
         "xaxis": "x",
         "y": [
          24768.82,
          20522.98,
          23871.61,
          48713.71,
          40063.92,
          40747.27,
          43684.76,
          51795.2,
          45900.65,
          62230.93,
          51854.98,
          42572.4,
          54050.71,
          45940.03,
          58545.29000000001,
          48134.47,
          40662.380000000005,
          42075.44,
          52476.259999999995,
          42423.270000000004,
          45045.62,
          63289.07,
          54201.31,
          44087.09,
          54264.92,
          45857.369999999995,
          58103.43,
          40924.73,
          40618.76,
          42344.14,
          54039.15,
          43352.93,
          45346.92,
          62907.36,
          56228.9,
          56747.11,
          43060.18
         ],
         "yaxis": "y"
        },
        {
         "hovertemplate": "COMUNIDAD=Catalunya<br>index=%{x}<br>value=%{y}<extra></extra>",
         "legendgroup": "Catalunya",
         "line": {
          "color": "#FECB52",
          "dash": "solid"
         },
         "marker": {
          "symbol": "circle"
         },
         "mode": "lines",
         "name": "Catalunya",
         "orientation": "v",
         "showlegend": true,
         "type": "scatter",
         "x": [
          "2016-10-31T00:00:00",
          "2016-11-30T00:00:00",
          "2016-12-31T00:00:00",
          "2017-01-31T00:00:00",
          "2017-02-28T00:00:00",
          "2017-03-31T00:00:00",
          "2017-04-30T00:00:00",
          "2017-05-31T00:00:00",
          "2017-06-30T00:00:00",
          "2017-07-31T00:00:00",
          "2017-08-31T00:00:00",
          "2017-09-30T00:00:00",
          "2017-10-31T00:00:00",
          "2017-11-30T00:00:00",
          "2017-12-31T00:00:00",
          "2018-01-31T00:00:00",
          "2018-02-28T00:00:00",
          "2018-03-31T00:00:00",
          "2018-04-30T00:00:00",
          "2018-05-31T00:00:00",
          "2018-06-30T00:00:00",
          "2018-07-31T00:00:00",
          "2018-08-31T00:00:00",
          "2018-09-30T00:00:00",
          "2018-10-31T00:00:00",
          "2018-11-30T00:00:00",
          "2018-12-31T00:00:00",
          "2019-01-31T00:00:00",
          "2019-02-28T00:00:00",
          "2019-03-31T00:00:00",
          "2019-04-30T00:00:00",
          "2019-05-31T00:00:00",
          "2019-06-30T00:00:00",
          "2019-07-31T00:00:00",
          "2019-08-31T00:00:00",
          "2019-09-30T00:00:00",
          "2019-10-31T00:00:00"
         ],
         "xaxis": "x",
         "y": [
          85397.01,
          70776.35,
          80483.15,
          161566.91999999998,
          135369.52,
          137098.22999999998,
          144343.03,
          176213.03,
          158518,
          215129.28,
          164073.31,
          143194.3,
          183972.87,
          151925.13,
          186586.96,
          162785.26,
          140793.62,
          147943.77,
          178661.81,
          145236.94,
          161360.87,
          220632.21000000002,
          168965.22,
          150442.59,
          188049.72,
          153079.58000000002,
          189758.92,
          140336.74,
          141641.68,
          146906.84,
          188402.75,
          146298.85,
          161754.41999999998,
          216373.02000000002,
          175573.97,
          194678.36,
          150943.57
         ],
         "yaxis": "y"
        },
        {
         "hovertemplate": "COMUNIDAD=Ceuta_y_Melilla<br>index=%{x}<br>value=%{y}<extra></extra>",
         "legendgroup": "Ceuta_y_Melilla",
         "line": {
          "color": "#636efa",
          "dash": "solid"
         },
         "marker": {
          "symbol": "circle"
         },
         "mode": "lines",
         "name": "Ceuta_y_Melilla",
         "orientation": "v",
         "showlegend": true,
         "type": "scatter",
         "x": [
          "2016-10-31T00:00:00",
          "2016-11-30T00:00:00",
          "2016-12-31T00:00:00",
          "2017-01-31T00:00:00",
          "2017-02-28T00:00:00",
          "2017-03-31T00:00:00",
          "2017-04-30T00:00:00",
          "2017-05-31T00:00:00",
          "2017-06-30T00:00:00",
          "2017-07-31T00:00:00",
          "2017-08-31T00:00:00",
          "2017-09-30T00:00:00",
          "2017-10-31T00:00:00",
          "2017-11-30T00:00:00",
          "2017-12-31T00:00:00",
          "2018-01-31T00:00:00",
          "2018-02-28T00:00:00",
          "2018-03-31T00:00:00",
          "2018-04-30T00:00:00",
          "2018-05-31T00:00:00",
          "2018-06-30T00:00:00",
          "2018-07-31T00:00:00",
          "2018-08-31T00:00:00",
          "2018-09-30T00:00:00",
          "2018-10-31T00:00:00",
          "2018-11-30T00:00:00",
          "2018-12-31T00:00:00",
          "2019-01-31T00:00:00",
          "2019-02-28T00:00:00",
          "2019-03-31T00:00:00",
          "2019-04-30T00:00:00",
          "2019-05-31T00:00:00",
          "2019-06-30T00:00:00",
          "2019-07-31T00:00:00",
          "2019-08-31T00:00:00",
          "2019-09-30T00:00:00",
          "2019-10-31T00:00:00"
         ],
         "xaxis": "x",
         "y": [
          0,
          0,
          0,
          712.3,
          539.73,
          665.44,
          1092.68,
          1498.28,
          1292.88,
          1447.7,
          1155.49,
          1093.05,
          1491.2,
          1352.71,
          1830,
          2154.15,
          1964.94,
          1633.38,
          2299.23,
          2002.87,
          1930.47,
          2354.37,
          1879.2,
          2137.13,
          3024.81,
          2616.8,
          3004.8599999999997,
          2510.67,
          2832.41,
          2638.55,
          3147.71,
          2754.05,
          2688.1,
          3671.5,
          3001,
          3481.8199999999997,
          2686.77
         ],
         "yaxis": "y"
        },
        {
         "hovertemplate": "COMUNIDAD=Extremadura<br>index=%{x}<br>value=%{y}<extra></extra>",
         "legendgroup": "Extremadura",
         "line": {
          "color": "#EF553B",
          "dash": "solid"
         },
         "marker": {
          "symbol": "circle"
         },
         "mode": "lines",
         "name": "Extremadura",
         "orientation": "v",
         "showlegend": true,
         "type": "scatter",
         "x": [
          "2016-10-31T00:00:00",
          "2016-11-30T00:00:00",
          "2016-12-31T00:00:00",
          "2017-01-31T00:00:00",
          "2017-02-28T00:00:00",
          "2017-03-31T00:00:00",
          "2017-04-30T00:00:00",
          "2017-05-31T00:00:00",
          "2017-06-30T00:00:00",
          "2017-07-31T00:00:00",
          "2017-08-31T00:00:00",
          "2017-09-30T00:00:00",
          "2017-10-31T00:00:00",
          "2017-11-30T00:00:00",
          "2017-12-31T00:00:00",
          "2018-01-31T00:00:00",
          "2018-02-28T00:00:00",
          "2018-03-31T00:00:00",
          "2018-04-30T00:00:00",
          "2018-05-31T00:00:00",
          "2018-06-30T00:00:00",
          "2018-07-31T00:00:00",
          "2018-08-31T00:00:00",
          "2018-09-30T00:00:00",
          "2018-10-31T00:00:00",
          "2018-11-30T00:00:00",
          "2018-12-31T00:00:00",
          "2019-01-31T00:00:00",
          "2019-02-28T00:00:00",
          "2019-03-31T00:00:00",
          "2019-04-30T00:00:00",
          "2019-05-31T00:00:00",
          "2019-06-30T00:00:00",
          "2019-07-31T00:00:00",
          "2019-08-31T00:00:00",
          "2019-09-30T00:00:00",
          "2019-10-31T00:00:00"
         ],
         "xaxis": "x",
         "y": [
          7346,
          5831.44,
          9372.4,
          20081.739999999998,
          17024.67,
          17065.78,
          20275.420000000002,
          23252.25,
          19333.98,
          25425.67,
          21927.36,
          19035.96,
          22931.97,
          18343.89,
          24853.1,
          19723.47,
          16871.809999999998,
          17515.97,
          21975.379999999997,
          17916.16,
          18397.870000000003,
          24766.08,
          21190.5,
          18186.71,
          22827.59,
          18501.62,
          24282.15,
          16424,
          16483.72,
          17179.29,
          22629.98,
          17886.67,
          18347.59,
          24142.77,
          21465.45,
          23537.370000000003,
          18055.08
         ],
         "yaxis": "y"
        },
        {
         "hovertemplate": "COMUNIDAD=Galicia<br>index=%{x}<br>value=%{y}<extra></extra>",
         "legendgroup": "Galicia",
         "line": {
          "color": "#00cc96",
          "dash": "solid"
         },
         "marker": {
          "symbol": "circle"
         },
         "mode": "lines",
         "name": "Galicia",
         "orientation": "v",
         "showlegend": true,
         "type": "scatter",
         "x": [
          "2016-10-31T00:00:00",
          "2016-11-30T00:00:00",
          "2016-12-31T00:00:00",
          "2017-01-31T00:00:00",
          "2017-02-28T00:00:00",
          "2017-03-31T00:00:00",
          "2017-04-30T00:00:00",
          "2017-05-31T00:00:00",
          "2017-06-30T00:00:00",
          "2017-07-31T00:00:00",
          "2017-08-31T00:00:00",
          "2017-09-30T00:00:00",
          "2017-10-31T00:00:00",
          "2017-11-30T00:00:00",
          "2017-12-31T00:00:00",
          "2018-01-31T00:00:00",
          "2018-02-28T00:00:00",
          "2018-03-31T00:00:00",
          "2018-04-30T00:00:00",
          "2018-05-31T00:00:00",
          "2018-06-30T00:00:00",
          "2018-07-31T00:00:00",
          "2018-08-31T00:00:00",
          "2018-09-30T00:00:00",
          "2018-10-31T00:00:00",
          "2018-11-30T00:00:00",
          "2018-12-31T00:00:00",
          "2019-01-31T00:00:00",
          "2019-02-28T00:00:00",
          "2019-03-31T00:00:00",
          "2019-04-30T00:00:00",
          "2019-05-31T00:00:00",
          "2019-06-30T00:00:00",
          "2019-07-31T00:00:00",
          "2019-08-31T00:00:00",
          "2019-09-30T00:00:00",
          "2019-10-31T00:00:00"
         ],
         "xaxis": "x",
         "y": [
          0,
          0,
          0,
          56282.26,
          46144.03,
          46772.29,
          49861.12,
          59534.630000000005,
          51741.65,
          68893.85,
          55100.4,
          48580.17,
          61741.47,
          52632.32,
          67202.59,
          54867.14,
          46725.11,
          48627.369999999995,
          60450.52,
          48863.95,
          52080.98,
          70172.69,
          56717.380000000005,
          50720.93,
          62156.17,
          52737.28,
          66398.12,
          47335.18,
          47220.42,
          48047.41,
          62878.94,
          49359.7,
          52007.56,
          68651.22,
          58690.770000000004,
          65106.2,
          49860.04
         ],
         "yaxis": "y"
        },
        {
         "hovertemplate": "COMUNIDAD=La_Rioja<br>index=%{x}<br>value=%{y}<extra></extra>",
         "legendgroup": "La_Rioja",
         "line": {
          "color": "#ab63fa",
          "dash": "solid"
         },
         "marker": {
          "symbol": "circle"
         },
         "mode": "lines",
         "name": "La_Rioja",
         "orientation": "v",
         "showlegend": true,
         "type": "scatter",
         "x": [
          "2016-10-31T00:00:00",
          "2016-11-30T00:00:00",
          "2016-12-31T00:00:00",
          "2017-01-31T00:00:00",
          "2017-02-28T00:00:00",
          "2017-03-31T00:00:00",
          "2017-04-30T00:00:00",
          "2017-05-31T00:00:00",
          "2017-06-30T00:00:00",
          "2017-07-31T00:00:00",
          "2017-08-31T00:00:00",
          "2017-09-30T00:00:00",
          "2017-10-31T00:00:00",
          "2017-11-30T00:00:00",
          "2017-12-31T00:00:00",
          "2018-01-31T00:00:00",
          "2018-02-28T00:00:00",
          "2018-03-31T00:00:00",
          "2018-04-30T00:00:00",
          "2018-05-31T00:00:00",
          "2018-06-30T00:00:00",
          "2018-07-31T00:00:00",
          "2018-08-31T00:00:00",
          "2018-09-30T00:00:00",
          "2018-10-31T00:00:00",
          "2018-11-30T00:00:00",
          "2018-12-31T00:00:00",
          "2019-01-31T00:00:00",
          "2019-02-28T00:00:00",
          "2019-03-31T00:00:00",
          "2019-04-30T00:00:00",
          "2019-05-31T00:00:00",
          "2019-06-30T00:00:00",
          "2019-07-31T00:00:00",
          "2019-08-31T00:00:00",
          "2019-09-30T00:00:00",
          "2019-10-31T00:00:00"
         ],
         "xaxis": "x",
         "y": [
          3807.48,
          3148.51,
          3865.3199999999997,
          6644.35,
          5332.92,
          5490.639999999999,
          6005.13,
          7197.11,
          6104.4,
          8208.43,
          6546.35,
          5816.86,
          7336.79,
          6210.2,
          7865.56,
          6646.03,
          5455.02,
          5702.67,
          7223.01,
          5767.24,
          6079.54,
          8382.23,
          6753.37,
          6014.23,
          7464.3099999999995,
          6161.9400000000005,
          7962.43,
          5660.26,
          5565.75,
          5784.15,
          7422.74,
          5939.3,
          6188.53,
          8789.64,
          7110.31,
          7853.11,
          6100.63
         ],
         "yaxis": "y"
        },
        {
         "hovertemplate": "COMUNIDAD=Madrid<br>index=%{x}<br>value=%{y}<extra></extra>",
         "legendgroup": "Madrid",
         "line": {
          "color": "#FFA15A",
          "dash": "solid"
         },
         "marker": {
          "symbol": "circle"
         },
         "mode": "lines",
         "name": "Madrid",
         "orientation": "v",
         "showlegend": true,
         "type": "scatter",
         "x": [
          "2016-10-31T00:00:00",
          "2016-11-30T00:00:00",
          "2016-12-31T00:00:00",
          "2017-01-31T00:00:00",
          "2017-02-28T00:00:00",
          "2017-03-31T00:00:00",
          "2017-04-30T00:00:00",
          "2017-05-31T00:00:00",
          "2017-06-30T00:00:00",
          "2017-07-31T00:00:00",
          "2017-08-31T00:00:00",
          "2017-09-30T00:00:00",
          "2017-10-31T00:00:00",
          "2017-11-30T00:00:00",
          "2017-12-31T00:00:00",
          "2018-01-31T00:00:00",
          "2018-02-28T00:00:00",
          "2018-03-31T00:00:00",
          "2018-04-30T00:00:00",
          "2018-05-31T00:00:00",
          "2018-06-30T00:00:00",
          "2018-07-31T00:00:00",
          "2018-08-31T00:00:00",
          "2018-09-30T00:00:00",
          "2018-10-31T00:00:00",
          "2018-11-30T00:00:00",
          "2018-12-31T00:00:00",
          "2019-01-31T00:00:00",
          "2019-02-28T00:00:00",
          "2019-03-31T00:00:00",
          "2019-04-30T00:00:00",
          "2019-05-31T00:00:00",
          "2019-06-30T00:00:00",
          "2019-07-31T00:00:00",
          "2019-08-31T00:00:00",
          "2019-09-30T00:00:00",
          "2019-10-31T00:00:00"
         ],
         "xaxis": "x",
         "y": [
          44355.33,
          36483.88,
          37707.13,
          154143.6,
          125330.39,
          123443.78,
          120348.87,
          156071.26,
          131163.85,
          144135.53,
          105678.03,
          125306.37,
          165180.17,
          138553.89,
          167212.78,
          151625.16,
          127193.18,
          120911.74,
          161061.69,
          130356.51000000001,
          133441.64,
          151827.59,
          110721.3,
          131151.57,
          166690.61000000002,
          139579.28,
          168948.05,
          128197.74,
          128483.35,
          130829.67,
          158447,
          129505.12,
          136386.36,
          161698.52,
          109077.85,
          159891.9,
          133527.85
         ],
         "yaxis": "y"
        },
        {
         "hovertemplate": "COMUNIDAD=Murcia<br>index=%{x}<br>value=%{y}<extra></extra>",
         "legendgroup": "Murcia",
         "line": {
          "color": "#19d3f3",
          "dash": "solid"
         },
         "marker": {
          "symbol": "circle"
         },
         "mode": "lines",
         "name": "Murcia",
         "orientation": "v",
         "showlegend": true,
         "type": "scatter",
         "x": [
          "2016-10-31T00:00:00",
          "2016-11-30T00:00:00",
          "2016-12-31T00:00:00",
          "2017-01-31T00:00:00",
          "2017-02-28T00:00:00",
          "2017-03-31T00:00:00",
          "2017-04-30T00:00:00",
          "2017-05-31T00:00:00",
          "2017-06-30T00:00:00",
          "2017-07-31T00:00:00",
          "2017-08-31T00:00:00",
          "2017-09-30T00:00:00",
          "2017-10-31T00:00:00",
          "2017-11-30T00:00:00",
          "2017-12-31T00:00:00",
          "2018-01-31T00:00:00",
          "2018-02-28T00:00:00",
          "2018-03-31T00:00:00",
          "2018-04-30T00:00:00",
          "2018-05-31T00:00:00",
          "2018-06-30T00:00:00",
          "2018-07-31T00:00:00",
          "2018-08-31T00:00:00",
          "2018-09-30T00:00:00",
          "2018-10-31T00:00:00",
          "2018-11-30T00:00:00",
          "2018-12-31T00:00:00",
          "2019-01-31T00:00:00",
          "2019-02-28T00:00:00",
          "2019-03-31T00:00:00",
          "2019-04-30T00:00:00",
          "2019-05-31T00:00:00",
          "2019-06-30T00:00:00",
          "2019-07-31T00:00:00",
          "2019-08-31T00:00:00",
          "2019-09-30T00:00:00",
          "2019-10-31T00:00:00"
         ],
         "xaxis": "x",
         "y": [
          0,
          0,
          0,
          26717.129999999997,
          21986.7,
          22272.01,
          24365.9,
          29004.41,
          26727.18,
          39601.37,
          30401.96,
          24767.260000000002,
          29974.8,
          24202.29,
          29679.9,
          26784.26,
          22739.15,
          23468.54,
          30012.010000000002,
          24195.88,
          26796.190000000002,
          39277.59,
          30654.12,
          25157.32,
          30230.68,
          24115.34,
          29667.09,
          22788,
          22478.74,
          23146.55,
          29956.19,
          24101.78,
          25877.11,
          39060.71,
          33360.67,
          33148.94,
          25179.96
         ],
         "yaxis": "y"
        },
        {
         "hovertemplate": "COMUNIDAD=Navarra<br>index=%{x}<br>value=%{y}<extra></extra>",
         "legendgroup": "Navarra",
         "line": {
          "color": "#FF6692",
          "dash": "solid"
         },
         "marker": {
          "symbol": "circle"
         },
         "mode": "lines",
         "name": "Navarra",
         "orientation": "v",
         "showlegend": true,
         "type": "scatter",
         "x": [
          "2016-10-31T00:00:00",
          "2016-11-30T00:00:00",
          "2016-12-31T00:00:00",
          "2017-01-31T00:00:00",
          "2017-02-28T00:00:00",
          "2017-03-31T00:00:00",
          "2017-04-30T00:00:00",
          "2017-05-31T00:00:00",
          "2017-06-30T00:00:00",
          "2017-07-31T00:00:00",
          "2017-08-31T00:00:00",
          "2017-09-30T00:00:00",
          "2017-10-31T00:00:00",
          "2017-11-30T00:00:00",
          "2017-12-31T00:00:00",
          "2018-01-31T00:00:00",
          "2018-02-28T00:00:00",
          "2018-03-31T00:00:00",
          "2018-04-30T00:00:00",
          "2018-05-31T00:00:00",
          "2018-06-30T00:00:00",
          "2018-07-31T00:00:00",
          "2018-08-31T00:00:00",
          "2018-09-30T00:00:00",
          "2018-10-31T00:00:00",
          "2018-11-30T00:00:00",
          "2018-12-31T00:00:00",
          "2019-01-31T00:00:00",
          "2019-02-28T00:00:00",
          "2019-03-31T00:00:00",
          "2019-04-30T00:00:00",
          "2019-05-31T00:00:00",
          "2019-06-30T00:00:00",
          "2019-07-31T00:00:00",
          "2019-08-31T00:00:00",
          "2019-09-30T00:00:00",
          "2019-10-31T00:00:00"
         ],
         "xaxis": "x",
         "y": [
          9439.41,
          7681.24,
          9251.45,
          13206.8,
          10760.03,
          10858.630000000001,
          11119.03,
          14037.99,
          11752.26,
          14681.86,
          11529.86,
          11104.89,
          14255.17,
          11980,
          14666.79,
          13024.560000000001,
          10933.66,
          10956.59,
          13933,
          11391.3,
          11679.98,
          14839.9,
          11779.01,
          11548.630000000001,
          14528.42,
          12119.06,
          14674.63,
          11041.1,
          10929.86,
          11212.94,
          14078.12,
          11461.23,
          11520.61,
          14960.77,
          11714.35,
          14578.55,
          11467.5
         ],
         "yaxis": "y"
        },
        {
         "hovertemplate": "COMUNIDAD=Pais_Vasco<br>index=%{x}<br>value=%{y}<extra></extra>",
         "legendgroup": "Pais_Vasco",
         "line": {
          "color": "#B6E880",
          "dash": "solid"
         },
         "marker": {
          "symbol": "circle"
         },
         "mode": "lines",
         "name": "Pais_Vasco",
         "orientation": "v",
         "showlegend": true,
         "type": "scatter",
         "x": [
          "2016-10-31T00:00:00",
          "2016-11-30T00:00:00",
          "2016-12-31T00:00:00",
          "2017-01-31T00:00:00",
          "2017-02-28T00:00:00",
          "2017-03-31T00:00:00",
          "2017-04-30T00:00:00",
          "2017-05-31T00:00:00",
          "2017-06-30T00:00:00",
          "2017-07-31T00:00:00",
          "2017-08-31T00:00:00",
          "2017-09-30T00:00:00",
          "2017-10-31T00:00:00",
          "2017-11-30T00:00:00",
          "2017-12-31T00:00:00",
          "2018-01-31T00:00:00",
          "2018-02-28T00:00:00",
          "2018-03-31T00:00:00",
          "2018-04-30T00:00:00",
          "2018-05-31T00:00:00",
          "2018-06-30T00:00:00",
          "2018-07-31T00:00:00",
          "2018-08-31T00:00:00",
          "2018-09-30T00:00:00",
          "2018-10-31T00:00:00",
          "2018-11-30T00:00:00",
          "2018-12-31T00:00:00",
          "2019-01-31T00:00:00",
          "2019-02-28T00:00:00",
          "2019-03-31T00:00:00",
          "2019-04-30T00:00:00",
          "2019-05-31T00:00:00",
          "2019-06-30T00:00:00",
          "2019-07-31T00:00:00",
          "2019-08-31T00:00:00",
          "2019-09-30T00:00:00",
          "2019-10-31T00:00:00"
         ],
         "xaxis": "x",
         "y": [
          42687.06,
          36501.9,
          43661.72,
          51343.020000000004,
          41322.3,
          41289.67,
          39286.740000000005,
          51522.53,
          41797.8,
          49395.84,
          37993.55,
          40560.32,
          53217.51,
          46585.38,
          57086.270000000004,
          51134.51,
          42239.28,
          41026.81,
          52245.28,
          42689.14,
          42613.34,
          51701.91,
          39371.880000000005,
          42708.31,
          53835.51,
          46331.53,
          56181.74,
          43259.240000000005,
          41954.78,
          42634.06,
          51923.1,
          43040.32,
          43527.48,
          53438.270000000004,
          38858.35,
          52860.130000000005,
          42424.06
         ],
         "yaxis": "y"
        }
       ],
       "layout": {
        "legend": {
         "title": {
          "text": "COMUNIDAD"
         },
         "tracegroupgap": 0
        },
        "template": {
         "data": {
          "bar": [
           {
            "error_x": {
             "color": "#2a3f5f"
            },
            "error_y": {
             "color": "#2a3f5f"
            },
            "marker": {
             "line": {
              "color": "#E5ECF6",
              "width": 0.5
             },
             "pattern": {
              "fillmode": "overlay",
              "size": 10,
              "solidity": 0.2
             }
            },
            "type": "bar"
           }
          ],
          "barpolar": [
           {
            "marker": {
             "line": {
              "color": "#E5ECF6",
              "width": 0.5
             },
             "pattern": {
              "fillmode": "overlay",
              "size": 10,
              "solidity": 0.2
             }
            },
            "type": "barpolar"
           }
          ],
          "carpet": [
           {
            "aaxis": {
             "endlinecolor": "#2a3f5f",
             "gridcolor": "white",
             "linecolor": "white",
             "minorgridcolor": "white",
             "startlinecolor": "#2a3f5f"
            },
            "baxis": {
             "endlinecolor": "#2a3f5f",
             "gridcolor": "white",
             "linecolor": "white",
             "minorgridcolor": "white",
             "startlinecolor": "#2a3f5f"
            },
            "type": "carpet"
           }
          ],
          "choropleth": [
           {
            "colorbar": {
             "outlinewidth": 0,
             "ticks": ""
            },
            "type": "choropleth"
           }
          ],
          "contour": [
           {
            "colorbar": {
             "outlinewidth": 0,
             "ticks": ""
            },
            "colorscale": [
             [
              0,
              "#0d0887"
             ],
             [
              0.1111111111111111,
              "#46039f"
             ],
             [
              0.2222222222222222,
              "#7201a8"
             ],
             [
              0.3333333333333333,
              "#9c179e"
             ],
             [
              0.4444444444444444,
              "#bd3786"
             ],
             [
              0.5555555555555556,
              "#d8576b"
             ],
             [
              0.6666666666666666,
              "#ed7953"
             ],
             [
              0.7777777777777778,
              "#fb9f3a"
             ],
             [
              0.8888888888888888,
              "#fdca26"
             ],
             [
              1,
              "#f0f921"
             ]
            ],
            "type": "contour"
           }
          ],
          "contourcarpet": [
           {
            "colorbar": {
             "outlinewidth": 0,
             "ticks": ""
            },
            "type": "contourcarpet"
           }
          ],
          "heatmap": [
           {
            "colorbar": {
             "outlinewidth": 0,
             "ticks": ""
            },
            "colorscale": [
             [
              0,
              "#0d0887"
             ],
             [
              0.1111111111111111,
              "#46039f"
             ],
             [
              0.2222222222222222,
              "#7201a8"
             ],
             [
              0.3333333333333333,
              "#9c179e"
             ],
             [
              0.4444444444444444,
              "#bd3786"
             ],
             [
              0.5555555555555556,
              "#d8576b"
             ],
             [
              0.6666666666666666,
              "#ed7953"
             ],
             [
              0.7777777777777778,
              "#fb9f3a"
             ],
             [
              0.8888888888888888,
              "#fdca26"
             ],
             [
              1,
              "#f0f921"
             ]
            ],
            "type": "heatmap"
           }
          ],
          "heatmapgl": [
           {
            "colorbar": {
             "outlinewidth": 0,
             "ticks": ""
            },
            "colorscale": [
             [
              0,
              "#0d0887"
             ],
             [
              0.1111111111111111,
              "#46039f"
             ],
             [
              0.2222222222222222,
              "#7201a8"
             ],
             [
              0.3333333333333333,
              "#9c179e"
             ],
             [
              0.4444444444444444,
              "#bd3786"
             ],
             [
              0.5555555555555556,
              "#d8576b"
             ],
             [
              0.6666666666666666,
              "#ed7953"
             ],
             [
              0.7777777777777778,
              "#fb9f3a"
             ],
             [
              0.8888888888888888,
              "#fdca26"
             ],
             [
              1,
              "#f0f921"
             ]
            ],
            "type": "heatmapgl"
           }
          ],
          "histogram": [
           {
            "marker": {
             "pattern": {
              "fillmode": "overlay",
              "size": 10,
              "solidity": 0.2
             }
            },
            "type": "histogram"
           }
          ],
          "histogram2d": [
           {
            "colorbar": {
             "outlinewidth": 0,
             "ticks": ""
            },
            "colorscale": [
             [
              0,
              "#0d0887"
             ],
             [
              0.1111111111111111,
              "#46039f"
             ],
             [
              0.2222222222222222,
              "#7201a8"
             ],
             [
              0.3333333333333333,
              "#9c179e"
             ],
             [
              0.4444444444444444,
              "#bd3786"
             ],
             [
              0.5555555555555556,
              "#d8576b"
             ],
             [
              0.6666666666666666,
              "#ed7953"
             ],
             [
              0.7777777777777778,
              "#fb9f3a"
             ],
             [
              0.8888888888888888,
              "#fdca26"
             ],
             [
              1,
              "#f0f921"
             ]
            ],
            "type": "histogram2d"
           }
          ],
          "histogram2dcontour": [
           {
            "colorbar": {
             "outlinewidth": 0,
             "ticks": ""
            },
            "colorscale": [
             [
              0,
              "#0d0887"
             ],
             [
              0.1111111111111111,
              "#46039f"
             ],
             [
              0.2222222222222222,
              "#7201a8"
             ],
             [
              0.3333333333333333,
              "#9c179e"
             ],
             [
              0.4444444444444444,
              "#bd3786"
             ],
             [
              0.5555555555555556,
              "#d8576b"
             ],
             [
              0.6666666666666666,
              "#ed7953"
             ],
             [
              0.7777777777777778,
              "#fb9f3a"
             ],
             [
              0.8888888888888888,
              "#fdca26"
             ],
             [
              1,
              "#f0f921"
             ]
            ],
            "type": "histogram2dcontour"
           }
          ],
          "mesh3d": [
           {
            "colorbar": {
             "outlinewidth": 0,
             "ticks": ""
            },
            "type": "mesh3d"
           }
          ],
          "parcoords": [
           {
            "line": {
             "colorbar": {
              "outlinewidth": 0,
              "ticks": ""
             }
            },
            "type": "parcoords"
           }
          ],
          "pie": [
           {
            "automargin": true,
            "type": "pie"
           }
          ],
          "scatter": [
           {
            "fillpattern": {
             "fillmode": "overlay",
             "size": 10,
             "solidity": 0.2
            },
            "type": "scatter"
           }
          ],
          "scatter3d": [
           {
            "line": {
             "colorbar": {
              "outlinewidth": 0,
              "ticks": ""
             }
            },
            "marker": {
             "colorbar": {
              "outlinewidth": 0,
              "ticks": ""
             }
            },
            "type": "scatter3d"
           }
          ],
          "scattercarpet": [
           {
            "marker": {
             "colorbar": {
              "outlinewidth": 0,
              "ticks": ""
             }
            },
            "type": "scattercarpet"
           }
          ],
          "scattergeo": [
           {
            "marker": {
             "colorbar": {
              "outlinewidth": 0,
              "ticks": ""
             }
            },
            "type": "scattergeo"
           }
          ],
          "scattergl": [
           {
            "marker": {
             "colorbar": {
              "outlinewidth": 0,
              "ticks": ""
             }
            },
            "type": "scattergl"
           }
          ],
          "scattermapbox": [
           {
            "marker": {
             "colorbar": {
              "outlinewidth": 0,
              "ticks": ""
             }
            },
            "type": "scattermapbox"
           }
          ],
          "scatterpolar": [
           {
            "marker": {
             "colorbar": {
              "outlinewidth": 0,
              "ticks": ""
             }
            },
            "type": "scatterpolar"
           }
          ],
          "scatterpolargl": [
           {
            "marker": {
             "colorbar": {
              "outlinewidth": 0,
              "ticks": ""
             }
            },
            "type": "scatterpolargl"
           }
          ],
          "scatterternary": [
           {
            "marker": {
             "colorbar": {
              "outlinewidth": 0,
              "ticks": ""
             }
            },
            "type": "scatterternary"
           }
          ],
          "surface": [
           {
            "colorbar": {
             "outlinewidth": 0,
             "ticks": ""
            },
            "colorscale": [
             [
              0,
              "#0d0887"
             ],
             [
              0.1111111111111111,
              "#46039f"
             ],
             [
              0.2222222222222222,
              "#7201a8"
             ],
             [
              0.3333333333333333,
              "#9c179e"
             ],
             [
              0.4444444444444444,
              "#bd3786"
             ],
             [
              0.5555555555555556,
              "#d8576b"
             ],
             [
              0.6666666666666666,
              "#ed7953"
             ],
             [
              0.7777777777777778,
              "#fb9f3a"
             ],
             [
              0.8888888888888888,
              "#fdca26"
             ],
             [
              1,
              "#f0f921"
             ]
            ],
            "type": "surface"
           }
          ],
          "table": [
           {
            "cells": {
             "fill": {
              "color": "#EBF0F8"
             },
             "line": {
              "color": "white"
             }
            },
            "header": {
             "fill": {
              "color": "#C8D4E3"
             },
             "line": {
              "color": "white"
             }
            },
            "type": "table"
           }
          ]
         },
         "layout": {
          "annotationdefaults": {
           "arrowcolor": "#2a3f5f",
           "arrowhead": 0,
           "arrowwidth": 1
          },
          "autotypenumbers": "strict",
          "coloraxis": {
           "colorbar": {
            "outlinewidth": 0,
            "ticks": ""
           }
          },
          "colorscale": {
           "diverging": [
            [
             0,
             "#8e0152"
            ],
            [
             0.1,
             "#c51b7d"
            ],
            [
             0.2,
             "#de77ae"
            ],
            [
             0.3,
             "#f1b6da"
            ],
            [
             0.4,
             "#fde0ef"
            ],
            [
             0.5,
             "#f7f7f7"
            ],
            [
             0.6,
             "#e6f5d0"
            ],
            [
             0.7,
             "#b8e186"
            ],
            [
             0.8,
             "#7fbc41"
            ],
            [
             0.9,
             "#4d9221"
            ],
            [
             1,
             "#276419"
            ]
           ],
           "sequential": [
            [
             0,
             "#0d0887"
            ],
            [
             0.1111111111111111,
             "#46039f"
            ],
            [
             0.2222222222222222,
             "#7201a8"
            ],
            [
             0.3333333333333333,
             "#9c179e"
            ],
            [
             0.4444444444444444,
             "#bd3786"
            ],
            [
             0.5555555555555556,
             "#d8576b"
            ],
            [
             0.6666666666666666,
             "#ed7953"
            ],
            [
             0.7777777777777778,
             "#fb9f3a"
            ],
            [
             0.8888888888888888,
             "#fdca26"
            ],
            [
             1,
             "#f0f921"
            ]
           ],
           "sequentialminus": [
            [
             0,
             "#0d0887"
            ],
            [
             0.1111111111111111,
             "#46039f"
            ],
            [
             0.2222222222222222,
             "#7201a8"
            ],
            [
             0.3333333333333333,
             "#9c179e"
            ],
            [
             0.4444444444444444,
             "#bd3786"
            ],
            [
             0.5555555555555556,
             "#d8576b"
            ],
            [
             0.6666666666666666,
             "#ed7953"
            ],
            [
             0.7777777777777778,
             "#fb9f3a"
            ],
            [
             0.8888888888888888,
             "#fdca26"
            ],
            [
             1,
             "#f0f921"
            ]
           ]
          },
          "colorway": [
           "#636efa",
           "#EF553B",
           "#00cc96",
           "#ab63fa",
           "#FFA15A",
           "#19d3f3",
           "#FF6692",
           "#B6E880",
           "#FF97FF",
           "#FECB52"
          ],
          "font": {
           "color": "#2a3f5f"
          },
          "geo": {
           "bgcolor": "white",
           "lakecolor": "white",
           "landcolor": "#E5ECF6",
           "showlakes": true,
           "showland": true,
           "subunitcolor": "white"
          },
          "hoverlabel": {
           "align": "left"
          },
          "hovermode": "closest",
          "mapbox": {
           "style": "light"
          },
          "paper_bgcolor": "white",
          "plot_bgcolor": "#E5ECF6",
          "polar": {
           "angularaxis": {
            "gridcolor": "white",
            "linecolor": "white",
            "ticks": ""
           },
           "bgcolor": "#E5ECF6",
           "radialaxis": {
            "gridcolor": "white",
            "linecolor": "white",
            "ticks": ""
           }
          },
          "scene": {
           "xaxis": {
            "backgroundcolor": "#E5ECF6",
            "gridcolor": "white",
            "gridwidth": 2,
            "linecolor": "white",
            "showbackground": true,
            "ticks": "",
            "zerolinecolor": "white"
           },
           "yaxis": {
            "backgroundcolor": "#E5ECF6",
            "gridcolor": "white",
            "gridwidth": 2,
            "linecolor": "white",
            "showbackground": true,
            "ticks": "",
            "zerolinecolor": "white"
           },
           "zaxis": {
            "backgroundcolor": "#E5ECF6",
            "gridcolor": "white",
            "gridwidth": 2,
            "linecolor": "white",
            "showbackground": true,
            "ticks": "",
            "zerolinecolor": "white"
           }
          },
          "shapedefaults": {
           "line": {
            "color": "#2a3f5f"
           }
          },
          "ternary": {
           "aaxis": {
            "gridcolor": "white",
            "linecolor": "white",
            "ticks": ""
           },
           "baxis": {
            "gridcolor": "white",
            "linecolor": "white",
            "ticks": ""
           },
           "bgcolor": "#E5ECF6",
           "caxis": {
            "gridcolor": "white",
            "linecolor": "white",
            "ticks": ""
           }
          },
          "title": {
           "x": 0.05
          },
          "xaxis": {
           "automargin": true,
           "gridcolor": "white",
           "linecolor": "white",
           "ticks": "",
           "title": {
            "standoff": 15
           },
           "zerolinecolor": "white",
           "zerolinewidth": 2
          },
          "yaxis": {
           "automargin": true,
           "gridcolor": "white",
           "linecolor": "white",
           "ticks": "",
           "title": {
            "standoff": 15
           },
           "zerolinecolor": "white",
           "zerolinewidth": 2
          }
         }
        },
        "title": {
         "text": "Total de consumo de alimentos relacionados con la diabetes"
        },
        "xaxis": {
         "anchor": "y",
         "domain": [
          0,
          1
         ],
         "title": {
          "text": "index"
         }
        },
        "yaxis": {
         "anchor": "x",
         "domain": [
          0,
          1
         ],
         "title": {
          "text": "value"
         }
        }
       }
      }
     },
     "metadata": {},
     "output_type": "display_data"
    }
   ],
   "source": [
    "fig = px.line(df_diabetes, title='Total de consumo de alimentos relacionados con la diabetes')\n",
    "fig.show()"
   ]
  },
  {
   "cell_type": "markdown",
   "metadata": {},
   "source": [
    "## 1.3. Normalizar datos con la población de cada comunidad"
   ]
  },
  {
   "cell_type": "code",
   "execution_count": 739,
   "metadata": {},
   "outputs": [],
   "source": [
    "# Dividimos el DF para cada año\n",
    "df_diabetes_2017 = df_diabetes['2017':'2017']\n",
    "df_diabetes_2018 = df_diabetes['2018':'2018']\n",
    "df_diabetes_2019 = df_diabetes['2019':'2019']"
   ]
  },
  {
   "cell_type": "code",
   "execution_count": 746,
   "metadata": {},
   "outputs": [],
   "source": [
    "# Usamos la función apply para dividir los datos por la población de cada comunidad. Multiplicamos por 100 para que nos den mejores valores\n",
    "df_diabetes_2017_normalizado = df_diabetes_2017.apply(lambda x: x / df_poblacion['2017'][x.name] * 100)\n",
    "df_diabetes_2018_normalizado = df_diabetes_2018.apply(lambda x: x / df_poblacion['2018'][x.name] * 100)\n",
    "df_diabetes_2019_normalizado = df_diabetes_2019.apply(lambda x: x / df_poblacion['2019'][x.name] * 100)"
   ]
  },
  {
   "cell_type": "code",
   "execution_count": 756,
   "metadata": {},
   "outputs": [],
   "source": [
    "# Unimos el DF con los valores ya normalizados\n",
    "df_diabetes_normalizado = pd.concat([df_diabetes_2017_normalizado, df_diabetes_2018_normalizado, df_diabetes_2019_normalizado])"
   ]
  },
  {
   "cell_type": "code",
   "execution_count": 764,
   "metadata": {},
   "outputs": [
    {
     "data": {
      "application/vnd.plotly.v1+json": {
       "config": {
        "plotlyServerURL": "https://plot.ly"
       },
       "data": [
        {
         "hovertemplate": "COMUNIDAD=Andalucia<br>Tiempo=%{x}<br>Consumo / Población * 100=%{y}<extra></extra>",
         "legendgroup": "Andalucia",
         "line": {
          "color": "#636efa",
          "dash": "solid"
         },
         "marker": {
          "symbol": "circle"
         },
         "mode": "lines",
         "name": "Andalucia",
         "orientation": "v",
         "showlegend": true,
         "type": "scatter",
         "x": [
          "2017-01-31T00:00:00",
          "2017-02-28T00:00:00",
          "2017-03-31T00:00:00",
          "2017-04-30T00:00:00",
          "2017-05-31T00:00:00",
          "2017-06-30T00:00:00",
          "2017-07-31T00:00:00",
          "2017-08-31T00:00:00",
          "2017-09-30T00:00:00",
          "2017-10-31T00:00:00",
          "2017-11-30T00:00:00",
          "2017-12-31T00:00:00",
          "2018-01-31T00:00:00",
          "2018-02-28T00:00:00",
          "2018-03-31T00:00:00",
          "2018-04-30T00:00:00",
          "2018-05-31T00:00:00",
          "2018-06-30T00:00:00",
          "2018-07-31T00:00:00",
          "2018-08-31T00:00:00",
          "2018-09-30T00:00:00",
          "2018-10-31T00:00:00",
          "2018-11-30T00:00:00",
          "2018-12-31T00:00:00",
          "2019-01-31T00:00:00",
          "2019-02-28T00:00:00",
          "2019-03-31T00:00:00",
          "2019-04-30T00:00:00",
          "2019-05-31T00:00:00",
          "2019-06-30T00:00:00",
          "2019-07-31T00:00:00",
          "2019-08-31T00:00:00",
          "2019-09-30T00:00:00",
          "2019-10-31T00:00:00"
         ],
         "xaxis": "x",
         "y": [
          2.07339930929304,
          1.7214993878150127,
          1.7398865369423206,
          1.8331633615041851,
          2.2734241308285856,
          2.028745724848505,
          2.7429049788658943,
          2.167980696482741,
          1.9001622946554937,
          2.352409240293944,
          1.903026198653432,
          2.414197798998069,
          2.049751395685897,
          1.7409528496227762,
          1.7413830529239511,
          2.262942356812789,
          1.8387407912401208,
          1.9875650135346468,
          2.7461115918977224,
          2.196507612702053,
          1.9036058359755395,
          2.3422106844037174,
          1.9075953841940898,
          2.418677860142302,
          1.7304741723554353,
          1.7426690942972864,
          1.7838965848371333,
          2.279384472037879,
          1.848061619350054,
          1.9540572885964744,
          2.7027351252163,
          2.287794976135694,
          2.465383088668733,
          1.891551583981441
         ],
         "yaxis": "y"
        },
        {
         "hovertemplate": "COMUNIDAD=Aragon<br>Tiempo=%{x}<br>Consumo / Población * 100=%{y}<extra></extra>",
         "legendgroup": "Aragon",
         "line": {
          "color": "#EF553B",
          "dash": "solid"
         },
         "marker": {
          "symbol": "circle"
         },
         "mode": "lines",
         "name": "Aragon",
         "orientation": "v",
         "showlegend": true,
         "type": "scatter",
         "x": [
          "2017-01-31T00:00:00",
          "2017-02-28T00:00:00",
          "2017-03-31T00:00:00",
          "2017-04-30T00:00:00",
          "2017-05-31T00:00:00",
          "2017-06-30T00:00:00",
          "2017-07-31T00:00:00",
          "2017-08-31T00:00:00",
          "2017-09-30T00:00:00",
          "2017-10-31T00:00:00",
          "2017-11-30T00:00:00",
          "2017-12-31T00:00:00",
          "2018-01-31T00:00:00",
          "2018-02-28T00:00:00",
          "2018-03-31T00:00:00",
          "2018-04-30T00:00:00",
          "2018-05-31T00:00:00",
          "2018-06-30T00:00:00",
          "2018-07-31T00:00:00",
          "2018-08-31T00:00:00",
          "2018-09-30T00:00:00",
          "2018-10-31T00:00:00",
          "2018-11-30T00:00:00",
          "2018-12-31T00:00:00",
          "2019-01-31T00:00:00",
          "2019-02-28T00:00:00",
          "2019-03-31T00:00:00",
          "2019-04-30T00:00:00",
          "2019-05-31T00:00:00",
          "2019-06-30T00:00:00",
          "2019-07-31T00:00:00",
          "2019-08-31T00:00:00",
          "2019-09-30T00:00:00",
          "2019-10-31T00:00:00"
         ],
         "xaxis": "x",
         "y": [
          2.048255205348615,
          1.7276775549188157,
          1.7317004775549187,
          1.8089574021012416,
          2.255265711556829,
          1.9091102196752627,
          2.413135434574976,
          1.8964217765042983,
          1.7653516714422157,
          2.340783190066858,
          1.9097405921680992,
          2.4460126074498567,
          2.0324521214492237,
          1.7566537890226233,
          1.7635589671803464,
          2.2415314717802324,
          1.8078355471878038,
          1.876237843157631,
          2.435229474726605,
          1.913865982847467,
          1.8445628121351416,
          2.341093794890917,
          1.9109578155277491,
          2.4239406507692967,
          1.712350042560739,
          1.7536949770748076,
          1.8141986870220446,
          2.3008676630099045,
          1.8356943236935597,
          1.9059017305507278,
          2.5065993779992435,
          2.015154351845044,
          2.3663475306054544,
          1.8595253056376493
         ],
         "yaxis": "y"
        },
        {
         "hovertemplate": "COMUNIDAD=Asturias<br>Tiempo=%{x}<br>Consumo / Población * 100=%{y}<extra></extra>",
         "legendgroup": "Asturias",
         "line": {
          "color": "#00cc96",
          "dash": "solid"
         },
         "marker": {
          "symbol": "circle"
         },
         "mode": "lines",
         "name": "Asturias",
         "orientation": "v",
         "showlegend": true,
         "type": "scatter",
         "x": [
          "2017-01-31T00:00:00",
          "2017-02-28T00:00:00",
          "2017-03-31T00:00:00",
          "2017-04-30T00:00:00",
          "2017-05-31T00:00:00",
          "2017-06-30T00:00:00",
          "2017-07-31T00:00:00",
          "2017-08-31T00:00:00",
          "2017-09-30T00:00:00",
          "2017-10-31T00:00:00",
          "2017-11-30T00:00:00",
          "2017-12-31T00:00:00",
          "2018-01-31T00:00:00",
          "2018-02-28T00:00:00",
          "2018-03-31T00:00:00",
          "2018-04-30T00:00:00",
          "2018-05-31T00:00:00",
          "2018-06-30T00:00:00",
          "2018-07-31T00:00:00",
          "2018-08-31T00:00:00",
          "2018-09-30T00:00:00",
          "2018-10-31T00:00:00",
          "2018-11-30T00:00:00",
          "2018-12-31T00:00:00",
          "2019-01-31T00:00:00",
          "2019-02-28T00:00:00",
          "2019-03-31T00:00:00",
          "2019-04-30T00:00:00",
          "2019-05-31T00:00:00",
          "2019-06-30T00:00:00",
          "2019-07-31T00:00:00",
          "2019-08-31T00:00:00",
          "2019-09-30T00:00:00",
          "2019-10-31T00:00:00"
         ],
         "xaxis": "x",
         "y": [
          2.1907890160006183,
          1.7987265208317227,
          1.818183311432326,
          1.874562301924712,
          2.228732511401407,
          1.8698220221071347,
          2.4670016232511403,
          1.9466249903377908,
          1.7798513952230037,
          2.2892681842776534,
          1.9625859936615908,
          2.4334351086032315,
          2.1574927740886407,
          1.7989980977277769,
          1.8472113622836603,
          2.2845248793088024,
          1.8361760438183932,
          1.8928094887983786,
          2.492393828702137,
          2.0456681488051474,
          1.8755558019302812,
          2.3584830059791257,
          2.0138624684413426,
          2.4888567305036546,
          1.8577698474775128,
          1.840101681658193,
          1.88847379741885,
          2.3747604614782953,
          1.8919035979663668,
          1.9129536566288619,
          2.4861615174032066,
          2.1364313648807194,
          2.389932538130622,
          1.905840829096598
         ],
         "yaxis": "y"
        },
        {
         "hovertemplate": "COMUNIDAD=Baleares<br>Tiempo=%{x}<br>Consumo / Población * 100=%{y}<extra></extra>",
         "legendgroup": "Baleares",
         "line": {
          "color": "#ab63fa",
          "dash": "solid"
         },
         "marker": {
          "symbol": "circle"
         },
         "mode": "lines",
         "name": "Baleares",
         "orientation": "v",
         "showlegend": true,
         "type": "scatter",
         "x": [
          "2017-01-31T00:00:00",
          "2017-02-28T00:00:00",
          "2017-03-31T00:00:00",
          "2017-04-30T00:00:00",
          "2017-05-31T00:00:00",
          "2017-06-30T00:00:00",
          "2017-07-31T00:00:00",
          "2017-08-31T00:00:00",
          "2017-09-30T00:00:00",
          "2017-10-31T00:00:00",
          "2017-11-30T00:00:00",
          "2017-12-31T00:00:00",
          "2018-01-31T00:00:00",
          "2018-02-28T00:00:00",
          "2018-03-31T00:00:00",
          "2018-04-30T00:00:00",
          "2018-05-31T00:00:00",
          "2018-06-30T00:00:00",
          "2018-07-31T00:00:00",
          "2018-08-31T00:00:00",
          "2018-09-30T00:00:00",
          "2018-10-31T00:00:00",
          "2018-11-30T00:00:00",
          "2018-12-31T00:00:00",
          "2019-01-31T00:00:00",
          "2019-02-28T00:00:00",
          "2019-03-31T00:00:00",
          "2019-04-30T00:00:00",
          "2019-05-31T00:00:00",
          "2019-06-30T00:00:00",
          "2019-07-31T00:00:00",
          "2019-08-31T00:00:00",
          "2019-09-30T00:00:00",
          "2019-10-31T00:00:00"
         ],
         "xaxis": "x",
         "y": [
          2.460045215094279,
          2.0834481034481214,
          2.1960942617332093,
          2.4297781628836583,
          3.1782349267338055,
          2.9599067741100127,
          4.32609527427892,
          3.321090789507876,
          2.735345640990718,
          3.1872089491119615,
          2.3729985421133892,
          2.7649155599601793,
          2.4909939516771957,
          2.176897497404571,
          2.32891431365532,
          3.024364252888632,
          2.618953891725455,
          2.9638827964723427,
          4.324384272234762,
          3.3198648605555103,
          2.8156935729040806,
          3.1841080052581785,
          2.3214052872333264,
          2.697373922409975,
          2.074064343256834,
          2.1148147825935655,
          2.204851843474327,
          2.981861917770083,
          2.4688723400553303,
          2.7843222034694555,
          4.0868546969881505,
          3.363260139543786,
          3.53126598576723,
          2.586762479773111
         ],
         "yaxis": "y"
        },
        {
         "hovertemplate": "COMUNIDAD=C_Valenciana<br>Tiempo=%{x}<br>Consumo / Población * 100=%{y}<extra></extra>",
         "legendgroup": "C_Valenciana",
         "line": {
          "color": "#FFA15A",
          "dash": "solid"
         },
         "marker": {
          "symbol": "circle"
         },
         "mode": "lines",
         "name": "C_Valenciana",
         "orientation": "v",
         "showlegend": true,
         "type": "scatter",
         "x": [
          "2017-01-31T00:00:00",
          "2017-02-28T00:00:00",
          "2017-03-31T00:00:00",
          "2017-04-30T00:00:00",
          "2017-05-31T00:00:00",
          "2017-06-30T00:00:00",
          "2017-07-31T00:00:00",
          "2017-08-31T00:00:00",
          "2017-09-30T00:00:00",
          "2017-10-31T00:00:00",
          "2017-11-30T00:00:00",
          "2017-12-31T00:00:00",
          "2018-01-31T00:00:00",
          "2018-02-28T00:00:00",
          "2018-03-31T00:00:00",
          "2018-04-30T00:00:00",
          "2018-05-31T00:00:00",
          "2018-06-30T00:00:00",
          "2018-07-31T00:00:00",
          "2018-08-31T00:00:00",
          "2018-09-30T00:00:00",
          "2018-10-31T00:00:00",
          "2018-11-30T00:00:00",
          "2018-12-31T00:00:00",
          "2019-01-31T00:00:00",
          "2019-02-28T00:00:00",
          "2019-03-31T00:00:00",
          "2019-04-30T00:00:00",
          "2019-05-31T00:00:00",
          "2019-06-30T00:00:00",
          "2019-07-31T00:00:00",
          "2019-08-31T00:00:00",
          "2019-09-30T00:00:00",
          "2019-10-31T00:00:00"
         ],
         "xaxis": "x",
         "y": [
          2.2399991581518925,
          1.854717253373413,
          1.9110251544619266,
          2.0748941264702747,
          2.4498988062148626,
          2.3057126881687355,
          3.391402302414101,
          2.588819730976914,
          2.1125907086276685,
          2.5612538599039283,
          2.0501423755375128,
          2.4697030805772084,
          2.240642117386959,
          1.909018126185229,
          2.090773964518022,
          2.480833764630962,
          2.048189224858941,
          2.3276231474767926,
          3.4462843566587282,
          2.6590321781943844,
          2.1745579862453495,
          2.586654963038683,
          2.041338895578563,
          2.438979930910451,
          1.9191653331718552,
          1.9002873633854798,
          2.0021098096255043,
          2.6193213555621773,
          2.0292729340623037,
          2.248262859456542,
          3.3095380702026813,
          2.7978192038841123,
          2.81620294621914,
          2.102953393731805
         ],
         "yaxis": "y"
        },
        {
         "hovertemplate": "COMUNIDAD=Canarias<br>Tiempo=%{x}<br>Consumo / Población * 100=%{y}<extra></extra>",
         "legendgroup": "Canarias",
         "line": {
          "color": "#19d3f3",
          "dash": "solid"
         },
         "marker": {
          "symbol": "circle"
         },
         "mode": "lines",
         "name": "Canarias",
         "orientation": "v",
         "showlegend": true,
         "type": "scatter",
         "x": [
          "2017-01-31T00:00:00",
          "2017-02-28T00:00:00",
          "2017-03-31T00:00:00",
          "2017-04-30T00:00:00",
          "2017-05-31T00:00:00",
          "2017-06-30T00:00:00",
          "2017-07-31T00:00:00",
          "2017-08-31T00:00:00",
          "2017-09-30T00:00:00",
          "2017-10-31T00:00:00",
          "2017-11-30T00:00:00",
          "2017-12-31T00:00:00",
          "2018-01-31T00:00:00",
          "2018-02-28T00:00:00",
          "2018-03-31T00:00:00",
          "2018-04-30T00:00:00",
          "2018-05-31T00:00:00",
          "2018-06-30T00:00:00",
          "2018-07-31T00:00:00",
          "2018-08-31T00:00:00",
          "2018-09-30T00:00:00",
          "2018-10-31T00:00:00",
          "2018-11-30T00:00:00",
          "2018-12-31T00:00:00",
          "2019-01-31T00:00:00",
          "2019-02-28T00:00:00",
          "2019-03-31T00:00:00",
          "2019-04-30T00:00:00",
          "2019-05-31T00:00:00",
          "2019-06-30T00:00:00",
          "2019-07-31T00:00:00",
          "2019-08-31T00:00:00",
          "2019-09-30T00:00:00",
          "2019-10-31T00:00:00"
         ],
         "xaxis": "x",
         "y": [
          3.072400493140574,
          2.5704288321211166,
          2.494888101774044,
          2.5911757437073106,
          3.0453754789217506,
          2.585348279344497,
          3.46760740963161,
          2.7941783227812826,
          2.6383978908231547,
          3.458246941233449,
          2.823143453340676,
          3.27942371429344,
          3.078396473162146,
          2.6631865149211467,
          2.6204372357750327,
          3.217267593652256,
          2.4625233528459334,
          2.589830261528375,
          3.4761099504860913,
          2.7514514601550513,
          2.65405358405967,
          3.3846058039606426,
          2.751031755170526,
          3.186165245325318,
          2.4940672586327874,
          2.537804827646096,
          2.669494457341428,
          3.181298873543053,
          2.4374263080195915,
          2.543747088891046,
          3.3667604877706725,
          2.7718558978428884,
          3.295019617913902,
          2.652178960698694
         ],
         "yaxis": "y"
        },
        {
         "hovertemplate": "COMUNIDAD=Cantabria<br>Tiempo=%{x}<br>Consumo / Población * 100=%{y}<extra></extra>",
         "legendgroup": "Cantabria",
         "line": {
          "color": "#FF6692",
          "dash": "solid"
         },
         "marker": {
          "symbol": "circle"
         },
         "mode": "lines",
         "name": "Cantabria",
         "orientation": "v",
         "showlegend": true,
         "type": "scatter",
         "x": [
          "2017-01-31T00:00:00",
          "2017-02-28T00:00:00",
          "2017-03-31T00:00:00",
          "2017-04-30T00:00:00",
          "2017-05-31T00:00:00",
          "2017-06-30T00:00:00",
          "2017-07-31T00:00:00",
          "2017-08-31T00:00:00",
          "2017-09-30T00:00:00",
          "2017-10-31T00:00:00",
          "2017-11-30T00:00:00",
          "2017-12-31T00:00:00",
          "2018-01-31T00:00:00",
          "2018-02-28T00:00:00",
          "2018-03-31T00:00:00",
          "2018-04-30T00:00:00",
          "2018-05-31T00:00:00",
          "2018-06-30T00:00:00",
          "2018-07-31T00:00:00",
          "2018-08-31T00:00:00",
          "2018-09-30T00:00:00",
          "2018-10-31T00:00:00",
          "2018-11-30T00:00:00",
          "2018-12-31T00:00:00",
          "2019-01-31T00:00:00",
          "2019-02-28T00:00:00",
          "2019-03-31T00:00:00",
          "2019-04-30T00:00:00",
          "2019-05-31T00:00:00",
          "2019-06-30T00:00:00",
          "2019-07-31T00:00:00",
          "2019-08-31T00:00:00",
          "2019-09-30T00:00:00",
          "2019-10-31T00:00:00"
         ],
         "xaxis": "x",
         "y": [
          2.5423637977235716,
          2.106256300674657,
          2.127407611645801,
          2.353759725656778,
          2.694174514686496,
          2.358093728189972,
          3.6219405647127756,
          2.972484684513911,
          2.225742079459585,
          2.793374059745474,
          2.3365822555769045,
          2.889013346659888,
          2.5133938496696993,
          2.097897554241515,
          2.238835011693659,
          2.8047563979049652,
          2.205296529473708,
          2.4004108722590565,
          3.689040016958821,
          3.0720370750169326,
          2.3637219097976834,
          2.8554898152281254,
          2.3405655353317396,
          2.8213188241194427,
          2.1694746660517175,
          2.09870791873036,
          2.2173770130688135,
          2.879868107207638,
          2.248570759863564,
          2.331334175446326,
          3.532678917460307,
          3.23922433821277,
          3.0991020138432366,
          2.245722605226837
         ],
         "yaxis": "y"
        },
        {
         "hovertemplate": "COMUNIDAD=Castilla_La_Mancha<br>Tiempo=%{x}<br>Consumo / Población * 100=%{y}<extra></extra>",
         "legendgroup": "Castilla_La_Mancha",
         "line": {
          "color": "#B6E880",
          "dash": "solid"
         },
         "marker": {
          "symbol": "circle"
         },
         "mode": "lines",
         "name": "Castilla_La_Mancha",
         "orientation": "v",
         "showlegend": true,
         "type": "scatter",
         "x": [
          "2017-01-31T00:00:00",
          "2017-02-28T00:00:00",
          "2017-03-31T00:00:00",
          "2017-04-30T00:00:00",
          "2017-05-31T00:00:00",
          "2017-06-30T00:00:00",
          "2017-07-31T00:00:00",
          "2017-08-31T00:00:00",
          "2017-09-30T00:00:00",
          "2017-10-31T00:00:00",
          "2017-11-30T00:00:00",
          "2017-12-31T00:00:00",
          "2018-01-31T00:00:00",
          "2018-02-28T00:00:00",
          "2018-03-31T00:00:00",
          "2018-04-30T00:00:00",
          "2018-05-31T00:00:00",
          "2018-06-30T00:00:00",
          "2018-07-31T00:00:00",
          "2018-08-31T00:00:00",
          "2018-09-30T00:00:00",
          "2018-10-31T00:00:00",
          "2018-11-30T00:00:00",
          "2018-12-31T00:00:00",
          "2019-01-31T00:00:00",
          "2019-02-28T00:00:00",
          "2019-03-31T00:00:00",
          "2019-04-30T00:00:00",
          "2019-05-31T00:00:00",
          "2019-06-30T00:00:00",
          "2019-07-31T00:00:00",
          "2019-08-31T00:00:00",
          "2019-09-30T00:00:00",
          "2019-10-31T00:00:00"
         ],
         "xaxis": "x",
         "y": [
          1.9180523155789453,
          1.5740797714374601,
          1.5827990345949923,
          1.6586560825881045,
          2.027196933859518,
          1.7914391435993184,
          2.341258757781892,
          1.8788892230734358,
          1.700887383034725,
          2.0953891229001136,
          1.7221157590110454,
          2.1562861343878033,
          1.8916976308054982,
          1.5971772349315942,
          1.6003941174468017,
          2.073419422766943,
          1.6382324513384845,
          1.7927434629937629,
          2.3935224222138567,
          1.9130588161576307,
          1.7258594429563345,
          2.0784228592066243,
          1.6922509148626388,
          2.125114034044682,
          1.5801856790152606,
          1.5721246340751935,
          1.6265552572898418,
          2.0504121527127013,
          1.674854134292375,
          1.7335516461266698,
          2.391613699496719,
          1.9444822400722526,
          2.1744947888765744,
          1.6609171400138623
         ],
         "yaxis": "y"
        },
        {
         "hovertemplate": "COMUNIDAD=Castilla_y_Leon<br>Tiempo=%{x}<br>Consumo / Población * 100=%{y}<extra></extra>",
         "legendgroup": "Castilla_y_Leon",
         "line": {
          "color": "#FF97FF",
          "dash": "solid"
         },
         "marker": {
          "symbol": "circle"
         },
         "mode": "lines",
         "name": "Castilla_y_Leon",
         "orientation": "v",
         "showlegend": true,
         "type": "scatter",
         "x": [
          "2017-01-31T00:00:00",
          "2017-02-28T00:00:00",
          "2017-03-31T00:00:00",
          "2017-04-30T00:00:00",
          "2017-05-31T00:00:00",
          "2017-06-30T00:00:00",
          "2017-07-31T00:00:00",
          "2017-08-31T00:00:00",
          "2017-09-30T00:00:00",
          "2017-10-31T00:00:00",
          "2017-11-30T00:00:00",
          "2017-12-31T00:00:00",
          "2018-01-31T00:00:00",
          "2018-02-28T00:00:00",
          "2018-03-31T00:00:00",
          "2018-04-30T00:00:00",
          "2018-05-31T00:00:00",
          "2018-06-30T00:00:00",
          "2018-07-31T00:00:00",
          "2018-08-31T00:00:00",
          "2018-09-30T00:00:00",
          "2018-10-31T00:00:00",
          "2018-11-30T00:00:00",
          "2018-12-31T00:00:00",
          "2019-01-31T00:00:00",
          "2019-02-28T00:00:00",
          "2019-03-31T00:00:00",
          "2019-04-30T00:00:00",
          "2019-05-31T00:00:00",
          "2019-06-30T00:00:00",
          "2019-07-31T00:00:00",
          "2019-08-31T00:00:00",
          "2019-09-30T00:00:00",
          "2019-10-31T00:00:00"
         ],
         "xaxis": "x",
         "y": [
          2.0081494731018745,
          1.6515748818637637,
          1.679744958469388,
          1.8008385683739105,
          2.1351792665597875,
          1.8921853029164388,
          2.5653765498488954,
          2.1376436072043834,
          1.7549831993638392,
          2.228159276049437,
          1.8938086842243036,
          2.413441580739723,
          1.9979739859968024,
          1.6878211695011216,
          1.746474710729531,
          2.1781937634797797,
          1.7609124991075742,
          1.8697614608220943,
          2.6270137690916853,
          2.2497974401078547,
          1.8299746302036721,
          2.2524377750954274,
          1.9034557215698058,
          2.4117673184556967,
          1.7055182892778142,
          1.6927671378109546,
          1.7646715131349737,
          2.2520553870979034,
          1.806712347492111,
          1.8898109143888766,
          2.6216337410212254,
          2.343312157122925,
          2.364908307731289,
          1.794512133118404
         ],
         "yaxis": "y"
        },
        {
         "hovertemplate": "COMUNIDAD=Catalunya<br>Tiempo=%{x}<br>Consumo / Población * 100=%{y}<extra></extra>",
         "legendgroup": "Catalunya",
         "line": {
          "color": "#FECB52",
          "dash": "solid"
         },
         "marker": {
          "symbol": "circle"
         },
         "mode": "lines",
         "name": "Catalunya",
         "orientation": "v",
         "showlegend": true,
         "type": "scatter",
         "x": [
          "2017-01-31T00:00:00",
          "2017-02-28T00:00:00",
          "2017-03-31T00:00:00",
          "2017-04-30T00:00:00",
          "2017-05-31T00:00:00",
          "2017-06-30T00:00:00",
          "2017-07-31T00:00:00",
          "2017-08-31T00:00:00",
          "2017-09-30T00:00:00",
          "2017-10-31T00:00:00",
          "2017-11-30T00:00:00",
          "2017-12-31T00:00:00",
          "2018-01-31T00:00:00",
          "2018-02-28T00:00:00",
          "2018-03-31T00:00:00",
          "2018-04-30T00:00:00",
          "2018-05-31T00:00:00",
          "2018-06-30T00:00:00",
          "2018-07-31T00:00:00",
          "2018-08-31T00:00:00",
          "2018-09-30T00:00:00",
          "2018-10-31T00:00:00",
          "2018-11-30T00:00:00",
          "2018-12-31T00:00:00",
          "2019-01-31T00:00:00",
          "2019-02-28T00:00:00",
          "2019-03-31T00:00:00",
          "2019-04-30T00:00:00",
          "2019-05-31T00:00:00",
          "2019-06-30T00:00:00",
          "2019-07-31T00:00:00",
          "2019-08-31T00:00:00",
          "2019-09-30T00:00:00",
          "2019-10-31T00:00:00"
         ],
         "xaxis": "x",
         "y": [
          2.1383080349875523,
          1.791590334880483,
          1.8144694891229682,
          1.9103530651166052,
          2.332146567617323,
          2.097956147769338,
          2.84719587391458,
          2.1714796389013515,
          1.89514983793971,
          2.4348466018954897,
          2.010700743664164,
          2.4694435952105858,
          2.141892996967789,
          1.85253178755708,
          1.946611903977137,
          2.350793184005663,
          1.9109960243761073,
          2.1231511835754038,
          2.9030305661859472,
          2.2232075646721445,
          1.9794908333020838,
          2.474317259128705,
          2.0141877733940436,
          2.4968065404703776,
          1.8284400297737506,
          1.8454420246359158,
          1.9140415183049548,
          2.4546895547057495,
          1.9061200484624736,
          2.107489859895818,
          2.819112736486799,
          2.287544052500405,
          2.536454148462512,
          1.9666358618915925
         ],
         "yaxis": "y"
        },
        {
         "hovertemplate": "COMUNIDAD=Ceuta_y_Melilla<br>Tiempo=%{x}<br>Consumo / Población * 100=%{y}<extra></extra>",
         "legendgroup": "Ceuta_y_Melilla",
         "line": {
          "color": "#636efa",
          "dash": "solid"
         },
         "marker": {
          "symbol": "circle"
         },
         "mode": "lines",
         "name": "Ceuta_y_Melilla",
         "orientation": "v",
         "showlegend": true,
         "type": "scatter",
         "x": [
          "2017-01-31T00:00:00",
          "2017-02-28T00:00:00",
          "2017-03-31T00:00:00",
          "2017-04-30T00:00:00",
          "2017-05-31T00:00:00",
          "2017-06-30T00:00:00",
          "2017-07-31T00:00:00",
          "2017-08-31T00:00:00",
          "2017-09-30T00:00:00",
          "2017-10-31T00:00:00",
          "2017-11-30T00:00:00",
          "2017-12-31T00:00:00",
          "2018-01-31T00:00:00",
          "2018-02-28T00:00:00",
          "2018-03-31T00:00:00",
          "2018-04-30T00:00:00",
          "2018-05-31T00:00:00",
          "2018-06-30T00:00:00",
          "2018-07-31T00:00:00",
          "2018-08-31T00:00:00",
          "2018-09-30T00:00:00",
          "2018-10-31T00:00:00",
          "2018-11-30T00:00:00",
          "2018-12-31T00:00:00",
          "2019-01-31T00:00:00",
          "2019-02-28T00:00:00",
          "2019-03-31T00:00:00",
          "2019-04-30T00:00:00",
          "2019-05-31T00:00:00",
          "2019-06-30T00:00:00",
          "2019-07-31T00:00:00",
          "2019-08-31T00:00:00",
          "2019-09-30T00:00:00",
          "2019-10-31T00:00:00"
         ],
         "xaxis": "x",
         "y": [
          0.41635735537383317,
          0.3154858281846399,
          0.38896650085632956,
          0.6386990805417381,
          0.8757825332156488,
          0.7557210411564249,
          0.8462172446647456,
          0.675413113240082,
          0.6389153548945224,
          0.8716440942488558,
          0.7906931885269379,
          1.069681258366018,
          1.255859101721002,
          1.1455505806632154,
          0.952252693437806,
          1.340440044774031,
          1.167663588452031,
          1.1254547362529732,
          1.3725863998880647,
          1.0955645725479222,
          1.2459365234830466,
          1.7634496991744786,
          1.5255818292057275,
          1.7518189450118928,
          1.465964826233184,
          1.6538268404334828,
          1.5406331745142003,
          1.8379285781016441,
          1.608072916666667,
          1.5695651158445438,
          2.1437663490284007,
          1.7522655082212255,
          2.0330133594917785,
          1.5687885369955155
         ],
         "yaxis": "y"
        },
        {
         "hovertemplate": "COMUNIDAD=Extremadura<br>Tiempo=%{x}<br>Consumo / Población * 100=%{y}<extra></extra>",
         "legendgroup": "Extremadura",
         "line": {
          "color": "#EF553B",
          "dash": "solid"
         },
         "marker": {
          "symbol": "circle"
         },
         "mode": "lines",
         "name": "Extremadura",
         "orientation": "v",
         "showlegend": true,
         "type": "scatter",
         "x": [
          "2017-01-31T00:00:00",
          "2017-02-28T00:00:00",
          "2017-03-31T00:00:00",
          "2017-04-30T00:00:00",
          "2017-05-31T00:00:00",
          "2017-06-30T00:00:00",
          "2017-07-31T00:00:00",
          "2017-08-31T00:00:00",
          "2017-09-30T00:00:00",
          "2017-10-31T00:00:00",
          "2017-11-30T00:00:00",
          "2017-12-31T00:00:00",
          "2018-01-31T00:00:00",
          "2018-02-28T00:00:00",
          "2018-03-31T00:00:00",
          "2018-04-30T00:00:00",
          "2018-05-31T00:00:00",
          "2018-06-30T00:00:00",
          "2018-07-31T00:00:00",
          "2018-08-31T00:00:00",
          "2018-09-30T00:00:00",
          "2018-10-31T00:00:00",
          "2018-11-30T00:00:00",
          "2018-12-31T00:00:00",
          "2019-01-31T00:00:00",
          "2019-02-28T00:00:00",
          "2019-03-31T00:00:00",
          "2019-04-30T00:00:00",
          "2019-05-31T00:00:00",
          "2019-06-30T00:00:00",
          "2019-07-31T00:00:00",
          "2019-08-31T00:00:00",
          "2019-09-30T00:00:00",
          "2019-10-31T00:00:00"
         ],
         "xaxis": "x",
         "y": [
          1.8595581154159566,
          1.5764751092673528,
          1.5802818727313133,
          1.8774927772427588,
          2.1531456033780283,
          1.79031594932958,
          2.3544031039336244,
          2.0304615156678274,
          1.7627194607007926,
          2.1234878509519226,
          1.698634158085784,
          2.30138343581006,
          1.8383959554947835,
          1.5725968739717928,
          1.632638090790716,
          2.0482932117148227,
          1.669939218707328,
          1.714838707272038,
          2.308410300289972,
          1.9751356883404496,
          1.6951567907552034,
          2.1277264664733524,
          1.7245090938917642,
          2.263303888753737,
          1.5382454037144917,
          1.5438386827883976,
          1.6089846493898157,
          2.1194875012878027,
          1.6752367215817028,
          1.718405746878834,
          2.2611729776812055,
          2.010419495930543,
          2.204472188140975,
          1.6910097311067616
         ],
         "yaxis": "y"
        },
        {
         "hovertemplate": "COMUNIDAD=Galicia<br>Tiempo=%{x}<br>Consumo / Población * 100=%{y}<extra></extra>",
         "legendgroup": "Galicia",
         "line": {
          "color": "#00cc96",
          "dash": "solid"
         },
         "marker": {
          "symbol": "circle"
         },
         "mode": "lines",
         "name": "Galicia",
         "orientation": "v",
         "showlegend": true,
         "type": "scatter",
         "x": [
          "2017-01-31T00:00:00",
          "2017-02-28T00:00:00",
          "2017-03-31T00:00:00",
          "2017-04-30T00:00:00",
          "2017-05-31T00:00:00",
          "2017-06-30T00:00:00",
          "2017-07-31T00:00:00",
          "2017-08-31T00:00:00",
          "2017-09-30T00:00:00",
          "2017-10-31T00:00:00",
          "2017-11-30T00:00:00",
          "2017-12-31T00:00:00",
          "2018-01-31T00:00:00",
          "2018-02-28T00:00:00",
          "2018-03-31T00:00:00",
          "2018-04-30T00:00:00",
          "2018-05-31T00:00:00",
          "2018-06-30T00:00:00",
          "2018-07-31T00:00:00",
          "2018-08-31T00:00:00",
          "2018-09-30T00:00:00",
          "2018-10-31T00:00:00",
          "2018-11-30T00:00:00",
          "2018-12-31T00:00:00",
          "2019-01-31T00:00:00",
          "2019-02-28T00:00:00",
          "2019-03-31T00:00:00",
          "2019-04-30T00:00:00",
          "2019-05-31T00:00:00",
          "2019-06-30T00:00:00",
          "2019-07-31T00:00:00",
          "2019-08-31T00:00:00",
          "2019-09-30T00:00:00",
          "2019-10-31T00:00:00"
         ],
         "xaxis": "x",
         "y": [
          2.0781098673393545,
          1.703776004407129,
          1.7269732481790498,
          1.8410221172460317,
          2.198197123772172,
          1.9104569258132014,
          2.5437676007324046,
          2.0344720509507854,
          1.7937256008202813,
          2.279680276361268,
          1.9433431339282121,
          2.481321208312549,
          2.030805298653499,
          1.7294431779780683,
          1.79985179937544,
          2.2374637409997913,
          1.8086083687456578,
          1.9276807601611257,
          2.5973118094504177,
          2.09928849635217,
          1.877341035028128,
          2.300595208352534,
          1.9519724859100216,
          2.457603110288432,
          1.7534801828042907,
          1.7492290236077137,
          1.779863967350979,
          2.3292818408156477,
          1.828476320976596,
          1.9265634104698688,
          2.5431096659046735,
          2.1741356451697147,
          2.4117882614514765,
          1.847010871276485
         ],
         "yaxis": "y"
        },
        {
         "hovertemplate": "COMUNIDAD=La_Rioja<br>Tiempo=%{x}<br>Consumo / Población * 100=%{y}<extra></extra>",
         "legendgroup": "La_Rioja",
         "line": {
          "color": "#ab63fa",
          "dash": "solid"
         },
         "marker": {
          "symbol": "circle"
         },
         "mode": "lines",
         "name": "La_Rioja",
         "orientation": "v",
         "showlegend": true,
         "type": "scatter",
         "x": [
          "2017-01-31T00:00:00",
          "2017-02-28T00:00:00",
          "2017-03-31T00:00:00",
          "2017-04-30T00:00:00",
          "2017-05-31T00:00:00",
          "2017-06-30T00:00:00",
          "2017-07-31T00:00:00",
          "2017-08-31T00:00:00",
          "2017-09-30T00:00:00",
          "2017-10-31T00:00:00",
          "2017-11-30T00:00:00",
          "2017-12-31T00:00:00",
          "2018-01-31T00:00:00",
          "2018-02-28T00:00:00",
          "2018-03-31T00:00:00",
          "2018-04-30T00:00:00",
          "2018-05-31T00:00:00",
          "2018-06-30T00:00:00",
          "2018-07-31T00:00:00",
          "2018-08-31T00:00:00",
          "2018-09-30T00:00:00",
          "2018-10-31T00:00:00",
          "2018-11-30T00:00:00",
          "2018-12-31T00:00:00",
          "2019-01-31T00:00:00",
          "2019-02-28T00:00:00",
          "2019-03-31T00:00:00",
          "2019-04-30T00:00:00",
          "2019-05-31T00:00:00",
          "2019-06-30T00:00:00",
          "2019-07-31T00:00:00",
          "2019-08-31T00:00:00",
          "2019-09-30T00:00:00",
          "2019-10-31T00:00:00"
         ],
         "xaxis": "x",
         "y": [
          2.106769272720931,
          1.6909452376649197,
          1.7409545914306819,
          1.9040874370998888,
          2.2820366477371814,
          1.935563651583323,
          2.602702762690207,
          2.0756957457805005,
          1.8443913869256547,
          2.3263259359314605,
          1.9691103776067678,
          2.4939866383834155,
          2.1053393521818324,
          1.728049417913994,
          1.8065003563791875,
          2.288115942028986,
          1.8269549378316305,
          1.9258858002692643,
          2.655335392413083,
          2.139342678387582,
          1.9051968005068503,
          2.3645553179694305,
          1.9519885958660017,
          2.522350518729706,
          1.7867095120550003,
          1.756876621695844,
          1.825816450861432,
          2.343051408152829,
          1.8747908762050267,
          1.9534624587276432,
          2.774525091698811,
          2.2444302047361413,
          2.4789013819531687,
          1.925716071439845
         ],
         "yaxis": "y"
        },
        {
         "hovertemplate": "COMUNIDAD=Madrid<br>Tiempo=%{x}<br>Consumo / Población * 100=%{y}<extra></extra>",
         "legendgroup": "Madrid",
         "line": {
          "color": "#FFA15A",
          "dash": "solid"
         },
         "marker": {
          "symbol": "circle"
         },
         "mode": "lines",
         "name": "Madrid",
         "orientation": "v",
         "showlegend": true,
         "type": "scatter",
         "x": [
          "2017-01-31T00:00:00",
          "2017-02-28T00:00:00",
          "2017-03-31T00:00:00",
          "2017-04-30T00:00:00",
          "2017-05-31T00:00:00",
          "2017-06-30T00:00:00",
          "2017-07-31T00:00:00",
          "2017-08-31T00:00:00",
          "2017-09-30T00:00:00",
          "2017-10-31T00:00:00",
          "2017-11-30T00:00:00",
          "2017-12-31T00:00:00",
          "2018-01-31T00:00:00",
          "2018-02-28T00:00:00",
          "2018-03-31T00:00:00",
          "2018-04-30T00:00:00",
          "2018-05-31T00:00:00",
          "2018-06-30T00:00:00",
          "2018-07-31T00:00:00",
          "2018-08-31T00:00:00",
          "2018-09-30T00:00:00",
          "2018-10-31T00:00:00",
          "2018-11-30T00:00:00",
          "2018-12-31T00:00:00",
          "2019-01-31T00:00:00",
          "2019-02-28T00:00:00",
          "2019-03-31T00:00:00",
          "2019-04-30T00:00:00",
          "2019-05-31T00:00:00",
          "2019-06-30T00:00:00",
          "2019-07-31T00:00:00",
          "2019-08-31T00:00:00",
          "2019-09-30T00:00:00",
          "2019-10-31T00:00:00"
         ],
         "xaxis": "x",
         "y": [
          2.3688219051436072,
          1.9260311372784296,
          1.8970384117000534,
          1.849476978059941,
          2.3984454719583774,
          2.0156775957157502,
          2.2150215823004236,
          1.624020928254065,
          1.9256620067912633,
          2.5384278360654933,
          2.129245000602411,
          2.5696642357124064,
          2.305006674440973,
          1.9335915546164768,
          1.8381010626354592,
          2.448460865246526,
          1.9816805179749288,
          2.0285806844216983,
          2.3080840166255223,
          1.6831859270768867,
          1.993767025297203,
          2.5340317439179434,
          2.1218851278617965,
          2.568349361568932,
          1.9239105476878602,
          1.9281968018100089,
          1.9634088874228357,
          2.3778722975108484,
          1.9435308793086525,
          2.0468001742055173,
          2.4266690518375467,
          1.6369713392304284,
          2.399556442257504,
          2.0039014652292813
         ],
         "yaxis": "y"
        },
        {
         "hovertemplate": "COMUNIDAD=Murcia<br>Tiempo=%{x}<br>Consumo / Población * 100=%{y}<extra></extra>",
         "legendgroup": "Murcia",
         "line": {
          "color": "#19d3f3",
          "dash": "solid"
         },
         "marker": {
          "symbol": "circle"
         },
         "mode": "lines",
         "name": "Murcia",
         "orientation": "v",
         "showlegend": true,
         "type": "scatter",
         "x": [
          "2017-01-31T00:00:00",
          "2017-02-28T00:00:00",
          "2017-03-31T00:00:00",
          "2017-04-30T00:00:00",
          "2017-05-31T00:00:00",
          "2017-06-30T00:00:00",
          "2017-07-31T00:00:00",
          "2017-08-31T00:00:00",
          "2017-09-30T00:00:00",
          "2017-10-31T00:00:00",
          "2017-11-30T00:00:00",
          "2017-12-31T00:00:00",
          "2018-01-31T00:00:00",
          "2018-02-28T00:00:00",
          "2018-03-31T00:00:00",
          "2018-04-30T00:00:00",
          "2018-05-31T00:00:00",
          "2018-06-30T00:00:00",
          "2018-07-31T00:00:00",
          "2018-08-31T00:00:00",
          "2018-09-30T00:00:00",
          "2018-10-31T00:00:00",
          "2018-11-30T00:00:00",
          "2018-12-31T00:00:00",
          "2019-01-31T00:00:00",
          "2019-02-28T00:00:00",
          "2019-03-31T00:00:00",
          "2019-04-30T00:00:00",
          "2019-05-31T00:00:00",
          "2019-06-30T00:00:00",
          "2019-07-31T00:00:00",
          "2019-08-31T00:00:00",
          "2019-09-30T00:00:00",
          "2019-10-31T00:00:00"
         ],
         "xaxis": "x",
         "y": [
          1.8171543652097264,
          1.495416157407502,
          1.5148213971146856,
          1.657236445204394,
          1.9727227528493005,
          1.8178379117347594,
          2.6934705323433135,
          2.067776528576666,
          1.6845347768747712,
          2.0387234207524725,
          1.6461085798351736,
          2.0186659212268743,
          1.8115723340202865,
          1.5379784634385048,
          1.5873112710169501,
          2.029883483969323,
          1.6365054253981544,
          1.8123792279925248,
          2.656567528503377,
          2.073313047130589,
          1.7015330985472525,
          2.044673383794079,
          1.6310580456392216,
          2.0065545762656836,
          1.5254053489595676,
          1.5047038017321128,
          1.549406318235917,
          2.005236635968453,
          1.6133484347659612,
          1.732187204213407,
          2.614683867305532,
          2.2331290355834197,
          2.21895604653062,
          1.6855206982002786
         ],
         "yaxis": "y"
        },
        {
         "hovertemplate": "COMUNIDAD=Navarra<br>Tiempo=%{x}<br>Consumo / Población * 100=%{y}<extra></extra>",
         "legendgroup": "Navarra",
         "line": {
          "color": "#FF6692",
          "dash": "solid"
         },
         "marker": {
          "symbol": "circle"
         },
         "mode": "lines",
         "name": "Navarra",
         "orientation": "v",
         "showlegend": true,
         "type": "scatter",
         "x": [
          "2017-01-31T00:00:00",
          "2017-02-28T00:00:00",
          "2017-03-31T00:00:00",
          "2017-04-30T00:00:00",
          "2017-05-31T00:00:00",
          "2017-06-30T00:00:00",
          "2017-07-31T00:00:00",
          "2017-08-31T00:00:00",
          "2017-09-30T00:00:00",
          "2017-10-31T00:00:00",
          "2017-11-30T00:00:00",
          "2017-12-31T00:00:00",
          "2018-01-31T00:00:00",
          "2018-02-28T00:00:00",
          "2018-03-31T00:00:00",
          "2018-04-30T00:00:00",
          "2018-05-31T00:00:00",
          "2018-06-30T00:00:00",
          "2018-07-31T00:00:00",
          "2018-08-31T00:00:00",
          "2018-09-30T00:00:00",
          "2018-10-31T00:00:00",
          "2018-11-30T00:00:00",
          "2018-12-31T00:00:00",
          "2019-01-31T00:00:00",
          "2019-02-28T00:00:00",
          "2019-03-31T00:00:00",
          "2019-04-30T00:00:00",
          "2019-05-31T00:00:00",
          "2019-06-30T00:00:00",
          "2019-07-31T00:00:00",
          "2019-08-31T00:00:00",
          "2019-09-30T00:00:00",
          "2019-10-31T00:00:00"
         ],
         "xaxis": "x",
         "y": [
          2.053187486979855,
          1.6728018108495508,
          1.6881306025489948,
          1.7286135372197369,
          2.1824079572908146,
          1.8270582711734766,
          2.282506832661209,
          1.7924829844193562,
          1.7264152703370779,
          2.2161717197784943,
          1.8624637379243012,
          2.280163983869012,
          2.011347316208378,
          1.6884553257334523,
          1.6919963431621148,
          2.151635230420938,
          1.7591274241221582,
          1.8037074900317192,
          2.2916853266291306,
          1.819000423130735,
          1.7834234673865037,
          2.24358431883673,
          1.8715134181859736,
          2.266163130796814,
          1.6876893493566327,
          1.6706857389172352,
          1.7139559838218077,
          2.1519135940227514,
          1.7519083969465647,
          1.7609849376503715,
          2.286831220365202,
          1.7905991006001094,
          2.228406912722748,
          1.7528667989373508
         ],
         "yaxis": "y"
        },
        {
         "hovertemplate": "COMUNIDAD=Pais_Vasco<br>Tiempo=%{x}<br>Consumo / Población * 100=%{y}<extra></extra>",
         "legendgroup": "Pais_Vasco",
         "line": {
          "color": "#B6E880",
          "dash": "solid"
         },
         "marker": {
          "symbol": "circle"
         },
         "mode": "lines",
         "name": "Pais_Vasco",
         "orientation": "v",
         "showlegend": true,
         "type": "scatter",
         "x": [
          "2017-01-31T00:00:00",
          "2017-02-28T00:00:00",
          "2017-03-31T00:00:00",
          "2017-04-30T00:00:00",
          "2017-05-31T00:00:00",
          "2017-06-30T00:00:00",
          "2017-07-31T00:00:00",
          "2017-08-31T00:00:00",
          "2017-09-30T00:00:00",
          "2017-10-31T00:00:00",
          "2017-11-30T00:00:00",
          "2017-12-31T00:00:00",
          "2018-01-31T00:00:00",
          "2018-02-28T00:00:00",
          "2018-03-31T00:00:00",
          "2018-04-30T00:00:00",
          "2018-05-31T00:00:00",
          "2018-06-30T00:00:00",
          "2018-07-31T00:00:00",
          "2018-08-31T00:00:00",
          "2018-09-30T00:00:00",
          "2018-10-31T00:00:00",
          "2018-11-30T00:00:00",
          "2018-12-31T00:00:00",
          "2019-01-31T00:00:00",
          "2019-02-28T00:00:00",
          "2019-03-31T00:00:00",
          "2019-04-30T00:00:00",
          "2019-05-31T00:00:00",
          "2019-06-30T00:00:00",
          "2019-07-31T00:00:00",
          "2019-08-31T00:00:00",
          "2019-09-30T00:00:00",
          "2019-10-31T00:00:00"
         ],
         "xaxis": "x",
         "y": [
          2.3399873664521884,
          1.8832873475839025,
          1.8818002167574077,
          1.7905155417248897,
          2.348168636898528,
          1.9049585307894874,
          2.2512435294085478,
          1.7315776712524804,
          1.8485596752831839,
          2.4254183153628865,
          2.123155214893367,
          2.6017392548759024,
          2.3252598349861398,
          1.9207635165122996,
          1.8656283877680202,
          2.375770319332378,
          1.9412201785467431,
          1.937773295111428,
          2.3510614400151337,
          1.790373100121505,
          1.9420919035527455,
          2.448083478241889,
          2.1068520222928777,
          2.5547745247120623,
          1.959403490209152,
          1.9003186917513368,
          1.931086305857116,
          2.351828265186323,
          1.9494876291797718,
          1.9715532735205024,
          2.420457057237691,
          1.7600675974374214,
          2.394270523821257,
          1.9215744713231775
         ],
         "yaxis": "y"
        }
       ],
       "layout": {
        "legend": {
         "title": {
          "text": "COMUNIDAD"
         },
         "tracegroupgap": 0
        },
        "template": {
         "data": {
          "bar": [
           {
            "error_x": {
             "color": "#2a3f5f"
            },
            "error_y": {
             "color": "#2a3f5f"
            },
            "marker": {
             "line": {
              "color": "#E5ECF6",
              "width": 0.5
             },
             "pattern": {
              "fillmode": "overlay",
              "size": 10,
              "solidity": 0.2
             }
            },
            "type": "bar"
           }
          ],
          "barpolar": [
           {
            "marker": {
             "line": {
              "color": "#E5ECF6",
              "width": 0.5
             },
             "pattern": {
              "fillmode": "overlay",
              "size": 10,
              "solidity": 0.2
             }
            },
            "type": "barpolar"
           }
          ],
          "carpet": [
           {
            "aaxis": {
             "endlinecolor": "#2a3f5f",
             "gridcolor": "white",
             "linecolor": "white",
             "minorgridcolor": "white",
             "startlinecolor": "#2a3f5f"
            },
            "baxis": {
             "endlinecolor": "#2a3f5f",
             "gridcolor": "white",
             "linecolor": "white",
             "minorgridcolor": "white",
             "startlinecolor": "#2a3f5f"
            },
            "type": "carpet"
           }
          ],
          "choropleth": [
           {
            "colorbar": {
             "outlinewidth": 0,
             "ticks": ""
            },
            "type": "choropleth"
           }
          ],
          "contour": [
           {
            "colorbar": {
             "outlinewidth": 0,
             "ticks": ""
            },
            "colorscale": [
             [
              0,
              "#0d0887"
             ],
             [
              0.1111111111111111,
              "#46039f"
             ],
             [
              0.2222222222222222,
              "#7201a8"
             ],
             [
              0.3333333333333333,
              "#9c179e"
             ],
             [
              0.4444444444444444,
              "#bd3786"
             ],
             [
              0.5555555555555556,
              "#d8576b"
             ],
             [
              0.6666666666666666,
              "#ed7953"
             ],
             [
              0.7777777777777778,
              "#fb9f3a"
             ],
             [
              0.8888888888888888,
              "#fdca26"
             ],
             [
              1,
              "#f0f921"
             ]
            ],
            "type": "contour"
           }
          ],
          "contourcarpet": [
           {
            "colorbar": {
             "outlinewidth": 0,
             "ticks": ""
            },
            "type": "contourcarpet"
           }
          ],
          "heatmap": [
           {
            "colorbar": {
             "outlinewidth": 0,
             "ticks": ""
            },
            "colorscale": [
             [
              0,
              "#0d0887"
             ],
             [
              0.1111111111111111,
              "#46039f"
             ],
             [
              0.2222222222222222,
              "#7201a8"
             ],
             [
              0.3333333333333333,
              "#9c179e"
             ],
             [
              0.4444444444444444,
              "#bd3786"
             ],
             [
              0.5555555555555556,
              "#d8576b"
             ],
             [
              0.6666666666666666,
              "#ed7953"
             ],
             [
              0.7777777777777778,
              "#fb9f3a"
             ],
             [
              0.8888888888888888,
              "#fdca26"
             ],
             [
              1,
              "#f0f921"
             ]
            ],
            "type": "heatmap"
           }
          ],
          "heatmapgl": [
           {
            "colorbar": {
             "outlinewidth": 0,
             "ticks": ""
            },
            "colorscale": [
             [
              0,
              "#0d0887"
             ],
             [
              0.1111111111111111,
              "#46039f"
             ],
             [
              0.2222222222222222,
              "#7201a8"
             ],
             [
              0.3333333333333333,
              "#9c179e"
             ],
             [
              0.4444444444444444,
              "#bd3786"
             ],
             [
              0.5555555555555556,
              "#d8576b"
             ],
             [
              0.6666666666666666,
              "#ed7953"
             ],
             [
              0.7777777777777778,
              "#fb9f3a"
             ],
             [
              0.8888888888888888,
              "#fdca26"
             ],
             [
              1,
              "#f0f921"
             ]
            ],
            "type": "heatmapgl"
           }
          ],
          "histogram": [
           {
            "marker": {
             "pattern": {
              "fillmode": "overlay",
              "size": 10,
              "solidity": 0.2
             }
            },
            "type": "histogram"
           }
          ],
          "histogram2d": [
           {
            "colorbar": {
             "outlinewidth": 0,
             "ticks": ""
            },
            "colorscale": [
             [
              0,
              "#0d0887"
             ],
             [
              0.1111111111111111,
              "#46039f"
             ],
             [
              0.2222222222222222,
              "#7201a8"
             ],
             [
              0.3333333333333333,
              "#9c179e"
             ],
             [
              0.4444444444444444,
              "#bd3786"
             ],
             [
              0.5555555555555556,
              "#d8576b"
             ],
             [
              0.6666666666666666,
              "#ed7953"
             ],
             [
              0.7777777777777778,
              "#fb9f3a"
             ],
             [
              0.8888888888888888,
              "#fdca26"
             ],
             [
              1,
              "#f0f921"
             ]
            ],
            "type": "histogram2d"
           }
          ],
          "histogram2dcontour": [
           {
            "colorbar": {
             "outlinewidth": 0,
             "ticks": ""
            },
            "colorscale": [
             [
              0,
              "#0d0887"
             ],
             [
              0.1111111111111111,
              "#46039f"
             ],
             [
              0.2222222222222222,
              "#7201a8"
             ],
             [
              0.3333333333333333,
              "#9c179e"
             ],
             [
              0.4444444444444444,
              "#bd3786"
             ],
             [
              0.5555555555555556,
              "#d8576b"
             ],
             [
              0.6666666666666666,
              "#ed7953"
             ],
             [
              0.7777777777777778,
              "#fb9f3a"
             ],
             [
              0.8888888888888888,
              "#fdca26"
             ],
             [
              1,
              "#f0f921"
             ]
            ],
            "type": "histogram2dcontour"
           }
          ],
          "mesh3d": [
           {
            "colorbar": {
             "outlinewidth": 0,
             "ticks": ""
            },
            "type": "mesh3d"
           }
          ],
          "parcoords": [
           {
            "line": {
             "colorbar": {
              "outlinewidth": 0,
              "ticks": ""
             }
            },
            "type": "parcoords"
           }
          ],
          "pie": [
           {
            "automargin": true,
            "type": "pie"
           }
          ],
          "scatter": [
           {
            "fillpattern": {
             "fillmode": "overlay",
             "size": 10,
             "solidity": 0.2
            },
            "type": "scatter"
           }
          ],
          "scatter3d": [
           {
            "line": {
             "colorbar": {
              "outlinewidth": 0,
              "ticks": ""
             }
            },
            "marker": {
             "colorbar": {
              "outlinewidth": 0,
              "ticks": ""
             }
            },
            "type": "scatter3d"
           }
          ],
          "scattercarpet": [
           {
            "marker": {
             "colorbar": {
              "outlinewidth": 0,
              "ticks": ""
             }
            },
            "type": "scattercarpet"
           }
          ],
          "scattergeo": [
           {
            "marker": {
             "colorbar": {
              "outlinewidth": 0,
              "ticks": ""
             }
            },
            "type": "scattergeo"
           }
          ],
          "scattergl": [
           {
            "marker": {
             "colorbar": {
              "outlinewidth": 0,
              "ticks": ""
             }
            },
            "type": "scattergl"
           }
          ],
          "scattermapbox": [
           {
            "marker": {
             "colorbar": {
              "outlinewidth": 0,
              "ticks": ""
             }
            },
            "type": "scattermapbox"
           }
          ],
          "scatterpolar": [
           {
            "marker": {
             "colorbar": {
              "outlinewidth": 0,
              "ticks": ""
             }
            },
            "type": "scatterpolar"
           }
          ],
          "scatterpolargl": [
           {
            "marker": {
             "colorbar": {
              "outlinewidth": 0,
              "ticks": ""
             }
            },
            "type": "scatterpolargl"
           }
          ],
          "scatterternary": [
           {
            "marker": {
             "colorbar": {
              "outlinewidth": 0,
              "ticks": ""
             }
            },
            "type": "scatterternary"
           }
          ],
          "surface": [
           {
            "colorbar": {
             "outlinewidth": 0,
             "ticks": ""
            },
            "colorscale": [
             [
              0,
              "#0d0887"
             ],
             [
              0.1111111111111111,
              "#46039f"
             ],
             [
              0.2222222222222222,
              "#7201a8"
             ],
             [
              0.3333333333333333,
              "#9c179e"
             ],
             [
              0.4444444444444444,
              "#bd3786"
             ],
             [
              0.5555555555555556,
              "#d8576b"
             ],
             [
              0.6666666666666666,
              "#ed7953"
             ],
             [
              0.7777777777777778,
              "#fb9f3a"
             ],
             [
              0.8888888888888888,
              "#fdca26"
             ],
             [
              1,
              "#f0f921"
             ]
            ],
            "type": "surface"
           }
          ],
          "table": [
           {
            "cells": {
             "fill": {
              "color": "#EBF0F8"
             },
             "line": {
              "color": "white"
             }
            },
            "header": {
             "fill": {
              "color": "#C8D4E3"
             },
             "line": {
              "color": "white"
             }
            },
            "type": "table"
           }
          ]
         },
         "layout": {
          "annotationdefaults": {
           "arrowcolor": "#2a3f5f",
           "arrowhead": 0,
           "arrowwidth": 1
          },
          "autotypenumbers": "strict",
          "coloraxis": {
           "colorbar": {
            "outlinewidth": 0,
            "ticks": ""
           }
          },
          "colorscale": {
           "diverging": [
            [
             0,
             "#8e0152"
            ],
            [
             0.1,
             "#c51b7d"
            ],
            [
             0.2,
             "#de77ae"
            ],
            [
             0.3,
             "#f1b6da"
            ],
            [
             0.4,
             "#fde0ef"
            ],
            [
             0.5,
             "#f7f7f7"
            ],
            [
             0.6,
             "#e6f5d0"
            ],
            [
             0.7,
             "#b8e186"
            ],
            [
             0.8,
             "#7fbc41"
            ],
            [
             0.9,
             "#4d9221"
            ],
            [
             1,
             "#276419"
            ]
           ],
           "sequential": [
            [
             0,
             "#0d0887"
            ],
            [
             0.1111111111111111,
             "#46039f"
            ],
            [
             0.2222222222222222,
             "#7201a8"
            ],
            [
             0.3333333333333333,
             "#9c179e"
            ],
            [
             0.4444444444444444,
             "#bd3786"
            ],
            [
             0.5555555555555556,
             "#d8576b"
            ],
            [
             0.6666666666666666,
             "#ed7953"
            ],
            [
             0.7777777777777778,
             "#fb9f3a"
            ],
            [
             0.8888888888888888,
             "#fdca26"
            ],
            [
             1,
             "#f0f921"
            ]
           ],
           "sequentialminus": [
            [
             0,
             "#0d0887"
            ],
            [
             0.1111111111111111,
             "#46039f"
            ],
            [
             0.2222222222222222,
             "#7201a8"
            ],
            [
             0.3333333333333333,
             "#9c179e"
            ],
            [
             0.4444444444444444,
             "#bd3786"
            ],
            [
             0.5555555555555556,
             "#d8576b"
            ],
            [
             0.6666666666666666,
             "#ed7953"
            ],
            [
             0.7777777777777778,
             "#fb9f3a"
            ],
            [
             0.8888888888888888,
             "#fdca26"
            ],
            [
             1,
             "#f0f921"
            ]
           ]
          },
          "colorway": [
           "#636efa",
           "#EF553B",
           "#00cc96",
           "#ab63fa",
           "#FFA15A",
           "#19d3f3",
           "#FF6692",
           "#B6E880",
           "#FF97FF",
           "#FECB52"
          ],
          "font": {
           "color": "#2a3f5f"
          },
          "geo": {
           "bgcolor": "white",
           "lakecolor": "white",
           "landcolor": "#E5ECF6",
           "showlakes": true,
           "showland": true,
           "subunitcolor": "white"
          },
          "hoverlabel": {
           "align": "left"
          },
          "hovermode": "closest",
          "mapbox": {
           "style": "light"
          },
          "paper_bgcolor": "white",
          "plot_bgcolor": "#E5ECF6",
          "polar": {
           "angularaxis": {
            "gridcolor": "white",
            "linecolor": "white",
            "ticks": ""
           },
           "bgcolor": "#E5ECF6",
           "radialaxis": {
            "gridcolor": "white",
            "linecolor": "white",
            "ticks": ""
           }
          },
          "scene": {
           "xaxis": {
            "backgroundcolor": "#E5ECF6",
            "gridcolor": "white",
            "gridwidth": 2,
            "linecolor": "white",
            "showbackground": true,
            "ticks": "",
            "zerolinecolor": "white"
           },
           "yaxis": {
            "backgroundcolor": "#E5ECF6",
            "gridcolor": "white",
            "gridwidth": 2,
            "linecolor": "white",
            "showbackground": true,
            "ticks": "",
            "zerolinecolor": "white"
           },
           "zaxis": {
            "backgroundcolor": "#E5ECF6",
            "gridcolor": "white",
            "gridwidth": 2,
            "linecolor": "white",
            "showbackground": true,
            "ticks": "",
            "zerolinecolor": "white"
           }
          },
          "shapedefaults": {
           "line": {
            "color": "#2a3f5f"
           }
          },
          "ternary": {
           "aaxis": {
            "gridcolor": "white",
            "linecolor": "white",
            "ticks": ""
           },
           "baxis": {
            "gridcolor": "white",
            "linecolor": "white",
            "ticks": ""
           },
           "bgcolor": "#E5ECF6",
           "caxis": {
            "gridcolor": "white",
            "linecolor": "white",
            "ticks": ""
           }
          },
          "title": {
           "x": 0.05
          },
          "xaxis": {
           "automargin": true,
           "gridcolor": "white",
           "linecolor": "white",
           "ticks": "",
           "title": {
            "standoff": 15
           },
           "zerolinecolor": "white",
           "zerolinewidth": 2
          },
          "yaxis": {
           "automargin": true,
           "gridcolor": "white",
           "linecolor": "white",
           "ticks": "",
           "title": {
            "standoff": 15
           },
           "zerolinecolor": "white",
           "zerolinewidth": 2
          }
         }
        },
        "title": {
         "text": "Consumo normalizado de alimentos relacionados con la diabetes por CCAA"
        },
        "xaxis": {
         "anchor": "y",
         "domain": [
          0,
          1
         ],
         "title": {
          "text": "Tiempo"
         }
        },
        "yaxis": {
         "anchor": "x",
         "domain": [
          0,
          1
         ],
         "title": {
          "text": "Consumo / Población * 100"
         }
        }
       }
      }
     },
     "metadata": {},
     "output_type": "display_data"
    }
   ],
   "source": [
    "fig = px.line(\n",
    "    df_diabetes_normalizado,\n",
    "    title='Consumo normalizado de alimentos relacionados con la diabetes por CCAA',\n",
    "    labels = {\n",
    "        'index' : 'Tiempo',\n",
    "        'value' : 'Consumo / Población * 100'\n",
    "    }\n",
    ")\n",
    "fig.show()"
   ]
  }
 ],
 "metadata": {
  "interpreter": {
   "hash": "40d3a090f54c6569ab1632332b64b2c03c39dcf918b08424e98f38b5ae0af88f"
  },
  "kernelspec": {
   "display_name": "Python 3.9.7 ('base')",
   "language": "python",
   "name": "python3"
  },
  "language_info": {
   "codemirror_mode": {
    "name": "ipython",
    "version": 3
   },
   "file_extension": ".py",
   "mimetype": "text/x-python",
   "name": "python",
   "nbconvert_exporter": "python",
   "pygments_lexer": "ipython3",
   "version": "3.9.7"
  },
  "orig_nbformat": 4
 },
 "nbformat": 4,
 "nbformat_minor": 2
}
