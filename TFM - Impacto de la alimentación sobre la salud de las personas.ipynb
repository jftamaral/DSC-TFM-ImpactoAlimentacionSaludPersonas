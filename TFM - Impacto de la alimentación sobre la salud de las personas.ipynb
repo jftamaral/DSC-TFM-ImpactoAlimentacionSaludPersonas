{
 "cells": [
  {
   "cell_type": "markdown",
   "metadata": {},
   "source": [
    "![Nuclio logo](https://nuclio.school/wp-content/uploads/2018/12/nucleoDS-newBlack.png)"
   ]
  },
  {
   "cell_type": "markdown",
   "metadata": {},
   "source": [
    "# TFM - Impacto de la alimentación sobre la salud de las personas\n",
    "\n",
    "## Tabla de Contenidos\n",
    "* [1. Introducción](#introduccion)\n",
    "    * [1.1. Importar Librerias](#librerias)\n",
    "    * [1.2. Importar datos](#data)\n",
    "        * [1.2.1. Consumo de alimentos por CC.AA.](#consumos)\n",
    "        * [1.2.2. Población por CC.AA.](#poblacion)\n",
    "        * [1.2.3. Muertes por diabetes mellitus por CC.AA](#diabetes)\n",
    "\n",
    "\n",
    "       \n",
    "* [2. Extracción y limpieza de los datos](#etl)\n",
    "    * [2.1. Selección de las familias de alimentos relacionadas con la diabetes](#familias_diabetes)\n",
    "    * [2.2. Normalización de consumos de alimentos con la poblacion de las CC.AA.](#normalizacion_consumos)\n",
    "    * [2.3. Transformación dataset de muertes por diabetes mellitus por CC.AA.](#etl_diabetes)\n",
    "\n",
    "\n",
    "       \n",
    "* [3. Análisis de los datos](#analisis)\n",
    "    * [3.1. Clustering de CC.AA.](#clustering)"
   ]
  },
  {
   "cell_type": "markdown",
   "metadata": {},
   "source": [
    "# 1. Introducción <a class=\"anchor\" id=\"introduccion\"></a>"
   ]
  },
  {
   "cell_type": "markdown",
   "metadata": {},
   "source": [
    "## 1.1. Importar Librerías<a class=\"anchor\" id=\"librerias\"></a>"
   ]
  },
  {
   "cell_type": "code",
   "execution_count": 891,
   "metadata": {},
   "outputs": [],
   "source": [
    "import os\n",
    "import sys\n",
    "import numpy as np\n",
    "import pandas as pd\n",
    "from datetime import datetime\n",
    "\n",
    "from matplotlib import pyplot as plt\n",
    "import plotly.express as px\n",
    "\n",
    "\n",
    "import seaborn as sns\n",
    "from sklearn import preprocessing\n",
    "\n",
    "import pickle\n"
   ]
  },
  {
   "cell_type": "markdown",
   "metadata": {},
   "source": [
    "## 1.2. Importar datos <a class=\"anchor\" id=\"data\"></a>"
   ]
  },
  {
   "cell_type": "markdown",
   "metadata": {},
   "source": [
    "### 1.2.1. Consumos por CC.AA. <a class=\"anchor\" id=\"consumos\"></a>"
   ]
  },
  {
   "cell_type": "code",
   "execution_count": 892,
   "metadata": {},
   "outputs": [],
   "source": [
    "PATH_COMUNIDADES = 'data/comunidades/'"
   ]
  },
  {
   "cell_type": "code",
   "execution_count": 893,
   "metadata": {},
   "outputs": [],
   "source": [
    "# Leemos los nombres de los ficheros\n",
    "paths_comunidades = [path for path in os.listdir(PATH_COMUNIDADES) if path.endswith('.xlsx')]\n",
    "\n",
    "# Creamos una lista para ir añadiendo los dataframes leidos\n",
    "dfs = list()\n",
    "\n",
    "for path_comunidad in paths_comunidades:\n",
    "    # Extraemos el nombre de la comunidad\n",
    "    nombre_comunidad = os.path.splitext(path_comunidad)[0]\n",
    "\n",
    "    # Leemos el fichero, reseteamos el index y le cambiamos el nombre de la columna a ID\n",
    "    fichero = pd.read_excel('./data/comunidades/'+path_comunidad).reset_index(drop=True).rename(columns={'Unnamed: 0': 'ID'})\n",
    "\n",
    "    # Descartamos las filas donde el la columna BIO no es nula y asignamos el nombre de la comunidad a una nueva columna.\n",
    "    fichero_sin_bio = fichero[fichero['SEGMENTO BIO'].isna()].reset_index(drop=True).assign(COMUNIDAD=nombre_comunidad)\n",
    "\n",
    "    # Añadimos el fichero leido a nuestra lista de dataframes\n",
    "    dfs.append(fichero_sin_bio)\n",
    "\n",
    "# Montamos el dataframe final\n",
    "df_comunidades = pd.concat(dfs, ignore_index=True)\n",
    "\n",
    "# Eliminamos la columna SEGMENTO BIO\n",
    "df_comunidades.drop('SEGMENTO BIO', axis=1, inplace=True)\n",
    "\n",
    "# Cambiamos el orden de la columna COMUNIDAD\n",
    "cols = df_comunidades.columns.tolist()\n",
    "cols = cols[:5] + cols[-1:] + cols[5:-1]\n",
    "df_comunidades = df_comunidades[cols]"
   ]
  },
  {
   "cell_type": "code",
   "execution_count": 894,
   "metadata": {},
   "outputs": [
    {
     "data": {
      "text/html": [
       "<div>\n",
       "<style scoped>\n",
       "    .dataframe tbody tr th:only-of-type {\n",
       "        vertical-align: middle;\n",
       "    }\n",
       "\n",
       "    .dataframe tbody tr th {\n",
       "        vertical-align: top;\n",
       "    }\n",
       "\n",
       "    .dataframe thead th {\n",
       "        text-align: right;\n",
       "    }\n",
       "</style>\n",
       "<table border=\"1\" class=\"dataframe\">\n",
       "  <thead>\n",
       "    <tr style=\"text-align: right;\">\n",
       "      <th></th>\n",
       "      <th>ID</th>\n",
       "      <th>SECTOR</th>\n",
       "      <th>SECCION</th>\n",
       "      <th>CATEGORIA</th>\n",
       "      <th>FAMILIA</th>\n",
       "      <th>COMUNIDAD</th>\n",
       "      <th>SEMANA 40-16</th>\n",
       "      <th>SEMANA 41-16</th>\n",
       "      <th>SEMANA 42-16</th>\n",
       "      <th>SEMANA 43-16</th>\n",
       "      <th>...</th>\n",
       "      <th>SEMANA 34-19</th>\n",
       "      <th>SEMANA 35-19</th>\n",
       "      <th>SEMANA 36-19</th>\n",
       "      <th>SEMANA 37-19</th>\n",
       "      <th>SEMANA 38-19</th>\n",
       "      <th>SEMANA 39-19</th>\n",
       "      <th>SEMANA 40-19</th>\n",
       "      <th>SEMANA 41-19</th>\n",
       "      <th>SEMANA 42-19</th>\n",
       "      <th>SEMANA 43-19</th>\n",
       "    </tr>\n",
       "  </thead>\n",
       "  <tbody>\n",
       "    <tr>\n",
       "      <th>0</th>\n",
       "      <td>TOTAL PGC</td>\n",
       "      <td>NaN</td>\n",
       "      <td>NaN</td>\n",
       "      <td>NaN</td>\n",
       "      <td>NaN</td>\n",
       "      <td>Ceuta_y_Melilla</td>\n",
       "      <td>0.00</td>\n",
       "      <td>0.00</td>\n",
       "      <td>0.00</td>\n",
       "      <td>0.00</td>\n",
       "      <td>...</td>\n",
       "      <td>2652.71</td>\n",
       "      <td>2853.52</td>\n",
       "      <td>2699.68</td>\n",
       "      <td>2703.08</td>\n",
       "      <td>2484.19</td>\n",
       "      <td>2853.67</td>\n",
       "      <td>2844.06</td>\n",
       "      <td>2412.15</td>\n",
       "      <td>2559.18</td>\n",
       "      <td>2647.53</td>\n",
       "    </tr>\n",
       "    <tr>\n",
       "      <th>1</th>\n",
       "      <td>ALIM. Y BEBIDAS</td>\n",
       "      <td>ALIM. Y BEBIDAS</td>\n",
       "      <td>NaN</td>\n",
       "      <td>NaN</td>\n",
       "      <td>NaN</td>\n",
       "      <td>Ceuta_y_Melilla</td>\n",
       "      <td>0.00</td>\n",
       "      <td>0.00</td>\n",
       "      <td>0.00</td>\n",
       "      <td>0.00</td>\n",
       "      <td>...</td>\n",
       "      <td>1328.36</td>\n",
       "      <td>1421.87</td>\n",
       "      <td>1364.16</td>\n",
       "      <td>1405.32</td>\n",
       "      <td>1269.16</td>\n",
       "      <td>1457.10</td>\n",
       "      <td>1477.37</td>\n",
       "      <td>1288.87</td>\n",
       "      <td>1375.99</td>\n",
       "      <td>1442.49</td>\n",
       "    </tr>\n",
       "    <tr>\n",
       "      <th>2</th>\n",
       "      <td>ALIM.SECA</td>\n",
       "      <td>ALIM. Y BEBIDAS</td>\n",
       "      <td>ALIM.SECA</td>\n",
       "      <td>NaN</td>\n",
       "      <td>NaN</td>\n",
       "      <td>Ceuta_y_Melilla</td>\n",
       "      <td>0.00</td>\n",
       "      <td>0.00</td>\n",
       "      <td>0.00</td>\n",
       "      <td>0.00</td>\n",
       "      <td>...</td>\n",
       "      <td>704.00</td>\n",
       "      <td>782.74</td>\n",
       "      <td>760.74</td>\n",
       "      <td>791.09</td>\n",
       "      <td>717.49</td>\n",
       "      <td>829.03</td>\n",
       "      <td>829.07</td>\n",
       "      <td>739.01</td>\n",
       "      <td>813.17</td>\n",
       "      <td>891.25</td>\n",
       "    </tr>\n",
       "    <tr>\n",
       "      <th>3</th>\n",
       "      <td>ACEITE</td>\n",
       "      <td>ALIM. Y BEBIDAS</td>\n",
       "      <td>ALIM.SECA</td>\n",
       "      <td>ACEITE</td>\n",
       "      <td>NaN</td>\n",
       "      <td>Ceuta_y_Melilla</td>\n",
       "      <td>0.00</td>\n",
       "      <td>0.00</td>\n",
       "      <td>0.00</td>\n",
       "      <td>0.00</td>\n",
       "      <td>...</td>\n",
       "      <td>60.80</td>\n",
       "      <td>72.97</td>\n",
       "      <td>67.83</td>\n",
       "      <td>71.55</td>\n",
       "      <td>62.32</td>\n",
       "      <td>73.07</td>\n",
       "      <td>76.68</td>\n",
       "      <td>61.45</td>\n",
       "      <td>60.28</td>\n",
       "      <td>63.69</td>\n",
       "    </tr>\n",
       "    <tr>\n",
       "      <th>4</th>\n",
       "      <td>GIRASOL..</td>\n",
       "      <td>ALIM. Y BEBIDAS</td>\n",
       "      <td>ALIM.SECA</td>\n",
       "      <td>ACEITE</td>\n",
       "      <td>GIRASOL..</td>\n",
       "      <td>Ceuta_y_Melilla</td>\n",
       "      <td>0.00</td>\n",
       "      <td>0.00</td>\n",
       "      <td>0.00</td>\n",
       "      <td>0.00</td>\n",
       "      <td>...</td>\n",
       "      <td>18.18</td>\n",
       "      <td>20.78</td>\n",
       "      <td>20.41</td>\n",
       "      <td>20.16</td>\n",
       "      <td>18.68</td>\n",
       "      <td>21.06</td>\n",
       "      <td>22.47</td>\n",
       "      <td>16.94</td>\n",
       "      <td>17.49</td>\n",
       "      <td>19.44</td>\n",
       "    </tr>\n",
       "    <tr>\n",
       "      <th>...</th>\n",
       "      <td>...</td>\n",
       "      <td>...</td>\n",
       "      <td>...</td>\n",
       "      <td>...</td>\n",
       "      <td>...</td>\n",
       "      <td>...</td>\n",
       "      <td>...</td>\n",
       "      <td>...</td>\n",
       "      <td>...</td>\n",
       "      <td>...</td>\n",
       "      <td>...</td>\n",
       "      <td>...</td>\n",
       "      <td>...</td>\n",
       "      <td>...</td>\n",
       "      <td>...</td>\n",
       "      <td>...</td>\n",
       "      <td>...</td>\n",
       "      <td>...</td>\n",
       "      <td>...</td>\n",
       "      <td>...</td>\n",
       "      <td>...</td>\n",
       "    </tr>\n",
       "    <tr>\n",
       "      <th>9427</th>\n",
       "      <td>REQUESON</td>\n",
       "      <td>PROD.FRESCOS</td>\n",
       "      <td>QUESOS</td>\n",
       "      <td>REQUESON</td>\n",
       "      <td>NaN</td>\n",
       "      <td>Canarias</td>\n",
       "      <td>0.40</td>\n",
       "      <td>0.67</td>\n",
       "      <td>0.83</td>\n",
       "      <td>0.80</td>\n",
       "      <td>...</td>\n",
       "      <td>9.39</td>\n",
       "      <td>9.57</td>\n",
       "      <td>9.29</td>\n",
       "      <td>9.08</td>\n",
       "      <td>9.70</td>\n",
       "      <td>10.47</td>\n",
       "      <td>10.78</td>\n",
       "      <td>9.98</td>\n",
       "      <td>10.36</td>\n",
       "      <td>10.56</td>\n",
       "    </tr>\n",
       "    <tr>\n",
       "      <th>9428</th>\n",
       "      <td>Q.REQUESON</td>\n",
       "      <td>PROD.FRESCOS</td>\n",
       "      <td>QUESOS</td>\n",
       "      <td>REQUESON</td>\n",
       "      <td>Q.REQUESON</td>\n",
       "      <td>Canarias</td>\n",
       "      <td>0.40</td>\n",
       "      <td>0.67</td>\n",
       "      <td>0.83</td>\n",
       "      <td>0.80</td>\n",
       "      <td>...</td>\n",
       "      <td>9.39</td>\n",
       "      <td>9.57</td>\n",
       "      <td>9.29</td>\n",
       "      <td>9.08</td>\n",
       "      <td>9.70</td>\n",
       "      <td>10.47</td>\n",
       "      <td>10.78</td>\n",
       "      <td>9.98</td>\n",
       "      <td>10.36</td>\n",
       "      <td>10.56</td>\n",
       "    </tr>\n",
       "    <tr>\n",
       "      <th>9429</th>\n",
       "      <td>RESTO QUESOS NATURALES</td>\n",
       "      <td>PROD.FRESCOS</td>\n",
       "      <td>QUESOS</td>\n",
       "      <td>RESTO QUESOS NATURALES</td>\n",
       "      <td>NaN</td>\n",
       "      <td>Canarias</td>\n",
       "      <td>21.54</td>\n",
       "      <td>23.89</td>\n",
       "      <td>24.21</td>\n",
       "      <td>26.09</td>\n",
       "      <td>...</td>\n",
       "      <td>95.81</td>\n",
       "      <td>98.23</td>\n",
       "      <td>106.96</td>\n",
       "      <td>97.40</td>\n",
       "      <td>96.91</td>\n",
       "      <td>104.94</td>\n",
       "      <td>114.84</td>\n",
       "      <td>110.55</td>\n",
       "      <td>110.09</td>\n",
       "      <td>112.98</td>\n",
       "    </tr>\n",
       "    <tr>\n",
       "      <th>9430</th>\n",
       "      <td>RQN.AL CORTE</td>\n",
       "      <td>PROD.FRESCOS</td>\n",
       "      <td>QUESOS</td>\n",
       "      <td>RESTO QUESOS NATURALES</td>\n",
       "      <td>RQN.AL CORTE</td>\n",
       "      <td>Canarias</td>\n",
       "      <td>2.51</td>\n",
       "      <td>1.90</td>\n",
       "      <td>3.12</td>\n",
       "      <td>3.19</td>\n",
       "      <td>...</td>\n",
       "      <td>30.57</td>\n",
       "      <td>33.69</td>\n",
       "      <td>34.43</td>\n",
       "      <td>32.22</td>\n",
       "      <td>32.51</td>\n",
       "      <td>34.06</td>\n",
       "      <td>35.54</td>\n",
       "      <td>32.48</td>\n",
       "      <td>36.00</td>\n",
       "      <td>36.14</td>\n",
       "    </tr>\n",
       "    <tr>\n",
       "      <th>9431</th>\n",
       "      <td>RQN.EMPAQUETADO</td>\n",
       "      <td>PROD.FRESCOS</td>\n",
       "      <td>QUESOS</td>\n",
       "      <td>RESTO QUESOS NATURALES</td>\n",
       "      <td>RQN.EMPAQUETADO</td>\n",
       "      <td>Canarias</td>\n",
       "      <td>19.03</td>\n",
       "      <td>21.99</td>\n",
       "      <td>21.09</td>\n",
       "      <td>22.90</td>\n",
       "      <td>...</td>\n",
       "      <td>65.24</td>\n",
       "      <td>64.55</td>\n",
       "      <td>72.54</td>\n",
       "      <td>65.18</td>\n",
       "      <td>64.40</td>\n",
       "      <td>70.89</td>\n",
       "      <td>79.29</td>\n",
       "      <td>78.07</td>\n",
       "      <td>74.09</td>\n",
       "      <td>76.84</td>\n",
       "    </tr>\n",
       "  </tbody>\n",
       "</table>\n",
       "<p>9432 rows × 166 columns</p>\n",
       "</div>"
      ],
      "text/plain": [
       "                          ID           SECTOR    SECCION  \\\n",
       "0                  TOTAL PGC              NaN        NaN   \n",
       "1            ALIM. Y BEBIDAS  ALIM. Y BEBIDAS        NaN   \n",
       "2                  ALIM.SECA  ALIM. Y BEBIDAS  ALIM.SECA   \n",
       "3                     ACEITE  ALIM. Y BEBIDAS  ALIM.SECA   \n",
       "4                  GIRASOL..  ALIM. Y BEBIDAS  ALIM.SECA   \n",
       "...                      ...              ...        ...   \n",
       "9427                REQUESON     PROD.FRESCOS     QUESOS   \n",
       "9428              Q.REQUESON     PROD.FRESCOS     QUESOS   \n",
       "9429  RESTO QUESOS NATURALES     PROD.FRESCOS     QUESOS   \n",
       "9430            RQN.AL CORTE     PROD.FRESCOS     QUESOS   \n",
       "9431         RQN.EMPAQUETADO     PROD.FRESCOS     QUESOS   \n",
       "\n",
       "                   CATEGORIA          FAMILIA        COMUNIDAD  SEMANA 40-16  \\\n",
       "0                        NaN              NaN  Ceuta_y_Melilla          0.00   \n",
       "1                        NaN              NaN  Ceuta_y_Melilla          0.00   \n",
       "2                        NaN              NaN  Ceuta_y_Melilla          0.00   \n",
       "3                     ACEITE              NaN  Ceuta_y_Melilla          0.00   \n",
       "4                     ACEITE        GIRASOL..  Ceuta_y_Melilla          0.00   \n",
       "...                      ...              ...              ...           ...   \n",
       "9427                REQUESON              NaN         Canarias          0.40   \n",
       "9428                REQUESON       Q.REQUESON         Canarias          0.40   \n",
       "9429  RESTO QUESOS NATURALES              NaN         Canarias         21.54   \n",
       "9430  RESTO QUESOS NATURALES     RQN.AL CORTE         Canarias          2.51   \n",
       "9431  RESTO QUESOS NATURALES  RQN.EMPAQUETADO         Canarias         19.03   \n",
       "\n",
       "      SEMANA 41-16  SEMANA 42-16  SEMANA 43-16  ...  SEMANA 34-19  \\\n",
       "0             0.00          0.00          0.00  ...       2652.71   \n",
       "1             0.00          0.00          0.00  ...       1328.36   \n",
       "2             0.00          0.00          0.00  ...        704.00   \n",
       "3             0.00          0.00          0.00  ...         60.80   \n",
       "4             0.00          0.00          0.00  ...         18.18   \n",
       "...            ...           ...           ...  ...           ...   \n",
       "9427          0.67          0.83          0.80  ...          9.39   \n",
       "9428          0.67          0.83          0.80  ...          9.39   \n",
       "9429         23.89         24.21         26.09  ...         95.81   \n",
       "9430          1.90          3.12          3.19  ...         30.57   \n",
       "9431         21.99         21.09         22.90  ...         65.24   \n",
       "\n",
       "      SEMANA 35-19  SEMANA 36-19  SEMANA 37-19  SEMANA 38-19  SEMANA 39-19  \\\n",
       "0          2853.52       2699.68       2703.08       2484.19       2853.67   \n",
       "1          1421.87       1364.16       1405.32       1269.16       1457.10   \n",
       "2           782.74        760.74        791.09        717.49        829.03   \n",
       "3            72.97         67.83         71.55         62.32         73.07   \n",
       "4            20.78         20.41         20.16         18.68         21.06   \n",
       "...            ...           ...           ...           ...           ...   \n",
       "9427          9.57          9.29          9.08          9.70         10.47   \n",
       "9428          9.57          9.29          9.08          9.70         10.47   \n",
       "9429         98.23        106.96         97.40         96.91        104.94   \n",
       "9430         33.69         34.43         32.22         32.51         34.06   \n",
       "9431         64.55         72.54         65.18         64.40         70.89   \n",
       "\n",
       "      SEMANA 40-19  SEMANA 41-19  SEMANA 42-19  SEMANA 43-19  \n",
       "0          2844.06       2412.15       2559.18       2647.53  \n",
       "1          1477.37       1288.87       1375.99       1442.49  \n",
       "2           829.07        739.01        813.17        891.25  \n",
       "3            76.68         61.45         60.28         63.69  \n",
       "4            22.47         16.94         17.49         19.44  \n",
       "...            ...           ...           ...           ...  \n",
       "9427         10.78          9.98         10.36         10.56  \n",
       "9428         10.78          9.98         10.36         10.56  \n",
       "9429        114.84        110.55        110.09        112.98  \n",
       "9430         35.54         32.48         36.00         36.14  \n",
       "9431         79.29         78.07         74.09         76.84  \n",
       "\n",
       "[9432 rows x 166 columns]"
      ]
     },
     "execution_count": 894,
     "metadata": {},
     "output_type": "execute_result"
    }
   ],
   "source": [
    "df_comunidades"
   ]
  },
  {
   "cell_type": "markdown",
   "metadata": {},
   "source": [
    "### 1.2.2. Población por CC.AA. <a class=\"anchor\" id=\"poblacion\"></a>"
   ]
  },
  {
   "cell_type": "code",
   "execution_count": 895,
   "metadata": {},
   "outputs": [],
   "source": [
    "PATH_POBLACION = './data/poblacion/'"
   ]
  },
  {
   "cell_type": "code",
   "execution_count": 896,
   "metadata": {},
   "outputs": [],
   "source": [
    "df_poblacion = pd.read_excel(PATH_POBLACION+'poblacion_comunidades.xlsx', skiprows=1).set_index('CC.AA.')"
   ]
  },
  {
   "cell_type": "code",
   "execution_count": 897,
   "metadata": {},
   "outputs": [
    {
     "data": {
      "text/html": [
       "<div>\n",
       "<style scoped>\n",
       "    .dataframe tbody tr th:only-of-type {\n",
       "        vertical-align: middle;\n",
       "    }\n",
       "\n",
       "    .dataframe tbody tr th {\n",
       "        vertical-align: top;\n",
       "    }\n",
       "\n",
       "    .dataframe thead th {\n",
       "        text-align: right;\n",
       "    }\n",
       "</style>\n",
       "<table border=\"1\" class=\"dataframe\">\n",
       "  <thead>\n",
       "    <tr style=\"text-align: right;\">\n",
       "      <th></th>\n",
       "      <th>2016</th>\n",
       "      <th>2017</th>\n",
       "      <th>2018</th>\n",
       "      <th>2019</th>\n",
       "      <th>2020</th>\n",
       "    </tr>\n",
       "    <tr>\n",
       "      <th>CC.AA.</th>\n",
       "      <th></th>\n",
       "      <th></th>\n",
       "      <th></th>\n",
       "      <th></th>\n",
       "      <th></th>\n",
       "    </tr>\n",
       "  </thead>\n",
       "  <tbody>\n",
       "    <tr>\n",
       "      <th>Ceuta_y_Melilla</th>\n",
       "      <td>170545</td>\n",
       "      <td>171079</td>\n",
       "      <td>171528</td>\n",
       "      <td>171264</td>\n",
       "      <td>171278</td>\n",
       "    </tr>\n",
       "    <tr>\n",
       "      <th>La_Rioja</th>\n",
       "      <td>315794</td>\n",
       "      <td>315381</td>\n",
       "      <td>315675</td>\n",
       "      <td>316798</td>\n",
       "      <td>313914</td>\n",
       "    </tr>\n",
       "    <tr>\n",
       "      <th>Pais_Vasco</th>\n",
       "      <td>2189534</td>\n",
       "      <td>2194158</td>\n",
       "      <td>2199088</td>\n",
       "      <td>2207776</td>\n",
       "      <td>2220504</td>\n",
       "    </tr>\n",
       "    <tr>\n",
       "      <th>Navarra</th>\n",
       "      <td>640647</td>\n",
       "      <td>643234</td>\n",
       "      <td>647554</td>\n",
       "      <td>654214</td>\n",
       "      <td>661197</td>\n",
       "    </tr>\n",
       "    <tr>\n",
       "      <th>Murcia</th>\n",
       "      <td>1464847</td>\n",
       "      <td>1470273</td>\n",
       "      <td>1478509</td>\n",
       "      <td>1493898</td>\n",
       "      <td>1511251</td>\n",
       "    </tr>\n",
       "    <tr>\n",
       "      <th>Madrid</th>\n",
       "      <td>6466996</td>\n",
       "      <td>6507184</td>\n",
       "      <td>6578079</td>\n",
       "      <td>6663394</td>\n",
       "      <td>6779888</td>\n",
       "    </tr>\n",
       "    <tr>\n",
       "      <th>Galicia</th>\n",
       "      <td>2718525</td>\n",
       "      <td>2708339</td>\n",
       "      <td>2701743</td>\n",
       "      <td>2699499</td>\n",
       "      <td>2701819</td>\n",
       "    </tr>\n",
       "    <tr>\n",
       "      <th>Extremadura</th>\n",
       "      <td>1087778</td>\n",
       "      <td>1079920</td>\n",
       "      <td>1072863</td>\n",
       "      <td>1067710</td>\n",
       "      <td>1063987</td>\n",
       "    </tr>\n",
       "    <tr>\n",
       "      <th>C_Valenciana</th>\n",
       "      <td>4959968</td>\n",
       "      <td>4941509</td>\n",
       "      <td>4963703</td>\n",
       "      <td>5003769</td>\n",
       "      <td>5057353</td>\n",
       "    </tr>\n",
       "    <tr>\n",
       "      <th>Catalunya</th>\n",
       "      <td>7522596</td>\n",
       "      <td>7555830</td>\n",
       "      <td>7600065</td>\n",
       "      <td>7675217</td>\n",
       "      <td>7780479</td>\n",
       "    </tr>\n",
       "    <tr>\n",
       "      <th>Castilla_La_Mancha</th>\n",
       "      <td>2041631</td>\n",
       "      <td>2031479</td>\n",
       "      <td>2026807</td>\n",
       "      <td>2032863</td>\n",
       "      <td>2045221</td>\n",
       "    </tr>\n",
       "    <tr>\n",
       "      <th>Castilla_y_Leon</th>\n",
       "      <td>2447519</td>\n",
       "      <td>2425801</td>\n",
       "      <td>2409164</td>\n",
       "      <td>2399548</td>\n",
       "      <td>2394918</td>\n",
       "    </tr>\n",
       "    <tr>\n",
       "      <th>Cantabria</th>\n",
       "      <td>282988</td>\n",
       "      <td>580295</td>\n",
       "      <td>580229</td>\n",
       "      <td>581078</td>\n",
       "      <td>582905</td>\n",
       "    </tr>\n",
       "    <tr>\n",
       "      <th>Canarias</th>\n",
       "      <td>2101924</td>\n",
       "      <td>2108121</td>\n",
       "      <td>2127685</td>\n",
       "      <td>2153389</td>\n",
       "      <td>2175952</td>\n",
       "    </tr>\n",
       "    <tr>\n",
       "      <th>Baleares</th>\n",
       "      <td>1107220</td>\n",
       "      <td>1115999</td>\n",
       "      <td>1128908</td>\n",
       "      <td>1149460</td>\n",
       "      <td>1171543</td>\n",
       "    </tr>\n",
       "    <tr>\n",
       "      <th>Asturias</th>\n",
       "      <td>1042608</td>\n",
       "      <td>1034960</td>\n",
       "      <td>1028244</td>\n",
       "      <td>1022800</td>\n",
       "      <td>1018784</td>\n",
       "    </tr>\n",
       "    <tr>\n",
       "      <th>Aragon</th>\n",
       "      <td>1308563</td>\n",
       "      <td>1308750</td>\n",
       "      <td>1308728</td>\n",
       "      <td>1319291</td>\n",
       "      <td>1329391</td>\n",
       "    </tr>\n",
       "    <tr>\n",
       "      <th>Andalucia</th>\n",
       "      <td>8388107</td>\n",
       "      <td>8379820</td>\n",
       "      <td>8384408</td>\n",
       "      <td>8414240</td>\n",
       "      <td>8464411</td>\n",
       "    </tr>\n",
       "  </tbody>\n",
       "</table>\n",
       "</div>"
      ],
      "text/plain": [
       "                       2016     2017     2018     2019     2020\n",
       "CC.AA.                                                         \n",
       "Ceuta_y_Melilla      170545   171079   171528   171264   171278\n",
       "La_Rioja             315794   315381   315675   316798   313914\n",
       "Pais_Vasco          2189534  2194158  2199088  2207776  2220504\n",
       "Navarra              640647   643234   647554   654214   661197\n",
       "Murcia              1464847  1470273  1478509  1493898  1511251\n",
       "Madrid              6466996  6507184  6578079  6663394  6779888\n",
       "Galicia             2718525  2708339  2701743  2699499  2701819\n",
       "Extremadura         1087778  1079920  1072863  1067710  1063987\n",
       "C_Valenciana        4959968  4941509  4963703  5003769  5057353\n",
       "Catalunya           7522596  7555830  7600065  7675217  7780479\n",
       "Castilla_La_Mancha  2041631  2031479  2026807  2032863  2045221\n",
       "Castilla_y_Leon     2447519  2425801  2409164  2399548  2394918\n",
       "Cantabria            282988   580295   580229   581078   582905\n",
       "Canarias            2101924  2108121  2127685  2153389  2175952\n",
       "Baleares            1107220  1115999  1128908  1149460  1171543\n",
       "Asturias            1042608  1034960  1028244  1022800  1018784\n",
       "Aragon              1308563  1308750  1308728  1319291  1329391\n",
       "Andalucia           8388107  8379820  8384408  8414240  8464411"
      ]
     },
     "execution_count": 897,
     "metadata": {},
     "output_type": "execute_result"
    }
   ],
   "source": [
    "df_poblacion"
   ]
  },
  {
   "cell_type": "markdown",
   "metadata": {},
   "source": [
    "###  1.2.3. Muertes por diabetes mellitus por CC.AA <a class=\"anchor\" id=\"diabetes\"></a>"
   ]
  },
  {
   "cell_type": "code",
   "execution_count": 898,
   "metadata": {},
   "outputs": [],
   "source": [
    "# Guardamos el path donde tenemos los datos de las enfermedades\n",
    "PATH_ENFERMEDADES = './data/enfermedades/'"
   ]
  },
  {
   "cell_type": "code",
   "execution_count": 899,
   "metadata": {},
   "outputs": [],
   "source": [
    "# Creamos el DataFrame con los datos de la tasa de muertes por comunidades\n",
    "df_muertos_diabetes = pd.read_excel(PATH_ENFERMEDADES + 'diabetes.xlsx', skiprows=1)"
   ]
  },
  {
   "cell_type": "code",
   "execution_count": 900,
   "metadata": {},
   "outputs": [
    {
     "data": {
      "text/html": [
       "<div>\n",
       "<style scoped>\n",
       "    .dataframe tbody tr th:only-of-type {\n",
       "        vertical-align: middle;\n",
       "    }\n",
       "\n",
       "    .dataframe tbody tr th {\n",
       "        vertical-align: top;\n",
       "    }\n",
       "\n",
       "    .dataframe thead th {\n",
       "        text-align: right;\n",
       "    }\n",
       "</style>\n",
       "<table border=\"1\" class=\"dataframe\">\n",
       "  <thead>\n",
       "    <tr style=\"text-align: right;\">\n",
       "      <th></th>\n",
       "      <th>CC.AA.</th>\n",
       "      <th>2016</th>\n",
       "      <th>2017</th>\n",
       "      <th>2018</th>\n",
       "      <th>2019</th>\n",
       "      <th>2020</th>\n",
       "    </tr>\n",
       "  </thead>\n",
       "  <tbody>\n",
       "    <tr>\n",
       "      <th>0</th>\n",
       "      <td>Ceuta_y_Melilla</td>\n",
       "      <td>50.36</td>\n",
       "      <td>35.33</td>\n",
       "      <td>27.14</td>\n",
       "      <td>20.33</td>\n",
       "      <td>47.11</td>\n",
       "    </tr>\n",
       "    <tr>\n",
       "      <th>1</th>\n",
       "      <td>La_Rioja</td>\n",
       "      <td>15.88</td>\n",
       "      <td>15.51</td>\n",
       "      <td>19.18</td>\n",
       "      <td>15.20</td>\n",
       "      <td>15.82</td>\n",
       "    </tr>\n",
       "    <tr>\n",
       "      <th>2</th>\n",
       "      <td>Pais_Vasco</td>\n",
       "      <td>15.19</td>\n",
       "      <td>13.03</td>\n",
       "      <td>15.14</td>\n",
       "      <td>15.07</td>\n",
       "      <td>16.65</td>\n",
       "    </tr>\n",
       "    <tr>\n",
       "      <th>3</th>\n",
       "      <td>Navarra</td>\n",
       "      <td>20.41</td>\n",
       "      <td>20.21</td>\n",
       "      <td>16.13</td>\n",
       "      <td>15.77</td>\n",
       "      <td>16.34</td>\n",
       "    </tr>\n",
       "    <tr>\n",
       "      <th>4</th>\n",
       "      <td>Murcia</td>\n",
       "      <td>20.92</td>\n",
       "      <td>25.17</td>\n",
       "      <td>21.24</td>\n",
       "      <td>22.40</td>\n",
       "      <td>30.91</td>\n",
       "    </tr>\n",
       "    <tr>\n",
       "      <th>5</th>\n",
       "      <td>Madrid</td>\n",
       "      <td>10.90</td>\n",
       "      <td>10.49</td>\n",
       "      <td>10.23</td>\n",
       "      <td>8.28</td>\n",
       "      <td>10.03</td>\n",
       "    </tr>\n",
       "    <tr>\n",
       "      <th>6</th>\n",
       "      <td>Galicia</td>\n",
       "      <td>16.32</td>\n",
       "      <td>14.40</td>\n",
       "      <td>12.66</td>\n",
       "      <td>11.08</td>\n",
       "      <td>12.88</td>\n",
       "    </tr>\n",
       "    <tr>\n",
       "      <th>7</th>\n",
       "      <td>Extremadura</td>\n",
       "      <td>19.58</td>\n",
       "      <td>17.68</td>\n",
       "      <td>17.88</td>\n",
       "      <td>16.88</td>\n",
       "      <td>22.17</td>\n",
       "    </tr>\n",
       "    <tr>\n",
       "      <th>8</th>\n",
       "      <td>C_Valenciana</td>\n",
       "      <td>19.39</td>\n",
       "      <td>20.06</td>\n",
       "      <td>25.27</td>\n",
       "      <td>25.50</td>\n",
       "      <td>28.49</td>\n",
       "    </tr>\n",
       "    <tr>\n",
       "      <th>9</th>\n",
       "      <td>Catalunya</td>\n",
       "      <td>19.32</td>\n",
       "      <td>20.81</td>\n",
       "      <td>19.91</td>\n",
       "      <td>18.47</td>\n",
       "      <td>21.28</td>\n",
       "    </tr>\n",
       "    <tr>\n",
       "      <th>10</th>\n",
       "      <td>Castilla_La_Mancha</td>\n",
       "      <td>22.59</td>\n",
       "      <td>23.78</td>\n",
       "      <td>18.72</td>\n",
       "      <td>17.36</td>\n",
       "      <td>21.38</td>\n",
       "    </tr>\n",
       "    <tr>\n",
       "      <th>11</th>\n",
       "      <td>Castilla_y_Leon</td>\n",
       "      <td>20.69</td>\n",
       "      <td>18.90</td>\n",
       "      <td>19.46</td>\n",
       "      <td>19.52</td>\n",
       "      <td>25.20</td>\n",
       "    </tr>\n",
       "    <tr>\n",
       "      <th>12</th>\n",
       "      <td>Cantabria</td>\n",
       "      <td>5.65</td>\n",
       "      <td>9.64</td>\n",
       "      <td>13.06</td>\n",
       "      <td>14.83</td>\n",
       "      <td>18.95</td>\n",
       "    </tr>\n",
       "    <tr>\n",
       "      <th>13</th>\n",
       "      <td>Canarias</td>\n",
       "      <td>28.82</td>\n",
       "      <td>24.13</td>\n",
       "      <td>23.11</td>\n",
       "      <td>19.31</td>\n",
       "      <td>20.00</td>\n",
       "    </tr>\n",
       "    <tr>\n",
       "      <th>14</th>\n",
       "      <td>Baleares</td>\n",
       "      <td>25.55</td>\n",
       "      <td>28.97</td>\n",
       "      <td>24.07</td>\n",
       "      <td>24.66</td>\n",
       "      <td>22.35</td>\n",
       "    </tr>\n",
       "    <tr>\n",
       "      <th>15</th>\n",
       "      <td>Asturias</td>\n",
       "      <td>18.63</td>\n",
       "      <td>16.32</td>\n",
       "      <td>19.93</td>\n",
       "      <td>18.04</td>\n",
       "      <td>21.08</td>\n",
       "    </tr>\n",
       "    <tr>\n",
       "      <th>16</th>\n",
       "      <td>Aragon</td>\n",
       "      <td>14.16</td>\n",
       "      <td>23.98</td>\n",
       "      <td>20.84</td>\n",
       "      <td>21.21</td>\n",
       "      <td>20.91</td>\n",
       "    </tr>\n",
       "    <tr>\n",
       "      <th>17</th>\n",
       "      <td>Andalucia</td>\n",
       "      <td>19.88</td>\n",
       "      <td>21.62</td>\n",
       "      <td>20.95</td>\n",
       "      <td>20.82</td>\n",
       "      <td>23.66</td>\n",
       "    </tr>\n",
       "  </tbody>\n",
       "</table>\n",
       "</div>"
      ],
      "text/plain": [
       "                CC.AA.   2016   2017   2018   2019   2020\n",
       "0      Ceuta_y_Melilla  50.36  35.33  27.14  20.33  47.11\n",
       "1             La_Rioja  15.88  15.51  19.18  15.20  15.82\n",
       "2           Pais_Vasco  15.19  13.03  15.14  15.07  16.65\n",
       "3              Navarra  20.41  20.21  16.13  15.77  16.34\n",
       "4               Murcia  20.92  25.17  21.24  22.40  30.91\n",
       "5               Madrid  10.90  10.49  10.23   8.28  10.03\n",
       "6              Galicia  16.32  14.40  12.66  11.08  12.88\n",
       "7          Extremadura  19.58  17.68  17.88  16.88  22.17\n",
       "8         C_Valenciana  19.39  20.06  25.27  25.50  28.49\n",
       "9            Catalunya  19.32  20.81  19.91  18.47  21.28\n",
       "10  Castilla_La_Mancha  22.59  23.78  18.72  17.36  21.38\n",
       "11     Castilla_y_Leon  20.69  18.90  19.46  19.52  25.20\n",
       "12           Cantabria   5.65   9.64  13.06  14.83  18.95\n",
       "13            Canarias  28.82  24.13  23.11  19.31  20.00\n",
       "14            Baleares  25.55  28.97  24.07  24.66  22.35\n",
       "15            Asturias  18.63  16.32  19.93  18.04  21.08\n",
       "16              Aragon  14.16  23.98  20.84  21.21  20.91\n",
       "17           Andalucia  19.88  21.62  20.95  20.82  23.66"
      ]
     },
     "execution_count": 900,
     "metadata": {},
     "output_type": "execute_result"
    }
   ],
   "source": [
    "# Comprobamos que se ha cargado correctamente el DataFrame\n",
    "df_muertos_diabetes"
   ]
  },
  {
   "cell_type": "markdown",
   "metadata": {},
   "source": [
    "# 2. Extracción y limpieza de los datos <a class=\"anchor\" id=\"etl\"></a>"
   ]
  },
  {
   "cell_type": "markdown",
   "metadata": {},
   "source": [
    "## 2.1. Selección de las familias de alimentos relacionadas con la diabetes <a class=\"anchor\" id=\"familias_diabetes\"></a>\n",
    "\n",
    "Nuestros datos están clasificados de la siguiente forma:\n",
    "\n",
    "SECTOR > SECCION > CATEGORIA > FAMILIA\n",
    "\n",
    "El objetivo es ir recorriendo cada agrupación para descartar familias de alimentos que no estén relacionadas con la diabetes."
   ]
  },
  {
   "cell_type": "code",
   "execution_count": 901,
   "metadata": {},
   "outputs": [],
   "source": [
    "# Sacamos la lista de todos los valores de cada sector, sección, categoría y familia de alimentos\n",
    "lista_sectores = list(df_comunidades[~df_comunidades['SECTOR'].isna()]['SECTOR'].unique())\n",
    "lista_secciones = list(df_comunidades[~df_comunidades['SECCION'].isna()]['SECCION'].unique())\n",
    "lista_categorias = list(df_comunidades[~df_comunidades['CATEGORIA'].isna()]['CATEGORIA'].unique())\n",
    "lista_familias = list(df_comunidades[~df_comunidades['FAMILIA'].isna()]['FAMILIA'].unique())"
   ]
  },
  {
   "cell_type": "markdown",
   "metadata": {},
   "source": [
    "### Sectores"
   ]
  },
  {
   "cell_type": "code",
   "execution_count": 902,
   "metadata": {},
   "outputs": [
    {
     "data": {
      "text/plain": [
       "['ALIM. Y BEBIDAS', 'PROD.FRESCOS']"
      ]
     },
     "execution_count": 902,
     "metadata": {},
     "output_type": "execute_result"
    }
   ],
   "source": [
    "# Copiamos la primera lista para modificarla\n",
    "lista_sectores_diabetes = lista_sectores.copy()\n",
    "\n",
    "# Eliminamos los sectores que no están relacionados con la diabetes\n",
    "lista_sectores_diabetes.remove('DROGUERIA Y PERFUMERIA')\n",
    "\n",
    "# Mostramos los sectores seleccionados\n",
    "lista_sectores_diabetes"
   ]
  },
  {
   "cell_type": "markdown",
   "metadata": {},
   "source": [
    "### Secciones"
   ]
  },
  {
   "cell_type": "code",
   "execution_count": 903,
   "metadata": {},
   "outputs": [
    {
     "data": {
      "text/plain": [
       "['ALIM.SECA', 'BEBIDAS', 'LECHE Y BATIDOS', 'CONGELADOS', 'DERV.LACTEOS']"
      ]
     },
     "execution_count": 903,
     "metadata": {},
     "output_type": "execute_result"
    }
   ],
   "source": [
    "# Seleccionamos las secciones que hay dentro de de los sectores seleccionados en lista_sectores_diabetes\n",
    "lista_secciones_sectores_diabetes = list(df_comunidades.loc[df_comunidades['SECTOR'].isin(lista_sectores_diabetes), 'SECCION'].unique())[1:]\n",
    "\n",
    "# Copiamos la lista de los secciones de los sectores relacionados con la diabetes\n",
    "lista_secciones_diabetes = lista_secciones_sectores_diabetes.copy()\n",
    "\n",
    "# Creamos una lista de las secciones a eliminar\n",
    "secciones_sin_diabetes = ['CONSERVAS', 'CHARCUTERIA', 'PL. COCINADOS Y PRECOCINADOS', 'QUESOS']\n",
    "\n",
    "# Eliminamos las secciones que no están relacionadas con la diabetes\n",
    "for i in range(len(secciones_sin_diabetes)):\n",
    "    lista_secciones_diabetes.remove(secciones_sin_diabetes[i])\n",
    "\n",
    "# Mostramos las secciones seleccionadas\n",
    "lista_secciones_diabetes"
   ]
  },
  {
   "cell_type": "markdown",
   "metadata": {},
   "source": [
    "### Categorías"
   ]
  },
  {
   "cell_type": "code",
   "execution_count": 904,
   "metadata": {},
   "outputs": [
    {
     "data": {
      "text/plain": [
       "['AZUCAR Y EDULCORANTES',\n",
       " 'BOLLERIA INDUSTRIAL',\n",
       " 'CACAO',\n",
       " 'CEREALES DESAYUNO',\n",
       " 'CHOCOLATES',\n",
       " 'DULCES NAVIDENOS',\n",
       " 'GALLETAS',\n",
       " 'GOLOSINAS',\n",
       " 'REPOSTERIA',\n",
       " 'SALSAS',\n",
       " 'BEBIDAS ALCOHOLICAS',\n",
       " 'BEBIDAS REFRESCANTES',\n",
       " 'ZUMOS',\n",
       " 'BATIDOS',\n",
       " 'HORCHATA.',\n",
       " 'LECHE NO LIQUIDA',\n",
       " 'HELADOS',\n",
       " 'OTROS CONGELADOS',\n",
       " 'NATA',\n",
       " 'POSTRES PREPARADOS',\n",
       " 'YOGURES']"
      ]
     },
     "execution_count": 904,
     "metadata": {},
     "output_type": "execute_result"
    }
   ],
   "source": [
    "# Seleccionamos las categorias que hay dentro de de los secciones seleccionados en lista_secciones_diabetes\n",
    "lista_categorias_secciones_diabetes = list(df_comunidades.loc[df_comunidades['SECCION'].isin(lista_secciones_diabetes), 'CATEGORIA'].unique())[1:]\n",
    "\n",
    "# Copiamos la lista de los categorias de las secciones relacionados con la diabetes\n",
    "lista_categorias_diabetes = lista_categorias_secciones_diabetes.copy()\n",
    "\n",
    "# Creamos una lista de las categorias a eliminar\n",
    "categorias_sin_diabetes = [\n",
    "    'ACEITE', 'ADITIVOS COCINA', 'ALIMENTOS INFANTILES', 'ALIMENTOS MASCOTAS', 'APERITIVOS', 'ARROZ', 'CAFES', 'DIETETICOS', 'FRUTOS SECOS',\n",
    "    'INFUSIONES', 'LEGUMBRES SECAS', 'PANADERIA INDUSTRIAL', 'PASTAS', 'SOPAS Y DESHIDRATADOS', 'AGUAS', 'CERVEZA', 'ESPUMOSOS', 'VINOS',\n",
    "    'LECHE LIQUIDA Y BEBIDAS VEGETALES', 'PESCADO CONGELADO', 'PESCADO PREPARADO CONGELADO', 'PLATOS PREPARADOS CONGELADOS', 'VERDURAS CONGELADAS',\n",
    "    'MANTEQUILLA', 'MARGARINA', 'QUESO TIPO PETIT'\n",
    "]\n",
    "\n",
    "# Eliminamos las categorias que no están relacionadas con la diabetes\n",
    "for i in range(len(categorias_sin_diabetes)):\n",
    "    lista_categorias_diabetes.remove(categorias_sin_diabetes[i])\n",
    "\n",
    "# Mostramos las categorías seleccionadas\n",
    "lista_categorias_diabetes"
   ]
  },
  {
   "cell_type": "code",
   "execution_count": 905,
   "metadata": {},
   "outputs": [
    {
     "data": {
      "text/plain": [
       "120"
      ]
     },
     "execution_count": 905,
     "metadata": {},
     "output_type": "execute_result"
    }
   ],
   "source": [
    "# Seleccionamos las familias de alimentos que hay dentro de de las categorias seleccionados en lista_categorias_diabetes\n",
    "lista_familias_categorias_diabetes = list(df_comunidades.loc[df_comunidades['CATEGORIA'].isin(lista_categorias_diabetes), 'FAMILIA'].unique())[1:]\n",
    "\n",
    "# Copiamos la lista de las familias de alimentos de las categorias relacionados con la diabetes\n",
    "lista_familias_diabetes = lista_familias_categorias_diabetes.copy()\n",
    "\n",
    "# Creamos una lista de las categorias a eliminar\n",
    "famlias_sin_diabetes = [\n",
    "    'EDULCORANTE', 'LEVADURA', 'L.EVAPORADA', 'L.POLVO', 'BASES PIZZA', 'CHURROS', 'FRUTAS', 'HIELO', 'HOJALDRES MASAS RELLENAS', 'HOJALDRES SIN RELLENAR',\n",
    "    'NATA', 'YOGUR NATURAL'\n",
    "]\n",
    "\n",
    "# Eliminamos las familias que no están relacionadas con la diabetes\n",
    "for i in range(len(famlias_sin_diabetes)):\n",
    "    lista_familias_diabetes.remove(famlias_sin_diabetes[i])\n",
    "\n",
    "# Lista de las categorias relacionadas con la diabetes. Mostramos la cantidad de familias de alimentos que hemos seleccionado\n",
    "len(lista_familias_diabetes)"
   ]
  },
  {
   "cell_type": "markdown",
   "metadata": {},
   "source": [
    "## 2.2. Normalización de consumos de alimentos con la poblacion de las CC.AA. <a class=\"anchor\" id=\"normalizacion_consumos\"></a>"
   ]
  },
  {
   "cell_type": "code",
   "execution_count": 906,
   "metadata": {},
   "outputs": [],
   "source": [
    "# Creamos un dataset de las familias de alimentos que tienen relación con la diabetes\n",
    "df_diabetes = df_comunidades[df_comunidades['FAMILIA'].isin(lista_familias_diabetes)].groupby('COMUNIDAD').sum().T\n",
    "\n",
    "# Editamos el índice para que tenga un formato adecuado para ser formateado a fecha (quitamos 'SEMANA', 1 para que la semana empiece en lunes, la semana y el año)\n",
    "df_diabetes.index = '1 ' + df_diabetes.index.str[-5:-3] + ' ' + df_diabetes.index.str[-2:]\n",
    "df_diabetes.index = pd.to_datetime(df_diabetes.index, format=\"%w %W %y\")\n",
    "\n",
    "# Cambiamos la granularidad a mensual\n",
    "df_diabetes = df_diabetes.groupby(pd.Grouper(freq='M')).sum()"
   ]
  },
  {
   "cell_type": "code",
   "execution_count": 907,
   "metadata": {},
   "outputs": [],
   "source": [
    "# Dividimos el DF para cada año\n",
    "df_diabetes_2017 = df_diabetes['2017':'2017']\n",
    "df_diabetes_2018 = df_diabetes['2018':'2018']\n",
    "df_diabetes_2019 = df_diabetes['2019':'2019']"
   ]
  },
  {
   "cell_type": "code",
   "execution_count": 908,
   "metadata": {},
   "outputs": [],
   "source": [
    "# Usamos la función apply para dividir los datos por la población de cada comunidad. Multiplicamos por 1000 para que nos den mejores valores\n",
    "df_diabetes_2017_normalizado = df_diabetes_2017.apply(lambda x: x / df_poblacion['2017'][x.name] * 1000)\n",
    "df_diabetes_2018_normalizado = df_diabetes_2018.apply(lambda x: x / df_poblacion['2018'][x.name] * 1000)\n",
    "df_diabetes_2019_normalizado = df_diabetes_2019.apply(lambda x: x / df_poblacion['2019'][x.name] * 1000)"
   ]
  },
  {
   "cell_type": "code",
   "execution_count": 909,
   "metadata": {},
   "outputs": [],
   "source": [
    "# Unimos el DF con los valores ya normalizados\n",
    "df_diabetes_normalizado = pd.concat([df_diabetes_2017_normalizado, df_diabetes_2018_normalizado, df_diabetes_2019_normalizado])"
   ]
  },
  {
   "cell_type": "code",
   "execution_count": 910,
   "metadata": {},
   "outputs": [
    {
     "data": {
      "application/vnd.plotly.v1+json": {
       "config": {
        "plotlyServerURL": "https://plot.ly"
       },
       "data": [
        {
         "hovertemplate": "COMUNIDAD=Andalucia<br>Tiempo=%{x}<br>Consumo / Población * 100=%{y}<extra></extra>",
         "legendgroup": "Andalucia",
         "line": {
          "color": "#636efa",
          "dash": "solid"
         },
         "marker": {
          "symbol": "circle"
         },
         "mode": "lines",
         "name": "Andalucia",
         "orientation": "v",
         "showlegend": true,
         "type": "scatter",
         "x": [
          "2017-01-31T00:00:00",
          "2017-02-28T00:00:00",
          "2017-03-31T00:00:00",
          "2017-04-30T00:00:00",
          "2017-05-31T00:00:00",
          "2017-06-30T00:00:00",
          "2017-07-31T00:00:00",
          "2017-08-31T00:00:00",
          "2017-09-30T00:00:00",
          "2017-10-31T00:00:00",
          "2017-11-30T00:00:00",
          "2017-12-31T00:00:00",
          "2018-01-31T00:00:00",
          "2018-02-28T00:00:00",
          "2018-03-31T00:00:00",
          "2018-04-30T00:00:00",
          "2018-05-31T00:00:00",
          "2018-06-30T00:00:00",
          "2018-07-31T00:00:00",
          "2018-08-31T00:00:00",
          "2018-09-30T00:00:00",
          "2018-10-31T00:00:00",
          "2018-11-30T00:00:00",
          "2018-12-31T00:00:00",
          "2019-01-31T00:00:00",
          "2019-02-28T00:00:00",
          "2019-03-31T00:00:00",
          "2019-04-30T00:00:00",
          "2019-05-31T00:00:00",
          "2019-06-30T00:00:00",
          "2019-07-31T00:00:00",
          "2019-08-31T00:00:00",
          "2019-09-30T00:00:00",
          "2019-10-31T00:00:00"
         ],
         "xaxis": "x",
         "y": [
          20.733993092930397,
          17.21499387815013,
          17.398865369423206,
          18.331633615041852,
          22.734241308285856,
          20.28745724848505,
          27.429049788658943,
          21.679806964827407,
          19.00162294655494,
          23.52409240293944,
          19.03026198653432,
          24.14197798998069,
          20.49751395685897,
          17.40952849622776,
          17.41383052923951,
          22.629423568127887,
          18.38740791240121,
          19.87565013534647,
          27.461115918977224,
          21.965076127020534,
          19.036058359755394,
          23.42210684403717,
          19.075953841940898,
          24.186778601423022,
          17.304741723554354,
          17.426690942972865,
          17.838965848371334,
          22.79384472037879,
          18.48061619350054,
          19.540572885964746,
          27.027351252163,
          22.877949761356938,
          24.65383088668733,
          18.91551583981441
         ],
         "yaxis": "y"
        },
        {
         "hovertemplate": "COMUNIDAD=Aragon<br>Tiempo=%{x}<br>Consumo / Población * 100=%{y}<extra></extra>",
         "legendgroup": "Aragon",
         "line": {
          "color": "#EF553B",
          "dash": "solid"
         },
         "marker": {
          "symbol": "circle"
         },
         "mode": "lines",
         "name": "Aragon",
         "orientation": "v",
         "showlegend": true,
         "type": "scatter",
         "x": [
          "2017-01-31T00:00:00",
          "2017-02-28T00:00:00",
          "2017-03-31T00:00:00",
          "2017-04-30T00:00:00",
          "2017-05-31T00:00:00",
          "2017-06-30T00:00:00",
          "2017-07-31T00:00:00",
          "2017-08-31T00:00:00",
          "2017-09-30T00:00:00",
          "2017-10-31T00:00:00",
          "2017-11-30T00:00:00",
          "2017-12-31T00:00:00",
          "2018-01-31T00:00:00",
          "2018-02-28T00:00:00",
          "2018-03-31T00:00:00",
          "2018-04-30T00:00:00",
          "2018-05-31T00:00:00",
          "2018-06-30T00:00:00",
          "2018-07-31T00:00:00",
          "2018-08-31T00:00:00",
          "2018-09-30T00:00:00",
          "2018-10-31T00:00:00",
          "2018-11-30T00:00:00",
          "2018-12-31T00:00:00",
          "2019-01-31T00:00:00",
          "2019-02-28T00:00:00",
          "2019-03-31T00:00:00",
          "2019-04-30T00:00:00",
          "2019-05-31T00:00:00",
          "2019-06-30T00:00:00",
          "2019-07-31T00:00:00",
          "2019-08-31T00:00:00",
          "2019-09-30T00:00:00",
          "2019-10-31T00:00:00"
         ],
         "xaxis": "x",
         "y": [
          20.48255205348615,
          17.27677554918816,
          17.317004775549186,
          18.089574021012414,
          22.55265711556829,
          19.091102196752626,
          24.13135434574976,
          18.96421776504298,
          17.653516714422157,
          23.40783190066858,
          19.097405921680995,
          24.460126074498568,
          20.32452121449224,
          17.566537890226233,
          17.635589671803462,
          22.415314717802325,
          18.078355471878037,
          18.76237843157631,
          24.352294747266047,
          19.13865982847467,
          18.44562812135142,
          23.41093794890917,
          19.10957815527749,
          24.239406507692966,
          17.12350042560739,
          17.536949770748077,
          18.141986870220446,
          23.008676630099046,
          18.356943236935596,
          19.059017305507275,
          25.065993779992432,
          20.15154351845044,
          23.663475306054544,
          18.595253056376492
         ],
         "yaxis": "y"
        },
        {
         "hovertemplate": "COMUNIDAD=Asturias<br>Tiempo=%{x}<br>Consumo / Población * 100=%{y}<extra></extra>",
         "legendgroup": "Asturias",
         "line": {
          "color": "#00cc96",
          "dash": "solid"
         },
         "marker": {
          "symbol": "circle"
         },
         "mode": "lines",
         "name": "Asturias",
         "orientation": "v",
         "showlegend": true,
         "type": "scatter",
         "x": [
          "2017-01-31T00:00:00",
          "2017-02-28T00:00:00",
          "2017-03-31T00:00:00",
          "2017-04-30T00:00:00",
          "2017-05-31T00:00:00",
          "2017-06-30T00:00:00",
          "2017-07-31T00:00:00",
          "2017-08-31T00:00:00",
          "2017-09-30T00:00:00",
          "2017-10-31T00:00:00",
          "2017-11-30T00:00:00",
          "2017-12-31T00:00:00",
          "2018-01-31T00:00:00",
          "2018-02-28T00:00:00",
          "2018-03-31T00:00:00",
          "2018-04-30T00:00:00",
          "2018-05-31T00:00:00",
          "2018-06-30T00:00:00",
          "2018-07-31T00:00:00",
          "2018-08-31T00:00:00",
          "2018-09-30T00:00:00",
          "2018-10-31T00:00:00",
          "2018-11-30T00:00:00",
          "2018-12-31T00:00:00",
          "2019-01-31T00:00:00",
          "2019-02-28T00:00:00",
          "2019-03-31T00:00:00",
          "2019-04-30T00:00:00",
          "2019-05-31T00:00:00",
          "2019-06-30T00:00:00",
          "2019-07-31T00:00:00",
          "2019-08-31T00:00:00",
          "2019-09-30T00:00:00",
          "2019-10-31T00:00:00"
         ],
         "xaxis": "x",
         "y": [
          21.907890160006186,
          17.987265208317226,
          18.18183311432326,
          18.74562301924712,
          22.28732511401407,
          18.698220221071345,
          24.6700162325114,
          19.466249903377907,
          17.798513952230035,
          22.892681842776533,
          19.62585993661591,
          24.334351086032314,
          21.574927740886405,
          17.989980977277767,
          18.472113622836602,
          22.845248793088025,
          18.361760438183932,
          18.928094887983786,
          24.923938287021368,
          20.456681488051473,
          18.75555801930281,
          23.584830059791255,
          20.138624684413426,
          24.88856730503655,
          18.57769847477513,
          18.40101681658193,
          18.8847379741885,
          23.74760461478295,
          18.91903597966367,
          19.129536566288618,
          24.861615174032067,
          21.364313648807194,
          23.89932538130622,
          19.05840829096598
         ],
         "yaxis": "y"
        },
        {
         "hovertemplate": "COMUNIDAD=Baleares<br>Tiempo=%{x}<br>Consumo / Población * 100=%{y}<extra></extra>",
         "legendgroup": "Baleares",
         "line": {
          "color": "#ab63fa",
          "dash": "solid"
         },
         "marker": {
          "symbol": "circle"
         },
         "mode": "lines",
         "name": "Baleares",
         "orientation": "v",
         "showlegend": true,
         "type": "scatter",
         "x": [
          "2017-01-31T00:00:00",
          "2017-02-28T00:00:00",
          "2017-03-31T00:00:00",
          "2017-04-30T00:00:00",
          "2017-05-31T00:00:00",
          "2017-06-30T00:00:00",
          "2017-07-31T00:00:00",
          "2017-08-31T00:00:00",
          "2017-09-30T00:00:00",
          "2017-10-31T00:00:00",
          "2017-11-30T00:00:00",
          "2017-12-31T00:00:00",
          "2018-01-31T00:00:00",
          "2018-02-28T00:00:00",
          "2018-03-31T00:00:00",
          "2018-04-30T00:00:00",
          "2018-05-31T00:00:00",
          "2018-06-30T00:00:00",
          "2018-07-31T00:00:00",
          "2018-08-31T00:00:00",
          "2018-09-30T00:00:00",
          "2018-10-31T00:00:00",
          "2018-11-30T00:00:00",
          "2018-12-31T00:00:00",
          "2019-01-31T00:00:00",
          "2019-02-28T00:00:00",
          "2019-03-31T00:00:00",
          "2019-04-30T00:00:00",
          "2019-05-31T00:00:00",
          "2019-06-30T00:00:00",
          "2019-07-31T00:00:00",
          "2019-08-31T00:00:00",
          "2019-09-30T00:00:00",
          "2019-10-31T00:00:00"
         ],
         "xaxis": "x",
         "y": [
          24.60045215094279,
          20.834481034481215,
          21.960942617332094,
          24.297781628836585,
          31.782349267338056,
          29.599067741100125,
          43.26095274278919,
          33.21090789507876,
          27.353456409907178,
          31.872089491119617,
          23.72998542113389,
          27.649155599601794,
          24.909939516771956,
          21.76897497404571,
          23.2891431365532,
          30.243642528886323,
          26.189538917254552,
          29.638827964723426,
          43.243842722347615,
          33.19864860555511,
          28.156935729040807,
          31.841080052581788,
          23.214052872333262,
          26.97373922409975,
          20.740643432568337,
          21.148147825935656,
          22.04851843474327,
          29.818619177700832,
          24.688723400553304,
          27.843222034694552,
          40.86854696988151,
          33.63260139543786,
          35.312659857672294,
          25.86762479773111
         ],
         "yaxis": "y"
        },
        {
         "hovertemplate": "COMUNIDAD=C_Valenciana<br>Tiempo=%{x}<br>Consumo / Población * 100=%{y}<extra></extra>",
         "legendgroup": "C_Valenciana",
         "line": {
          "color": "#FFA15A",
          "dash": "solid"
         },
         "marker": {
          "symbol": "circle"
         },
         "mode": "lines",
         "name": "C_Valenciana",
         "orientation": "v",
         "showlegend": true,
         "type": "scatter",
         "x": [
          "2017-01-31T00:00:00",
          "2017-02-28T00:00:00",
          "2017-03-31T00:00:00",
          "2017-04-30T00:00:00",
          "2017-05-31T00:00:00",
          "2017-06-30T00:00:00",
          "2017-07-31T00:00:00",
          "2017-08-31T00:00:00",
          "2017-09-30T00:00:00",
          "2017-10-31T00:00:00",
          "2017-11-30T00:00:00",
          "2017-12-31T00:00:00",
          "2018-01-31T00:00:00",
          "2018-02-28T00:00:00",
          "2018-03-31T00:00:00",
          "2018-04-30T00:00:00",
          "2018-05-31T00:00:00",
          "2018-06-30T00:00:00",
          "2018-07-31T00:00:00",
          "2018-08-31T00:00:00",
          "2018-09-30T00:00:00",
          "2018-10-31T00:00:00",
          "2018-11-30T00:00:00",
          "2018-12-31T00:00:00",
          "2019-01-31T00:00:00",
          "2019-02-28T00:00:00",
          "2019-03-31T00:00:00",
          "2019-04-30T00:00:00",
          "2019-05-31T00:00:00",
          "2019-06-30T00:00:00",
          "2019-07-31T00:00:00",
          "2019-08-31T00:00:00",
          "2019-09-30T00:00:00",
          "2019-10-31T00:00:00"
         ],
         "xaxis": "x",
         "y": [
          22.399991581518925,
          18.54717253373413,
          19.110251544619263,
          20.748941264702747,
          24.498988062148626,
          23.057126881687356,
          33.91402302414101,
          25.88819730976914,
          21.125907086276683,
          25.61253859903928,
          20.50142375537513,
          24.697030805772084,
          22.406421173869592,
          19.09018126185229,
          20.90773964518022,
          24.80833764630962,
          20.48189224858941,
          23.27623147476793,
          34.46284356658728,
          26.590321781943842,
          21.745579862453496,
          25.866549630386828,
          20.413388955785628,
          24.389799309104514,
          19.191653331718552,
          19.002873633854797,
          20.02109809625504,
          26.193213555621774,
          20.29272934062304,
          22.48262859456542,
          33.095380702026816,
          27.978192038841122,
          28.162029462191402,
          21.02953393731805
         ],
         "yaxis": "y"
        },
        {
         "hovertemplate": "COMUNIDAD=Canarias<br>Tiempo=%{x}<br>Consumo / Población * 100=%{y}<extra></extra>",
         "legendgroup": "Canarias",
         "line": {
          "color": "#19d3f3",
          "dash": "solid"
         },
         "marker": {
          "symbol": "circle"
         },
         "mode": "lines",
         "name": "Canarias",
         "orientation": "v",
         "showlegend": true,
         "type": "scatter",
         "x": [
          "2017-01-31T00:00:00",
          "2017-02-28T00:00:00",
          "2017-03-31T00:00:00",
          "2017-04-30T00:00:00",
          "2017-05-31T00:00:00",
          "2017-06-30T00:00:00",
          "2017-07-31T00:00:00",
          "2017-08-31T00:00:00",
          "2017-09-30T00:00:00",
          "2017-10-31T00:00:00",
          "2017-11-30T00:00:00",
          "2017-12-31T00:00:00",
          "2018-01-31T00:00:00",
          "2018-02-28T00:00:00",
          "2018-03-31T00:00:00",
          "2018-04-30T00:00:00",
          "2018-05-31T00:00:00",
          "2018-06-30T00:00:00",
          "2018-07-31T00:00:00",
          "2018-08-31T00:00:00",
          "2018-09-30T00:00:00",
          "2018-10-31T00:00:00",
          "2018-11-30T00:00:00",
          "2018-12-31T00:00:00",
          "2019-01-31T00:00:00",
          "2019-02-28T00:00:00",
          "2019-03-31T00:00:00",
          "2019-04-30T00:00:00",
          "2019-05-31T00:00:00",
          "2019-06-30T00:00:00",
          "2019-07-31T00:00:00",
          "2019-08-31T00:00:00",
          "2019-09-30T00:00:00",
          "2019-10-31T00:00:00"
         ],
         "xaxis": "x",
         "y": [
          30.72400493140574,
          25.704288321211163,
          24.94888101774044,
          25.911757437073106,
          30.453754789217506,
          25.85348279344497,
          34.6760740963161,
          27.941783227812824,
          26.383978908231548,
          34.58246941233449,
          28.231434533406762,
          32.7942371429344,
          30.78396473162146,
          26.631865149211468,
          26.204372357750326,
          32.17267593652256,
          24.625233528459336,
          25.89830261528375,
          34.761099504860915,
          27.514514601550513,
          26.540535840596704,
          33.846058039606426,
          27.510317551705256,
          31.861652453253182,
          24.940672586327874,
          25.378048276460962,
          26.69494457341428,
          31.81298873543053,
          24.374263080195917,
          25.43747088891046,
          33.66760487770672,
          27.718558978428884,
          32.95019617913903,
          26.52178960698694
         ],
         "yaxis": "y"
        },
        {
         "hovertemplate": "COMUNIDAD=Cantabria<br>Tiempo=%{x}<br>Consumo / Población * 100=%{y}<extra></extra>",
         "legendgroup": "Cantabria",
         "line": {
          "color": "#FF6692",
          "dash": "solid"
         },
         "marker": {
          "symbol": "circle"
         },
         "mode": "lines",
         "name": "Cantabria",
         "orientation": "v",
         "showlegend": true,
         "type": "scatter",
         "x": [
          "2017-01-31T00:00:00",
          "2017-02-28T00:00:00",
          "2017-03-31T00:00:00",
          "2017-04-30T00:00:00",
          "2017-05-31T00:00:00",
          "2017-06-30T00:00:00",
          "2017-07-31T00:00:00",
          "2017-08-31T00:00:00",
          "2017-09-30T00:00:00",
          "2017-10-31T00:00:00",
          "2017-11-30T00:00:00",
          "2017-12-31T00:00:00",
          "2018-01-31T00:00:00",
          "2018-02-28T00:00:00",
          "2018-03-31T00:00:00",
          "2018-04-30T00:00:00",
          "2018-05-31T00:00:00",
          "2018-06-30T00:00:00",
          "2018-07-31T00:00:00",
          "2018-08-31T00:00:00",
          "2018-09-30T00:00:00",
          "2018-10-31T00:00:00",
          "2018-11-30T00:00:00",
          "2018-12-31T00:00:00",
          "2019-01-31T00:00:00",
          "2019-02-28T00:00:00",
          "2019-03-31T00:00:00",
          "2019-04-30T00:00:00",
          "2019-05-31T00:00:00",
          "2019-06-30T00:00:00",
          "2019-07-31T00:00:00",
          "2019-08-31T00:00:00",
          "2019-09-30T00:00:00",
          "2019-10-31T00:00:00"
         ],
         "xaxis": "x",
         "y": [
          25.423637977235714,
          21.06256300674657,
          21.27407611645801,
          23.537597256567782,
          26.941745146864957,
          23.580937281899722,
          36.21940564712776,
          29.724846845139112,
          22.257420794595852,
          27.93374059745474,
          23.365822555769046,
          28.890133466598883,
          25.133938496696995,
          20.978975542415153,
          22.388350116936586,
          28.047563979049652,
          22.052965294737078,
          24.004108722590562,
          36.89040016958821,
          30.720370750169327,
          23.637219097976832,
          28.554898152281257,
          23.405655353317396,
          28.213188241194427,
          21.694746660517175,
          20.9870791873036,
          22.173770130688137,
          28.79868107207638,
          22.485707598635642,
          23.313341754463256,
          35.32678917460307,
          32.392243382127695,
          30.991020138432365,
          22.45722605226837
         ],
         "yaxis": "y"
        },
        {
         "hovertemplate": "COMUNIDAD=Castilla_La_Mancha<br>Tiempo=%{x}<br>Consumo / Población * 100=%{y}<extra></extra>",
         "legendgroup": "Castilla_La_Mancha",
         "line": {
          "color": "#B6E880",
          "dash": "solid"
         },
         "marker": {
          "symbol": "circle"
         },
         "mode": "lines",
         "name": "Castilla_La_Mancha",
         "orientation": "v",
         "showlegend": true,
         "type": "scatter",
         "x": [
          "2017-01-31T00:00:00",
          "2017-02-28T00:00:00",
          "2017-03-31T00:00:00",
          "2017-04-30T00:00:00",
          "2017-05-31T00:00:00",
          "2017-06-30T00:00:00",
          "2017-07-31T00:00:00",
          "2017-08-31T00:00:00",
          "2017-09-30T00:00:00",
          "2017-10-31T00:00:00",
          "2017-11-30T00:00:00",
          "2017-12-31T00:00:00",
          "2018-01-31T00:00:00",
          "2018-02-28T00:00:00",
          "2018-03-31T00:00:00",
          "2018-04-30T00:00:00",
          "2018-05-31T00:00:00",
          "2018-06-30T00:00:00",
          "2018-07-31T00:00:00",
          "2018-08-31T00:00:00",
          "2018-09-30T00:00:00",
          "2018-10-31T00:00:00",
          "2018-11-30T00:00:00",
          "2018-12-31T00:00:00",
          "2019-01-31T00:00:00",
          "2019-02-28T00:00:00",
          "2019-03-31T00:00:00",
          "2019-04-30T00:00:00",
          "2019-05-31T00:00:00",
          "2019-06-30T00:00:00",
          "2019-07-31T00:00:00",
          "2019-08-31T00:00:00",
          "2019-09-30T00:00:00",
          "2019-10-31T00:00:00"
         ],
         "xaxis": "x",
         "y": [
          19.18052315578945,
          15.740797714374603,
          15.827990345949921,
          16.586560825881044,
          20.27196933859518,
          17.914391435993185,
          23.41258757781892,
          18.78889223073436,
          17.00887383034725,
          20.953891229001137,
          17.221157590110455,
          21.562861343878033,
          18.916976308054984,
          15.971772349315943,
          16.003941174468018,
          20.734194227669434,
          16.382324513384845,
          17.92743462993763,
          23.935224222138565,
          19.13058816157631,
          17.258594429563345,
          20.784228592066242,
          16.92250914862639,
          21.25114034044682,
          15.801856790152605,
          15.721246340751934,
          16.265552572898418,
          20.504121527127012,
          16.74854134292375,
          17.335516461266696,
          23.916136994967193,
          19.444822400722526,
          21.744947888765747,
          16.60917140013862
         ],
         "yaxis": "y"
        },
        {
         "hovertemplate": "COMUNIDAD=Castilla_y_Leon<br>Tiempo=%{x}<br>Consumo / Población * 100=%{y}<extra></extra>",
         "legendgroup": "Castilla_y_Leon",
         "line": {
          "color": "#FF97FF",
          "dash": "solid"
         },
         "marker": {
          "symbol": "circle"
         },
         "mode": "lines",
         "name": "Castilla_y_Leon",
         "orientation": "v",
         "showlegend": true,
         "type": "scatter",
         "x": [
          "2017-01-31T00:00:00",
          "2017-02-28T00:00:00",
          "2017-03-31T00:00:00",
          "2017-04-30T00:00:00",
          "2017-05-31T00:00:00",
          "2017-06-30T00:00:00",
          "2017-07-31T00:00:00",
          "2017-08-31T00:00:00",
          "2017-09-30T00:00:00",
          "2017-10-31T00:00:00",
          "2017-11-30T00:00:00",
          "2017-12-31T00:00:00",
          "2018-01-31T00:00:00",
          "2018-02-28T00:00:00",
          "2018-03-31T00:00:00",
          "2018-04-30T00:00:00",
          "2018-05-31T00:00:00",
          "2018-06-30T00:00:00",
          "2018-07-31T00:00:00",
          "2018-08-31T00:00:00",
          "2018-09-30T00:00:00",
          "2018-10-31T00:00:00",
          "2018-11-30T00:00:00",
          "2018-12-31T00:00:00",
          "2019-01-31T00:00:00",
          "2019-02-28T00:00:00",
          "2019-03-31T00:00:00",
          "2019-04-30T00:00:00",
          "2019-05-31T00:00:00",
          "2019-06-30T00:00:00",
          "2019-07-31T00:00:00",
          "2019-08-31T00:00:00",
          "2019-09-30T00:00:00",
          "2019-10-31T00:00:00"
         ],
         "xaxis": "x",
         "y": [
          20.081494731018743,
          16.515748818637636,
          16.79744958469388,
          18.008385683739107,
          21.351792665597877,
          18.92185302916439,
          25.653765498488955,
          21.376436072043834,
          17.549831993638392,
          22.28159276049437,
          18.938086842243035,
          24.134415807397232,
          19.979739859968024,
          16.878211695011217,
          17.46474710729531,
          21.781937634797796,
          17.609124991075742,
          18.697614608220945,
          26.27013769091685,
          22.497974401078547,
          18.29974630203672,
          22.524377750954272,
          19.034557215698058,
          24.117673184556967,
          17.05518289277814,
          16.927671378109544,
          17.646715131349737,
          22.520553870979032,
          18.06712347492111,
          18.898109143888764,
          26.216337410212255,
          23.43312157122925,
          23.649083077312895,
          17.94512133118404
         ],
         "yaxis": "y"
        },
        {
         "hovertemplate": "COMUNIDAD=Catalunya<br>Tiempo=%{x}<br>Consumo / Población * 100=%{y}<extra></extra>",
         "legendgroup": "Catalunya",
         "line": {
          "color": "#FECB52",
          "dash": "solid"
         },
         "marker": {
          "symbol": "circle"
         },
         "mode": "lines",
         "name": "Catalunya",
         "orientation": "v",
         "showlegend": true,
         "type": "scatter",
         "x": [
          "2017-01-31T00:00:00",
          "2017-02-28T00:00:00",
          "2017-03-31T00:00:00",
          "2017-04-30T00:00:00",
          "2017-05-31T00:00:00",
          "2017-06-30T00:00:00",
          "2017-07-31T00:00:00",
          "2017-08-31T00:00:00",
          "2017-09-30T00:00:00",
          "2017-10-31T00:00:00",
          "2017-11-30T00:00:00",
          "2017-12-31T00:00:00",
          "2018-01-31T00:00:00",
          "2018-02-28T00:00:00",
          "2018-03-31T00:00:00",
          "2018-04-30T00:00:00",
          "2018-05-31T00:00:00",
          "2018-06-30T00:00:00",
          "2018-07-31T00:00:00",
          "2018-08-31T00:00:00",
          "2018-09-30T00:00:00",
          "2018-10-31T00:00:00",
          "2018-11-30T00:00:00",
          "2018-12-31T00:00:00",
          "2019-01-31T00:00:00",
          "2019-02-28T00:00:00",
          "2019-03-31T00:00:00",
          "2019-04-30T00:00:00",
          "2019-05-31T00:00:00",
          "2019-06-30T00:00:00",
          "2019-07-31T00:00:00",
          "2019-08-31T00:00:00",
          "2019-09-30T00:00:00",
          "2019-10-31T00:00:00"
         ],
         "xaxis": "x",
         "y": [
          21.383080349875524,
          17.91590334880483,
          18.144694891229683,
          19.103530651166054,
          23.321465676173233,
          20.979561477693384,
          28.471958739145798,
          21.714796389013518,
          18.9514983793971,
          24.3484660189549,
          20.107007436641638,
          24.694435952105856,
          21.418929969677894,
          18.5253178755708,
          19.46611903977137,
          23.50793184005663,
          19.109960243761073,
          21.231511835754038,
          29.030305661859472,
          22.232075646721444,
          19.794908333020835,
          24.74317259128705,
          20.141877733940436,
          24.96806540470378,
          18.28440029773751,
          18.45442024635916,
          19.140415183049548,
          24.546895547057495,
          19.061200484624738,
          21.074898598958175,
          28.19112736486799,
          22.87544052500405,
          25.36454148462512,
          19.666358618915925
         ],
         "yaxis": "y"
        },
        {
         "hovertemplate": "COMUNIDAD=Ceuta_y_Melilla<br>Tiempo=%{x}<br>Consumo / Población * 100=%{y}<extra></extra>",
         "legendgroup": "Ceuta_y_Melilla",
         "line": {
          "color": "#636efa",
          "dash": "solid"
         },
         "marker": {
          "symbol": "circle"
         },
         "mode": "lines",
         "name": "Ceuta_y_Melilla",
         "orientation": "v",
         "showlegend": true,
         "type": "scatter",
         "x": [
          "2017-01-31T00:00:00",
          "2017-02-28T00:00:00",
          "2017-03-31T00:00:00",
          "2017-04-30T00:00:00",
          "2017-05-31T00:00:00",
          "2017-06-30T00:00:00",
          "2017-07-31T00:00:00",
          "2017-08-31T00:00:00",
          "2017-09-30T00:00:00",
          "2017-10-31T00:00:00",
          "2017-11-30T00:00:00",
          "2017-12-31T00:00:00",
          "2018-01-31T00:00:00",
          "2018-02-28T00:00:00",
          "2018-03-31T00:00:00",
          "2018-04-30T00:00:00",
          "2018-05-31T00:00:00",
          "2018-06-30T00:00:00",
          "2018-07-31T00:00:00",
          "2018-08-31T00:00:00",
          "2018-09-30T00:00:00",
          "2018-10-31T00:00:00",
          "2018-11-30T00:00:00",
          "2018-12-31T00:00:00",
          "2019-01-31T00:00:00",
          "2019-02-28T00:00:00",
          "2019-03-31T00:00:00",
          "2019-04-30T00:00:00",
          "2019-05-31T00:00:00",
          "2019-06-30T00:00:00",
          "2019-07-31T00:00:00",
          "2019-08-31T00:00:00",
          "2019-09-30T00:00:00",
          "2019-10-31T00:00:00"
         ],
         "xaxis": "x",
         "y": [
          4.163573553738331,
          3.1548582818463986,
          3.8896650085632953,
          6.386990805417381,
          8.757825332156488,
          7.557210411564249,
          8.462172446647456,
          6.75413113240082,
          6.389153548945224,
          8.716440942488559,
          7.90693188526938,
          10.696812583660181,
          12.55859101721002,
          11.455505806632154,
          9.52252693437806,
          13.40440044774031,
          11.67663588452031,
          11.254547362529731,
          13.725863998880648,
          10.955645725479222,
          12.459365234830466,
          17.634496991744786,
          15.255818292057276,
          17.51818945011893,
          14.659648262331839,
          16.53826840433483,
          15.406331745142005,
          18.379285781016442,
          16.080729166666668,
          15.695651158445438,
          21.437663490284006,
          17.522655082212257,
          20.330133594917786,
          15.687885369955156
         ],
         "yaxis": "y"
        },
        {
         "hovertemplate": "COMUNIDAD=Extremadura<br>Tiempo=%{x}<br>Consumo / Población * 100=%{y}<extra></extra>",
         "legendgroup": "Extremadura",
         "line": {
          "color": "#EF553B",
          "dash": "solid"
         },
         "marker": {
          "symbol": "circle"
         },
         "mode": "lines",
         "name": "Extremadura",
         "orientation": "v",
         "showlegend": true,
         "type": "scatter",
         "x": [
          "2017-01-31T00:00:00",
          "2017-02-28T00:00:00",
          "2017-03-31T00:00:00",
          "2017-04-30T00:00:00",
          "2017-05-31T00:00:00",
          "2017-06-30T00:00:00",
          "2017-07-31T00:00:00",
          "2017-08-31T00:00:00",
          "2017-09-30T00:00:00",
          "2017-10-31T00:00:00",
          "2017-11-30T00:00:00",
          "2017-12-31T00:00:00",
          "2018-01-31T00:00:00",
          "2018-02-28T00:00:00",
          "2018-03-31T00:00:00",
          "2018-04-30T00:00:00",
          "2018-05-31T00:00:00",
          "2018-06-30T00:00:00",
          "2018-07-31T00:00:00",
          "2018-08-31T00:00:00",
          "2018-09-30T00:00:00",
          "2018-10-31T00:00:00",
          "2018-11-30T00:00:00",
          "2018-12-31T00:00:00",
          "2019-01-31T00:00:00",
          "2019-02-28T00:00:00",
          "2019-03-31T00:00:00",
          "2019-04-30T00:00:00",
          "2019-05-31T00:00:00",
          "2019-06-30T00:00:00",
          "2019-07-31T00:00:00",
          "2019-08-31T00:00:00",
          "2019-09-30T00:00:00",
          "2019-10-31T00:00:00"
         ],
         "xaxis": "x",
         "y": [
          18.595581154159568,
          15.76475109267353,
          15.802818727313133,
          18.77492777242759,
          21.53145603378028,
          17.9031594932958,
          23.544031039336247,
          20.304615156678274,
          17.627194607007926,
          21.234878509519223,
          16.98634158085784,
          23.0138343581006,
          18.383959554947836,
          15.72596873971793,
          16.32638090790716,
          20.482932117148227,
          16.69939218707328,
          17.14838707272038,
          23.08410300289972,
          19.751356883404497,
          16.951567907552032,
          21.277264664733522,
          17.24509093891764,
          22.633038887537367,
          15.382454037144917,
          15.438386827883976,
          16.089846493898158,
          21.194875012878025,
          16.752367215817028,
          17.18405746878834,
          22.611729776812055,
          20.104194959305428,
          22.044721881409746,
          16.910097311067616
         ],
         "yaxis": "y"
        },
        {
         "hovertemplate": "COMUNIDAD=Galicia<br>Tiempo=%{x}<br>Consumo / Población * 100=%{y}<extra></extra>",
         "legendgroup": "Galicia",
         "line": {
          "color": "#00cc96",
          "dash": "solid"
         },
         "marker": {
          "symbol": "circle"
         },
         "mode": "lines",
         "name": "Galicia",
         "orientation": "v",
         "showlegend": true,
         "type": "scatter",
         "x": [
          "2017-01-31T00:00:00",
          "2017-02-28T00:00:00",
          "2017-03-31T00:00:00",
          "2017-04-30T00:00:00",
          "2017-05-31T00:00:00",
          "2017-06-30T00:00:00",
          "2017-07-31T00:00:00",
          "2017-08-31T00:00:00",
          "2017-09-30T00:00:00",
          "2017-10-31T00:00:00",
          "2017-11-30T00:00:00",
          "2017-12-31T00:00:00",
          "2018-01-31T00:00:00",
          "2018-02-28T00:00:00",
          "2018-03-31T00:00:00",
          "2018-04-30T00:00:00",
          "2018-05-31T00:00:00",
          "2018-06-30T00:00:00",
          "2018-07-31T00:00:00",
          "2018-08-31T00:00:00",
          "2018-09-30T00:00:00",
          "2018-10-31T00:00:00",
          "2018-11-30T00:00:00",
          "2018-12-31T00:00:00",
          "2019-01-31T00:00:00",
          "2019-02-28T00:00:00",
          "2019-03-31T00:00:00",
          "2019-04-30T00:00:00",
          "2019-05-31T00:00:00",
          "2019-06-30T00:00:00",
          "2019-07-31T00:00:00",
          "2019-08-31T00:00:00",
          "2019-09-30T00:00:00",
          "2019-10-31T00:00:00"
         ],
         "xaxis": "x",
         "y": [
          20.781098673393547,
          17.03776004407129,
          17.2697324817905,
          18.410221172460318,
          21.98197123772172,
          19.104569258132013,
          25.437676007324047,
          20.344720509507855,
          17.937256008202812,
          22.79680276361268,
          19.43343133928212,
          24.813212083125485,
          20.30805298653499,
          17.294431779780684,
          17.9985179937544,
          22.374637409997913,
          18.086083687456576,
          19.276807601611257,
          25.97311809450418,
          20.9928849635217,
          18.77341035028128,
          23.00595208352534,
          19.519724859100215,
          24.576031102884322,
          17.53480182804291,
          17.49229023607714,
          17.79863967350979,
          23.292818408156478,
          18.28476320976596,
          19.265634104698687,
          25.431096659046734,
          21.741356451697147,
          24.117882614514766,
          18.47010871276485
         ],
         "yaxis": "y"
        },
        {
         "hovertemplate": "COMUNIDAD=La_Rioja<br>Tiempo=%{x}<br>Consumo / Población * 100=%{y}<extra></extra>",
         "legendgroup": "La_Rioja",
         "line": {
          "color": "#ab63fa",
          "dash": "solid"
         },
         "marker": {
          "symbol": "circle"
         },
         "mode": "lines",
         "name": "La_Rioja",
         "orientation": "v",
         "showlegend": true,
         "type": "scatter",
         "x": [
          "2017-01-31T00:00:00",
          "2017-02-28T00:00:00",
          "2017-03-31T00:00:00",
          "2017-04-30T00:00:00",
          "2017-05-31T00:00:00",
          "2017-06-30T00:00:00",
          "2017-07-31T00:00:00",
          "2017-08-31T00:00:00",
          "2017-09-30T00:00:00",
          "2017-10-31T00:00:00",
          "2017-11-30T00:00:00",
          "2017-12-31T00:00:00",
          "2018-01-31T00:00:00",
          "2018-02-28T00:00:00",
          "2018-03-31T00:00:00",
          "2018-04-30T00:00:00",
          "2018-05-31T00:00:00",
          "2018-06-30T00:00:00",
          "2018-07-31T00:00:00",
          "2018-08-31T00:00:00",
          "2018-09-30T00:00:00",
          "2018-10-31T00:00:00",
          "2018-11-30T00:00:00",
          "2018-12-31T00:00:00",
          "2019-01-31T00:00:00",
          "2019-02-28T00:00:00",
          "2019-03-31T00:00:00",
          "2019-04-30T00:00:00",
          "2019-05-31T00:00:00",
          "2019-06-30T00:00:00",
          "2019-07-31T00:00:00",
          "2019-08-31T00:00:00",
          "2019-09-30T00:00:00",
          "2019-10-31T00:00:00"
         ],
         "xaxis": "x",
         "y": [
          21.067692727209312,
          16.909452376649195,
          17.40954591430682,
          19.040874370998885,
          22.820366477371813,
          19.35563651583323,
          26.027027626902065,
          20.756957457805004,
          18.443913869256548,
          23.263259359314606,
          19.691103776067678,
          24.939866383834158,
          21.053393521818325,
          17.28049417913994,
          18.065003563791873,
          22.88115942028986,
          18.269549378316306,
          19.25885800269264,
          26.55335392413083,
          21.39342678387582,
          19.051968005068503,
          23.645553179694303,
          19.519885958660016,
          25.223505187297064,
          17.867095120550005,
          17.56876621695844,
          18.25816450861432,
          23.43051408152829,
          18.74790876205027,
          19.534624587276433,
          27.74525091698811,
          22.44430204736141,
          24.78901381953169,
          19.25716071439845
         ],
         "yaxis": "y"
        },
        {
         "hovertemplate": "COMUNIDAD=Madrid<br>Tiempo=%{x}<br>Consumo / Población * 100=%{y}<extra></extra>",
         "legendgroup": "Madrid",
         "line": {
          "color": "#FFA15A",
          "dash": "solid"
         },
         "marker": {
          "symbol": "circle"
         },
         "mode": "lines",
         "name": "Madrid",
         "orientation": "v",
         "showlegend": true,
         "type": "scatter",
         "x": [
          "2017-01-31T00:00:00",
          "2017-02-28T00:00:00",
          "2017-03-31T00:00:00",
          "2017-04-30T00:00:00",
          "2017-05-31T00:00:00",
          "2017-06-30T00:00:00",
          "2017-07-31T00:00:00",
          "2017-08-31T00:00:00",
          "2017-09-30T00:00:00",
          "2017-10-31T00:00:00",
          "2017-11-30T00:00:00",
          "2017-12-31T00:00:00",
          "2018-01-31T00:00:00",
          "2018-02-28T00:00:00",
          "2018-03-31T00:00:00",
          "2018-04-30T00:00:00",
          "2018-05-31T00:00:00",
          "2018-06-30T00:00:00",
          "2018-07-31T00:00:00",
          "2018-08-31T00:00:00",
          "2018-09-30T00:00:00",
          "2018-10-31T00:00:00",
          "2018-11-30T00:00:00",
          "2018-12-31T00:00:00",
          "2019-01-31T00:00:00",
          "2019-02-28T00:00:00",
          "2019-03-31T00:00:00",
          "2019-04-30T00:00:00",
          "2019-05-31T00:00:00",
          "2019-06-30T00:00:00",
          "2019-07-31T00:00:00",
          "2019-08-31T00:00:00",
          "2019-09-30T00:00:00",
          "2019-10-31T00:00:00"
         ],
         "xaxis": "x",
         "y": [
          23.688219051436075,
          19.260311372784294,
          18.970384117000535,
          18.49476978059941,
          23.984454719583773,
          20.156775957157503,
          22.150215823004235,
          16.24020928254065,
          19.256620067912632,
          25.384278360654932,
          21.29245000602411,
          25.696642357124066,
          23.05006674440973,
          19.335915546164767,
          18.38101062635459,
          24.48460865246526,
          19.816805179749288,
          20.285806844216985,
          23.08084016625522,
          16.831859270768867,
          19.93767025297203,
          25.340317439179433,
          21.218851278617965,
          25.683493615689322,
          19.239105476878603,
          19.281968018100088,
          19.634088874228357,
          23.778722975108483,
          19.435308793086527,
          20.468001742055172,
          24.26669051837547,
          16.369713392304284,
          23.99556442257504,
          20.03901465229281
         ],
         "yaxis": "y"
        },
        {
         "hovertemplate": "COMUNIDAD=Murcia<br>Tiempo=%{x}<br>Consumo / Población * 100=%{y}<extra></extra>",
         "legendgroup": "Murcia",
         "line": {
          "color": "#19d3f3",
          "dash": "solid"
         },
         "marker": {
          "symbol": "circle"
         },
         "mode": "lines",
         "name": "Murcia",
         "orientation": "v",
         "showlegend": true,
         "type": "scatter",
         "x": [
          "2017-01-31T00:00:00",
          "2017-02-28T00:00:00",
          "2017-03-31T00:00:00",
          "2017-04-30T00:00:00",
          "2017-05-31T00:00:00",
          "2017-06-30T00:00:00",
          "2017-07-31T00:00:00",
          "2017-08-31T00:00:00",
          "2017-09-30T00:00:00",
          "2017-10-31T00:00:00",
          "2017-11-30T00:00:00",
          "2017-12-31T00:00:00",
          "2018-01-31T00:00:00",
          "2018-02-28T00:00:00",
          "2018-03-31T00:00:00",
          "2018-04-30T00:00:00",
          "2018-05-31T00:00:00",
          "2018-06-30T00:00:00",
          "2018-07-31T00:00:00",
          "2018-08-31T00:00:00",
          "2018-09-30T00:00:00",
          "2018-10-31T00:00:00",
          "2018-11-30T00:00:00",
          "2018-12-31T00:00:00",
          "2019-01-31T00:00:00",
          "2019-02-28T00:00:00",
          "2019-03-31T00:00:00",
          "2019-04-30T00:00:00",
          "2019-05-31T00:00:00",
          "2019-06-30T00:00:00",
          "2019-07-31T00:00:00",
          "2019-08-31T00:00:00",
          "2019-09-30T00:00:00",
          "2019-10-31T00:00:00"
         ],
         "xaxis": "x",
         "y": [
          18.171543652097263,
          14.95416157407502,
          15.148213971146854,
          16.57236445204394,
          19.727227528493007,
          18.178379117347596,
          26.934705323433136,
          20.677765285766657,
          16.84534776874771,
          20.387234207524724,
          16.461085798351736,
          20.186659212268744,
          18.115723340202866,
          15.379784634385047,
          15.8731127101695,
          20.29883483969323,
          16.365054253981544,
          18.12379227992525,
          26.56567528503377,
          20.733130471305888,
          17.015330985472524,
          20.44673383794079,
          16.310580456392216,
          20.06554576265684,
          15.254053489595675,
          15.04703801732113,
          15.49406318235917,
          20.05236635968453,
          16.133484347659614,
          17.321872042134068,
          26.14683867305532,
          22.3312903558342,
          22.1895604653062,
          16.855206982002787
         ],
         "yaxis": "y"
        },
        {
         "hovertemplate": "COMUNIDAD=Navarra<br>Tiempo=%{x}<br>Consumo / Población * 100=%{y}<extra></extra>",
         "legendgroup": "Navarra",
         "line": {
          "color": "#FF6692",
          "dash": "solid"
         },
         "marker": {
          "symbol": "circle"
         },
         "mode": "lines",
         "name": "Navarra",
         "orientation": "v",
         "showlegend": true,
         "type": "scatter",
         "x": [
          "2017-01-31T00:00:00",
          "2017-02-28T00:00:00",
          "2017-03-31T00:00:00",
          "2017-04-30T00:00:00",
          "2017-05-31T00:00:00",
          "2017-06-30T00:00:00",
          "2017-07-31T00:00:00",
          "2017-08-31T00:00:00",
          "2017-09-30T00:00:00",
          "2017-10-31T00:00:00",
          "2017-11-30T00:00:00",
          "2017-12-31T00:00:00",
          "2018-01-31T00:00:00",
          "2018-02-28T00:00:00",
          "2018-03-31T00:00:00",
          "2018-04-30T00:00:00",
          "2018-05-31T00:00:00",
          "2018-06-30T00:00:00",
          "2018-07-31T00:00:00",
          "2018-08-31T00:00:00",
          "2018-09-30T00:00:00",
          "2018-10-31T00:00:00",
          "2018-11-30T00:00:00",
          "2018-12-31T00:00:00",
          "2019-01-31T00:00:00",
          "2019-02-28T00:00:00",
          "2019-03-31T00:00:00",
          "2019-04-30T00:00:00",
          "2019-05-31T00:00:00",
          "2019-06-30T00:00:00",
          "2019-07-31T00:00:00",
          "2019-08-31T00:00:00",
          "2019-09-30T00:00:00",
          "2019-10-31T00:00:00"
         ],
         "xaxis": "x",
         "y": [
          20.531874869798546,
          16.728018108495508,
          16.88130602548995,
          17.286135372197368,
          21.824079572908147,
          18.270582711734765,
          22.82506832661209,
          17.92482984419356,
          17.26415270337078,
          22.16171719778494,
          18.624637379243012,
          22.801639838690118,
          20.113473162083782,
          16.88455325733452,
          16.91996343162115,
          21.516352304209377,
          17.59127424122158,
          18.037074900317194,
          22.916853266291305,
          18.190004231307352,
          17.834234673865037,
          22.4358431883673,
          18.715134181859735,
          22.66163130796814,
          16.876893493566328,
          16.706857389172352,
          17.139559838218076,
          21.51913594022751,
          17.519083969465647,
          17.609849376503714,
          22.868312203652017,
          17.905991006001095,
          22.284069127227482,
          17.528667989373506
         ],
         "yaxis": "y"
        },
        {
         "hovertemplate": "COMUNIDAD=Pais_Vasco<br>Tiempo=%{x}<br>Consumo / Población * 100=%{y}<extra></extra>",
         "legendgroup": "Pais_Vasco",
         "line": {
          "color": "#B6E880",
          "dash": "solid"
         },
         "marker": {
          "symbol": "circle"
         },
         "mode": "lines",
         "name": "Pais_Vasco",
         "orientation": "v",
         "showlegend": true,
         "type": "scatter",
         "x": [
          "2017-01-31T00:00:00",
          "2017-02-28T00:00:00",
          "2017-03-31T00:00:00",
          "2017-04-30T00:00:00",
          "2017-05-31T00:00:00",
          "2017-06-30T00:00:00",
          "2017-07-31T00:00:00",
          "2017-08-31T00:00:00",
          "2017-09-30T00:00:00",
          "2017-10-31T00:00:00",
          "2017-11-30T00:00:00",
          "2017-12-31T00:00:00",
          "2018-01-31T00:00:00",
          "2018-02-28T00:00:00",
          "2018-03-31T00:00:00",
          "2018-04-30T00:00:00",
          "2018-05-31T00:00:00",
          "2018-06-30T00:00:00",
          "2018-07-31T00:00:00",
          "2018-08-31T00:00:00",
          "2018-09-30T00:00:00",
          "2018-10-31T00:00:00",
          "2018-11-30T00:00:00",
          "2018-12-31T00:00:00",
          "2019-01-31T00:00:00",
          "2019-02-28T00:00:00",
          "2019-03-31T00:00:00",
          "2019-04-30T00:00:00",
          "2019-05-31T00:00:00",
          "2019-06-30T00:00:00",
          "2019-07-31T00:00:00",
          "2019-08-31T00:00:00",
          "2019-09-30T00:00:00",
          "2019-10-31T00:00:00"
         ],
         "xaxis": "x",
         "y": [
          23.399873664521884,
          18.832873475839026,
          18.818002167574075,
          17.9051554172489,
          23.48168636898528,
          19.049585307894873,
          22.512435294085474,
          17.315776712524805,
          18.48559675283184,
          24.254183153628865,
          21.23155214893367,
          26.017392548759023,
          23.2525983498614,
          19.207635165122994,
          18.656283877680202,
          23.757703193323778,
          19.41220178546743,
          19.37773295111428,
          23.51061440015134,
          17.90373100121505,
          19.420919035527454,
          24.480834782418892,
          21.068520222928775,
          25.547745247120623,
          19.59403490209152,
          19.003186917513368,
          19.310863058571158,
          23.51828265186323,
          19.49487629179772,
          19.715532735205024,
          24.20457057237691,
          17.600675974374212,
          23.94270523821257,
          19.215744713231775
         ],
         "yaxis": "y"
        }
       ],
       "layout": {
        "legend": {
         "title": {
          "text": "COMUNIDAD"
         },
         "tracegroupgap": 0
        },
        "template": {
         "data": {
          "bar": [
           {
            "error_x": {
             "color": "#2a3f5f"
            },
            "error_y": {
             "color": "#2a3f5f"
            },
            "marker": {
             "line": {
              "color": "#E5ECF6",
              "width": 0.5
             },
             "pattern": {
              "fillmode": "overlay",
              "size": 10,
              "solidity": 0.2
             }
            },
            "type": "bar"
           }
          ],
          "barpolar": [
           {
            "marker": {
             "line": {
              "color": "#E5ECF6",
              "width": 0.5
             },
             "pattern": {
              "fillmode": "overlay",
              "size": 10,
              "solidity": 0.2
             }
            },
            "type": "barpolar"
           }
          ],
          "carpet": [
           {
            "aaxis": {
             "endlinecolor": "#2a3f5f",
             "gridcolor": "white",
             "linecolor": "white",
             "minorgridcolor": "white",
             "startlinecolor": "#2a3f5f"
            },
            "baxis": {
             "endlinecolor": "#2a3f5f",
             "gridcolor": "white",
             "linecolor": "white",
             "minorgridcolor": "white",
             "startlinecolor": "#2a3f5f"
            },
            "type": "carpet"
           }
          ],
          "choropleth": [
           {
            "colorbar": {
             "outlinewidth": 0,
             "ticks": ""
            },
            "type": "choropleth"
           }
          ],
          "contour": [
           {
            "colorbar": {
             "outlinewidth": 0,
             "ticks": ""
            },
            "colorscale": [
             [
              0,
              "#0d0887"
             ],
             [
              0.1111111111111111,
              "#46039f"
             ],
             [
              0.2222222222222222,
              "#7201a8"
             ],
             [
              0.3333333333333333,
              "#9c179e"
             ],
             [
              0.4444444444444444,
              "#bd3786"
             ],
             [
              0.5555555555555556,
              "#d8576b"
             ],
             [
              0.6666666666666666,
              "#ed7953"
             ],
             [
              0.7777777777777778,
              "#fb9f3a"
             ],
             [
              0.8888888888888888,
              "#fdca26"
             ],
             [
              1,
              "#f0f921"
             ]
            ],
            "type": "contour"
           }
          ],
          "contourcarpet": [
           {
            "colorbar": {
             "outlinewidth": 0,
             "ticks": ""
            },
            "type": "contourcarpet"
           }
          ],
          "heatmap": [
           {
            "colorbar": {
             "outlinewidth": 0,
             "ticks": ""
            },
            "colorscale": [
             [
              0,
              "#0d0887"
             ],
             [
              0.1111111111111111,
              "#46039f"
             ],
             [
              0.2222222222222222,
              "#7201a8"
             ],
             [
              0.3333333333333333,
              "#9c179e"
             ],
             [
              0.4444444444444444,
              "#bd3786"
             ],
             [
              0.5555555555555556,
              "#d8576b"
             ],
             [
              0.6666666666666666,
              "#ed7953"
             ],
             [
              0.7777777777777778,
              "#fb9f3a"
             ],
             [
              0.8888888888888888,
              "#fdca26"
             ],
             [
              1,
              "#f0f921"
             ]
            ],
            "type": "heatmap"
           }
          ],
          "heatmapgl": [
           {
            "colorbar": {
             "outlinewidth": 0,
             "ticks": ""
            },
            "colorscale": [
             [
              0,
              "#0d0887"
             ],
             [
              0.1111111111111111,
              "#46039f"
             ],
             [
              0.2222222222222222,
              "#7201a8"
             ],
             [
              0.3333333333333333,
              "#9c179e"
             ],
             [
              0.4444444444444444,
              "#bd3786"
             ],
             [
              0.5555555555555556,
              "#d8576b"
             ],
             [
              0.6666666666666666,
              "#ed7953"
             ],
             [
              0.7777777777777778,
              "#fb9f3a"
             ],
             [
              0.8888888888888888,
              "#fdca26"
             ],
             [
              1,
              "#f0f921"
             ]
            ],
            "type": "heatmapgl"
           }
          ],
          "histogram": [
           {
            "marker": {
             "pattern": {
              "fillmode": "overlay",
              "size": 10,
              "solidity": 0.2
             }
            },
            "type": "histogram"
           }
          ],
          "histogram2d": [
           {
            "colorbar": {
             "outlinewidth": 0,
             "ticks": ""
            },
            "colorscale": [
             [
              0,
              "#0d0887"
             ],
             [
              0.1111111111111111,
              "#46039f"
             ],
             [
              0.2222222222222222,
              "#7201a8"
             ],
             [
              0.3333333333333333,
              "#9c179e"
             ],
             [
              0.4444444444444444,
              "#bd3786"
             ],
             [
              0.5555555555555556,
              "#d8576b"
             ],
             [
              0.6666666666666666,
              "#ed7953"
             ],
             [
              0.7777777777777778,
              "#fb9f3a"
             ],
             [
              0.8888888888888888,
              "#fdca26"
             ],
             [
              1,
              "#f0f921"
             ]
            ],
            "type": "histogram2d"
           }
          ],
          "histogram2dcontour": [
           {
            "colorbar": {
             "outlinewidth": 0,
             "ticks": ""
            },
            "colorscale": [
             [
              0,
              "#0d0887"
             ],
             [
              0.1111111111111111,
              "#46039f"
             ],
             [
              0.2222222222222222,
              "#7201a8"
             ],
             [
              0.3333333333333333,
              "#9c179e"
             ],
             [
              0.4444444444444444,
              "#bd3786"
             ],
             [
              0.5555555555555556,
              "#d8576b"
             ],
             [
              0.6666666666666666,
              "#ed7953"
             ],
             [
              0.7777777777777778,
              "#fb9f3a"
             ],
             [
              0.8888888888888888,
              "#fdca26"
             ],
             [
              1,
              "#f0f921"
             ]
            ],
            "type": "histogram2dcontour"
           }
          ],
          "mesh3d": [
           {
            "colorbar": {
             "outlinewidth": 0,
             "ticks": ""
            },
            "type": "mesh3d"
           }
          ],
          "parcoords": [
           {
            "line": {
             "colorbar": {
              "outlinewidth": 0,
              "ticks": ""
             }
            },
            "type": "parcoords"
           }
          ],
          "pie": [
           {
            "automargin": true,
            "type": "pie"
           }
          ],
          "scatter": [
           {
            "fillpattern": {
             "fillmode": "overlay",
             "size": 10,
             "solidity": 0.2
            },
            "type": "scatter"
           }
          ],
          "scatter3d": [
           {
            "line": {
             "colorbar": {
              "outlinewidth": 0,
              "ticks": ""
             }
            },
            "marker": {
             "colorbar": {
              "outlinewidth": 0,
              "ticks": ""
             }
            },
            "type": "scatter3d"
           }
          ],
          "scattercarpet": [
           {
            "marker": {
             "colorbar": {
              "outlinewidth": 0,
              "ticks": ""
             }
            },
            "type": "scattercarpet"
           }
          ],
          "scattergeo": [
           {
            "marker": {
             "colorbar": {
              "outlinewidth": 0,
              "ticks": ""
             }
            },
            "type": "scattergeo"
           }
          ],
          "scattergl": [
           {
            "marker": {
             "colorbar": {
              "outlinewidth": 0,
              "ticks": ""
             }
            },
            "type": "scattergl"
           }
          ],
          "scattermapbox": [
           {
            "marker": {
             "colorbar": {
              "outlinewidth": 0,
              "ticks": ""
             }
            },
            "type": "scattermapbox"
           }
          ],
          "scatterpolar": [
           {
            "marker": {
             "colorbar": {
              "outlinewidth": 0,
              "ticks": ""
             }
            },
            "type": "scatterpolar"
           }
          ],
          "scatterpolargl": [
           {
            "marker": {
             "colorbar": {
              "outlinewidth": 0,
              "ticks": ""
             }
            },
            "type": "scatterpolargl"
           }
          ],
          "scatterternary": [
           {
            "marker": {
             "colorbar": {
              "outlinewidth": 0,
              "ticks": ""
             }
            },
            "type": "scatterternary"
           }
          ],
          "surface": [
           {
            "colorbar": {
             "outlinewidth": 0,
             "ticks": ""
            },
            "colorscale": [
             [
              0,
              "#0d0887"
             ],
             [
              0.1111111111111111,
              "#46039f"
             ],
             [
              0.2222222222222222,
              "#7201a8"
             ],
             [
              0.3333333333333333,
              "#9c179e"
             ],
             [
              0.4444444444444444,
              "#bd3786"
             ],
             [
              0.5555555555555556,
              "#d8576b"
             ],
             [
              0.6666666666666666,
              "#ed7953"
             ],
             [
              0.7777777777777778,
              "#fb9f3a"
             ],
             [
              0.8888888888888888,
              "#fdca26"
             ],
             [
              1,
              "#f0f921"
             ]
            ],
            "type": "surface"
           }
          ],
          "table": [
           {
            "cells": {
             "fill": {
              "color": "#EBF0F8"
             },
             "line": {
              "color": "white"
             }
            },
            "header": {
             "fill": {
              "color": "#C8D4E3"
             },
             "line": {
              "color": "white"
             }
            },
            "type": "table"
           }
          ]
         },
         "layout": {
          "annotationdefaults": {
           "arrowcolor": "#2a3f5f",
           "arrowhead": 0,
           "arrowwidth": 1
          },
          "autotypenumbers": "strict",
          "coloraxis": {
           "colorbar": {
            "outlinewidth": 0,
            "ticks": ""
           }
          },
          "colorscale": {
           "diverging": [
            [
             0,
             "#8e0152"
            ],
            [
             0.1,
             "#c51b7d"
            ],
            [
             0.2,
             "#de77ae"
            ],
            [
             0.3,
             "#f1b6da"
            ],
            [
             0.4,
             "#fde0ef"
            ],
            [
             0.5,
             "#f7f7f7"
            ],
            [
             0.6,
             "#e6f5d0"
            ],
            [
             0.7,
             "#b8e186"
            ],
            [
             0.8,
             "#7fbc41"
            ],
            [
             0.9,
             "#4d9221"
            ],
            [
             1,
             "#276419"
            ]
           ],
           "sequential": [
            [
             0,
             "#0d0887"
            ],
            [
             0.1111111111111111,
             "#46039f"
            ],
            [
             0.2222222222222222,
             "#7201a8"
            ],
            [
             0.3333333333333333,
             "#9c179e"
            ],
            [
             0.4444444444444444,
             "#bd3786"
            ],
            [
             0.5555555555555556,
             "#d8576b"
            ],
            [
             0.6666666666666666,
             "#ed7953"
            ],
            [
             0.7777777777777778,
             "#fb9f3a"
            ],
            [
             0.8888888888888888,
             "#fdca26"
            ],
            [
             1,
             "#f0f921"
            ]
           ],
           "sequentialminus": [
            [
             0,
             "#0d0887"
            ],
            [
             0.1111111111111111,
             "#46039f"
            ],
            [
             0.2222222222222222,
             "#7201a8"
            ],
            [
             0.3333333333333333,
             "#9c179e"
            ],
            [
             0.4444444444444444,
             "#bd3786"
            ],
            [
             0.5555555555555556,
             "#d8576b"
            ],
            [
             0.6666666666666666,
             "#ed7953"
            ],
            [
             0.7777777777777778,
             "#fb9f3a"
            ],
            [
             0.8888888888888888,
             "#fdca26"
            ],
            [
             1,
             "#f0f921"
            ]
           ]
          },
          "colorway": [
           "#636efa",
           "#EF553B",
           "#00cc96",
           "#ab63fa",
           "#FFA15A",
           "#19d3f3",
           "#FF6692",
           "#B6E880",
           "#FF97FF",
           "#FECB52"
          ],
          "font": {
           "color": "#2a3f5f"
          },
          "geo": {
           "bgcolor": "white",
           "lakecolor": "white",
           "landcolor": "#E5ECF6",
           "showlakes": true,
           "showland": true,
           "subunitcolor": "white"
          },
          "hoverlabel": {
           "align": "left"
          },
          "hovermode": "closest",
          "mapbox": {
           "style": "light"
          },
          "paper_bgcolor": "white",
          "plot_bgcolor": "#E5ECF6",
          "polar": {
           "angularaxis": {
            "gridcolor": "white",
            "linecolor": "white",
            "ticks": ""
           },
           "bgcolor": "#E5ECF6",
           "radialaxis": {
            "gridcolor": "white",
            "linecolor": "white",
            "ticks": ""
           }
          },
          "scene": {
           "xaxis": {
            "backgroundcolor": "#E5ECF6",
            "gridcolor": "white",
            "gridwidth": 2,
            "linecolor": "white",
            "showbackground": true,
            "ticks": "",
            "zerolinecolor": "white"
           },
           "yaxis": {
            "backgroundcolor": "#E5ECF6",
            "gridcolor": "white",
            "gridwidth": 2,
            "linecolor": "white",
            "showbackground": true,
            "ticks": "",
            "zerolinecolor": "white"
           },
           "zaxis": {
            "backgroundcolor": "#E5ECF6",
            "gridcolor": "white",
            "gridwidth": 2,
            "linecolor": "white",
            "showbackground": true,
            "ticks": "",
            "zerolinecolor": "white"
           }
          },
          "shapedefaults": {
           "line": {
            "color": "#2a3f5f"
           }
          },
          "ternary": {
           "aaxis": {
            "gridcolor": "white",
            "linecolor": "white",
            "ticks": ""
           },
           "baxis": {
            "gridcolor": "white",
            "linecolor": "white",
            "ticks": ""
           },
           "bgcolor": "#E5ECF6",
           "caxis": {
            "gridcolor": "white",
            "linecolor": "white",
            "ticks": ""
           }
          },
          "title": {
           "x": 0.05
          },
          "xaxis": {
           "automargin": true,
           "gridcolor": "white",
           "linecolor": "white",
           "ticks": "",
           "title": {
            "standoff": 15
           },
           "zerolinecolor": "white",
           "zerolinewidth": 2
          },
          "yaxis": {
           "automargin": true,
           "gridcolor": "white",
           "linecolor": "white",
           "ticks": "",
           "title": {
            "standoff": 15
           },
           "zerolinecolor": "white",
           "zerolinewidth": 2
          }
         }
        },
        "title": {
         "text": "Consumo normalizado de alimentos relacionados con la diabetes por CCAA"
        },
        "xaxis": {
         "anchor": "y",
         "domain": [
          0,
          1
         ],
         "title": {
          "text": "Tiempo"
         }
        },
        "yaxis": {
         "anchor": "x",
         "domain": [
          0,
          1
         ],
         "title": {
          "text": "Consumo / Población * 100"
         }
        }
       }
      }
     },
     "metadata": {},
     "output_type": "display_data"
    }
   ],
   "source": [
    "fig = px.line(\n",
    "    df_diabetes_normalizado,\n",
    "    title='Consumo normalizado de alimentos relacionados con la diabetes por CCAA',\n",
    "    labels = {\n",
    "        'index' : 'Tiempo',\n",
    "        'value' : 'Consumo / Población * 100'\n",
    "    }\n",
    ")\n",
    "fig.show()"
   ]
  },
  {
   "cell_type": "markdown",
   "metadata": {},
   "source": [
    "## 2.3. Transformación dataset de muertes por diabetes mellitus por CC.AA. <a class=\"anchor\" id=\"etl_diabetes\"></a>\n",
    "\n",
    "Los datos de diabetes mellitus que tenemos se refieren a la *** Tasa de mortalidad ajustada por diabetes mellitus, por 100 000 hab. ***\n",
    "\n",
    "Por lo tanto para obtener los datos aproximados de muertes tenemos que dividir la población de cada CC.AA entre 100.000 y multiplicar por la tasa.\n",
    "\n",
    "El objetivo de este punto es transformar el dataset para que tenga una granularidad similar a la de los datos de consumos."
   ]
  },
  {
   "cell_type": "code",
   "execution_count": 911,
   "metadata": {},
   "outputs": [
    {
     "data": {
      "text/html": [
       "<div>\n",
       "<style scoped>\n",
       "    .dataframe tbody tr th:only-of-type {\n",
       "        vertical-align: middle;\n",
       "    }\n",
       "\n",
       "    .dataframe tbody tr th {\n",
       "        vertical-align: top;\n",
       "    }\n",
       "\n",
       "    .dataframe thead th {\n",
       "        text-align: right;\n",
       "    }\n",
       "</style>\n",
       "<table border=\"1\" class=\"dataframe\">\n",
       "  <thead>\n",
       "    <tr style=\"text-align: right;\">\n",
       "      <th>CC.AA.</th>\n",
       "      <th>Ceuta_y_Melilla</th>\n",
       "      <th>La_Rioja</th>\n",
       "      <th>Pais_Vasco</th>\n",
       "      <th>Navarra</th>\n",
       "      <th>Murcia</th>\n",
       "      <th>Madrid</th>\n",
       "      <th>Galicia</th>\n",
       "      <th>Extremadura</th>\n",
       "      <th>C_Valenciana</th>\n",
       "      <th>Catalunya</th>\n",
       "      <th>Castilla_La_Mancha</th>\n",
       "      <th>Castilla_y_Leon</th>\n",
       "      <th>Cantabria</th>\n",
       "      <th>Canarias</th>\n",
       "      <th>Baleares</th>\n",
       "      <th>Asturias</th>\n",
       "      <th>Aragon</th>\n",
       "      <th>Andalucia</th>\n",
       "    </tr>\n",
       "  </thead>\n",
       "  <tbody>\n",
       "    <tr>\n",
       "      <th>2017-01-31</th>\n",
       "      <td>27.14</td>\n",
       "      <td>19.18</td>\n",
       "      <td>15.14</td>\n",
       "      <td>16.13</td>\n",
       "      <td>21.24</td>\n",
       "      <td>10.23</td>\n",
       "      <td>12.66</td>\n",
       "      <td>17.88</td>\n",
       "      <td>25.27</td>\n",
       "      <td>19.91</td>\n",
       "      <td>18.72</td>\n",
       "      <td>19.46</td>\n",
       "      <td>13.06</td>\n",
       "      <td>23.11</td>\n",
       "      <td>24.07</td>\n",
       "      <td>19.93</td>\n",
       "      <td>20.84</td>\n",
       "      <td>20.95</td>\n",
       "    </tr>\n",
       "    <tr>\n",
       "      <th>2017-02-28</th>\n",
       "      <td>27.14</td>\n",
       "      <td>19.18</td>\n",
       "      <td>15.14</td>\n",
       "      <td>16.13</td>\n",
       "      <td>21.24</td>\n",
       "      <td>10.23</td>\n",
       "      <td>12.66</td>\n",
       "      <td>17.88</td>\n",
       "      <td>25.27</td>\n",
       "      <td>19.91</td>\n",
       "      <td>18.72</td>\n",
       "      <td>19.46</td>\n",
       "      <td>13.06</td>\n",
       "      <td>23.11</td>\n",
       "      <td>24.07</td>\n",
       "      <td>19.93</td>\n",
       "      <td>20.84</td>\n",
       "      <td>20.95</td>\n",
       "    </tr>\n",
       "    <tr>\n",
       "      <th>2017-03-31</th>\n",
       "      <td>27.14</td>\n",
       "      <td>19.18</td>\n",
       "      <td>15.14</td>\n",
       "      <td>16.13</td>\n",
       "      <td>21.24</td>\n",
       "      <td>10.23</td>\n",
       "      <td>12.66</td>\n",
       "      <td>17.88</td>\n",
       "      <td>25.27</td>\n",
       "      <td>19.91</td>\n",
       "      <td>18.72</td>\n",
       "      <td>19.46</td>\n",
       "      <td>13.06</td>\n",
       "      <td>23.11</td>\n",
       "      <td>24.07</td>\n",
       "      <td>19.93</td>\n",
       "      <td>20.84</td>\n",
       "      <td>20.95</td>\n",
       "    </tr>\n",
       "    <tr>\n",
       "      <th>2017-04-30</th>\n",
       "      <td>27.14</td>\n",
       "      <td>19.18</td>\n",
       "      <td>15.14</td>\n",
       "      <td>16.13</td>\n",
       "      <td>21.24</td>\n",
       "      <td>10.23</td>\n",
       "      <td>12.66</td>\n",
       "      <td>17.88</td>\n",
       "      <td>25.27</td>\n",
       "      <td>19.91</td>\n",
       "      <td>18.72</td>\n",
       "      <td>19.46</td>\n",
       "      <td>13.06</td>\n",
       "      <td>23.11</td>\n",
       "      <td>24.07</td>\n",
       "      <td>19.93</td>\n",
       "      <td>20.84</td>\n",
       "      <td>20.95</td>\n",
       "    </tr>\n",
       "    <tr>\n",
       "      <th>2017-05-31</th>\n",
       "      <td>27.14</td>\n",
       "      <td>19.18</td>\n",
       "      <td>15.14</td>\n",
       "      <td>16.13</td>\n",
       "      <td>21.24</td>\n",
       "      <td>10.23</td>\n",
       "      <td>12.66</td>\n",
       "      <td>17.88</td>\n",
       "      <td>25.27</td>\n",
       "      <td>19.91</td>\n",
       "      <td>18.72</td>\n",
       "      <td>19.46</td>\n",
       "      <td>13.06</td>\n",
       "      <td>23.11</td>\n",
       "      <td>24.07</td>\n",
       "      <td>19.93</td>\n",
       "      <td>20.84</td>\n",
       "      <td>20.95</td>\n",
       "    </tr>\n",
       "  </tbody>\n",
       "</table>\n",
       "</div>"
      ],
      "text/plain": [
       "CC.AA.      Ceuta_y_Melilla  La_Rioja  Pais_Vasco  Navarra  Murcia  Madrid  \\\n",
       "2017-01-31            27.14     19.18       15.14    16.13   21.24   10.23   \n",
       "2017-02-28            27.14     19.18       15.14    16.13   21.24   10.23   \n",
       "2017-03-31            27.14     19.18       15.14    16.13   21.24   10.23   \n",
       "2017-04-30            27.14     19.18       15.14    16.13   21.24   10.23   \n",
       "2017-05-31            27.14     19.18       15.14    16.13   21.24   10.23   \n",
       "\n",
       "CC.AA.      Galicia  Extremadura  C_Valenciana  Catalunya  Castilla_La_Mancha  \\\n",
       "2017-01-31    12.66        17.88         25.27      19.91               18.72   \n",
       "2017-02-28    12.66        17.88         25.27      19.91               18.72   \n",
       "2017-03-31    12.66        17.88         25.27      19.91               18.72   \n",
       "2017-04-30    12.66        17.88         25.27      19.91               18.72   \n",
       "2017-05-31    12.66        17.88         25.27      19.91               18.72   \n",
       "\n",
       "CC.AA.      Castilla_y_Leon  Cantabria  Canarias  Baleares  Asturias  Aragon  \\\n",
       "2017-01-31            19.46      13.06     23.11     24.07     19.93   20.84   \n",
       "2017-02-28            19.46      13.06     23.11     24.07     19.93   20.84   \n",
       "2017-03-31            19.46      13.06     23.11     24.07     19.93   20.84   \n",
       "2017-04-30            19.46      13.06     23.11     24.07     19.93   20.84   \n",
       "2017-05-31            19.46      13.06     23.11     24.07     19.93   20.84   \n",
       "\n",
       "CC.AA.      Andalucia  \n",
       "2017-01-31      20.95  \n",
       "2017-02-28      20.95  \n",
       "2017-03-31      20.95  \n",
       "2017-04-30      20.95  \n",
       "2017-05-31      20.95  "
      ]
     },
     "execution_count": 911,
     "metadata": {},
     "output_type": "execute_result"
    }
   ],
   "source": [
    "# Eliminamos el año 2016\n",
    "df_muertos_diabetes.drop(['2016'], axis=1, inplace=True)\n",
    "\n",
    "# Establecemos la CCAA como indice y transponemos la tabla\n",
    "df_muertos_diabetes = df_muertos_diabetes.set_index('CC.AA.').T\n",
    "\n",
    "# Cambiamos el index a Datetime\n",
    "df_muertos_diabetes.index = pd.to_datetime(df_muertos_diabetes.index, format=\"%Y\")\n",
    "\n",
    "# Cambiamos la granularida a mensual con un backfill\n",
    "df_muertos_diabetes = df_muertos_diabetes.resample('M').bfill()\n",
    "\n",
    "# Eliminamos las 3 ultimas filas para que el último dato sea de Octubre de 2019, igual que los datos de consumos\n",
    "df_muertos_diabetes.drop(df_muertos_diabetes.tail(3).index , axis=0, inplace=True)\n",
    "\n",
    "# Mostramos el resultado de nuestro dataset\n",
    "df_muertos_diabetes.head()"
   ]
  },
  {
   "cell_type": "code",
   "execution_count": 912,
   "metadata": {},
   "outputs": [
    {
     "data": {
      "application/vnd.plotly.v1+json": {
       "config": {
        "plotlyServerURL": "https://plot.ly"
       },
       "data": [
        {
         "hovertemplate": "CC.AA.=Ceuta_y_Melilla<br>Tiempo=%{x}<br>Tasa de muertes (*Poblacion / 100.000=%{y}<extra></extra>",
         "legendgroup": "Ceuta_y_Melilla",
         "line": {
          "color": "#636efa",
          "dash": "solid"
         },
         "marker": {
          "symbol": "circle"
         },
         "mode": "lines",
         "name": "Ceuta_y_Melilla",
         "orientation": "v",
         "showlegend": true,
         "type": "scatter",
         "x": [
          "2017-01-31T00:00:00",
          "2017-02-28T00:00:00",
          "2017-03-31T00:00:00",
          "2017-04-30T00:00:00",
          "2017-05-31T00:00:00",
          "2017-06-30T00:00:00",
          "2017-07-31T00:00:00",
          "2017-08-31T00:00:00",
          "2017-09-30T00:00:00",
          "2017-10-31T00:00:00",
          "2017-11-30T00:00:00",
          "2017-12-31T00:00:00",
          "2018-01-31T00:00:00",
          "2018-02-28T00:00:00",
          "2018-03-31T00:00:00",
          "2018-04-30T00:00:00",
          "2018-05-31T00:00:00",
          "2018-06-30T00:00:00",
          "2018-07-31T00:00:00",
          "2018-08-31T00:00:00",
          "2018-09-30T00:00:00",
          "2018-10-31T00:00:00",
          "2018-11-30T00:00:00",
          "2018-12-31T00:00:00",
          "2019-01-31T00:00:00",
          "2019-02-28T00:00:00",
          "2019-03-31T00:00:00",
          "2019-04-30T00:00:00",
          "2019-05-31T00:00:00",
          "2019-06-30T00:00:00",
          "2019-07-31T00:00:00",
          "2019-08-31T00:00:00",
          "2019-09-30T00:00:00",
          "2019-10-31T00:00:00"
         ],
         "xaxis": "x",
         "y": [
          27.14,
          27.14,
          27.14,
          27.14,
          27.14,
          27.14,
          27.14,
          27.14,
          27.14,
          27.14,
          27.14,
          27.14,
          20.33,
          20.33,
          20.33,
          20.33,
          20.33,
          20.33,
          20.33,
          20.33,
          20.33,
          20.33,
          20.33,
          20.33,
          47.11,
          47.11,
          47.11,
          47.11,
          47.11,
          47.11,
          47.11,
          47.11,
          47.11,
          47.11
         ],
         "yaxis": "y"
        },
        {
         "hovertemplate": "CC.AA.=La_Rioja<br>Tiempo=%{x}<br>Tasa de muertes (*Poblacion / 100.000=%{y}<extra></extra>",
         "legendgroup": "La_Rioja",
         "line": {
          "color": "#EF553B",
          "dash": "solid"
         },
         "marker": {
          "symbol": "circle"
         },
         "mode": "lines",
         "name": "La_Rioja",
         "orientation": "v",
         "showlegend": true,
         "type": "scatter",
         "x": [
          "2017-01-31T00:00:00",
          "2017-02-28T00:00:00",
          "2017-03-31T00:00:00",
          "2017-04-30T00:00:00",
          "2017-05-31T00:00:00",
          "2017-06-30T00:00:00",
          "2017-07-31T00:00:00",
          "2017-08-31T00:00:00",
          "2017-09-30T00:00:00",
          "2017-10-31T00:00:00",
          "2017-11-30T00:00:00",
          "2017-12-31T00:00:00",
          "2018-01-31T00:00:00",
          "2018-02-28T00:00:00",
          "2018-03-31T00:00:00",
          "2018-04-30T00:00:00",
          "2018-05-31T00:00:00",
          "2018-06-30T00:00:00",
          "2018-07-31T00:00:00",
          "2018-08-31T00:00:00",
          "2018-09-30T00:00:00",
          "2018-10-31T00:00:00",
          "2018-11-30T00:00:00",
          "2018-12-31T00:00:00",
          "2019-01-31T00:00:00",
          "2019-02-28T00:00:00",
          "2019-03-31T00:00:00",
          "2019-04-30T00:00:00",
          "2019-05-31T00:00:00",
          "2019-06-30T00:00:00",
          "2019-07-31T00:00:00",
          "2019-08-31T00:00:00",
          "2019-09-30T00:00:00",
          "2019-10-31T00:00:00"
         ],
         "xaxis": "x",
         "y": [
          19.18,
          19.18,
          19.18,
          19.18,
          19.18,
          19.18,
          19.18,
          19.18,
          19.18,
          19.18,
          19.18,
          19.18,
          15.2,
          15.2,
          15.2,
          15.2,
          15.2,
          15.2,
          15.2,
          15.2,
          15.2,
          15.2,
          15.2,
          15.2,
          15.82,
          15.82,
          15.82,
          15.82,
          15.82,
          15.82,
          15.82,
          15.82,
          15.82,
          15.82
         ],
         "yaxis": "y"
        },
        {
         "hovertemplate": "CC.AA.=Pais_Vasco<br>Tiempo=%{x}<br>Tasa de muertes (*Poblacion / 100.000=%{y}<extra></extra>",
         "legendgroup": "Pais_Vasco",
         "line": {
          "color": "#00cc96",
          "dash": "solid"
         },
         "marker": {
          "symbol": "circle"
         },
         "mode": "lines",
         "name": "Pais_Vasco",
         "orientation": "v",
         "showlegend": true,
         "type": "scatter",
         "x": [
          "2017-01-31T00:00:00",
          "2017-02-28T00:00:00",
          "2017-03-31T00:00:00",
          "2017-04-30T00:00:00",
          "2017-05-31T00:00:00",
          "2017-06-30T00:00:00",
          "2017-07-31T00:00:00",
          "2017-08-31T00:00:00",
          "2017-09-30T00:00:00",
          "2017-10-31T00:00:00",
          "2017-11-30T00:00:00",
          "2017-12-31T00:00:00",
          "2018-01-31T00:00:00",
          "2018-02-28T00:00:00",
          "2018-03-31T00:00:00",
          "2018-04-30T00:00:00",
          "2018-05-31T00:00:00",
          "2018-06-30T00:00:00",
          "2018-07-31T00:00:00",
          "2018-08-31T00:00:00",
          "2018-09-30T00:00:00",
          "2018-10-31T00:00:00",
          "2018-11-30T00:00:00",
          "2018-12-31T00:00:00",
          "2019-01-31T00:00:00",
          "2019-02-28T00:00:00",
          "2019-03-31T00:00:00",
          "2019-04-30T00:00:00",
          "2019-05-31T00:00:00",
          "2019-06-30T00:00:00",
          "2019-07-31T00:00:00",
          "2019-08-31T00:00:00",
          "2019-09-30T00:00:00",
          "2019-10-31T00:00:00"
         ],
         "xaxis": "x",
         "y": [
          15.14,
          15.14,
          15.14,
          15.14,
          15.14,
          15.14,
          15.14,
          15.14,
          15.14,
          15.14,
          15.14,
          15.14,
          15.07,
          15.07,
          15.07,
          15.07,
          15.07,
          15.07,
          15.07,
          15.07,
          15.07,
          15.07,
          15.07,
          15.07,
          16.65,
          16.65,
          16.65,
          16.65,
          16.65,
          16.65,
          16.65,
          16.65,
          16.65,
          16.65
         ],
         "yaxis": "y"
        },
        {
         "hovertemplate": "CC.AA.=Navarra<br>Tiempo=%{x}<br>Tasa de muertes (*Poblacion / 100.000=%{y}<extra></extra>",
         "legendgroup": "Navarra",
         "line": {
          "color": "#ab63fa",
          "dash": "solid"
         },
         "marker": {
          "symbol": "circle"
         },
         "mode": "lines",
         "name": "Navarra",
         "orientation": "v",
         "showlegend": true,
         "type": "scatter",
         "x": [
          "2017-01-31T00:00:00",
          "2017-02-28T00:00:00",
          "2017-03-31T00:00:00",
          "2017-04-30T00:00:00",
          "2017-05-31T00:00:00",
          "2017-06-30T00:00:00",
          "2017-07-31T00:00:00",
          "2017-08-31T00:00:00",
          "2017-09-30T00:00:00",
          "2017-10-31T00:00:00",
          "2017-11-30T00:00:00",
          "2017-12-31T00:00:00",
          "2018-01-31T00:00:00",
          "2018-02-28T00:00:00",
          "2018-03-31T00:00:00",
          "2018-04-30T00:00:00",
          "2018-05-31T00:00:00",
          "2018-06-30T00:00:00",
          "2018-07-31T00:00:00",
          "2018-08-31T00:00:00",
          "2018-09-30T00:00:00",
          "2018-10-31T00:00:00",
          "2018-11-30T00:00:00",
          "2018-12-31T00:00:00",
          "2019-01-31T00:00:00",
          "2019-02-28T00:00:00",
          "2019-03-31T00:00:00",
          "2019-04-30T00:00:00",
          "2019-05-31T00:00:00",
          "2019-06-30T00:00:00",
          "2019-07-31T00:00:00",
          "2019-08-31T00:00:00",
          "2019-09-30T00:00:00",
          "2019-10-31T00:00:00"
         ],
         "xaxis": "x",
         "y": [
          16.13,
          16.13,
          16.13,
          16.13,
          16.13,
          16.13,
          16.13,
          16.13,
          16.13,
          16.13,
          16.13,
          16.13,
          15.77,
          15.77,
          15.77,
          15.77,
          15.77,
          15.77,
          15.77,
          15.77,
          15.77,
          15.77,
          15.77,
          15.77,
          16.34,
          16.34,
          16.34,
          16.34,
          16.34,
          16.34,
          16.34,
          16.34,
          16.34,
          16.34
         ],
         "yaxis": "y"
        },
        {
         "hovertemplate": "CC.AA.=Murcia<br>Tiempo=%{x}<br>Tasa de muertes (*Poblacion / 100.000=%{y}<extra></extra>",
         "legendgroup": "Murcia",
         "line": {
          "color": "#FFA15A",
          "dash": "solid"
         },
         "marker": {
          "symbol": "circle"
         },
         "mode": "lines",
         "name": "Murcia",
         "orientation": "v",
         "showlegend": true,
         "type": "scatter",
         "x": [
          "2017-01-31T00:00:00",
          "2017-02-28T00:00:00",
          "2017-03-31T00:00:00",
          "2017-04-30T00:00:00",
          "2017-05-31T00:00:00",
          "2017-06-30T00:00:00",
          "2017-07-31T00:00:00",
          "2017-08-31T00:00:00",
          "2017-09-30T00:00:00",
          "2017-10-31T00:00:00",
          "2017-11-30T00:00:00",
          "2017-12-31T00:00:00",
          "2018-01-31T00:00:00",
          "2018-02-28T00:00:00",
          "2018-03-31T00:00:00",
          "2018-04-30T00:00:00",
          "2018-05-31T00:00:00",
          "2018-06-30T00:00:00",
          "2018-07-31T00:00:00",
          "2018-08-31T00:00:00",
          "2018-09-30T00:00:00",
          "2018-10-31T00:00:00",
          "2018-11-30T00:00:00",
          "2018-12-31T00:00:00",
          "2019-01-31T00:00:00",
          "2019-02-28T00:00:00",
          "2019-03-31T00:00:00",
          "2019-04-30T00:00:00",
          "2019-05-31T00:00:00",
          "2019-06-30T00:00:00",
          "2019-07-31T00:00:00",
          "2019-08-31T00:00:00",
          "2019-09-30T00:00:00",
          "2019-10-31T00:00:00"
         ],
         "xaxis": "x",
         "y": [
          21.24,
          21.24,
          21.24,
          21.24,
          21.24,
          21.24,
          21.24,
          21.24,
          21.24,
          21.24,
          21.24,
          21.24,
          22.4,
          22.4,
          22.4,
          22.4,
          22.4,
          22.4,
          22.4,
          22.4,
          22.4,
          22.4,
          22.4,
          22.4,
          30.91,
          30.91,
          30.91,
          30.91,
          30.91,
          30.91,
          30.91,
          30.91,
          30.91,
          30.91
         ],
         "yaxis": "y"
        },
        {
         "hovertemplate": "CC.AA.=Madrid<br>Tiempo=%{x}<br>Tasa de muertes (*Poblacion / 100.000=%{y}<extra></extra>",
         "legendgroup": "Madrid",
         "line": {
          "color": "#19d3f3",
          "dash": "solid"
         },
         "marker": {
          "symbol": "circle"
         },
         "mode": "lines",
         "name": "Madrid",
         "orientation": "v",
         "showlegend": true,
         "type": "scatter",
         "x": [
          "2017-01-31T00:00:00",
          "2017-02-28T00:00:00",
          "2017-03-31T00:00:00",
          "2017-04-30T00:00:00",
          "2017-05-31T00:00:00",
          "2017-06-30T00:00:00",
          "2017-07-31T00:00:00",
          "2017-08-31T00:00:00",
          "2017-09-30T00:00:00",
          "2017-10-31T00:00:00",
          "2017-11-30T00:00:00",
          "2017-12-31T00:00:00",
          "2018-01-31T00:00:00",
          "2018-02-28T00:00:00",
          "2018-03-31T00:00:00",
          "2018-04-30T00:00:00",
          "2018-05-31T00:00:00",
          "2018-06-30T00:00:00",
          "2018-07-31T00:00:00",
          "2018-08-31T00:00:00",
          "2018-09-30T00:00:00",
          "2018-10-31T00:00:00",
          "2018-11-30T00:00:00",
          "2018-12-31T00:00:00",
          "2019-01-31T00:00:00",
          "2019-02-28T00:00:00",
          "2019-03-31T00:00:00",
          "2019-04-30T00:00:00",
          "2019-05-31T00:00:00",
          "2019-06-30T00:00:00",
          "2019-07-31T00:00:00",
          "2019-08-31T00:00:00",
          "2019-09-30T00:00:00",
          "2019-10-31T00:00:00"
         ],
         "xaxis": "x",
         "y": [
          10.23,
          10.23,
          10.23,
          10.23,
          10.23,
          10.23,
          10.23,
          10.23,
          10.23,
          10.23,
          10.23,
          10.23,
          8.28,
          8.28,
          8.28,
          8.28,
          8.28,
          8.28,
          8.28,
          8.28,
          8.28,
          8.28,
          8.28,
          8.28,
          10.03,
          10.03,
          10.03,
          10.03,
          10.03,
          10.03,
          10.03,
          10.03,
          10.03,
          10.03
         ],
         "yaxis": "y"
        },
        {
         "hovertemplate": "CC.AA.=Galicia<br>Tiempo=%{x}<br>Tasa de muertes (*Poblacion / 100.000=%{y}<extra></extra>",
         "legendgroup": "Galicia",
         "line": {
          "color": "#FF6692",
          "dash": "solid"
         },
         "marker": {
          "symbol": "circle"
         },
         "mode": "lines",
         "name": "Galicia",
         "orientation": "v",
         "showlegend": true,
         "type": "scatter",
         "x": [
          "2017-01-31T00:00:00",
          "2017-02-28T00:00:00",
          "2017-03-31T00:00:00",
          "2017-04-30T00:00:00",
          "2017-05-31T00:00:00",
          "2017-06-30T00:00:00",
          "2017-07-31T00:00:00",
          "2017-08-31T00:00:00",
          "2017-09-30T00:00:00",
          "2017-10-31T00:00:00",
          "2017-11-30T00:00:00",
          "2017-12-31T00:00:00",
          "2018-01-31T00:00:00",
          "2018-02-28T00:00:00",
          "2018-03-31T00:00:00",
          "2018-04-30T00:00:00",
          "2018-05-31T00:00:00",
          "2018-06-30T00:00:00",
          "2018-07-31T00:00:00",
          "2018-08-31T00:00:00",
          "2018-09-30T00:00:00",
          "2018-10-31T00:00:00",
          "2018-11-30T00:00:00",
          "2018-12-31T00:00:00",
          "2019-01-31T00:00:00",
          "2019-02-28T00:00:00",
          "2019-03-31T00:00:00",
          "2019-04-30T00:00:00",
          "2019-05-31T00:00:00",
          "2019-06-30T00:00:00",
          "2019-07-31T00:00:00",
          "2019-08-31T00:00:00",
          "2019-09-30T00:00:00",
          "2019-10-31T00:00:00"
         ],
         "xaxis": "x",
         "y": [
          12.66,
          12.66,
          12.66,
          12.66,
          12.66,
          12.66,
          12.66,
          12.66,
          12.66,
          12.66,
          12.66,
          12.66,
          11.08,
          11.08,
          11.08,
          11.08,
          11.08,
          11.08,
          11.08,
          11.08,
          11.08,
          11.08,
          11.08,
          11.08,
          12.88,
          12.88,
          12.88,
          12.88,
          12.88,
          12.88,
          12.88,
          12.88,
          12.88,
          12.88
         ],
         "yaxis": "y"
        },
        {
         "hovertemplate": "CC.AA.=Extremadura<br>Tiempo=%{x}<br>Tasa de muertes (*Poblacion / 100.000=%{y}<extra></extra>",
         "legendgroup": "Extremadura",
         "line": {
          "color": "#B6E880",
          "dash": "solid"
         },
         "marker": {
          "symbol": "circle"
         },
         "mode": "lines",
         "name": "Extremadura",
         "orientation": "v",
         "showlegend": true,
         "type": "scatter",
         "x": [
          "2017-01-31T00:00:00",
          "2017-02-28T00:00:00",
          "2017-03-31T00:00:00",
          "2017-04-30T00:00:00",
          "2017-05-31T00:00:00",
          "2017-06-30T00:00:00",
          "2017-07-31T00:00:00",
          "2017-08-31T00:00:00",
          "2017-09-30T00:00:00",
          "2017-10-31T00:00:00",
          "2017-11-30T00:00:00",
          "2017-12-31T00:00:00",
          "2018-01-31T00:00:00",
          "2018-02-28T00:00:00",
          "2018-03-31T00:00:00",
          "2018-04-30T00:00:00",
          "2018-05-31T00:00:00",
          "2018-06-30T00:00:00",
          "2018-07-31T00:00:00",
          "2018-08-31T00:00:00",
          "2018-09-30T00:00:00",
          "2018-10-31T00:00:00",
          "2018-11-30T00:00:00",
          "2018-12-31T00:00:00",
          "2019-01-31T00:00:00",
          "2019-02-28T00:00:00",
          "2019-03-31T00:00:00",
          "2019-04-30T00:00:00",
          "2019-05-31T00:00:00",
          "2019-06-30T00:00:00",
          "2019-07-31T00:00:00",
          "2019-08-31T00:00:00",
          "2019-09-30T00:00:00",
          "2019-10-31T00:00:00"
         ],
         "xaxis": "x",
         "y": [
          17.88,
          17.88,
          17.88,
          17.88,
          17.88,
          17.88,
          17.88,
          17.88,
          17.88,
          17.88,
          17.88,
          17.88,
          16.88,
          16.88,
          16.88,
          16.88,
          16.88,
          16.88,
          16.88,
          16.88,
          16.88,
          16.88,
          16.88,
          16.88,
          22.17,
          22.17,
          22.17,
          22.17,
          22.17,
          22.17,
          22.17,
          22.17,
          22.17,
          22.17
         ],
         "yaxis": "y"
        },
        {
         "hovertemplate": "CC.AA.=C_Valenciana<br>Tiempo=%{x}<br>Tasa de muertes (*Poblacion / 100.000=%{y}<extra></extra>",
         "legendgroup": "C_Valenciana",
         "line": {
          "color": "#FF97FF",
          "dash": "solid"
         },
         "marker": {
          "symbol": "circle"
         },
         "mode": "lines",
         "name": "C_Valenciana",
         "orientation": "v",
         "showlegend": true,
         "type": "scatter",
         "x": [
          "2017-01-31T00:00:00",
          "2017-02-28T00:00:00",
          "2017-03-31T00:00:00",
          "2017-04-30T00:00:00",
          "2017-05-31T00:00:00",
          "2017-06-30T00:00:00",
          "2017-07-31T00:00:00",
          "2017-08-31T00:00:00",
          "2017-09-30T00:00:00",
          "2017-10-31T00:00:00",
          "2017-11-30T00:00:00",
          "2017-12-31T00:00:00",
          "2018-01-31T00:00:00",
          "2018-02-28T00:00:00",
          "2018-03-31T00:00:00",
          "2018-04-30T00:00:00",
          "2018-05-31T00:00:00",
          "2018-06-30T00:00:00",
          "2018-07-31T00:00:00",
          "2018-08-31T00:00:00",
          "2018-09-30T00:00:00",
          "2018-10-31T00:00:00",
          "2018-11-30T00:00:00",
          "2018-12-31T00:00:00",
          "2019-01-31T00:00:00",
          "2019-02-28T00:00:00",
          "2019-03-31T00:00:00",
          "2019-04-30T00:00:00",
          "2019-05-31T00:00:00",
          "2019-06-30T00:00:00",
          "2019-07-31T00:00:00",
          "2019-08-31T00:00:00",
          "2019-09-30T00:00:00",
          "2019-10-31T00:00:00"
         ],
         "xaxis": "x",
         "y": [
          25.27,
          25.27,
          25.27,
          25.27,
          25.27,
          25.27,
          25.27,
          25.27,
          25.27,
          25.27,
          25.27,
          25.27,
          25.5,
          25.5,
          25.5,
          25.5,
          25.5,
          25.5,
          25.5,
          25.5,
          25.5,
          25.5,
          25.5,
          25.5,
          28.49,
          28.49,
          28.49,
          28.49,
          28.49,
          28.49,
          28.49,
          28.49,
          28.49,
          28.49
         ],
         "yaxis": "y"
        },
        {
         "hovertemplate": "CC.AA.=Catalunya<br>Tiempo=%{x}<br>Tasa de muertes (*Poblacion / 100.000=%{y}<extra></extra>",
         "legendgroup": "Catalunya",
         "line": {
          "color": "#FECB52",
          "dash": "solid"
         },
         "marker": {
          "symbol": "circle"
         },
         "mode": "lines",
         "name": "Catalunya",
         "orientation": "v",
         "showlegend": true,
         "type": "scatter",
         "x": [
          "2017-01-31T00:00:00",
          "2017-02-28T00:00:00",
          "2017-03-31T00:00:00",
          "2017-04-30T00:00:00",
          "2017-05-31T00:00:00",
          "2017-06-30T00:00:00",
          "2017-07-31T00:00:00",
          "2017-08-31T00:00:00",
          "2017-09-30T00:00:00",
          "2017-10-31T00:00:00",
          "2017-11-30T00:00:00",
          "2017-12-31T00:00:00",
          "2018-01-31T00:00:00",
          "2018-02-28T00:00:00",
          "2018-03-31T00:00:00",
          "2018-04-30T00:00:00",
          "2018-05-31T00:00:00",
          "2018-06-30T00:00:00",
          "2018-07-31T00:00:00",
          "2018-08-31T00:00:00",
          "2018-09-30T00:00:00",
          "2018-10-31T00:00:00",
          "2018-11-30T00:00:00",
          "2018-12-31T00:00:00",
          "2019-01-31T00:00:00",
          "2019-02-28T00:00:00",
          "2019-03-31T00:00:00",
          "2019-04-30T00:00:00",
          "2019-05-31T00:00:00",
          "2019-06-30T00:00:00",
          "2019-07-31T00:00:00",
          "2019-08-31T00:00:00",
          "2019-09-30T00:00:00",
          "2019-10-31T00:00:00"
         ],
         "xaxis": "x",
         "y": [
          19.91,
          19.91,
          19.91,
          19.91,
          19.91,
          19.91,
          19.91,
          19.91,
          19.91,
          19.91,
          19.91,
          19.91,
          18.47,
          18.47,
          18.47,
          18.47,
          18.47,
          18.47,
          18.47,
          18.47,
          18.47,
          18.47,
          18.47,
          18.47,
          21.28,
          21.28,
          21.28,
          21.28,
          21.28,
          21.28,
          21.28,
          21.28,
          21.28,
          21.28
         ],
         "yaxis": "y"
        },
        {
         "hovertemplate": "CC.AA.=Castilla_La_Mancha<br>Tiempo=%{x}<br>Tasa de muertes (*Poblacion / 100.000=%{y}<extra></extra>",
         "legendgroup": "Castilla_La_Mancha",
         "line": {
          "color": "#636efa",
          "dash": "solid"
         },
         "marker": {
          "symbol": "circle"
         },
         "mode": "lines",
         "name": "Castilla_La_Mancha",
         "orientation": "v",
         "showlegend": true,
         "type": "scatter",
         "x": [
          "2017-01-31T00:00:00",
          "2017-02-28T00:00:00",
          "2017-03-31T00:00:00",
          "2017-04-30T00:00:00",
          "2017-05-31T00:00:00",
          "2017-06-30T00:00:00",
          "2017-07-31T00:00:00",
          "2017-08-31T00:00:00",
          "2017-09-30T00:00:00",
          "2017-10-31T00:00:00",
          "2017-11-30T00:00:00",
          "2017-12-31T00:00:00",
          "2018-01-31T00:00:00",
          "2018-02-28T00:00:00",
          "2018-03-31T00:00:00",
          "2018-04-30T00:00:00",
          "2018-05-31T00:00:00",
          "2018-06-30T00:00:00",
          "2018-07-31T00:00:00",
          "2018-08-31T00:00:00",
          "2018-09-30T00:00:00",
          "2018-10-31T00:00:00",
          "2018-11-30T00:00:00",
          "2018-12-31T00:00:00",
          "2019-01-31T00:00:00",
          "2019-02-28T00:00:00",
          "2019-03-31T00:00:00",
          "2019-04-30T00:00:00",
          "2019-05-31T00:00:00",
          "2019-06-30T00:00:00",
          "2019-07-31T00:00:00",
          "2019-08-31T00:00:00",
          "2019-09-30T00:00:00",
          "2019-10-31T00:00:00"
         ],
         "xaxis": "x",
         "y": [
          18.72,
          18.72,
          18.72,
          18.72,
          18.72,
          18.72,
          18.72,
          18.72,
          18.72,
          18.72,
          18.72,
          18.72,
          17.36,
          17.36,
          17.36,
          17.36,
          17.36,
          17.36,
          17.36,
          17.36,
          17.36,
          17.36,
          17.36,
          17.36,
          21.38,
          21.38,
          21.38,
          21.38,
          21.38,
          21.38,
          21.38,
          21.38,
          21.38,
          21.38
         ],
         "yaxis": "y"
        },
        {
         "hovertemplate": "CC.AA.=Castilla_y_Leon<br>Tiempo=%{x}<br>Tasa de muertes (*Poblacion / 100.000=%{y}<extra></extra>",
         "legendgroup": "Castilla_y_Leon",
         "line": {
          "color": "#EF553B",
          "dash": "solid"
         },
         "marker": {
          "symbol": "circle"
         },
         "mode": "lines",
         "name": "Castilla_y_Leon",
         "orientation": "v",
         "showlegend": true,
         "type": "scatter",
         "x": [
          "2017-01-31T00:00:00",
          "2017-02-28T00:00:00",
          "2017-03-31T00:00:00",
          "2017-04-30T00:00:00",
          "2017-05-31T00:00:00",
          "2017-06-30T00:00:00",
          "2017-07-31T00:00:00",
          "2017-08-31T00:00:00",
          "2017-09-30T00:00:00",
          "2017-10-31T00:00:00",
          "2017-11-30T00:00:00",
          "2017-12-31T00:00:00",
          "2018-01-31T00:00:00",
          "2018-02-28T00:00:00",
          "2018-03-31T00:00:00",
          "2018-04-30T00:00:00",
          "2018-05-31T00:00:00",
          "2018-06-30T00:00:00",
          "2018-07-31T00:00:00",
          "2018-08-31T00:00:00",
          "2018-09-30T00:00:00",
          "2018-10-31T00:00:00",
          "2018-11-30T00:00:00",
          "2018-12-31T00:00:00",
          "2019-01-31T00:00:00",
          "2019-02-28T00:00:00",
          "2019-03-31T00:00:00",
          "2019-04-30T00:00:00",
          "2019-05-31T00:00:00",
          "2019-06-30T00:00:00",
          "2019-07-31T00:00:00",
          "2019-08-31T00:00:00",
          "2019-09-30T00:00:00",
          "2019-10-31T00:00:00"
         ],
         "xaxis": "x",
         "y": [
          19.46,
          19.46,
          19.46,
          19.46,
          19.46,
          19.46,
          19.46,
          19.46,
          19.46,
          19.46,
          19.46,
          19.46,
          19.52,
          19.52,
          19.52,
          19.52,
          19.52,
          19.52,
          19.52,
          19.52,
          19.52,
          19.52,
          19.52,
          19.52,
          25.2,
          25.2,
          25.2,
          25.2,
          25.2,
          25.2,
          25.2,
          25.2,
          25.2,
          25.2
         ],
         "yaxis": "y"
        },
        {
         "hovertemplate": "CC.AA.=Cantabria<br>Tiempo=%{x}<br>Tasa de muertes (*Poblacion / 100.000=%{y}<extra></extra>",
         "legendgroup": "Cantabria",
         "line": {
          "color": "#00cc96",
          "dash": "solid"
         },
         "marker": {
          "symbol": "circle"
         },
         "mode": "lines",
         "name": "Cantabria",
         "orientation": "v",
         "showlegend": true,
         "type": "scatter",
         "x": [
          "2017-01-31T00:00:00",
          "2017-02-28T00:00:00",
          "2017-03-31T00:00:00",
          "2017-04-30T00:00:00",
          "2017-05-31T00:00:00",
          "2017-06-30T00:00:00",
          "2017-07-31T00:00:00",
          "2017-08-31T00:00:00",
          "2017-09-30T00:00:00",
          "2017-10-31T00:00:00",
          "2017-11-30T00:00:00",
          "2017-12-31T00:00:00",
          "2018-01-31T00:00:00",
          "2018-02-28T00:00:00",
          "2018-03-31T00:00:00",
          "2018-04-30T00:00:00",
          "2018-05-31T00:00:00",
          "2018-06-30T00:00:00",
          "2018-07-31T00:00:00",
          "2018-08-31T00:00:00",
          "2018-09-30T00:00:00",
          "2018-10-31T00:00:00",
          "2018-11-30T00:00:00",
          "2018-12-31T00:00:00",
          "2019-01-31T00:00:00",
          "2019-02-28T00:00:00",
          "2019-03-31T00:00:00",
          "2019-04-30T00:00:00",
          "2019-05-31T00:00:00",
          "2019-06-30T00:00:00",
          "2019-07-31T00:00:00",
          "2019-08-31T00:00:00",
          "2019-09-30T00:00:00",
          "2019-10-31T00:00:00"
         ],
         "xaxis": "x",
         "y": [
          13.06,
          13.06,
          13.06,
          13.06,
          13.06,
          13.06,
          13.06,
          13.06,
          13.06,
          13.06,
          13.06,
          13.06,
          14.83,
          14.83,
          14.83,
          14.83,
          14.83,
          14.83,
          14.83,
          14.83,
          14.83,
          14.83,
          14.83,
          14.83,
          18.95,
          18.95,
          18.95,
          18.95,
          18.95,
          18.95,
          18.95,
          18.95,
          18.95,
          18.95
         ],
         "yaxis": "y"
        },
        {
         "hovertemplate": "CC.AA.=Canarias<br>Tiempo=%{x}<br>Tasa de muertes (*Poblacion / 100.000=%{y}<extra></extra>",
         "legendgroup": "Canarias",
         "line": {
          "color": "#ab63fa",
          "dash": "solid"
         },
         "marker": {
          "symbol": "circle"
         },
         "mode": "lines",
         "name": "Canarias",
         "orientation": "v",
         "showlegend": true,
         "type": "scatter",
         "x": [
          "2017-01-31T00:00:00",
          "2017-02-28T00:00:00",
          "2017-03-31T00:00:00",
          "2017-04-30T00:00:00",
          "2017-05-31T00:00:00",
          "2017-06-30T00:00:00",
          "2017-07-31T00:00:00",
          "2017-08-31T00:00:00",
          "2017-09-30T00:00:00",
          "2017-10-31T00:00:00",
          "2017-11-30T00:00:00",
          "2017-12-31T00:00:00",
          "2018-01-31T00:00:00",
          "2018-02-28T00:00:00",
          "2018-03-31T00:00:00",
          "2018-04-30T00:00:00",
          "2018-05-31T00:00:00",
          "2018-06-30T00:00:00",
          "2018-07-31T00:00:00",
          "2018-08-31T00:00:00",
          "2018-09-30T00:00:00",
          "2018-10-31T00:00:00",
          "2018-11-30T00:00:00",
          "2018-12-31T00:00:00",
          "2019-01-31T00:00:00",
          "2019-02-28T00:00:00",
          "2019-03-31T00:00:00",
          "2019-04-30T00:00:00",
          "2019-05-31T00:00:00",
          "2019-06-30T00:00:00",
          "2019-07-31T00:00:00",
          "2019-08-31T00:00:00",
          "2019-09-30T00:00:00",
          "2019-10-31T00:00:00"
         ],
         "xaxis": "x",
         "y": [
          23.11,
          23.11,
          23.11,
          23.11,
          23.11,
          23.11,
          23.11,
          23.11,
          23.11,
          23.11,
          23.11,
          23.11,
          19.31,
          19.31,
          19.31,
          19.31,
          19.31,
          19.31,
          19.31,
          19.31,
          19.31,
          19.31,
          19.31,
          19.31,
          20,
          20,
          20,
          20,
          20,
          20,
          20,
          20,
          20,
          20
         ],
         "yaxis": "y"
        },
        {
         "hovertemplate": "CC.AA.=Baleares<br>Tiempo=%{x}<br>Tasa de muertes (*Poblacion / 100.000=%{y}<extra></extra>",
         "legendgroup": "Baleares",
         "line": {
          "color": "#FFA15A",
          "dash": "solid"
         },
         "marker": {
          "symbol": "circle"
         },
         "mode": "lines",
         "name": "Baleares",
         "orientation": "v",
         "showlegend": true,
         "type": "scatter",
         "x": [
          "2017-01-31T00:00:00",
          "2017-02-28T00:00:00",
          "2017-03-31T00:00:00",
          "2017-04-30T00:00:00",
          "2017-05-31T00:00:00",
          "2017-06-30T00:00:00",
          "2017-07-31T00:00:00",
          "2017-08-31T00:00:00",
          "2017-09-30T00:00:00",
          "2017-10-31T00:00:00",
          "2017-11-30T00:00:00",
          "2017-12-31T00:00:00",
          "2018-01-31T00:00:00",
          "2018-02-28T00:00:00",
          "2018-03-31T00:00:00",
          "2018-04-30T00:00:00",
          "2018-05-31T00:00:00",
          "2018-06-30T00:00:00",
          "2018-07-31T00:00:00",
          "2018-08-31T00:00:00",
          "2018-09-30T00:00:00",
          "2018-10-31T00:00:00",
          "2018-11-30T00:00:00",
          "2018-12-31T00:00:00",
          "2019-01-31T00:00:00",
          "2019-02-28T00:00:00",
          "2019-03-31T00:00:00",
          "2019-04-30T00:00:00",
          "2019-05-31T00:00:00",
          "2019-06-30T00:00:00",
          "2019-07-31T00:00:00",
          "2019-08-31T00:00:00",
          "2019-09-30T00:00:00",
          "2019-10-31T00:00:00"
         ],
         "xaxis": "x",
         "y": [
          24.07,
          24.07,
          24.07,
          24.07,
          24.07,
          24.07,
          24.07,
          24.07,
          24.07,
          24.07,
          24.07,
          24.07,
          24.66,
          24.66,
          24.66,
          24.66,
          24.66,
          24.66,
          24.66,
          24.66,
          24.66,
          24.66,
          24.66,
          24.66,
          22.35,
          22.35,
          22.35,
          22.35,
          22.35,
          22.35,
          22.35,
          22.35,
          22.35,
          22.35
         ],
         "yaxis": "y"
        },
        {
         "hovertemplate": "CC.AA.=Asturias<br>Tiempo=%{x}<br>Tasa de muertes (*Poblacion / 100.000=%{y}<extra></extra>",
         "legendgroup": "Asturias",
         "line": {
          "color": "#19d3f3",
          "dash": "solid"
         },
         "marker": {
          "symbol": "circle"
         },
         "mode": "lines",
         "name": "Asturias",
         "orientation": "v",
         "showlegend": true,
         "type": "scatter",
         "x": [
          "2017-01-31T00:00:00",
          "2017-02-28T00:00:00",
          "2017-03-31T00:00:00",
          "2017-04-30T00:00:00",
          "2017-05-31T00:00:00",
          "2017-06-30T00:00:00",
          "2017-07-31T00:00:00",
          "2017-08-31T00:00:00",
          "2017-09-30T00:00:00",
          "2017-10-31T00:00:00",
          "2017-11-30T00:00:00",
          "2017-12-31T00:00:00",
          "2018-01-31T00:00:00",
          "2018-02-28T00:00:00",
          "2018-03-31T00:00:00",
          "2018-04-30T00:00:00",
          "2018-05-31T00:00:00",
          "2018-06-30T00:00:00",
          "2018-07-31T00:00:00",
          "2018-08-31T00:00:00",
          "2018-09-30T00:00:00",
          "2018-10-31T00:00:00",
          "2018-11-30T00:00:00",
          "2018-12-31T00:00:00",
          "2019-01-31T00:00:00",
          "2019-02-28T00:00:00",
          "2019-03-31T00:00:00",
          "2019-04-30T00:00:00",
          "2019-05-31T00:00:00",
          "2019-06-30T00:00:00",
          "2019-07-31T00:00:00",
          "2019-08-31T00:00:00",
          "2019-09-30T00:00:00",
          "2019-10-31T00:00:00"
         ],
         "xaxis": "x",
         "y": [
          19.93,
          19.93,
          19.93,
          19.93,
          19.93,
          19.93,
          19.93,
          19.93,
          19.93,
          19.93,
          19.93,
          19.93,
          18.04,
          18.04,
          18.04,
          18.04,
          18.04,
          18.04,
          18.04,
          18.04,
          18.04,
          18.04,
          18.04,
          18.04,
          21.08,
          21.08,
          21.08,
          21.08,
          21.08,
          21.08,
          21.08,
          21.08,
          21.08,
          21.08
         ],
         "yaxis": "y"
        },
        {
         "hovertemplate": "CC.AA.=Aragon<br>Tiempo=%{x}<br>Tasa de muertes (*Poblacion / 100.000=%{y}<extra></extra>",
         "legendgroup": "Aragon",
         "line": {
          "color": "#FF6692",
          "dash": "solid"
         },
         "marker": {
          "symbol": "circle"
         },
         "mode": "lines",
         "name": "Aragon",
         "orientation": "v",
         "showlegend": true,
         "type": "scatter",
         "x": [
          "2017-01-31T00:00:00",
          "2017-02-28T00:00:00",
          "2017-03-31T00:00:00",
          "2017-04-30T00:00:00",
          "2017-05-31T00:00:00",
          "2017-06-30T00:00:00",
          "2017-07-31T00:00:00",
          "2017-08-31T00:00:00",
          "2017-09-30T00:00:00",
          "2017-10-31T00:00:00",
          "2017-11-30T00:00:00",
          "2017-12-31T00:00:00",
          "2018-01-31T00:00:00",
          "2018-02-28T00:00:00",
          "2018-03-31T00:00:00",
          "2018-04-30T00:00:00",
          "2018-05-31T00:00:00",
          "2018-06-30T00:00:00",
          "2018-07-31T00:00:00",
          "2018-08-31T00:00:00",
          "2018-09-30T00:00:00",
          "2018-10-31T00:00:00",
          "2018-11-30T00:00:00",
          "2018-12-31T00:00:00",
          "2019-01-31T00:00:00",
          "2019-02-28T00:00:00",
          "2019-03-31T00:00:00",
          "2019-04-30T00:00:00",
          "2019-05-31T00:00:00",
          "2019-06-30T00:00:00",
          "2019-07-31T00:00:00",
          "2019-08-31T00:00:00",
          "2019-09-30T00:00:00",
          "2019-10-31T00:00:00"
         ],
         "xaxis": "x",
         "y": [
          20.84,
          20.84,
          20.84,
          20.84,
          20.84,
          20.84,
          20.84,
          20.84,
          20.84,
          20.84,
          20.84,
          20.84,
          21.21,
          21.21,
          21.21,
          21.21,
          21.21,
          21.21,
          21.21,
          21.21,
          21.21,
          21.21,
          21.21,
          21.21,
          20.91,
          20.91,
          20.91,
          20.91,
          20.91,
          20.91,
          20.91,
          20.91,
          20.91,
          20.91
         ],
         "yaxis": "y"
        },
        {
         "hovertemplate": "CC.AA.=Andalucia<br>Tiempo=%{x}<br>Tasa de muertes (*Poblacion / 100.000=%{y}<extra></extra>",
         "legendgroup": "Andalucia",
         "line": {
          "color": "#B6E880",
          "dash": "solid"
         },
         "marker": {
          "symbol": "circle"
         },
         "mode": "lines",
         "name": "Andalucia",
         "orientation": "v",
         "showlegend": true,
         "type": "scatter",
         "x": [
          "2017-01-31T00:00:00",
          "2017-02-28T00:00:00",
          "2017-03-31T00:00:00",
          "2017-04-30T00:00:00",
          "2017-05-31T00:00:00",
          "2017-06-30T00:00:00",
          "2017-07-31T00:00:00",
          "2017-08-31T00:00:00",
          "2017-09-30T00:00:00",
          "2017-10-31T00:00:00",
          "2017-11-30T00:00:00",
          "2017-12-31T00:00:00",
          "2018-01-31T00:00:00",
          "2018-02-28T00:00:00",
          "2018-03-31T00:00:00",
          "2018-04-30T00:00:00",
          "2018-05-31T00:00:00",
          "2018-06-30T00:00:00",
          "2018-07-31T00:00:00",
          "2018-08-31T00:00:00",
          "2018-09-30T00:00:00",
          "2018-10-31T00:00:00",
          "2018-11-30T00:00:00",
          "2018-12-31T00:00:00",
          "2019-01-31T00:00:00",
          "2019-02-28T00:00:00",
          "2019-03-31T00:00:00",
          "2019-04-30T00:00:00",
          "2019-05-31T00:00:00",
          "2019-06-30T00:00:00",
          "2019-07-31T00:00:00",
          "2019-08-31T00:00:00",
          "2019-09-30T00:00:00",
          "2019-10-31T00:00:00"
         ],
         "xaxis": "x",
         "y": [
          20.95,
          20.95,
          20.95,
          20.95,
          20.95,
          20.95,
          20.95,
          20.95,
          20.95,
          20.95,
          20.95,
          20.95,
          20.82,
          20.82,
          20.82,
          20.82,
          20.82,
          20.82,
          20.82,
          20.82,
          20.82,
          20.82,
          20.82,
          20.82,
          23.66,
          23.66,
          23.66,
          23.66,
          23.66,
          23.66,
          23.66,
          23.66,
          23.66,
          23.66
         ],
         "yaxis": "y"
        }
       ],
       "layout": {
        "legend": {
         "title": {
          "text": "CC.AA."
         },
         "tracegroupgap": 0
        },
        "template": {
         "data": {
          "bar": [
           {
            "error_x": {
             "color": "#2a3f5f"
            },
            "error_y": {
             "color": "#2a3f5f"
            },
            "marker": {
             "line": {
              "color": "#E5ECF6",
              "width": 0.5
             },
             "pattern": {
              "fillmode": "overlay",
              "size": 10,
              "solidity": 0.2
             }
            },
            "type": "bar"
           }
          ],
          "barpolar": [
           {
            "marker": {
             "line": {
              "color": "#E5ECF6",
              "width": 0.5
             },
             "pattern": {
              "fillmode": "overlay",
              "size": 10,
              "solidity": 0.2
             }
            },
            "type": "barpolar"
           }
          ],
          "carpet": [
           {
            "aaxis": {
             "endlinecolor": "#2a3f5f",
             "gridcolor": "white",
             "linecolor": "white",
             "minorgridcolor": "white",
             "startlinecolor": "#2a3f5f"
            },
            "baxis": {
             "endlinecolor": "#2a3f5f",
             "gridcolor": "white",
             "linecolor": "white",
             "minorgridcolor": "white",
             "startlinecolor": "#2a3f5f"
            },
            "type": "carpet"
           }
          ],
          "choropleth": [
           {
            "colorbar": {
             "outlinewidth": 0,
             "ticks": ""
            },
            "type": "choropleth"
           }
          ],
          "contour": [
           {
            "colorbar": {
             "outlinewidth": 0,
             "ticks": ""
            },
            "colorscale": [
             [
              0,
              "#0d0887"
             ],
             [
              0.1111111111111111,
              "#46039f"
             ],
             [
              0.2222222222222222,
              "#7201a8"
             ],
             [
              0.3333333333333333,
              "#9c179e"
             ],
             [
              0.4444444444444444,
              "#bd3786"
             ],
             [
              0.5555555555555556,
              "#d8576b"
             ],
             [
              0.6666666666666666,
              "#ed7953"
             ],
             [
              0.7777777777777778,
              "#fb9f3a"
             ],
             [
              0.8888888888888888,
              "#fdca26"
             ],
             [
              1,
              "#f0f921"
             ]
            ],
            "type": "contour"
           }
          ],
          "contourcarpet": [
           {
            "colorbar": {
             "outlinewidth": 0,
             "ticks": ""
            },
            "type": "contourcarpet"
           }
          ],
          "heatmap": [
           {
            "colorbar": {
             "outlinewidth": 0,
             "ticks": ""
            },
            "colorscale": [
             [
              0,
              "#0d0887"
             ],
             [
              0.1111111111111111,
              "#46039f"
             ],
             [
              0.2222222222222222,
              "#7201a8"
             ],
             [
              0.3333333333333333,
              "#9c179e"
             ],
             [
              0.4444444444444444,
              "#bd3786"
             ],
             [
              0.5555555555555556,
              "#d8576b"
             ],
             [
              0.6666666666666666,
              "#ed7953"
             ],
             [
              0.7777777777777778,
              "#fb9f3a"
             ],
             [
              0.8888888888888888,
              "#fdca26"
             ],
             [
              1,
              "#f0f921"
             ]
            ],
            "type": "heatmap"
           }
          ],
          "heatmapgl": [
           {
            "colorbar": {
             "outlinewidth": 0,
             "ticks": ""
            },
            "colorscale": [
             [
              0,
              "#0d0887"
             ],
             [
              0.1111111111111111,
              "#46039f"
             ],
             [
              0.2222222222222222,
              "#7201a8"
             ],
             [
              0.3333333333333333,
              "#9c179e"
             ],
             [
              0.4444444444444444,
              "#bd3786"
             ],
             [
              0.5555555555555556,
              "#d8576b"
             ],
             [
              0.6666666666666666,
              "#ed7953"
             ],
             [
              0.7777777777777778,
              "#fb9f3a"
             ],
             [
              0.8888888888888888,
              "#fdca26"
             ],
             [
              1,
              "#f0f921"
             ]
            ],
            "type": "heatmapgl"
           }
          ],
          "histogram": [
           {
            "marker": {
             "pattern": {
              "fillmode": "overlay",
              "size": 10,
              "solidity": 0.2
             }
            },
            "type": "histogram"
           }
          ],
          "histogram2d": [
           {
            "colorbar": {
             "outlinewidth": 0,
             "ticks": ""
            },
            "colorscale": [
             [
              0,
              "#0d0887"
             ],
             [
              0.1111111111111111,
              "#46039f"
             ],
             [
              0.2222222222222222,
              "#7201a8"
             ],
             [
              0.3333333333333333,
              "#9c179e"
             ],
             [
              0.4444444444444444,
              "#bd3786"
             ],
             [
              0.5555555555555556,
              "#d8576b"
             ],
             [
              0.6666666666666666,
              "#ed7953"
             ],
             [
              0.7777777777777778,
              "#fb9f3a"
             ],
             [
              0.8888888888888888,
              "#fdca26"
             ],
             [
              1,
              "#f0f921"
             ]
            ],
            "type": "histogram2d"
           }
          ],
          "histogram2dcontour": [
           {
            "colorbar": {
             "outlinewidth": 0,
             "ticks": ""
            },
            "colorscale": [
             [
              0,
              "#0d0887"
             ],
             [
              0.1111111111111111,
              "#46039f"
             ],
             [
              0.2222222222222222,
              "#7201a8"
             ],
             [
              0.3333333333333333,
              "#9c179e"
             ],
             [
              0.4444444444444444,
              "#bd3786"
             ],
             [
              0.5555555555555556,
              "#d8576b"
             ],
             [
              0.6666666666666666,
              "#ed7953"
             ],
             [
              0.7777777777777778,
              "#fb9f3a"
             ],
             [
              0.8888888888888888,
              "#fdca26"
             ],
             [
              1,
              "#f0f921"
             ]
            ],
            "type": "histogram2dcontour"
           }
          ],
          "mesh3d": [
           {
            "colorbar": {
             "outlinewidth": 0,
             "ticks": ""
            },
            "type": "mesh3d"
           }
          ],
          "parcoords": [
           {
            "line": {
             "colorbar": {
              "outlinewidth": 0,
              "ticks": ""
             }
            },
            "type": "parcoords"
           }
          ],
          "pie": [
           {
            "automargin": true,
            "type": "pie"
           }
          ],
          "scatter": [
           {
            "fillpattern": {
             "fillmode": "overlay",
             "size": 10,
             "solidity": 0.2
            },
            "type": "scatter"
           }
          ],
          "scatter3d": [
           {
            "line": {
             "colorbar": {
              "outlinewidth": 0,
              "ticks": ""
             }
            },
            "marker": {
             "colorbar": {
              "outlinewidth": 0,
              "ticks": ""
             }
            },
            "type": "scatter3d"
           }
          ],
          "scattercarpet": [
           {
            "marker": {
             "colorbar": {
              "outlinewidth": 0,
              "ticks": ""
             }
            },
            "type": "scattercarpet"
           }
          ],
          "scattergeo": [
           {
            "marker": {
             "colorbar": {
              "outlinewidth": 0,
              "ticks": ""
             }
            },
            "type": "scattergeo"
           }
          ],
          "scattergl": [
           {
            "marker": {
             "colorbar": {
              "outlinewidth": 0,
              "ticks": ""
             }
            },
            "type": "scattergl"
           }
          ],
          "scattermapbox": [
           {
            "marker": {
             "colorbar": {
              "outlinewidth": 0,
              "ticks": ""
             }
            },
            "type": "scattermapbox"
           }
          ],
          "scatterpolar": [
           {
            "marker": {
             "colorbar": {
              "outlinewidth": 0,
              "ticks": ""
             }
            },
            "type": "scatterpolar"
           }
          ],
          "scatterpolargl": [
           {
            "marker": {
             "colorbar": {
              "outlinewidth": 0,
              "ticks": ""
             }
            },
            "type": "scatterpolargl"
           }
          ],
          "scatterternary": [
           {
            "marker": {
             "colorbar": {
              "outlinewidth": 0,
              "ticks": ""
             }
            },
            "type": "scatterternary"
           }
          ],
          "surface": [
           {
            "colorbar": {
             "outlinewidth": 0,
             "ticks": ""
            },
            "colorscale": [
             [
              0,
              "#0d0887"
             ],
             [
              0.1111111111111111,
              "#46039f"
             ],
             [
              0.2222222222222222,
              "#7201a8"
             ],
             [
              0.3333333333333333,
              "#9c179e"
             ],
             [
              0.4444444444444444,
              "#bd3786"
             ],
             [
              0.5555555555555556,
              "#d8576b"
             ],
             [
              0.6666666666666666,
              "#ed7953"
             ],
             [
              0.7777777777777778,
              "#fb9f3a"
             ],
             [
              0.8888888888888888,
              "#fdca26"
             ],
             [
              1,
              "#f0f921"
             ]
            ],
            "type": "surface"
           }
          ],
          "table": [
           {
            "cells": {
             "fill": {
              "color": "#EBF0F8"
             },
             "line": {
              "color": "white"
             }
            },
            "header": {
             "fill": {
              "color": "#C8D4E3"
             },
             "line": {
              "color": "white"
             }
            },
            "type": "table"
           }
          ]
         },
         "layout": {
          "annotationdefaults": {
           "arrowcolor": "#2a3f5f",
           "arrowhead": 0,
           "arrowwidth": 1
          },
          "autotypenumbers": "strict",
          "coloraxis": {
           "colorbar": {
            "outlinewidth": 0,
            "ticks": ""
           }
          },
          "colorscale": {
           "diverging": [
            [
             0,
             "#8e0152"
            ],
            [
             0.1,
             "#c51b7d"
            ],
            [
             0.2,
             "#de77ae"
            ],
            [
             0.3,
             "#f1b6da"
            ],
            [
             0.4,
             "#fde0ef"
            ],
            [
             0.5,
             "#f7f7f7"
            ],
            [
             0.6,
             "#e6f5d0"
            ],
            [
             0.7,
             "#b8e186"
            ],
            [
             0.8,
             "#7fbc41"
            ],
            [
             0.9,
             "#4d9221"
            ],
            [
             1,
             "#276419"
            ]
           ],
           "sequential": [
            [
             0,
             "#0d0887"
            ],
            [
             0.1111111111111111,
             "#46039f"
            ],
            [
             0.2222222222222222,
             "#7201a8"
            ],
            [
             0.3333333333333333,
             "#9c179e"
            ],
            [
             0.4444444444444444,
             "#bd3786"
            ],
            [
             0.5555555555555556,
             "#d8576b"
            ],
            [
             0.6666666666666666,
             "#ed7953"
            ],
            [
             0.7777777777777778,
             "#fb9f3a"
            ],
            [
             0.8888888888888888,
             "#fdca26"
            ],
            [
             1,
             "#f0f921"
            ]
           ],
           "sequentialminus": [
            [
             0,
             "#0d0887"
            ],
            [
             0.1111111111111111,
             "#46039f"
            ],
            [
             0.2222222222222222,
             "#7201a8"
            ],
            [
             0.3333333333333333,
             "#9c179e"
            ],
            [
             0.4444444444444444,
             "#bd3786"
            ],
            [
             0.5555555555555556,
             "#d8576b"
            ],
            [
             0.6666666666666666,
             "#ed7953"
            ],
            [
             0.7777777777777778,
             "#fb9f3a"
            ],
            [
             0.8888888888888888,
             "#fdca26"
            ],
            [
             1,
             "#f0f921"
            ]
           ]
          },
          "colorway": [
           "#636efa",
           "#EF553B",
           "#00cc96",
           "#ab63fa",
           "#FFA15A",
           "#19d3f3",
           "#FF6692",
           "#B6E880",
           "#FF97FF",
           "#FECB52"
          ],
          "font": {
           "color": "#2a3f5f"
          },
          "geo": {
           "bgcolor": "white",
           "lakecolor": "white",
           "landcolor": "#E5ECF6",
           "showlakes": true,
           "showland": true,
           "subunitcolor": "white"
          },
          "hoverlabel": {
           "align": "left"
          },
          "hovermode": "closest",
          "mapbox": {
           "style": "light"
          },
          "paper_bgcolor": "white",
          "plot_bgcolor": "#E5ECF6",
          "polar": {
           "angularaxis": {
            "gridcolor": "white",
            "linecolor": "white",
            "ticks": ""
           },
           "bgcolor": "#E5ECF6",
           "radialaxis": {
            "gridcolor": "white",
            "linecolor": "white",
            "ticks": ""
           }
          },
          "scene": {
           "xaxis": {
            "backgroundcolor": "#E5ECF6",
            "gridcolor": "white",
            "gridwidth": 2,
            "linecolor": "white",
            "showbackground": true,
            "ticks": "",
            "zerolinecolor": "white"
           },
           "yaxis": {
            "backgroundcolor": "#E5ECF6",
            "gridcolor": "white",
            "gridwidth": 2,
            "linecolor": "white",
            "showbackground": true,
            "ticks": "",
            "zerolinecolor": "white"
           },
           "zaxis": {
            "backgroundcolor": "#E5ECF6",
            "gridcolor": "white",
            "gridwidth": 2,
            "linecolor": "white",
            "showbackground": true,
            "ticks": "",
            "zerolinecolor": "white"
           }
          },
          "shapedefaults": {
           "line": {
            "color": "#2a3f5f"
           }
          },
          "ternary": {
           "aaxis": {
            "gridcolor": "white",
            "linecolor": "white",
            "ticks": ""
           },
           "baxis": {
            "gridcolor": "white",
            "linecolor": "white",
            "ticks": ""
           },
           "bgcolor": "#E5ECF6",
           "caxis": {
            "gridcolor": "white",
            "linecolor": "white",
            "ticks": ""
           }
          },
          "title": {
           "x": 0.05
          },
          "xaxis": {
           "automargin": true,
           "gridcolor": "white",
           "linecolor": "white",
           "ticks": "",
           "title": {
            "standoff": 15
           },
           "zerolinecolor": "white",
           "zerolinewidth": 2
          },
          "yaxis": {
           "automargin": true,
           "gridcolor": "white",
           "linecolor": "white",
           "ticks": "",
           "title": {
            "standoff": 15
           },
           "zerolinecolor": "white",
           "zerolinewidth": 2
          }
         }
        },
        "title": {
         "text": "Tasa ajustada de muertes por diabetes mellitus por CC.AA."
        },
        "xaxis": {
         "anchor": "y",
         "domain": [
          0,
          1
         ],
         "title": {
          "text": "Tiempo"
         }
        },
        "yaxis": {
         "anchor": "x",
         "domain": [
          0,
          1
         ],
         "title": {
          "text": "Tasa de muertes (*Poblacion / 100.000"
         }
        }
       }
      }
     },
     "metadata": {},
     "output_type": "display_data"
    }
   ],
   "source": [
    "fig = px.line(\n",
    "    df_muertos_diabetes,\n",
    "    title='Tasa ajustada de muertes por diabetes mellitus por CC.AA.',\n",
    "    labels = {\n",
    "        'index' : 'Tiempo',\n",
    "        'value' : 'Tasa de muertes (*Poblacion / 100.000'\n",
    "    }\n",
    ")\n",
    "fig.show()"
   ]
  }
 ],
 "metadata": {
  "interpreter": {
   "hash": "40d3a090f54c6569ab1632332b64b2c03c39dcf918b08424e98f38b5ae0af88f"
  },
  "kernelspec": {
   "display_name": "Python 3.9.7 ('base')",
   "language": "python",
   "name": "python3"
  },
  "language_info": {
   "codemirror_mode": {
    "name": "ipython",
    "version": 3
   },
   "file_extension": ".py",
   "mimetype": "text/x-python",
   "name": "python",
   "nbconvert_exporter": "python",
   "pygments_lexer": "ipython3",
   "version": "3.9.7"
  },
  "orig_nbformat": 4
 },
 "nbformat": 4,
 "nbformat_minor": 2
}
