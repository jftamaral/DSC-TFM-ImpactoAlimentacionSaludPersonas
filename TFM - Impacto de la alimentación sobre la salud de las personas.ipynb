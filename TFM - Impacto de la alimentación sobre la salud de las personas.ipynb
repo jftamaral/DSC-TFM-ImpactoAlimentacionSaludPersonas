{
 "cells": [
  {
   "cell_type": "markdown",
   "metadata": {},
   "source": [
    "![Nuclio logo](https://nuclio.school/wp-content/uploads/2018/12/nucleoDS-newBlack.png)"
   ]
  },
  {
   "cell_type": "markdown",
   "metadata": {},
   "source": [
    "# TFM - Impacto de la alimentación sobre la salud de las personas\n",
    "## Juan Francisco Tamaral Moreno\n",
    "\n",
    "### Tabla de Contenidos\n",
    "* [1. Introducción](#introduccion)\n",
    "    * [1.1. Importar Librerias](#librerias)\n",
    "    * [1.2. Importar datos](#data)\n",
    "        * [1.2.1. Consumo de alimentos por CC.AA.](#consumos)\n",
    "        * [1.2.2. Población por CC.AA.](#poblacion)\n",
    "        * [1.2.3. Muertes por diabetes mellitus por CC.AA](#diabetes)\n",
    "\n",
    "\n",
    "       \n",
    "* [2. Extracción y limpieza de los datos](#etl)\n",
    "    * [2.1. Selección de las familias de alimentos relacionadas con la diabetes](#familias_diabetes)\n",
    "    * [2.2. Normalización de consumos de alimentos con la poblacion de las CC.AA.](#normalizacion_consumos)\n",
    "    * [2.3. Transformación dataset de muertes por diabetes mellitus por CC.AA.](#etl_diabetes)\n",
    "\n",
    "\n",
    "       \n",
    "* [3. Análisis de la alimentación en España](#analisis)\n",
    "    * [3.1. Selección de alimentos relacionados con la dieta mediterránea](#dieta_mediterranea)\n",
    "    * [3.2. Clustering de CC.AA. según el consumo de alimentos relacionados con la dieta mediterránea](#clustering)\n",
    "    * [3.3. Interpretación de los resultados](#resultados)"
   ]
  },
  {
   "cell_type": "markdown",
   "metadata": {},
   "source": [
    "# 1. Introducción <a class=\"anchor\" id=\"introduccion\"></a>"
   ]
  },
  {
   "cell_type": "markdown",
   "metadata": {},
   "source": [
    "## 1.1. Importar Librerías<a class=\"anchor\" id=\"librerias\"></a>"
   ]
  },
  {
   "cell_type": "code",
   "execution_count": 46,
   "metadata": {},
   "outputs": [],
   "source": [
    "import os\n",
    "import numpy as np\n",
    "import pandas as pd\n",
    "from datetime import datetime\n",
    "\n",
    "from matplotlib import pyplot as plt\n",
    "import plotly.express as px\n",
    "\n",
    "from sklearn.preprocessing import StandardScaler\n",
    "from sklearn.cluster import KMeans\n",
    "import sklearn.metrics as metrics\n",
    "\n",
    "import geopandas as gpd"
   ]
  },
  {
   "cell_type": "markdown",
   "metadata": {},
   "source": [
    "## 1.2. Importar datos <a class=\"anchor\" id=\"data\"></a>"
   ]
  },
  {
   "cell_type": "markdown",
   "metadata": {},
   "source": [
    "### 1.2.1. Consumos por CC.AA. <a class=\"anchor\" id=\"consumos\"></a>"
   ]
  },
  {
   "cell_type": "code",
   "execution_count": 47,
   "metadata": {},
   "outputs": [],
   "source": [
    "PATH_COMUNIDADES = 'data/comunidades/'"
   ]
  },
  {
   "cell_type": "code",
   "execution_count": 48,
   "metadata": {},
   "outputs": [],
   "source": [
    "# Leemos los nombres de los ficheros\n",
    "paths_comunidades = [path for path in os.listdir(PATH_COMUNIDADES) if path.endswith('.xlsx')]\n",
    "\n",
    "# Creamos una lista para ir añadiendo los dataframes leidos\n",
    "dfs = list()\n",
    "\n",
    "for path_comunidad in paths_comunidades:\n",
    "    # Extraemos el nombre de la comunidad\n",
    "    nombre_comunidad = os.path.splitext(path_comunidad)[0]\n",
    "\n",
    "    # Leemos el fichero, reseteamos el index y le cambiamos el nombre de la columna a ID\n",
    "    fichero = pd.read_excel('./data/comunidades/'+path_comunidad).reset_index(drop=True).rename(columns={'Unnamed: 0': 'ID'})\n",
    "\n",
    "    # Descartamos las filas donde el la columna BIO no es nula y asignamos el nombre de la comunidad a una nueva columna.\n",
    "    fichero_sin_bio = fichero[fichero['SEGMENTO BIO'].isna()].reset_index(drop=True).assign(COMUNIDAD=nombre_comunidad)\n",
    "\n",
    "    # Añadimos el fichero leido a nuestra lista de dataframes\n",
    "    dfs.append(fichero_sin_bio)\n",
    "\n",
    "# Montamos el dataframe final\n",
    "df_comunidades = pd.concat(dfs, ignore_index=True)\n",
    "\n",
    "# Eliminamos la columna SEGMENTO BIO\n",
    "df_comunidades.drop('SEGMENTO BIO', axis=1, inplace=True)\n",
    "\n",
    "# Cambiamos el orden de la columna COMUNIDAD\n",
    "cols = df_comunidades.columns.tolist()\n",
    "cols = cols[:5] + cols[-1:] + cols[5:-1]\n",
    "df_comunidades = df_comunidades[cols]"
   ]
  },
  {
   "cell_type": "code",
   "execution_count": null,
   "metadata": {},
   "outputs": [
    {
     "data": {
      "text/html": [
       "<div>\n",
       "<style scoped>\n",
       "    .dataframe tbody tr th:only-of-type {\n",
       "        vertical-align: middle;\n",
       "    }\n",
       "\n",
       "    .dataframe tbody tr th {\n",
       "        vertical-align: top;\n",
       "    }\n",
       "\n",
       "    .dataframe thead th {\n",
       "        text-align: right;\n",
       "    }\n",
       "</style>\n",
       "<table border=\"1\" class=\"dataframe\">\n",
       "  <thead>\n",
       "    <tr style=\"text-align: right;\">\n",
       "      <th></th>\n",
       "      <th>ID</th>\n",
       "      <th>SECTOR</th>\n",
       "      <th>SECCION</th>\n",
       "      <th>CATEGORIA</th>\n",
       "      <th>FAMILIA</th>\n",
       "      <th>COMUNIDAD</th>\n",
       "      <th>SEMANA 40-16</th>\n",
       "      <th>SEMANA 41-16</th>\n",
       "      <th>SEMANA 42-16</th>\n",
       "      <th>SEMANA 43-16</th>\n",
       "      <th>...</th>\n",
       "      <th>SEMANA 34-19</th>\n",
       "      <th>SEMANA 35-19</th>\n",
       "      <th>SEMANA 36-19</th>\n",
       "      <th>SEMANA 37-19</th>\n",
       "      <th>SEMANA 38-19</th>\n",
       "      <th>SEMANA 39-19</th>\n",
       "      <th>SEMANA 40-19</th>\n",
       "      <th>SEMANA 41-19</th>\n",
       "      <th>SEMANA 42-19</th>\n",
       "      <th>SEMANA 43-19</th>\n",
       "    </tr>\n",
       "  </thead>\n",
       "  <tbody>\n",
       "    <tr>\n",
       "      <th>0</th>\n",
       "      <td>TOTAL PGC</td>\n",
       "      <td>NaN</td>\n",
       "      <td>NaN</td>\n",
       "      <td>NaN</td>\n",
       "      <td>NaN</td>\n",
       "      <td>Ceuta_y_Melilla</td>\n",
       "      <td>0.0</td>\n",
       "      <td>0.0</td>\n",
       "      <td>0.0</td>\n",
       "      <td>0.0</td>\n",
       "      <td>...</td>\n",
       "      <td>2652.71</td>\n",
       "      <td>2853.52</td>\n",
       "      <td>2699.68</td>\n",
       "      <td>2703.08</td>\n",
       "      <td>2484.19</td>\n",
       "      <td>2853.67</td>\n",
       "      <td>2844.06</td>\n",
       "      <td>2412.15</td>\n",
       "      <td>2559.18</td>\n",
       "      <td>2647.53</td>\n",
       "    </tr>\n",
       "    <tr>\n",
       "      <th>1</th>\n",
       "      <td>ALIM. Y BEBIDAS</td>\n",
       "      <td>ALIM. Y BEBIDAS</td>\n",
       "      <td>NaN</td>\n",
       "      <td>NaN</td>\n",
       "      <td>NaN</td>\n",
       "      <td>Ceuta_y_Melilla</td>\n",
       "      <td>0.0</td>\n",
       "      <td>0.0</td>\n",
       "      <td>0.0</td>\n",
       "      <td>0.0</td>\n",
       "      <td>...</td>\n",
       "      <td>1328.36</td>\n",
       "      <td>1421.87</td>\n",
       "      <td>1364.16</td>\n",
       "      <td>1405.32</td>\n",
       "      <td>1269.16</td>\n",
       "      <td>1457.10</td>\n",
       "      <td>1477.37</td>\n",
       "      <td>1288.87</td>\n",
       "      <td>1375.99</td>\n",
       "      <td>1442.49</td>\n",
       "    </tr>\n",
       "    <tr>\n",
       "      <th>2</th>\n",
       "      <td>ALIM.SECA</td>\n",
       "      <td>ALIM. Y BEBIDAS</td>\n",
       "      <td>ALIM.SECA</td>\n",
       "      <td>NaN</td>\n",
       "      <td>NaN</td>\n",
       "      <td>Ceuta_y_Melilla</td>\n",
       "      <td>0.0</td>\n",
       "      <td>0.0</td>\n",
       "      <td>0.0</td>\n",
       "      <td>0.0</td>\n",
       "      <td>...</td>\n",
       "      <td>704.00</td>\n",
       "      <td>782.74</td>\n",
       "      <td>760.74</td>\n",
       "      <td>791.09</td>\n",
       "      <td>717.49</td>\n",
       "      <td>829.03</td>\n",
       "      <td>829.07</td>\n",
       "      <td>739.01</td>\n",
       "      <td>813.17</td>\n",
       "      <td>891.25</td>\n",
       "    </tr>\n",
       "    <tr>\n",
       "      <th>3</th>\n",
       "      <td>ACEITE</td>\n",
       "      <td>ALIM. Y BEBIDAS</td>\n",
       "      <td>ALIM.SECA</td>\n",
       "      <td>ACEITE</td>\n",
       "      <td>NaN</td>\n",
       "      <td>Ceuta_y_Melilla</td>\n",
       "      <td>0.0</td>\n",
       "      <td>0.0</td>\n",
       "      <td>0.0</td>\n",
       "      <td>0.0</td>\n",
       "      <td>...</td>\n",
       "      <td>60.80</td>\n",
       "      <td>72.97</td>\n",
       "      <td>67.83</td>\n",
       "      <td>71.55</td>\n",
       "      <td>62.32</td>\n",
       "      <td>73.07</td>\n",
       "      <td>76.68</td>\n",
       "      <td>61.45</td>\n",
       "      <td>60.28</td>\n",
       "      <td>63.69</td>\n",
       "    </tr>\n",
       "    <tr>\n",
       "      <th>4</th>\n",
       "      <td>GIRASOL..</td>\n",
       "      <td>ALIM. Y BEBIDAS</td>\n",
       "      <td>ALIM.SECA</td>\n",
       "      <td>ACEITE</td>\n",
       "      <td>GIRASOL..</td>\n",
       "      <td>Ceuta_y_Melilla</td>\n",
       "      <td>0.0</td>\n",
       "      <td>0.0</td>\n",
       "      <td>0.0</td>\n",
       "      <td>0.0</td>\n",
       "      <td>...</td>\n",
       "      <td>18.18</td>\n",
       "      <td>20.78</td>\n",
       "      <td>20.41</td>\n",
       "      <td>20.16</td>\n",
       "      <td>18.68</td>\n",
       "      <td>21.06</td>\n",
       "      <td>22.47</td>\n",
       "      <td>16.94</td>\n",
       "      <td>17.49</td>\n",
       "      <td>19.44</td>\n",
       "    </tr>\n",
       "  </tbody>\n",
       "</table>\n",
       "<p>5 rows × 166 columns</p>\n",
       "</div>"
      ],
      "text/plain": [
       "                ID           SECTOR    SECCION CATEGORIA    FAMILIA  \\\n",
       "0        TOTAL PGC              NaN        NaN       NaN        NaN   \n",
       "1  ALIM. Y BEBIDAS  ALIM. Y BEBIDAS        NaN       NaN        NaN   \n",
       "2        ALIM.SECA  ALIM. Y BEBIDAS  ALIM.SECA       NaN        NaN   \n",
       "3           ACEITE  ALIM. Y BEBIDAS  ALIM.SECA    ACEITE        NaN   \n",
       "4        GIRASOL..  ALIM. Y BEBIDAS  ALIM.SECA    ACEITE  GIRASOL..   \n",
       "\n",
       "         COMUNIDAD  SEMANA 40-16  SEMANA 41-16  SEMANA 42-16  SEMANA 43-16  \\\n",
       "0  Ceuta_y_Melilla           0.0           0.0           0.0           0.0   \n",
       "1  Ceuta_y_Melilla           0.0           0.0           0.0           0.0   \n",
       "2  Ceuta_y_Melilla           0.0           0.0           0.0           0.0   \n",
       "3  Ceuta_y_Melilla           0.0           0.0           0.0           0.0   \n",
       "4  Ceuta_y_Melilla           0.0           0.0           0.0           0.0   \n",
       "\n",
       "   ...  SEMANA 34-19  SEMANA 35-19  SEMANA 36-19  SEMANA 37-19  SEMANA 38-19  \\\n",
       "0  ...       2652.71       2853.52       2699.68       2703.08       2484.19   \n",
       "1  ...       1328.36       1421.87       1364.16       1405.32       1269.16   \n",
       "2  ...        704.00        782.74        760.74        791.09        717.49   \n",
       "3  ...         60.80         72.97         67.83         71.55         62.32   \n",
       "4  ...         18.18         20.78         20.41         20.16         18.68   \n",
       "\n",
       "   SEMANA 39-19  SEMANA 40-19  SEMANA 41-19  SEMANA 42-19  SEMANA 43-19  \n",
       "0       2853.67       2844.06       2412.15       2559.18       2647.53  \n",
       "1       1457.10       1477.37       1288.87       1375.99       1442.49  \n",
       "2        829.03        829.07        739.01        813.17        891.25  \n",
       "3         73.07         76.68         61.45         60.28         63.69  \n",
       "4         21.06         22.47         16.94         17.49         19.44  \n",
       "\n",
       "[5 rows x 166 columns]"
      ]
     },
     "execution_count": 4,
     "metadata": {},
     "output_type": "execute_result"
    }
   ],
   "source": [
    "df_comunidades.head()"
   ]
  },
  {
   "cell_type": "markdown",
   "metadata": {},
   "source": [
    "### 1.2.2. Población por CC.AA. <a class=\"anchor\" id=\"poblacion\"></a>"
   ]
  },
  {
   "cell_type": "code",
   "execution_count": null,
   "metadata": {},
   "outputs": [],
   "source": [
    "PATH_POBLACION = './data/poblacion/'"
   ]
  },
  {
   "cell_type": "code",
   "execution_count": null,
   "metadata": {},
   "outputs": [],
   "source": [
    "df_poblacion = pd.read_excel(PATH_POBLACION+'poblacion_comunidades.xlsx', skiprows=1).set_index('CC.AA.')"
   ]
  },
  {
   "cell_type": "code",
   "execution_count": null,
   "metadata": {},
   "outputs": [
    {
     "data": {
      "text/html": [
       "<div>\n",
       "<style scoped>\n",
       "    .dataframe tbody tr th:only-of-type {\n",
       "        vertical-align: middle;\n",
       "    }\n",
       "\n",
       "    .dataframe tbody tr th {\n",
       "        vertical-align: top;\n",
       "    }\n",
       "\n",
       "    .dataframe thead th {\n",
       "        text-align: right;\n",
       "    }\n",
       "</style>\n",
       "<table border=\"1\" class=\"dataframe\">\n",
       "  <thead>\n",
       "    <tr style=\"text-align: right;\">\n",
       "      <th></th>\n",
       "      <th>2016</th>\n",
       "      <th>2017</th>\n",
       "      <th>2018</th>\n",
       "      <th>2019</th>\n",
       "      <th>2020</th>\n",
       "    </tr>\n",
       "    <tr>\n",
       "      <th>CC.AA.</th>\n",
       "      <th></th>\n",
       "      <th></th>\n",
       "      <th></th>\n",
       "      <th></th>\n",
       "      <th></th>\n",
       "    </tr>\n",
       "  </thead>\n",
       "  <tbody>\n",
       "    <tr>\n",
       "      <th>Ceuta_y_Melilla</th>\n",
       "      <td>170545</td>\n",
       "      <td>171079</td>\n",
       "      <td>171528</td>\n",
       "      <td>171264</td>\n",
       "      <td>171278</td>\n",
       "    </tr>\n",
       "    <tr>\n",
       "      <th>La_Rioja</th>\n",
       "      <td>315794</td>\n",
       "      <td>315381</td>\n",
       "      <td>315675</td>\n",
       "      <td>316798</td>\n",
       "      <td>313914</td>\n",
       "    </tr>\n",
       "    <tr>\n",
       "      <th>Pais_Vasco</th>\n",
       "      <td>2189534</td>\n",
       "      <td>2194158</td>\n",
       "      <td>2199088</td>\n",
       "      <td>2207776</td>\n",
       "      <td>2220504</td>\n",
       "    </tr>\n",
       "    <tr>\n",
       "      <th>Navarra</th>\n",
       "      <td>640647</td>\n",
       "      <td>643234</td>\n",
       "      <td>647554</td>\n",
       "      <td>654214</td>\n",
       "      <td>661197</td>\n",
       "    </tr>\n",
       "    <tr>\n",
       "      <th>Murcia</th>\n",
       "      <td>1464847</td>\n",
       "      <td>1470273</td>\n",
       "      <td>1478509</td>\n",
       "      <td>1493898</td>\n",
       "      <td>1511251</td>\n",
       "    </tr>\n",
       "    <tr>\n",
       "      <th>Madrid</th>\n",
       "      <td>6466996</td>\n",
       "      <td>6507184</td>\n",
       "      <td>6578079</td>\n",
       "      <td>6663394</td>\n",
       "      <td>6779888</td>\n",
       "    </tr>\n",
       "    <tr>\n",
       "      <th>Galicia</th>\n",
       "      <td>2718525</td>\n",
       "      <td>2708339</td>\n",
       "      <td>2701743</td>\n",
       "      <td>2699499</td>\n",
       "      <td>2701819</td>\n",
       "    </tr>\n",
       "    <tr>\n",
       "      <th>Extremadura</th>\n",
       "      <td>1087778</td>\n",
       "      <td>1079920</td>\n",
       "      <td>1072863</td>\n",
       "      <td>1067710</td>\n",
       "      <td>1063987</td>\n",
       "    </tr>\n",
       "    <tr>\n",
       "      <th>C_Valenciana</th>\n",
       "      <td>4959968</td>\n",
       "      <td>4941509</td>\n",
       "      <td>4963703</td>\n",
       "      <td>5003769</td>\n",
       "      <td>5057353</td>\n",
       "    </tr>\n",
       "    <tr>\n",
       "      <th>Catalunya</th>\n",
       "      <td>7522596</td>\n",
       "      <td>7555830</td>\n",
       "      <td>7600065</td>\n",
       "      <td>7675217</td>\n",
       "      <td>7780479</td>\n",
       "    </tr>\n",
       "    <tr>\n",
       "      <th>Castilla_La_Mancha</th>\n",
       "      <td>2041631</td>\n",
       "      <td>2031479</td>\n",
       "      <td>2026807</td>\n",
       "      <td>2032863</td>\n",
       "      <td>2045221</td>\n",
       "    </tr>\n",
       "    <tr>\n",
       "      <th>Castilla_y_Leon</th>\n",
       "      <td>2447519</td>\n",
       "      <td>2425801</td>\n",
       "      <td>2409164</td>\n",
       "      <td>2399548</td>\n",
       "      <td>2394918</td>\n",
       "    </tr>\n",
       "    <tr>\n",
       "      <th>Cantabria</th>\n",
       "      <td>282988</td>\n",
       "      <td>580295</td>\n",
       "      <td>580229</td>\n",
       "      <td>581078</td>\n",
       "      <td>582905</td>\n",
       "    </tr>\n",
       "    <tr>\n",
       "      <th>Canarias</th>\n",
       "      <td>2101924</td>\n",
       "      <td>2108121</td>\n",
       "      <td>2127685</td>\n",
       "      <td>2153389</td>\n",
       "      <td>2175952</td>\n",
       "    </tr>\n",
       "    <tr>\n",
       "      <th>Baleares</th>\n",
       "      <td>1107220</td>\n",
       "      <td>1115999</td>\n",
       "      <td>1128908</td>\n",
       "      <td>1149460</td>\n",
       "      <td>1171543</td>\n",
       "    </tr>\n",
       "    <tr>\n",
       "      <th>Asturias</th>\n",
       "      <td>1042608</td>\n",
       "      <td>1034960</td>\n",
       "      <td>1028244</td>\n",
       "      <td>1022800</td>\n",
       "      <td>1018784</td>\n",
       "    </tr>\n",
       "    <tr>\n",
       "      <th>Aragon</th>\n",
       "      <td>1308563</td>\n",
       "      <td>1308750</td>\n",
       "      <td>1308728</td>\n",
       "      <td>1319291</td>\n",
       "      <td>1329391</td>\n",
       "    </tr>\n",
       "    <tr>\n",
       "      <th>Andalucia</th>\n",
       "      <td>8388107</td>\n",
       "      <td>8379820</td>\n",
       "      <td>8384408</td>\n",
       "      <td>8414240</td>\n",
       "      <td>8464411</td>\n",
       "    </tr>\n",
       "  </tbody>\n",
       "</table>\n",
       "</div>"
      ],
      "text/plain": [
       "                       2016     2017     2018     2019     2020\n",
       "CC.AA.                                                         \n",
       "Ceuta_y_Melilla      170545   171079   171528   171264   171278\n",
       "La_Rioja             315794   315381   315675   316798   313914\n",
       "Pais_Vasco          2189534  2194158  2199088  2207776  2220504\n",
       "Navarra              640647   643234   647554   654214   661197\n",
       "Murcia              1464847  1470273  1478509  1493898  1511251\n",
       "Madrid              6466996  6507184  6578079  6663394  6779888\n",
       "Galicia             2718525  2708339  2701743  2699499  2701819\n",
       "Extremadura         1087778  1079920  1072863  1067710  1063987\n",
       "C_Valenciana        4959968  4941509  4963703  5003769  5057353\n",
       "Catalunya           7522596  7555830  7600065  7675217  7780479\n",
       "Castilla_La_Mancha  2041631  2031479  2026807  2032863  2045221\n",
       "Castilla_y_Leon     2447519  2425801  2409164  2399548  2394918\n",
       "Cantabria            282988   580295   580229   581078   582905\n",
       "Canarias            2101924  2108121  2127685  2153389  2175952\n",
       "Baleares            1107220  1115999  1128908  1149460  1171543\n",
       "Asturias            1042608  1034960  1028244  1022800  1018784\n",
       "Aragon              1308563  1308750  1308728  1319291  1329391\n",
       "Andalucia           8388107  8379820  8384408  8414240  8464411"
      ]
     },
     "execution_count": 7,
     "metadata": {},
     "output_type": "execute_result"
    }
   ],
   "source": [
    "df_poblacion"
   ]
  },
  {
   "cell_type": "markdown",
   "metadata": {},
   "source": [
    "###  1.2.3. Muertes por diabetes mellitus por CC.AA <a class=\"anchor\" id=\"diabetes\"></a>"
   ]
  },
  {
   "cell_type": "code",
   "execution_count": null,
   "metadata": {},
   "outputs": [],
   "source": [
    "# Guardamos el path donde tenemos los datos de las enfermedades\n",
    "PATH_ENFERMEDADES = './data/enfermedades/'"
   ]
  },
  {
   "cell_type": "code",
   "execution_count": null,
   "metadata": {},
   "outputs": [],
   "source": [
    "# Creamos el DataFrame con los datos de la tasa de muertes por comunidades\n",
    "df_muertos_diabetes = pd.read_excel(PATH_ENFERMEDADES + 'diabetes.xlsx', skiprows=1).set_index('CC.AA.')"
   ]
  },
  {
   "cell_type": "code",
   "execution_count": null,
   "metadata": {},
   "outputs": [
    {
     "data": {
      "text/html": [
       "<div>\n",
       "<style scoped>\n",
       "    .dataframe tbody tr th:only-of-type {\n",
       "        vertical-align: middle;\n",
       "    }\n",
       "\n",
       "    .dataframe tbody tr th {\n",
       "        vertical-align: top;\n",
       "    }\n",
       "\n",
       "    .dataframe thead th {\n",
       "        text-align: right;\n",
       "    }\n",
       "</style>\n",
       "<table border=\"1\" class=\"dataframe\">\n",
       "  <thead>\n",
       "    <tr style=\"text-align: right;\">\n",
       "      <th></th>\n",
       "      <th>2016</th>\n",
       "      <th>2017</th>\n",
       "      <th>2018</th>\n",
       "      <th>2019</th>\n",
       "      <th>2020</th>\n",
       "    </tr>\n",
       "    <tr>\n",
       "      <th>CC.AA.</th>\n",
       "      <th></th>\n",
       "      <th></th>\n",
       "      <th></th>\n",
       "      <th></th>\n",
       "      <th></th>\n",
       "    </tr>\n",
       "  </thead>\n",
       "  <tbody>\n",
       "    <tr>\n",
       "      <th>Ceuta_y_Melilla</th>\n",
       "      <td>50.36</td>\n",
       "      <td>35.33</td>\n",
       "      <td>27.14</td>\n",
       "      <td>20.33</td>\n",
       "      <td>47.11</td>\n",
       "    </tr>\n",
       "    <tr>\n",
       "      <th>La_Rioja</th>\n",
       "      <td>15.88</td>\n",
       "      <td>15.51</td>\n",
       "      <td>19.18</td>\n",
       "      <td>15.20</td>\n",
       "      <td>15.82</td>\n",
       "    </tr>\n",
       "    <tr>\n",
       "      <th>Pais_Vasco</th>\n",
       "      <td>15.19</td>\n",
       "      <td>13.03</td>\n",
       "      <td>15.14</td>\n",
       "      <td>15.07</td>\n",
       "      <td>16.65</td>\n",
       "    </tr>\n",
       "    <tr>\n",
       "      <th>Navarra</th>\n",
       "      <td>20.41</td>\n",
       "      <td>20.21</td>\n",
       "      <td>16.13</td>\n",
       "      <td>15.77</td>\n",
       "      <td>16.34</td>\n",
       "    </tr>\n",
       "    <tr>\n",
       "      <th>Murcia</th>\n",
       "      <td>20.92</td>\n",
       "      <td>25.17</td>\n",
       "      <td>21.24</td>\n",
       "      <td>22.40</td>\n",
       "      <td>30.91</td>\n",
       "    </tr>\n",
       "    <tr>\n",
       "      <th>Madrid</th>\n",
       "      <td>10.90</td>\n",
       "      <td>10.49</td>\n",
       "      <td>10.23</td>\n",
       "      <td>8.28</td>\n",
       "      <td>10.03</td>\n",
       "    </tr>\n",
       "    <tr>\n",
       "      <th>Galicia</th>\n",
       "      <td>16.32</td>\n",
       "      <td>14.40</td>\n",
       "      <td>12.66</td>\n",
       "      <td>11.08</td>\n",
       "      <td>12.88</td>\n",
       "    </tr>\n",
       "    <tr>\n",
       "      <th>Extremadura</th>\n",
       "      <td>19.58</td>\n",
       "      <td>17.68</td>\n",
       "      <td>17.88</td>\n",
       "      <td>16.88</td>\n",
       "      <td>22.17</td>\n",
       "    </tr>\n",
       "    <tr>\n",
       "      <th>C_Valenciana</th>\n",
       "      <td>19.39</td>\n",
       "      <td>20.06</td>\n",
       "      <td>25.27</td>\n",
       "      <td>25.50</td>\n",
       "      <td>28.49</td>\n",
       "    </tr>\n",
       "    <tr>\n",
       "      <th>Catalunya</th>\n",
       "      <td>19.32</td>\n",
       "      <td>20.81</td>\n",
       "      <td>19.91</td>\n",
       "      <td>18.47</td>\n",
       "      <td>21.28</td>\n",
       "    </tr>\n",
       "    <tr>\n",
       "      <th>Castilla_La_Mancha</th>\n",
       "      <td>22.59</td>\n",
       "      <td>23.78</td>\n",
       "      <td>18.72</td>\n",
       "      <td>17.36</td>\n",
       "      <td>21.38</td>\n",
       "    </tr>\n",
       "    <tr>\n",
       "      <th>Castilla_y_Leon</th>\n",
       "      <td>20.69</td>\n",
       "      <td>18.90</td>\n",
       "      <td>19.46</td>\n",
       "      <td>19.52</td>\n",
       "      <td>25.20</td>\n",
       "    </tr>\n",
       "    <tr>\n",
       "      <th>Cantabria</th>\n",
       "      <td>5.65</td>\n",
       "      <td>9.64</td>\n",
       "      <td>13.06</td>\n",
       "      <td>14.83</td>\n",
       "      <td>18.95</td>\n",
       "    </tr>\n",
       "    <tr>\n",
       "      <th>Canarias</th>\n",
       "      <td>28.82</td>\n",
       "      <td>24.13</td>\n",
       "      <td>23.11</td>\n",
       "      <td>19.31</td>\n",
       "      <td>20.00</td>\n",
       "    </tr>\n",
       "    <tr>\n",
       "      <th>Baleares</th>\n",
       "      <td>25.55</td>\n",
       "      <td>28.97</td>\n",
       "      <td>24.07</td>\n",
       "      <td>24.66</td>\n",
       "      <td>22.35</td>\n",
       "    </tr>\n",
       "    <tr>\n",
       "      <th>Asturias</th>\n",
       "      <td>18.63</td>\n",
       "      <td>16.32</td>\n",
       "      <td>19.93</td>\n",
       "      <td>18.04</td>\n",
       "      <td>21.08</td>\n",
       "    </tr>\n",
       "    <tr>\n",
       "      <th>Aragon</th>\n",
       "      <td>14.16</td>\n",
       "      <td>23.98</td>\n",
       "      <td>20.84</td>\n",
       "      <td>21.21</td>\n",
       "      <td>20.91</td>\n",
       "    </tr>\n",
       "    <tr>\n",
       "      <th>Andalucia</th>\n",
       "      <td>19.88</td>\n",
       "      <td>21.62</td>\n",
       "      <td>20.95</td>\n",
       "      <td>20.82</td>\n",
       "      <td>23.66</td>\n",
       "    </tr>\n",
       "  </tbody>\n",
       "</table>\n",
       "</div>"
      ],
      "text/plain": [
       "                     2016   2017   2018   2019   2020\n",
       "CC.AA.                                               \n",
       "Ceuta_y_Melilla     50.36  35.33  27.14  20.33  47.11\n",
       "La_Rioja            15.88  15.51  19.18  15.20  15.82\n",
       "Pais_Vasco          15.19  13.03  15.14  15.07  16.65\n",
       "Navarra             20.41  20.21  16.13  15.77  16.34\n",
       "Murcia              20.92  25.17  21.24  22.40  30.91\n",
       "Madrid              10.90  10.49  10.23   8.28  10.03\n",
       "Galicia             16.32  14.40  12.66  11.08  12.88\n",
       "Extremadura         19.58  17.68  17.88  16.88  22.17\n",
       "C_Valenciana        19.39  20.06  25.27  25.50  28.49\n",
       "Catalunya           19.32  20.81  19.91  18.47  21.28\n",
       "Castilla_La_Mancha  22.59  23.78  18.72  17.36  21.38\n",
       "Castilla_y_Leon     20.69  18.90  19.46  19.52  25.20\n",
       "Cantabria            5.65   9.64  13.06  14.83  18.95\n",
       "Canarias            28.82  24.13  23.11  19.31  20.00\n",
       "Baleares            25.55  28.97  24.07  24.66  22.35\n",
       "Asturias            18.63  16.32  19.93  18.04  21.08\n",
       "Aragon              14.16  23.98  20.84  21.21  20.91\n",
       "Andalucia           19.88  21.62  20.95  20.82  23.66"
      ]
     },
     "execution_count": 10,
     "metadata": {},
     "output_type": "execute_result"
    }
   ],
   "source": [
    "# Comprobamos que se ha cargado correctamente el DataFrame\n",
    "df_muertos_diabetes"
   ]
  },
  {
   "cell_type": "markdown",
   "metadata": {},
   "source": [
    "# 2. Extracción y limpieza de datos <a class=\"anchor\" id=\"etl\"></a>"
   ]
  },
  {
   "cell_type": "markdown",
   "metadata": {},
   "source": [
    "## 2.1. Selección de las familias de alimentos relacionadas con la diabetes <a class=\"anchor\" id=\"familias_diabetes\"></a>\n",
    "\n",
    "Nuestros datos están clasificados de la siguiente forma:\n",
    "\n",
    "SECTOR > SECCION > CATEGORIA > FAMILIA\n",
    "\n",
    "El objetivo es ir recorriendo cada agrupación para descartar familias de alimentos que no estén relacionadas con la diabetes."
   ]
  },
  {
   "cell_type": "code",
   "execution_count": null,
   "metadata": {},
   "outputs": [],
   "source": [
    "# Sacamos la lista de todos los valores de cada sector, sección, categoría y familia de alimentos\n",
    "lista_sectores = list(df_comunidades[~df_comunidades['SECTOR'].isna()]['SECTOR'].unique())\n",
    "lista_secciones = list(df_comunidades[~df_comunidades['SECCION'].isna()]['SECCION'].unique())\n",
    "lista_categorias = list(df_comunidades[~df_comunidades['CATEGORIA'].isna()]['CATEGORIA'].unique())\n",
    "lista_familias = list(df_comunidades[~df_comunidades['FAMILIA'].isna()]['FAMILIA'].unique())"
   ]
  },
  {
   "cell_type": "markdown",
   "metadata": {},
   "source": [
    "### Sectores relacionados con diabetes"
   ]
  },
  {
   "cell_type": "code",
   "execution_count": null,
   "metadata": {},
   "outputs": [
    {
     "data": {
      "text/plain": [
       "['ALIM. Y BEBIDAS', 'PROD.FRESCOS']"
      ]
     },
     "execution_count": 12,
     "metadata": {},
     "output_type": "execute_result"
    }
   ],
   "source": [
    "# Copiamos la primera lista para modificarla\n",
    "lista_sectores_diabetes = lista_sectores.copy()\n",
    "\n",
    "# Eliminamos los sectores que no están relacionados con la diabetes\n",
    "lista_sectores_diabetes.remove('DROGUERIA Y PERFUMERIA')\n",
    "\n",
    "# Mostramos los sectores seleccionados\n",
    "lista_sectores_diabetes"
   ]
  },
  {
   "cell_type": "markdown",
   "metadata": {},
   "source": [
    "### Secciones relacionadas con diabetes"
   ]
  },
  {
   "cell_type": "code",
   "execution_count": null,
   "metadata": {},
   "outputs": [
    {
     "data": {
      "text/plain": [
       "['ALIM.SECA', 'BEBIDAS', 'LECHE Y BATIDOS', 'CONGELADOS', 'DERV.LACTEOS']"
      ]
     },
     "execution_count": 13,
     "metadata": {},
     "output_type": "execute_result"
    }
   ],
   "source": [
    "# Seleccionamos las secciones que hay dentro de de los sectores seleccionados en lista_sectores_diabetes\n",
    "lista_secciones_sectores_diabetes = list(df_comunidades.loc[df_comunidades['SECTOR'].isin(lista_sectores_diabetes), 'SECCION'].unique())[1:]\n",
    "\n",
    "# Copiamos la lista de los secciones de los sectores relacionados con la diabetes\n",
    "lista_secciones_diabetes = lista_secciones_sectores_diabetes.copy()\n",
    "\n",
    "# Creamos una lista de las secciones a eliminar\n",
    "secciones_sin_diabetes = ['CONSERVAS', 'CHARCUTERIA', 'PL. COCINADOS Y PRECOCINADOS', 'QUESOS']\n",
    "\n",
    "# Eliminamos las secciones que no están relacionadas con la diabetes\n",
    "for i in range(len(secciones_sin_diabetes)):\n",
    "    lista_secciones_diabetes.remove(secciones_sin_diabetes[i])\n",
    "\n",
    "# Mostramos las secciones seleccionadas\n",
    "lista_secciones_diabetes"
   ]
  },
  {
   "cell_type": "markdown",
   "metadata": {},
   "source": [
    "### Categorías relacionadas con diabetes"
   ]
  },
  {
   "cell_type": "code",
   "execution_count": null,
   "metadata": {},
   "outputs": [
    {
     "data": {
      "text/plain": [
       "['AZUCAR Y EDULCORANTES',\n",
       " 'BOLLERIA INDUSTRIAL',\n",
       " 'CACAO',\n",
       " 'CEREALES DESAYUNO',\n",
       " 'CHOCOLATES',\n",
       " 'DULCES NAVIDENOS',\n",
       " 'GALLETAS',\n",
       " 'GOLOSINAS',\n",
       " 'REPOSTERIA',\n",
       " 'SALSAS',\n",
       " 'BEBIDAS ALCOHOLICAS',\n",
       " 'BEBIDAS REFRESCANTES',\n",
       " 'ZUMOS',\n",
       " 'BATIDOS',\n",
       " 'HORCHATA.',\n",
       " 'LECHE NO LIQUIDA',\n",
       " 'HELADOS',\n",
       " 'OTROS CONGELADOS',\n",
       " 'NATA',\n",
       " 'POSTRES PREPARADOS',\n",
       " 'YOGURES']"
      ]
     },
     "execution_count": 14,
     "metadata": {},
     "output_type": "execute_result"
    }
   ],
   "source": [
    "# Seleccionamos las categorias que hay dentro de de los secciones seleccionados en lista_secciones_diabetes\n",
    "lista_categorias_secciones_diabetes = list(df_comunidades.loc[df_comunidades['SECCION'].isin(lista_secciones_diabetes), 'CATEGORIA'].unique())[1:]\n",
    "\n",
    "# Copiamos la lista de los categorias de las secciones relacionados con la diabetes\n",
    "lista_categorias_diabetes = lista_categorias_secciones_diabetes.copy()\n",
    "\n",
    "# Creamos una lista de las categorias a eliminar\n",
    "categorias_sin_diabetes = [\n",
    "    'ACEITE', 'ADITIVOS COCINA', 'ALIMENTOS INFANTILES', 'ALIMENTOS MASCOTAS', 'APERITIVOS', 'ARROZ', 'CAFES', 'DIETETICOS', 'FRUTOS SECOS',\n",
    "    'INFUSIONES', 'LEGUMBRES SECAS', 'PANADERIA INDUSTRIAL', 'PASTAS', 'SOPAS Y DESHIDRATADOS', 'AGUAS', 'CERVEZA', 'ESPUMOSOS', 'VINOS',\n",
    "    'LECHE LIQUIDA Y BEBIDAS VEGETALES', 'PESCADO CONGELADO', 'PESCADO PREPARADO CONGELADO', 'PLATOS PREPARADOS CONGELADOS', 'VERDURAS CONGELADAS',\n",
    "    'MANTEQUILLA', 'MARGARINA', 'QUESO TIPO PETIT'\n",
    "]\n",
    "\n",
    "# Eliminamos las categorias que no están relacionadas con la diabetes\n",
    "for i in range(len(categorias_sin_diabetes)):\n",
    "    lista_categorias_diabetes.remove(categorias_sin_diabetes[i])\n",
    "\n",
    "# Mostramos las categorías seleccionadas\n",
    "lista_categorias_diabetes"
   ]
  },
  {
   "cell_type": "markdown",
   "metadata": {},
   "source": [
    "### Familias de alimentos relacionadas con diabetes"
   ]
  },
  {
   "cell_type": "code",
   "execution_count": null,
   "metadata": {},
   "outputs": [
    {
     "data": {
      "text/plain": [
       "120"
      ]
     },
     "execution_count": 15,
     "metadata": {},
     "output_type": "execute_result"
    }
   ],
   "source": [
    "# Seleccionamos las familias de alimentos que hay dentro de de las categorias seleccionados en lista_categorias_diabetes\n",
    "lista_familias_categorias_diabetes = list(df_comunidades.loc[df_comunidades['CATEGORIA'].isin(lista_categorias_diabetes), 'FAMILIA'].unique())[1:]\n",
    "\n",
    "# Copiamos la lista de las familias de alimentos de las categorias relacionados con la diabetes\n",
    "lista_familias_diabetes = lista_familias_categorias_diabetes.copy()\n",
    "\n",
    "# Creamos una lista de las categorias a eliminar\n",
    "famlias_sin_diabetes = [\n",
    "    'EDULCORANTE', 'LEVADURA', 'L.EVAPORADA', 'L.POLVO', 'BASES PIZZA', 'CHURROS', 'FRUTAS', 'HIELO', 'HOJALDRES MASAS RELLENAS', 'HOJALDRES SIN RELLENAR',\n",
    "    'NATA', 'YOGUR NATURAL'\n",
    "]\n",
    "\n",
    "# Eliminamos las familias que no están relacionadas con la diabetes\n",
    "for i in range(len(famlias_sin_diabetes)):\n",
    "    lista_familias_diabetes.remove(famlias_sin_diabetes[i])\n",
    "\n",
    "# Lista de las categorias relacionadas con la diabetes. Mostramos la cantidad de familias de alimentos que hemos seleccionado\n",
    "len(lista_familias_diabetes)"
   ]
  },
  {
   "cell_type": "markdown",
   "metadata": {},
   "source": [
    "## 2.2. Normalización de consumos de alimentos con la poblacion de las CC.AA. <a class=\"anchor\" id=\"normalizacion_consumos\"></a>"
   ]
  },
  {
   "cell_type": "code",
   "execution_count": null,
   "metadata": {},
   "outputs": [],
   "source": [
    "# Creamos un dataset de las familias de alimentos que tienen relación con la diabetes\n",
    "df_diabetes = df_comunidades[df_comunidades['FAMILIA'].isin(lista_familias_diabetes)].groupby('COMUNIDAD').sum().T\n",
    "\n",
    "# Editamos el índice para que tenga un formato adecuado para ser formateado a fecha (quitamos 'SEMANA', 1 para que la semana empiece en lunes, la semana y el año)\n",
    "df_diabetes.index = '1 ' + df_diabetes.index.str[-5:-3] + ' ' + df_diabetes.index.str[-2:]\n",
    "df_diabetes.index = pd.to_datetime(df_diabetes.index, format=\"%w %W %y\")\n",
    "\n",
    "# Cambiamos la granularidad a mensual\n",
    "df_diabetes = df_diabetes.groupby(pd.Grouper(freq='M')).sum()"
   ]
  },
  {
   "cell_type": "code",
   "execution_count": null,
   "metadata": {},
   "outputs": [],
   "source": [
    "# Dividimos el DF para cada año\n",
    "df_diabetes_2017 = df_diabetes['2017':'2017']\n",
    "df_diabetes_2018 = df_diabetes['2018':'2018']\n",
    "df_diabetes_2019 = df_diabetes['2019':'2019']"
   ]
  },
  {
   "cell_type": "code",
   "execution_count": null,
   "metadata": {},
   "outputs": [],
   "source": [
    "# Usamos la función apply para dividir los datos por la población de cada comunidad por cada 100000 habitantes\n",
    "df_diabetes_2017_normalizado = df_diabetes_2017.apply(lambda x: x / df_poblacion['2017'][x.name] * 100000)\n",
    "df_diabetes_2018_normalizado = df_diabetes_2018.apply(lambda x: x / df_poblacion['2018'][x.name] * 100000)\n",
    "df_diabetes_2019_normalizado = df_diabetes_2019.apply(lambda x: x / df_poblacion['2019'][x.name] * 100000)"
   ]
  },
  {
   "cell_type": "code",
   "execution_count": null,
   "metadata": {},
   "outputs": [],
   "source": [
    "# Unimos el DF con los valores ya normalizados\n",
    "df_diabetes_normalizado = pd.concat([df_diabetes_2017_normalizado, df_diabetes_2018_normalizado, df_diabetes_2019_normalizado])"
   ]
  },
  {
   "cell_type": "code",
   "execution_count": null,
   "metadata": {},
   "outputs": [
    {
     "data": {
      "application/vnd.plotly.v1+json": {
       "config": {
        "plotlyServerURL": "https://plot.ly"
       },
       "data": [
        {
         "hovertemplate": "COMUNIDAD=Andalucia<br>Tiempo=%{x}<br>Consumo / Población * 100=%{y}<extra></extra>",
         "legendgroup": "Andalucia",
         "line": {
          "color": "#636efa",
          "dash": "solid"
         },
         "marker": {
          "symbol": "circle"
         },
         "mode": "lines",
         "name": "Andalucia",
         "orientation": "v",
         "showlegend": true,
         "type": "scatter",
         "x": [
          "2017-01-31T00:00:00",
          "2017-02-28T00:00:00",
          "2017-03-31T00:00:00",
          "2017-04-30T00:00:00",
          "2017-05-31T00:00:00",
          "2017-06-30T00:00:00",
          "2017-07-31T00:00:00",
          "2017-08-31T00:00:00",
          "2017-09-30T00:00:00",
          "2017-10-31T00:00:00",
          "2017-11-30T00:00:00",
          "2017-12-31T00:00:00",
          "2018-01-31T00:00:00",
          "2018-02-28T00:00:00",
          "2018-03-31T00:00:00",
          "2018-04-30T00:00:00",
          "2018-05-31T00:00:00",
          "2018-06-30T00:00:00",
          "2018-07-31T00:00:00",
          "2018-08-31T00:00:00",
          "2018-09-30T00:00:00",
          "2018-10-31T00:00:00",
          "2018-11-30T00:00:00",
          "2018-12-31T00:00:00",
          "2019-01-31T00:00:00",
          "2019-02-28T00:00:00",
          "2019-03-31T00:00:00",
          "2019-04-30T00:00:00",
          "2019-05-31T00:00:00",
          "2019-06-30T00:00:00",
          "2019-07-31T00:00:00",
          "2019-08-31T00:00:00",
          "2019-09-30T00:00:00",
          "2019-10-31T00:00:00"
         ],
         "xaxis": "x",
         "y": [
          2073.39930929304,
          1721.4993878150126,
          1739.8865369423206,
          1833.163361504185,
          2273.424130828586,
          2028.745724848505,
          2742.9049788658945,
          2167.9806964827408,
          1900.1622946554937,
          2352.409240293944,
          1903.026198653432,
          2414.197798998069,
          2049.751395685897,
          1740.952849622776,
          1741.3830529239513,
          2262.9423568127886,
          1838.7407912401209,
          1987.5650135346468,
          2746.1115918977225,
          2196.5076127020534,
          1903.6058359755393,
          2342.210684403717,
          1907.5953841940898,
          2418.677860142302,
          1730.4741723554355,
          1742.6690942972864,
          1783.8965848371333,
          2279.384472037879,
          1848.0616193500541,
          1954.0572885964746,
          2702.7351252163,
          2287.7949761356936,
          2465.383088668733,
          1891.551583981441
         ],
         "yaxis": "y"
        },
        {
         "hovertemplate": "COMUNIDAD=Aragon<br>Tiempo=%{x}<br>Consumo / Población * 100=%{y}<extra></extra>",
         "legendgroup": "Aragon",
         "line": {
          "color": "#EF553B",
          "dash": "solid"
         },
         "marker": {
          "symbol": "circle"
         },
         "mode": "lines",
         "name": "Aragon",
         "orientation": "v",
         "showlegend": true,
         "type": "scatter",
         "x": [
          "2017-01-31T00:00:00",
          "2017-02-28T00:00:00",
          "2017-03-31T00:00:00",
          "2017-04-30T00:00:00",
          "2017-05-31T00:00:00",
          "2017-06-30T00:00:00",
          "2017-07-31T00:00:00",
          "2017-08-31T00:00:00",
          "2017-09-30T00:00:00",
          "2017-10-31T00:00:00",
          "2017-11-30T00:00:00",
          "2017-12-31T00:00:00",
          "2018-01-31T00:00:00",
          "2018-02-28T00:00:00",
          "2018-03-31T00:00:00",
          "2018-04-30T00:00:00",
          "2018-05-31T00:00:00",
          "2018-06-30T00:00:00",
          "2018-07-31T00:00:00",
          "2018-08-31T00:00:00",
          "2018-09-30T00:00:00",
          "2018-10-31T00:00:00",
          "2018-11-30T00:00:00",
          "2018-12-31T00:00:00",
          "2019-01-31T00:00:00",
          "2019-02-28T00:00:00",
          "2019-03-31T00:00:00",
          "2019-04-30T00:00:00",
          "2019-05-31T00:00:00",
          "2019-06-30T00:00:00",
          "2019-07-31T00:00:00",
          "2019-08-31T00:00:00",
          "2019-09-30T00:00:00",
          "2019-10-31T00:00:00"
         ],
         "xaxis": "x",
         "y": [
          2048.255205348615,
          1727.6775549188158,
          1731.7004775549187,
          1808.9574021012415,
          2255.265711556829,
          1909.1102196752627,
          2413.135434574976,
          1896.4217765042981,
          1765.3516714422158,
          2340.783190066858,
          1909.7405921680993,
          2446.012607449857,
          2032.4521214492238,
          1756.6537890226234,
          1763.5589671803464,
          2241.531471780232,
          1807.8355471878037,
          1876.237843157631,
          2435.2294747266046,
          1913.865982847467,
          1844.5628121351417,
          2341.093794890917,
          1910.957815527749,
          2423.9406507692966,
          1712.350042560739,
          1753.6949770748076,
          1814.1986870220446,
          2300.8676630099044,
          1835.6943236935597,
          1905.9017305507277,
          2506.599377999243,
          2015.154351845044,
          2366.3475306054543,
          1859.5253056376494
         ],
         "yaxis": "y"
        },
        {
         "hovertemplate": "COMUNIDAD=Asturias<br>Tiempo=%{x}<br>Consumo / Población * 100=%{y}<extra></extra>",
         "legendgroup": "Asturias",
         "line": {
          "color": "#00cc96",
          "dash": "solid"
         },
         "marker": {
          "symbol": "circle"
         },
         "mode": "lines",
         "name": "Asturias",
         "orientation": "v",
         "showlegend": true,
         "type": "scatter",
         "x": [
          "2017-01-31T00:00:00",
          "2017-02-28T00:00:00",
          "2017-03-31T00:00:00",
          "2017-04-30T00:00:00",
          "2017-05-31T00:00:00",
          "2017-06-30T00:00:00",
          "2017-07-31T00:00:00",
          "2017-08-31T00:00:00",
          "2017-09-30T00:00:00",
          "2017-10-31T00:00:00",
          "2017-11-30T00:00:00",
          "2017-12-31T00:00:00",
          "2018-01-31T00:00:00",
          "2018-02-28T00:00:00",
          "2018-03-31T00:00:00",
          "2018-04-30T00:00:00",
          "2018-05-31T00:00:00",
          "2018-06-30T00:00:00",
          "2018-07-31T00:00:00",
          "2018-08-31T00:00:00",
          "2018-09-30T00:00:00",
          "2018-10-31T00:00:00",
          "2018-11-30T00:00:00",
          "2018-12-31T00:00:00",
          "2019-01-31T00:00:00",
          "2019-02-28T00:00:00",
          "2019-03-31T00:00:00",
          "2019-04-30T00:00:00",
          "2019-05-31T00:00:00",
          "2019-06-30T00:00:00",
          "2019-07-31T00:00:00",
          "2019-08-31T00:00:00",
          "2019-09-30T00:00:00",
          "2019-10-31T00:00:00"
         ],
         "xaxis": "x",
         "y": [
          2190.7890160006186,
          1798.7265208317226,
          1818.183311432326,
          1874.562301924712,
          2228.732511401407,
          1869.8220221071347,
          2467.0016232511402,
          1946.624990337791,
          1779.8513952230037,
          2289.2681842776533,
          1962.585993661591,
          2433.4351086032316,
          2157.4927740886405,
          1798.998097727777,
          1847.2113622836603,
          2284.5248793088026,
          1836.176043818393,
          1892.8094887983787,
          2492.393828702137,
          2045.6681488051472,
          1875.5558019302812,
          2358.4830059791257,
          2013.8624684413426,
          2488.856730503655,
          1857.769847477513,
          1840.101681658193,
          1888.47379741885,
          2374.7604614782954,
          1891.9035979663668,
          1912.9536566288618,
          2486.1615174032067,
          2136.4313648807197,
          2389.9325381306217,
          1905.8408290965979
         ],
         "yaxis": "y"
        },
        {
         "hovertemplate": "COMUNIDAD=Baleares<br>Tiempo=%{x}<br>Consumo / Población * 100=%{y}<extra></extra>",
         "legendgroup": "Baleares",
         "line": {
          "color": "#ab63fa",
          "dash": "solid"
         },
         "marker": {
          "symbol": "circle"
         },
         "mode": "lines",
         "name": "Baleares",
         "orientation": "v",
         "showlegend": true,
         "type": "scatter",
         "x": [
          "2017-01-31T00:00:00",
          "2017-02-28T00:00:00",
          "2017-03-31T00:00:00",
          "2017-04-30T00:00:00",
          "2017-05-31T00:00:00",
          "2017-06-30T00:00:00",
          "2017-07-31T00:00:00",
          "2017-08-31T00:00:00",
          "2017-09-30T00:00:00",
          "2017-10-31T00:00:00",
          "2017-11-30T00:00:00",
          "2017-12-31T00:00:00",
          "2018-01-31T00:00:00",
          "2018-02-28T00:00:00",
          "2018-03-31T00:00:00",
          "2018-04-30T00:00:00",
          "2018-05-31T00:00:00",
          "2018-06-30T00:00:00",
          "2018-07-31T00:00:00",
          "2018-08-31T00:00:00",
          "2018-09-30T00:00:00",
          "2018-10-31T00:00:00",
          "2018-11-30T00:00:00",
          "2018-12-31T00:00:00",
          "2019-01-31T00:00:00",
          "2019-02-28T00:00:00",
          "2019-03-31T00:00:00",
          "2019-04-30T00:00:00",
          "2019-05-31T00:00:00",
          "2019-06-30T00:00:00",
          "2019-07-31T00:00:00",
          "2019-08-31T00:00:00",
          "2019-09-30T00:00:00",
          "2019-10-31T00:00:00"
         ],
         "xaxis": "x",
         "y": [
          2460.045215094279,
          2083.4481034481214,
          2196.0942617332094,
          2429.7781628836583,
          3178.2349267338054,
          2959.9067741100125,
          4326.0952742789195,
          3321.090789507876,
          2735.345640990718,
          3187.208949111962,
          2372.9985421133892,
          2764.9155599601795,
          2490.9939516771956,
          2176.8974974045714,
          2328.9143136553203,
          3024.364252888632,
          2618.9538917254554,
          2963.8827964723428,
          4324.384272234762,
          3319.8648605555104,
          2815.6935729040806,
          3184.1080052581788,
          2321.4052872333264,
          2697.373922409975,
          2074.064343256834,
          2114.8147825935657,
          2204.851843474327,
          2981.861917770083,
          2468.8723400553304,
          2784.3222034694554,
          4086.854696988151,
          3363.260139543786,
          3531.2659857672297,
          2586.762479773111
         ],
         "yaxis": "y"
        },
        {
         "hovertemplate": "COMUNIDAD=C_Valenciana<br>Tiempo=%{x}<br>Consumo / Población * 100=%{y}<extra></extra>",
         "legendgroup": "C_Valenciana",
         "line": {
          "color": "#FFA15A",
          "dash": "solid"
         },
         "marker": {
          "symbol": "circle"
         },
         "mode": "lines",
         "name": "C_Valenciana",
         "orientation": "v",
         "showlegend": true,
         "type": "scatter",
         "x": [
          "2017-01-31T00:00:00",
          "2017-02-28T00:00:00",
          "2017-03-31T00:00:00",
          "2017-04-30T00:00:00",
          "2017-05-31T00:00:00",
          "2017-06-30T00:00:00",
          "2017-07-31T00:00:00",
          "2017-08-31T00:00:00",
          "2017-09-30T00:00:00",
          "2017-10-31T00:00:00",
          "2017-11-30T00:00:00",
          "2017-12-31T00:00:00",
          "2018-01-31T00:00:00",
          "2018-02-28T00:00:00",
          "2018-03-31T00:00:00",
          "2018-04-30T00:00:00",
          "2018-05-31T00:00:00",
          "2018-06-30T00:00:00",
          "2018-07-31T00:00:00",
          "2018-08-31T00:00:00",
          "2018-09-30T00:00:00",
          "2018-10-31T00:00:00",
          "2018-11-30T00:00:00",
          "2018-12-31T00:00:00",
          "2019-01-31T00:00:00",
          "2019-02-28T00:00:00",
          "2019-03-31T00:00:00",
          "2019-04-30T00:00:00",
          "2019-05-31T00:00:00",
          "2019-06-30T00:00:00",
          "2019-07-31T00:00:00",
          "2019-08-31T00:00:00",
          "2019-09-30T00:00:00",
          "2019-10-31T00:00:00"
         ],
         "xaxis": "x",
         "y": [
          2239.9991581518925,
          1854.717253373413,
          1911.0251544619264,
          2074.8941264702744,
          2449.8988062148624,
          2305.7126881687354,
          3391.402302414101,
          2588.819730976914,
          2112.5907086276684,
          2561.253859903928,
          2050.1423755375126,
          2469.7030805772083,
          2240.642117386959,
          1909.018126185229,
          2090.773964518022,
          2480.833764630962,
          2048.189224858941,
          2327.623147476793,
          3446.2843566587285,
          2659.0321781943844,
          2174.5579862453496,
          2586.654963038683,
          2041.3388955785629,
          2438.9799309104515,
          1919.165333171855,
          1900.28736338548,
          2002.1098096255043,
          2619.3213555621774,
          2029.2729340623039,
          2248.2628594565417,
          3309.5380702026814,
          2797.8192038841125,
          2816.2029462191404,
          2102.953393731805
         ],
         "yaxis": "y"
        },
        {
         "hovertemplate": "COMUNIDAD=Canarias<br>Tiempo=%{x}<br>Consumo / Población * 100=%{y}<extra></extra>",
         "legendgroup": "Canarias",
         "line": {
          "color": "#19d3f3",
          "dash": "solid"
         },
         "marker": {
          "symbol": "circle"
         },
         "mode": "lines",
         "name": "Canarias",
         "orientation": "v",
         "showlegend": true,
         "type": "scatter",
         "x": [
          "2017-01-31T00:00:00",
          "2017-02-28T00:00:00",
          "2017-03-31T00:00:00",
          "2017-04-30T00:00:00",
          "2017-05-31T00:00:00",
          "2017-06-30T00:00:00",
          "2017-07-31T00:00:00",
          "2017-08-31T00:00:00",
          "2017-09-30T00:00:00",
          "2017-10-31T00:00:00",
          "2017-11-30T00:00:00",
          "2017-12-31T00:00:00",
          "2018-01-31T00:00:00",
          "2018-02-28T00:00:00",
          "2018-03-31T00:00:00",
          "2018-04-30T00:00:00",
          "2018-05-31T00:00:00",
          "2018-06-30T00:00:00",
          "2018-07-31T00:00:00",
          "2018-08-31T00:00:00",
          "2018-09-30T00:00:00",
          "2018-10-31T00:00:00",
          "2018-11-30T00:00:00",
          "2018-12-31T00:00:00",
          "2019-01-31T00:00:00",
          "2019-02-28T00:00:00",
          "2019-03-31T00:00:00",
          "2019-04-30T00:00:00",
          "2019-05-31T00:00:00",
          "2019-06-30T00:00:00",
          "2019-07-31T00:00:00",
          "2019-08-31T00:00:00",
          "2019-09-30T00:00:00",
          "2019-10-31T00:00:00"
         ],
         "xaxis": "x",
         "y": [
          3072.400493140574,
          2570.4288321211166,
          2494.888101774044,
          2591.1757437073106,
          3045.3754789217505,
          2585.348279344497,
          3467.60740963161,
          2794.1783227812825,
          2638.3978908231547,
          3458.246941233449,
          2823.1434533406764,
          3279.42371429344,
          3078.396473162146,
          2663.1865149211467,
          2620.4372357750326,
          3217.267593652256,
          2462.5233528459335,
          2589.830261528375,
          3476.1099504860913,
          2751.4514601550513,
          2654.0535840596704,
          3384.605803960643,
          2751.0317551705257,
          3186.165245325318,
          2494.0672586327873,
          2537.8048276460963,
          2669.4944573414277,
          3181.298873543053,
          2437.4263080195915,
          2543.747088891046,
          3366.760487770672,
          2771.855897842888,
          3295.0196179139025,
          2652.178960698694
         ],
         "yaxis": "y"
        },
        {
         "hovertemplate": "COMUNIDAD=Cantabria<br>Tiempo=%{x}<br>Consumo / Población * 100=%{y}<extra></extra>",
         "legendgroup": "Cantabria",
         "line": {
          "color": "#FF6692",
          "dash": "solid"
         },
         "marker": {
          "symbol": "circle"
         },
         "mode": "lines",
         "name": "Cantabria",
         "orientation": "v",
         "showlegend": true,
         "type": "scatter",
         "x": [
          "2017-01-31T00:00:00",
          "2017-02-28T00:00:00",
          "2017-03-31T00:00:00",
          "2017-04-30T00:00:00",
          "2017-05-31T00:00:00",
          "2017-06-30T00:00:00",
          "2017-07-31T00:00:00",
          "2017-08-31T00:00:00",
          "2017-09-30T00:00:00",
          "2017-10-31T00:00:00",
          "2017-11-30T00:00:00",
          "2017-12-31T00:00:00",
          "2018-01-31T00:00:00",
          "2018-02-28T00:00:00",
          "2018-03-31T00:00:00",
          "2018-04-30T00:00:00",
          "2018-05-31T00:00:00",
          "2018-06-30T00:00:00",
          "2018-07-31T00:00:00",
          "2018-08-31T00:00:00",
          "2018-09-30T00:00:00",
          "2018-10-31T00:00:00",
          "2018-11-30T00:00:00",
          "2018-12-31T00:00:00",
          "2019-01-31T00:00:00",
          "2019-02-28T00:00:00",
          "2019-03-31T00:00:00",
          "2019-04-30T00:00:00",
          "2019-05-31T00:00:00",
          "2019-06-30T00:00:00",
          "2019-07-31T00:00:00",
          "2019-08-31T00:00:00",
          "2019-09-30T00:00:00",
          "2019-10-31T00:00:00"
         ],
         "xaxis": "x",
         "y": [
          2542.3637977235717,
          2106.256300674657,
          2127.407611645801,
          2353.7597256567783,
          2694.1745146864955,
          2358.0937281899724,
          3621.9405647127755,
          2972.484684513911,
          2225.742079459585,
          2793.374059745474,
          2336.5822555769046,
          2889.013346659888,
          2513.393849669699,
          2097.897554241515,
          2238.8350116936585,
          2804.756397904965,
          2205.296529473708,
          2400.4108722590563,
          3689.0400169588206,
          3072.0370750169327,
          2363.721909797683,
          2855.4898152281257,
          2340.5655353317397,
          2821.3188241194425,
          2169.4746660517176,
          2098.70791873036,
          2217.3770130688135,
          2879.868107207638,
          2248.570759863564,
          2331.334175446326,
          3532.6789174603073,
          3239.22433821277,
          3099.1020138432364,
          2245.722605226837
         ],
         "yaxis": "y"
        },
        {
         "hovertemplate": "COMUNIDAD=Castilla_La_Mancha<br>Tiempo=%{x}<br>Consumo / Población * 100=%{y}<extra></extra>",
         "legendgroup": "Castilla_La_Mancha",
         "line": {
          "color": "#B6E880",
          "dash": "solid"
         },
         "marker": {
          "symbol": "circle"
         },
         "mode": "lines",
         "name": "Castilla_La_Mancha",
         "orientation": "v",
         "showlegend": true,
         "type": "scatter",
         "x": [
          "2017-01-31T00:00:00",
          "2017-02-28T00:00:00",
          "2017-03-31T00:00:00",
          "2017-04-30T00:00:00",
          "2017-05-31T00:00:00",
          "2017-06-30T00:00:00",
          "2017-07-31T00:00:00",
          "2017-08-31T00:00:00",
          "2017-09-30T00:00:00",
          "2017-10-31T00:00:00",
          "2017-11-30T00:00:00",
          "2017-12-31T00:00:00",
          "2018-01-31T00:00:00",
          "2018-02-28T00:00:00",
          "2018-03-31T00:00:00",
          "2018-04-30T00:00:00",
          "2018-05-31T00:00:00",
          "2018-06-30T00:00:00",
          "2018-07-31T00:00:00",
          "2018-08-31T00:00:00",
          "2018-09-30T00:00:00",
          "2018-10-31T00:00:00",
          "2018-11-30T00:00:00",
          "2018-12-31T00:00:00",
          "2019-01-31T00:00:00",
          "2019-02-28T00:00:00",
          "2019-03-31T00:00:00",
          "2019-04-30T00:00:00",
          "2019-05-31T00:00:00",
          "2019-06-30T00:00:00",
          "2019-07-31T00:00:00",
          "2019-08-31T00:00:00",
          "2019-09-30T00:00:00",
          "2019-10-31T00:00:00"
         ],
         "xaxis": "x",
         "y": [
          1918.0523155789451,
          1574.0797714374603,
          1582.7990345949922,
          1658.6560825881045,
          2027.1969338595181,
          1791.4391435993184,
          2341.258757781892,
          1878.8892230734357,
          1700.887383034725,
          2095.3891229001138,
          1722.1157590110454,
          2156.2861343878035,
          1891.6976308054982,
          1597.1772349315943,
          1600.3941174468016,
          2073.419422766943,
          1638.2324513384845,
          1792.743462993763,
          2393.5224222138568,
          1913.0588161576309,
          1725.8594429563345,
          2078.4228592066243,
          1692.2509148626389,
          2125.1140340446823,
          1580.1856790152606,
          1572.1246340751934,
          1626.5552572898418,
          2050.4121527127013,
          1674.854134292375,
          1733.5516461266698,
          2391.613699496719,
          1944.4822400722526,
          2174.4947888765746,
          1660.9171400138623
         ],
         "yaxis": "y"
        },
        {
         "hovertemplate": "COMUNIDAD=Castilla_y_Leon<br>Tiempo=%{x}<br>Consumo / Población * 100=%{y}<extra></extra>",
         "legendgroup": "Castilla_y_Leon",
         "line": {
          "color": "#FF97FF",
          "dash": "solid"
         },
         "marker": {
          "symbol": "circle"
         },
         "mode": "lines",
         "name": "Castilla_y_Leon",
         "orientation": "v",
         "showlegend": true,
         "type": "scatter",
         "x": [
          "2017-01-31T00:00:00",
          "2017-02-28T00:00:00",
          "2017-03-31T00:00:00",
          "2017-04-30T00:00:00",
          "2017-05-31T00:00:00",
          "2017-06-30T00:00:00",
          "2017-07-31T00:00:00",
          "2017-08-31T00:00:00",
          "2017-09-30T00:00:00",
          "2017-10-31T00:00:00",
          "2017-11-30T00:00:00",
          "2017-12-31T00:00:00",
          "2018-01-31T00:00:00",
          "2018-02-28T00:00:00",
          "2018-03-31T00:00:00",
          "2018-04-30T00:00:00",
          "2018-05-31T00:00:00",
          "2018-06-30T00:00:00",
          "2018-07-31T00:00:00",
          "2018-08-31T00:00:00",
          "2018-09-30T00:00:00",
          "2018-10-31T00:00:00",
          "2018-11-30T00:00:00",
          "2018-12-31T00:00:00",
          "2019-01-31T00:00:00",
          "2019-02-28T00:00:00",
          "2019-03-31T00:00:00",
          "2019-04-30T00:00:00",
          "2019-05-31T00:00:00",
          "2019-06-30T00:00:00",
          "2019-07-31T00:00:00",
          "2019-08-31T00:00:00",
          "2019-09-30T00:00:00",
          "2019-10-31T00:00:00"
         ],
         "xaxis": "x",
         "y": [
          2008.1494731018745,
          1651.5748818637637,
          1679.744958469388,
          1800.8385683739104,
          2135.1792665597877,
          1892.1853029164388,
          2565.376549848895,
          2137.6436072043834,
          1754.9831993638393,
          2228.159276049437,
          1893.8086842243035,
          2413.441580739723,
          1997.9739859968024,
          1687.8211695011216,
          1746.4747107295311,
          2178.1937634797796,
          1760.9124991075741,
          1869.7614608220945,
          2627.013769091685,
          2249.7974401078545,
          1829.9746302036722,
          2252.4377750954272,
          1903.4557215698057,
          2411.7673184556966,
          1705.5182892778141,
          1692.7671378109546,
          1764.6715131349738,
          2252.0553870979033,
          1806.7123474921111,
          1889.8109143888764,
          2621.6337410212254,
          2343.312157122925,
          2364.9083077312894,
          1794.5121331184039
         ],
         "yaxis": "y"
        },
        {
         "hovertemplate": "COMUNIDAD=Catalunya<br>Tiempo=%{x}<br>Consumo / Población * 100=%{y}<extra></extra>",
         "legendgroup": "Catalunya",
         "line": {
          "color": "#FECB52",
          "dash": "solid"
         },
         "marker": {
          "symbol": "circle"
         },
         "mode": "lines",
         "name": "Catalunya",
         "orientation": "v",
         "showlegend": true,
         "type": "scatter",
         "x": [
          "2017-01-31T00:00:00",
          "2017-02-28T00:00:00",
          "2017-03-31T00:00:00",
          "2017-04-30T00:00:00",
          "2017-05-31T00:00:00",
          "2017-06-30T00:00:00",
          "2017-07-31T00:00:00",
          "2017-08-31T00:00:00",
          "2017-09-30T00:00:00",
          "2017-10-31T00:00:00",
          "2017-11-30T00:00:00",
          "2017-12-31T00:00:00",
          "2018-01-31T00:00:00",
          "2018-02-28T00:00:00",
          "2018-03-31T00:00:00",
          "2018-04-30T00:00:00",
          "2018-05-31T00:00:00",
          "2018-06-30T00:00:00",
          "2018-07-31T00:00:00",
          "2018-08-31T00:00:00",
          "2018-09-30T00:00:00",
          "2018-10-31T00:00:00",
          "2018-11-30T00:00:00",
          "2018-12-31T00:00:00",
          "2019-01-31T00:00:00",
          "2019-02-28T00:00:00",
          "2019-03-31T00:00:00",
          "2019-04-30T00:00:00",
          "2019-05-31T00:00:00",
          "2019-06-30T00:00:00",
          "2019-07-31T00:00:00",
          "2019-08-31T00:00:00",
          "2019-09-30T00:00:00",
          "2019-10-31T00:00:00"
         ],
         "xaxis": "x",
         "y": [
          2138.308034987552,
          1791.590334880483,
          1814.4694891229683,
          1910.3530651166052,
          2332.146567617323,
          2097.9561477693383,
          2847.19587391458,
          2171.479638901352,
          1895.14983793971,
          2434.84660189549,
          2010.7007436641638,
          2469.4435952105855,
          2141.8929969677893,
          1852.53178755708,
          1946.611903977137,
          2350.793184005663,
          1910.9960243761072,
          2123.1511835754036,
          2903.0305661859475,
          2223.2075646721446,
          1979.4908333020837,
          2474.317259128705,
          2014.1877733940435,
          2496.806540470378,
          1828.4400297737507,
          1845.4420246359157,
          1914.041518304955,
          2454.6895547057497,
          1906.1200484624737,
          2107.4898598958175,
          2819.1127364867993,
          2287.5440525004046,
          2536.4541484625124,
          1966.6358618915924
         ],
         "yaxis": "y"
        },
        {
         "hovertemplate": "COMUNIDAD=Ceuta_y_Melilla<br>Tiempo=%{x}<br>Consumo / Población * 100=%{y}<extra></extra>",
         "legendgroup": "Ceuta_y_Melilla",
         "line": {
          "color": "#636efa",
          "dash": "solid"
         },
         "marker": {
          "symbol": "circle"
         },
         "mode": "lines",
         "name": "Ceuta_y_Melilla",
         "orientation": "v",
         "showlegend": true,
         "type": "scatter",
         "x": [
          "2017-01-31T00:00:00",
          "2017-02-28T00:00:00",
          "2017-03-31T00:00:00",
          "2017-04-30T00:00:00",
          "2017-05-31T00:00:00",
          "2017-06-30T00:00:00",
          "2017-07-31T00:00:00",
          "2017-08-31T00:00:00",
          "2017-09-30T00:00:00",
          "2017-10-31T00:00:00",
          "2017-11-30T00:00:00",
          "2017-12-31T00:00:00",
          "2018-01-31T00:00:00",
          "2018-02-28T00:00:00",
          "2018-03-31T00:00:00",
          "2018-04-30T00:00:00",
          "2018-05-31T00:00:00",
          "2018-06-30T00:00:00",
          "2018-07-31T00:00:00",
          "2018-08-31T00:00:00",
          "2018-09-30T00:00:00",
          "2018-10-31T00:00:00",
          "2018-11-30T00:00:00",
          "2018-12-31T00:00:00",
          "2019-01-31T00:00:00",
          "2019-02-28T00:00:00",
          "2019-03-31T00:00:00",
          "2019-04-30T00:00:00",
          "2019-05-31T00:00:00",
          "2019-06-30T00:00:00",
          "2019-07-31T00:00:00",
          "2019-08-31T00:00:00",
          "2019-09-30T00:00:00",
          "2019-10-31T00:00:00"
         ],
         "xaxis": "x",
         "y": [
          416.3573553738332,
          315.48582818463984,
          388.96650085632956,
          638.6990805417381,
          875.7825332156489,
          755.7210411564249,
          846.2172446647455,
          675.413113240082,
          638.9153548945225,
          871.6440942488558,
          790.6931885269379,
          1069.681258366018,
          1255.859101721002,
          1145.5505806632152,
          952.2526934378061,
          1340.440044774031,
          1167.663588452031,
          1125.4547362529731,
          1372.5863998880648,
          1095.5645725479221,
          1245.9365234830466,
          1763.4496991744786,
          1525.5818292057274,
          1751.8189450118928,
          1465.9648262331839,
          1653.8268404334829,
          1540.6331745142004,
          1837.928578101644,
          1608.0729166666667,
          1569.565115844544,
          2143.766349028401,
          1752.2655082212257,
          2033.0133594917786,
          1568.7885369955156
         ],
         "yaxis": "y"
        },
        {
         "hovertemplate": "COMUNIDAD=Extremadura<br>Tiempo=%{x}<br>Consumo / Población * 100=%{y}<extra></extra>",
         "legendgroup": "Extremadura",
         "line": {
          "color": "#EF553B",
          "dash": "solid"
         },
         "marker": {
          "symbol": "circle"
         },
         "mode": "lines",
         "name": "Extremadura",
         "orientation": "v",
         "showlegend": true,
         "type": "scatter",
         "x": [
          "2017-01-31T00:00:00",
          "2017-02-28T00:00:00",
          "2017-03-31T00:00:00",
          "2017-04-30T00:00:00",
          "2017-05-31T00:00:00",
          "2017-06-30T00:00:00",
          "2017-07-31T00:00:00",
          "2017-08-31T00:00:00",
          "2017-09-30T00:00:00",
          "2017-10-31T00:00:00",
          "2017-11-30T00:00:00",
          "2017-12-31T00:00:00",
          "2018-01-31T00:00:00",
          "2018-02-28T00:00:00",
          "2018-03-31T00:00:00",
          "2018-04-30T00:00:00",
          "2018-05-31T00:00:00",
          "2018-06-30T00:00:00",
          "2018-07-31T00:00:00",
          "2018-08-31T00:00:00",
          "2018-09-30T00:00:00",
          "2018-10-31T00:00:00",
          "2018-11-30T00:00:00",
          "2018-12-31T00:00:00",
          "2019-01-31T00:00:00",
          "2019-02-28T00:00:00",
          "2019-03-31T00:00:00",
          "2019-04-30T00:00:00",
          "2019-05-31T00:00:00",
          "2019-06-30T00:00:00",
          "2019-07-31T00:00:00",
          "2019-08-31T00:00:00",
          "2019-09-30T00:00:00",
          "2019-10-31T00:00:00"
         ],
         "xaxis": "x",
         "y": [
          1859.5581154159568,
          1576.475109267353,
          1580.2818727313133,
          1877.4927772427588,
          2153.145603378028,
          1790.3159493295798,
          2354.4031039336246,
          2030.4615156678274,
          1762.7194607007925,
          2123.4878509519226,
          1698.634158085784,
          2301.38343581006,
          1838.3959554947835,
          1572.596873971793,
          1632.638090790716,
          2048.2932117148225,
          1669.939218707328,
          1714.838707272038,
          2308.410300289972,
          1975.1356883404496,
          1695.1567907552035,
          2127.726466473352,
          1724.5090938917642,
          2263.303888753737,
          1538.2454037144917,
          1543.8386827883976,
          1608.9846493898156,
          2119.487501287803,
          1675.2367215817028,
          1718.405746878834,
          2261.172977681206,
          2010.419495930543,
          2204.4721881409746,
          1691.0097311067616
         ],
         "yaxis": "y"
        },
        {
         "hovertemplate": "COMUNIDAD=Galicia<br>Tiempo=%{x}<br>Consumo / Población * 100=%{y}<extra></extra>",
         "legendgroup": "Galicia",
         "line": {
          "color": "#00cc96",
          "dash": "solid"
         },
         "marker": {
          "symbol": "circle"
         },
         "mode": "lines",
         "name": "Galicia",
         "orientation": "v",
         "showlegend": true,
         "type": "scatter",
         "x": [
          "2017-01-31T00:00:00",
          "2017-02-28T00:00:00",
          "2017-03-31T00:00:00",
          "2017-04-30T00:00:00",
          "2017-05-31T00:00:00",
          "2017-06-30T00:00:00",
          "2017-07-31T00:00:00",
          "2017-08-31T00:00:00",
          "2017-09-30T00:00:00",
          "2017-10-31T00:00:00",
          "2017-11-30T00:00:00",
          "2017-12-31T00:00:00",
          "2018-01-31T00:00:00",
          "2018-02-28T00:00:00",
          "2018-03-31T00:00:00",
          "2018-04-30T00:00:00",
          "2018-05-31T00:00:00",
          "2018-06-30T00:00:00",
          "2018-07-31T00:00:00",
          "2018-08-31T00:00:00",
          "2018-09-30T00:00:00",
          "2018-10-31T00:00:00",
          "2018-11-30T00:00:00",
          "2018-12-31T00:00:00",
          "2019-01-31T00:00:00",
          "2019-02-28T00:00:00",
          "2019-03-31T00:00:00",
          "2019-04-30T00:00:00",
          "2019-05-31T00:00:00",
          "2019-06-30T00:00:00",
          "2019-07-31T00:00:00",
          "2019-08-31T00:00:00",
          "2019-09-30T00:00:00",
          "2019-10-31T00:00:00"
         ],
         "xaxis": "x",
         "y": [
          2078.109867339355,
          1703.776004407129,
          1726.97324817905,
          1841.0221172460317,
          2198.197123772172,
          1910.4569258132015,
          2543.767600732405,
          2034.4720509507856,
          1793.7256008202812,
          2279.6802763612677,
          1943.3431339282122,
          2481.3212083125486,
          2030.805298653499,
          1729.4431779780684,
          1799.8517993754401,
          2237.4637409997913,
          1808.6083687456578,
          1927.6807601611258,
          2597.311809450418,
          2099.28849635217,
          1877.341035028128,
          2300.595208352534,
          1951.9724859100218,
          2457.603110288432,
          1753.4801828042907,
          1749.2290236077138,
          1779.863967350979,
          2329.2818408156477,
          1828.476320976596,
          1926.5634104698688,
          2543.1096659046734,
          2174.1356451697147,
          2411.7882614514765,
          1847.010871276485
         ],
         "yaxis": "y"
        },
        {
         "hovertemplate": "COMUNIDAD=La_Rioja<br>Tiempo=%{x}<br>Consumo / Población * 100=%{y}<extra></extra>",
         "legendgroup": "La_Rioja",
         "line": {
          "color": "#ab63fa",
          "dash": "solid"
         },
         "marker": {
          "symbol": "circle"
         },
         "mode": "lines",
         "name": "La_Rioja",
         "orientation": "v",
         "showlegend": true,
         "type": "scatter",
         "x": [
          "2017-01-31T00:00:00",
          "2017-02-28T00:00:00",
          "2017-03-31T00:00:00",
          "2017-04-30T00:00:00",
          "2017-05-31T00:00:00",
          "2017-06-30T00:00:00",
          "2017-07-31T00:00:00",
          "2017-08-31T00:00:00",
          "2017-09-30T00:00:00",
          "2017-10-31T00:00:00",
          "2017-11-30T00:00:00",
          "2017-12-31T00:00:00",
          "2018-01-31T00:00:00",
          "2018-02-28T00:00:00",
          "2018-03-31T00:00:00",
          "2018-04-30T00:00:00",
          "2018-05-31T00:00:00",
          "2018-06-30T00:00:00",
          "2018-07-31T00:00:00",
          "2018-08-31T00:00:00",
          "2018-09-30T00:00:00",
          "2018-10-31T00:00:00",
          "2018-11-30T00:00:00",
          "2018-12-31T00:00:00",
          "2019-01-31T00:00:00",
          "2019-02-28T00:00:00",
          "2019-03-31T00:00:00",
          "2019-04-30T00:00:00",
          "2019-05-31T00:00:00",
          "2019-06-30T00:00:00",
          "2019-07-31T00:00:00",
          "2019-08-31T00:00:00",
          "2019-09-30T00:00:00",
          "2019-10-31T00:00:00"
         ],
         "xaxis": "x",
         "y": [
          2106.7692727209314,
          1690.9452376649197,
          1740.954591430682,
          1904.0874370998888,
          2282.0366477371813,
          1935.563651583323,
          2602.702762690207,
          2075.6957457805006,
          1844.3913869256548,
          2326.3259359314607,
          1969.1103776067678,
          2493.9866383834155,
          2105.3393521818325,
          1728.049417913994,
          1806.5003563791875,
          2288.1159420289855,
          1826.9549378316306,
          1925.885800269264,
          2655.335392413083,
          2139.342678387582,
          1905.1968005068504,
          2364.5553179694302,
          1951.9885958660016,
          2522.3505187297064,
          1786.7095120550005,
          1756.876621695844,
          1825.816450861432,
          2343.051408152829,
          1874.7908762050267,
          1953.4624587276433,
          2774.525091698811,
          2244.430204736141,
          2478.9013819531688,
          1925.7160714398449
         ],
         "yaxis": "y"
        },
        {
         "hovertemplate": "COMUNIDAD=Madrid<br>Tiempo=%{x}<br>Consumo / Población * 100=%{y}<extra></extra>",
         "legendgroup": "Madrid",
         "line": {
          "color": "#FFA15A",
          "dash": "solid"
         },
         "marker": {
          "symbol": "circle"
         },
         "mode": "lines",
         "name": "Madrid",
         "orientation": "v",
         "showlegend": true,
         "type": "scatter",
         "x": [
          "2017-01-31T00:00:00",
          "2017-02-28T00:00:00",
          "2017-03-31T00:00:00",
          "2017-04-30T00:00:00",
          "2017-05-31T00:00:00",
          "2017-06-30T00:00:00",
          "2017-07-31T00:00:00",
          "2017-08-31T00:00:00",
          "2017-09-30T00:00:00",
          "2017-10-31T00:00:00",
          "2017-11-30T00:00:00",
          "2017-12-31T00:00:00",
          "2018-01-31T00:00:00",
          "2018-02-28T00:00:00",
          "2018-03-31T00:00:00",
          "2018-04-30T00:00:00",
          "2018-05-31T00:00:00",
          "2018-06-30T00:00:00",
          "2018-07-31T00:00:00",
          "2018-08-31T00:00:00",
          "2018-09-30T00:00:00",
          "2018-10-31T00:00:00",
          "2018-11-30T00:00:00",
          "2018-12-31T00:00:00",
          "2019-01-31T00:00:00",
          "2019-02-28T00:00:00",
          "2019-03-31T00:00:00",
          "2019-04-30T00:00:00",
          "2019-05-31T00:00:00",
          "2019-06-30T00:00:00",
          "2019-07-31T00:00:00",
          "2019-08-31T00:00:00",
          "2019-09-30T00:00:00",
          "2019-10-31T00:00:00"
         ],
         "xaxis": "x",
         "y": [
          2368.821905143607,
          1926.0311372784295,
          1897.0384117000533,
          1849.4769780599408,
          2398.4454719583773,
          2015.6775957157504,
          2215.0215823004237,
          1624.020928254065,
          1925.6620067912631,
          2538.4278360654935,
          2129.2450006024114,
          2569.6642357124065,
          2305.006674440973,
          1933.5915546164767,
          1838.1010626354594,
          2448.460865246526,
          1981.6805179749288,
          2028.5806844216984,
          2308.0840166255225,
          1683.1859270768866,
          1993.767025297203,
          2534.0317439179435,
          2121.8851278617967,
          2568.349361568932,
          1923.9105476878601,
          1928.1968018100088,
          1963.4088874228357,
          2377.872297510848,
          1943.5308793086526,
          2046.8001742055174,
          2426.6690518375467,
          1636.9713392304284,
          2399.556442257504,
          2003.901465229281
         ],
         "yaxis": "y"
        },
        {
         "hovertemplate": "COMUNIDAD=Murcia<br>Tiempo=%{x}<br>Consumo / Población * 100=%{y}<extra></extra>",
         "legendgroup": "Murcia",
         "line": {
          "color": "#19d3f3",
          "dash": "solid"
         },
         "marker": {
          "symbol": "circle"
         },
         "mode": "lines",
         "name": "Murcia",
         "orientation": "v",
         "showlegend": true,
         "type": "scatter",
         "x": [
          "2017-01-31T00:00:00",
          "2017-02-28T00:00:00",
          "2017-03-31T00:00:00",
          "2017-04-30T00:00:00",
          "2017-05-31T00:00:00",
          "2017-06-30T00:00:00",
          "2017-07-31T00:00:00",
          "2017-08-31T00:00:00",
          "2017-09-30T00:00:00",
          "2017-10-31T00:00:00",
          "2017-11-30T00:00:00",
          "2017-12-31T00:00:00",
          "2018-01-31T00:00:00",
          "2018-02-28T00:00:00",
          "2018-03-31T00:00:00",
          "2018-04-30T00:00:00",
          "2018-05-31T00:00:00",
          "2018-06-30T00:00:00",
          "2018-07-31T00:00:00",
          "2018-08-31T00:00:00",
          "2018-09-30T00:00:00",
          "2018-10-31T00:00:00",
          "2018-11-30T00:00:00",
          "2018-12-31T00:00:00",
          "2019-01-31T00:00:00",
          "2019-02-28T00:00:00",
          "2019-03-31T00:00:00",
          "2019-04-30T00:00:00",
          "2019-05-31T00:00:00",
          "2019-06-30T00:00:00",
          "2019-07-31T00:00:00",
          "2019-08-31T00:00:00",
          "2019-09-30T00:00:00",
          "2019-10-31T00:00:00"
         ],
         "xaxis": "x",
         "y": [
          1817.1543652097264,
          1495.416157407502,
          1514.8213971146854,
          1657.236445204394,
          1972.7227528493006,
          1817.8379117347595,
          2693.4705323433136,
          2067.776528576666,
          1684.534776874771,
          2038.7234207524723,
          1646.1085798351735,
          2018.6659212268744,
          1811.5723340202867,
          1537.9784634385046,
          1587.31127101695,
          2029.8834839693234,
          1636.5054253981546,
          1812.3792279925249,
          2656.567528503377,
          2073.313047130589,
          1701.5330985472526,
          2044.6733837940792,
          1631.0580456392217,
          2006.5545762656839,
          1525.4053489595674,
          1504.7038017321129,
          1549.406318235917,
          2005.2366359684531,
          1613.3484347659612,
          1732.1872042134069,
          2614.683867305532,
          2233.12903558342,
          2218.95604653062,
          1685.5206982002785
         ],
         "yaxis": "y"
        },
        {
         "hovertemplate": "COMUNIDAD=Navarra<br>Tiempo=%{x}<br>Consumo / Población * 100=%{y}<extra></extra>",
         "legendgroup": "Navarra",
         "line": {
          "color": "#FF6692",
          "dash": "solid"
         },
         "marker": {
          "symbol": "circle"
         },
         "mode": "lines",
         "name": "Navarra",
         "orientation": "v",
         "showlegend": true,
         "type": "scatter",
         "x": [
          "2017-01-31T00:00:00",
          "2017-02-28T00:00:00",
          "2017-03-31T00:00:00",
          "2017-04-30T00:00:00",
          "2017-05-31T00:00:00",
          "2017-06-30T00:00:00",
          "2017-07-31T00:00:00",
          "2017-08-31T00:00:00",
          "2017-09-30T00:00:00",
          "2017-10-31T00:00:00",
          "2017-11-30T00:00:00",
          "2017-12-31T00:00:00",
          "2018-01-31T00:00:00",
          "2018-02-28T00:00:00",
          "2018-03-31T00:00:00",
          "2018-04-30T00:00:00",
          "2018-05-31T00:00:00",
          "2018-06-30T00:00:00",
          "2018-07-31T00:00:00",
          "2018-08-31T00:00:00",
          "2018-09-30T00:00:00",
          "2018-10-31T00:00:00",
          "2018-11-30T00:00:00",
          "2018-12-31T00:00:00",
          "2019-01-31T00:00:00",
          "2019-02-28T00:00:00",
          "2019-03-31T00:00:00",
          "2019-04-30T00:00:00",
          "2019-05-31T00:00:00",
          "2019-06-30T00:00:00",
          "2019-07-31T00:00:00",
          "2019-08-31T00:00:00",
          "2019-09-30T00:00:00",
          "2019-10-31T00:00:00"
         ],
         "xaxis": "x",
         "y": [
          2053.187486979855,
          1672.8018108495507,
          1688.1306025489948,
          1728.6135372197368,
          2182.407957290815,
          1827.0582711734764,
          2282.506832661209,
          1792.4829844193562,
          1726.415270337078,
          2216.171719778494,
          1862.463737924301,
          2280.163983869012,
          2011.347316208378,
          1688.4553257334521,
          1691.9963431621147,
          2151.635230420938,
          1759.1274241221581,
          1803.7074900317193,
          2291.6853266291305,
          1819.000423130735,
          1783.4234673865037,
          2243.5843188367303,
          1871.5134181859737,
          2266.1631307968137,
          1687.6893493566326,
          1670.6857389172353,
          1713.9559838218076,
          2151.913594022751,
          1751.9083969465648,
          1760.9849376503714,
          2286.8312203652017,
          1790.5991006001095,
          2228.406912722748,
          1752.8667989373507
         ],
         "yaxis": "y"
        },
        {
         "hovertemplate": "COMUNIDAD=Pais_Vasco<br>Tiempo=%{x}<br>Consumo / Población * 100=%{y}<extra></extra>",
         "legendgroup": "Pais_Vasco",
         "line": {
          "color": "#B6E880",
          "dash": "solid"
         },
         "marker": {
          "symbol": "circle"
         },
         "mode": "lines",
         "name": "Pais_Vasco",
         "orientation": "v",
         "showlegend": true,
         "type": "scatter",
         "x": [
          "2017-01-31T00:00:00",
          "2017-02-28T00:00:00",
          "2017-03-31T00:00:00",
          "2017-04-30T00:00:00",
          "2017-05-31T00:00:00",
          "2017-06-30T00:00:00",
          "2017-07-31T00:00:00",
          "2017-08-31T00:00:00",
          "2017-09-30T00:00:00",
          "2017-10-31T00:00:00",
          "2017-11-30T00:00:00",
          "2017-12-31T00:00:00",
          "2018-01-31T00:00:00",
          "2018-02-28T00:00:00",
          "2018-03-31T00:00:00",
          "2018-04-30T00:00:00",
          "2018-05-31T00:00:00",
          "2018-06-30T00:00:00",
          "2018-07-31T00:00:00",
          "2018-08-31T00:00:00",
          "2018-09-30T00:00:00",
          "2018-10-31T00:00:00",
          "2018-11-30T00:00:00",
          "2018-12-31T00:00:00",
          "2019-01-31T00:00:00",
          "2019-02-28T00:00:00",
          "2019-03-31T00:00:00",
          "2019-04-30T00:00:00",
          "2019-05-31T00:00:00",
          "2019-06-30T00:00:00",
          "2019-07-31T00:00:00",
          "2019-08-31T00:00:00",
          "2019-09-30T00:00:00",
          "2019-10-31T00:00:00"
         ],
         "xaxis": "x",
         "y": [
          2339.9873664521883,
          1883.2873475839024,
          1881.8002167574077,
          1790.5155417248898,
          2348.168636898528,
          1904.9585307894874,
          2251.2435294085476,
          1731.5776712524805,
          1848.5596752831839,
          2425.4183153628865,
          2123.155214893367,
          2601.7392548759026,
          2325.25983498614,
          1920.7635165122995,
          1865.6283877680203,
          2375.7703193323778,
          1941.2201785467432,
          1937.7732951114278,
          2351.061440015134,
          1790.373100121505,
          1942.0919035527454,
          2448.083478241889,
          2106.852022292878,
          2554.7745247120624,
          1959.4034902091519,
          1900.318691751337,
          1931.086305857116,
          2351.8282651863233,
          1949.4876291797718,
          1971.5532735205022,
          2420.4570572376906,
          1760.0675974374212,
          2394.2705238212575,
          1921.5744713231775
         ],
         "yaxis": "y"
        }
       ],
       "layout": {
        "legend": {
         "title": {
          "text": "COMUNIDAD"
         },
         "tracegroupgap": 0
        },
        "template": {
         "data": {
          "bar": [
           {
            "error_x": {
             "color": "#2a3f5f"
            },
            "error_y": {
             "color": "#2a3f5f"
            },
            "marker": {
             "line": {
              "color": "#E5ECF6",
              "width": 0.5
             },
             "pattern": {
              "fillmode": "overlay",
              "size": 10,
              "solidity": 0.2
             }
            },
            "type": "bar"
           }
          ],
          "barpolar": [
           {
            "marker": {
             "line": {
              "color": "#E5ECF6",
              "width": 0.5
             },
             "pattern": {
              "fillmode": "overlay",
              "size": 10,
              "solidity": 0.2
             }
            },
            "type": "barpolar"
           }
          ],
          "carpet": [
           {
            "aaxis": {
             "endlinecolor": "#2a3f5f",
             "gridcolor": "white",
             "linecolor": "white",
             "minorgridcolor": "white",
             "startlinecolor": "#2a3f5f"
            },
            "baxis": {
             "endlinecolor": "#2a3f5f",
             "gridcolor": "white",
             "linecolor": "white",
             "minorgridcolor": "white",
             "startlinecolor": "#2a3f5f"
            },
            "type": "carpet"
           }
          ],
          "choropleth": [
           {
            "colorbar": {
             "outlinewidth": 0,
             "ticks": ""
            },
            "type": "choropleth"
           }
          ],
          "contour": [
           {
            "colorbar": {
             "outlinewidth": 0,
             "ticks": ""
            },
            "colorscale": [
             [
              0,
              "#0d0887"
             ],
             [
              0.1111111111111111,
              "#46039f"
             ],
             [
              0.2222222222222222,
              "#7201a8"
             ],
             [
              0.3333333333333333,
              "#9c179e"
             ],
             [
              0.4444444444444444,
              "#bd3786"
             ],
             [
              0.5555555555555556,
              "#d8576b"
             ],
             [
              0.6666666666666666,
              "#ed7953"
             ],
             [
              0.7777777777777778,
              "#fb9f3a"
             ],
             [
              0.8888888888888888,
              "#fdca26"
             ],
             [
              1,
              "#f0f921"
             ]
            ],
            "type": "contour"
           }
          ],
          "contourcarpet": [
           {
            "colorbar": {
             "outlinewidth": 0,
             "ticks": ""
            },
            "type": "contourcarpet"
           }
          ],
          "heatmap": [
           {
            "colorbar": {
             "outlinewidth": 0,
             "ticks": ""
            },
            "colorscale": [
             [
              0,
              "#0d0887"
             ],
             [
              0.1111111111111111,
              "#46039f"
             ],
             [
              0.2222222222222222,
              "#7201a8"
             ],
             [
              0.3333333333333333,
              "#9c179e"
             ],
             [
              0.4444444444444444,
              "#bd3786"
             ],
             [
              0.5555555555555556,
              "#d8576b"
             ],
             [
              0.6666666666666666,
              "#ed7953"
             ],
             [
              0.7777777777777778,
              "#fb9f3a"
             ],
             [
              0.8888888888888888,
              "#fdca26"
             ],
             [
              1,
              "#f0f921"
             ]
            ],
            "type": "heatmap"
           }
          ],
          "heatmapgl": [
           {
            "colorbar": {
             "outlinewidth": 0,
             "ticks": ""
            },
            "colorscale": [
             [
              0,
              "#0d0887"
             ],
             [
              0.1111111111111111,
              "#46039f"
             ],
             [
              0.2222222222222222,
              "#7201a8"
             ],
             [
              0.3333333333333333,
              "#9c179e"
             ],
             [
              0.4444444444444444,
              "#bd3786"
             ],
             [
              0.5555555555555556,
              "#d8576b"
             ],
             [
              0.6666666666666666,
              "#ed7953"
             ],
             [
              0.7777777777777778,
              "#fb9f3a"
             ],
             [
              0.8888888888888888,
              "#fdca26"
             ],
             [
              1,
              "#f0f921"
             ]
            ],
            "type": "heatmapgl"
           }
          ],
          "histogram": [
           {
            "marker": {
             "pattern": {
              "fillmode": "overlay",
              "size": 10,
              "solidity": 0.2
             }
            },
            "type": "histogram"
           }
          ],
          "histogram2d": [
           {
            "colorbar": {
             "outlinewidth": 0,
             "ticks": ""
            },
            "colorscale": [
             [
              0,
              "#0d0887"
             ],
             [
              0.1111111111111111,
              "#46039f"
             ],
             [
              0.2222222222222222,
              "#7201a8"
             ],
             [
              0.3333333333333333,
              "#9c179e"
             ],
             [
              0.4444444444444444,
              "#bd3786"
             ],
             [
              0.5555555555555556,
              "#d8576b"
             ],
             [
              0.6666666666666666,
              "#ed7953"
             ],
             [
              0.7777777777777778,
              "#fb9f3a"
             ],
             [
              0.8888888888888888,
              "#fdca26"
             ],
             [
              1,
              "#f0f921"
             ]
            ],
            "type": "histogram2d"
           }
          ],
          "histogram2dcontour": [
           {
            "colorbar": {
             "outlinewidth": 0,
             "ticks": ""
            },
            "colorscale": [
             [
              0,
              "#0d0887"
             ],
             [
              0.1111111111111111,
              "#46039f"
             ],
             [
              0.2222222222222222,
              "#7201a8"
             ],
             [
              0.3333333333333333,
              "#9c179e"
             ],
             [
              0.4444444444444444,
              "#bd3786"
             ],
             [
              0.5555555555555556,
              "#d8576b"
             ],
             [
              0.6666666666666666,
              "#ed7953"
             ],
             [
              0.7777777777777778,
              "#fb9f3a"
             ],
             [
              0.8888888888888888,
              "#fdca26"
             ],
             [
              1,
              "#f0f921"
             ]
            ],
            "type": "histogram2dcontour"
           }
          ],
          "mesh3d": [
           {
            "colorbar": {
             "outlinewidth": 0,
             "ticks": ""
            },
            "type": "mesh3d"
           }
          ],
          "parcoords": [
           {
            "line": {
             "colorbar": {
              "outlinewidth": 0,
              "ticks": ""
             }
            },
            "type": "parcoords"
           }
          ],
          "pie": [
           {
            "automargin": true,
            "type": "pie"
           }
          ],
          "scatter": [
           {
            "fillpattern": {
             "fillmode": "overlay",
             "size": 10,
             "solidity": 0.2
            },
            "type": "scatter"
           }
          ],
          "scatter3d": [
           {
            "line": {
             "colorbar": {
              "outlinewidth": 0,
              "ticks": ""
             }
            },
            "marker": {
             "colorbar": {
              "outlinewidth": 0,
              "ticks": ""
             }
            },
            "type": "scatter3d"
           }
          ],
          "scattercarpet": [
           {
            "marker": {
             "colorbar": {
              "outlinewidth": 0,
              "ticks": ""
             }
            },
            "type": "scattercarpet"
           }
          ],
          "scattergeo": [
           {
            "marker": {
             "colorbar": {
              "outlinewidth": 0,
              "ticks": ""
             }
            },
            "type": "scattergeo"
           }
          ],
          "scattergl": [
           {
            "marker": {
             "colorbar": {
              "outlinewidth": 0,
              "ticks": ""
             }
            },
            "type": "scattergl"
           }
          ],
          "scattermapbox": [
           {
            "marker": {
             "colorbar": {
              "outlinewidth": 0,
              "ticks": ""
             }
            },
            "type": "scattermapbox"
           }
          ],
          "scatterpolar": [
           {
            "marker": {
             "colorbar": {
              "outlinewidth": 0,
              "ticks": ""
             }
            },
            "type": "scatterpolar"
           }
          ],
          "scatterpolargl": [
           {
            "marker": {
             "colorbar": {
              "outlinewidth": 0,
              "ticks": ""
             }
            },
            "type": "scatterpolargl"
           }
          ],
          "scatterternary": [
           {
            "marker": {
             "colorbar": {
              "outlinewidth": 0,
              "ticks": ""
             }
            },
            "type": "scatterternary"
           }
          ],
          "surface": [
           {
            "colorbar": {
             "outlinewidth": 0,
             "ticks": ""
            },
            "colorscale": [
             [
              0,
              "#0d0887"
             ],
             [
              0.1111111111111111,
              "#46039f"
             ],
             [
              0.2222222222222222,
              "#7201a8"
             ],
             [
              0.3333333333333333,
              "#9c179e"
             ],
             [
              0.4444444444444444,
              "#bd3786"
             ],
             [
              0.5555555555555556,
              "#d8576b"
             ],
             [
              0.6666666666666666,
              "#ed7953"
             ],
             [
              0.7777777777777778,
              "#fb9f3a"
             ],
             [
              0.8888888888888888,
              "#fdca26"
             ],
             [
              1,
              "#f0f921"
             ]
            ],
            "type": "surface"
           }
          ],
          "table": [
           {
            "cells": {
             "fill": {
              "color": "#EBF0F8"
             },
             "line": {
              "color": "white"
             }
            },
            "header": {
             "fill": {
              "color": "#C8D4E3"
             },
             "line": {
              "color": "white"
             }
            },
            "type": "table"
           }
          ]
         },
         "layout": {
          "annotationdefaults": {
           "arrowcolor": "#2a3f5f",
           "arrowhead": 0,
           "arrowwidth": 1
          },
          "autotypenumbers": "strict",
          "coloraxis": {
           "colorbar": {
            "outlinewidth": 0,
            "ticks": ""
           }
          },
          "colorscale": {
           "diverging": [
            [
             0,
             "#8e0152"
            ],
            [
             0.1,
             "#c51b7d"
            ],
            [
             0.2,
             "#de77ae"
            ],
            [
             0.3,
             "#f1b6da"
            ],
            [
             0.4,
             "#fde0ef"
            ],
            [
             0.5,
             "#f7f7f7"
            ],
            [
             0.6,
             "#e6f5d0"
            ],
            [
             0.7,
             "#b8e186"
            ],
            [
             0.8,
             "#7fbc41"
            ],
            [
             0.9,
             "#4d9221"
            ],
            [
             1,
             "#276419"
            ]
           ],
           "sequential": [
            [
             0,
             "#0d0887"
            ],
            [
             0.1111111111111111,
             "#46039f"
            ],
            [
             0.2222222222222222,
             "#7201a8"
            ],
            [
             0.3333333333333333,
             "#9c179e"
            ],
            [
             0.4444444444444444,
             "#bd3786"
            ],
            [
             0.5555555555555556,
             "#d8576b"
            ],
            [
             0.6666666666666666,
             "#ed7953"
            ],
            [
             0.7777777777777778,
             "#fb9f3a"
            ],
            [
             0.8888888888888888,
             "#fdca26"
            ],
            [
             1,
             "#f0f921"
            ]
           ],
           "sequentialminus": [
            [
             0,
             "#0d0887"
            ],
            [
             0.1111111111111111,
             "#46039f"
            ],
            [
             0.2222222222222222,
             "#7201a8"
            ],
            [
             0.3333333333333333,
             "#9c179e"
            ],
            [
             0.4444444444444444,
             "#bd3786"
            ],
            [
             0.5555555555555556,
             "#d8576b"
            ],
            [
             0.6666666666666666,
             "#ed7953"
            ],
            [
             0.7777777777777778,
             "#fb9f3a"
            ],
            [
             0.8888888888888888,
             "#fdca26"
            ],
            [
             1,
             "#f0f921"
            ]
           ]
          },
          "colorway": [
           "#636efa",
           "#EF553B",
           "#00cc96",
           "#ab63fa",
           "#FFA15A",
           "#19d3f3",
           "#FF6692",
           "#B6E880",
           "#FF97FF",
           "#FECB52"
          ],
          "font": {
           "color": "#2a3f5f"
          },
          "geo": {
           "bgcolor": "white",
           "lakecolor": "white",
           "landcolor": "#E5ECF6",
           "showlakes": true,
           "showland": true,
           "subunitcolor": "white"
          },
          "hoverlabel": {
           "align": "left"
          },
          "hovermode": "closest",
          "mapbox": {
           "style": "light"
          },
          "paper_bgcolor": "white",
          "plot_bgcolor": "#E5ECF6",
          "polar": {
           "angularaxis": {
            "gridcolor": "white",
            "linecolor": "white",
            "ticks": ""
           },
           "bgcolor": "#E5ECF6",
           "radialaxis": {
            "gridcolor": "white",
            "linecolor": "white",
            "ticks": ""
           }
          },
          "scene": {
           "xaxis": {
            "backgroundcolor": "#E5ECF6",
            "gridcolor": "white",
            "gridwidth": 2,
            "linecolor": "white",
            "showbackground": true,
            "ticks": "",
            "zerolinecolor": "white"
           },
           "yaxis": {
            "backgroundcolor": "#E5ECF6",
            "gridcolor": "white",
            "gridwidth": 2,
            "linecolor": "white",
            "showbackground": true,
            "ticks": "",
            "zerolinecolor": "white"
           },
           "zaxis": {
            "backgroundcolor": "#E5ECF6",
            "gridcolor": "white",
            "gridwidth": 2,
            "linecolor": "white",
            "showbackground": true,
            "ticks": "",
            "zerolinecolor": "white"
           }
          },
          "shapedefaults": {
           "line": {
            "color": "#2a3f5f"
           }
          },
          "ternary": {
           "aaxis": {
            "gridcolor": "white",
            "linecolor": "white",
            "ticks": ""
           },
           "baxis": {
            "gridcolor": "white",
            "linecolor": "white",
            "ticks": ""
           },
           "bgcolor": "#E5ECF6",
           "caxis": {
            "gridcolor": "white",
            "linecolor": "white",
            "ticks": ""
           }
          },
          "title": {
           "x": 0.05
          },
          "xaxis": {
           "automargin": true,
           "gridcolor": "white",
           "linecolor": "white",
           "ticks": "",
           "title": {
            "standoff": 15
           },
           "zerolinecolor": "white",
           "zerolinewidth": 2
          },
          "yaxis": {
           "automargin": true,
           "gridcolor": "white",
           "linecolor": "white",
           "ticks": "",
           "title": {
            "standoff": 15
           },
           "zerolinecolor": "white",
           "zerolinewidth": 2
          }
         }
        },
        "title": {
         "text": "Consumo normalizado de alimentos relacionados con la diabetes por CCAA"
        },
        "xaxis": {
         "anchor": "y",
         "domain": [
          0,
          1
         ],
         "title": {
          "text": "Tiempo"
         }
        },
        "yaxis": {
         "anchor": "x",
         "domain": [
          0,
          1
         ],
         "title": {
          "text": "Consumo / Población * 100"
         }
        }
       }
      }
     },
     "metadata": {},
     "output_type": "display_data"
    }
   ],
   "source": [
    "fig = px.line(\n",
    "    df_diabetes_normalizado,\n",
    "    title='Consumo normalizado de alimentos relacionados con la diabetes por CCAA',\n",
    "    labels = {\n",
    "        'index' : 'Tiempo',\n",
    "        'value' : 'Consumo / Población * 100'\n",
    "    }\n",
    ")\n",
    "fig.show()"
   ]
  },
  {
   "cell_type": "markdown",
   "metadata": {},
   "source": [
    "## 2.3. Transformación dataset de muertes por diabetes mellitus por CC.AA. <a class=\"anchor\" id=\"etl_diabetes\"></a>\n",
    "\n",
    "Los datos de diabetes mellitus que tenemos se refieren a la *** Tasa de mortalidad ajustada por diabetes mellitus, por 100 000 hab. ***\n",
    "\n",
    "Por lo tanto para obtener los datos aproximados de muertes tenemos que dividir la población de cada CC.AA entre 100.000 y multiplicar por la tasa.\n",
    "\n",
    "El objetivo de este punto es transformar el dataset para que tenga una granularidad similar a la de los datos de consumos."
   ]
  },
  {
   "cell_type": "code",
   "execution_count": null,
   "metadata": {},
   "outputs": [
    {
     "data": {
      "application/vnd.plotly.v1+json": {
       "config": {
        "plotlyServerURL": "https://plot.ly"
       },
       "data": [
        {
         "hovertemplate": "CC.AA.=Ceuta_y_Melilla<br>Tiempo=%{x}<br>Tasa de muertes (*Poblacion / 100.000)=%{y}<extra></extra>",
         "legendgroup": "Ceuta_y_Melilla",
         "line": {
          "color": "#636efa",
          "dash": "solid"
         },
         "marker": {
          "symbol": "circle"
         },
         "mode": "lines",
         "name": "Ceuta_y_Melilla",
         "orientation": "v",
         "showlegend": true,
         "type": "scatter",
         "x": [
          "2016",
          "2017",
          "2018",
          "2019",
          "2020"
         ],
         "xaxis": "x",
         "y": [
          50.36,
          35.33,
          27.14,
          20.33,
          47.11
         ],
         "yaxis": "y"
        },
        {
         "hovertemplate": "CC.AA.=La_Rioja<br>Tiempo=%{x}<br>Tasa de muertes (*Poblacion / 100.000)=%{y}<extra></extra>",
         "legendgroup": "La_Rioja",
         "line": {
          "color": "#EF553B",
          "dash": "solid"
         },
         "marker": {
          "symbol": "circle"
         },
         "mode": "lines",
         "name": "La_Rioja",
         "orientation": "v",
         "showlegend": true,
         "type": "scatter",
         "x": [
          "2016",
          "2017",
          "2018",
          "2019",
          "2020"
         ],
         "xaxis": "x",
         "y": [
          15.88,
          15.51,
          19.18,
          15.2,
          15.82
         ],
         "yaxis": "y"
        },
        {
         "hovertemplate": "CC.AA.=Pais_Vasco<br>Tiempo=%{x}<br>Tasa de muertes (*Poblacion / 100.000)=%{y}<extra></extra>",
         "legendgroup": "Pais_Vasco",
         "line": {
          "color": "#00cc96",
          "dash": "solid"
         },
         "marker": {
          "symbol": "circle"
         },
         "mode": "lines",
         "name": "Pais_Vasco",
         "orientation": "v",
         "showlegend": true,
         "type": "scatter",
         "x": [
          "2016",
          "2017",
          "2018",
          "2019",
          "2020"
         ],
         "xaxis": "x",
         "y": [
          15.19,
          13.03,
          15.14,
          15.07,
          16.65
         ],
         "yaxis": "y"
        },
        {
         "hovertemplate": "CC.AA.=Navarra<br>Tiempo=%{x}<br>Tasa de muertes (*Poblacion / 100.000)=%{y}<extra></extra>",
         "legendgroup": "Navarra",
         "line": {
          "color": "#ab63fa",
          "dash": "solid"
         },
         "marker": {
          "symbol": "circle"
         },
         "mode": "lines",
         "name": "Navarra",
         "orientation": "v",
         "showlegend": true,
         "type": "scatter",
         "x": [
          "2016",
          "2017",
          "2018",
          "2019",
          "2020"
         ],
         "xaxis": "x",
         "y": [
          20.41,
          20.21,
          16.13,
          15.77,
          16.34
         ],
         "yaxis": "y"
        },
        {
         "hovertemplate": "CC.AA.=Murcia<br>Tiempo=%{x}<br>Tasa de muertes (*Poblacion / 100.000)=%{y}<extra></extra>",
         "legendgroup": "Murcia",
         "line": {
          "color": "#FFA15A",
          "dash": "solid"
         },
         "marker": {
          "symbol": "circle"
         },
         "mode": "lines",
         "name": "Murcia",
         "orientation": "v",
         "showlegend": true,
         "type": "scatter",
         "x": [
          "2016",
          "2017",
          "2018",
          "2019",
          "2020"
         ],
         "xaxis": "x",
         "y": [
          20.92,
          25.17,
          21.24,
          22.4,
          30.91
         ],
         "yaxis": "y"
        },
        {
         "hovertemplate": "CC.AA.=Madrid<br>Tiempo=%{x}<br>Tasa de muertes (*Poblacion / 100.000)=%{y}<extra></extra>",
         "legendgroup": "Madrid",
         "line": {
          "color": "#19d3f3",
          "dash": "solid"
         },
         "marker": {
          "symbol": "circle"
         },
         "mode": "lines",
         "name": "Madrid",
         "orientation": "v",
         "showlegend": true,
         "type": "scatter",
         "x": [
          "2016",
          "2017",
          "2018",
          "2019",
          "2020"
         ],
         "xaxis": "x",
         "y": [
          10.9,
          10.49,
          10.23,
          8.28,
          10.03
         ],
         "yaxis": "y"
        },
        {
         "hovertemplate": "CC.AA.=Galicia<br>Tiempo=%{x}<br>Tasa de muertes (*Poblacion / 100.000)=%{y}<extra></extra>",
         "legendgroup": "Galicia",
         "line": {
          "color": "#FF6692",
          "dash": "solid"
         },
         "marker": {
          "symbol": "circle"
         },
         "mode": "lines",
         "name": "Galicia",
         "orientation": "v",
         "showlegend": true,
         "type": "scatter",
         "x": [
          "2016",
          "2017",
          "2018",
          "2019",
          "2020"
         ],
         "xaxis": "x",
         "y": [
          16.32,
          14.4,
          12.66,
          11.08,
          12.88
         ],
         "yaxis": "y"
        },
        {
         "hovertemplate": "CC.AA.=Extremadura<br>Tiempo=%{x}<br>Tasa de muertes (*Poblacion / 100.000)=%{y}<extra></extra>",
         "legendgroup": "Extremadura",
         "line": {
          "color": "#B6E880",
          "dash": "solid"
         },
         "marker": {
          "symbol": "circle"
         },
         "mode": "lines",
         "name": "Extremadura",
         "orientation": "v",
         "showlegend": true,
         "type": "scatter",
         "x": [
          "2016",
          "2017",
          "2018",
          "2019",
          "2020"
         ],
         "xaxis": "x",
         "y": [
          19.58,
          17.68,
          17.88,
          16.88,
          22.17
         ],
         "yaxis": "y"
        },
        {
         "hovertemplate": "CC.AA.=C_Valenciana<br>Tiempo=%{x}<br>Tasa de muertes (*Poblacion / 100.000)=%{y}<extra></extra>",
         "legendgroup": "C_Valenciana",
         "line": {
          "color": "#FF97FF",
          "dash": "solid"
         },
         "marker": {
          "symbol": "circle"
         },
         "mode": "lines",
         "name": "C_Valenciana",
         "orientation": "v",
         "showlegend": true,
         "type": "scatter",
         "x": [
          "2016",
          "2017",
          "2018",
          "2019",
          "2020"
         ],
         "xaxis": "x",
         "y": [
          19.39,
          20.06,
          25.27,
          25.5,
          28.49
         ],
         "yaxis": "y"
        },
        {
         "hovertemplate": "CC.AA.=Catalunya<br>Tiempo=%{x}<br>Tasa de muertes (*Poblacion / 100.000)=%{y}<extra></extra>",
         "legendgroup": "Catalunya",
         "line": {
          "color": "#FECB52",
          "dash": "solid"
         },
         "marker": {
          "symbol": "circle"
         },
         "mode": "lines",
         "name": "Catalunya",
         "orientation": "v",
         "showlegend": true,
         "type": "scatter",
         "x": [
          "2016",
          "2017",
          "2018",
          "2019",
          "2020"
         ],
         "xaxis": "x",
         "y": [
          19.32,
          20.81,
          19.91,
          18.47,
          21.28
         ],
         "yaxis": "y"
        },
        {
         "hovertemplate": "CC.AA.=Castilla_La_Mancha<br>Tiempo=%{x}<br>Tasa de muertes (*Poblacion / 100.000)=%{y}<extra></extra>",
         "legendgroup": "Castilla_La_Mancha",
         "line": {
          "color": "#636efa",
          "dash": "solid"
         },
         "marker": {
          "symbol": "circle"
         },
         "mode": "lines",
         "name": "Castilla_La_Mancha",
         "orientation": "v",
         "showlegend": true,
         "type": "scatter",
         "x": [
          "2016",
          "2017",
          "2018",
          "2019",
          "2020"
         ],
         "xaxis": "x",
         "y": [
          22.59,
          23.78,
          18.72,
          17.36,
          21.38
         ],
         "yaxis": "y"
        },
        {
         "hovertemplate": "CC.AA.=Castilla_y_Leon<br>Tiempo=%{x}<br>Tasa de muertes (*Poblacion / 100.000)=%{y}<extra></extra>",
         "legendgroup": "Castilla_y_Leon",
         "line": {
          "color": "#EF553B",
          "dash": "solid"
         },
         "marker": {
          "symbol": "circle"
         },
         "mode": "lines",
         "name": "Castilla_y_Leon",
         "orientation": "v",
         "showlegend": true,
         "type": "scatter",
         "x": [
          "2016",
          "2017",
          "2018",
          "2019",
          "2020"
         ],
         "xaxis": "x",
         "y": [
          20.69,
          18.9,
          19.46,
          19.52,
          25.2
         ],
         "yaxis": "y"
        },
        {
         "hovertemplate": "CC.AA.=Cantabria<br>Tiempo=%{x}<br>Tasa de muertes (*Poblacion / 100.000)=%{y}<extra></extra>",
         "legendgroup": "Cantabria",
         "line": {
          "color": "#00cc96",
          "dash": "solid"
         },
         "marker": {
          "symbol": "circle"
         },
         "mode": "lines",
         "name": "Cantabria",
         "orientation": "v",
         "showlegend": true,
         "type": "scatter",
         "x": [
          "2016",
          "2017",
          "2018",
          "2019",
          "2020"
         ],
         "xaxis": "x",
         "y": [
          5.65,
          9.64,
          13.06,
          14.83,
          18.95
         ],
         "yaxis": "y"
        },
        {
         "hovertemplate": "CC.AA.=Canarias<br>Tiempo=%{x}<br>Tasa de muertes (*Poblacion / 100.000)=%{y}<extra></extra>",
         "legendgroup": "Canarias",
         "line": {
          "color": "#ab63fa",
          "dash": "solid"
         },
         "marker": {
          "symbol": "circle"
         },
         "mode": "lines",
         "name": "Canarias",
         "orientation": "v",
         "showlegend": true,
         "type": "scatter",
         "x": [
          "2016",
          "2017",
          "2018",
          "2019",
          "2020"
         ],
         "xaxis": "x",
         "y": [
          28.82,
          24.13,
          23.11,
          19.31,
          20
         ],
         "yaxis": "y"
        },
        {
         "hovertemplate": "CC.AA.=Baleares<br>Tiempo=%{x}<br>Tasa de muertes (*Poblacion / 100.000)=%{y}<extra></extra>",
         "legendgroup": "Baleares",
         "line": {
          "color": "#FFA15A",
          "dash": "solid"
         },
         "marker": {
          "symbol": "circle"
         },
         "mode": "lines",
         "name": "Baleares",
         "orientation": "v",
         "showlegend": true,
         "type": "scatter",
         "x": [
          "2016",
          "2017",
          "2018",
          "2019",
          "2020"
         ],
         "xaxis": "x",
         "y": [
          25.55,
          28.97,
          24.07,
          24.66,
          22.35
         ],
         "yaxis": "y"
        },
        {
         "hovertemplate": "CC.AA.=Asturias<br>Tiempo=%{x}<br>Tasa de muertes (*Poblacion / 100.000)=%{y}<extra></extra>",
         "legendgroup": "Asturias",
         "line": {
          "color": "#19d3f3",
          "dash": "solid"
         },
         "marker": {
          "symbol": "circle"
         },
         "mode": "lines",
         "name": "Asturias",
         "orientation": "v",
         "showlegend": true,
         "type": "scatter",
         "x": [
          "2016",
          "2017",
          "2018",
          "2019",
          "2020"
         ],
         "xaxis": "x",
         "y": [
          18.63,
          16.32,
          19.93,
          18.04,
          21.08
         ],
         "yaxis": "y"
        },
        {
         "hovertemplate": "CC.AA.=Aragon<br>Tiempo=%{x}<br>Tasa de muertes (*Poblacion / 100.000)=%{y}<extra></extra>",
         "legendgroup": "Aragon",
         "line": {
          "color": "#FF6692",
          "dash": "solid"
         },
         "marker": {
          "symbol": "circle"
         },
         "mode": "lines",
         "name": "Aragon",
         "orientation": "v",
         "showlegend": true,
         "type": "scatter",
         "x": [
          "2016",
          "2017",
          "2018",
          "2019",
          "2020"
         ],
         "xaxis": "x",
         "y": [
          14.16,
          23.98,
          20.84,
          21.21,
          20.91
         ],
         "yaxis": "y"
        },
        {
         "hovertemplate": "CC.AA.=Andalucia<br>Tiempo=%{x}<br>Tasa de muertes (*Poblacion / 100.000)=%{y}<extra></extra>",
         "legendgroup": "Andalucia",
         "line": {
          "color": "#B6E880",
          "dash": "solid"
         },
         "marker": {
          "symbol": "circle"
         },
         "mode": "lines",
         "name": "Andalucia",
         "orientation": "v",
         "showlegend": true,
         "type": "scatter",
         "x": [
          "2016",
          "2017",
          "2018",
          "2019",
          "2020"
         ],
         "xaxis": "x",
         "y": [
          19.88,
          21.62,
          20.95,
          20.82,
          23.66
         ],
         "yaxis": "y"
        }
       ],
       "layout": {
        "legend": {
         "title": {
          "text": "CC.AA."
         },
         "tracegroupgap": 0
        },
        "template": {
         "data": {
          "bar": [
           {
            "error_x": {
             "color": "#2a3f5f"
            },
            "error_y": {
             "color": "#2a3f5f"
            },
            "marker": {
             "line": {
              "color": "#E5ECF6",
              "width": 0.5
             },
             "pattern": {
              "fillmode": "overlay",
              "size": 10,
              "solidity": 0.2
             }
            },
            "type": "bar"
           }
          ],
          "barpolar": [
           {
            "marker": {
             "line": {
              "color": "#E5ECF6",
              "width": 0.5
             },
             "pattern": {
              "fillmode": "overlay",
              "size": 10,
              "solidity": 0.2
             }
            },
            "type": "barpolar"
           }
          ],
          "carpet": [
           {
            "aaxis": {
             "endlinecolor": "#2a3f5f",
             "gridcolor": "white",
             "linecolor": "white",
             "minorgridcolor": "white",
             "startlinecolor": "#2a3f5f"
            },
            "baxis": {
             "endlinecolor": "#2a3f5f",
             "gridcolor": "white",
             "linecolor": "white",
             "minorgridcolor": "white",
             "startlinecolor": "#2a3f5f"
            },
            "type": "carpet"
           }
          ],
          "choropleth": [
           {
            "colorbar": {
             "outlinewidth": 0,
             "ticks": ""
            },
            "type": "choropleth"
           }
          ],
          "contour": [
           {
            "colorbar": {
             "outlinewidth": 0,
             "ticks": ""
            },
            "colorscale": [
             [
              0,
              "#0d0887"
             ],
             [
              0.1111111111111111,
              "#46039f"
             ],
             [
              0.2222222222222222,
              "#7201a8"
             ],
             [
              0.3333333333333333,
              "#9c179e"
             ],
             [
              0.4444444444444444,
              "#bd3786"
             ],
             [
              0.5555555555555556,
              "#d8576b"
             ],
             [
              0.6666666666666666,
              "#ed7953"
             ],
             [
              0.7777777777777778,
              "#fb9f3a"
             ],
             [
              0.8888888888888888,
              "#fdca26"
             ],
             [
              1,
              "#f0f921"
             ]
            ],
            "type": "contour"
           }
          ],
          "contourcarpet": [
           {
            "colorbar": {
             "outlinewidth": 0,
             "ticks": ""
            },
            "type": "contourcarpet"
           }
          ],
          "heatmap": [
           {
            "colorbar": {
             "outlinewidth": 0,
             "ticks": ""
            },
            "colorscale": [
             [
              0,
              "#0d0887"
             ],
             [
              0.1111111111111111,
              "#46039f"
             ],
             [
              0.2222222222222222,
              "#7201a8"
             ],
             [
              0.3333333333333333,
              "#9c179e"
             ],
             [
              0.4444444444444444,
              "#bd3786"
             ],
             [
              0.5555555555555556,
              "#d8576b"
             ],
             [
              0.6666666666666666,
              "#ed7953"
             ],
             [
              0.7777777777777778,
              "#fb9f3a"
             ],
             [
              0.8888888888888888,
              "#fdca26"
             ],
             [
              1,
              "#f0f921"
             ]
            ],
            "type": "heatmap"
           }
          ],
          "heatmapgl": [
           {
            "colorbar": {
             "outlinewidth": 0,
             "ticks": ""
            },
            "colorscale": [
             [
              0,
              "#0d0887"
             ],
             [
              0.1111111111111111,
              "#46039f"
             ],
             [
              0.2222222222222222,
              "#7201a8"
             ],
             [
              0.3333333333333333,
              "#9c179e"
             ],
             [
              0.4444444444444444,
              "#bd3786"
             ],
             [
              0.5555555555555556,
              "#d8576b"
             ],
             [
              0.6666666666666666,
              "#ed7953"
             ],
             [
              0.7777777777777778,
              "#fb9f3a"
             ],
             [
              0.8888888888888888,
              "#fdca26"
             ],
             [
              1,
              "#f0f921"
             ]
            ],
            "type": "heatmapgl"
           }
          ],
          "histogram": [
           {
            "marker": {
             "pattern": {
              "fillmode": "overlay",
              "size": 10,
              "solidity": 0.2
             }
            },
            "type": "histogram"
           }
          ],
          "histogram2d": [
           {
            "colorbar": {
             "outlinewidth": 0,
             "ticks": ""
            },
            "colorscale": [
             [
              0,
              "#0d0887"
             ],
             [
              0.1111111111111111,
              "#46039f"
             ],
             [
              0.2222222222222222,
              "#7201a8"
             ],
             [
              0.3333333333333333,
              "#9c179e"
             ],
             [
              0.4444444444444444,
              "#bd3786"
             ],
             [
              0.5555555555555556,
              "#d8576b"
             ],
             [
              0.6666666666666666,
              "#ed7953"
             ],
             [
              0.7777777777777778,
              "#fb9f3a"
             ],
             [
              0.8888888888888888,
              "#fdca26"
             ],
             [
              1,
              "#f0f921"
             ]
            ],
            "type": "histogram2d"
           }
          ],
          "histogram2dcontour": [
           {
            "colorbar": {
             "outlinewidth": 0,
             "ticks": ""
            },
            "colorscale": [
             [
              0,
              "#0d0887"
             ],
             [
              0.1111111111111111,
              "#46039f"
             ],
             [
              0.2222222222222222,
              "#7201a8"
             ],
             [
              0.3333333333333333,
              "#9c179e"
             ],
             [
              0.4444444444444444,
              "#bd3786"
             ],
             [
              0.5555555555555556,
              "#d8576b"
             ],
             [
              0.6666666666666666,
              "#ed7953"
             ],
             [
              0.7777777777777778,
              "#fb9f3a"
             ],
             [
              0.8888888888888888,
              "#fdca26"
             ],
             [
              1,
              "#f0f921"
             ]
            ],
            "type": "histogram2dcontour"
           }
          ],
          "mesh3d": [
           {
            "colorbar": {
             "outlinewidth": 0,
             "ticks": ""
            },
            "type": "mesh3d"
           }
          ],
          "parcoords": [
           {
            "line": {
             "colorbar": {
              "outlinewidth": 0,
              "ticks": ""
             }
            },
            "type": "parcoords"
           }
          ],
          "pie": [
           {
            "automargin": true,
            "type": "pie"
           }
          ],
          "scatter": [
           {
            "fillpattern": {
             "fillmode": "overlay",
             "size": 10,
             "solidity": 0.2
            },
            "type": "scatter"
           }
          ],
          "scatter3d": [
           {
            "line": {
             "colorbar": {
              "outlinewidth": 0,
              "ticks": ""
             }
            },
            "marker": {
             "colorbar": {
              "outlinewidth": 0,
              "ticks": ""
             }
            },
            "type": "scatter3d"
           }
          ],
          "scattercarpet": [
           {
            "marker": {
             "colorbar": {
              "outlinewidth": 0,
              "ticks": ""
             }
            },
            "type": "scattercarpet"
           }
          ],
          "scattergeo": [
           {
            "marker": {
             "colorbar": {
              "outlinewidth": 0,
              "ticks": ""
             }
            },
            "type": "scattergeo"
           }
          ],
          "scattergl": [
           {
            "marker": {
             "colorbar": {
              "outlinewidth": 0,
              "ticks": ""
             }
            },
            "type": "scattergl"
           }
          ],
          "scattermapbox": [
           {
            "marker": {
             "colorbar": {
              "outlinewidth": 0,
              "ticks": ""
             }
            },
            "type": "scattermapbox"
           }
          ],
          "scatterpolar": [
           {
            "marker": {
             "colorbar": {
              "outlinewidth": 0,
              "ticks": ""
             }
            },
            "type": "scatterpolar"
           }
          ],
          "scatterpolargl": [
           {
            "marker": {
             "colorbar": {
              "outlinewidth": 0,
              "ticks": ""
             }
            },
            "type": "scatterpolargl"
           }
          ],
          "scatterternary": [
           {
            "marker": {
             "colorbar": {
              "outlinewidth": 0,
              "ticks": ""
             }
            },
            "type": "scatterternary"
           }
          ],
          "surface": [
           {
            "colorbar": {
             "outlinewidth": 0,
             "ticks": ""
            },
            "colorscale": [
             [
              0,
              "#0d0887"
             ],
             [
              0.1111111111111111,
              "#46039f"
             ],
             [
              0.2222222222222222,
              "#7201a8"
             ],
             [
              0.3333333333333333,
              "#9c179e"
             ],
             [
              0.4444444444444444,
              "#bd3786"
             ],
             [
              0.5555555555555556,
              "#d8576b"
             ],
             [
              0.6666666666666666,
              "#ed7953"
             ],
             [
              0.7777777777777778,
              "#fb9f3a"
             ],
             [
              0.8888888888888888,
              "#fdca26"
             ],
             [
              1,
              "#f0f921"
             ]
            ],
            "type": "surface"
           }
          ],
          "table": [
           {
            "cells": {
             "fill": {
              "color": "#EBF0F8"
             },
             "line": {
              "color": "white"
             }
            },
            "header": {
             "fill": {
              "color": "#C8D4E3"
             },
             "line": {
              "color": "white"
             }
            },
            "type": "table"
           }
          ]
         },
         "layout": {
          "annotationdefaults": {
           "arrowcolor": "#2a3f5f",
           "arrowhead": 0,
           "arrowwidth": 1
          },
          "autotypenumbers": "strict",
          "coloraxis": {
           "colorbar": {
            "outlinewidth": 0,
            "ticks": ""
           }
          },
          "colorscale": {
           "diverging": [
            [
             0,
             "#8e0152"
            ],
            [
             0.1,
             "#c51b7d"
            ],
            [
             0.2,
             "#de77ae"
            ],
            [
             0.3,
             "#f1b6da"
            ],
            [
             0.4,
             "#fde0ef"
            ],
            [
             0.5,
             "#f7f7f7"
            ],
            [
             0.6,
             "#e6f5d0"
            ],
            [
             0.7,
             "#b8e186"
            ],
            [
             0.8,
             "#7fbc41"
            ],
            [
             0.9,
             "#4d9221"
            ],
            [
             1,
             "#276419"
            ]
           ],
           "sequential": [
            [
             0,
             "#0d0887"
            ],
            [
             0.1111111111111111,
             "#46039f"
            ],
            [
             0.2222222222222222,
             "#7201a8"
            ],
            [
             0.3333333333333333,
             "#9c179e"
            ],
            [
             0.4444444444444444,
             "#bd3786"
            ],
            [
             0.5555555555555556,
             "#d8576b"
            ],
            [
             0.6666666666666666,
             "#ed7953"
            ],
            [
             0.7777777777777778,
             "#fb9f3a"
            ],
            [
             0.8888888888888888,
             "#fdca26"
            ],
            [
             1,
             "#f0f921"
            ]
           ],
           "sequentialminus": [
            [
             0,
             "#0d0887"
            ],
            [
             0.1111111111111111,
             "#46039f"
            ],
            [
             0.2222222222222222,
             "#7201a8"
            ],
            [
             0.3333333333333333,
             "#9c179e"
            ],
            [
             0.4444444444444444,
             "#bd3786"
            ],
            [
             0.5555555555555556,
             "#d8576b"
            ],
            [
             0.6666666666666666,
             "#ed7953"
            ],
            [
             0.7777777777777778,
             "#fb9f3a"
            ],
            [
             0.8888888888888888,
             "#fdca26"
            ],
            [
             1,
             "#f0f921"
            ]
           ]
          },
          "colorway": [
           "#636efa",
           "#EF553B",
           "#00cc96",
           "#ab63fa",
           "#FFA15A",
           "#19d3f3",
           "#FF6692",
           "#B6E880",
           "#FF97FF",
           "#FECB52"
          ],
          "font": {
           "color": "#2a3f5f"
          },
          "geo": {
           "bgcolor": "white",
           "lakecolor": "white",
           "landcolor": "#E5ECF6",
           "showlakes": true,
           "showland": true,
           "subunitcolor": "white"
          },
          "hoverlabel": {
           "align": "left"
          },
          "hovermode": "closest",
          "mapbox": {
           "style": "light"
          },
          "paper_bgcolor": "white",
          "plot_bgcolor": "#E5ECF6",
          "polar": {
           "angularaxis": {
            "gridcolor": "white",
            "linecolor": "white",
            "ticks": ""
           },
           "bgcolor": "#E5ECF6",
           "radialaxis": {
            "gridcolor": "white",
            "linecolor": "white",
            "ticks": ""
           }
          },
          "scene": {
           "xaxis": {
            "backgroundcolor": "#E5ECF6",
            "gridcolor": "white",
            "gridwidth": 2,
            "linecolor": "white",
            "showbackground": true,
            "ticks": "",
            "zerolinecolor": "white"
           },
           "yaxis": {
            "backgroundcolor": "#E5ECF6",
            "gridcolor": "white",
            "gridwidth": 2,
            "linecolor": "white",
            "showbackground": true,
            "ticks": "",
            "zerolinecolor": "white"
           },
           "zaxis": {
            "backgroundcolor": "#E5ECF6",
            "gridcolor": "white",
            "gridwidth": 2,
            "linecolor": "white",
            "showbackground": true,
            "ticks": "",
            "zerolinecolor": "white"
           }
          },
          "shapedefaults": {
           "line": {
            "color": "#2a3f5f"
           }
          },
          "ternary": {
           "aaxis": {
            "gridcolor": "white",
            "linecolor": "white",
            "ticks": ""
           },
           "baxis": {
            "gridcolor": "white",
            "linecolor": "white",
            "ticks": ""
           },
           "bgcolor": "#E5ECF6",
           "caxis": {
            "gridcolor": "white",
            "linecolor": "white",
            "ticks": ""
           }
          },
          "title": {
           "x": 0.05
          },
          "xaxis": {
           "automargin": true,
           "gridcolor": "white",
           "linecolor": "white",
           "ticks": "",
           "title": {
            "standoff": 15
           },
           "zerolinecolor": "white",
           "zerolinewidth": 2
          },
          "yaxis": {
           "automargin": true,
           "gridcolor": "white",
           "linecolor": "white",
           "ticks": "",
           "title": {
            "standoff": 15
           },
           "zerolinecolor": "white",
           "zerolinewidth": 2
          }
         }
        },
        "title": {
         "text": "Tasa ajustada de muertes por diabetes mellitus por CC.AA."
        },
        "xaxis": {
         "anchor": "y",
         "domain": [
          0,
          1
         ],
         "title": {
          "text": "Tiempo"
         }
        },
        "yaxis": {
         "anchor": "x",
         "domain": [
          0,
          1
         ],
         "title": {
          "text": "Tasa de muertes (*Poblacion / 100.000)"
         }
        }
       }
      }
     },
     "metadata": {},
     "output_type": "display_data"
    }
   ],
   "source": [
    "#df_aux = df_muertos_diabetes.set_index('CC.AA.').T\n",
    "fig = px.line(\n",
    "    df_muertos_diabetes.T,\n",
    "    title='Tasa ajustada de muertes por diabetes mellitus por CC.AA.',\n",
    "    labels = {\n",
    "        'index' : 'Tiempo',\n",
    "        'value' : 'Tasa de muertes (*Poblacion / 100.000)'\n",
    "    }\n",
    ")\n",
    "fig.show()"
   ]
  },
  {
   "cell_type": "code",
   "execution_count": null,
   "metadata": {},
   "outputs": [
    {
     "data": {
      "text/html": [
       "<div>\n",
       "<style scoped>\n",
       "    .dataframe tbody tr th:only-of-type {\n",
       "        vertical-align: middle;\n",
       "    }\n",
       "\n",
       "    .dataframe tbody tr th {\n",
       "        vertical-align: top;\n",
       "    }\n",
       "\n",
       "    .dataframe thead th {\n",
       "        text-align: right;\n",
       "    }\n",
       "</style>\n",
       "<table border=\"1\" class=\"dataframe\">\n",
       "  <thead>\n",
       "    <tr style=\"text-align: right;\">\n",
       "      <th>CC.AA.</th>\n",
       "      <th>Ceuta_y_Melilla</th>\n",
       "      <th>La_Rioja</th>\n",
       "      <th>Pais_Vasco</th>\n",
       "      <th>Navarra</th>\n",
       "      <th>Murcia</th>\n",
       "      <th>Madrid</th>\n",
       "      <th>Galicia</th>\n",
       "      <th>Extremadura</th>\n",
       "      <th>C_Valenciana</th>\n",
       "      <th>Catalunya</th>\n",
       "      <th>Castilla_La_Mancha</th>\n",
       "      <th>Castilla_y_Leon</th>\n",
       "      <th>Cantabria</th>\n",
       "      <th>Canarias</th>\n",
       "      <th>Baleares</th>\n",
       "      <th>Asturias</th>\n",
       "      <th>Aragon</th>\n",
       "      <th>Andalucia</th>\n",
       "    </tr>\n",
       "  </thead>\n",
       "  <tbody>\n",
       "    <tr>\n",
       "      <th>2017-01-31</th>\n",
       "      <td>27.14</td>\n",
       "      <td>19.18</td>\n",
       "      <td>15.14</td>\n",
       "      <td>16.13</td>\n",
       "      <td>21.24</td>\n",
       "      <td>10.23</td>\n",
       "      <td>12.66</td>\n",
       "      <td>17.88</td>\n",
       "      <td>25.27</td>\n",
       "      <td>19.91</td>\n",
       "      <td>18.72</td>\n",
       "      <td>19.46</td>\n",
       "      <td>13.06</td>\n",
       "      <td>23.11</td>\n",
       "      <td>24.07</td>\n",
       "      <td>19.93</td>\n",
       "      <td>20.84</td>\n",
       "      <td>20.95</td>\n",
       "    </tr>\n",
       "    <tr>\n",
       "      <th>2017-02-28</th>\n",
       "      <td>27.14</td>\n",
       "      <td>19.18</td>\n",
       "      <td>15.14</td>\n",
       "      <td>16.13</td>\n",
       "      <td>21.24</td>\n",
       "      <td>10.23</td>\n",
       "      <td>12.66</td>\n",
       "      <td>17.88</td>\n",
       "      <td>25.27</td>\n",
       "      <td>19.91</td>\n",
       "      <td>18.72</td>\n",
       "      <td>19.46</td>\n",
       "      <td>13.06</td>\n",
       "      <td>23.11</td>\n",
       "      <td>24.07</td>\n",
       "      <td>19.93</td>\n",
       "      <td>20.84</td>\n",
       "      <td>20.95</td>\n",
       "    </tr>\n",
       "    <tr>\n",
       "      <th>2017-03-31</th>\n",
       "      <td>27.14</td>\n",
       "      <td>19.18</td>\n",
       "      <td>15.14</td>\n",
       "      <td>16.13</td>\n",
       "      <td>21.24</td>\n",
       "      <td>10.23</td>\n",
       "      <td>12.66</td>\n",
       "      <td>17.88</td>\n",
       "      <td>25.27</td>\n",
       "      <td>19.91</td>\n",
       "      <td>18.72</td>\n",
       "      <td>19.46</td>\n",
       "      <td>13.06</td>\n",
       "      <td>23.11</td>\n",
       "      <td>24.07</td>\n",
       "      <td>19.93</td>\n",
       "      <td>20.84</td>\n",
       "      <td>20.95</td>\n",
       "    </tr>\n",
       "    <tr>\n",
       "      <th>2017-04-30</th>\n",
       "      <td>27.14</td>\n",
       "      <td>19.18</td>\n",
       "      <td>15.14</td>\n",
       "      <td>16.13</td>\n",
       "      <td>21.24</td>\n",
       "      <td>10.23</td>\n",
       "      <td>12.66</td>\n",
       "      <td>17.88</td>\n",
       "      <td>25.27</td>\n",
       "      <td>19.91</td>\n",
       "      <td>18.72</td>\n",
       "      <td>19.46</td>\n",
       "      <td>13.06</td>\n",
       "      <td>23.11</td>\n",
       "      <td>24.07</td>\n",
       "      <td>19.93</td>\n",
       "      <td>20.84</td>\n",
       "      <td>20.95</td>\n",
       "    </tr>\n",
       "    <tr>\n",
       "      <th>2017-05-31</th>\n",
       "      <td>27.14</td>\n",
       "      <td>19.18</td>\n",
       "      <td>15.14</td>\n",
       "      <td>16.13</td>\n",
       "      <td>21.24</td>\n",
       "      <td>10.23</td>\n",
       "      <td>12.66</td>\n",
       "      <td>17.88</td>\n",
       "      <td>25.27</td>\n",
       "      <td>19.91</td>\n",
       "      <td>18.72</td>\n",
       "      <td>19.46</td>\n",
       "      <td>13.06</td>\n",
       "      <td>23.11</td>\n",
       "      <td>24.07</td>\n",
       "      <td>19.93</td>\n",
       "      <td>20.84</td>\n",
       "      <td>20.95</td>\n",
       "    </tr>\n",
       "  </tbody>\n",
       "</table>\n",
       "</div>"
      ],
      "text/plain": [
       "CC.AA.      Ceuta_y_Melilla  La_Rioja  Pais_Vasco  Navarra  Murcia  Madrid  \\\n",
       "2017-01-31            27.14     19.18       15.14    16.13   21.24   10.23   \n",
       "2017-02-28            27.14     19.18       15.14    16.13   21.24   10.23   \n",
       "2017-03-31            27.14     19.18       15.14    16.13   21.24   10.23   \n",
       "2017-04-30            27.14     19.18       15.14    16.13   21.24   10.23   \n",
       "2017-05-31            27.14     19.18       15.14    16.13   21.24   10.23   \n",
       "\n",
       "CC.AA.      Galicia  Extremadura  C_Valenciana  Catalunya  Castilla_La_Mancha  \\\n",
       "2017-01-31    12.66        17.88         25.27      19.91               18.72   \n",
       "2017-02-28    12.66        17.88         25.27      19.91               18.72   \n",
       "2017-03-31    12.66        17.88         25.27      19.91               18.72   \n",
       "2017-04-30    12.66        17.88         25.27      19.91               18.72   \n",
       "2017-05-31    12.66        17.88         25.27      19.91               18.72   \n",
       "\n",
       "CC.AA.      Castilla_y_Leon  Cantabria  Canarias  Baleares  Asturias  Aragon  \\\n",
       "2017-01-31            19.46      13.06     23.11     24.07     19.93   20.84   \n",
       "2017-02-28            19.46      13.06     23.11     24.07     19.93   20.84   \n",
       "2017-03-31            19.46      13.06     23.11     24.07     19.93   20.84   \n",
       "2017-04-30            19.46      13.06     23.11     24.07     19.93   20.84   \n",
       "2017-05-31            19.46      13.06     23.11     24.07     19.93   20.84   \n",
       "\n",
       "CC.AA.      Andalucia  \n",
       "2017-01-31      20.95  \n",
       "2017-02-28      20.95  \n",
       "2017-03-31      20.95  \n",
       "2017-04-30      20.95  \n",
       "2017-05-31      20.95  "
      ]
     },
     "execution_count": 22,
     "metadata": {},
     "output_type": "execute_result"
    }
   ],
   "source": [
    "# Eliminamos el año 2016\n",
    "df_muertos_diabetes.drop(['2016'], axis=1, inplace=True)\n",
    "\n",
    "# Transponemos la tabla\n",
    "df_muertos_diabetes = df_muertos_diabetes.T\n",
    "\n",
    "# Cambiamos el index a Datetime\n",
    "df_muertos_diabetes.index = pd.to_datetime(df_muertos_diabetes.index, format=\"%Y\")\n",
    "\n",
    "# Cambiamos la granularida a mensual con un backfill\n",
    "df_muertos_diabetes = df_muertos_diabetes.resample('M').bfill()\n",
    "\n",
    "# Eliminamos las 3 ultimas filas para que el último dato sea de Octubre de 2019, igual que los datos de consumos\n",
    "df_muertos_diabetes.drop(df_muertos_diabetes.tail(3).index , axis=0, inplace=True)\n",
    "\n",
    "# Mostramos el resultado de nuestro dataset\n",
    "df_muertos_diabetes.head()"
   ]
  },
  {
   "cell_type": "markdown",
   "metadata": {},
   "source": [
    "# 3. Análisis de la alimentación en España <a class=\"anchor\" id=\"analisis\"></a>\n",
    "\n",
    "Ya que no podemos relacionar directamente la alimentación con las muertes por diabetes, vamos a tratar de analizar cómo se alimenta España para ver si hay diferencias por comunidades.\n",
    "\n",
    "Para ello seleccionaremos los alimentos que consideramos que están dentro de la llamada \"Dieta Mediterránea\"."
   ]
  },
  {
   "cell_type": "markdown",
   "metadata": {},
   "source": [
    "## 3.1. Selección de alimentos relacionados con la dieta mediterránea <a class=\"anchor\" id=\"dieta_mediterranea\"></a>"
   ]
  },
  {
   "cell_type": "code",
   "execution_count": null,
   "metadata": {},
   "outputs": [],
   "source": [
    "# Recuperamos las listas de todos los valores de cada sector, sección, categoría y familia de alimentos\n",
    "lista_sectores = list(df_comunidades[~df_comunidades['SECTOR'].isna()]['SECTOR'].unique())\n",
    "lista_secciones = list(df_comunidades[~df_comunidades['SECCION'].isna()]['SECCION'].unique())\n",
    "lista_categorias = list(df_comunidades[~df_comunidades['CATEGORIA'].isna()]['CATEGORIA'].unique())\n",
    "lista_familias = list(df_comunidades[~df_comunidades['FAMILIA'].isna()]['FAMILIA'].unique())"
   ]
  },
  {
   "cell_type": "markdown",
   "metadata": {},
   "source": [
    "### Sectores dieta mediterránea"
   ]
  },
  {
   "cell_type": "code",
   "execution_count": null,
   "metadata": {},
   "outputs": [
    {
     "data": {
      "text/plain": [
       "['ALIM. Y BEBIDAS', 'PROD.FRESCOS']"
      ]
     },
     "execution_count": 24,
     "metadata": {},
     "output_type": "execute_result"
    }
   ],
   "source": [
    "# Copiamos la primera lista para modificarla\n",
    "lista_sectores_dieta_mediterranea = lista_sectores.copy()\n",
    "\n",
    "# Eliminamos los sectores que no están relacionados con la dieta mediterránea\n",
    "lista_sectores_dieta_mediterranea.remove('DROGUERIA Y PERFUMERIA')\n",
    "\n",
    "# Mostramos los sectores seleccionados\n",
    "lista_sectores_dieta_mediterranea"
   ]
  },
  {
   "cell_type": "markdown",
   "metadata": {},
   "source": [
    "### Secciones dieta mediterránea"
   ]
  },
  {
   "cell_type": "code",
   "execution_count": null,
   "metadata": {},
   "outputs": [
    {
     "data": {
      "text/plain": [
       "['ALIM.SECA', 'BEBIDAS', 'CONSERVAS', 'CHARCUTERIA', 'DERV.LACTEOS', 'QUESOS']"
      ]
     },
     "execution_count": 25,
     "metadata": {},
     "output_type": "execute_result"
    }
   ],
   "source": [
    "# Seleccionamos las secciones que hay dentro de de los sectores seleccionados en lista_sectores_dieta_mediterranea\n",
    "lista_secciones_sectores_dieta_mediterranea = list(df_comunidades.loc[df_comunidades['SECTOR'].isin(lista_sectores_dieta_mediterranea), 'SECCION'].unique())[1:]\n",
    "\n",
    "# Copiamos la lista de los secciones de los sectores relacionados con la dieta mediterránea\n",
    "lista_secciones_dieta_mediterranea = lista_secciones_sectores_dieta_mediterranea.copy()\n",
    "\n",
    "# Creamos una lista de las secciones a eliminar\n",
    "secciones_a_descartar = ['LECHE Y BATIDOS', 'CONGELADOS', 'PL. COCINADOS Y PRECOCINADOS']\n",
    "\n",
    "# Eliminamos las secciones que no están relacionadas con la dieta mediterránea\n",
    "for i in range(len(secciones_a_descartar)):\n",
    "    lista_secciones_dieta_mediterranea.remove(secciones_a_descartar[i])\n",
    "\n",
    "# Mostramos las secciones seleccionadas\n",
    "lista_secciones_dieta_mediterranea"
   ]
  },
  {
   "cell_type": "markdown",
   "metadata": {},
   "source": [
    "### Categorías dieta medieterránea"
   ]
  },
  {
   "cell_type": "code",
   "execution_count": null,
   "metadata": {},
   "outputs": [
    {
     "data": {
      "text/plain": [
       "['ACEITE',\n",
       " 'ADITIVOS COCINA',\n",
       " 'APERITIVOS',\n",
       " 'ARROZ',\n",
       " 'CAFES',\n",
       " 'FRUTOS SECOS',\n",
       " 'LEGUMBRES SECAS',\n",
       " 'PANADERIA INDUSTRIAL',\n",
       " 'PASTAS',\n",
       " 'SALSAS',\n",
       " 'SOPAS Y DESHIDRATADOS',\n",
       " 'AGUAS',\n",
       " 'CERVEZA',\n",
       " 'ESPUMOSOS',\n",
       " 'VINOS',\n",
       " 'ZUMOS',\n",
       " 'ACEITUNAS Y ENCURT',\n",
       " 'CONSERVAS DE PESCADO',\n",
       " 'CONSERVAS VEGETALES',\n",
       " 'PLATOS PREPARADOS CONSERVA',\n",
       " 'AHUMADOS',\n",
       " 'CHARCUTERIA',\n",
       " 'SALAZONES',\n",
       " 'SOBRASADA',\n",
       " 'NATA',\n",
       " 'POSTRES PREPARADOS',\n",
       " 'QUESO TIPO PETIT',\n",
       " 'YOGURES',\n",
       " 'QUESO AZUL',\n",
       " 'QUESO BOLA',\n",
       " 'QUESO FRESCO',\n",
       " 'QUESO FUNDIDO',\n",
       " 'QUESO PASTA BLANDA',\n",
       " 'QUESO RALLADO',\n",
       " 'QUESO TRADICIONAL',\n",
       " 'QUESOS BLANCOS PASTEURIZADOS',\n",
       " 'REQUESON',\n",
       " 'RESTO QUESOS NATURALES']"
      ]
     },
     "execution_count": 26,
     "metadata": {},
     "output_type": "execute_result"
    }
   ],
   "source": [
    "# Seleccionamos las categorias que hay dentro de de los secciones seleccionados en lista_secciones_dieta_mediterranea\n",
    "lista_categorias_secciones_dieta_mediterranea = list(df_comunidades.loc[df_comunidades['SECCION'].isin(lista_secciones_dieta_mediterranea), 'CATEGORIA'].unique())[1:]\n",
    "\n",
    "# Copiamos la lista de los categorias de las secciones relacionados con la dieta mediterránea\n",
    "lista_categorias_dieta_mediterranea = lista_categorias_secciones_dieta_mediterranea.copy()\n",
    "\n",
    "# Creamos una lista de las categorias a eliminar\n",
    "categorias_a_eliminar = [\n",
    "    'ALIMENTOS INFANTILES', 'ALIMENTOS MASCOTAS', 'AZUCAR Y EDULCORANTES', 'BOLLERIA INDUSTRIAL', 'CACAO', 'CEREALES DESAYUNO', 'CHOCOLATES', 'DIETETICOS',\n",
    "    'DULCES NAVIDENOS', 'GALLETAS', 'GOLOSINAS', 'INFUSIONES', 'REPOSTERIA', 'BEBIDAS ALCOHOLICAS', 'BEBIDAS REFRESCANTES', 'CONSERVAS DE CARNE Y PATES',\n",
    "    'CONSERVAS DE FRUTAS Y DULCES', 'PATES REFRIGERADOS', 'SALCHICHAS REFRIGERADAS', 'MANTEQUILLA', 'MARGARINA'\n",
    "]\n",
    "\n",
    "# Eliminamos las categorias que no están relacionadas con la dieta mediterránea\n",
    "for i in range(len(categorias_a_eliminar)):\n",
    "    lista_categorias_dieta_mediterranea.remove(categorias_a_eliminar[i])\n",
    "\n",
    "# Mostramos las categorías seleccionadas\n",
    "lista_categorias_dieta_mediterranea"
   ]
  },
  {
   "cell_type": "code",
   "execution_count": null,
   "metadata": {},
   "outputs": [
    {
     "data": {
      "text/plain": [
       "112"
      ]
     },
     "execution_count": 27,
     "metadata": {},
     "output_type": "execute_result"
    }
   ],
   "source": [
    "# Seleccionamos las familias de alimentos que hay dentro de de las categorias seleccionados en lista_categorias_dieta_mediterranea\n",
    "lista_familias_categorias_dieta_mediterranea = list(df_comunidades.loc[df_comunidades['CATEGORIA'].isin(lista_categorias_dieta_mediterranea), 'FAMILIA'].unique())[1:]\n",
    "\n",
    "# Copiamos la lista de las familias de alimentos de las categorias relacionados con la dieta mediterránea\n",
    "lista_familias_dieta_mediterranea = lista_familias_categorias_dieta_mediterranea.copy()\n",
    "\n",
    "# Creamos una lista de las familias a eliminar\n",
    "familias_a_eliminar = [\n",
    "    'RESTO ACEITES', 'PALOMITAS DE MAIZ', 'CAFE SOLUBLE', 'SUCEDANEOS DE CAFE', 'FRUTA SECA', 'BARBACOA', 'KETCHUP', 'MEXICANA', 'PICANTES', 'RESTO SALSAS',\n",
    "     'SALSAS DESHIDRATADAS', 'PL.PREP.DESHIDRATADOS', 'CON GAS', 'CHAMPAGNE', 'VINOS DE LICOR', 'NECTAR', 'REFRIGERADOS Y SMOOTHIES', 'VITAMIN./C/ADITIVO',\n",
    "     'PL.CONS.BASE CARNE', 'PL.CONS.BASE PASTA Y ARROZ', 'RESTO PLATOS PREPARADOS', 'A.RESTO' \n",
    "]\n",
    "\n",
    "# Eliminamos las familias que no están relacionadas con la dieta mediterránea\n",
    "for i in range(len(familias_a_eliminar)):\n",
    "    lista_familias_dieta_mediterranea.remove(familias_a_eliminar[i])\n",
    "\n",
    "# Lista de las categorias relacionadas con la dieta mediterránea. Mostramos la cantidad de familias de alimentos que hemos seleccionado\n",
    "len(lista_familias_dieta_mediterranea)"
   ]
  },
  {
   "cell_type": "markdown",
   "metadata": {},
   "source": [
    "### Creamos el dataframe para la dieta mediterránea"
   ]
  },
  {
   "cell_type": "code",
   "execution_count": null,
   "metadata": {},
   "outputs": [],
   "source": [
    "# Creamos un dataset de las familias de alimentos que tienen relación con la diabetes\n",
    "df_dieta_mediterranea = df_comunidades[df_comunidades['FAMILIA'].isin(lista_familias_dieta_mediterranea)].groupby('COMUNIDAD').sum().T\n",
    "\n",
    "# Editamos el índice para que tenga un formato adecuado para ser formateado a fecha (quitamos 'SEMANA', 1 para que la semana empiece en lunes, la semana y el año)\n",
    "df_dieta_mediterranea.index = '1 ' + df_dieta_mediterranea.index.str[-5:-3] + ' ' + df_dieta_mediterranea.index.str[-2:]\n",
    "df_dieta_mediterranea.index = pd.to_datetime(df_dieta_mediterranea.index, format=\"%w %W %y\")\n",
    "\n",
    "# Cambiamos la granularidad a mensual\n",
    "df_dieta_mediterranea = df_dieta_mediterranea.groupby(pd.Grouper(freq='M')).sum()"
   ]
  },
  {
   "cell_type": "code",
   "execution_count": null,
   "metadata": {},
   "outputs": [],
   "source": [
    "# Dividimos el DF para cada año\n",
    "df_dieta_mediterranea_2017 = df_dieta_mediterranea['2017':'2017']\n",
    "df_dieta_mediterranea_2018 = df_dieta_mediterranea['2018':'2018']\n",
    "df_dieta_mediterranea_2019 = df_dieta_mediterranea['2019':'2019']"
   ]
  },
  {
   "cell_type": "code",
   "execution_count": null,
   "metadata": {},
   "outputs": [],
   "source": [
    "# Usamos la función apply para dividir los datos por la población de cada comunidad por cada 100000 habitantes\n",
    "df_dieta_mediterranea_2017_normalizado = df_dieta_mediterranea_2017.apply(lambda x: x / df_poblacion['2017'][x.name] * 100000)\n",
    "df_dieta_mediterranea_2018_normalizado = df_dieta_mediterranea_2018.apply(lambda x: x / df_poblacion['2018'][x.name] * 100000)\n",
    "df_dieta_mediterranea_2019_normalizado = df_dieta_mediterranea_2019.apply(lambda x: x / df_poblacion['2019'][x.name] * 100000)"
   ]
  },
  {
   "cell_type": "code",
   "execution_count": null,
   "metadata": {},
   "outputs": [],
   "source": [
    "# Unimos el DF con los valores ya normalizados\n",
    "df_dieta_mediterranea_normalizado = pd.concat([df_dieta_mediterranea_2017_normalizado, df_dieta_mediterranea_2018_normalizado, df_dieta_mediterranea_2019_normalizado])"
   ]
  },
  {
   "cell_type": "code",
   "execution_count": null,
   "metadata": {},
   "outputs": [
    {
     "data": {
      "application/vnd.plotly.v1+json": {
       "config": {
        "plotlyServerURL": "https://plot.ly"
       },
       "data": [
        {
         "hovertemplate": "COMUNIDAD=Andalucia<br>Años=%{x}<br>Consumo / 100.000 hab.=%{y}<extra></extra>",
         "legendgroup": "Andalucia",
         "line": {
          "color": "#636efa",
          "dash": "solid"
         },
         "marker": {
          "symbol": "circle"
         },
         "mode": "lines",
         "name": "Andalucia",
         "orientation": "v",
         "showlegend": true,
         "type": "scatter",
         "x": [
          "2017-01-31T00:00:00",
          "2017-02-28T00:00:00",
          "2017-03-31T00:00:00",
          "2017-04-30T00:00:00",
          "2017-05-31T00:00:00",
          "2017-06-30T00:00:00",
          "2017-07-31T00:00:00",
          "2017-08-31T00:00:00",
          "2017-09-30T00:00:00",
          "2017-10-31T00:00:00",
          "2017-11-30T00:00:00",
          "2017-12-31T00:00:00",
          "2018-01-31T00:00:00",
          "2018-02-28T00:00:00",
          "2018-03-31T00:00:00",
          "2018-04-30T00:00:00",
          "2018-05-31T00:00:00",
          "2018-06-30T00:00:00",
          "2018-07-31T00:00:00",
          "2018-08-31T00:00:00",
          "2018-09-30T00:00:00",
          "2018-10-31T00:00:00",
          "2018-11-30T00:00:00",
          "2018-12-31T00:00:00",
          "2019-01-31T00:00:00",
          "2019-02-28T00:00:00",
          "2019-03-31T00:00:00",
          "2019-04-30T00:00:00",
          "2019-05-31T00:00:00",
          "2019-06-30T00:00:00",
          "2019-07-31T00:00:00",
          "2019-08-31T00:00:00",
          "2019-09-30T00:00:00",
          "2019-10-31T00:00:00"
         ],
         "xaxis": "x",
         "y": [
          3955.215386488015,
          3361.69034657069,
          3420.3522271361435,
          3586.110680181674,
          4343.569074276059,
          3704.1577265382793,
          4911.496189655625,
          3915.568472831158,
          3690.2530125945423,
          4524.991228928545,
          3697.523693826359,
          4288.479943483273,
          4032.9964858580356,
          3486.411920793931,
          3571.8811632258353,
          4583.960131711147,
          3628.2940906501685,
          3795.7383514733538,
          5053.420229549898,
          4010.8145977628947,
          3790.6911257181187,
          4652.482441217078,
          3809.2724018201407,
          4409.954167306743,
          3321.4623067561656,
          3552.2671090912554,
          3654.795204320295,
          4714.191537203597,
          3687.3493030861964,
          3786.8161592728516,
          5058.914887143699,
          4224.573936564681,
          4971.742070585104,
          3852.05271064291
         ],
         "yaxis": "y"
        },
        {
         "hovertemplate": "COMUNIDAD=Aragon<br>Años=%{x}<br>Consumo / 100.000 hab.=%{y}<extra></extra>",
         "legendgroup": "Aragon",
         "line": {
          "color": "#EF553B",
          "dash": "solid"
         },
         "marker": {
          "symbol": "circle"
         },
         "mode": "lines",
         "name": "Aragon",
         "orientation": "v",
         "showlegend": true,
         "type": "scatter",
         "x": [
          "2017-01-31T00:00:00",
          "2017-02-28T00:00:00",
          "2017-03-31T00:00:00",
          "2017-04-30T00:00:00",
          "2017-05-31T00:00:00",
          "2017-06-30T00:00:00",
          "2017-07-31T00:00:00",
          "2017-08-31T00:00:00",
          "2017-09-30T00:00:00",
          "2017-10-31T00:00:00",
          "2017-11-30T00:00:00",
          "2017-12-31T00:00:00",
          "2018-01-31T00:00:00",
          "2018-02-28T00:00:00",
          "2018-03-31T00:00:00",
          "2018-04-30T00:00:00",
          "2018-05-31T00:00:00",
          "2018-06-30T00:00:00",
          "2018-07-31T00:00:00",
          "2018-08-31T00:00:00",
          "2018-09-30T00:00:00",
          "2018-10-31T00:00:00",
          "2018-11-30T00:00:00",
          "2018-12-31T00:00:00",
          "2019-01-31T00:00:00",
          "2019-02-28T00:00:00",
          "2019-03-31T00:00:00",
          "2019-04-30T00:00:00",
          "2019-05-31T00:00:00",
          "2019-06-30T00:00:00",
          "2019-07-31T00:00:00",
          "2019-08-31T00:00:00",
          "2019-09-30T00:00:00",
          "2019-10-31T00:00:00"
         ],
         "xaxis": "x",
         "y": [
          4017.30964660936,
          3367.6859598853866,
          3362.69111747851,
          3513.784909264565,
          4370.322063037249,
          3628.9688634192935,
          4527.988538681948,
          3575.084622731614,
          3507.8448901623683,
          4423.614135625597,
          3624.379751671442,
          4280.374403056351,
          4109.232017653782,
          3530.848274049306,
          3527.1836470221465,
          4537.83521098349,
          3649.0676443080615,
          3718.728414154813,
          4671.856948120618,
          3650.4988049464823,
          3665.8014499575156,
          4572.767603352262,
          3717.7564780458583,
          4359.99611836837,
          3440.4979644369587,
          3616.8207014222035,
          3721.6406387976576,
          4738.533803383787,
          3791.222709773659,
          3869.3889369365816,
          4934.249532514054,
          3921.7481207709293,
          4839.349317171117,
          3794.689723495423
         ],
         "yaxis": "y"
        },
        {
         "hovertemplate": "COMUNIDAD=Asturias<br>Años=%{x}<br>Consumo / 100.000 hab.=%{y}<extra></extra>",
         "legendgroup": "Asturias",
         "line": {
          "color": "#00cc96",
          "dash": "solid"
         },
         "marker": {
          "symbol": "circle"
         },
         "mode": "lines",
         "name": "Asturias",
         "orientation": "v",
         "showlegend": true,
         "type": "scatter",
         "x": [
          "2017-01-31T00:00:00",
          "2017-02-28T00:00:00",
          "2017-03-31T00:00:00",
          "2017-04-30T00:00:00",
          "2017-05-31T00:00:00",
          "2017-06-30T00:00:00",
          "2017-07-31T00:00:00",
          "2017-08-31T00:00:00",
          "2017-09-30T00:00:00",
          "2017-10-31T00:00:00",
          "2017-11-30T00:00:00",
          "2017-12-31T00:00:00",
          "2018-01-31T00:00:00",
          "2018-02-28T00:00:00",
          "2018-03-31T00:00:00",
          "2018-04-30T00:00:00",
          "2018-05-31T00:00:00",
          "2018-06-30T00:00:00",
          "2018-07-31T00:00:00",
          "2018-08-31T00:00:00",
          "2018-09-30T00:00:00",
          "2018-10-31T00:00:00",
          "2018-11-30T00:00:00",
          "2018-12-31T00:00:00",
          "2019-01-31T00:00:00",
          "2019-02-28T00:00:00",
          "2019-03-31T00:00:00",
          "2019-04-30T00:00:00",
          "2019-05-31T00:00:00",
          "2019-06-30T00:00:00",
          "2019-07-31T00:00:00",
          "2019-08-31T00:00:00",
          "2019-09-30T00:00:00",
          "2019-10-31T00:00:00"
         ],
         "xaxis": "x",
         "y": [
          4691.7446084872845,
          3853.5788822756435,
          3916.4653706423433,
          4068.454819509933,
          4904.668779469738,
          4039.88753188529,
          5335.935688335781,
          4167.577490917523,
          3899.4444229728692,
          4855.672683002242,
          4000.2715080776065,
          4571.873309113395,
          4762.276269056761,
          3970.8279357817796,
          4031.8377739135854,
          5147.862764091013,
          4102.946382376168,
          4137.070578578626,
          5433.94369429824,
          4367.9165645508265,
          4109.17253103349,
          5102.765491459226,
          4136.003711181393,
          4723.5782557447465,
          3974.275518185373,
          4064.5502542041454,
          4174.111263199061,
          5230.416503715292,
          4223.903989049668,
          4214.239342980054,
          5463.777864685178,
          4599.284317559641,
          5292.844153304653,
          4176.8019163081735
         ],
         "yaxis": "y"
        },
        {
         "hovertemplate": "COMUNIDAD=Baleares<br>Años=%{x}<br>Consumo / 100.000 hab.=%{y}<extra></extra>",
         "legendgroup": "Baleares",
         "line": {
          "color": "#ab63fa",
          "dash": "solid"
         },
         "marker": {
          "symbol": "circle"
         },
         "mode": "lines",
         "name": "Baleares",
         "orientation": "v",
         "showlegend": true,
         "type": "scatter",
         "x": [
          "2017-01-31T00:00:00",
          "2017-02-28T00:00:00",
          "2017-03-31T00:00:00",
          "2017-04-30T00:00:00",
          "2017-05-31T00:00:00",
          "2017-06-30T00:00:00",
          "2017-07-31T00:00:00",
          "2017-08-31T00:00:00",
          "2017-09-30T00:00:00",
          "2017-10-31T00:00:00",
          "2017-11-30T00:00:00",
          "2017-12-31T00:00:00",
          "2018-01-31T00:00:00",
          "2018-02-28T00:00:00",
          "2018-03-31T00:00:00",
          "2018-04-30T00:00:00",
          "2018-05-31T00:00:00",
          "2018-06-30T00:00:00",
          "2018-07-31T00:00:00",
          "2018-08-31T00:00:00",
          "2018-09-30T00:00:00",
          "2018-10-31T00:00:00",
          "2018-11-30T00:00:00",
          "2018-12-31T00:00:00",
          "2019-01-31T00:00:00",
          "2019-02-28T00:00:00",
          "2019-03-31T00:00:00",
          "2019-04-30T00:00:00",
          "2019-05-31T00:00:00",
          "2019-06-30T00:00:00",
          "2019-07-31T00:00:00",
          "2019-08-31T00:00:00",
          "2019-09-30T00:00:00",
          "2019-10-31T00:00:00"
         ],
         "xaxis": "x",
         "y": [
          4797.21935234709,
          4028.7975168436524,
          4244.278892723022,
          4754.554439564909,
          6164.819144103177,
          5538.395643723696,
          7855.684458498618,
          6076.494692199544,
          5332.333631123325,
          6099.212454491446,
          4439.629426191243,
          4868.817086753662,
          4961.18904286266,
          4288.442459438678,
          4603.396379510111,
          6007.686188777119,
          5132.687517494783,
          5619.875135972108,
          7917.720487409072,
          6085.2576117805875,
          5483.709035634436,
          6176.067491770808,
          4423.317046207485,
          4867.6623781565895,
          4101.37803838324,
          4251.496354810084,
          4459.320898508865,
          5980.532597915543,
          4939.189706470865,
          5444.528735232196,
          7659.320028535139,
          6288.222295686671,
          6954.272440972282,
          5090.559045116837
         ],
         "yaxis": "y"
        },
        {
         "hovertemplate": "COMUNIDAD=C_Valenciana<br>Años=%{x}<br>Consumo / 100.000 hab.=%{y}<extra></extra>",
         "legendgroup": "C_Valenciana",
         "line": {
          "color": "#FFA15A",
          "dash": "solid"
         },
         "marker": {
          "symbol": "circle"
         },
         "mode": "lines",
         "name": "C_Valenciana",
         "orientation": "v",
         "showlegend": true,
         "type": "scatter",
         "x": [
          "2017-01-31T00:00:00",
          "2017-02-28T00:00:00",
          "2017-03-31T00:00:00",
          "2017-04-30T00:00:00",
          "2017-05-31T00:00:00",
          "2017-06-30T00:00:00",
          "2017-07-31T00:00:00",
          "2017-08-31T00:00:00",
          "2017-09-30T00:00:00",
          "2017-10-31T00:00:00",
          "2017-11-30T00:00:00",
          "2017-12-31T00:00:00",
          "2018-01-31T00:00:00",
          "2018-02-28T00:00:00",
          "2018-03-31T00:00:00",
          "2018-04-30T00:00:00",
          "2018-05-31T00:00:00",
          "2018-06-30T00:00:00",
          "2018-07-31T00:00:00",
          "2018-08-31T00:00:00",
          "2018-09-30T00:00:00",
          "2018-10-31T00:00:00",
          "2018-11-30T00:00:00",
          "2018-12-31T00:00:00",
          "2019-01-31T00:00:00",
          "2019-02-28T00:00:00",
          "2019-03-31T00:00:00",
          "2019-04-30T00:00:00",
          "2019-05-31T00:00:00",
          "2019-06-30T00:00:00",
          "2019-07-31T00:00:00",
          "2019-08-31T00:00:00",
          "2019-09-30T00:00:00",
          "2019-10-31T00:00:00"
         ],
         "xaxis": "x",
         "y": [
          4500.477688090825,
          3743.700355498695,
          3821.3173344417664,
          4114.2282650906845,
          4892.236157011957,
          4352.368881651334,
          6138.4307910802145,
          4735.264066098028,
          4269.030775821718,
          5136.101543071155,
          4107.965603219583,
          4664.80825998698,
          4599.339444765329,
          3944.137673023547,
          4222.935578538844,
          5102.308296850154,
          4168.919856808515,
          4509.583470243889,
          6306.024151727048,
          4858.491331975342,
          4407.322517080494,
          5271.2877865577375,
          4180.852883421913,
          4714.677932986724,
          3888.448687379453,
          3993.640593720453,
          4179.956548753549,
          5411.647100415707,
          4213.672333794785,
          4515.007187582,
          6237.890078458858,
          5145.012289735997,
          5756.662627711231,
          4386.156515218828
         ],
         "yaxis": "y"
        },
        {
         "hovertemplate": "COMUNIDAD=Canarias<br>Años=%{x}<br>Consumo / 100.000 hab.=%{y}<extra></extra>",
         "legendgroup": "Canarias",
         "line": {
          "color": "#19d3f3",
          "dash": "solid"
         },
         "marker": {
          "symbol": "circle"
         },
         "mode": "lines",
         "name": "Canarias",
         "orientation": "v",
         "showlegend": true,
         "type": "scatter",
         "x": [
          "2017-01-31T00:00:00",
          "2017-02-28T00:00:00",
          "2017-03-31T00:00:00",
          "2017-04-30T00:00:00",
          "2017-05-31T00:00:00",
          "2017-06-30T00:00:00",
          "2017-07-31T00:00:00",
          "2017-08-31T00:00:00",
          "2017-09-30T00:00:00",
          "2017-10-31T00:00:00",
          "2017-11-30T00:00:00",
          "2017-12-31T00:00:00",
          "2018-01-31T00:00:00",
          "2018-02-28T00:00:00",
          "2018-03-31T00:00:00",
          "2018-04-30T00:00:00",
          "2018-05-31T00:00:00",
          "2018-06-30T00:00:00",
          "2018-07-31T00:00:00",
          "2018-08-31T00:00:00",
          "2018-09-30T00:00:00",
          "2018-10-31T00:00:00",
          "2018-11-30T00:00:00",
          "2018-12-31T00:00:00",
          "2019-01-31T00:00:00",
          "2019-02-28T00:00:00",
          "2019-03-31T00:00:00",
          "2019-04-30T00:00:00",
          "2019-05-31T00:00:00",
          "2019-06-30T00:00:00",
          "2019-07-31T00:00:00",
          "2019-08-31T00:00:00",
          "2019-09-30T00:00:00",
          "2019-10-31T00:00:00"
         ],
         "xaxis": "x",
         "y": [
          5538.0288892335875,
          4534.695589105179,
          4495.871916270461,
          4583.052870304883,
          5398.063488765588,
          4480.792136694242,
          5863.999267594223,
          4706.904394956457,
          4600.212226907279,
          6046.349806296697,
          4959.31637700113,
          5363.91933859584,
          5713.438784406527,
          4798.042003398059,
          4761.838336031885,
          5883.35491390878,
          4494.129535152055,
          4581.141475359369,
          5984.182809015432,
          4695.8967140342675,
          4687.279367011564,
          6034.102322477246,
          4885.1418325551,
          5290.498358544615,
          4580.334997531797,
          4772.575693476654,
          4836.946320427939,
          5842.717688257904,
          4464.381493543433,
          4557.698121426273,
          5871.87312649967,
          4790.209757735365,
          5992.997085059876,
          4805.173148000663
         ],
         "yaxis": "y"
        },
        {
         "hovertemplate": "COMUNIDAD=Cantabria<br>Años=%{x}<br>Consumo / 100.000 hab.=%{y}<extra></extra>",
         "legendgroup": "Cantabria",
         "line": {
          "color": "#FF6692",
          "dash": "solid"
         },
         "marker": {
          "symbol": "circle"
         },
         "mode": "lines",
         "name": "Cantabria",
         "orientation": "v",
         "showlegend": true,
         "type": "scatter",
         "x": [
          "2017-01-31T00:00:00",
          "2017-02-28T00:00:00",
          "2017-03-31T00:00:00",
          "2017-04-30T00:00:00",
          "2017-05-31T00:00:00",
          "2017-06-30T00:00:00",
          "2017-07-31T00:00:00",
          "2017-08-31T00:00:00",
          "2017-09-30T00:00:00",
          "2017-10-31T00:00:00",
          "2017-11-30T00:00:00",
          "2017-12-31T00:00:00",
          "2018-01-31T00:00:00",
          "2018-02-28T00:00:00",
          "2018-03-31T00:00:00",
          "2018-04-30T00:00:00",
          "2018-05-31T00:00:00",
          "2018-06-30T00:00:00",
          "2018-07-31T00:00:00",
          "2018-08-31T00:00:00",
          "2018-09-30T00:00:00",
          "2018-10-31T00:00:00",
          "2018-11-30T00:00:00",
          "2018-12-31T00:00:00",
          "2019-01-31T00:00:00",
          "2019-02-28T00:00:00",
          "2019-03-31T00:00:00",
          "2019-04-30T00:00:00",
          "2019-05-31T00:00:00",
          "2019-06-30T00:00:00",
          "2019-07-31T00:00:00",
          "2019-08-31T00:00:00",
          "2019-09-30T00:00:00",
          "2019-10-31T00:00:00"
         ],
         "xaxis": "x",
         "y": [
          4938.376170740745,
          4122.773761621244,
          4207.742613670633,
          4637.098372379565,
          5435.535374249304,
          4720.879897293618,
          7079.054618771486,
          5728.825855814715,
          4445.1615126788965,
          5446.405707441905,
          4408.643879406164,
          5068.713326842381,
          5014.385699439359,
          4185.187227801437,
          4456.673141121868,
          5660.659842924088,
          4484.8999274424405,
          4801.11817920166,
          7222.932669687314,
          5897.566305717225,
          4668.803179434327,
          5563.860131086174,
          4447.444026410262,
          5015.912682751121,
          4129.560919532318,
          4254.162091836208,
          4466.3969381046945,
          5773.111355102069,
          4531.267747187125,
          4683.27659969918,
          6981.030085461849,
          6327.012896719544,
          6145.846168672709,
          4499.793487277096
         ],
         "yaxis": "y"
        },
        {
         "hovertemplate": "COMUNIDAD=Castilla_La_Mancha<br>Años=%{x}<br>Consumo / 100.000 hab.=%{y}<extra></extra>",
         "legendgroup": "Castilla_La_Mancha",
         "line": {
          "color": "#B6E880",
          "dash": "solid"
         },
         "marker": {
          "symbol": "circle"
         },
         "mode": "lines",
         "name": "Castilla_La_Mancha",
         "orientation": "v",
         "showlegend": true,
         "type": "scatter",
         "x": [
          "2017-01-31T00:00:00",
          "2017-02-28T00:00:00",
          "2017-03-31T00:00:00",
          "2017-04-30T00:00:00",
          "2017-05-31T00:00:00",
          "2017-06-30T00:00:00",
          "2017-07-31T00:00:00",
          "2017-08-31T00:00:00",
          "2017-09-30T00:00:00",
          "2017-10-31T00:00:00",
          "2017-11-30T00:00:00",
          "2017-12-31T00:00:00",
          "2018-01-31T00:00:00",
          "2018-02-28T00:00:00",
          "2018-03-31T00:00:00",
          "2018-04-30T00:00:00",
          "2018-05-31T00:00:00",
          "2018-06-30T00:00:00",
          "2018-07-31T00:00:00",
          "2018-08-31T00:00:00",
          "2018-09-30T00:00:00",
          "2018-10-31T00:00:00",
          "2018-11-30T00:00:00",
          "2018-12-31T00:00:00",
          "2019-01-31T00:00:00",
          "2019-02-28T00:00:00",
          "2019-03-31T00:00:00",
          "2019-04-30T00:00:00",
          "2019-05-31T00:00:00",
          "2019-06-30T00:00:00",
          "2019-07-31T00:00:00",
          "2019-08-31T00:00:00",
          "2019-09-30T00:00:00",
          "2019-10-31T00:00:00"
         ],
         "xaxis": "x",
         "y": [
          3518.096421375756,
          2940.9051238038887,
          2992.7176210042044,
          3104.9713041582017,
          3752.304601721209,
          3200.1827240153602,
          4094.3214278857913,
          3305.8756698937077,
          3166.5491004337237,
          3901.1050569560402,
          3189.1262474285977,
          3725.977969745195,
          3603.462983895359,
          3090.767892552177,
          3142.4753318890253,
          4014.1074113124732,
          3133.5953546637643,
          3339.9899447752055,
          4279.096134955129,
          3400.826521716177,
          3280.348844265882,
          3967.322986352425,
          3204.650467459408,
          3774.7155994626037,
          2937.6288515261485,
          3085.4740334198614,
          3199.455152659082,
          4074.153054091692,
          3223.9299942986813,
          3270.6503094404293,
          4329.162368541313,
          3524.1366486575826,
          4225.1976645745435,
          3283.58674440924
         ],
         "yaxis": "y"
        },
        {
         "hovertemplate": "COMUNIDAD=Castilla_y_Leon<br>Años=%{x}<br>Consumo / 100.000 hab.=%{y}<extra></extra>",
         "legendgroup": "Castilla_y_Leon",
         "line": {
          "color": "#FF97FF",
          "dash": "solid"
         },
         "marker": {
          "symbol": "circle"
         },
         "mode": "lines",
         "name": "Castilla_y_Leon",
         "orientation": "v",
         "showlegend": true,
         "type": "scatter",
         "x": [
          "2017-01-31T00:00:00",
          "2017-02-28T00:00:00",
          "2017-03-31T00:00:00",
          "2017-04-30T00:00:00",
          "2017-05-31T00:00:00",
          "2017-06-30T00:00:00",
          "2017-07-31T00:00:00",
          "2017-08-31T00:00:00",
          "2017-09-30T00:00:00",
          "2017-10-31T00:00:00",
          "2017-11-30T00:00:00",
          "2017-12-31T00:00:00",
          "2018-01-31T00:00:00",
          "2018-02-28T00:00:00",
          "2018-03-31T00:00:00",
          "2018-04-30T00:00:00",
          "2018-05-31T00:00:00",
          "2018-06-30T00:00:00",
          "2018-07-31T00:00:00",
          "2018-08-31T00:00:00",
          "2018-09-30T00:00:00",
          "2018-10-31T00:00:00",
          "2018-11-30T00:00:00",
          "2018-12-31T00:00:00",
          "2019-01-31T00:00:00",
          "2019-02-28T00:00:00",
          "2019-03-31T00:00:00",
          "2019-04-30T00:00:00",
          "2019-05-31T00:00:00",
          "2019-06-30T00:00:00",
          "2019-07-31T00:00:00",
          "2019-08-31T00:00:00",
          "2019-09-30T00:00:00",
          "2019-10-31T00:00:00"
         ],
         "xaxis": "x",
         "y": [
          3862.563334750048,
          3226.0630612321456,
          3292.6905380944268,
          3531.350675508832,
          4208.409510920311,
          3626.4730701322983,
          4892.44913329659,
          3970.656702672643,
          3450.130905214401,
          4298.529846430107,
          3499.3723722597197,
          4096.873568771717,
          4006.020345646872,
          3392.821327232185,
          3533.1683521752775,
          4433.701898251841,
          3556.249387754425,
          3705.7950392750345,
          5102.036225014154,
          4208.203758648228,
          3619.3517751385957,
          4412.1309300653675,
          3586.0891994069307,
          4168.649788889424,
          3324.072283613414,
          3456.9493921355192,
          3571.4934646025,
          4617.805936784762,
          3668.0124756829205,
          3785.2441376459233,
          5154.804571527638,
          4445.1409182062625,
          4745.171590649573,
          3634.065665700374
         ],
         "yaxis": "y"
        },
        {
         "hovertemplate": "COMUNIDAD=Catalunya<br>Años=%{x}<br>Consumo / 100.000 hab.=%{y}<extra></extra>",
         "legendgroup": "Catalunya",
         "line": {
          "color": "#FECB52",
          "dash": "solid"
         },
         "marker": {
          "symbol": "circle"
         },
         "mode": "lines",
         "name": "Catalunya",
         "orientation": "v",
         "showlegend": true,
         "type": "scatter",
         "x": [
          "2017-01-31T00:00:00",
          "2017-02-28T00:00:00",
          "2017-03-31T00:00:00",
          "2017-04-30T00:00:00",
          "2017-05-31T00:00:00",
          "2017-06-30T00:00:00",
          "2017-07-31T00:00:00",
          "2017-08-31T00:00:00",
          "2017-09-30T00:00:00",
          "2017-10-31T00:00:00",
          "2017-11-30T00:00:00",
          "2017-12-31T00:00:00",
          "2018-01-31T00:00:00",
          "2018-02-28T00:00:00",
          "2018-03-31T00:00:00",
          "2018-04-30T00:00:00",
          "2018-05-31T00:00:00",
          "2018-06-30T00:00:00",
          "2018-07-31T00:00:00",
          "2018-08-31T00:00:00",
          "2018-09-30T00:00:00",
          "2018-10-31T00:00:00",
          "2018-11-30T00:00:00",
          "2018-12-31T00:00:00",
          "2019-01-31T00:00:00",
          "2019-02-28T00:00:00",
          "2019-03-31T00:00:00",
          "2019-04-30T00:00:00",
          "2019-05-31T00:00:00",
          "2019-06-30T00:00:00",
          "2019-07-31T00:00:00",
          "2019-08-31T00:00:00",
          "2019-09-30T00:00:00",
          "2019-10-31T00:00:00"
         ],
         "xaxis": "x",
         "y": [
          4423.45433923209,
          3671.2089869676793,
          3724.95596115847,
          3885.8773953357877,
          4812.876282287982,
          4134.352943356323,
          5455.8845289002,
          4235.5001369803185,
          4015.3126790835686,
          4951.608625392578,
          4045.02059998703,
          4609.16404948232,
          4489.518839641502,
          3855.0179505043707,
          3919.521083043369,
          4955.561564276095,
          3991.5633616291434,
          4257.559902448203,
          5610.419647726698,
          4350.991208627821,
          4170.73380293458,
          5125.478795247147,
          4141.784182108969,
          4732.568603031686,
          3826.176119841302,
          3906.465054994536,
          4034.741428157667,
          5115.256936709411,
          4094.157598410572,
          4363.57486700376,
          5648.345708010601,
          4516.894440899847,
          5407.064060859778,
          4179.886510049162
         ],
         "yaxis": "y"
        },
        {
         "hovertemplate": "COMUNIDAD=Ceuta_y_Melilla<br>Años=%{x}<br>Consumo / 100.000 hab.=%{y}<extra></extra>",
         "legendgroup": "Ceuta_y_Melilla",
         "line": {
          "color": "#636efa",
          "dash": "solid"
         },
         "marker": {
          "symbol": "circle"
         },
         "mode": "lines",
         "name": "Ceuta_y_Melilla",
         "orientation": "v",
         "showlegend": true,
         "type": "scatter",
         "x": [
          "2017-01-31T00:00:00",
          "2017-02-28T00:00:00",
          "2017-03-31T00:00:00",
          "2017-04-30T00:00:00",
          "2017-05-31T00:00:00",
          "2017-06-30T00:00:00",
          "2017-07-31T00:00:00",
          "2017-08-31T00:00:00",
          "2017-09-30T00:00:00",
          "2017-10-31T00:00:00",
          "2017-11-30T00:00:00",
          "2017-12-31T00:00:00",
          "2018-01-31T00:00:00",
          "2018-02-28T00:00:00",
          "2018-03-31T00:00:00",
          "2018-04-30T00:00:00",
          "2018-05-31T00:00:00",
          "2018-06-30T00:00:00",
          "2018-07-31T00:00:00",
          "2018-08-31T00:00:00",
          "2018-09-30T00:00:00",
          "2018-10-31T00:00:00",
          "2018-11-30T00:00:00",
          "2018-12-31T00:00:00",
          "2019-01-31T00:00:00",
          "2019-02-28T00:00:00",
          "2019-03-31T00:00:00",
          "2019-04-30T00:00:00",
          "2019-05-31T00:00:00",
          "2019-06-30T00:00:00",
          "2019-07-31T00:00:00",
          "2019-08-31T00:00:00",
          "2019-09-30T00:00:00",
          "2019-10-31T00:00:00"
         ],
         "xaxis": "x",
         "y": [
          729.9376311528591,
          597.7355490738197,
          718.4049474219512,
          1177.42095756931,
          1508.0226094377451,
          1215.239743042688,
          1398.7806802705181,
          1136.0307226486009,
          1124.5623366982504,
          1550.7455619918283,
          1345.6590230244508,
          1706.240976391024,
          2334.09705704025,
          1931.375635464764,
          1694.0557809803647,
          2504.226715171867,
          2109.165850473392,
          1823.8421715405066,
          2252.04631313838,
          1785.1371204701275,
          2348.0306422275085,
          2926.023739564386,
          2532.4553425679774,
          2921.3539480434683,
          2533.381212630792,
          2800.594403961136,
          2743.7815302690583,
          3450.9937873692074,
          2909.1636304185354,
          2467.6697963378174,
          3301.9607156203288,
          2616.843002615845,
          3456.529101270553,
          2706.634202167414
         ],
         "yaxis": "y"
        },
        {
         "hovertemplate": "COMUNIDAD=Extremadura<br>Años=%{x}<br>Consumo / 100.000 hab.=%{y}<extra></extra>",
         "legendgroup": "Extremadura",
         "line": {
          "color": "#EF553B",
          "dash": "solid"
         },
         "marker": {
          "symbol": "circle"
         },
         "mode": "lines",
         "name": "Extremadura",
         "orientation": "v",
         "showlegend": true,
         "type": "scatter",
         "x": [
          "2017-01-31T00:00:00",
          "2017-02-28T00:00:00",
          "2017-03-31T00:00:00",
          "2017-04-30T00:00:00",
          "2017-05-31T00:00:00",
          "2017-06-30T00:00:00",
          "2017-07-31T00:00:00",
          "2017-08-31T00:00:00",
          "2017-09-30T00:00:00",
          "2017-10-31T00:00:00",
          "2017-11-30T00:00:00",
          "2017-12-31T00:00:00",
          "2018-01-31T00:00:00",
          "2018-02-28T00:00:00",
          "2018-03-31T00:00:00",
          "2018-04-30T00:00:00",
          "2018-05-31T00:00:00",
          "2018-06-30T00:00:00",
          "2018-07-31T00:00:00",
          "2018-08-31T00:00:00",
          "2018-09-30T00:00:00",
          "2018-10-31T00:00:00",
          "2018-11-30T00:00:00",
          "2018-12-31T00:00:00",
          "2019-01-31T00:00:00",
          "2019-02-28T00:00:00",
          "2019-03-31T00:00:00",
          "2019-04-30T00:00:00",
          "2019-05-31T00:00:00",
          "2019-06-30T00:00:00",
          "2019-07-31T00:00:00",
          "2019-08-31T00:00:00",
          "2019-09-30T00:00:00",
          "2019-10-31T00:00:00"
         ],
         "xaxis": "x",
         "y": [
          3387.5574116601233,
          2903.6687902807616,
          2964.0751166753093,
          3377.821505296689,
          3843.40136306393,
          3196.6821616416028,
          4156.457885769316,
          3505.801355655974,
          3223.8508408030225,
          3945.9913697310917,
          3149.7749833320986,
          3877.1788651011184,
          3521.951078562687,
          3048.1338251016205,
          3214.8773888185165,
          4080.0689370404234,
          3244.7162405637996,
          3317.9473986893013,
          4385.651290052877,
          3723.1426566113287,
          3331.628549031889,
          4165.39110771832,
          3307.94798590314,
          4113.885929517562,
          2917.039270963089,
          3119.9164567157754,
          3213.378164482865,
          4389.720055071133,
          3319.007970329022,
          3333.5053525770104,
          4298.441524383962,
          3802.145713723764,
          4408.55475737794,
          3393.451405344148
         ],
         "yaxis": "y"
        },
        {
         "hovertemplate": "COMUNIDAD=Galicia<br>Años=%{x}<br>Consumo / 100.000 hab.=%{y}<extra></extra>",
         "legendgroup": "Galicia",
         "line": {
          "color": "#00cc96",
          "dash": "solid"
         },
         "marker": {
          "symbol": "circle"
         },
         "mode": "lines",
         "name": "Galicia",
         "orientation": "v",
         "showlegend": true,
         "type": "scatter",
         "x": [
          "2017-01-31T00:00:00",
          "2017-02-28T00:00:00",
          "2017-03-31T00:00:00",
          "2017-04-30T00:00:00",
          "2017-05-31T00:00:00",
          "2017-06-30T00:00:00",
          "2017-07-31T00:00:00",
          "2017-08-31T00:00:00",
          "2017-09-30T00:00:00",
          "2017-10-31T00:00:00",
          "2017-11-30T00:00:00",
          "2017-12-31T00:00:00",
          "2018-01-31T00:00:00",
          "2018-02-28T00:00:00",
          "2018-03-31T00:00:00",
          "2018-04-30T00:00:00",
          "2018-05-31T00:00:00",
          "2018-06-30T00:00:00",
          "2018-07-31T00:00:00",
          "2018-08-31T00:00:00",
          "2018-09-30T00:00:00",
          "2018-10-31T00:00:00",
          "2018-11-30T00:00:00",
          "2018-12-31T00:00:00",
          "2019-01-31T00:00:00",
          "2019-02-28T00:00:00",
          "2019-03-31T00:00:00",
          "2019-04-30T00:00:00",
          "2019-05-31T00:00:00",
          "2019-06-30T00:00:00",
          "2019-07-31T00:00:00",
          "2019-08-31T00:00:00",
          "2019-09-30T00:00:00",
          "2019-10-31T00:00:00"
         ],
         "xaxis": "x",
         "y": [
          4142.824070398868,
          3383.723012518005,
          3478.0273075120954,
          3706.2343377250777,
          4513.136649437164,
          3829.0993114229796,
          5107.073006739555,
          4054.5072090310705,
          3688.4108673249543,
          4520.389803492104,
          3630.2885273963125,
          4162.3873525433855,
          4197.023180961328,
          3515.69893953644,
          3608.142225222754,
          4688.226452330959,
          3760.5020166610966,
          3903.733256642101,
          5204.51760215535,
          4203.015608812533,
          3823.0768063431647,
          4632.425808080191,
          3716.8128130617906,
          4167.244626894564,
          3505.4423061464367,
          3600.2110021155777,
          3647.8361355199613,
          4779.229775599102,
          3815.0908742696324,
          3971.196507203744,
          5159.905226858762,
          4423.525254130489,
          4965.920342996978,
          3782.8919366149053
         ],
         "yaxis": "y"
        },
        {
         "hovertemplate": "COMUNIDAD=La_Rioja<br>Años=%{x}<br>Consumo / 100.000 hab.=%{y}<extra></extra>",
         "legendgroup": "La_Rioja",
         "line": {
          "color": "#ab63fa",
          "dash": "solid"
         },
         "marker": {
          "symbol": "circle"
         },
         "mode": "lines",
         "name": "La_Rioja",
         "orientation": "v",
         "showlegend": true,
         "type": "scatter",
         "x": [
          "2017-01-31T00:00:00",
          "2017-02-28T00:00:00",
          "2017-03-31T00:00:00",
          "2017-04-30T00:00:00",
          "2017-05-31T00:00:00",
          "2017-06-30T00:00:00",
          "2017-07-31T00:00:00",
          "2017-08-31T00:00:00",
          "2017-09-30T00:00:00",
          "2017-10-31T00:00:00",
          "2017-11-30T00:00:00",
          "2017-12-31T00:00:00",
          "2018-01-31T00:00:00",
          "2018-02-28T00:00:00",
          "2018-03-31T00:00:00",
          "2018-04-30T00:00:00",
          "2018-05-31T00:00:00",
          "2018-06-30T00:00:00",
          "2018-07-31T00:00:00",
          "2018-08-31T00:00:00",
          "2018-09-30T00:00:00",
          "2018-10-31T00:00:00",
          "2018-11-30T00:00:00",
          "2018-12-31T00:00:00",
          "2019-01-31T00:00:00",
          "2019-02-28T00:00:00",
          "2019-03-31T00:00:00",
          "2019-04-30T00:00:00",
          "2019-05-31T00:00:00",
          "2019-06-30T00:00:00",
          "2019-07-31T00:00:00",
          "2019-08-31T00:00:00",
          "2019-09-30T00:00:00",
          "2019-10-31T00:00:00"
         ],
         "xaxis": "x",
         "y": [
          4012.638681467812,
          3263.4718007743013,
          3397.944073993043,
          3633.322869798751,
          4381.215101734094,
          3626.7118184037718,
          4825.801173818334,
          3809.5161090871043,
          3540.7301010523784,
          4407.510281215419,
          3606.5552458772086,
          4114.531312919928,
          4141.43660410232,
          3418.8928486576383,
          3549.5240357963094,
          4526.950186109131,
          3596.87970222539,
          3698.490536152689,
          4966.928011404134,
          3935.5254613130596,
          3629.270610596341,
          4523.674665399541,
          3657.2899342678384,
          4253.273144848341,
          3409.7879405804324,
          3525.1958661355184,
          3624.066439813382,
          4630.474308549928,
          3729.925693975341,
          3818.1838269180994,
          5318.679410854867,
          4228.732504624398,
          4869.235285576297,
          3851.8930043750274
         ],
         "yaxis": "y"
        },
        {
         "hovertemplate": "COMUNIDAD=Madrid<br>Años=%{x}<br>Consumo / 100.000 hab.=%{y}<extra></extra>",
         "legendgroup": "Madrid",
         "line": {
          "color": "#FFA15A",
          "dash": "solid"
         },
         "marker": {
          "symbol": "circle"
         },
         "mode": "lines",
         "name": "Madrid",
         "orientation": "v",
         "showlegend": true,
         "type": "scatter",
         "x": [
          "2017-01-31T00:00:00",
          "2017-02-28T00:00:00",
          "2017-03-31T00:00:00",
          "2017-04-30T00:00:00",
          "2017-05-31T00:00:00",
          "2017-06-30T00:00:00",
          "2017-07-31T00:00:00",
          "2017-08-31T00:00:00",
          "2017-09-30T00:00:00",
          "2017-10-31T00:00:00",
          "2017-11-30T00:00:00",
          "2017-12-31T00:00:00",
          "2018-01-31T00:00:00",
          "2018-02-28T00:00:00",
          "2018-03-31T00:00:00",
          "2018-04-30T00:00:00",
          "2018-05-31T00:00:00",
          "2018-06-30T00:00:00",
          "2018-07-31T00:00:00",
          "2018-08-31T00:00:00",
          "2018-09-30T00:00:00",
          "2018-10-31T00:00:00",
          "2018-11-30T00:00:00",
          "2018-12-31T00:00:00",
          "2019-01-31T00:00:00",
          "2019-02-28T00:00:00",
          "2019-03-31T00:00:00",
          "2019-04-30T00:00:00",
          "2019-05-31T00:00:00",
          "2019-06-30T00:00:00",
          "2019-07-31T00:00:00",
          "2019-08-31T00:00:00",
          "2019-09-30T00:00:00",
          "2019-10-31T00:00:00"
         ],
         "xaxis": "x",
         "y": [
          4547.329075065343,
          3763.1637587011523,
          3726.2533224817375,
          3633.406708646936,
          4708.067729451019,
          3816.9022114635145,
          4178.440474404904,
          3134.5217839237375,
          3842.059483795141,
          4909.553963742226,
          4107.406521776547,
          4612.136985829815,
          4590.147518751295,
          3929.3480665099946,
          3713.585379561419,
          4969.84013113859,
          3988.9537659854805,
          4007.2931626391237,
          4460.068965422884,
          3235.916139043025,
          3980.3282994929064,
          5006.97878514381,
          4158.019385294703,
          4727.239061738237,
          3727.4866231833207,
          3933.3465798360417,
          4030.558751291009,
          4894.676046471213,
          3963.8918244966453,
          4102.840234271004,
          4743.025701316777,
          3208.903900924964,
          5048.69905636677,
          4133.874569025935
         ],
         "yaxis": "y"
        },
        {
         "hovertemplate": "COMUNIDAD=Murcia<br>Años=%{x}<br>Consumo / 100.000 hab.=%{y}<extra></extra>",
         "legendgroup": "Murcia",
         "line": {
          "color": "#19d3f3",
          "dash": "solid"
         },
         "marker": {
          "symbol": "circle"
         },
         "mode": "lines",
         "name": "Murcia",
         "orientation": "v",
         "showlegend": true,
         "type": "scatter",
         "x": [
          "2017-01-31T00:00:00",
          "2017-02-28T00:00:00",
          "2017-03-31T00:00:00",
          "2017-04-30T00:00:00",
          "2017-05-31T00:00:00",
          "2017-06-30T00:00:00",
          "2017-07-31T00:00:00",
          "2017-08-31T00:00:00",
          "2017-09-30T00:00:00",
          "2017-10-31T00:00:00",
          "2017-11-30T00:00:00",
          "2017-12-31T00:00:00",
          "2018-01-31T00:00:00",
          "2018-02-28T00:00:00",
          "2018-03-31T00:00:00",
          "2018-04-30T00:00:00",
          "2018-05-31T00:00:00",
          "2018-06-30T00:00:00",
          "2018-07-31T00:00:00",
          "2018-08-31T00:00:00",
          "2018-09-30T00:00:00",
          "2018-10-31T00:00:00",
          "2018-11-30T00:00:00",
          "2018-12-31T00:00:00",
          "2019-01-31T00:00:00",
          "2019-02-28T00:00:00",
          "2019-03-31T00:00:00",
          "2019-04-30T00:00:00",
          "2019-05-31T00:00:00",
          "2019-06-30T00:00:00",
          "2019-07-31T00:00:00",
          "2019-08-31T00:00:00",
          "2019-09-30T00:00:00",
          "2019-10-31T00:00:00"
         ],
         "xaxis": "x",
         "y": [
          3517.590950796213,
          2969.9341550854842,
          3020.3200358028744,
          3257.8167455975868,
          3868.601953514755,
          3430.4737963629887,
          4921.043914973614,
          3846.7060199024268,
          3369.7156922557924,
          4060.415310625986,
          3258.5390604329946,
          3838.6789392174105,
          3570.269102183348,
          3123.2897466298814,
          3251.378922955491,
          4118.023630562952,
          3306.2504184959303,
          3538.9943517421943,
          4972.359992397746,
          3903.9397122371256,
          3496.855954207922,
          4172.627288707746,
          3325.2837825133297,
          3907.250480044423,
          2958.0968714062137,
          3134.7280738042355,
          3257.3482259163607,
          4181.126823919706,
          3300.8384775935174,
          3458.125655165212,
          4999.27839785581,
          4230.071263232162,
          4599.099804672073,
          3514.813595037948
         ],
         "yaxis": "y"
        },
        {
         "hovertemplate": "COMUNIDAD=Navarra<br>Años=%{x}<br>Consumo / 100.000 hab.=%{y}<extra></extra>",
         "legendgroup": "Navarra",
         "line": {
          "color": "#FF6692",
          "dash": "solid"
         },
         "marker": {
          "symbol": "circle"
         },
         "mode": "lines",
         "name": "Navarra",
         "orientation": "v",
         "showlegend": true,
         "type": "scatter",
         "x": [
          "2017-01-31T00:00:00",
          "2017-02-28T00:00:00",
          "2017-03-31T00:00:00",
          "2017-04-30T00:00:00",
          "2017-05-31T00:00:00",
          "2017-06-30T00:00:00",
          "2017-07-31T00:00:00",
          "2017-08-31T00:00:00",
          "2017-09-30T00:00:00",
          "2017-10-31T00:00:00",
          "2017-11-30T00:00:00",
          "2017-12-31T00:00:00",
          "2018-01-31T00:00:00",
          "2018-02-28T00:00:00",
          "2018-03-31T00:00:00",
          "2018-04-30T00:00:00",
          "2018-05-31T00:00:00",
          "2018-06-30T00:00:00",
          "2018-07-31T00:00:00",
          "2018-08-31T00:00:00",
          "2018-09-30T00:00:00",
          "2018-10-31T00:00:00",
          "2018-11-30T00:00:00",
          "2018-12-31T00:00:00",
          "2019-01-31T00:00:00",
          "2019-02-28T00:00:00",
          "2019-03-31T00:00:00",
          "2019-04-30T00:00:00",
          "2019-05-31T00:00:00",
          "2019-06-30T00:00:00",
          "2019-07-31T00:00:00",
          "2019-08-31T00:00:00",
          "2019-09-30T00:00:00",
          "2019-10-31T00:00:00"
         ],
         "xaxis": "x",
         "y": [
          4005.958951174845,
          3310.1235320272253,
          3342.186513772593,
          3369.2373226539644,
          4269.719884210102,
          3509.1646274917057,
          4281.019038172733,
          3401.115301740891,
          3395.134585547406,
          4259.30843207915,
          3535.551603304552,
          3937.8639810706522,
          4065.193018651726,
          3428.7735076920226,
          3422.06209829605,
          4324.030119495826,
          3527.6918990539784,
          3561.364766490517,
          4402.516238028025,
          3469.73534253514,
          3532.669090145377,
          4385.765511447694,
          3632.2638729743,
          3963.9381426105006,
          3356.323771732186,
          3466.6332423335484,
          3498.5524614269953,
          4397.273674974856,
          3573.34603050378,
          3562.46579865304,
          4466.705084269061,
          3537.313478464233,
          4479.21628091114,
          3551.055159320956
         ],
         "yaxis": "y"
        },
        {
         "hovertemplate": "COMUNIDAD=Pais_Vasco<br>Años=%{x}<br>Consumo / 100.000 hab.=%{y}<extra></extra>",
         "legendgroup": "Pais_Vasco",
         "line": {
          "color": "#B6E880",
          "dash": "solid"
         },
         "marker": {
          "symbol": "circle"
         },
         "mode": "lines",
         "name": "Pais_Vasco",
         "orientation": "v",
         "showlegend": true,
         "type": "scatter",
         "x": [
          "2017-01-31T00:00:00",
          "2017-02-28T00:00:00",
          "2017-03-31T00:00:00",
          "2017-04-30T00:00:00",
          "2017-05-31T00:00:00",
          "2017-06-30T00:00:00",
          "2017-07-31T00:00:00",
          "2017-08-31T00:00:00",
          "2017-09-30T00:00:00",
          "2017-10-31T00:00:00",
          "2017-11-30T00:00:00",
          "2017-12-31T00:00:00",
          "2018-01-31T00:00:00",
          "2018-02-28T00:00:00",
          "2018-03-31T00:00:00",
          "2018-04-30T00:00:00",
          "2018-05-31T00:00:00",
          "2018-06-30T00:00:00",
          "2018-07-31T00:00:00",
          "2018-08-31T00:00:00",
          "2018-09-30T00:00:00",
          "2018-10-31T00:00:00",
          "2018-11-30T00:00:00",
          "2018-12-31T00:00:00",
          "2019-01-31T00:00:00",
          "2019-02-28T00:00:00",
          "2019-03-31T00:00:00",
          "2019-04-30T00:00:00",
          "2019-05-31T00:00:00",
          "2019-06-30T00:00:00",
          "2019-07-31T00:00:00",
          "2019-08-31T00:00:00",
          "2019-09-30T00:00:00",
          "2019-10-31T00:00:00"
         ],
         "xaxis": "x",
         "y": [
          4526.190912413782,
          3723.245089916041,
          3757.2982437910123,
          3612.651869190824,
          4727.59755678488,
          3810.9826183893774,
          4492.449039677179,
          3419.717267398246,
          3767.3991572165723,
          4807.533003548513,
          4063.555587154617,
          4584.376330236929,
          4648.125495660019,
          3896.283823112127,
          3806.4720465938603,
          4864.034090495696,
          3974.738164184425,
          3897.615738888121,
          4697.202203822676,
          3514.8684363699863,
          3924.2067620759153,
          4915.283517530904,
          4109.890099895957,
          4583.169477528866,
          3823.9096719957092,
          3931.2760896032933,
          3999.530296551824,
          4877.0826388184305,
          4047.322282695346,
          4063.5381487977047,
          4965.922720420913,
          3543.5891141130264,
          4981.481364051425,
          3995.1770469467915
         ],
         "yaxis": "y"
        }
       ],
       "layout": {
        "legend": {
         "title": {
          "text": "COMUNIDAD"
         },
         "tracegroupgap": 0
        },
        "template": {
         "data": {
          "bar": [
           {
            "error_x": {
             "color": "#2a3f5f"
            },
            "error_y": {
             "color": "#2a3f5f"
            },
            "marker": {
             "line": {
              "color": "#E5ECF6",
              "width": 0.5
             },
             "pattern": {
              "fillmode": "overlay",
              "size": 10,
              "solidity": 0.2
             }
            },
            "type": "bar"
           }
          ],
          "barpolar": [
           {
            "marker": {
             "line": {
              "color": "#E5ECF6",
              "width": 0.5
             },
             "pattern": {
              "fillmode": "overlay",
              "size": 10,
              "solidity": 0.2
             }
            },
            "type": "barpolar"
           }
          ],
          "carpet": [
           {
            "aaxis": {
             "endlinecolor": "#2a3f5f",
             "gridcolor": "white",
             "linecolor": "white",
             "minorgridcolor": "white",
             "startlinecolor": "#2a3f5f"
            },
            "baxis": {
             "endlinecolor": "#2a3f5f",
             "gridcolor": "white",
             "linecolor": "white",
             "minorgridcolor": "white",
             "startlinecolor": "#2a3f5f"
            },
            "type": "carpet"
           }
          ],
          "choropleth": [
           {
            "colorbar": {
             "outlinewidth": 0,
             "ticks": ""
            },
            "type": "choropleth"
           }
          ],
          "contour": [
           {
            "colorbar": {
             "outlinewidth": 0,
             "ticks": ""
            },
            "colorscale": [
             [
              0,
              "#0d0887"
             ],
             [
              0.1111111111111111,
              "#46039f"
             ],
             [
              0.2222222222222222,
              "#7201a8"
             ],
             [
              0.3333333333333333,
              "#9c179e"
             ],
             [
              0.4444444444444444,
              "#bd3786"
             ],
             [
              0.5555555555555556,
              "#d8576b"
             ],
             [
              0.6666666666666666,
              "#ed7953"
             ],
             [
              0.7777777777777778,
              "#fb9f3a"
             ],
             [
              0.8888888888888888,
              "#fdca26"
             ],
             [
              1,
              "#f0f921"
             ]
            ],
            "type": "contour"
           }
          ],
          "contourcarpet": [
           {
            "colorbar": {
             "outlinewidth": 0,
             "ticks": ""
            },
            "type": "contourcarpet"
           }
          ],
          "heatmap": [
           {
            "colorbar": {
             "outlinewidth": 0,
             "ticks": ""
            },
            "colorscale": [
             [
              0,
              "#0d0887"
             ],
             [
              0.1111111111111111,
              "#46039f"
             ],
             [
              0.2222222222222222,
              "#7201a8"
             ],
             [
              0.3333333333333333,
              "#9c179e"
             ],
             [
              0.4444444444444444,
              "#bd3786"
             ],
             [
              0.5555555555555556,
              "#d8576b"
             ],
             [
              0.6666666666666666,
              "#ed7953"
             ],
             [
              0.7777777777777778,
              "#fb9f3a"
             ],
             [
              0.8888888888888888,
              "#fdca26"
             ],
             [
              1,
              "#f0f921"
             ]
            ],
            "type": "heatmap"
           }
          ],
          "heatmapgl": [
           {
            "colorbar": {
             "outlinewidth": 0,
             "ticks": ""
            },
            "colorscale": [
             [
              0,
              "#0d0887"
             ],
             [
              0.1111111111111111,
              "#46039f"
             ],
             [
              0.2222222222222222,
              "#7201a8"
             ],
             [
              0.3333333333333333,
              "#9c179e"
             ],
             [
              0.4444444444444444,
              "#bd3786"
             ],
             [
              0.5555555555555556,
              "#d8576b"
             ],
             [
              0.6666666666666666,
              "#ed7953"
             ],
             [
              0.7777777777777778,
              "#fb9f3a"
             ],
             [
              0.8888888888888888,
              "#fdca26"
             ],
             [
              1,
              "#f0f921"
             ]
            ],
            "type": "heatmapgl"
           }
          ],
          "histogram": [
           {
            "marker": {
             "pattern": {
              "fillmode": "overlay",
              "size": 10,
              "solidity": 0.2
             }
            },
            "type": "histogram"
           }
          ],
          "histogram2d": [
           {
            "colorbar": {
             "outlinewidth": 0,
             "ticks": ""
            },
            "colorscale": [
             [
              0,
              "#0d0887"
             ],
             [
              0.1111111111111111,
              "#46039f"
             ],
             [
              0.2222222222222222,
              "#7201a8"
             ],
             [
              0.3333333333333333,
              "#9c179e"
             ],
             [
              0.4444444444444444,
              "#bd3786"
             ],
             [
              0.5555555555555556,
              "#d8576b"
             ],
             [
              0.6666666666666666,
              "#ed7953"
             ],
             [
              0.7777777777777778,
              "#fb9f3a"
             ],
             [
              0.8888888888888888,
              "#fdca26"
             ],
             [
              1,
              "#f0f921"
             ]
            ],
            "type": "histogram2d"
           }
          ],
          "histogram2dcontour": [
           {
            "colorbar": {
             "outlinewidth": 0,
             "ticks": ""
            },
            "colorscale": [
             [
              0,
              "#0d0887"
             ],
             [
              0.1111111111111111,
              "#46039f"
             ],
             [
              0.2222222222222222,
              "#7201a8"
             ],
             [
              0.3333333333333333,
              "#9c179e"
             ],
             [
              0.4444444444444444,
              "#bd3786"
             ],
             [
              0.5555555555555556,
              "#d8576b"
             ],
             [
              0.6666666666666666,
              "#ed7953"
             ],
             [
              0.7777777777777778,
              "#fb9f3a"
             ],
             [
              0.8888888888888888,
              "#fdca26"
             ],
             [
              1,
              "#f0f921"
             ]
            ],
            "type": "histogram2dcontour"
           }
          ],
          "mesh3d": [
           {
            "colorbar": {
             "outlinewidth": 0,
             "ticks": ""
            },
            "type": "mesh3d"
           }
          ],
          "parcoords": [
           {
            "line": {
             "colorbar": {
              "outlinewidth": 0,
              "ticks": ""
             }
            },
            "type": "parcoords"
           }
          ],
          "pie": [
           {
            "automargin": true,
            "type": "pie"
           }
          ],
          "scatter": [
           {
            "fillpattern": {
             "fillmode": "overlay",
             "size": 10,
             "solidity": 0.2
            },
            "type": "scatter"
           }
          ],
          "scatter3d": [
           {
            "line": {
             "colorbar": {
              "outlinewidth": 0,
              "ticks": ""
             }
            },
            "marker": {
             "colorbar": {
              "outlinewidth": 0,
              "ticks": ""
             }
            },
            "type": "scatter3d"
           }
          ],
          "scattercarpet": [
           {
            "marker": {
             "colorbar": {
              "outlinewidth": 0,
              "ticks": ""
             }
            },
            "type": "scattercarpet"
           }
          ],
          "scattergeo": [
           {
            "marker": {
             "colorbar": {
              "outlinewidth": 0,
              "ticks": ""
             }
            },
            "type": "scattergeo"
           }
          ],
          "scattergl": [
           {
            "marker": {
             "colorbar": {
              "outlinewidth": 0,
              "ticks": ""
             }
            },
            "type": "scattergl"
           }
          ],
          "scattermapbox": [
           {
            "marker": {
             "colorbar": {
              "outlinewidth": 0,
              "ticks": ""
             }
            },
            "type": "scattermapbox"
           }
          ],
          "scatterpolar": [
           {
            "marker": {
             "colorbar": {
              "outlinewidth": 0,
              "ticks": ""
             }
            },
            "type": "scatterpolar"
           }
          ],
          "scatterpolargl": [
           {
            "marker": {
             "colorbar": {
              "outlinewidth": 0,
              "ticks": ""
             }
            },
            "type": "scatterpolargl"
           }
          ],
          "scatterternary": [
           {
            "marker": {
             "colorbar": {
              "outlinewidth": 0,
              "ticks": ""
             }
            },
            "type": "scatterternary"
           }
          ],
          "surface": [
           {
            "colorbar": {
             "outlinewidth": 0,
             "ticks": ""
            },
            "colorscale": [
             [
              0,
              "#0d0887"
             ],
             [
              0.1111111111111111,
              "#46039f"
             ],
             [
              0.2222222222222222,
              "#7201a8"
             ],
             [
              0.3333333333333333,
              "#9c179e"
             ],
             [
              0.4444444444444444,
              "#bd3786"
             ],
             [
              0.5555555555555556,
              "#d8576b"
             ],
             [
              0.6666666666666666,
              "#ed7953"
             ],
             [
              0.7777777777777778,
              "#fb9f3a"
             ],
             [
              0.8888888888888888,
              "#fdca26"
             ],
             [
              1,
              "#f0f921"
             ]
            ],
            "type": "surface"
           }
          ],
          "table": [
           {
            "cells": {
             "fill": {
              "color": "#EBF0F8"
             },
             "line": {
              "color": "white"
             }
            },
            "header": {
             "fill": {
              "color": "#C8D4E3"
             },
             "line": {
              "color": "white"
             }
            },
            "type": "table"
           }
          ]
         },
         "layout": {
          "annotationdefaults": {
           "arrowcolor": "#2a3f5f",
           "arrowhead": 0,
           "arrowwidth": 1
          },
          "autotypenumbers": "strict",
          "coloraxis": {
           "colorbar": {
            "outlinewidth": 0,
            "ticks": ""
           }
          },
          "colorscale": {
           "diverging": [
            [
             0,
             "#8e0152"
            ],
            [
             0.1,
             "#c51b7d"
            ],
            [
             0.2,
             "#de77ae"
            ],
            [
             0.3,
             "#f1b6da"
            ],
            [
             0.4,
             "#fde0ef"
            ],
            [
             0.5,
             "#f7f7f7"
            ],
            [
             0.6,
             "#e6f5d0"
            ],
            [
             0.7,
             "#b8e186"
            ],
            [
             0.8,
             "#7fbc41"
            ],
            [
             0.9,
             "#4d9221"
            ],
            [
             1,
             "#276419"
            ]
           ],
           "sequential": [
            [
             0,
             "#0d0887"
            ],
            [
             0.1111111111111111,
             "#46039f"
            ],
            [
             0.2222222222222222,
             "#7201a8"
            ],
            [
             0.3333333333333333,
             "#9c179e"
            ],
            [
             0.4444444444444444,
             "#bd3786"
            ],
            [
             0.5555555555555556,
             "#d8576b"
            ],
            [
             0.6666666666666666,
             "#ed7953"
            ],
            [
             0.7777777777777778,
             "#fb9f3a"
            ],
            [
             0.8888888888888888,
             "#fdca26"
            ],
            [
             1,
             "#f0f921"
            ]
           ],
           "sequentialminus": [
            [
             0,
             "#0d0887"
            ],
            [
             0.1111111111111111,
             "#46039f"
            ],
            [
             0.2222222222222222,
             "#7201a8"
            ],
            [
             0.3333333333333333,
             "#9c179e"
            ],
            [
             0.4444444444444444,
             "#bd3786"
            ],
            [
             0.5555555555555556,
             "#d8576b"
            ],
            [
             0.6666666666666666,
             "#ed7953"
            ],
            [
             0.7777777777777778,
             "#fb9f3a"
            ],
            [
             0.8888888888888888,
             "#fdca26"
            ],
            [
             1,
             "#f0f921"
            ]
           ]
          },
          "colorway": [
           "#636efa",
           "#EF553B",
           "#00cc96",
           "#ab63fa",
           "#FFA15A",
           "#19d3f3",
           "#FF6692",
           "#B6E880",
           "#FF97FF",
           "#FECB52"
          ],
          "font": {
           "color": "#2a3f5f"
          },
          "geo": {
           "bgcolor": "white",
           "lakecolor": "white",
           "landcolor": "#E5ECF6",
           "showlakes": true,
           "showland": true,
           "subunitcolor": "white"
          },
          "hoverlabel": {
           "align": "left"
          },
          "hovermode": "closest",
          "mapbox": {
           "style": "light"
          },
          "paper_bgcolor": "white",
          "plot_bgcolor": "#E5ECF6",
          "polar": {
           "angularaxis": {
            "gridcolor": "white",
            "linecolor": "white",
            "ticks": ""
           },
           "bgcolor": "#E5ECF6",
           "radialaxis": {
            "gridcolor": "white",
            "linecolor": "white",
            "ticks": ""
           }
          },
          "scene": {
           "xaxis": {
            "backgroundcolor": "#E5ECF6",
            "gridcolor": "white",
            "gridwidth": 2,
            "linecolor": "white",
            "showbackground": true,
            "ticks": "",
            "zerolinecolor": "white"
           },
           "yaxis": {
            "backgroundcolor": "#E5ECF6",
            "gridcolor": "white",
            "gridwidth": 2,
            "linecolor": "white",
            "showbackground": true,
            "ticks": "",
            "zerolinecolor": "white"
           },
           "zaxis": {
            "backgroundcolor": "#E5ECF6",
            "gridcolor": "white",
            "gridwidth": 2,
            "linecolor": "white",
            "showbackground": true,
            "ticks": "",
            "zerolinecolor": "white"
           }
          },
          "shapedefaults": {
           "line": {
            "color": "#2a3f5f"
           }
          },
          "ternary": {
           "aaxis": {
            "gridcolor": "white",
            "linecolor": "white",
            "ticks": ""
           },
           "baxis": {
            "gridcolor": "white",
            "linecolor": "white",
            "ticks": ""
           },
           "bgcolor": "#E5ECF6",
           "caxis": {
            "gridcolor": "white",
            "linecolor": "white",
            "ticks": ""
           }
          },
          "title": {
           "x": 0.05
          },
          "xaxis": {
           "automargin": true,
           "gridcolor": "white",
           "linecolor": "white",
           "ticks": "",
           "title": {
            "standoff": 15
           },
           "zerolinecolor": "white",
           "zerolinewidth": 2
          },
          "yaxis": {
           "automargin": true,
           "gridcolor": "white",
           "linecolor": "white",
           "ticks": "",
           "title": {
            "standoff": 15
           },
           "zerolinecolor": "white",
           "zerolinewidth": 2
          }
         }
        },
        "title": {
         "text": "Consumo normalizado de alimentos relacionados con la dieta mediterránea (por CCAA)"
        },
        "xaxis": {
         "anchor": "y",
         "domain": [
          0,
          1
         ],
         "title": {
          "text": "Años"
         }
        },
        "yaxis": {
         "anchor": "x",
         "domain": [
          0,
          1
         ],
         "title": {
          "text": "Consumo / 100.000 hab."
         }
        }
       }
      }
     },
     "metadata": {},
     "output_type": "display_data"
    }
   ],
   "source": [
    "fig = px.line(\n",
    "    df_dieta_mediterranea_normalizado,\n",
    "    title='Consumo normalizado de alimentos relacionados con la dieta mediterránea (por CCAA)',\n",
    "    labels = {\n",
    "        'index' : 'Años',\n",
    "        'value' : 'Consumo / 100.000 hab.'\n",
    "    }\n",
    ")\n",
    "fig.show()"
   ]
  },
  {
   "cell_type": "code",
   "execution_count": null,
   "metadata": {},
   "outputs": [
    {
     "data": {
      "application/vnd.plotly.v1+json": {
       "config": {
        "plotlyServerURL": "https://plot.ly"
       },
       "data": [
        {
         "alignmentgroup": "True",
         "hovertemplate": "variable=0<br>CC.AA=%{x}<br>Consumo / 100.000 hab.=%{y}<extra></extra>",
         "legendgroup": "0",
         "marker": {
          "color": "#636efa",
          "pattern": {
           "shape": ""
          }
         },
         "name": "0",
         "offsetgroup": "0",
         "orientation": "v",
         "showlegend": true,
         "textposition": "auto",
         "type": "bar",
         "x": [
          "Ceuta_y_Melilla",
          "Castilla_La_Mancha",
          "Extremadura",
          "Murcia",
          "Navarra",
          "Castilla_y_Leon",
          "Aragon",
          "La_Rioja",
          "Andalucia",
          "Galicia",
          "Madrid",
          "Pais_Vasco",
          "Catalunya",
          "Asturias",
          "C_Valenciana",
          "Canarias",
          "Cantabria",
          "Baleares"
         ],
         "xaxis": "x",
         "y": [
          70358.14243806673,
          118276.8675633399,
          121182.76470759124,
          125679.88714584945,
          128221.27236325676,
          134082.54118333047,
          134579.76296128877,
          135524.25859241816,
          137049.4903142645,
          139287.7701536994,
          141534.26396718723,
          142353.715905871,
          150658.4981943206,
          151745.98216994677,
          158489.90460781334,
          172895.16018558005,
          173450.11239352069,
          184936.0676552095
         ],
         "yaxis": "y"
        }
       ],
       "layout": {
        "barmode": "relative",
        "legend": {
         "title": {
          "text": "variable"
         },
         "tracegroupgap": 0
        },
        "template": {
         "data": {
          "bar": [
           {
            "error_x": {
             "color": "#2a3f5f"
            },
            "error_y": {
             "color": "#2a3f5f"
            },
            "marker": {
             "line": {
              "color": "#E5ECF6",
              "width": 0.5
             },
             "pattern": {
              "fillmode": "overlay",
              "size": 10,
              "solidity": 0.2
             }
            },
            "type": "bar"
           }
          ],
          "barpolar": [
           {
            "marker": {
             "line": {
              "color": "#E5ECF6",
              "width": 0.5
             },
             "pattern": {
              "fillmode": "overlay",
              "size": 10,
              "solidity": 0.2
             }
            },
            "type": "barpolar"
           }
          ],
          "carpet": [
           {
            "aaxis": {
             "endlinecolor": "#2a3f5f",
             "gridcolor": "white",
             "linecolor": "white",
             "minorgridcolor": "white",
             "startlinecolor": "#2a3f5f"
            },
            "baxis": {
             "endlinecolor": "#2a3f5f",
             "gridcolor": "white",
             "linecolor": "white",
             "minorgridcolor": "white",
             "startlinecolor": "#2a3f5f"
            },
            "type": "carpet"
           }
          ],
          "choropleth": [
           {
            "colorbar": {
             "outlinewidth": 0,
             "ticks": ""
            },
            "type": "choropleth"
           }
          ],
          "contour": [
           {
            "colorbar": {
             "outlinewidth": 0,
             "ticks": ""
            },
            "colorscale": [
             [
              0,
              "#0d0887"
             ],
             [
              0.1111111111111111,
              "#46039f"
             ],
             [
              0.2222222222222222,
              "#7201a8"
             ],
             [
              0.3333333333333333,
              "#9c179e"
             ],
             [
              0.4444444444444444,
              "#bd3786"
             ],
             [
              0.5555555555555556,
              "#d8576b"
             ],
             [
              0.6666666666666666,
              "#ed7953"
             ],
             [
              0.7777777777777778,
              "#fb9f3a"
             ],
             [
              0.8888888888888888,
              "#fdca26"
             ],
             [
              1,
              "#f0f921"
             ]
            ],
            "type": "contour"
           }
          ],
          "contourcarpet": [
           {
            "colorbar": {
             "outlinewidth": 0,
             "ticks": ""
            },
            "type": "contourcarpet"
           }
          ],
          "heatmap": [
           {
            "colorbar": {
             "outlinewidth": 0,
             "ticks": ""
            },
            "colorscale": [
             [
              0,
              "#0d0887"
             ],
             [
              0.1111111111111111,
              "#46039f"
             ],
             [
              0.2222222222222222,
              "#7201a8"
             ],
             [
              0.3333333333333333,
              "#9c179e"
             ],
             [
              0.4444444444444444,
              "#bd3786"
             ],
             [
              0.5555555555555556,
              "#d8576b"
             ],
             [
              0.6666666666666666,
              "#ed7953"
             ],
             [
              0.7777777777777778,
              "#fb9f3a"
             ],
             [
              0.8888888888888888,
              "#fdca26"
             ],
             [
              1,
              "#f0f921"
             ]
            ],
            "type": "heatmap"
           }
          ],
          "heatmapgl": [
           {
            "colorbar": {
             "outlinewidth": 0,
             "ticks": ""
            },
            "colorscale": [
             [
              0,
              "#0d0887"
             ],
             [
              0.1111111111111111,
              "#46039f"
             ],
             [
              0.2222222222222222,
              "#7201a8"
             ],
             [
              0.3333333333333333,
              "#9c179e"
             ],
             [
              0.4444444444444444,
              "#bd3786"
             ],
             [
              0.5555555555555556,
              "#d8576b"
             ],
             [
              0.6666666666666666,
              "#ed7953"
             ],
             [
              0.7777777777777778,
              "#fb9f3a"
             ],
             [
              0.8888888888888888,
              "#fdca26"
             ],
             [
              1,
              "#f0f921"
             ]
            ],
            "type": "heatmapgl"
           }
          ],
          "histogram": [
           {
            "marker": {
             "pattern": {
              "fillmode": "overlay",
              "size": 10,
              "solidity": 0.2
             }
            },
            "type": "histogram"
           }
          ],
          "histogram2d": [
           {
            "colorbar": {
             "outlinewidth": 0,
             "ticks": ""
            },
            "colorscale": [
             [
              0,
              "#0d0887"
             ],
             [
              0.1111111111111111,
              "#46039f"
             ],
             [
              0.2222222222222222,
              "#7201a8"
             ],
             [
              0.3333333333333333,
              "#9c179e"
             ],
             [
              0.4444444444444444,
              "#bd3786"
             ],
             [
              0.5555555555555556,
              "#d8576b"
             ],
             [
              0.6666666666666666,
              "#ed7953"
             ],
             [
              0.7777777777777778,
              "#fb9f3a"
             ],
             [
              0.8888888888888888,
              "#fdca26"
             ],
             [
              1,
              "#f0f921"
             ]
            ],
            "type": "histogram2d"
           }
          ],
          "histogram2dcontour": [
           {
            "colorbar": {
             "outlinewidth": 0,
             "ticks": ""
            },
            "colorscale": [
             [
              0,
              "#0d0887"
             ],
             [
              0.1111111111111111,
              "#46039f"
             ],
             [
              0.2222222222222222,
              "#7201a8"
             ],
             [
              0.3333333333333333,
              "#9c179e"
             ],
             [
              0.4444444444444444,
              "#bd3786"
             ],
             [
              0.5555555555555556,
              "#d8576b"
             ],
             [
              0.6666666666666666,
              "#ed7953"
             ],
             [
              0.7777777777777778,
              "#fb9f3a"
             ],
             [
              0.8888888888888888,
              "#fdca26"
             ],
             [
              1,
              "#f0f921"
             ]
            ],
            "type": "histogram2dcontour"
           }
          ],
          "mesh3d": [
           {
            "colorbar": {
             "outlinewidth": 0,
             "ticks": ""
            },
            "type": "mesh3d"
           }
          ],
          "parcoords": [
           {
            "line": {
             "colorbar": {
              "outlinewidth": 0,
              "ticks": ""
             }
            },
            "type": "parcoords"
           }
          ],
          "pie": [
           {
            "automargin": true,
            "type": "pie"
           }
          ],
          "scatter": [
           {
            "fillpattern": {
             "fillmode": "overlay",
             "size": 10,
             "solidity": 0.2
            },
            "type": "scatter"
           }
          ],
          "scatter3d": [
           {
            "line": {
             "colorbar": {
              "outlinewidth": 0,
              "ticks": ""
             }
            },
            "marker": {
             "colorbar": {
              "outlinewidth": 0,
              "ticks": ""
             }
            },
            "type": "scatter3d"
           }
          ],
          "scattercarpet": [
           {
            "marker": {
             "colorbar": {
              "outlinewidth": 0,
              "ticks": ""
             }
            },
            "type": "scattercarpet"
           }
          ],
          "scattergeo": [
           {
            "marker": {
             "colorbar": {
              "outlinewidth": 0,
              "ticks": ""
             }
            },
            "type": "scattergeo"
           }
          ],
          "scattergl": [
           {
            "marker": {
             "colorbar": {
              "outlinewidth": 0,
              "ticks": ""
             }
            },
            "type": "scattergl"
           }
          ],
          "scattermapbox": [
           {
            "marker": {
             "colorbar": {
              "outlinewidth": 0,
              "ticks": ""
             }
            },
            "type": "scattermapbox"
           }
          ],
          "scatterpolar": [
           {
            "marker": {
             "colorbar": {
              "outlinewidth": 0,
              "ticks": ""
             }
            },
            "type": "scatterpolar"
           }
          ],
          "scatterpolargl": [
           {
            "marker": {
             "colorbar": {
              "outlinewidth": 0,
              "ticks": ""
             }
            },
            "type": "scatterpolargl"
           }
          ],
          "scatterternary": [
           {
            "marker": {
             "colorbar": {
              "outlinewidth": 0,
              "ticks": ""
             }
            },
            "type": "scatterternary"
           }
          ],
          "surface": [
           {
            "colorbar": {
             "outlinewidth": 0,
             "ticks": ""
            },
            "colorscale": [
             [
              0,
              "#0d0887"
             ],
             [
              0.1111111111111111,
              "#46039f"
             ],
             [
              0.2222222222222222,
              "#7201a8"
             ],
             [
              0.3333333333333333,
              "#9c179e"
             ],
             [
              0.4444444444444444,
              "#bd3786"
             ],
             [
              0.5555555555555556,
              "#d8576b"
             ],
             [
              0.6666666666666666,
              "#ed7953"
             ],
             [
              0.7777777777777778,
              "#fb9f3a"
             ],
             [
              0.8888888888888888,
              "#fdca26"
             ],
             [
              1,
              "#f0f921"
             ]
            ],
            "type": "surface"
           }
          ],
          "table": [
           {
            "cells": {
             "fill": {
              "color": "#EBF0F8"
             },
             "line": {
              "color": "white"
             }
            },
            "header": {
             "fill": {
              "color": "#C8D4E3"
             },
             "line": {
              "color": "white"
             }
            },
            "type": "table"
           }
          ]
         },
         "layout": {
          "annotationdefaults": {
           "arrowcolor": "#2a3f5f",
           "arrowhead": 0,
           "arrowwidth": 1
          },
          "autotypenumbers": "strict",
          "coloraxis": {
           "colorbar": {
            "outlinewidth": 0,
            "ticks": ""
           }
          },
          "colorscale": {
           "diverging": [
            [
             0,
             "#8e0152"
            ],
            [
             0.1,
             "#c51b7d"
            ],
            [
             0.2,
             "#de77ae"
            ],
            [
             0.3,
             "#f1b6da"
            ],
            [
             0.4,
             "#fde0ef"
            ],
            [
             0.5,
             "#f7f7f7"
            ],
            [
             0.6,
             "#e6f5d0"
            ],
            [
             0.7,
             "#b8e186"
            ],
            [
             0.8,
             "#7fbc41"
            ],
            [
             0.9,
             "#4d9221"
            ],
            [
             1,
             "#276419"
            ]
           ],
           "sequential": [
            [
             0,
             "#0d0887"
            ],
            [
             0.1111111111111111,
             "#46039f"
            ],
            [
             0.2222222222222222,
             "#7201a8"
            ],
            [
             0.3333333333333333,
             "#9c179e"
            ],
            [
             0.4444444444444444,
             "#bd3786"
            ],
            [
             0.5555555555555556,
             "#d8576b"
            ],
            [
             0.6666666666666666,
             "#ed7953"
            ],
            [
             0.7777777777777778,
             "#fb9f3a"
            ],
            [
             0.8888888888888888,
             "#fdca26"
            ],
            [
             1,
             "#f0f921"
            ]
           ],
           "sequentialminus": [
            [
             0,
             "#0d0887"
            ],
            [
             0.1111111111111111,
             "#46039f"
            ],
            [
             0.2222222222222222,
             "#7201a8"
            ],
            [
             0.3333333333333333,
             "#9c179e"
            ],
            [
             0.4444444444444444,
             "#bd3786"
            ],
            [
             0.5555555555555556,
             "#d8576b"
            ],
            [
             0.6666666666666666,
             "#ed7953"
            ],
            [
             0.7777777777777778,
             "#fb9f3a"
            ],
            [
             0.8888888888888888,
             "#fdca26"
            ],
            [
             1,
             "#f0f921"
            ]
           ]
          },
          "colorway": [
           "#636efa",
           "#EF553B",
           "#00cc96",
           "#ab63fa",
           "#FFA15A",
           "#19d3f3",
           "#FF6692",
           "#B6E880",
           "#FF97FF",
           "#FECB52"
          ],
          "font": {
           "color": "#2a3f5f"
          },
          "geo": {
           "bgcolor": "white",
           "lakecolor": "white",
           "landcolor": "#E5ECF6",
           "showlakes": true,
           "showland": true,
           "subunitcolor": "white"
          },
          "hoverlabel": {
           "align": "left"
          },
          "hovermode": "closest",
          "mapbox": {
           "style": "light"
          },
          "paper_bgcolor": "white",
          "plot_bgcolor": "#E5ECF6",
          "polar": {
           "angularaxis": {
            "gridcolor": "white",
            "linecolor": "white",
            "ticks": ""
           },
           "bgcolor": "#E5ECF6",
           "radialaxis": {
            "gridcolor": "white",
            "linecolor": "white",
            "ticks": ""
           }
          },
          "scene": {
           "xaxis": {
            "backgroundcolor": "#E5ECF6",
            "gridcolor": "white",
            "gridwidth": 2,
            "linecolor": "white",
            "showbackground": true,
            "ticks": "",
            "zerolinecolor": "white"
           },
           "yaxis": {
            "backgroundcolor": "#E5ECF6",
            "gridcolor": "white",
            "gridwidth": 2,
            "linecolor": "white",
            "showbackground": true,
            "ticks": "",
            "zerolinecolor": "white"
           },
           "zaxis": {
            "backgroundcolor": "#E5ECF6",
            "gridcolor": "white",
            "gridwidth": 2,
            "linecolor": "white",
            "showbackground": true,
            "ticks": "",
            "zerolinecolor": "white"
           }
          },
          "shapedefaults": {
           "line": {
            "color": "#2a3f5f"
           }
          },
          "ternary": {
           "aaxis": {
            "gridcolor": "white",
            "linecolor": "white",
            "ticks": ""
           },
           "baxis": {
            "gridcolor": "white",
            "linecolor": "white",
            "ticks": ""
           },
           "bgcolor": "#E5ECF6",
           "caxis": {
            "gridcolor": "white",
            "linecolor": "white",
            "ticks": ""
           }
          },
          "title": {
           "x": 0.05
          },
          "xaxis": {
           "automargin": true,
           "gridcolor": "white",
           "linecolor": "white",
           "ticks": "",
           "title": {
            "standoff": 15
           },
           "zerolinecolor": "white",
           "zerolinewidth": 2
          },
          "yaxis": {
           "automargin": true,
           "gridcolor": "white",
           "linecolor": "white",
           "ticks": "",
           "title": {
            "standoff": 15
           },
           "zerolinecolor": "white",
           "zerolinewidth": 2
          }
         }
        },
        "title": {
         "text": "Consumo total de alimentos relacionados con la dieta mediterránea (por CCAA) normalizado."
        },
        "xaxis": {
         "anchor": "y",
         "domain": [
          0,
          1
         ],
         "title": {
          "text": "CC.AA"
         }
        },
        "yaxis": {
         "anchor": "x",
         "domain": [
          0,
          1
         ],
         "title": {
          "text": "Consumo / 100.000 hab."
         }
        }
       }
      }
     },
     "metadata": {},
     "output_type": "display_data"
    }
   ],
   "source": [
    "fig = px.bar(\n",
    "    df_dieta_mediterranea_normalizado.sum().sort_values(),\n",
    "    title='Consumo total de alimentos relacionados con la dieta mediterránea (por CCAA) normalizado.',\n",
    "    labels = {\n",
    "        'COMUNIDAD' : 'CC.AA',\n",
    "        'value' : 'Consumo / 100.000 hab.'\n",
    "    }\n",
    ")\n",
    "fig.show()"
   ]
  },
  {
   "cell_type": "markdown",
   "metadata": {},
   "source": [
    "## 3.2. Clustering de CC.AA. según el consumo de alimentos relacionados con la dieta mediterránea <a class=\"anchor\" id=\"clustering\"></a>\n",
    "\n",
    "Vamos a usar un algoritmo de clustering que nos va a hacer agrupaciones de CC.AA. según el consumo de las familias de alimentos que hemos relacionado con la dieta mediterránea."
   ]
  },
  {
   "cell_type": "markdown",
   "metadata": {},
   "source": [
    "### Creamos el dataframe"
   ]
  },
  {
   "cell_type": "code",
   "execution_count": null,
   "metadata": {},
   "outputs": [],
   "source": [
    "# Filtramos las familias de alimentos seleccionadas anteriormente y eliminamos las columnas que no necesitamos\n",
    "df_clustering = df_comunidades[df_comunidades['FAMILIA'].isin(lista_familias_dieta_mediterranea)].drop(['ID', 'SECTOR', 'SECCION', 'CATEGORIA'], axis=1)\n",
    "\n",
    "\n",
    "# Creamos la columna TOTAL con la suma de todos los consumos de los alimentos\n",
    "df_clustering['TOTAL'] = df_clustering[df_clustering.columns[2:]].sum(axis=1)\n",
    "\n",
    "#Nos quedamos con las columnas que necesitamos\n",
    "df_clustering = df_clustering[['FAMILIA', 'COMUNIDAD', 'TOTAL']]\n",
    "\n",
    "# Pivotamos la tabla para que nos quede el formato que necesitamos para hacer el clustering\n",
    "df_clustering = df_clustering.pivot(index='COMUNIDAD', columns='FAMILIA', values='TOTAL')\n",
    "\n",
    "# Eliminamos ceuta y melilla ya que la muestra de datos no parece correcta, por ser demasiado baja.\n",
    "df_clustering.drop('Ceuta_y_Melilla', inplace=True)"
   ]
  },
  {
   "cell_type": "markdown",
   "metadata": {},
   "source": [
    "### Normalización y escalado de los datos"
   ]
  },
  {
   "cell_type": "code",
   "execution_count": null,
   "metadata": {},
   "outputs": [],
   "source": [
    "# Dividimos el consumo por la población de cada comunidad / 100.000 habitantes\n",
    "df_clustering_normalizado = df_clustering.T.apply(lambda x: x / df_poblacion['2020'][x.name] * 100000).T"
   ]
  },
  {
   "cell_type": "code",
   "execution_count": null,
   "metadata": {},
   "outputs": [],
   "source": [
    "# Creamos una instancia de StandardScaler\n",
    "scaler = StandardScaler()\n",
    "\n",
    "# Escalamos el dataframe\n",
    "df_clustering_scaled = scaler.fit_transform(df_clustering_normalizado) "
   ]
  },
  {
   "cell_type": "markdown",
   "metadata": {},
   "source": [
    "### Búsqueda del número óptimo de clusters"
   ]
  },
  {
   "cell_type": "markdown",
   "metadata": {},
   "source": [
    "#### Método del codo"
   ]
  },
  {
   "cell_type": "code",
   "execution_count": null,
   "metadata": {},
   "outputs": [
    {
     "data": {
      "application/vnd.plotly.v1+json": {
       "config": {
        "plotlyServerURL": "https://plot.ly"
       },
       "data": [
        {
         "hovertemplate": "Clusters=%{x}<br>Distortions=%{y}<extra></extra>",
         "legendgroup": "",
         "line": {
          "color": "rgb(76,114,176)",
          "dash": "solid"
         },
         "marker": {
          "symbol": "circle"
         },
         "mode": "lines+markers",
         "name": "",
         "orientation": "v",
         "showlegend": false,
         "type": "scatter",
         "x": [
          1,
          2,
          3,
          4,
          5,
          6,
          7,
          8,
          9
         ],
         "xaxis": "x",
         "y": [
          1904,
          1474.529820857408,
          1170.8205886593882,
          986.136812383617,
          837.2895551064687,
          735.0489894821055,
          558.3042942917298,
          461.94673108220184,
          383.4753493121559
         ],
         "yaxis": "y"
        }
       ],
       "layout": {
        "legend": {
         "tracegroupgap": 0
        },
        "template": {
         "data": {
          "bar": [
           {
            "error_x": {
             "color": "rgb(36,36,36)"
            },
            "error_y": {
             "color": "rgb(36,36,36)"
            },
            "marker": {
             "line": {
              "color": "rgb(234,234,242)",
              "width": 0.5
             },
             "pattern": {
              "fillmode": "overlay",
              "size": 10,
              "solidity": 0.2
             }
            },
            "type": "bar"
           }
          ],
          "barpolar": [
           {
            "marker": {
             "line": {
              "color": "rgb(234,234,242)",
              "width": 0.5
             },
             "pattern": {
              "fillmode": "overlay",
              "size": 10,
              "solidity": 0.2
             }
            },
            "type": "barpolar"
           }
          ],
          "carpet": [
           {
            "aaxis": {
             "endlinecolor": "rgb(36,36,36)",
             "gridcolor": "white",
             "linecolor": "white",
             "minorgridcolor": "white",
             "startlinecolor": "rgb(36,36,36)"
            },
            "baxis": {
             "endlinecolor": "rgb(36,36,36)",
             "gridcolor": "white",
             "linecolor": "white",
             "minorgridcolor": "white",
             "startlinecolor": "rgb(36,36,36)"
            },
            "type": "carpet"
           }
          ],
          "choropleth": [
           {
            "colorbar": {
             "outlinewidth": 0,
             "tickcolor": "rgb(36,36,36)",
             "ticklen": 8,
             "ticks": "outside",
             "tickwidth": 2
            },
            "type": "choropleth"
           }
          ],
          "contour": [
           {
            "colorbar": {
             "outlinewidth": 0,
             "tickcolor": "rgb(36,36,36)",
             "ticklen": 8,
             "ticks": "outside",
             "tickwidth": 2
            },
            "colorscale": [
             [
              0,
              "rgb(2,4,25)"
             ],
             [
              0.06274509803921569,
              "rgb(24,15,41)"
             ],
             [
              0.12549019607843137,
              "rgb(47,23,57)"
             ],
             [
              0.18823529411764706,
              "rgb(71,28,72)"
             ],
             [
              0.25098039215686274,
              "rgb(97,30,82)"
             ],
             [
              0.3137254901960784,
              "rgb(123,30,89)"
             ],
             [
              0.3764705882352941,
              "rgb(150,27,91)"
             ],
             [
              0.4392156862745098,
              "rgb(177,22,88)"
             ],
             [
              0.5019607843137255,
              "rgb(203,26,79)"
             ],
             [
              0.5647058823529412,
              "rgb(223,47,67)"
             ],
             [
              0.6274509803921569,
              "rgb(236,76,61)"
             ],
             [
              0.6901960784313725,
              "rgb(242,107,73)"
             ],
             [
              0.7529411764705882,
              "rgb(244,135,95)"
             ],
             [
              0.8156862745098039,
              "rgb(245,162,122)"
             ],
             [
              0.8784313725490196,
              "rgb(246,188,153)"
             ],
             [
              0.9411764705882353,
              "rgb(247,212,187)"
             ],
             [
              1,
              "rgb(250,234,220)"
             ]
            ],
            "type": "contour"
           }
          ],
          "contourcarpet": [
           {
            "colorbar": {
             "outlinewidth": 0,
             "tickcolor": "rgb(36,36,36)",
             "ticklen": 8,
             "ticks": "outside",
             "tickwidth": 2
            },
            "type": "contourcarpet"
           }
          ],
          "heatmap": [
           {
            "colorbar": {
             "outlinewidth": 0,
             "tickcolor": "rgb(36,36,36)",
             "ticklen": 8,
             "ticks": "outside",
             "tickwidth": 2
            },
            "colorscale": [
             [
              0,
              "rgb(2,4,25)"
             ],
             [
              0.06274509803921569,
              "rgb(24,15,41)"
             ],
             [
              0.12549019607843137,
              "rgb(47,23,57)"
             ],
             [
              0.18823529411764706,
              "rgb(71,28,72)"
             ],
             [
              0.25098039215686274,
              "rgb(97,30,82)"
             ],
             [
              0.3137254901960784,
              "rgb(123,30,89)"
             ],
             [
              0.3764705882352941,
              "rgb(150,27,91)"
             ],
             [
              0.4392156862745098,
              "rgb(177,22,88)"
             ],
             [
              0.5019607843137255,
              "rgb(203,26,79)"
             ],
             [
              0.5647058823529412,
              "rgb(223,47,67)"
             ],
             [
              0.6274509803921569,
              "rgb(236,76,61)"
             ],
             [
              0.6901960784313725,
              "rgb(242,107,73)"
             ],
             [
              0.7529411764705882,
              "rgb(244,135,95)"
             ],
             [
              0.8156862745098039,
              "rgb(245,162,122)"
             ],
             [
              0.8784313725490196,
              "rgb(246,188,153)"
             ],
             [
              0.9411764705882353,
              "rgb(247,212,187)"
             ],
             [
              1,
              "rgb(250,234,220)"
             ]
            ],
            "type": "heatmap"
           }
          ],
          "heatmapgl": [
           {
            "colorbar": {
             "outlinewidth": 0,
             "tickcolor": "rgb(36,36,36)",
             "ticklen": 8,
             "ticks": "outside",
             "tickwidth": 2
            },
            "colorscale": [
             [
              0,
              "rgb(2,4,25)"
             ],
             [
              0.06274509803921569,
              "rgb(24,15,41)"
             ],
             [
              0.12549019607843137,
              "rgb(47,23,57)"
             ],
             [
              0.18823529411764706,
              "rgb(71,28,72)"
             ],
             [
              0.25098039215686274,
              "rgb(97,30,82)"
             ],
             [
              0.3137254901960784,
              "rgb(123,30,89)"
             ],
             [
              0.3764705882352941,
              "rgb(150,27,91)"
             ],
             [
              0.4392156862745098,
              "rgb(177,22,88)"
             ],
             [
              0.5019607843137255,
              "rgb(203,26,79)"
             ],
             [
              0.5647058823529412,
              "rgb(223,47,67)"
             ],
             [
              0.6274509803921569,
              "rgb(236,76,61)"
             ],
             [
              0.6901960784313725,
              "rgb(242,107,73)"
             ],
             [
              0.7529411764705882,
              "rgb(244,135,95)"
             ],
             [
              0.8156862745098039,
              "rgb(245,162,122)"
             ],
             [
              0.8784313725490196,
              "rgb(246,188,153)"
             ],
             [
              0.9411764705882353,
              "rgb(247,212,187)"
             ],
             [
              1,
              "rgb(250,234,220)"
             ]
            ],
            "type": "heatmapgl"
           }
          ],
          "histogram": [
           {
            "marker": {
             "pattern": {
              "fillmode": "overlay",
              "size": 10,
              "solidity": 0.2
             }
            },
            "type": "histogram"
           }
          ],
          "histogram2d": [
           {
            "colorbar": {
             "outlinewidth": 0,
             "tickcolor": "rgb(36,36,36)",
             "ticklen": 8,
             "ticks": "outside",
             "tickwidth": 2
            },
            "colorscale": [
             [
              0,
              "rgb(2,4,25)"
             ],
             [
              0.06274509803921569,
              "rgb(24,15,41)"
             ],
             [
              0.12549019607843137,
              "rgb(47,23,57)"
             ],
             [
              0.18823529411764706,
              "rgb(71,28,72)"
             ],
             [
              0.25098039215686274,
              "rgb(97,30,82)"
             ],
             [
              0.3137254901960784,
              "rgb(123,30,89)"
             ],
             [
              0.3764705882352941,
              "rgb(150,27,91)"
             ],
             [
              0.4392156862745098,
              "rgb(177,22,88)"
             ],
             [
              0.5019607843137255,
              "rgb(203,26,79)"
             ],
             [
              0.5647058823529412,
              "rgb(223,47,67)"
             ],
             [
              0.6274509803921569,
              "rgb(236,76,61)"
             ],
             [
              0.6901960784313725,
              "rgb(242,107,73)"
             ],
             [
              0.7529411764705882,
              "rgb(244,135,95)"
             ],
             [
              0.8156862745098039,
              "rgb(245,162,122)"
             ],
             [
              0.8784313725490196,
              "rgb(246,188,153)"
             ],
             [
              0.9411764705882353,
              "rgb(247,212,187)"
             ],
             [
              1,
              "rgb(250,234,220)"
             ]
            ],
            "type": "histogram2d"
           }
          ],
          "histogram2dcontour": [
           {
            "colorbar": {
             "outlinewidth": 0,
             "tickcolor": "rgb(36,36,36)",
             "ticklen": 8,
             "ticks": "outside",
             "tickwidth": 2
            },
            "colorscale": [
             [
              0,
              "rgb(2,4,25)"
             ],
             [
              0.06274509803921569,
              "rgb(24,15,41)"
             ],
             [
              0.12549019607843137,
              "rgb(47,23,57)"
             ],
             [
              0.18823529411764706,
              "rgb(71,28,72)"
             ],
             [
              0.25098039215686274,
              "rgb(97,30,82)"
             ],
             [
              0.3137254901960784,
              "rgb(123,30,89)"
             ],
             [
              0.3764705882352941,
              "rgb(150,27,91)"
             ],
             [
              0.4392156862745098,
              "rgb(177,22,88)"
             ],
             [
              0.5019607843137255,
              "rgb(203,26,79)"
             ],
             [
              0.5647058823529412,
              "rgb(223,47,67)"
             ],
             [
              0.6274509803921569,
              "rgb(236,76,61)"
             ],
             [
              0.6901960784313725,
              "rgb(242,107,73)"
             ],
             [
              0.7529411764705882,
              "rgb(244,135,95)"
             ],
             [
              0.8156862745098039,
              "rgb(245,162,122)"
             ],
             [
              0.8784313725490196,
              "rgb(246,188,153)"
             ],
             [
              0.9411764705882353,
              "rgb(247,212,187)"
             ],
             [
              1,
              "rgb(250,234,220)"
             ]
            ],
            "type": "histogram2dcontour"
           }
          ],
          "mesh3d": [
           {
            "colorbar": {
             "outlinewidth": 0,
             "tickcolor": "rgb(36,36,36)",
             "ticklen": 8,
             "ticks": "outside",
             "tickwidth": 2
            },
            "type": "mesh3d"
           }
          ],
          "parcoords": [
           {
            "line": {
             "colorbar": {
              "outlinewidth": 0,
              "tickcolor": "rgb(36,36,36)",
              "ticklen": 8,
              "ticks": "outside",
              "tickwidth": 2
             }
            },
            "type": "parcoords"
           }
          ],
          "pie": [
           {
            "automargin": true,
            "type": "pie"
           }
          ],
          "scatter": [
           {
            "fillpattern": {
             "fillmode": "overlay",
             "size": 10,
             "solidity": 0.2
            },
            "type": "scatter"
           }
          ],
          "scatter3d": [
           {
            "line": {
             "colorbar": {
              "outlinewidth": 0,
              "tickcolor": "rgb(36,36,36)",
              "ticklen": 8,
              "ticks": "outside",
              "tickwidth": 2
             }
            },
            "marker": {
             "colorbar": {
              "outlinewidth": 0,
              "tickcolor": "rgb(36,36,36)",
              "ticklen": 8,
              "ticks": "outside",
              "tickwidth": 2
             }
            },
            "type": "scatter3d"
           }
          ],
          "scattercarpet": [
           {
            "marker": {
             "colorbar": {
              "outlinewidth": 0,
              "tickcolor": "rgb(36,36,36)",
              "ticklen": 8,
              "ticks": "outside",
              "tickwidth": 2
             }
            },
            "type": "scattercarpet"
           }
          ],
          "scattergeo": [
           {
            "marker": {
             "colorbar": {
              "outlinewidth": 0,
              "tickcolor": "rgb(36,36,36)",
              "ticklen": 8,
              "ticks": "outside",
              "tickwidth": 2
             }
            },
            "type": "scattergeo"
           }
          ],
          "scattergl": [
           {
            "marker": {
             "colorbar": {
              "outlinewidth": 0,
              "tickcolor": "rgb(36,36,36)",
              "ticklen": 8,
              "ticks": "outside",
              "tickwidth": 2
             }
            },
            "type": "scattergl"
           }
          ],
          "scattermapbox": [
           {
            "marker": {
             "colorbar": {
              "outlinewidth": 0,
              "tickcolor": "rgb(36,36,36)",
              "ticklen": 8,
              "ticks": "outside",
              "tickwidth": 2
             }
            },
            "type": "scattermapbox"
           }
          ],
          "scatterpolar": [
           {
            "marker": {
             "colorbar": {
              "outlinewidth": 0,
              "tickcolor": "rgb(36,36,36)",
              "ticklen": 8,
              "ticks": "outside",
              "tickwidth": 2
             }
            },
            "type": "scatterpolar"
           }
          ],
          "scatterpolargl": [
           {
            "marker": {
             "colorbar": {
              "outlinewidth": 0,
              "tickcolor": "rgb(36,36,36)",
              "ticklen": 8,
              "ticks": "outside",
              "tickwidth": 2
             }
            },
            "type": "scatterpolargl"
           }
          ],
          "scatterternary": [
           {
            "marker": {
             "colorbar": {
              "outlinewidth": 0,
              "tickcolor": "rgb(36,36,36)",
              "ticklen": 8,
              "ticks": "outside",
              "tickwidth": 2
             }
            },
            "type": "scatterternary"
           }
          ],
          "surface": [
           {
            "colorbar": {
             "outlinewidth": 0,
             "tickcolor": "rgb(36,36,36)",
             "ticklen": 8,
             "ticks": "outside",
             "tickwidth": 2
            },
            "colorscale": [
             [
              0,
              "rgb(2,4,25)"
             ],
             [
              0.06274509803921569,
              "rgb(24,15,41)"
             ],
             [
              0.12549019607843137,
              "rgb(47,23,57)"
             ],
             [
              0.18823529411764706,
              "rgb(71,28,72)"
             ],
             [
              0.25098039215686274,
              "rgb(97,30,82)"
             ],
             [
              0.3137254901960784,
              "rgb(123,30,89)"
             ],
             [
              0.3764705882352941,
              "rgb(150,27,91)"
             ],
             [
              0.4392156862745098,
              "rgb(177,22,88)"
             ],
             [
              0.5019607843137255,
              "rgb(203,26,79)"
             ],
             [
              0.5647058823529412,
              "rgb(223,47,67)"
             ],
             [
              0.6274509803921569,
              "rgb(236,76,61)"
             ],
             [
              0.6901960784313725,
              "rgb(242,107,73)"
             ],
             [
              0.7529411764705882,
              "rgb(244,135,95)"
             ],
             [
              0.8156862745098039,
              "rgb(245,162,122)"
             ],
             [
              0.8784313725490196,
              "rgb(246,188,153)"
             ],
             [
              0.9411764705882353,
              "rgb(247,212,187)"
             ],
             [
              1,
              "rgb(250,234,220)"
             ]
            ],
            "type": "surface"
           }
          ],
          "table": [
           {
            "cells": {
             "fill": {
              "color": "rgb(231,231,240)"
             },
             "line": {
              "color": "white"
             }
            },
            "header": {
             "fill": {
              "color": "rgb(183,183,191)"
             },
             "line": {
              "color": "white"
             }
            },
            "type": "table"
           }
          ]
         },
         "layout": {
          "annotationdefaults": {
           "arrowcolor": "rgb(67,103,167)"
          },
          "autotypenumbers": "strict",
          "coloraxis": {
           "colorbar": {
            "outlinewidth": 0,
            "tickcolor": "rgb(36,36,36)",
            "ticklen": 8,
            "ticks": "outside",
            "tickwidth": 2
           }
          },
          "colorscale": {
           "sequential": [
            [
             0,
             "rgb(2,4,25)"
            ],
            [
             0.06274509803921569,
             "rgb(24,15,41)"
            ],
            [
             0.12549019607843137,
             "rgb(47,23,57)"
            ],
            [
             0.18823529411764706,
             "rgb(71,28,72)"
            ],
            [
             0.25098039215686274,
             "rgb(97,30,82)"
            ],
            [
             0.3137254901960784,
             "rgb(123,30,89)"
            ],
            [
             0.3764705882352941,
             "rgb(150,27,91)"
            ],
            [
             0.4392156862745098,
             "rgb(177,22,88)"
            ],
            [
             0.5019607843137255,
             "rgb(203,26,79)"
            ],
            [
             0.5647058823529412,
             "rgb(223,47,67)"
            ],
            [
             0.6274509803921569,
             "rgb(236,76,61)"
            ],
            [
             0.6901960784313725,
             "rgb(242,107,73)"
            ],
            [
             0.7529411764705882,
             "rgb(244,135,95)"
            ],
            [
             0.8156862745098039,
             "rgb(245,162,122)"
            ],
            [
             0.8784313725490196,
             "rgb(246,188,153)"
            ],
            [
             0.9411764705882353,
             "rgb(247,212,187)"
            ],
            [
             1,
             "rgb(250,234,220)"
            ]
           ],
           "sequentialminus": [
            [
             0,
             "rgb(2,4,25)"
            ],
            [
             0.06274509803921569,
             "rgb(24,15,41)"
            ],
            [
             0.12549019607843137,
             "rgb(47,23,57)"
            ],
            [
             0.18823529411764706,
             "rgb(71,28,72)"
            ],
            [
             0.25098039215686274,
             "rgb(97,30,82)"
            ],
            [
             0.3137254901960784,
             "rgb(123,30,89)"
            ],
            [
             0.3764705882352941,
             "rgb(150,27,91)"
            ],
            [
             0.4392156862745098,
             "rgb(177,22,88)"
            ],
            [
             0.5019607843137255,
             "rgb(203,26,79)"
            ],
            [
             0.5647058823529412,
             "rgb(223,47,67)"
            ],
            [
             0.6274509803921569,
             "rgb(236,76,61)"
            ],
            [
             0.6901960784313725,
             "rgb(242,107,73)"
            ],
            [
             0.7529411764705882,
             "rgb(244,135,95)"
            ],
            [
             0.8156862745098039,
             "rgb(245,162,122)"
            ],
            [
             0.8784313725490196,
             "rgb(246,188,153)"
            ],
            [
             0.9411764705882353,
             "rgb(247,212,187)"
            ],
            [
             1,
             "rgb(250,234,220)"
            ]
           ]
          },
          "colorway": [
           "rgb(76,114,176)",
           "rgb(221,132,82)",
           "rgb(85,168,104)",
           "rgb(196,78,82)",
           "rgb(129,114,179)",
           "rgb(147,120,96)",
           "rgb(218,139,195)",
           "rgb(140,140,140)",
           "rgb(204,185,116)",
           "rgb(100,181,205)"
          ],
          "font": {
           "color": "rgb(36,36,36)"
          },
          "geo": {
           "bgcolor": "white",
           "lakecolor": "white",
           "landcolor": "rgb(234,234,242)",
           "showlakes": true,
           "showland": true,
           "subunitcolor": "white"
          },
          "hoverlabel": {
           "align": "left"
          },
          "hovermode": "closest",
          "paper_bgcolor": "white",
          "plot_bgcolor": "rgb(234,234,242)",
          "polar": {
           "angularaxis": {
            "gridcolor": "white",
            "linecolor": "white",
            "showgrid": true,
            "ticks": ""
           },
           "bgcolor": "rgb(234,234,242)",
           "radialaxis": {
            "gridcolor": "white",
            "linecolor": "white",
            "showgrid": true,
            "ticks": ""
           }
          },
          "scene": {
           "xaxis": {
            "backgroundcolor": "rgb(234,234,242)",
            "gridcolor": "white",
            "gridwidth": 2,
            "linecolor": "white",
            "showbackground": true,
            "showgrid": true,
            "ticks": "",
            "zerolinecolor": "white"
           },
           "yaxis": {
            "backgroundcolor": "rgb(234,234,242)",
            "gridcolor": "white",
            "gridwidth": 2,
            "linecolor": "white",
            "showbackground": true,
            "showgrid": true,
            "ticks": "",
            "zerolinecolor": "white"
           },
           "zaxis": {
            "backgroundcolor": "rgb(234,234,242)",
            "gridcolor": "white",
            "gridwidth": 2,
            "linecolor": "white",
            "showbackground": true,
            "showgrid": true,
            "ticks": "",
            "zerolinecolor": "white"
           }
          },
          "shapedefaults": {
           "fillcolor": "rgb(67,103,167)",
           "line": {
            "width": 0
           },
           "opacity": 0.5
          },
          "ternary": {
           "aaxis": {
            "gridcolor": "white",
            "linecolor": "white",
            "showgrid": true,
            "ticks": ""
           },
           "baxis": {
            "gridcolor": "white",
            "linecolor": "white",
            "showgrid": true,
            "ticks": ""
           },
           "bgcolor": "rgb(234,234,242)",
           "caxis": {
            "gridcolor": "white",
            "linecolor": "white",
            "showgrid": true,
            "ticks": ""
           }
          },
          "xaxis": {
           "automargin": true,
           "gridcolor": "white",
           "linecolor": "white",
           "showgrid": true,
           "ticks": "",
           "title": {
            "standoff": 15
           },
           "zerolinecolor": "white"
          },
          "yaxis": {
           "automargin": true,
           "gridcolor": "white",
           "linecolor": "white",
           "showgrid": true,
           "ticks": "",
           "title": {
            "standoff": 15
           },
           "zerolinecolor": "white"
          }
         }
        },
        "title": {
         "text": "Método del codo"
        },
        "xaxis": {
         "anchor": "y",
         "domain": [
          0,
          1
         ],
         "title": {
          "text": "Clusters"
         }
        },
        "yaxis": {
         "anchor": "x",
         "domain": [
          0,
          1
         ],
         "title": {
          "text": "Distortions"
         }
        }
       }
      }
     },
     "metadata": {},
     "output_type": "display_data"
    }
   ],
   "source": [
    "distortions = []\n",
    "K = range(1,10)\n",
    "\n",
    "for cluster_size in K:\n",
    "    kmeans = KMeans(n_clusters=cluster_size, init='k-means++')\n",
    "    kmeans = kmeans.fit(df_clustering_scaled)\n",
    "    distortions.append(kmeans.inertia_)\n",
    "    \n",
    "df = pd.DataFrame({'Clusters': K, 'Distortions': distortions})\n",
    "fig = (px.line(df, x='Clusters', y='Distortions', template='seaborn', title='Método del codo')).update_traces(mode='lines+markers')\n",
    "fig.show()"
   ]
  },
  {
   "cell_type": "markdown",
   "metadata": {},
   "source": [
    "#### Análisis de la silueta"
   ]
  },
  {
   "cell_type": "code",
   "execution_count": null,
   "metadata": {},
   "outputs": [
    {
     "data": {
      "application/vnd.plotly.v1+json": {
       "config": {
        "plotlyServerURL": "https://plot.ly"
       },
       "data": [
        {
         "hovertemplate": "Clusters=%{x}<br>Silhouette Score=%{y}<extra></extra>",
         "legendgroup": "",
         "line": {
          "color": "rgb(76,114,176)",
          "dash": "solid"
         },
         "marker": {
          "symbol": "circle"
         },
         "mode": "lines+markers",
         "name": "",
         "orientation": "v",
         "showlegend": false,
         "type": "scatter",
         "x": [
          2,
          3,
          4,
          5,
          6,
          7,
          8,
          9
         ],
         "xaxis": "x",
         "y": [
          0.21294778117260174,
          0.1455152295182782,
          0.17517499727782843,
          0.12963770868477692,
          0.13361672808577565,
          0.13696087582097852,
          0.12626900542108163,
          0.10232400502062682
         ],
         "yaxis": "y"
        }
       ],
       "layout": {
        "legend": {
         "tracegroupgap": 0
        },
        "template": {
         "data": {
          "bar": [
           {
            "error_x": {
             "color": "rgb(36,36,36)"
            },
            "error_y": {
             "color": "rgb(36,36,36)"
            },
            "marker": {
             "line": {
              "color": "rgb(234,234,242)",
              "width": 0.5
             },
             "pattern": {
              "fillmode": "overlay",
              "size": 10,
              "solidity": 0.2
             }
            },
            "type": "bar"
           }
          ],
          "barpolar": [
           {
            "marker": {
             "line": {
              "color": "rgb(234,234,242)",
              "width": 0.5
             },
             "pattern": {
              "fillmode": "overlay",
              "size": 10,
              "solidity": 0.2
             }
            },
            "type": "barpolar"
           }
          ],
          "carpet": [
           {
            "aaxis": {
             "endlinecolor": "rgb(36,36,36)",
             "gridcolor": "white",
             "linecolor": "white",
             "minorgridcolor": "white",
             "startlinecolor": "rgb(36,36,36)"
            },
            "baxis": {
             "endlinecolor": "rgb(36,36,36)",
             "gridcolor": "white",
             "linecolor": "white",
             "minorgridcolor": "white",
             "startlinecolor": "rgb(36,36,36)"
            },
            "type": "carpet"
           }
          ],
          "choropleth": [
           {
            "colorbar": {
             "outlinewidth": 0,
             "tickcolor": "rgb(36,36,36)",
             "ticklen": 8,
             "ticks": "outside",
             "tickwidth": 2
            },
            "type": "choropleth"
           }
          ],
          "contour": [
           {
            "colorbar": {
             "outlinewidth": 0,
             "tickcolor": "rgb(36,36,36)",
             "ticklen": 8,
             "ticks": "outside",
             "tickwidth": 2
            },
            "colorscale": [
             [
              0,
              "rgb(2,4,25)"
             ],
             [
              0.06274509803921569,
              "rgb(24,15,41)"
             ],
             [
              0.12549019607843137,
              "rgb(47,23,57)"
             ],
             [
              0.18823529411764706,
              "rgb(71,28,72)"
             ],
             [
              0.25098039215686274,
              "rgb(97,30,82)"
             ],
             [
              0.3137254901960784,
              "rgb(123,30,89)"
             ],
             [
              0.3764705882352941,
              "rgb(150,27,91)"
             ],
             [
              0.4392156862745098,
              "rgb(177,22,88)"
             ],
             [
              0.5019607843137255,
              "rgb(203,26,79)"
             ],
             [
              0.5647058823529412,
              "rgb(223,47,67)"
             ],
             [
              0.6274509803921569,
              "rgb(236,76,61)"
             ],
             [
              0.6901960784313725,
              "rgb(242,107,73)"
             ],
             [
              0.7529411764705882,
              "rgb(244,135,95)"
             ],
             [
              0.8156862745098039,
              "rgb(245,162,122)"
             ],
             [
              0.8784313725490196,
              "rgb(246,188,153)"
             ],
             [
              0.9411764705882353,
              "rgb(247,212,187)"
             ],
             [
              1,
              "rgb(250,234,220)"
             ]
            ],
            "type": "contour"
           }
          ],
          "contourcarpet": [
           {
            "colorbar": {
             "outlinewidth": 0,
             "tickcolor": "rgb(36,36,36)",
             "ticklen": 8,
             "ticks": "outside",
             "tickwidth": 2
            },
            "type": "contourcarpet"
           }
          ],
          "heatmap": [
           {
            "colorbar": {
             "outlinewidth": 0,
             "tickcolor": "rgb(36,36,36)",
             "ticklen": 8,
             "ticks": "outside",
             "tickwidth": 2
            },
            "colorscale": [
             [
              0,
              "rgb(2,4,25)"
             ],
             [
              0.06274509803921569,
              "rgb(24,15,41)"
             ],
             [
              0.12549019607843137,
              "rgb(47,23,57)"
             ],
             [
              0.18823529411764706,
              "rgb(71,28,72)"
             ],
             [
              0.25098039215686274,
              "rgb(97,30,82)"
             ],
             [
              0.3137254901960784,
              "rgb(123,30,89)"
             ],
             [
              0.3764705882352941,
              "rgb(150,27,91)"
             ],
             [
              0.4392156862745098,
              "rgb(177,22,88)"
             ],
             [
              0.5019607843137255,
              "rgb(203,26,79)"
             ],
             [
              0.5647058823529412,
              "rgb(223,47,67)"
             ],
             [
              0.6274509803921569,
              "rgb(236,76,61)"
             ],
             [
              0.6901960784313725,
              "rgb(242,107,73)"
             ],
             [
              0.7529411764705882,
              "rgb(244,135,95)"
             ],
             [
              0.8156862745098039,
              "rgb(245,162,122)"
             ],
             [
              0.8784313725490196,
              "rgb(246,188,153)"
             ],
             [
              0.9411764705882353,
              "rgb(247,212,187)"
             ],
             [
              1,
              "rgb(250,234,220)"
             ]
            ],
            "type": "heatmap"
           }
          ],
          "heatmapgl": [
           {
            "colorbar": {
             "outlinewidth": 0,
             "tickcolor": "rgb(36,36,36)",
             "ticklen": 8,
             "ticks": "outside",
             "tickwidth": 2
            },
            "colorscale": [
             [
              0,
              "rgb(2,4,25)"
             ],
             [
              0.06274509803921569,
              "rgb(24,15,41)"
             ],
             [
              0.12549019607843137,
              "rgb(47,23,57)"
             ],
             [
              0.18823529411764706,
              "rgb(71,28,72)"
             ],
             [
              0.25098039215686274,
              "rgb(97,30,82)"
             ],
             [
              0.3137254901960784,
              "rgb(123,30,89)"
             ],
             [
              0.3764705882352941,
              "rgb(150,27,91)"
             ],
             [
              0.4392156862745098,
              "rgb(177,22,88)"
             ],
             [
              0.5019607843137255,
              "rgb(203,26,79)"
             ],
             [
              0.5647058823529412,
              "rgb(223,47,67)"
             ],
             [
              0.6274509803921569,
              "rgb(236,76,61)"
             ],
             [
              0.6901960784313725,
              "rgb(242,107,73)"
             ],
             [
              0.7529411764705882,
              "rgb(244,135,95)"
             ],
             [
              0.8156862745098039,
              "rgb(245,162,122)"
             ],
             [
              0.8784313725490196,
              "rgb(246,188,153)"
             ],
             [
              0.9411764705882353,
              "rgb(247,212,187)"
             ],
             [
              1,
              "rgb(250,234,220)"
             ]
            ],
            "type": "heatmapgl"
           }
          ],
          "histogram": [
           {
            "marker": {
             "pattern": {
              "fillmode": "overlay",
              "size": 10,
              "solidity": 0.2
             }
            },
            "type": "histogram"
           }
          ],
          "histogram2d": [
           {
            "colorbar": {
             "outlinewidth": 0,
             "tickcolor": "rgb(36,36,36)",
             "ticklen": 8,
             "ticks": "outside",
             "tickwidth": 2
            },
            "colorscale": [
             [
              0,
              "rgb(2,4,25)"
             ],
             [
              0.06274509803921569,
              "rgb(24,15,41)"
             ],
             [
              0.12549019607843137,
              "rgb(47,23,57)"
             ],
             [
              0.18823529411764706,
              "rgb(71,28,72)"
             ],
             [
              0.25098039215686274,
              "rgb(97,30,82)"
             ],
             [
              0.3137254901960784,
              "rgb(123,30,89)"
             ],
             [
              0.3764705882352941,
              "rgb(150,27,91)"
             ],
             [
              0.4392156862745098,
              "rgb(177,22,88)"
             ],
             [
              0.5019607843137255,
              "rgb(203,26,79)"
             ],
             [
              0.5647058823529412,
              "rgb(223,47,67)"
             ],
             [
              0.6274509803921569,
              "rgb(236,76,61)"
             ],
             [
              0.6901960784313725,
              "rgb(242,107,73)"
             ],
             [
              0.7529411764705882,
              "rgb(244,135,95)"
             ],
             [
              0.8156862745098039,
              "rgb(245,162,122)"
             ],
             [
              0.8784313725490196,
              "rgb(246,188,153)"
             ],
             [
              0.9411764705882353,
              "rgb(247,212,187)"
             ],
             [
              1,
              "rgb(250,234,220)"
             ]
            ],
            "type": "histogram2d"
           }
          ],
          "histogram2dcontour": [
           {
            "colorbar": {
             "outlinewidth": 0,
             "tickcolor": "rgb(36,36,36)",
             "ticklen": 8,
             "ticks": "outside",
             "tickwidth": 2
            },
            "colorscale": [
             [
              0,
              "rgb(2,4,25)"
             ],
             [
              0.06274509803921569,
              "rgb(24,15,41)"
             ],
             [
              0.12549019607843137,
              "rgb(47,23,57)"
             ],
             [
              0.18823529411764706,
              "rgb(71,28,72)"
             ],
             [
              0.25098039215686274,
              "rgb(97,30,82)"
             ],
             [
              0.3137254901960784,
              "rgb(123,30,89)"
             ],
             [
              0.3764705882352941,
              "rgb(150,27,91)"
             ],
             [
              0.4392156862745098,
              "rgb(177,22,88)"
             ],
             [
              0.5019607843137255,
              "rgb(203,26,79)"
             ],
             [
              0.5647058823529412,
              "rgb(223,47,67)"
             ],
             [
              0.6274509803921569,
              "rgb(236,76,61)"
             ],
             [
              0.6901960784313725,
              "rgb(242,107,73)"
             ],
             [
              0.7529411764705882,
              "rgb(244,135,95)"
             ],
             [
              0.8156862745098039,
              "rgb(245,162,122)"
             ],
             [
              0.8784313725490196,
              "rgb(246,188,153)"
             ],
             [
              0.9411764705882353,
              "rgb(247,212,187)"
             ],
             [
              1,
              "rgb(250,234,220)"
             ]
            ],
            "type": "histogram2dcontour"
           }
          ],
          "mesh3d": [
           {
            "colorbar": {
             "outlinewidth": 0,
             "tickcolor": "rgb(36,36,36)",
             "ticklen": 8,
             "ticks": "outside",
             "tickwidth": 2
            },
            "type": "mesh3d"
           }
          ],
          "parcoords": [
           {
            "line": {
             "colorbar": {
              "outlinewidth": 0,
              "tickcolor": "rgb(36,36,36)",
              "ticklen": 8,
              "ticks": "outside",
              "tickwidth": 2
             }
            },
            "type": "parcoords"
           }
          ],
          "pie": [
           {
            "automargin": true,
            "type": "pie"
           }
          ],
          "scatter": [
           {
            "fillpattern": {
             "fillmode": "overlay",
             "size": 10,
             "solidity": 0.2
            },
            "type": "scatter"
           }
          ],
          "scatter3d": [
           {
            "line": {
             "colorbar": {
              "outlinewidth": 0,
              "tickcolor": "rgb(36,36,36)",
              "ticklen": 8,
              "ticks": "outside",
              "tickwidth": 2
             }
            },
            "marker": {
             "colorbar": {
              "outlinewidth": 0,
              "tickcolor": "rgb(36,36,36)",
              "ticklen": 8,
              "ticks": "outside",
              "tickwidth": 2
             }
            },
            "type": "scatter3d"
           }
          ],
          "scattercarpet": [
           {
            "marker": {
             "colorbar": {
              "outlinewidth": 0,
              "tickcolor": "rgb(36,36,36)",
              "ticklen": 8,
              "ticks": "outside",
              "tickwidth": 2
             }
            },
            "type": "scattercarpet"
           }
          ],
          "scattergeo": [
           {
            "marker": {
             "colorbar": {
              "outlinewidth": 0,
              "tickcolor": "rgb(36,36,36)",
              "ticklen": 8,
              "ticks": "outside",
              "tickwidth": 2
             }
            },
            "type": "scattergeo"
           }
          ],
          "scattergl": [
           {
            "marker": {
             "colorbar": {
              "outlinewidth": 0,
              "tickcolor": "rgb(36,36,36)",
              "ticklen": 8,
              "ticks": "outside",
              "tickwidth": 2
             }
            },
            "type": "scattergl"
           }
          ],
          "scattermapbox": [
           {
            "marker": {
             "colorbar": {
              "outlinewidth": 0,
              "tickcolor": "rgb(36,36,36)",
              "ticklen": 8,
              "ticks": "outside",
              "tickwidth": 2
             }
            },
            "type": "scattermapbox"
           }
          ],
          "scatterpolar": [
           {
            "marker": {
             "colorbar": {
              "outlinewidth": 0,
              "tickcolor": "rgb(36,36,36)",
              "ticklen": 8,
              "ticks": "outside",
              "tickwidth": 2
             }
            },
            "type": "scatterpolar"
           }
          ],
          "scatterpolargl": [
           {
            "marker": {
             "colorbar": {
              "outlinewidth": 0,
              "tickcolor": "rgb(36,36,36)",
              "ticklen": 8,
              "ticks": "outside",
              "tickwidth": 2
             }
            },
            "type": "scatterpolargl"
           }
          ],
          "scatterternary": [
           {
            "marker": {
             "colorbar": {
              "outlinewidth": 0,
              "tickcolor": "rgb(36,36,36)",
              "ticklen": 8,
              "ticks": "outside",
              "tickwidth": 2
             }
            },
            "type": "scatterternary"
           }
          ],
          "surface": [
           {
            "colorbar": {
             "outlinewidth": 0,
             "tickcolor": "rgb(36,36,36)",
             "ticklen": 8,
             "ticks": "outside",
             "tickwidth": 2
            },
            "colorscale": [
             [
              0,
              "rgb(2,4,25)"
             ],
             [
              0.06274509803921569,
              "rgb(24,15,41)"
             ],
             [
              0.12549019607843137,
              "rgb(47,23,57)"
             ],
             [
              0.18823529411764706,
              "rgb(71,28,72)"
             ],
             [
              0.25098039215686274,
              "rgb(97,30,82)"
             ],
             [
              0.3137254901960784,
              "rgb(123,30,89)"
             ],
             [
              0.3764705882352941,
              "rgb(150,27,91)"
             ],
             [
              0.4392156862745098,
              "rgb(177,22,88)"
             ],
             [
              0.5019607843137255,
              "rgb(203,26,79)"
             ],
             [
              0.5647058823529412,
              "rgb(223,47,67)"
             ],
             [
              0.6274509803921569,
              "rgb(236,76,61)"
             ],
             [
              0.6901960784313725,
              "rgb(242,107,73)"
             ],
             [
              0.7529411764705882,
              "rgb(244,135,95)"
             ],
             [
              0.8156862745098039,
              "rgb(245,162,122)"
             ],
             [
              0.8784313725490196,
              "rgb(246,188,153)"
             ],
             [
              0.9411764705882353,
              "rgb(247,212,187)"
             ],
             [
              1,
              "rgb(250,234,220)"
             ]
            ],
            "type": "surface"
           }
          ],
          "table": [
           {
            "cells": {
             "fill": {
              "color": "rgb(231,231,240)"
             },
             "line": {
              "color": "white"
             }
            },
            "header": {
             "fill": {
              "color": "rgb(183,183,191)"
             },
             "line": {
              "color": "white"
             }
            },
            "type": "table"
           }
          ]
         },
         "layout": {
          "annotationdefaults": {
           "arrowcolor": "rgb(67,103,167)"
          },
          "autotypenumbers": "strict",
          "coloraxis": {
           "colorbar": {
            "outlinewidth": 0,
            "tickcolor": "rgb(36,36,36)",
            "ticklen": 8,
            "ticks": "outside",
            "tickwidth": 2
           }
          },
          "colorscale": {
           "sequential": [
            [
             0,
             "rgb(2,4,25)"
            ],
            [
             0.06274509803921569,
             "rgb(24,15,41)"
            ],
            [
             0.12549019607843137,
             "rgb(47,23,57)"
            ],
            [
             0.18823529411764706,
             "rgb(71,28,72)"
            ],
            [
             0.25098039215686274,
             "rgb(97,30,82)"
            ],
            [
             0.3137254901960784,
             "rgb(123,30,89)"
            ],
            [
             0.3764705882352941,
             "rgb(150,27,91)"
            ],
            [
             0.4392156862745098,
             "rgb(177,22,88)"
            ],
            [
             0.5019607843137255,
             "rgb(203,26,79)"
            ],
            [
             0.5647058823529412,
             "rgb(223,47,67)"
            ],
            [
             0.6274509803921569,
             "rgb(236,76,61)"
            ],
            [
             0.6901960784313725,
             "rgb(242,107,73)"
            ],
            [
             0.7529411764705882,
             "rgb(244,135,95)"
            ],
            [
             0.8156862745098039,
             "rgb(245,162,122)"
            ],
            [
             0.8784313725490196,
             "rgb(246,188,153)"
            ],
            [
             0.9411764705882353,
             "rgb(247,212,187)"
            ],
            [
             1,
             "rgb(250,234,220)"
            ]
           ],
           "sequentialminus": [
            [
             0,
             "rgb(2,4,25)"
            ],
            [
             0.06274509803921569,
             "rgb(24,15,41)"
            ],
            [
             0.12549019607843137,
             "rgb(47,23,57)"
            ],
            [
             0.18823529411764706,
             "rgb(71,28,72)"
            ],
            [
             0.25098039215686274,
             "rgb(97,30,82)"
            ],
            [
             0.3137254901960784,
             "rgb(123,30,89)"
            ],
            [
             0.3764705882352941,
             "rgb(150,27,91)"
            ],
            [
             0.4392156862745098,
             "rgb(177,22,88)"
            ],
            [
             0.5019607843137255,
             "rgb(203,26,79)"
            ],
            [
             0.5647058823529412,
             "rgb(223,47,67)"
            ],
            [
             0.6274509803921569,
             "rgb(236,76,61)"
            ],
            [
             0.6901960784313725,
             "rgb(242,107,73)"
            ],
            [
             0.7529411764705882,
             "rgb(244,135,95)"
            ],
            [
             0.8156862745098039,
             "rgb(245,162,122)"
            ],
            [
             0.8784313725490196,
             "rgb(246,188,153)"
            ],
            [
             0.9411764705882353,
             "rgb(247,212,187)"
            ],
            [
             1,
             "rgb(250,234,220)"
            ]
           ]
          },
          "colorway": [
           "rgb(76,114,176)",
           "rgb(221,132,82)",
           "rgb(85,168,104)",
           "rgb(196,78,82)",
           "rgb(129,114,179)",
           "rgb(147,120,96)",
           "rgb(218,139,195)",
           "rgb(140,140,140)",
           "rgb(204,185,116)",
           "rgb(100,181,205)"
          ],
          "font": {
           "color": "rgb(36,36,36)"
          },
          "geo": {
           "bgcolor": "white",
           "lakecolor": "white",
           "landcolor": "rgb(234,234,242)",
           "showlakes": true,
           "showland": true,
           "subunitcolor": "white"
          },
          "hoverlabel": {
           "align": "left"
          },
          "hovermode": "closest",
          "paper_bgcolor": "white",
          "plot_bgcolor": "rgb(234,234,242)",
          "polar": {
           "angularaxis": {
            "gridcolor": "white",
            "linecolor": "white",
            "showgrid": true,
            "ticks": ""
           },
           "bgcolor": "rgb(234,234,242)",
           "radialaxis": {
            "gridcolor": "white",
            "linecolor": "white",
            "showgrid": true,
            "ticks": ""
           }
          },
          "scene": {
           "xaxis": {
            "backgroundcolor": "rgb(234,234,242)",
            "gridcolor": "white",
            "gridwidth": 2,
            "linecolor": "white",
            "showbackground": true,
            "showgrid": true,
            "ticks": "",
            "zerolinecolor": "white"
           },
           "yaxis": {
            "backgroundcolor": "rgb(234,234,242)",
            "gridcolor": "white",
            "gridwidth": 2,
            "linecolor": "white",
            "showbackground": true,
            "showgrid": true,
            "ticks": "",
            "zerolinecolor": "white"
           },
           "zaxis": {
            "backgroundcolor": "rgb(234,234,242)",
            "gridcolor": "white",
            "gridwidth": 2,
            "linecolor": "white",
            "showbackground": true,
            "showgrid": true,
            "ticks": "",
            "zerolinecolor": "white"
           }
          },
          "shapedefaults": {
           "fillcolor": "rgb(67,103,167)",
           "line": {
            "width": 0
           },
           "opacity": 0.5
          },
          "ternary": {
           "aaxis": {
            "gridcolor": "white",
            "linecolor": "white",
            "showgrid": true,
            "ticks": ""
           },
           "baxis": {
            "gridcolor": "white",
            "linecolor": "white",
            "showgrid": true,
            "ticks": ""
           },
           "bgcolor": "rgb(234,234,242)",
           "caxis": {
            "gridcolor": "white",
            "linecolor": "white",
            "showgrid": true,
            "ticks": ""
           }
          },
          "xaxis": {
           "automargin": true,
           "gridcolor": "white",
           "linecolor": "white",
           "showgrid": true,
           "ticks": "",
           "title": {
            "standoff": 15
           },
           "zerolinecolor": "white"
          },
          "yaxis": {
           "automargin": true,
           "gridcolor": "white",
           "linecolor": "white",
           "showgrid": true,
           "ticks": "",
           "title": {
            "standoff": 15
           },
           "zerolinecolor": "white"
          }
         }
        },
        "title": {
         "text": "Análisis de la siueta"
        },
        "xaxis": {
         "anchor": "y",
         "domain": [
          0,
          1
         ],
         "title": {
          "text": "Clusters"
         }
        },
        "yaxis": {
         "anchor": "x",
         "domain": [
          0,
          1
         ],
         "title": {
          "text": "Silhouette Score"
         }
        }
       }
      }
     },
     "metadata": {},
     "output_type": "display_data"
    }
   ],
   "source": [
    "silhouette_scores = []\n",
    "K = range(2,10)\n",
    "\n",
    "for cluster_size in K:\n",
    "    kmeans = KMeans(n_clusters=cluster_size, init='k-means++', random_state=200)\n",
    "    labels = kmeans.fit(df_clustering_scaled).labels_\n",
    "    silhouette_score = metrics.silhouette_score(df_clustering_scaled, \n",
    "                                                labels, \n",
    "                                                metric='euclidean', \n",
    "                                                sample_size=1000, \n",
    "                                                random_state=200)\n",
    "    \n",
    "    silhouette_scores.append(silhouette_score)\n",
    "\n",
    "df = pd.DataFrame({'Clusters': K, 'Silhouette Score': silhouette_scores})\n",
    "fig = (px.line(df, x='Clusters', y='Silhouette Score', template='seaborn', title='Análisis de la siueta')).update_traces(mode='lines+markers')\n",
    "fig.show()"
   ]
  },
  {
   "cell_type": "markdown",
   "metadata": {},
   "source": [
    "#### Número de cluster óptimo\n",
    "\n",
    "Según el método del codo no podemos apreciar un número de cluster óptimo. En cambio en el análisis de la silueta vemos que nos dá un coeficiente más alto para 2 cluster.\n",
    "\n",
    "Sin embargo vamos a buscar tener más agrupaciones y seleccionaremos 4 clusters."
   ]
  },
  {
   "cell_type": "code",
   "execution_count": null,
   "metadata": {},
   "outputs": [],
   "source": [
    "# Asignamos el numero de cluster a una variable\n",
    "clusters = 4\n",
    "\n",
    "# Instanciamos y fiteamos el modelo\n",
    "kmeans = KMeans(n_clusters=clusters)\n",
    "kmeans.fit(df_clustering_scaled)\n",
    "\n",
    "# Obtenemos las predicciones\n",
    "resultado = kmeans.predict(df_clustering_scaled)\n",
    "\n",
    "# Asignamos las predicciones al dataset inicial\n",
    "df_clustering['GRUPO'] = resultado"
   ]
  },
  {
   "cell_type": "code",
   "execution_count": null,
   "metadata": {},
   "outputs": [
    {
     "data": {
      "text/plain": [
       "COMUNIDAD\n",
       "Andalucia             2\n",
       "Aragon                2\n",
       "Asturias              0\n",
       "Baleares              1\n",
       "C_Valenciana          1\n",
       "Canarias              3\n",
       "Cantabria             0\n",
       "Castilla_La_Mancha    2\n",
       "Castilla_y_Leon       2\n",
       "Catalunya             1\n",
       "Extremadura           2\n",
       "Galicia               2\n",
       "La_Rioja              0\n",
       "Madrid                2\n",
       "Murcia                2\n",
       "Navarra               0\n",
       "Pais_Vasco            0\n",
       "Name: GRUPO, dtype: int32"
      ]
     },
     "execution_count": 40,
     "metadata": {},
     "output_type": "execute_result"
    }
   ],
   "source": [
    "df_clustering['GRUPO']"
   ]
  },
  {
   "cell_type": "markdown",
   "metadata": {},
   "source": [
    "## 3.3. Interpretación de los resultados <a class=\"anchor\" id=\"resultados\"></a>\n",
    "\n",
    "Para hacer la interpretación de los resultados del clustering vamos a mostrar un mapa con las CC.AA. con cada comunidad del color que le ha asignado el modelo.\n",
    "\n",
    "Para ello vamos a utilizar la librería **Geopandas**."
   ]
  },
  {
   "cell_type": "code",
   "execution_count": null,
   "metadata": {},
   "outputs": [],
   "source": [
    "# Guardamos el path del mapa de España con las comunidades\n",
    "PATH_MAPA = './data/mapas/gadm36_ESP_1.shx'\n",
    "\n",
    "# Cargamos el fichero\n",
    "espania = gpd.read_file(PATH_MAPA, encoding='utf-8')"
   ]
  },
  {
   "cell_type": "code",
   "execution_count": null,
   "metadata": {},
   "outputs": [
    {
     "data": {
      "text/html": [
       "<div>\n",
       "<style scoped>\n",
       "    .dataframe tbody tr th:only-of-type {\n",
       "        vertical-align: middle;\n",
       "    }\n",
       "\n",
       "    .dataframe tbody tr th {\n",
       "        vertical-align: top;\n",
       "    }\n",
       "\n",
       "    .dataframe thead th {\n",
       "        text-align: right;\n",
       "    }\n",
       "</style>\n",
       "<table border=\"1\" class=\"dataframe\">\n",
       "  <thead>\n",
       "    <tr style=\"text-align: right;\">\n",
       "      <th></th>\n",
       "      <th>GID_0</th>\n",
       "      <th>NAME_0</th>\n",
       "      <th>GID_1</th>\n",
       "      <th>NAME_1</th>\n",
       "      <th>VARNAME_1</th>\n",
       "      <th>NL_NAME_1</th>\n",
       "      <th>TYPE_1</th>\n",
       "      <th>ENGTYPE_1</th>\n",
       "      <th>CC_1</th>\n",
       "      <th>HASC_1</th>\n",
       "      <th>geometry</th>\n",
       "    </tr>\n",
       "  </thead>\n",
       "  <tbody>\n",
       "    <tr>\n",
       "      <th>0</th>\n",
       "      <td>ESP</td>\n",
       "      <td>Spain</td>\n",
       "      <td>ESP.1_1</td>\n",
       "      <td>Andalucía</td>\n",
       "      <td>Andalousie|Andaluc¡a|Andalusien|Andaluzia</td>\n",
       "      <td>None</td>\n",
       "      <td>Comunidad Autónoma</td>\n",
       "      <td>Autonomous Community</td>\n",
       "      <td>01</td>\n",
       "      <td>ES.AN</td>\n",
       "      <td>MULTIPOLYGON (((-3.03042 35.94236, -3.03042 35...</td>\n",
       "    </tr>\n",
       "    <tr>\n",
       "      <th>1</th>\n",
       "      <td>ESP</td>\n",
       "      <td>Spain</td>\n",
       "      <td>ESP.2_1</td>\n",
       "      <td>Aragón</td>\n",
       "      <td>Aragão|Aragó|Aragón|Aragona|Aragonien</td>\n",
       "      <td>None</td>\n",
       "      <td>Comunidad Autónoma</td>\n",
       "      <td>Autonomous Community</td>\n",
       "      <td>15</td>\n",
       "      <td>ES.AR</td>\n",
       "      <td>POLYGON ((0.02648 40.69497, 0.02688 40.70039, ...</td>\n",
       "    </tr>\n",
       "    <tr>\n",
       "      <th>2</th>\n",
       "      <td>ESP</td>\n",
       "      <td>Spain</td>\n",
       "      <td>ESP.3_1</td>\n",
       "      <td>Cantabria</td>\n",
       "      <td>Cantàbria|Cantábria|Cantabrie|Kantabrien</td>\n",
       "      <td>None</td>\n",
       "      <td>Comunidad Autónoma</td>\n",
       "      <td>Autonomous Community</td>\n",
       "      <td>06</td>\n",
       "      <td>ES.CB</td>\n",
       "      <td>MULTIPOLYGON (((-3.90653 43.47792, -3.90653 43...</td>\n",
       "    </tr>\n",
       "    <tr>\n",
       "      <th>3</th>\n",
       "      <td>ESP</td>\n",
       "      <td>Spain</td>\n",
       "      <td>ESP.4_1</td>\n",
       "      <td>Castilla-La Mancha</td>\n",
       "      <td>Castela-La Mancha|Castela-Mancha|Castella-la M...</td>\n",
       "      <td>None</td>\n",
       "      <td>Comunidad Autónoma</td>\n",
       "      <td>Autonomous Community</td>\n",
       "      <td>08</td>\n",
       "      <td>ES.CM</td>\n",
       "      <td>MULTIPOLYGON (((-3.37095 40.62496, -3.38198 40...</td>\n",
       "    </tr>\n",
       "    <tr>\n",
       "      <th>4</th>\n",
       "      <td>ESP</td>\n",
       "      <td>Spain</td>\n",
       "      <td>ESP.5_1</td>\n",
       "      <td>Castilla y León</td>\n",
       "      <td>Castile and Leon|Castela e Leão|Castella i Lle...</td>\n",
       "      <td>None</td>\n",
       "      <td>Comunidad Autónoma</td>\n",
       "      <td>Autonomous Community</td>\n",
       "      <td>07</td>\n",
       "      <td>ES.CL</td>\n",
       "      <td>MULTIPOLYGON (((-4.08899 42.79987, -4.10097 42...</td>\n",
       "    </tr>\n",
       "  </tbody>\n",
       "</table>\n",
       "</div>"
      ],
      "text/plain": [
       "  GID_0 NAME_0    GID_1              NAME_1  \\\n",
       "0   ESP  Spain  ESP.1_1           Andalucía   \n",
       "1   ESP  Spain  ESP.2_1              Aragón   \n",
       "2   ESP  Spain  ESP.3_1           Cantabria   \n",
       "3   ESP  Spain  ESP.4_1  Castilla-La Mancha   \n",
       "4   ESP  Spain  ESP.5_1     Castilla y León   \n",
       "\n",
       "                                           VARNAME_1 NL_NAME_1  \\\n",
       "0          Andalousie|Andaluc¡a|Andalusien|Andaluzia      None   \n",
       "1              Aragão|Aragó|Aragón|Aragona|Aragonien      None   \n",
       "2           Cantàbria|Cantábria|Cantabrie|Kantabrien      None   \n",
       "3  Castela-La Mancha|Castela-Mancha|Castella-la M...      None   \n",
       "4  Castile and Leon|Castela e Leão|Castella i Lle...      None   \n",
       "\n",
       "               TYPE_1             ENGTYPE_1 CC_1 HASC_1  \\\n",
       "0  Comunidad Autónoma  Autonomous Community   01  ES.AN   \n",
       "1  Comunidad Autónoma  Autonomous Community   15  ES.AR   \n",
       "2  Comunidad Autónoma  Autonomous Community   06  ES.CB   \n",
       "3  Comunidad Autónoma  Autonomous Community   08  ES.CM   \n",
       "4  Comunidad Autónoma  Autonomous Community   07  ES.CL   \n",
       "\n",
       "                                            geometry  \n",
       "0  MULTIPOLYGON (((-3.03042 35.94236, -3.03042 35...  \n",
       "1  POLYGON ((0.02648 40.69497, 0.02688 40.70039, ...  \n",
       "2  MULTIPOLYGON (((-3.90653 43.47792, -3.90653 43...  \n",
       "3  MULTIPOLYGON (((-3.37095 40.62496, -3.38198 40...  \n",
       "4  MULTIPOLYGON (((-4.08899 42.79987, -4.10097 42...  "
      ]
     },
     "execution_count": 42,
     "metadata": {},
     "output_type": "execute_result"
    }
   ],
   "source": [
    "# Mostramos el aspecto que tiene\n",
    "espania.head()"
   ]
  },
  {
   "cell_type": "code",
   "execution_count": null,
   "metadata": {},
   "outputs": [],
   "source": [
    "# Ajustamos el nombre de las comunidades con el de nuestro dataframe para hacer el merge\n",
    "espania['NAME_1'] = np.where(espania['NAME_1']=='Andalucía','Andalucia',espania['NAME_1'])\n",
    "espania['NAME_1'] = np.where(espania['NAME_1']=='Aragón','Aragon',espania['NAME_1'])\n",
    "espania['NAME_1'] = np.where(espania['NAME_1']=='Castilla-La Mancha','Castilla_La_Mancha',espania['NAME_1'])\n",
    "espania['NAME_1'] = np.where(espania['NAME_1']=='Castilla y León','Castilla_y_Leon',espania['NAME_1'])\n",
    "espania['NAME_1'] = np.where(espania['NAME_1']=='Cataluña','Catalunya',espania['NAME_1'])\n",
    "espania['NAME_1'] = np.where(espania['NAME_1']=='Ceuta y Melilla','Ceuta_y_Melilla',espania['NAME_1'])\n",
    "espania['NAME_1'] = np.where(espania['NAME_1']=='Comunidad de Madrid','Madrid',espania['NAME_1'])\n",
    "espania['NAME_1'] = np.where(espania['NAME_1']=='Comunidad Foral de Navarra','Navarra',espania['NAME_1'])\n",
    "espania['NAME_1'] = np.where(espania['NAME_1']=='Comunidad Valenciana','C_Valenciana',espania['NAME_1'])\n",
    "espania['NAME_1'] = np.where(espania['NAME_1']=='Islas Baleares','Baleares',espania['NAME_1'])\n",
    "espania['NAME_1'] = np.where(espania['NAME_1']=='Islas Canarias','Canarias',espania['NAME_1'])\n",
    "espania['NAME_1'] = np.where(espania['NAME_1']=='La Rioja','La_Rioja',espania['NAME_1'])\n",
    "espania['NAME_1'] = np.where(espania['NAME_1']=='País Vasco','Pais_Vasco',espania['NAME_1'])\n",
    "espania['NAME_1'] = np.where(espania['NAME_1']=='Principado de Asturias','Asturias',espania['NAME_1'])\n",
    "espania['NAME_1'] = np.where(espania['NAME_1']=='Región de Murcia','Murcia',espania['NAME_1'])"
   ]
  },
  {
   "cell_type": "code",
   "execution_count": null,
   "metadata": {},
   "outputs": [],
   "source": [
    "# Seleccionamos las comunidades y el grupo que nos ha asignado el algoritmo de clustering\n",
    "df_aux = df_clustering.reset_index()[['COMUNIDAD', 'GRUPO']]\n",
    "\n",
    "# Unimos los dos dataframe\n",
    "espania = espania.merge(df_aux, left_on=['NAME_1'], right_on=['COMUNIDAD'], how='left')\n",
    "\n",
    "# Por temas de visualización eliminamos Canarias\n",
    "espania.drop(13, inplace=True)"
   ]
  },
  {
   "cell_type": "markdown",
   "metadata": {},
   "source": [
    "### Resultado de la agrupación"
   ]
  },
  {
   "cell_type": "code",
   "execution_count": null,
   "metadata": {},
   "outputs": [
    {
     "data": {
      "image/png": "[encoded data removed]",
      "text/plain": [
       "<Figure size 1440x1440 with 1 Axes>"
      ]
     },
     "metadata": {
      "needs_background": "light"
     },
     "output_type": "display_data"
    }
   ],
   "source": [
    "plt.rcParams[\"figure.figsize\"]=20,20\n",
    "my_map = espania.plot(column=\"GRUPO\", linewidth=1, cmap=\"summer\", k=8, alpha=0.7)"
   ]
  },
  {
   "cell_type": "markdown",
   "metadata": {},
   "source": [
    "Cómo podemos observar, aunque indicamos 4 cluster, Canarias quedó en un cluster separado, de ahí que solo veamos 3 grupos.\n",
    "\n",
    "Según nuestro modelo, parece ser que la alimentación en la zona norte y este de España varía del resto de españa."
   ]
  },
  {
   "cell_type": "markdown",
   "metadata": {},
   "source": []
  }
 ],
 "metadata": {
  "interpreter": {
   "hash": "40d3a090f54c6569ab1632332b64b2c03c39dcf918b08424e98f38b5ae0af88f"
  },
  "kernelspec": {
   "display_name": "Python 3.9.7 ('base')",
   "language": "python",
   "name": "python3"
  },
  "language_info": {
   "codemirror_mode": {
    "name": "ipython",
    "version": 3
   },
   "file_extension": ".py",
   "mimetype": "text/x-python",
   "name": "python",
   "nbconvert_exporter": "python",
   "pygments_lexer": "ipython3",
   "version": "3.9.7"
  },
  "orig_nbformat": 4
 },
 "nbformat": 4,
 "nbformat_minor": 2
}
